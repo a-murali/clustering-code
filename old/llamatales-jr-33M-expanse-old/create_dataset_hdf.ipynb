{
 "cells": [
  {
   "cell_type": "code",
   "execution_count": null,
   "id": "384e6608",
   "metadata": {},
   "outputs": [
    {
     "name": "stdout",
     "output_type": "stream",
     "text": [
      "Token will not been saved to git credential helper. Pass `add_to_git_credential=True` if you want to set the git credential as well.\n",
      "Token is valid (permission: read).\n",
      "Your token has been saved to /home/a3murali/.cache/huggingface/token\n",
      "Login successful\n",
      "PyTorch Version: 1.13.0a0+d321be6\n",
      "Transformers Version: 4.35.0\n"
     ]
    },
    {
     "name": "stderr",
     "output_type": "stream",
     "text": [
      "Special tokens have been added in the vocabulary, make sure the associated word embeddings are fine-tuned or trained.\n",
      "Special tokens have been added in the vocabulary, make sure the associated word embeddings are fine-tuned or trained.\n",
      "Setting `pad_token_id` to `eos_token_id`:128009 for open-end generation.\n"
     ]
    },
    {
     "name": "stdout",
     "output_type": "stream",
     "text": [
      "Once upon a time there was a dragon named Scorch. Scorch was a very friendly dragon. He lived in a cave with his best friend, a little rabbit named Lily. One day, Lily and Scorch were playing outside when a big storm came. The wind was blowing hard, and the thunder was loud.\n",
      "\n",
      "Scorch wanted to help Lily. So he breathed a big fire to make the storm go away. But the fire was so big that it started to burn Lily's house! Scorch thought, \"I must do something.\" He remembered that he could use his fire to warm up the fireplace. He roared loudly to get a grown-up who was nearby. The grown-up quickly got some water and put out the fire.\n",
      "\n",
      "Lily was so happy that her house was safe again. The storm went away, and the sun came out. Lily hugged Scorch and said, \"Thank you, dear Scorch. You are the best dragon ever!\" Scorch smiled, and they both played in the sunshine. From that day on, Lily learned that even when things seem bad, we can make them better with our help from our friends.\n"
     ]
    },
    {
     "name": "stderr",
     "output_type": "stream",
     "text": [
      "Special tokens have been added in the vocabulary, make sure the associated word embeddings are fine-tuned or trained.\n",
      "Setting `pad_token_id` to `eos_token_id`:128009 for open-end generation.\n"
     ]
    },
    {
     "name": "stdout",
     "output_type": "stream",
     "text": [
      "512\n",
      "9\n",
      "1\n",
      "233\n",
      "512\n",
      "Once upon a time there was a princess. She lived in a big castle with a moat all around it. One day, she got a big, bad idea. She wanted to make the moat a big mud castle.\n",
      "\n",
      "She picked flowers and rocks and started to build the mud castle. She thought it would be fun. But then, she met a friendly fish who said, \"Hello, princess! I can help you build a castle.\"\n",
      "\n",
      "The princess trusted the fish, so she gave him a big bucket of water. The fish swam up to the bucket and started to dig in the mud. But, he knocked the bucket over, and all the water spilled out! The princess was very sad. She said, \"Oh no! Now the water is gone, and I don't have enough!\"\n",
      "\n",
      "The fish said, \"It's okay, princess. I didn't mean to spill the water. But you should have been more careful.\" The princess felt a little better, but she was still sad. She realized she should have been more careful with the water.\n",
      "\n",
      "The princess was left with mud and a broken bucket, a big problem. She learned that sometimes, not doing what we want can cause big problems. The fish swam away, but he left the princess alone, looking very sad.\n"
     ]
    },
    {
     "name": "stderr",
     "output_type": "stream",
     "text": [
      "Special tokens have been added in the vocabulary, make sure the associated word embeddings are fine-tuned or trained.\n",
      "Setting `pad_token_id` to `eos_token_id`:128009 for open-end generation.\n"
     ]
    },
    {
     "name": "stdout",
     "output_type": "stream",
     "text": [
      "512\n",
      "9\n",
      "1\n",
      "264\n",
      "512\n",
      "Once upon a time there were two children named Timmy and Emma. They lived in a small village together. Timmy and Emma loved to play outside. One day, they decided to go for a run. They ran as fast as they could, but they didn't watch where they were going.\n",
      "\n",
      "The ground was slippery. Timmy fell down and hurt his knee. Emma helped him up, but Timmy was sad and wanted to go home. Emma said, \"Don't be sad, Timmy. We will play again when you are better.\" Timmy thought Emma was right, so they kept walking.\n",
      "\n",
      "When they arrived home, Timmy's mom gave him a big hug and some ice for his boo-boo. Timmy was happy, but then he started to feel bad again. He wanted to go back and play with Emma, but she didn't want to. Timmy wanted to run again, but his knee hurt too much.\n",
      "\n",
      "Emma went to get some ice to help Timmy's boo-boo. But when she came back, a big wind came and knocked over the ice bucket, spilling ice all over the sidewalk. Now Timmy's knee was even more sore. He felt sad and didn't want to play anymore.\n"
     ]
    },
    {
     "name": "stderr",
     "output_type": "stream",
     "text": [
      "Special tokens have been added in the vocabulary, make sure the associated word embeddings are fine-tuned or trained.\n",
      "Setting `pad_token_id` to `eos_token_id`:128009 for open-end generation.\n"
     ]
    },
    {
     "name": "stdout",
     "output_type": "stream",
     "text": [
      "512\n",
      "9\n",
      "1\n",
      "253\n",
      "512\n",
      "Once upon a time there was a prince. He lived in a big castle with a very tall tower. One sunny day, while he was playing outside, he saw a little bird. The bird was hurt and could not fly.\n",
      "\n",
      "The prince felt sad and wanted to help the bird. He picked a big bouquet of flowers and took them to the bird. He thought, \"I will give you flowers to make you feel better.\" But, to the prince's surprise, the bird got angry. It flapped its wings and said, \"Go away! I don't need flowers!\" The prince was sad, but he kept giving the flowers to the bird.\n",
      "\n",
      "The prince didn't know what to do. He thought the bird might hurt him. The bird got angrier and angrier. Suddenly, it flapped its wings again and said, \"I will not let you help me!\" and flew away, leaving the prince with his sad heart.\n",
      "\n",
      "The prince was sad and alone. He sat down near the castle wall and cried. He wished he could make the bird feel better. But it was already starting to fade away. The prince went back home and put the flowers away. He never saw the bird again.\n",
      "\n",
      "The next day, the prince decided to try something new. He made a new flower pot from old flowers and put it by the bird's home. But the bird never came back. The prince was very sad, and the bird would still fly away.\n"
     ]
    },
    {
     "name": "stderr",
     "output_type": "stream",
     "text": [
      "Special tokens have been added in the vocabulary, make sure the associated word embeddings are fine-tuned or trained.\n",
      "Setting `pad_token_id` to `eos_token_id`:128009 for open-end generation.\n"
     ]
    },
    {
     "name": "stdout",
     "output_type": "stream",
     "text": [
      "512\n",
      "9\n",
      "1\n",
      "296\n",
      "512\n",
      "Once upon a time there was a frog named Freddy. Freddy loved to play outside in the sunshine. One day, he found a beautiful garden full of colorful flowers. Freddy saw a big, bright lily floating on a small pond. He wanted to play with the lily, so he swam to take a closer look.\n",
      "\n",
      "As he swam, Freddy met a kind squirrel named Squeaky. Squeaky was busy collecting nuts for his friends. Freddy wanted to play with the squirrel, but Squeaky said, \"No, I'm busy gathering nuts for my nest.\" Freddy was sad, but then he thought, \"What can I do instead?\" He remembered a game he liked to play.\n",
      "\n",
      "Freddy said to himself, \"I'll be a good friend and help Squeaky collect more nuts.\" Freddy and Squeaky worked together, throwing nuts in the water. They were both happy, and their bellies were full. They learned a new lesson: when we help our friends, they feel happy too. \n",
      "\n",
      "Just then, a big storm came, and the water in the pond started to rise. The water was going to overflow, and the pond was going to flood! Freddy quickly swam up to Squeaky and said, \"We need to help each other!\" Croaky, Squeaky, and the pond swam together and used their strong swimming skills to hold the water back in. They were all very helpful.\n",
      "\n",
      "In the end, the garden was safe, and the flowers were safe. Freddy learned that helping others can make everyone happy, and Squeaky was grateful for his new friend. The garden was happy and green again, and all the animals learned to always lend a helping hand.\n"
     ]
    },
    {
     "name": "stderr",
     "output_type": "stream",
     "text": [
      "Special tokens have been added in the vocabulary, make sure the associated word embeddings are fine-tuned or trained.\n",
      "Setting `pad_token_id` to `eos_token_id`:128009 for open-end generation.\n"
     ]
    },
    {
     "name": "stdout",
     "output_type": "stream",
     "text": [
      "512\n",
      "9\n",
      "1\n",
      "352\n",
      "512\n",
      "Once upon a time there was a king. The king loved to play in the garden. One day, he found a special toy, a magnet, that was hidden behind a flower. The king was very happy to see it.\n",
      "\n",
      "\"Wow!\" said the king. \"This magnet is magic!\" Just then, a tiny bird flew down. \"Hello, king,\" said the bird. \"I am Sam. This magnet is special. It makes things stick together.\" The king was amazed.\n",
      "\n",
      "Sam said, \"Let's use the magnet on something special. We can make a big, long line on the tree!\" The king and Sam used the magnet to pick up some sticks, and the ruler, a little bird, made a tiny bridge. \"Yay! It's so cool!\" said the king. \"Let's make a special treat,\" said the king.\n",
      "\n",
      "Sam and the king worked together. They made a special treat with the magnet. The treat was for Sam and the king. \"Yum! This is the best snack ever!\" said Sam. The king smiled and said, \"I'm glad you like it.\" Sam said, \"Thank you, king. I love the magnet and the stick bridge!\"\n",
      "\n",
      "The king played with the magnet all day. He made the most fun things and made his friend Sam happy. The end.\n"
     ]
    },
    {
     "name": "stderr",
     "output_type": "stream",
     "text": [
      "Special tokens have been added in the vocabulary, make sure the associated word embeddings are fine-tuned or trained.\n",
      "Setting `pad_token_id` to `eos_token_id`:128009 for open-end generation.\n"
     ]
    },
    {
     "name": "stdout",
     "output_type": "stream",
     "text": [
      "512\n",
      "9\n",
      "1\n",
      "271\n",
      "512\n",
      "Once upon a time there was a queen named Queen Emma. She ruled over a happy land where everyone loved flowers. One sunny day, she decided to go on a fun adventure. She packed a little bag with a sandwich, a drink, and a big smile.\n",
      "\n",
      "As she walked through the forest, she came to a big tree with a sign that said \"Danger: Do not go behind.\" But the queen thought, \"I'm a brave queen. Nothing will happen.\" She climbed the tree and pushed a small door open. Inside, she found a cozy little room with a sign that said \"Welcome to the Fairy Kingdom\".\n",
      "\n",
      "\"Wow!\" Queen Emma said to herself. \"A fairy kingdom? That's amazing!\" She met the fairy. She was small and kind, and had sparkly wings. \"Hello there, Your Majesty,\" said the fairy. \"My name is Fairy Sparkles. I've been waiting for you.\" Suddenly, a big noise came from behind Grandma. It was a loud thunderstorm. The queen and Fairy Sparkles had to find a safe place to go.\n",
      "\n",
      "\"We can go to the cave,\" said the queen. \"It's safe and dry inside.\" The fairy and the queen went to the cave. It was a cozy place with soft moss and colorful flowers. The storm raged outside, but the princess and the fairy were inside, safe and sound. The fairy hugged the queen and said, \"Thank you for being brave and finding me this secret place.\"\n"
     ]
    },
    {
     "name": "stderr",
     "output_type": "stream",
     "text": [
      "Special tokens have been added in the vocabulary, make sure the associated word embeddings are fine-tuned or trained.\n",
      "Setting `pad_token_id` to `eos_token_id`:128009 for open-end generation.\n"
     ]
    },
    {
     "name": "stdout",
     "output_type": "stream",
     "text": [
      "512\n",
      "9\n",
      "1\n",
      "301\n",
      "512\n",
      "Once upon a time there was a wolf named Rufus. He loved to play outside in the sunshine. One day, while he was playing, he saw a little bug. The bug's name was Max. Max was so small and fast. Rufus wanted to catch Max.\n",
      "\n",
      "Rufus was very fast too. He ran around the trees and around the flowers. He said, \"Ha ha, I'm going to catch you, Max!\" But Rufus was too quick. He jumped high into the air and caught something. Max was so surprised.\n",
      "\n",
      "Max looked at Rufus and said, \"Wow, I thought you were going to grab me!\" Rufus was sad. He thought, \"Why did my friend get caught?\" Max said, \"Because you tried to catch me first!\" Rufus was happy to hear that. He didn't want to hurt Max.\n",
      "\n",
      "Now, Rufus and Max played together all day. They ran, jumped, and laughed. Max was not a scary bug anymore because Rufus was his new friend. And Rufus didn't want to scare Max. He was harmless and kind. And they both had fun together.\n",
      "\n",
      "The two friends were happy to play together. They knew that friends should play together, not fight or fight. They liked each other, and that's exactly what Max and Rufus wanted to do. The end.\n"
     ]
    },
    {
     "name": "stderr",
     "output_type": "stream",
     "text": [
      "Special tokens have been added in the vocabulary, make sure the associated word embeddings are fine-tuned or trained.\n",
      "Setting `pad_token_id` to `eos_token_id`:128009 for open-end generation.\n"
     ]
    },
    {
     "name": "stdout",
     "output_type": "stream",
     "text": [
      "512\n",
      "9\n",
      "1\n",
      "277\n",
      "512\n",
      "Once upon a time there was a genie who lived in a beautiful palace. The palace had a big room with a big window where you could see the ocean. A prince named Timmy lived in the palace. He loved to swim and swim in the ocean.\n",
      "\n",
      "One day, the palace door creaked and swung open by itself. Inside, a big wave came crashing into the room and made it slippery. Timmy fell down and slipped on the wet floor. He cried out loud, \"Oh no! My palace door is broken! What will happen now?\"\n",
      "\n",
      "Just then, a wise fish swam up to Timmy and said, \"Don't worry, Prince Timmy. I will help you fix the door.\" The fish swam away, and Timmy followed him. They found a big piece of the door and used glue to fix it. When they finished, the door creaked again, but this time it opened wide. Timmy was overjoyed! But just as he was going to go to sleep that night, he heard a strange noise coming from inside. Out came a big, friendly whale! The whale said, \"Hello, Prince Timmy! I'm so glad I met you. I was stuck inside, but the door was stuck. You and your new friend helped me get out!\"\n"
     ]
    },
    {
     "name": "stderr",
     "output_type": "stream",
     "text": [
      "Special tokens have been added in the vocabulary, make sure the associated word embeddings are fine-tuned or trained.\n",
      "Setting `pad_token_id` to `eos_token_id`:128009 for open-end generation.\n"
     ]
    },
    {
     "name": "stdout",
     "output_type": "stream",
     "text": [
      "512\n",
      "9\n",
      "1\n",
      "268\n",
      "512\n",
      "Once upon a time there was a poor boy named Timmy. He had a very small dog named Max. They lived on a big ranch where they could run and play every day.\n",
      "\n",
      "One sunny day, while Timmy was playing, a strong wind came and blew Max's hat off his head. Max was very sad because he loved his red hat and was trying to get it back. Timmy tried to help him, but the wind was blowing too hard for him to hold onto the hat. Then, a friendly horse came by and gently took the hat from Max.\n",
      "\n",
      "But, to Timmy's surprise, the friendly horse was actually a magician! He was making things disappear and reappear on the hat! Timmy gasped in amazement. The magician said, \"This hat was special. It can make anyone or anything happen when it rains or blows.\" Timmy was so happy to see this. The magician gave Max a special prize, a special collar with a bell on it, so Max could wear the hat whenever he wanted.\n",
      "\n",
      "But that was not all. When Timmy and Max went home, the sun was still shining, and everything seemed very happy. Max's hat was back on him, and he was dancing with happiness. Timmy knew he had found a new friend, and they had a fun day together.\n"
     ]
    },
    {
     "name": "stderr",
     "output_type": "stream",
     "text": [
      "Special tokens have been added in the vocabulary, make sure the associated word embeddings are fine-tuned or trained.\n"
     ]
    },
    {
     "name": "stdout",
     "output_type": "stream",
     "text": [
      "512\n",
      "9\n",
      "1\n",
      "271\n",
      "512\n"
     ]
    },
    {
     "data": {
      "text/html": [
       "<div>\n",
       "<style scoped>\n",
       "    .dataframe tbody tr th:only-of-type {\n",
       "        vertical-align: middle;\n",
       "    }\n",
       "\n",
       "    .dataframe tbody tr th {\n",
       "        vertical-align: top;\n",
       "    }\n",
       "\n",
       "    .dataframe thead th {\n",
       "        text-align: right;\n",
       "    }\n",
       "</style>\n",
       "<table border=\"1\" class=\"dataframe\">\n",
       "  <thead>\n",
       "    <tr style=\"text-align: right;\">\n",
       "      <th></th>\n",
       "      <th>prompt</th>\n",
       "      <th>story</th>\n",
       "      <th>hidden_states</th>\n",
       "      <th>output_token_prompt_id</th>\n",
       "    </tr>\n",
       "  </thead>\n",
       "  <tbody>\n",
       "    <tr>\n",
       "      <th>0</th>\n",
       "      <td>Once upon a time there was a dragon</td>\n",
       "      <td>Once upon a time there was a dragon named Scor...</td>\n",
       "      <td>[[[[[-0.00981658 -0.01614933 -0.0005933  ... -...</td>\n",
       "      <td>[1, 1, 1, 1, 1, 1, 1, 1, 1, 1, 1, 1, 1, 1, 1, ...</td>\n",
       "    </tr>\n",
       "    <tr>\n",
       "      <th>1</th>\n",
       "      <td>Once upon a time there was a princess</td>\n",
       "      <td>Once upon a time there was a princess. She liv...</td>\n",
       "      <td>[[[[[-0.03631564 -0.00093168  0.00519177 ... -...</td>\n",
       "      <td>[2, 2, 2, 2, 2, 2, 2, 2, 2, 2, 2, 2, 2, 2, 2, ...</td>\n",
       "    </tr>\n",
       "    <tr>\n",
       "      <th>2</th>\n",
       "      <td>Once upon a time there were two children</td>\n",
       "      <td>Once upon a time there were two children named...</td>\n",
       "      <td>[[[[[ 0.02472341 -0.01180643 -0.00662811 ...  ...</td>\n",
       "      <td>[3, 3, 3, 3, 3, 3, 3, 3, 3, 3, 3, 3, 3, 3, 3, ...</td>\n",
       "    </tr>\n",
       "    <tr>\n",
       "      <th>3</th>\n",
       "      <td>Once upon a time there was a prince</td>\n",
       "      <td>Once upon a time there was a prince. He lived ...</td>\n",
       "      <td>[[[[[-4.4862102e-03  2.6884653e-02 -1.3762116e...</td>\n",
       "      <td>[4, 4, 4, 4, 4, 4, 4, 4, 4, 4, 4, 4, 4, 4, 4, ...</td>\n",
       "    </tr>\n",
       "    <tr>\n",
       "      <th>4</th>\n",
       "      <td>Once upon a time there was a frog</td>\n",
       "      <td>Once upon a time there was a frog named Freddy...</td>\n",
       "      <td>[[[[[-0.02513336 -0.00119402  0.00494934 ...  ...</td>\n",
       "      <td>[5, 5, 5, 5, 5, 5, 5, 5, 5, 5, 5, 5, 5, 5, 5, ...</td>\n",
       "    </tr>\n",
       "    <tr>\n",
       "      <th>5</th>\n",
       "      <td>Once upon a time there was a king</td>\n",
       "      <td>Once upon a time there was a king. The king lo...</td>\n",
       "      <td>[[[[[-4.24982794e-03  1.36922384e-02  1.602065...</td>\n",
       "      <td>[6, 6, 6, 6, 6, 6, 6, 6, 6, 6, 6, 6, 6, 6, 6, ...</td>\n",
       "    </tr>\n",
       "    <tr>\n",
       "      <th>6</th>\n",
       "      <td>Once upon a time there was a queen</td>\n",
       "      <td>Once upon a time there was a queen named Queen...</td>\n",
       "      <td>[[[[[ 0.01051055  0.00664904 -0.00644722 ...  ...</td>\n",
       "      <td>[7, 7, 7, 7, 7, 7, 7, 7, 7, 7, 7, 7, 7, 7, 7, ...</td>\n",
       "    </tr>\n",
       "    <tr>\n",
       "      <th>7</th>\n",
       "      <td>Once upon a time there was a wolf</td>\n",
       "      <td>Once upon a time there was a wolf named Rufus....</td>\n",
       "      <td>[[[[[ 0.01185705  0.00195181 -0.02484797 ...  ...</td>\n",
       "      <td>[8, 8, 8, 8, 8, 8, 8, 8, 8, 8, 8, 8, 8, 8, 8, ...</td>\n",
       "    </tr>\n",
       "    <tr>\n",
       "      <th>8</th>\n",
       "      <td>Once upon a time there was a genie</td>\n",
       "      <td>Once upon a time there was a genie who lived i...</td>\n",
       "      <td>[[[[[ 0.00185348  0.01174646 -0.02049438 ... -...</td>\n",
       "      <td>[9, 9, 9, 9, 9, 9, 9, 9, 9, 9, 9, 9, 9, 9, 9, ...</td>\n",
       "    </tr>\n",
       "    <tr>\n",
       "      <th>9</th>\n",
       "      <td>Once upon a time there was a poor boy</td>\n",
       "      <td>Once upon a time there was a poor boy named Ti...</td>\n",
       "      <td>[[[[[ 0.0211226   0.00415412  0.01156262 ...  ...</td>\n",
       "      <td>[10, 10, 10, 10, 10, 10, 10, 10, 10, 10, 10, 1...</td>\n",
       "    </tr>\n",
       "  </tbody>\n",
       "</table>\n",
       "</div>"
      ],
      "text/plain": [
       "                                     prompt  \\\n",
       "0       Once upon a time there was a dragon   \n",
       "1     Once upon a time there was a princess   \n",
       "2  Once upon a time there were two children   \n",
       "3       Once upon a time there was a prince   \n",
       "4         Once upon a time there was a frog   \n",
       "5         Once upon a time there was a king   \n",
       "6        Once upon a time there was a queen   \n",
       "7         Once upon a time there was a wolf   \n",
       "8        Once upon a time there was a genie   \n",
       "9     Once upon a time there was a poor boy   \n",
       "\n",
       "                                               story  \\\n",
       "0  Once upon a time there was a dragon named Scor...   \n",
       "1  Once upon a time there was a princess. She liv...   \n",
       "2  Once upon a time there were two children named...   \n",
       "3  Once upon a time there was a prince. He lived ...   \n",
       "4  Once upon a time there was a frog named Freddy...   \n",
       "5  Once upon a time there was a king. The king lo...   \n",
       "6  Once upon a time there was a queen named Queen...   \n",
       "7  Once upon a time there was a wolf named Rufus....   \n",
       "8  Once upon a time there was a genie who lived i...   \n",
       "9  Once upon a time there was a poor boy named Ti...   \n",
       "\n",
       "                                       hidden_states  \\\n",
       "0  [[[[[-0.00981658 -0.01614933 -0.0005933  ... -...   \n",
       "1  [[[[[-0.03631564 -0.00093168  0.00519177 ... -...   \n",
       "2  [[[[[ 0.02472341 -0.01180643 -0.00662811 ...  ...   \n",
       "3  [[[[[-4.4862102e-03  2.6884653e-02 -1.3762116e...   \n",
       "4  [[[[[-0.02513336 -0.00119402  0.00494934 ...  ...   \n",
       "5  [[[[[-4.24982794e-03  1.36922384e-02  1.602065...   \n",
       "6  [[[[[ 0.01051055  0.00664904 -0.00644722 ...  ...   \n",
       "7  [[[[[ 0.01185705  0.00195181 -0.02484797 ...  ...   \n",
       "8  [[[[[ 0.00185348  0.01174646 -0.02049438 ... -...   \n",
       "9  [[[[[ 0.0211226   0.00415412  0.01156262 ...  ...   \n",
       "\n",
       "                              output_token_prompt_id  \n",
       "0  [1, 1, 1, 1, 1, 1, 1, 1, 1, 1, 1, 1, 1, 1, 1, ...  \n",
       "1  [2, 2, 2, 2, 2, 2, 2, 2, 2, 2, 2, 2, 2, 2, 2, ...  \n",
       "2  [3, 3, 3, 3, 3, 3, 3, 3, 3, 3, 3, 3, 3, 3, 3, ...  \n",
       "3  [4, 4, 4, 4, 4, 4, 4, 4, 4, 4, 4, 4, 4, 4, 4, ...  \n",
       "4  [5, 5, 5, 5, 5, 5, 5, 5, 5, 5, 5, 5, 5, 5, 5, ...  \n",
       "5  [6, 6, 6, 6, 6, 6, 6, 6, 6, 6, 6, 6, 6, 6, 6, ...  \n",
       "6  [7, 7, 7, 7, 7, 7, 7, 7, 7, 7, 7, 7, 7, 7, 7, ...  \n",
       "7  [8, 8, 8, 8, 8, 8, 8, 8, 8, 8, 8, 8, 8, 8, 8, ...  \n",
       "8  [9, 9, 9, 9, 9, 9, 9, 9, 9, 9, 9, 9, 9, 9, 9, ...  \n",
       "9  [10, 10, 10, 10, 10, 10, 10, 10, 10, 10, 10, 1...  "
      ]
     },
     "execution_count": 3,
     "metadata": {},
     "output_type": "execute_result"
    }
   ],
   "source": [
    "import os\n",
    "os.environ['TRANSFORMERS_CACHE'] = '/expanse/lustre/projects/csd819/a3murali/cache/'\n",
    "\n",
    "from huggingface_hub import login\n",
    "login(token = \"<hf_token>\")\n",
    "\n",
    "import transformers\n",
    "import torch\n",
    "\n",
    "import csv\n",
    "import numpy as np\n",
    "import pandas as pd\n",
    "\n",
    "print(f\"PyTorch Version: {torch.__version__}\")\n",
    "print(f\"Transformers Version: {transformers.__version__}\")\n",
    "\n",
    "from transformers import AutoConfig, AutoModel, AutoTokenizer, AutoModelForCausalLM, pipeline, LlamaForCausalLM\n",
    "\n",
    "model = \"ivnle/llamatales_jr_8b-lay8-hs512-hd8-33M\"\n",
    "tokenizer = AutoTokenizer.from_pretrained(model)\n",
    "\n",
    "\n",
    "llamatales_pipeline = pipeline(\"text-generation\", model = model, device = \"cuda\")\n",
    "\n",
    "prompts = {\n",
    "    1: \"Once upon a time there was a dragon\", \n",
    "    2: \"Once upon a time there was a princess\", \n",
    "    3: \"Once upon a time there were two children\",\n",
    "    4: \"Once upon a time there was a prince\",\n",
    "    5: \"Once upon a time there was a frog\",\n",
    "    6: \"Once upon a time there was a king\",\n",
    "    7: \"Once upon a time there was a queen\",\n",
    "    8: \"Once upon a time there was a wolf\",\n",
    "    9: \"Once upon a time there was a genie\",\n",
    "    10: \"Once upon a time there was a poor boy\"\n",
    "}\n",
    "\n",
    "data = []\n",
    "for prompt_id in prompts:\n",
    "    #generation - generate stories for each prompt\n",
    "    for i in range(1):\n",
    "        sequences = llamatales_pipeline(\n",
    "            prompts[prompt_id],\n",
    "            do_sample = True,\n",
    "            top_k = 10,\n",
    "            num_return_sequences = 1,\n",
    "            max_new_tokens = 512\n",
    "        )\n",
    "        generated_story = sequences[0]['generated_text']\n",
    "        print(generated_story)\n",
    "\n",
    "        num_tokens_generated_story = len(tokenizer.encode(generated_story))\n",
    "\n",
    "        #test - collect hidden states\n",
    "        \n",
    "        config = AutoConfig.from_pretrained(\"/expanse/lustre/projects/csd819/a3murali/cache/models--ivnle--llamatales_jr_8b-lay8-hs512-hd8-33M/snapshots/461f50f0024efb46b94dc68cc850d12d75ecb325\", output_hidden_states = True)\n",
    "        model = AutoModelForCausalLM.from_config(config).to('cuda')\n",
    "        #print(model)\n",
    "\n",
    "#         for i in model.named_parameters():\n",
    "#             print(f\"{i[0]} -> {i[1].device}\")\n",
    "\n",
    "\n",
    "        tokenizer = AutoTokenizer.from_pretrained(\"/expanse/lustre/projects/csd819/a3murali/cache/models--ivnle--llamatales_jr_8b-lay8-hs512-hd8-33M/snapshots/461f50f0024efb46b94dc68cc850d12d75ecb325/\", config = config)\n",
    "\n",
    "        inputs = tokenizer(generated_story, return_tensors=\"pt\").to(\"cuda\")\n",
    "\n",
    "        outputs = model.generate(inputs.input_ids, attention_mask=inputs[\"attention_mask\"], do_sample = True, top_k = 10, num_return_sequences = 1, max_new_tokens = 512, eos_token_id = tokenizer.eos_token_id, pad_token_id = tokenizer.pad_token_id, return_dict_in_generate=True)\n",
    "\n",
    "        #analysis - collect prompt id of each token\n",
    "        output_id = []\n",
    "        for token in range(num_tokens_generated_story):\n",
    "            output_id.append(prompt_id)\n",
    "        \n",
    "        convert_hidden_states = []\n",
    "\n",
    "        for i in outputs.hidden_states:\n",
    "            convert_hidden_states.append([j.detach().cpu().numpy() for j in i])\n",
    "        \n",
    "        print(len(convert_hidden_states))\n",
    "        print(len(convert_hidden_states[0]))\n",
    "        print(len(convert_hidden_states[0][0]))\n",
    "        print(len(convert_hidden_states[0][0][0]))\n",
    "        print(len(convert_hidden_states[0][0][0][0]))\n",
    "        #print(len(convert_hidden_states[0][0][0][0][0]))\n",
    "        data.append([prompts[prompt_id], generated_story, convert_hidden_states, np.array(output_id)])\n",
    "\n",
    "        #(([]))\n",
    "\n",
    "df = pd.DataFrame(data, columns = [\"prompt\", \"story\", \"hidden_states\", \"output_token_prompt_id\"], dtype = 'object')\n",
    "df"
   ]
  },
  {
   "cell_type": "code",
   "execution_count": null,
   "id": "250f5471",
   "metadata": {},
   "outputs": [],
   "source": []
  }
 ],
 "metadata": {
  "kernelspec": {
   "display_name": "Python 3 (ipykernel)",
   "language": "python",
   "name": "python3"
  },
  "language_info": {
   "codemirror_mode": {
    "name": "ipython",
    "version": 3
   },
   "file_extension": ".py",
   "mimetype": "text/x-python",
   "name": "python",
   "nbconvert_exporter": "python",
   "pygments_lexer": "ipython3",
   "version": "3.8.13"
  }
 },
 "nbformat": 4,
 "nbformat_minor": 5
}
