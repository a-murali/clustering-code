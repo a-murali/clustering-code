{
 "cells": [
  {
   "cell_type": "markdown",
   "id": "64c867a4-b1c3-426b-b086-de071a726ebf",
   "metadata": {},
   "source": [
    "## Install Packages"
   ]
  },
  {
   "cell_type": "code",
   "execution_count": 1,
   "id": "80849741",
   "metadata": {
    "tags": []
   },
   "outputs": [
    {
     "name": "stdout",
     "output_type": "stream",
     "text": [
      "Collecting package metadata (current_repodata.json): / WARNING conda.models.version:get_matcher(540): Using .* with relational operator is superfluous and deprecated and will be removed in a future version of conda. Your spec was 1.7.1.*, but conda is ignoring the .* and treating it as 1.7.1\n",
      "done\n",
      "Solving environment: failed with initial frozen solve. Retrying with flexible solve.\n",
      "Solving environment: failed with repodata from current_repodata.json, will retry with next repodata source.\n",
      "Collecting package metadata (repodata.json): \\ WARNING conda.models.version:get_matcher(540): Using .* with relational operator is superfluous and deprecated and will be removed in a future version of conda. Your spec was 1.9.0.*, but conda is ignoring the .* and treating it as 1.9.0\n",
      "WARNING conda.models.version:get_matcher(540): Using .* with relational operator is superfluous and deprecated and will be removed in a future version of conda. Your spec was 1.6.0.*, but conda is ignoring the .* and treating it as 1.6.0\n",
      "WARNING conda.models.version:get_matcher(540): Using .* with relational operator is superfluous and deprecated and will be removed in a future version of conda. Your spec was 1.8.0.*, but conda is ignoring the .* and treating it as 1.8.0\n",
      "done\n",
      "Solving environment: done\n",
      "\n",
      "\n",
      "==> WARNING: A newer version of conda exists. <==\n",
      "  current version: 4.10.3\n",
      "  latest version: 25.7.0\n",
      "\n",
      "Please update conda by running\n",
      "\n",
      "    $ conda update -n base -c defaults conda\n",
      "\n",
      "\n",
      "\n",
      "## Package Plan ##\n",
      "\n",
      "  environment location: /opt/conda\n",
      "\n",
      "  added / updated specs:\n",
      "    - faiss-gpu\n",
      "\n",
      "\n",
      "The following packages will be downloaded:\n",
      "\n",
      "    package                    |            build\n",
      "    ---------------------------|-----------------\n",
      "    ca-certificates-2025.8.3   |       hbd8a1cb_0         151 KB  conda-forge\n",
      "    certifi-2024.8.30          |     pyhd8ed1ab_0         160 KB  conda-forge\n",
      "    conda-4.12.0               |   py37h89c1867_0         1.0 MB  conda-forge\n",
      "    faiss-1.7.1                |py37cuda111h7f21d35_1_cuda         2.0 MB  conda-forge\n",
      "    faiss-gpu-1.7.1            |       h788eb59_1          15 KB  conda-forge\n",
      "    libblas-3.9.0              |   26_linux64_mkl          16 KB  conda-forge\n",
      "    libfaiss-1.7.1             |cuda111hf54f04a_1_cuda        80.2 MB  conda-forge\n",
      "    libfaiss-avx2-1.7.1        |cuda111h1234567_1_cuda        80.3 MB  conda-forge\n",
      "    liblapack-3.9.0            |   26_linux64_mkl          16 KB  conda-forge\n",
      "    openssl-1.1.1w             |       h7f8727e_0         3.7 MB\n",
      "    python_abi-3.7             |          2_cp37m           4 KB  conda-forge\n",
      "    ------------------------------------------------------------\n",
      "                                           Total:       167.6 MB\n",
      "\n",
      "The following NEW packages will be INSTALLED:\n",
      "\n",
      "  faiss              conda-forge/linux-64::faiss-1.7.1-py37cuda111h7f21d35_1_cuda\n",
      "  faiss-gpu          conda-forge/linux-64::faiss-gpu-1.7.1-h788eb59_1\n",
      "  libblas            conda-forge/linux-64::libblas-3.9.0-26_linux64_mkl\n",
      "  libfaiss           conda-forge/linux-64::libfaiss-1.7.1-cuda111hf54f04a_1_cuda\n",
      "  libfaiss-avx2      conda-forge/linux-64::libfaiss-avx2-1.7.1-cuda111h1234567_1_cuda\n",
      "  liblapack          conda-forge/linux-64::liblapack-3.9.0-26_linux64_mkl\n",
      "  python_abi         conda-forge/linux-64::python_abi-3.7-2_cp37m\n",
      "\n",
      "The following packages will be UPDATED:\n",
      "\n",
      "  ca-certificates    pkgs/main/linux-64::ca-certificates-2~ --> conda-forge/noarch::ca-certificates-2025.8.3-hbd8a1cb_0\n",
      "  certifi            pkgs/main/linux-64::certifi-2021.10.8~ --> conda-forge/noarch::certifi-2024.8.30-pyhd8ed1ab_0\n",
      "  conda              pkgs/main::conda-4.10.3-py37h06a4308_0 --> conda-forge::conda-4.12.0-py37h89c1867_0\n",
      "  openssl                                 1.1.1l-h7f8727e_0 --> 1.1.1w-h7f8727e_0\n",
      "\n",
      "\n",
      "\n",
      "Downloading and Extracting Packages\n",
      "python_abi-3.7       | 4 KB      | ##################################### | 100% \n",
      "libfaiss-avx2-1.7.1  | 80.3 MB   | ##################################### | 100% \n",
      "libblas-3.9.0        | 16 KB     | ##################################### | 100% \n",
      "faiss-1.7.1          | 2.0 MB    | ##################################### | 100% \n",
      "faiss-gpu-1.7.1      | 15 KB     | ##################################### | 100% \n",
      "ca-certificates-2025 | 151 KB    | ##################################### | 100% \n",
      "libfaiss-1.7.1       | 80.2 MB   | ##################################### | 100% \n",
      "openssl-1.1.1w       | 3.7 MB    | ##################################### | 100% \n",
      "certifi-2024.8.30    | 160 KB    | ##################################### | 100% \n",
      "liblapack-3.9.0      | 16 KB     | ##################################### | 100% \n",
      "conda-4.12.0         | 1.0 MB    | ##################################### | 100% \n",
      "Preparing transaction: done\n",
      "Verifying transaction: done\n",
      "Executing transaction: done\n",
      "Get:1 http://security.ubuntu.com/ubuntu bionic-security InRelease [102 kB]\n",
      "Hit:2 http://archive.ubuntu.com/ubuntu bionic InRelease\n",
      "Get:3 http://archive.ubuntu.com/ubuntu bionic-updates InRelease [102 kB]       \n",
      "Get:4 http://security.ubuntu.com/ubuntu bionic-security/multiverse amd64 Packages [23.8 kB]\n",
      "Get:5 http://security.ubuntu.com/ubuntu bionic-security/main amd64 Packages [3373 kB]\n",
      "Get:6 http://archive.ubuntu.com/ubuntu bionic-backports InRelease [102 kB]     \n",
      "Get:7 http://security.ubuntu.com/ubuntu bionic-security/universe amd64 Packages [1637 kB]\n",
      "Get:8 http://security.ubuntu.com/ubuntu bionic-security/restricted amd64 Packages [1688 kB]\n",
      "Get:9 http://archive.ubuntu.com/ubuntu bionic-updates/universe amd64 Packages [2411 kB]\n",
      "Get:10 http://archive.ubuntu.com/ubuntu bionic-updates/multiverse amd64 Packages [30.8 kB]\n",
      "Get:11 http://archive.ubuntu.com/ubuntu bionic-updates/restricted amd64 Packages [1728 kB]\n",
      "Get:12 http://archive.ubuntu.com/ubuntu bionic-updates/main amd64 Packages [3786 kB]\n",
      "Get:13 http://archive.ubuntu.com/ubuntu bionic-backports/main amd64 Packages [64.0 kB]\n",
      "Get:14 http://archive.ubuntu.com/ubuntu bionic-backports/universe amd64 Packages [20.6 kB]\n",
      "Fetched 15.1 MB in 2s (7681 kB/s)                             \n",
      "Reading package lists... Done\n",
      "Reading package lists... Done\n",
      "Building dependency tree       \n",
      "Reading state information... Done\n",
      "The following additional packages will be installed:\n",
      "  gcc-7-base libatlas3-base libgfortran4 libquadmath0\n",
      "Suggested packages:\n",
      "  libatlas-doc liblapack-doc\n",
      "The following NEW packages will be installed:\n",
      "  gcc-7-base libatlas-base-dev libatlas3-base libgfortran4 libquadmath0\n",
      "0 upgraded, 5 newly installed, 0 to remove and 83 not upgraded.\n",
      "Need to get 8397 kB of archives.\n",
      "After this operation, 49.3 MB of additional disk space will be used.\n",
      "Get:1 http://archive.ubuntu.com/ubuntu bionic-updates/main amd64 gcc-7-base amd64 7.5.0-3ubuntu1~18.04 [18.3 kB]\n",
      "Get:2 http://archive.ubuntu.com/ubuntu bionic-updates/main amd64 libquadmath0 amd64 8.4.0-1ubuntu1~18.04 [134 kB]\n",
      "Get:3 http://archive.ubuntu.com/ubuntu bionic-updates/main amd64 libgfortran4 amd64 7.5.0-3ubuntu1~18.04 [492 kB]\n",
      "Get:4 http://archive.ubuntu.com/ubuntu bionic/universe amd64 libatlas3-base amd64 3.10.3-5 [3732 kB]\n",
      "Get:5 http://archive.ubuntu.com/ubuntu bionic/universe amd64 libatlas-base-dev amd64 3.10.3-5 [4022 kB]\n",
      "Fetched 8397 kB in 1s (5838 kB/s)           \n",
      "debconf: delaying package configuration, since apt-utils is not installed\n",
      "Selecting previously unselected package gcc-7-base:amd64.\n",
      "(Reading database ... 11934 files and directories currently installed.)\n",
      "Preparing to unpack .../gcc-7-base_7.5.0-3ubuntu1~18.04_amd64.deb ...\n",
      "Unpacking gcc-7-base:amd64 (7.5.0-3ubuntu1~18.04) ...\n",
      "Selecting previously unselected package libquadmath0:amd64.\n",
      "Preparing to unpack .../libquadmath0_8.4.0-1ubuntu1~18.04_amd64.deb ...\n",
      "Unpacking libquadmath0:amd64 (8.4.0-1ubuntu1~18.04) ...\n",
      "Selecting previously unselected package libgfortran4:amd64.\n",
      "Preparing to unpack .../libgfortran4_7.5.0-3ubuntu1~18.04_amd64.deb ...\n",
      "Unpacking libgfortran4:amd64 (7.5.0-3ubuntu1~18.04) ...\n",
      "Selecting previously unselected package libatlas3-base:amd64.\n",
      "Preparing to unpack .../libatlas3-base_3.10.3-5_amd64.deb ...\n",
      "Unpacking libatlas3-base:amd64 (3.10.3-5) ...\n",
      "Selecting previously unselected package libatlas-base-dev:amd64.\n",
      "Preparing to unpack .../libatlas-base-dev_3.10.3-5_amd64.deb ...\n",
      "Unpacking libatlas-base-dev:amd64 (3.10.3-5) ...\n",
      "Setting up libquadmath0:amd64 (8.4.0-1ubuntu1~18.04) ...\n",
      "Setting up gcc-7-base:amd64 (7.5.0-3ubuntu1~18.04) ...\n",
      "Setting up libgfortran4:amd64 (7.5.0-3ubuntu1~18.04) ...\n",
      "Setting up libatlas3-base:amd64 (3.10.3-5) ...\n",
      "update-alternatives: using /usr/lib/x86_64-linux-gnu/atlas/libblas.so.3 to provide /usr/lib/x86_64-linux-gnu/libblas.so.3 (libblas.so.3-x86_64-linux-gnu) in auto mode\n",
      "update-alternatives: using /usr/lib/x86_64-linux-gnu/atlas/liblapack.so.3 to provide /usr/lib/x86_64-linux-gnu/liblapack.so.3 (liblapack.so.3-x86_64-linux-gnu) in auto mode\n",
      "Setting up libatlas-base-dev:amd64 (3.10.3-5) ...\n",
      "update-alternatives: using /usr/lib/x86_64-linux-gnu/atlas/libblas.so to provide /usr/lib/x86_64-linux-gnu/libblas.so (libblas.so-x86_64-linux-gnu) in auto mode\n",
      "update-alternatives: using /usr/lib/x86_64-linux-gnu/atlas/liblapack.so to provide /usr/lib/x86_64-linux-gnu/liblapack.so (liblapack.so-x86_64-linux-gnu) in auto mode\n",
      "Processing triggers for libc-bin (2.27-3ubuntu1.4) ...\n"
     ]
    }
   ],
   "source": [
    "!conda install -y -c conda-forge faiss-gpu\n",
    "!apt-get -y update\n",
    "!apt-get -y install libatlas-base-dev"
   ]
  },
  {
   "cell_type": "markdown",
   "id": "ea6af1a5-1aef-4743-bfa6-7392ed97dbe7",
   "metadata": {},
   "source": [
    "## Load Data"
   ]
  },
  {
   "cell_type": "code",
   "execution_count": 2,
   "id": "e26dddbf",
   "metadata": {
    "tags": []
   },
   "outputs": [],
   "source": [
    "import pandas as pd\n",
    "import numpy as np\n",
    "import matplotlib.pyplot as plt\n",
    "\n",
    "from sklearn.random_projection import GaussianRandomProjection\n",
    "\n",
    "from tqdm import tqdm\n",
    "\n",
    "import faiss"
   ]
  },
  {
   "cell_type": "code",
   "execution_count": 3,
   "id": "89c2cffa",
   "metadata": {
    "tags": []
   },
   "outputs": [
    {
     "data": {
      "text/html": [
       "<div>\n",
       "<style scoped>\n",
       "    .dataframe tbody tr th:only-of-type {\n",
       "        vertical-align: middle;\n",
       "    }\n",
       "\n",
       "    .dataframe tbody tr th {\n",
       "        vertical-align: top;\n",
       "    }\n",
       "\n",
       "    .dataframe thead th {\n",
       "        text-align: right;\n",
       "    }\n",
       "</style>\n",
       "<table border=\"1\" class=\"dataframe\">\n",
       "  <thead>\n",
       "    <tr style=\"text-align: right;\">\n",
       "      <th></th>\n",
       "      <th>prompt_id</th>\n",
       "      <th>prompt</th>\n",
       "      <th>story</th>\n",
       "      <th>hidden_state_file</th>\n",
       "      <th>len_generated_story</th>\n",
       "      <th>len_new_story</th>\n",
       "    </tr>\n",
       "  </thead>\n",
       "  <tbody>\n",
       "    <tr>\n",
       "      <th>0</th>\n",
       "      <td>1</td>\n",
       "      <td>Once upon a time there was a dragon</td>\n",
       "      <td>Once upon a time there was a dragon named Blaz...</td>\n",
       "      <td>./hidden_states/prompt_1.npz</td>\n",
       "      <td>270</td>\n",
       "      <td>271</td>\n",
       "    </tr>\n",
       "    <tr>\n",
       "      <th>1</th>\n",
       "      <td>1</td>\n",
       "      <td>Once upon a time there was a dragon</td>\n",
       "      <td>Once upon a time there was a dragon named Spar...</td>\n",
       "      <td>./hidden_states/prompt_1.npz</td>\n",
       "      <td>349</td>\n",
       "      <td>350</td>\n",
       "    </tr>\n",
       "    <tr>\n",
       "      <th>2</th>\n",
       "      <td>1</td>\n",
       "      <td>Once upon a time there was a dragon</td>\n",
       "      <td>Once upon a time there was a dragon named Scor...</td>\n",
       "      <td>./hidden_states/prompt_1.npz</td>\n",
       "      <td>278</td>\n",
       "      <td>278</td>\n",
       "    </tr>\n",
       "    <tr>\n",
       "      <th>3</th>\n",
       "      <td>1</td>\n",
       "      <td>Once upon a time there was a dragon</td>\n",
       "      <td>Once upon a time there was a dragon. The drago...</td>\n",
       "      <td>./hidden_states/prompt_1.npz</td>\n",
       "      <td>117</td>\n",
       "      <td>118</td>\n",
       "    </tr>\n",
       "    <tr>\n",
       "      <th>4</th>\n",
       "      <td>1</td>\n",
       "      <td>Once upon a time there was a dragon</td>\n",
       "      <td>Once upon a time there was a dragon. The drago...</td>\n",
       "      <td>./hidden_states/prompt_1.npz</td>\n",
       "      <td>129</td>\n",
       "      <td>130</td>\n",
       "    </tr>\n",
       "    <tr>\n",
       "      <th>...</th>\n",
       "      <td>...</td>\n",
       "      <td>...</td>\n",
       "      <td>...</td>\n",
       "      <td>...</td>\n",
       "      <td>...</td>\n",
       "      <td>...</td>\n",
       "    </tr>\n",
       "    <tr>\n",
       "      <th>9995</th>\n",
       "      <td>10</td>\n",
       "      <td>Once upon a time there was a poor boy</td>\n",
       "      <td>Once upon a time there was a poor boy named Ti...</td>\n",
       "      <td>./hidden_states/prompt_10.npz</td>\n",
       "      <td>289</td>\n",
       "      <td>290</td>\n",
       "    </tr>\n",
       "    <tr>\n",
       "      <th>9996</th>\n",
       "      <td>10</td>\n",
       "      <td>Once upon a time there was a poor boy</td>\n",
       "      <td>Once upon a time there was a poor boy named Ti...</td>\n",
       "      <td>./hidden_states/prompt_10.npz</td>\n",
       "      <td>119</td>\n",
       "      <td>119</td>\n",
       "    </tr>\n",
       "    <tr>\n",
       "      <th>9997</th>\n",
       "      <td>10</td>\n",
       "      <td>Once upon a time there was a poor boy</td>\n",
       "      <td>Once upon a time there was a poor boy named Ti...</td>\n",
       "      <td>./hidden_states/prompt_10.npz</td>\n",
       "      <td>127</td>\n",
       "      <td>128</td>\n",
       "    </tr>\n",
       "    <tr>\n",
       "      <th>9998</th>\n",
       "      <td>10</td>\n",
       "      <td>Once upon a time there was a poor boy</td>\n",
       "      <td>Once upon a time there was a poor boy named Ti...</td>\n",
       "      <td>./hidden_states/prompt_10.npz</td>\n",
       "      <td>441</td>\n",
       "      <td>441</td>\n",
       "    </tr>\n",
       "    <tr>\n",
       "      <th>9999</th>\n",
       "      <td>10</td>\n",
       "      <td>Once upon a time there was a poor boy</td>\n",
       "      <td>Once upon a time there was a poor boy named Ti...</td>\n",
       "      <td>./hidden_states/prompt_10.npz</td>\n",
       "      <td>520</td>\n",
       "      <td>521</td>\n",
       "    </tr>\n",
       "  </tbody>\n",
       "</table>\n",
       "<p>10000 rows × 6 columns</p>\n",
       "</div>"
      ],
      "text/plain": [
       "      prompt_id                                 prompt  \\\n",
       "0             1    Once upon a time there was a dragon   \n",
       "1             1    Once upon a time there was a dragon   \n",
       "2             1    Once upon a time there was a dragon   \n",
       "3             1    Once upon a time there was a dragon   \n",
       "4             1    Once upon a time there was a dragon   \n",
       "...         ...                                    ...   \n",
       "9995         10  Once upon a time there was a poor boy   \n",
       "9996         10  Once upon a time there was a poor boy   \n",
       "9997         10  Once upon a time there was a poor boy   \n",
       "9998         10  Once upon a time there was a poor boy   \n",
       "9999         10  Once upon a time there was a poor boy   \n",
       "\n",
       "                                                  story  \\\n",
       "0     Once upon a time there was a dragon named Blaz...   \n",
       "1     Once upon a time there was a dragon named Spar...   \n",
       "2     Once upon a time there was a dragon named Scor...   \n",
       "3     Once upon a time there was a dragon. The drago...   \n",
       "4     Once upon a time there was a dragon. The drago...   \n",
       "...                                                 ...   \n",
       "9995  Once upon a time there was a poor boy named Ti...   \n",
       "9996  Once upon a time there was a poor boy named Ti...   \n",
       "9997  Once upon a time there was a poor boy named Ti...   \n",
       "9998  Once upon a time there was a poor boy named Ti...   \n",
       "9999  Once upon a time there was a poor boy named Ti...   \n",
       "\n",
       "                  hidden_state_file  len_generated_story  len_new_story  \n",
       "0      ./hidden_states/prompt_1.npz                  270            271  \n",
       "1      ./hidden_states/prompt_1.npz                  349            350  \n",
       "2      ./hidden_states/prompt_1.npz                  278            278  \n",
       "3      ./hidden_states/prompt_1.npz                  117            118  \n",
       "4      ./hidden_states/prompt_1.npz                  129            130  \n",
       "...                             ...                  ...            ...  \n",
       "9995  ./hidden_states/prompt_10.npz                  289            290  \n",
       "9996  ./hidden_states/prompt_10.npz                  119            119  \n",
       "9997  ./hidden_states/prompt_10.npz                  127            128  \n",
       "9998  ./hidden_states/prompt_10.npz                  441            441  \n",
       "9999  ./hidden_states/prompt_10.npz                  520            521  \n",
       "\n",
       "[10000 rows x 6 columns]"
      ]
     },
     "execution_count": 3,
     "metadata": {},
     "output_type": "execute_result"
    }
   ],
   "source": [
    "df = pd.read_csv(\"../story_dataset.csv\")\n",
    "df"
   ]
  },
  {
   "cell_type": "code",
   "execution_count": 4,
   "id": "c081cc09",
   "metadata": {
    "tags": []
   },
   "outputs": [
    {
     "data": {
      "text/plain": [
       "522"
      ]
     },
     "execution_count": 4,
     "metadata": {},
     "output_type": "execute_result"
    }
   ],
   "source": [
    "max_story_len = max(df[\"len_generated_story\"])\n",
    "max_story_len"
   ]
  },
  {
   "cell_type": "code",
   "execution_count": 5,
   "id": "212c067a",
   "metadata": {
    "scrolled": true,
    "tags": []
   },
   "outputs": [
    {
     "name": "stderr",
     "output_type": "stream",
     "text": [
      "100%|███████████████████████████████████████████████████████████████████████████████| 1000/1000 [02:58<00:00,  5.61it/s]\n",
      "100%|███████████████████████████████████████████████████████████████████████████████| 1000/1000 [02:34<00:00,  6.47it/s]\n",
      "100%|███████████████████████████████████████████████████████████████████████████████| 1000/1000 [02:18<00:00,  7.24it/s]\n",
      "100%|███████████████████████████████████████████████████████████████████████████████| 1000/1000 [02:56<00:00,  5.67it/s]\n",
      "100%|███████████████████████████████████████████████████████████████████████████████| 1000/1000 [02:54<00:00,  5.72it/s]\n",
      "100%|███████████████████████████████████████████████████████████████████████████████| 1000/1000 [02:55<00:00,  5.68it/s]\n",
      "100%|███████████████████████████████████████████████████████████████████████████████| 1000/1000 [02:59<00:00,  5.57it/s]\n",
      "100%|███████████████████████████████████████████████████████████████████████████████| 1000/1000 [02:49<00:00,  5.88it/s]\n",
      "100%|███████████████████████████████████████████████████████████████████████████████| 1000/1000 [03:03<00:00,  5.44it/s]\n",
      "100%|███████████████████████████████████████████████████████████████████████████████| 1000/1000 [03:14<00:00,  5.15it/s]\n"
     ]
    }
   ],
   "source": [
    "hidden_states_by_layer = {}\n",
    "NUM_PROMPTS = 10\n",
    "\n",
    "for prompt_id in range(1, NUM_PROMPTS + 1):\n",
    "    with np.load(f'../hidden_states/prompt_{prompt_id}.npz') as loaded_data:\n",
    "        for i in tqdm(range(1000)):\n",
    "            curr_hidden_states = loaded_data[f\"arr_{i}\"][0]\n",
    "#             print(curr_hidden_states.shape)\n",
    "            for layer in range(7, 8):\n",
    "                padded_arr = np.zeros((max_story_len, 512))\n",
    "                padded_arr_len = len(curr_hidden_states[layer][0])\n",
    "                \n",
    "                padded_arr[:padded_arr_len] = curr_hidden_states[layer][0]\n",
    "                \n",
    "                padded_arr = padded_arr.flatten().astype('float32') #FAISS expects data in type float32 instead of float64 - saves memory too!\n",
    "#                 print(padded_arr.shape)\n",
    "                \n",
    "                if(f\"layer_{layer}\" in hidden_states_by_layer):\n",
    "                    hidden_states_by_layer[f\"layer_{layer}\"].append(padded_arr)\n",
    "                else:\n",
    "                    hidden_states_by_layer[f\"layer_{layer}\"] = [padded_arr]"
   ]
  },
  {
   "cell_type": "code",
   "execution_count": 6,
   "id": "ad23eb70",
   "metadata": {
    "tags": []
   },
   "outputs": [
    {
     "data": {
      "text/plain": [
       "(10000, 267264)"
      ]
     },
     "execution_count": 6,
     "metadata": {},
     "output_type": "execute_result"
    }
   ],
   "source": [
    "layer_hs_array = np.array(hidden_states_by_layer[\"layer_7\"])\n",
    "layer_hs_array.shape"
   ]
  },
  {
   "cell_type": "markdown",
   "id": "e44eecd8-9f29-457b-8f65-d8eae3b84eb8",
   "metadata": {
    "tags": []
   },
   "source": [
    "## Layer 7 Clustering"
   ]
  },
  {
   "cell_type": "code",
   "execution_count": 7,
   "id": "49cf7b1b",
   "metadata": {
    "tags": []
   },
   "outputs": [],
   "source": [
    "# Use original vectors for clustering - uncomment next line and comment out last two lines\n",
    "\n",
    "# dim_reduced_vecs = layer_hs_array\n",
    "\n",
    "random_projector = GaussianRandomProjection(random_state = 42)\n",
    "dim_reduced_vecs = random_projector.fit_transform(layer_hs_array).astype('float32')"
   ]
  },
  {
   "cell_type": "code",
   "execution_count": 8,
   "id": "b9257701",
   "metadata": {
    "tags": []
   },
   "outputs": [
    {
     "data": {
      "text/plain": [
       "(10000, 7894)"
      ]
     },
     "execution_count": 8,
     "metadata": {},
     "output_type": "execute_result"
    }
   ],
   "source": [
    "dim_reduced_vecs = np.array([v / np.linalg.norm(v) for v in dim_reduced_vecs])\n",
    "dim_reduced_vecs.shape"
   ]
  },
  {
   "cell_type": "code",
   "execution_count": 9,
   "id": "22e1c2a5-03fa-43fd-90d4-609a0d949829",
   "metadata": {
    "tags": []
   },
   "outputs": [
    {
     "data": {
      "text/plain": [
       "array([ 1,  1,  1, ..., 10, 10, 10])"
      ]
     },
     "execution_count": 9,
     "metadata": {},
     "output_type": "execute_result"
    }
   ],
   "source": [
    "prompt_ids = df[\"prompt_id\"]\n",
    "prompt_ids = prompt_ids.to_numpy()\n",
    "prompt_ids"
   ]
  },
  {
   "cell_type": "code",
   "execution_count": 10,
   "id": "bd963a3c-0ad1-416a-9fc6-a13bf2422fcd",
   "metadata": {},
   "outputs": [],
   "source": [
    "X_train = np.zeros((int(0.8 * dim_reduced_vecs.shape[0]), dim_reduced_vecs.shape[1]), dtype = np.float32)\n",
    "y_train = np.zeros(int(0.8 * dim_reduced_vecs.shape[0]))\n",
    "\n",
    "X_test = np.zeros((int(0.2 * dim_reduced_vecs.shape[0]), dim_reduced_vecs.shape[1]), dtype = np.float32)\n",
    "y_test = np.zeros(int(0.2 * dim_reduced_vecs.shape[0]))"
   ]
  },
  {
   "cell_type": "code",
   "execution_count": 11,
   "id": "6b84c6a1-29cc-4096-9eb1-420301a7065f",
   "metadata": {},
   "outputs": [],
   "source": [
    "for i in range(10):\n",
    "    X_train[i * 800 : (i + 1) * 800] = dim_reduced_vecs[i * 1000 : (i * 1000) + 800]\n",
    "    y_train[i * 800 : (i + 1) * 800] = prompt_ids[i * 1000 : (i * 1000) + 800]\n",
    "    \n",
    "    X_test[i * 200 : (i + 1) * 200] = dim_reduced_vecs[(i * 1000) + 800 : (i + 1) * 1000]\n",
    "    y_test[i * 200 : (i + 1) * 200] = prompt_ids[(i * 1000) + 800 : (i + 1) * 1000]"
   ]
  },
  {
   "cell_type": "code",
   "execution_count": 12,
   "id": "e7c2f695-573c-4abe-ab7b-eaa4a1661cd2",
   "metadata": {},
   "outputs": [
    {
     "name": "stdout",
     "output_type": "stream",
     "text": [
      "(8000, 7894)\n",
      "(8000,)\n",
      "(2000, 7894)\n",
      "(2000,)\n"
     ]
    }
   ],
   "source": [
    "print(X_train.shape)\n",
    "print(y_train.shape)\n",
    "print(X_test.shape)\n",
    "print(y_test.shape)"
   ]
  },
  {
   "cell_type": "code",
   "execution_count": 13,
   "id": "8aebf88b-1d51-48d2-945c-311b5fc70963",
   "metadata": {},
   "outputs": [
    {
     "name": "stdout",
     "output_type": "stream",
     "text": [
      "Sampling a subset of 4000 / 8000 for training\n",
      "Clustering 4000 points in 7894D to 5 clusters, redo 10 times, 20 iterations\n",
      "  Preprocessing in 0.10 s\n",
      "Outer iteration 0 / 10\n",
      "  Iteration 19 (0.25 s, search 0.14 s): objective=2007.34 imbalance=1.080 nsplit=0       \n",
      "Objective improved: keep new clusters\n",
      "Outer iteration 1 / 10\n",
      "  Iteration 19 (0.50 s, search 0.27 s): objective=2013.34 imbalance=1.184 nsplit=0       \n",
      "Objective improved: keep new clusters\n",
      "Outer iteration 2 / 10\n",
      "  Iteration 19 (0.75 s, search 0.41 s): objective=2009.06 imbalance=1.040 nsplit=0       \n",
      "Outer iteration 3 / 10\n",
      "  Iteration 19 (1.00 s, search 0.54 s): objective=2009.49 imbalance=1.190 nsplit=0       \n",
      "Outer iteration 4 / 10\n",
      "  Iteration 19 (1.25 s, search 0.67 s): objective=2001.26 imbalance=1.494 nsplit=0       \n",
      "Outer iteration 5 / 10\n",
      "  Iteration 19 (1.50 s, search 0.81 s): objective=1997.58 imbalance=1.686 nsplit=0       \n",
      "Outer iteration 6 / 10\n",
      "  Iteration 19 (1.75 s, search 0.95 s): objective=2010.03 imbalance=1.366 nsplit=0       \n",
      "Outer iteration 7 / 10\n",
      "  Iteration 19 (2.01 s, search 1.09 s): objective=2000.86 imbalance=1.481 nsplit=0       \n",
      "Outer iteration 8 / 10\n",
      "  Iteration 19 (2.26 s, search 1.22 s): objective=2009.11 imbalance=1.030 nsplit=0       \n",
      "Outer iteration 9 / 10\n",
      "  Iteration 19 (2.51 s, search 1.36 s): objective=2013.55 imbalance=1.211 nsplit=0       \n",
      "Objective improved: keep new clusters\n",
      "Sampling a subset of 4800 / 8000 for training\n",
      "Clustering 4800 points in 7894D to 6 clusters, redo 10 times, 20 iterations\n",
      "  Preprocessing in 0.11 s\n",
      "Outer iteration 0 / 10\n",
      "  Iteration 19 (0.30 s, search 0.16 s): objective=2416.13 imbalance=1.225 nsplit=0       \n",
      "Objective improved: keep new clusters\n",
      "Outer iteration 1 / 10\n",
      "  Iteration 19 (0.60 s, search 0.32 s): objective=2414.14 imbalance=1.374 nsplit=0       \n",
      "Outer iteration 2 / 10\n",
      "  Iteration 19 (0.91 s, search 0.49 s): objective=2418.97 imbalance=1.291 nsplit=0       \n",
      "Objective improved: keep new clusters\n",
      "Outer iteration 3 / 10\n",
      "  Iteration 19 (1.21 s, search 0.66 s): objective=2411.8 imbalance=1.106 nsplit=0        \n",
      "Outer iteration 4 / 10\n",
      "  Iteration 19 (1.51 s, search 0.82 s): objective=2414.13 imbalance=1.453 nsplit=0       \n",
      "Outer iteration 5 / 10\n",
      "  Iteration 19 (1.82 s, search 0.99 s): objective=2413.98 imbalance=1.042 nsplit=0       \n",
      "Outer iteration 6 / 10\n",
      "  Iteration 19 (2.12 s, search 1.14 s): objective=2411.07 imbalance=1.166 nsplit=0       \n",
      "Outer iteration 7 / 10\n",
      "  Iteration 19 (2.43 s, search 1.31 s): objective=2402.39 imbalance=1.636 nsplit=0       \n",
      "Outer iteration 8 / 10\n",
      "  Iteration 19 (2.73 s, search 1.47 s): objective=2418.16 imbalance=1.057 nsplit=0       \n",
      "Outer iteration 9 / 10\n",
      "  Iteration 19 (3.03 s, search 1.64 s): objective=2410.2 imbalance=1.540 nsplit=0        \n",
      "Sampling a subset of 5600 / 8000 for training\n",
      "Clustering 5600 points in 7894D to 7 clusters, redo 10 times, 20 iterations\n",
      "  Preprocessing in 0.13 s\n",
      "Outer iteration 0 / 10\n",
      "  Iteration 19 (0.35 s, search 0.19 s): objective=2830.52 imbalance=1.116 nsplit=0       \n",
      "Objective improved: keep new clusters\n",
      "Outer iteration 1 / 10\n",
      "  Iteration 19 (0.70 s, search 0.38 s): objective=2819.62 imbalance=1.201 nsplit=0       \n",
      "Outer iteration 2 / 10\n",
      "  Iteration 19 (1.06 s, search 0.57 s): objective=2827.21 imbalance=1.286 nsplit=0       \n",
      "Outer iteration 3 / 10\n",
      "  Iteration 19 (1.41 s, search 0.76 s): objective=2820.95 imbalance=1.266 nsplit=0       \n",
      "Outer iteration 4 / 10\n",
      "  Iteration 19 (1.76 s, search 0.94 s): objective=2822.7 imbalance=1.329 nsplit=0        \n",
      "Outer iteration 5 / 10\n",
      "  Iteration 19 (2.11 s, search 1.13 s): objective=2822.84 imbalance=1.255 nsplit=0       \n",
      "Outer iteration 6 / 10\n",
      "  Iteration 19 (2.46 s, search 1.32 s): objective=2826 imbalance=1.224 nsplit=0          \n",
      "Outer iteration 7 / 10\n",
      "  Iteration 19 (2.81 s, search 1.51 s): objective=2814.74 imbalance=1.363 nsplit=0       \n",
      "Outer iteration 8 / 10\n",
      "  Iteration 19 (3.17 s, search 1.69 s): objective=2823.67 imbalance=1.273 nsplit=0       \n",
      "Outer iteration 9 / 10\n",
      "  Iteration 19 (3.52 s, search 1.89 s): objective=2830.55 imbalance=1.377 nsplit=0       \n",
      "Objective improved: keep new clusters\n",
      "Sampling a subset of 6400 / 8000 for training\n",
      "Clustering 6400 points in 7894D to 8 clusters, redo 10 times, 20 iterations\n",
      "  Preprocessing in 0.14 s\n",
      "Outer iteration 0 / 10\n",
      "  Iteration 19 (0.40 s, search 0.22 s): objective=3229.21 imbalance=1.591 nsplit=0       \n",
      "Objective improved: keep new clusters\n",
      "Outer iteration 1 / 10\n",
      "  Iteration 19 (0.80 s, search 0.43 s): objective=3236.77 imbalance=1.135 nsplit=0       \n",
      "Objective improved: keep new clusters\n",
      "Outer iteration 2 / 10\n",
      "  Iteration 19 (1.21 s, search 0.65 s): objective=3210.08 imbalance=2.132 nsplit=0       \n",
      "Outer iteration 3 / 10\n",
      "  Iteration 19 (1.61 s, search 0.87 s): objective=3202.66 imbalance=2.019 nsplit=0       \n",
      "Outer iteration 4 / 10\n",
      "  Iteration 19 (2.02 s, search 1.09 s): objective=3235.03 imbalance=1.244 nsplit=0       \n",
      "Outer iteration 5 / 10\n",
      "  Iteration 19 (2.43 s, search 1.31 s): objective=3221.23 imbalance=1.391 nsplit=0       \n",
      "Outer iteration 6 / 10\n",
      "  Iteration 19 (2.83 s, search 1.52 s): objective=3239.04 imbalance=1.346 nsplit=0       \n",
      "Objective improved: keep new clusters\n",
      "Outer iteration 7 / 10\n",
      "  Iteration 19 (3.23 s, search 1.74 s): objective=3232.92 imbalance=1.646 nsplit=0       \n",
      "Outer iteration 8 / 10\n",
      "  Iteration 19 (3.65 s, search 1.96 s): objective=3233.43 imbalance=1.287 nsplit=0       \n",
      "Outer iteration 9 / 10\n",
      "  Iteration 19 (4.05 s, search 2.18 s): objective=3236.54 imbalance=1.617 nsplit=0       \n",
      "Sampling a subset of 7200 / 8000 for training\n",
      "Clustering 7200 points in 7894D to 9 clusters, redo 10 times, 20 iterations\n",
      "  Preprocessing in 0.15 s\n",
      "Outer iteration 0 / 10\n",
      "  Iteration 19 (0.45 s, search 0.24 s): objective=3646.14 imbalance=1.251 nsplit=0       \n",
      "Objective improved: keep new clusters\n",
      "Outer iteration 1 / 10\n",
      "  Iteration 19 (0.91 s, search 0.49 s): objective=3647.19 imbalance=1.239 nsplit=0       \n",
      "Objective improved: keep new clusters\n",
      "Outer iteration 2 / 10\n",
      "  Iteration 19 (1.36 s, search 0.73 s): objective=3645.54 imbalance=1.343 nsplit=0       \n",
      "Outer iteration 3 / 10\n",
      "  Iteration 19 (1.81 s, search 0.97 s): objective=3656.11 imbalance=1.411 nsplit=0       \n",
      "Objective improved: keep new clusters\n",
      "Outer iteration 4 / 10\n",
      "  Iteration 19 (2.27 s, search 1.22 s): objective=3654.88 imbalance=1.442 nsplit=0       \n",
      "Outer iteration 5 / 10\n",
      "  Iteration 19 (2.72 s, search 1.46 s): objective=3649.42 imbalance=1.551 nsplit=0       \n",
      "Outer iteration 6 / 10\n",
      "  Iteration 19 (3.18 s, search 1.71 s): objective=3651.44 imbalance=1.230 nsplit=0       \n",
      "Outer iteration 7 / 10\n",
      "  Iteration 19 (3.63 s, search 1.95 s): objective=3658.6 imbalance=1.462 nsplit=0        \n",
      "Objective improved: keep new clusters\n",
      "Outer iteration 8 / 10\n",
      "  Iteration 19 (4.08 s, search 2.19 s): objective=3652.38 imbalance=1.302 nsplit=0       \n",
      "Outer iteration 9 / 10\n",
      "  Iteration 19 (4.53 s, search 2.43 s): objective=3658.2 imbalance=1.400 nsplit=0        \n",
      "Clustering 8000 points in 7894D to 10 clusters, redo 10 times, 20 iterations\n",
      "  Preprocessing in 0.04 s\n",
      "Outer iteration 0 / 10\n",
      "  Iteration 19 (0.50 s, search 0.27 s): objective=4060.07 imbalance=1.530 nsplit=0       \n",
      "Objective improved: keep new clusters\n",
      "Outer iteration 1 / 10\n",
      "  Iteration 19 (1.00 s, search 0.54 s): objective=4065.88 imbalance=1.130 nsplit=0       \n",
      "Objective improved: keep new clusters\n",
      "Outer iteration 2 / 10\n",
      "  Iteration 19 (1.51 s, search 0.81 s): objective=4066.22 imbalance=1.320 nsplit=0       \n",
      "Objective improved: keep new clusters\n",
      "Outer iteration 3 / 10\n",
      "  Iteration 19 (2.01 s, search 1.08 s): objective=4072.97 imbalance=1.198 nsplit=0       \n",
      "Objective improved: keep new clusters\n",
      "Outer iteration 4 / 10\n",
      "  Iteration 19 (2.51 s, search 1.35 s): objective=4025.95 imbalance=2.501 nsplit=0       \n",
      "Outer iteration 5 / 10\n",
      "  Iteration 19 (3.01 s, search 1.62 s): objective=4063.26 imbalance=1.454 nsplit=0       \n",
      "Outer iteration 6 / 10\n",
      "  Iteration 19 (3.52 s, search 1.90 s): objective=4061.17 imbalance=1.426 nsplit=0       \n",
      "Outer iteration 7 / 10\n",
      "  Iteration 19 (4.02 s, search 2.17 s): objective=4060.78 imbalance=1.322 nsplit=0       \n",
      "Outer iteration 8 / 10\n",
      "  Iteration 19 (4.52 s, search 2.44 s): objective=4067.98 imbalance=1.501 nsplit=0       \n",
      "Outer iteration 9 / 10\n",
      "  Iteration 19 (5.02 s, search 2.71 s): objective=4056.88 imbalance=1.204 nsplit=0       \n",
      "Clustering 8000 points in 7894D to 11 clusters, redo 10 times, 20 iterations\n",
      "  Preprocessing in 0.04 s\n",
      "Outer iteration 0 / 10\n",
      "  Iteration 19 (0.51 s, search 0.27 s): objective=4062.41 imbalance=1.655 nsplit=0       \n",
      "Objective improved: keep new clusters\n",
      "Outer iteration 1 / 10\n",
      "  Iteration 19 (1.00 s, search 0.55 s): objective=4068.29 imbalance=1.069 nsplit=0       \n",
      "Objective improved: keep new clusters\n",
      "Outer iteration 2 / 10\n",
      "  Iteration 19 (1.51 s, search 0.82 s): objective=4077.12 imbalance=1.247 nsplit=0       \n",
      "Objective improved: keep new clusters\n",
      "Outer iteration 3 / 10\n",
      "  Iteration 19 (2.02 s, search 1.09 s): objective=4075.14 imbalance=1.402 nsplit=0       \n",
      "Outer iteration 4 / 10\n",
      "  Iteration 19 (2.53 s, search 1.36 s): objective=4050.58 imbalance=1.672 nsplit=0       \n",
      "Outer iteration 5 / 10\n",
      "  Iteration 19 (3.03 s, search 1.63 s): objective=4067.96 imbalance=1.572 nsplit=0       \n",
      "Outer iteration 6 / 10\n",
      "  Iteration 19 (3.53 s, search 1.91 s): objective=4071.11 imbalance=1.269 nsplit=0       \n",
      "Outer iteration 7 / 10\n",
      "  Iteration 19 (4.04 s, search 2.18 s): objective=4066.95 imbalance=1.196 nsplit=0       \n",
      "Outer iteration 8 / 10\n",
      "  Iteration 19 (4.54 s, search 2.45 s): objective=4078.66 imbalance=1.494 nsplit=0       \n",
      "Objective improved: keep new clusters\n",
      "Outer iteration 9 / 10\n",
      "  Iteration 19 (5.05 s, search 2.72 s): objective=4067.23 imbalance=1.092 nsplit=0       \n",
      "Clustering 8000 points in 7894D to 12 clusters, redo 10 times, 20 iterations\n",
      "  Preprocessing in 0.04 s\n",
      "Outer iteration 0 / 10\n",
      "  Iteration 19 (0.50 s, search 0.27 s): objective=4082.29 imbalance=1.340 nsplit=0       \n",
      "Objective improved: keep new clusters\n",
      "Outer iteration 1 / 10\n",
      "  Iteration 19 (1.00 s, search 0.54 s): objective=4072.26 imbalance=1.137 nsplit=0       \n",
      "Outer iteration 2 / 10\n",
      "  Iteration 19 (1.50 s, search 0.81 s): objective=4086.61 imbalance=1.302 nsplit=0       \n",
      "Objective improved: keep new clusters\n",
      "Outer iteration 3 / 10\n",
      "  Iteration 19 (2.01 s, search 1.09 s): objective=4087.82 imbalance=1.168 nsplit=0       \n",
      "Objective improved: keep new clusters\n",
      "Outer iteration 4 / 10\n",
      "  Iteration 19 (2.52 s, search 1.36 s): objective=4054.31 imbalance=1.778 nsplit=0       \n",
      "Outer iteration 5 / 10\n",
      "  Iteration 19 (3.02 s, search 1.63 s): objective=4083.66 imbalance=1.372 nsplit=0       \n",
      "Outer iteration 6 / 10\n",
      "  Iteration 19 (3.53 s, search 1.90 s): objective=4074.9 imbalance=1.311 nsplit=0        \n",
      "Outer iteration 7 / 10\n",
      "  Iteration 19 (4.04 s, search 2.17 s): objective=4071.86 imbalance=1.294 nsplit=0       \n",
      "Outer iteration 8 / 10\n",
      "  Iteration 19 (4.54 s, search 2.44 s): objective=4085.43 imbalance=1.378 nsplit=0       \n",
      "Outer iteration 9 / 10\n",
      "  Iteration 19 (5.04 s, search 2.72 s): objective=4070.98 imbalance=1.108 nsplit=0       \n",
      "Clustering 8000 points in 7894D to 13 clusters, redo 10 times, 20 iterations\n",
      "  Preprocessing in 0.04 s\n",
      "Outer iteration 0 / 10\n",
      "  Iteration 19 (0.50 s, search 0.27 s): objective=4086.24 imbalance=1.436 nsplit=0       \n",
      "Objective improved: keep new clusters\n",
      "Outer iteration 1 / 10\n",
      "  Iteration 19 (1.00 s, search 0.54 s): objective=4082.78 imbalance=1.171 nsplit=0       \n",
      "Outer iteration 2 / 10\n",
      "  Iteration 19 (1.50 s, search 0.82 s): objective=4097.51 imbalance=1.379 nsplit=0       \n",
      "Objective improved: keep new clusters\n",
      "Outer iteration 3 / 10\n",
      "  Iteration 19 (2.00 s, search 1.09 s): objective=4099.13 imbalance=1.152 nsplit=0       \n",
      "Objective improved: keep new clusters\n",
      "Outer iteration 4 / 10\n",
      "  Iteration 19 (2.51 s, search 1.37 s): objective=4073.33 imbalance=1.591 nsplit=0       \n",
      "Outer iteration 5 / 10\n",
      "  Iteration 19 (3.00 s, search 1.64 s): objective=4081.48 imbalance=1.599 nsplit=0       \n",
      "Outer iteration 6 / 10\n",
      "  Iteration 19 (3.50 s, search 1.91 s): objective=4077.76 imbalance=1.367 nsplit=0       \n",
      "Outer iteration 7 / 10\n",
      "  Iteration 19 (4.01 s, search 2.18 s): objective=4080.28 imbalance=1.327 nsplit=0       \n",
      "Outer iteration 8 / 10\n",
      "  Iteration 19 (4.51 s, search 2.46 s): objective=4096.78 imbalance=1.302 nsplit=0       \n",
      "Outer iteration 9 / 10\n",
      "  Iteration 19 (5.01 s, search 2.73 s): objective=4077.42 imbalance=1.164 nsplit=0       \n",
      "Clustering 8000 points in 7894D to 14 clusters, redo 10 times, 20 iterations\n",
      "  Preprocessing in 0.04 s\n",
      "Outer iteration 0 / 10\n",
      "  Iteration 19 (0.51 s, search 0.27 s): objective=4089.24 imbalance=1.420 nsplit=0       \n",
      "Objective improved: keep new clusters\n",
      "Outer iteration 1 / 10\n",
      "  Iteration 19 (1.01 s, search 0.54 s): objective=4102.18 imbalance=1.252 nsplit=0       \n",
      "Objective improved: keep new clusters\n",
      "Outer iteration 2 / 10\n",
      "  Iteration 19 (1.51 s, search 0.81 s): objective=4098.8 imbalance=1.384 nsplit=0        \n",
      "Outer iteration 3 / 10\n",
      "  Iteration 19 (2.02 s, search 1.08 s): objective=4101.82 imbalance=1.206 nsplit=0       \n",
      "Outer iteration 4 / 10\n",
      "  Iteration 19 (2.52 s, search 1.36 s): objective=4077.09 imbalance=1.700 nsplit=0       \n",
      "Outer iteration 5 / 10\n",
      "  Iteration 19 (3.02 s, search 1.63 s): objective=4089.06 imbalance=1.526 nsplit=0       \n",
      "Outer iteration 6 / 10\n",
      "  Iteration 19 (3.53 s, search 1.90 s): objective=4091.42 imbalance=1.313 nsplit=0       \n",
      "Outer iteration 7 / 10\n",
      "  Iteration 19 (4.03 s, search 2.17 s): objective=4083.13 imbalance=1.420 nsplit=0       \n",
      "Outer iteration 8 / 10\n",
      "  Iteration 19 (4.53 s, search 2.45 s): objective=4099.61 imbalance=1.381 nsplit=0       \n",
      "Outer iteration 9 / 10\n",
      "  Iteration 19 (5.04 s, search 2.72 s): objective=4083.63 imbalance=1.165 nsplit=0       \n",
      "Clustering 8000 points in 7894D to 15 clusters, redo 10 times, 20 iterations\n",
      "  Preprocessing in 0.04 s\n",
      "Outer iteration 0 / 10\n",
      "  Iteration 19 (0.50 s, search 0.27 s): objective=4088.7 imbalance=1.547 nsplit=0        \n",
      "Objective improved: keep new clusters\n",
      "Outer iteration 1 / 10\n",
      "  Iteration 19 (1.00 s, search 0.54 s): objective=4106.74 imbalance=1.247 nsplit=0       \n",
      "Objective improved: keep new clusters\n",
      "Outer iteration 2 / 10\n",
      "  Iteration 19 (1.50 s, search 0.81 s): objective=4101.98 imbalance=1.460 nsplit=0       \n",
      "Outer iteration 3 / 10\n",
      "  Iteration 19 (2.00 s, search 1.08 s): objective=4107.47 imbalance=1.220 nsplit=0       \n",
      "Objective improved: keep new clusters\n",
      "Outer iteration 4 / 10\n",
      "  Iteration 19 (2.50 s, search 1.36 s): objective=4078.23 imbalance=1.812 nsplit=0       \n",
      "Outer iteration 5 / 10\n",
      "  Iteration 19 (3.00 s, search 1.63 s): objective=4090.46 imbalance=1.608 nsplit=0       \n",
      "Outer iteration 6 / 10\n",
      "  Iteration 19 (3.51 s, search 1.90 s): objective=4096.65 imbalance=1.298 nsplit=0       \n",
      "Outer iteration 7 / 10\n",
      "  Iteration 19 (4.01 s, search 2.17 s): objective=4093.69 imbalance=1.450 nsplit=0       \n",
      "Outer iteration 8 / 10\n",
      "  Iteration 19 (4.51 s, search 2.44 s): objective=4098.73 imbalance=1.432 nsplit=0       \n",
      "Outer iteration 9 / 10\n",
      "  Iteration 19 (5.01 s, search 2.72 s): objective=4084.93 imbalance=1.228 nsplit=0       \r"
     ]
    },
    {
     "data": {
      "text/plain": [
       "[<matplotlib.lines.Line2D at 0x708f9048d110>]"
      ]
     },
     "execution_count": 13,
     "metadata": {},
     "output_type": "execute_result"
    },
    {
     "data": {
      "image/png": "[encoded data removed]",
      "text/plain": [
       "<Figure size 432x288 with 1 Axes>"
      ]
     },
     "metadata": {
      "needs_background": "light"
     },
     "output_type": "display_data"
    }
   ],
   "source": [
    "# Elbow Plot\n",
    "niter = 20\n",
    "verbose = True\n",
    "dim = X_train.shape[1]\n",
    "\n",
    "k_vals = [k for k in range(5, 16)]\n",
    "wccs = []\n",
    "for k in k_vals:\n",
    "    kmeans = faiss.Kmeans(dim, k, niter = niter, verbose = verbose, gpu = True, nredo = 10, spherical = True, max_points_per_centroid = 800)\n",
    "    kmeans.train(X_train)\n",
    "    wccs.append(kmeans.obj[-1])\n",
    "\n",
    "plt.plot(k_vals, wccs)"
   ]
  },
  {
   "cell_type": "code",
   "execution_count": 14,
   "id": "289102b9",
   "metadata": {
    "scrolled": true,
    "tags": []
   },
   "outputs": [
    {
     "name": "stdout",
     "output_type": "stream",
     "text": [
      "\n",
      "Clustering 8000 points in 7894D to 10 clusters, redo 10 times, 20 iterations\n",
      "  Preprocessing in 0.04 s\n",
      "Outer iteration 0 / 10\n",
      "  Iteration 19 (0.50 s, search 0.27 s): objective=4060.07 imbalance=1.530 nsplit=0       \n",
      "Objective improved: keep new clusters\n",
      "Outer iteration 1 / 10\n",
      "  Iteration 19 (0.99 s, search 0.54 s): objective=4065.88 imbalance=1.130 nsplit=0       \n",
      "Objective improved: keep new clusters\n",
      "Outer iteration 2 / 10\n",
      "  Iteration 19 (1.53 s, search 0.84 s): objective=4066.22 imbalance=1.320 nsplit=0       \n",
      "Objective improved: keep new clusters\n",
      "Outer iteration 3 / 10\n",
      "  Iteration 19 (2.07 s, search 1.12 s): objective=4072.97 imbalance=1.198 nsplit=0       \n",
      "Objective improved: keep new clusters\n",
      "Outer iteration 4 / 10\n",
      "  Iteration 19 (2.57 s, search 1.39 s): objective=4025.95 imbalance=2.501 nsplit=0       \n",
      "Outer iteration 5 / 10\n",
      "  Iteration 19 (3.06 s, search 1.66 s): objective=4063.26 imbalance=1.454 nsplit=0       \n",
      "Outer iteration 6 / 10\n",
      "  Iteration 19 (3.56 s, search 1.93 s): objective=4061.17 imbalance=1.426 nsplit=0       \n",
      "Outer iteration 7 / 10\n",
      "  Iteration 19 (4.06 s, search 2.21 s): objective=4060.78 imbalance=1.322 nsplit=0       \n",
      "Outer iteration 8 / 10\n",
      "  Iteration 19 (4.56 s, search 2.48 s): objective=4067.98 imbalance=1.501 nsplit=0       \n",
      "Outer iteration 9 / 10\n",
      "  Iteration 19 (5.06 s, search 2.75 s): objective=4056.88 imbalance=1.204 nsplit=0       \r"
     ]
    },
    {
     "data": {
      "text/plain": [
       "4072.969482421875"
      ]
     },
     "execution_count": 14,
     "metadata": {},
     "output_type": "execute_result"
    }
   ],
   "source": [
    "# K-means Clustering\n",
    "\n",
    "# ncentroids = NUM_PROMPTS\n",
    "ncentroids = 10 # Elbow point - based on objective (sum of cosine similarities)\n",
    "niter = 20\n",
    "verbose = True\n",
    "dim = X_train.shape[1]\n",
    "kmeans = faiss.Kmeans(dim, ncentroids, niter = niter, verbose = verbose, gpu = True, nredo = 10, spherical = True, max_points_per_centroid = 800)\n",
    "kmeans.train(X_train)"
   ]
  },
  {
   "cell_type": "code",
   "execution_count": 15,
   "id": "19cf0f0a",
   "metadata": {
    "tags": []
   },
   "outputs": [
    {
     "data": {
      "text/plain": [
       "array([[ 0.00072117, -0.01702505,  0.01421015, ..., -0.01259057,\n",
       "        -0.0074159 ,  0.00208717],\n",
       "       [ 0.00515504, -0.01426059,  0.00612534, ..., -0.01137241,\n",
       "        -0.00495147,  0.00368165],\n",
       "       [ 0.00733705, -0.01802784,  0.01686674, ..., -0.00886045,\n",
       "        -0.01178247,  0.0054739 ],\n",
       "       ...,\n",
       "       [ 0.01432995, -0.00941101,  0.02120697, ..., -0.00023613,\n",
       "        -0.00527151,  0.00663354],\n",
       "       [ 0.00604765, -0.01240058,  0.01671424, ..., -0.00180755,\n",
       "        -0.01497418,  0.00689451],\n",
       "       [ 0.00940363, -0.00636714,  0.0212569 , ...,  0.00142964,\n",
       "        -0.00190154, -0.00306578]], dtype=float32)"
      ]
     },
     "execution_count": 15,
     "metadata": {},
     "output_type": "execute_result"
    }
   ],
   "source": [
    "kmeans.centroids #cluster centers"
   ]
  },
  {
   "cell_type": "code",
   "execution_count": 16,
   "id": "61e726e9",
   "metadata": {
    "tags": []
   },
   "outputs": [
    {
     "name": "stdout",
     "output_type": "stream",
     "text": [
      "0.9999999\n",
      "1.0\n",
      "0.99999994\n",
      "1.0\n",
      "1.0000001\n",
      "0.99999994\n",
      "1.0000001\n",
      "0.9999998\n",
      "1.0\n",
      "0.9999999\n"
     ]
    }
   ],
   "source": [
    "for centroid in kmeans.centroids:\n",
    "    print(np.linalg.norm(centroid))"
   ]
  },
  {
   "cell_type": "code",
   "execution_count": 17,
   "id": "e5e1fa18",
   "metadata": {
    "tags": []
   },
   "outputs": [
    {
     "data": {
      "text/plain": [
       "array([2356.34521484, 3923.12182617, 4023.43310547, 4038.67260742,\n",
       "       4046.828125  , 4050.94799805, 4053.79077148, 4055.93481445,\n",
       "       4057.31152344, 4058.52270508, 4059.4074707 , 4059.73242188,\n",
       "       4059.85742188, 4059.93286133, 4059.98632812, 4060.03125   ,\n",
       "       4060.05371094, 4060.06665039, 4060.06762695, 4060.07202148,\n",
       "       2314.61474609, 3930.16821289, 4020.91772461, 4046.39672852,\n",
       "       4054.73266602, 4056.80151367, 4058.47802734, 4059.67089844,\n",
       "       4060.2746582 , 4060.82177734, 4061.69165039, 4063.62060547,\n",
       "       4064.86523438, 4065.22875977, 4065.4309082 , 4065.55517578,\n",
       "       4065.66870117, 4065.76977539, 4065.82421875, 4065.87670898,\n",
       "       2294.60839844, 3939.39135742, 4030.20825195, 4050.01513672,\n",
       "       4058.88427734, 4063.39550781, 4064.99853516, 4065.53588867,\n",
       "       4065.76147461, 4065.84301758, 4065.91601562, 4065.97705078,\n",
       "       4066.01635742, 4066.06005859, 4066.08422852, 4066.10449219,\n",
       "       4066.15039062, 4066.17382812, 4066.19873047, 4066.22412109,\n",
       "       2244.9699707 , 3963.20483398, 4025.41552734, 4047.05371094,\n",
       "       4055.8371582 , 4060.8293457 , 4066.52026367, 4069.80712891,\n",
       "       4070.70214844, 4071.50683594, 4071.99121094, 4072.09619141,\n",
       "       4072.14428711, 4072.18725586, 4072.22583008, 4072.27172852,\n",
       "       4072.34204102, 4072.52978516, 4072.77172852, 4072.96948242])"
      ]
     },
     "execution_count": 17,
     "metadata": {},
     "output_type": "execute_result"
    }
   ],
   "source": [
    "kmeans.obj #inertia at each iteration"
   ]
  },
  {
   "cell_type": "code",
   "execution_count": 18,
   "id": "ed2c340d",
   "metadata": {
    "tags": []
   },
   "outputs": [],
   "source": [
    "cos_similarities = X_train @ kmeans.centroids.T\n",
    "classifications_train = np.argmax(cos_similarities, axis=1)"
   ]
  },
  {
   "cell_type": "code",
   "execution_count": 19,
   "id": "90aae79f",
   "metadata": {
    "tags": []
   },
   "outputs": [
    {
     "data": {
      "text/plain": [
       "6    1350\n",
       "2    1190\n",
       "4    1110\n",
       "1    1088\n",
       "5     825\n",
       "7     744\n",
       "0     474\n",
       "9     449\n",
       "3     438\n",
       "8     332\n",
       "dtype: int64"
      ]
     },
     "execution_count": 19,
     "metadata": {},
     "output_type": "execute_result"
    }
   ],
   "source": [
    "pd.Series(classifications_train).value_counts()"
   ]
  },
  {
   "cell_type": "code",
   "execution_count": 20,
   "id": "fc34c419-5d92-4dc6-8db4-9dc84b83a8d4",
   "metadata": {
    "tags": []
   },
   "outputs": [
    {
     "data": {
      "text/plain": [
       "[3, 2, 6, 10, 1, 5, 9, 6, 10, 3]"
      ]
     },
     "execution_count": 20,
     "metadata": {},
     "output_type": "execute_result"
    }
   ],
   "source": [
    "# Get most common label for each point classified to a centroid (same centroid)\n",
    "centroid_labels = [np.where(classifications_train == i)[0] for i in range(ncentroids)]\n",
    "max_label_per_centroid = [int(pd.Series(y_train[centroid_labels[i]]).value_counts().idxmax()) for i in range(ncentroids)]\n",
    "max_label_per_centroid"
   ]
  },
  {
   "cell_type": "code",
   "execution_count": 21,
   "id": "20e159a9-ef63-4a0e-8e94-52e041a5c416",
   "metadata": {
    "tags": []
   },
   "outputs": [],
   "source": [
    "centroid_to_label = {idx : max_label_per_centroid[idx] for idx in range(len(max_label_per_centroid))}"
   ]
  },
  {
   "cell_type": "code",
   "execution_count": 22,
   "id": "45760bd2-820d-462e-a8ef-8d054ed5dde4",
   "metadata": {
    "tags": []
   },
   "outputs": [
    {
     "data": {
      "text/plain": [
       "{0: 3, 1: 2, 2: 6, 3: 10, 4: 1, 5: 5, 6: 9, 7: 6, 8: 10, 9: 3}"
      ]
     },
     "execution_count": 22,
     "metadata": {},
     "output_type": "execute_result"
    }
   ],
   "source": [
    "centroid_to_label"
   ]
  },
  {
   "cell_type": "code",
   "execution_count": 23,
   "id": "b9cf2ac5-ce04-4efe-9828-041723e1f453",
   "metadata": {
    "tags": []
   },
   "outputs": [
    {
     "data": {
      "text/plain": [
       "array([ 6,  6,  6, ...,  6, 10, 10])"
      ]
     },
     "execution_count": 23,
     "metadata": {},
     "output_type": "execute_result"
    }
   ],
   "source": [
    "vectorized_map = np.vectorize(centroid_to_label.get)\n",
    "classifications_to_label = vectorized_map(classifications_train)\n",
    "\n",
    "classifications_to_label"
   ]
  },
  {
   "cell_type": "code",
   "execution_count": 24,
   "id": "c793f2dc-74de-4e3a-b0a8-3839b1be8dd9",
   "metadata": {
    "tags": []
   },
   "outputs": [
    {
     "name": "stdout",
     "output_type": "stream",
     "text": [
      "Prompt 1 Accuracy:  0.21625\n",
      "Prompt 2 Accuracy:  0.2075\n",
      "Prompt 3 Accuracy:  0.825\n",
      "Prompt 4 Accuracy:  0.0\n",
      "Prompt 5 Accuracy:  0.415\n",
      "Prompt 6 Accuracy:  0.47625\n",
      "Prompt 7 Accuracy:  0.0\n",
      "Prompt 8 Accuracy:  0.0\n",
      "Prompt 9 Accuracy:  0.34125\n",
      "Prompt 10 Accuracy:  0.81375\n"
     ]
    }
   ],
   "source": [
    "for i in range(10):\n",
    "    print(f\"Prompt {i + 1} Accuracy: \", np.mean(classifications_to_label[i * 800:(i + 1) * 800] == (i + 1)))"
   ]
  },
  {
   "cell_type": "code",
   "execution_count": 25,
   "id": "ac9d3497-d991-455d-a121-1a4c234314b0",
   "metadata": {
    "tags": []
   },
   "outputs": [
    {
     "name": "stdout",
     "output_type": "stream",
     "text": [
      "Overall Accuracy:  0.3295\n"
     ]
    }
   ],
   "source": [
    "print(f\"Overall Accuracy: \", np.mean(classifications_to_label == y_train))"
   ]
  },
  {
   "cell_type": "markdown",
   "id": "b8d32ef1-a624-4d32-abcb-8daacad47cdc",
   "metadata": {},
   "source": [
    "## Perform Inference on Test Set & Collect Test Accuracy"
   ]
  },
  {
   "cell_type": "code",
   "execution_count": 26,
   "id": "2431abbc-b684-4c06-8fd6-06c771a1c4fa",
   "metadata": {},
   "outputs": [],
   "source": [
    "cos_similarities = X_test @ kmeans.centroids.T\n",
    "classifications_test = np.argmax(cos_similarities, axis=1)"
   ]
  },
  {
   "cell_type": "code",
   "execution_count": 27,
   "id": "d9a7dd1c-884b-4bef-b538-6c0a65a6f7e4",
   "metadata": {},
   "outputs": [
    {
     "data": {
      "text/plain": [
       "6    345\n",
       "2    309\n",
       "1    294\n",
       "4    233\n",
       "5    208\n",
       "7    185\n",
       "3    127\n",
       "0    116\n",
       "9    106\n",
       "8     77\n",
       "dtype: int64"
      ]
     },
     "execution_count": 27,
     "metadata": {},
     "output_type": "execute_result"
    }
   ],
   "source": [
    "pd.Series(classifications_test).value_counts()"
   ]
  },
  {
   "cell_type": "code",
   "execution_count": 28,
   "id": "6fa74238-a2b3-4277-bcd6-88ab9d5caf4f",
   "metadata": {},
   "outputs": [
    {
     "data": {
      "text/plain": [
       "array([ 9,  2,  6, ..., 10, 10, 10])"
      ]
     },
     "execution_count": 28,
     "metadata": {},
     "output_type": "execute_result"
    }
   ],
   "source": [
    "classifications_to_label_test = vectorized_map(classifications_test)\n",
    "\n",
    "classifications_to_label_test"
   ]
  },
  {
   "cell_type": "code",
   "execution_count": 29,
   "id": "799e3a99-6659-44b7-becd-4d0825fd1957",
   "metadata": {},
   "outputs": [
    {
     "name": "stdout",
     "output_type": "stream",
     "text": [
      "Prompt 1 Accuracy:  0.135\n",
      "Prompt 2 Accuracy:  0.195\n",
      "Prompt 3 Accuracy:  0.775\n",
      "Prompt 4 Accuracy:  0.0\n",
      "Prompt 5 Accuracy:  0.455\n",
      "Prompt 6 Accuracy:  0.44\n",
      "Prompt 7 Accuracy:  0.0\n",
      "Prompt 8 Accuracy:  0.0\n",
      "Prompt 9 Accuracy:  0.35\n",
      "Prompt 10 Accuracy:  0.82\n"
     ]
    }
   ],
   "source": [
    "for i in range(10):\n",
    "    print(f\"Prompt {i + 1} Accuracy: \", np.mean(classifications_to_label_test[i * 200:(i + 1) * 200] == (i + 1)))"
   ]
  },
  {
   "cell_type": "code",
   "execution_count": 30,
   "id": "4f97cfa0-27da-4897-8e65-681b75ad51d7",
   "metadata": {},
   "outputs": [
    {
     "name": "stdout",
     "output_type": "stream",
     "text": [
      "Overall Accuracy:  0.317\n"
     ]
    }
   ],
   "source": [
    "print(f\"Overall Accuracy: \", np.mean(classifications_to_label_test == y_test))"
   ]
  },
  {
   "cell_type": "markdown",
   "id": "ee076424-49c5-4245-a3a3-56fba51465ea",
   "metadata": {},
   "source": [
    "## Confusion Matrix of Results"
   ]
  },
  {
   "cell_type": "code",
   "execution_count": 31,
   "id": "b9175267-2fef-4f02-930e-c263ec396f91",
   "metadata": {
    "tags": []
   },
   "outputs": [],
   "source": [
    "from sklearn.metrics import confusion_matrix, ConfusionMatrixDisplay\n",
    "import matplotlib.pyplot as plt"
   ]
  },
  {
   "cell_type": "code",
   "execution_count": 32,
   "id": "3c2c3ac7-26e3-42d5-860a-918d735776c1",
   "metadata": {
    "tags": []
   },
   "outputs": [
    {
     "data": {
      "image/png": "[encoded data removed]",
      "text/plain": [
       "<Figure size 432x288 with 2 Axes>"
      ]
     },
     "metadata": {
      "needs_background": "light"
     },
     "output_type": "display_data"
    }
   ],
   "source": [
    "cm = confusion_matrix(y_train, classifications_to_label)\n",
    "disp = ConfusionMatrixDisplay(confusion_matrix=cm, display_labels=[f\"{i}\" for i in range(1, 11)])\n",
    "\n",
    "disp.plot()\n",
    "plt.title('Confusion Matrix for Train Set')\n",
    "plt.show()"
   ]
  },
  {
   "cell_type": "code",
   "execution_count": 33,
   "id": "03a45427-f767-4838-968e-c341eca03746",
   "metadata": {
    "tags": []
   },
   "outputs": [
    {
     "data": {
      "image/png": "[encoded data removed]",
      "text/plain": [
       "<Figure size 432x288 with 2 Axes>"
      ]
     },
     "metadata": {
      "needs_background": "light"
     },
     "output_type": "display_data"
    }
   ],
   "source": [
    "cm = confusion_matrix(y_test, classifications_to_label_test)\n",
    "disp = ConfusionMatrixDisplay(confusion_matrix=cm, display_labels=[f\"{i}\" for i in range(1, 11)])\n",
    "\n",
    "disp.plot()\n",
    "plt.title('Confusion Matrix for Test Set')\n",
    "plt.show()"
   ]
  },
  {
   "cell_type": "code",
   "execution_count": null,
   "id": "1322b9ab-2b94-4d00-95cf-1b3741b9f482",
   "metadata": {},
   "outputs": [],
   "source": []
  },
  {
   "cell_type": "code",
   "execution_count": null,
   "id": "de826fc3-e67f-45cb-bb74-15dfcbd3d18d",
   "metadata": {},
   "outputs": [],
   "source": []
  }
 ],
 "metadata": {
  "kernelspec": {
   "display_name": "Python 3 (ipykernel)",
   "language": "python",
   "name": "python3"
  },
  "language_info": {
   "codemirror_mode": {
    "name": "ipython",
    "version": 3
   },
   "file_extension": ".py",
   "mimetype": "text/x-python",
   "name": "python",
   "nbconvert_exporter": "python",
   "pygments_lexer": "ipython3",
   "version": "3.7.11"
  }
 },
 "nbformat": 4,
 "nbformat_minor": 5
}
