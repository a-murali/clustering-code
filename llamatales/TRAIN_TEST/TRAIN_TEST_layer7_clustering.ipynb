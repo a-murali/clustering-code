{
 "cells": [
  {
   "cell_type": "markdown",
   "id": "64c867a4-b1c3-426b-b086-de071a726ebf",
   "metadata": {},
   "source": [
    "## Install Packages"
   ]
  },
  {
   "cell_type": "code",
   "execution_count": 1,
   "id": "80849741",
   "metadata": {
    "tags": []
   },
   "outputs": [
    {
     "name": "stdout",
     "output_type": "stream",
     "text": [
      "Collecting package metadata (current_repodata.json): | WARNING conda.models.version:get_matcher(538): Using .* with relational operator is superfluous and deprecated and will be removed in a future version of conda. Your spec was 1.7.1.*, but conda is ignoring the .* and treating it as 1.7.1\n",
      "done\n",
      "Solving environment: done\n",
      "\n",
      "## Package Plan ##\n",
      "\n",
      "  environment location: /opt/conda\n",
      "\n",
      "  added / updated specs:\n",
      "    - faiss-gpu\n",
      "\n",
      "\n",
      "The following packages will be downloaded:\n",
      "\n",
      "    package                    |            build\n",
      "    ---------------------------|-----------------\n",
      "    conda-4.14.0               |   py37h89c1867_0        1010 KB  conda-forge\n",
      "    toolz-0.12.1               |     pyhd8ed1ab_0          51 KB  conda-forge\n",
      "    ------------------------------------------------------------\n",
      "                                           Total:         1.0 MB\n",
      "\n",
      "The following NEW packages will be INSTALLED:\n",
      "\n",
      "  toolz              conda-forge/noarch::toolz-0.12.1-pyhd8ed1ab_0\n",
      "\n",
      "The following packages will be UPDATED:\n",
      "\n",
      "  conda                               4.12.0-py37h89c1867_0 --> 4.14.0-py37h89c1867_0\n",
      "\n",
      "\n",
      "\n",
      "Downloading and Extracting Packages\n",
      "toolz-0.12.1         | 51 KB     | ##################################### | 100% \n",
      "conda-4.14.0         | 1010 KB   | ##################################### | 100% \n",
      "Preparing transaction: done\n",
      "Verifying transaction: done\n",
      "Executing transaction: done\n",
      "Get:1 http://security.ubuntu.com/ubuntu bionic-security InRelease [102 kB]\n",
      "Hit:2 http://archive.ubuntu.com/ubuntu bionic InRelease\n",
      "Get:3 http://archive.ubuntu.com/ubuntu bionic-updates InRelease [102 kB]\n",
      "Get:4 http://archive.ubuntu.com/ubuntu bionic-backports InRelease [102 kB]\n",
      "Fetched 305 kB in 1s (256 kB/s)                            \n",
      "Reading package lists... Done\n",
      "Reading package lists... Done\n",
      "Building dependency tree       \n",
      "Reading state information... Done\n",
      "libatlas-base-dev is already the newest version (3.10.3-5).\n",
      "0 upgraded, 0 newly installed, 0 to remove and 83 not upgraded.\n"
     ]
    }
   ],
   "source": [
    "!conda install -y -c conda-forge faiss-gpu\n",
    "!apt-get -y update\n",
    "!apt-get -y install libatlas-base-dev"
   ]
  },
  {
   "cell_type": "markdown",
   "id": "ea6af1a5-1aef-4743-bfa6-7392ed97dbe7",
   "metadata": {},
   "source": [
    "## Load Data"
   ]
  },
  {
   "cell_type": "code",
   "execution_count": 2,
   "id": "e26dddbf",
   "metadata": {
    "tags": []
   },
   "outputs": [],
   "source": [
    "import pandas as pd\n",
    "import numpy as np\n",
    "import matplotlib.pyplot as plt\n",
    "\n",
    "from sklearn.random_projection import GaussianRandomProjection\n",
    "\n",
    "from tqdm import tqdm\n",
    "\n",
    "import faiss"
   ]
  },
  {
   "cell_type": "code",
   "execution_count": 3,
   "id": "89c2cffa",
   "metadata": {
    "tags": []
   },
   "outputs": [
    {
     "data": {
      "text/html": [
       "<div>\n",
       "<style scoped>\n",
       "    .dataframe tbody tr th:only-of-type {\n",
       "        vertical-align: middle;\n",
       "    }\n",
       "\n",
       "    .dataframe tbody tr th {\n",
       "        vertical-align: top;\n",
       "    }\n",
       "\n",
       "    .dataframe thead th {\n",
       "        text-align: right;\n",
       "    }\n",
       "</style>\n",
       "<table border=\"1\" class=\"dataframe\">\n",
       "  <thead>\n",
       "    <tr style=\"text-align: right;\">\n",
       "      <th></th>\n",
       "      <th>prompt_id</th>\n",
       "      <th>prompt</th>\n",
       "      <th>story</th>\n",
       "      <th>hidden_state_file</th>\n",
       "      <th>len_generated_story</th>\n",
       "      <th>len_new_story</th>\n",
       "    </tr>\n",
       "  </thead>\n",
       "  <tbody>\n",
       "    <tr>\n",
       "      <th>0</th>\n",
       "      <td>1</td>\n",
       "      <td>Once upon a time there was a dragon</td>\n",
       "      <td>Once upon a time there was a dragon named Blaz...</td>\n",
       "      <td>./hidden_states/prompt_1.npz</td>\n",
       "      <td>270</td>\n",
       "      <td>271</td>\n",
       "    </tr>\n",
       "    <tr>\n",
       "      <th>1</th>\n",
       "      <td>1</td>\n",
       "      <td>Once upon a time there was a dragon</td>\n",
       "      <td>Once upon a time there was a dragon named Spar...</td>\n",
       "      <td>./hidden_states/prompt_1.npz</td>\n",
       "      <td>349</td>\n",
       "      <td>350</td>\n",
       "    </tr>\n",
       "    <tr>\n",
       "      <th>2</th>\n",
       "      <td>1</td>\n",
       "      <td>Once upon a time there was a dragon</td>\n",
       "      <td>Once upon a time there was a dragon named Scor...</td>\n",
       "      <td>./hidden_states/prompt_1.npz</td>\n",
       "      <td>278</td>\n",
       "      <td>278</td>\n",
       "    </tr>\n",
       "    <tr>\n",
       "      <th>3</th>\n",
       "      <td>1</td>\n",
       "      <td>Once upon a time there was a dragon</td>\n",
       "      <td>Once upon a time there was a dragon. The drago...</td>\n",
       "      <td>./hidden_states/prompt_1.npz</td>\n",
       "      <td>117</td>\n",
       "      <td>118</td>\n",
       "    </tr>\n",
       "    <tr>\n",
       "      <th>4</th>\n",
       "      <td>1</td>\n",
       "      <td>Once upon a time there was a dragon</td>\n",
       "      <td>Once upon a time there was a dragon. The drago...</td>\n",
       "      <td>./hidden_states/prompt_1.npz</td>\n",
       "      <td>129</td>\n",
       "      <td>130</td>\n",
       "    </tr>\n",
       "    <tr>\n",
       "      <th>...</th>\n",
       "      <td>...</td>\n",
       "      <td>...</td>\n",
       "      <td>...</td>\n",
       "      <td>...</td>\n",
       "      <td>...</td>\n",
       "      <td>...</td>\n",
       "    </tr>\n",
       "    <tr>\n",
       "      <th>9995</th>\n",
       "      <td>10</td>\n",
       "      <td>Once upon a time there was a poor boy</td>\n",
       "      <td>Once upon a time there was a poor boy named Ti...</td>\n",
       "      <td>./hidden_states/prompt_10.npz</td>\n",
       "      <td>289</td>\n",
       "      <td>290</td>\n",
       "    </tr>\n",
       "    <tr>\n",
       "      <th>9996</th>\n",
       "      <td>10</td>\n",
       "      <td>Once upon a time there was a poor boy</td>\n",
       "      <td>Once upon a time there was a poor boy named Ti...</td>\n",
       "      <td>./hidden_states/prompt_10.npz</td>\n",
       "      <td>119</td>\n",
       "      <td>119</td>\n",
       "    </tr>\n",
       "    <tr>\n",
       "      <th>9997</th>\n",
       "      <td>10</td>\n",
       "      <td>Once upon a time there was a poor boy</td>\n",
       "      <td>Once upon a time there was a poor boy named Ti...</td>\n",
       "      <td>./hidden_states/prompt_10.npz</td>\n",
       "      <td>127</td>\n",
       "      <td>128</td>\n",
       "    </tr>\n",
       "    <tr>\n",
       "      <th>9998</th>\n",
       "      <td>10</td>\n",
       "      <td>Once upon a time there was a poor boy</td>\n",
       "      <td>Once upon a time there was a poor boy named Ti...</td>\n",
       "      <td>./hidden_states/prompt_10.npz</td>\n",
       "      <td>441</td>\n",
       "      <td>441</td>\n",
       "    </tr>\n",
       "    <tr>\n",
       "      <th>9999</th>\n",
       "      <td>10</td>\n",
       "      <td>Once upon a time there was a poor boy</td>\n",
       "      <td>Once upon a time there was a poor boy named Ti...</td>\n",
       "      <td>./hidden_states/prompt_10.npz</td>\n",
       "      <td>520</td>\n",
       "      <td>521</td>\n",
       "    </tr>\n",
       "  </tbody>\n",
       "</table>\n",
       "<p>10000 rows × 6 columns</p>\n",
       "</div>"
      ],
      "text/plain": [
       "      prompt_id                                 prompt  \\\n",
       "0             1    Once upon a time there was a dragon   \n",
       "1             1    Once upon a time there was a dragon   \n",
       "2             1    Once upon a time there was a dragon   \n",
       "3             1    Once upon a time there was a dragon   \n",
       "4             1    Once upon a time there was a dragon   \n",
       "...         ...                                    ...   \n",
       "9995         10  Once upon a time there was a poor boy   \n",
       "9996         10  Once upon a time there was a poor boy   \n",
       "9997         10  Once upon a time there was a poor boy   \n",
       "9998         10  Once upon a time there was a poor boy   \n",
       "9999         10  Once upon a time there was a poor boy   \n",
       "\n",
       "                                                  story  \\\n",
       "0     Once upon a time there was a dragon named Blaz...   \n",
       "1     Once upon a time there was a dragon named Spar...   \n",
       "2     Once upon a time there was a dragon named Scor...   \n",
       "3     Once upon a time there was a dragon. The drago...   \n",
       "4     Once upon a time there was a dragon. The drago...   \n",
       "...                                                 ...   \n",
       "9995  Once upon a time there was a poor boy named Ti...   \n",
       "9996  Once upon a time there was a poor boy named Ti...   \n",
       "9997  Once upon a time there was a poor boy named Ti...   \n",
       "9998  Once upon a time there was a poor boy named Ti...   \n",
       "9999  Once upon a time there was a poor boy named Ti...   \n",
       "\n",
       "                  hidden_state_file  len_generated_story  len_new_story  \n",
       "0      ./hidden_states/prompt_1.npz                  270            271  \n",
       "1      ./hidden_states/prompt_1.npz                  349            350  \n",
       "2      ./hidden_states/prompt_1.npz                  278            278  \n",
       "3      ./hidden_states/prompt_1.npz                  117            118  \n",
       "4      ./hidden_states/prompt_1.npz                  129            130  \n",
       "...                             ...                  ...            ...  \n",
       "9995  ./hidden_states/prompt_10.npz                  289            290  \n",
       "9996  ./hidden_states/prompt_10.npz                  119            119  \n",
       "9997  ./hidden_states/prompt_10.npz                  127            128  \n",
       "9998  ./hidden_states/prompt_10.npz                  441            441  \n",
       "9999  ./hidden_states/prompt_10.npz                  520            521  \n",
       "\n",
       "[10000 rows x 6 columns]"
      ]
     },
     "execution_count": 3,
     "metadata": {},
     "output_type": "execute_result"
    }
   ],
   "source": [
    "df = pd.read_csv(\"../story_dataset.csv\")\n",
    "df"
   ]
  },
  {
   "cell_type": "code",
   "execution_count": 4,
   "id": "c081cc09",
   "metadata": {
    "tags": []
   },
   "outputs": [
    {
     "data": {
      "text/plain": [
       "522"
      ]
     },
     "execution_count": 4,
     "metadata": {},
     "output_type": "execute_result"
    }
   ],
   "source": [
    "max_story_len = max(df[\"len_generated_story\"])\n",
    "max_story_len"
   ]
  },
  {
   "cell_type": "code",
   "execution_count": 5,
   "id": "212c067a",
   "metadata": {
    "scrolled": true,
    "tags": []
   },
   "outputs": [
    {
     "name": "stderr",
     "output_type": "stream",
     "text": [
      "100%|███████████████████████████████████████████████████████████████████████████████| 1000/1000 [04:22<00:00,  3.82it/s]\n",
      "100%|███████████████████████████████████████████████████████████████████████████████| 1000/1000 [04:09<00:00,  4.01it/s]\n",
      "100%|███████████████████████████████████████████████████████████████████████████████| 1000/1000 [03:31<00:00,  4.72it/s]\n",
      "100%|███████████████████████████████████████████████████████████████████████████████| 1000/1000 [04:06<00:00,  4.06it/s]\n",
      "100%|███████████████████████████████████████████████████████████████████████████████| 1000/1000 [04:09<00:00,  4.00it/s]\n",
      "100%|███████████████████████████████████████████████████████████████████████████████| 1000/1000 [04:08<00:00,  4.02it/s]\n",
      "100%|███████████████████████████████████████████████████████████████████████████████| 1000/1000 [04:05<00:00,  4.07it/s]\n",
      "100%|███████████████████████████████████████████████████████████████████████████████| 1000/1000 [03:38<00:00,  4.58it/s]\n",
      "100%|███████████████████████████████████████████████████████████████████████████████| 1000/1000 [00:21<00:00, 46.78it/s]\n",
      "100%|███████████████████████████████████████████████████████████████████████████████| 1000/1000 [00:22<00:00, 43.53it/s]\n"
     ]
    }
   ],
   "source": [
    "hidden_states_by_layer = {}\n",
    "NUM_PROMPTS = 10\n",
    "\n",
    "for prompt_id in range(1, NUM_PROMPTS + 1):\n",
    "    with np.load(f'../hidden_states/prompt_{prompt_id}.npz') as loaded_data:\n",
    "        for i in tqdm(range(1000)):\n",
    "            curr_hidden_states = loaded_data[f\"arr_{i}\"][0]\n",
    "#             print(curr_hidden_states.shape)\n",
    "            for layer in range(7, 8):\n",
    "                padded_arr = np.zeros((max_story_len, 512))\n",
    "                padded_arr_len = len(curr_hidden_states[layer][0])\n",
    "                \n",
    "                padded_arr[:padded_arr_len] = curr_hidden_states[layer][0]\n",
    "                \n",
    "                padded_arr = padded_arr.flatten().astype('float32') #FAISS expects data in type float32 instead of float64 - saves memory too!\n",
    "#                 print(padded_arr.shape)\n",
    "                \n",
    "                if(f\"layer_{layer}\" in hidden_states_by_layer):\n",
    "                    hidden_states_by_layer[f\"layer_{layer}\"].append(padded_arr)\n",
    "                else:\n",
    "                    hidden_states_by_layer[f\"layer_{layer}\"] = [padded_arr]"
   ]
  },
  {
   "cell_type": "code",
   "execution_count": 6,
   "id": "ad23eb70",
   "metadata": {
    "tags": []
   },
   "outputs": [
    {
     "data": {
      "text/plain": [
       "(10000, 267264)"
      ]
     },
     "execution_count": 6,
     "metadata": {},
     "output_type": "execute_result"
    }
   ],
   "source": [
    "layer_hs_array = np.array(hidden_states_by_layer[\"layer_7\"])\n",
    "layer_hs_array.shape"
   ]
  },
  {
   "cell_type": "markdown",
   "id": "e44eecd8-9f29-457b-8f65-d8eae3b84eb8",
   "metadata": {
    "tags": []
   },
   "source": [
    "## Layer 7 Clustering"
   ]
  },
  {
   "cell_type": "code",
   "execution_count": 7,
   "id": "49cf7b1b",
   "metadata": {
    "tags": []
   },
   "outputs": [],
   "source": [
    "# Use original vectors for clustering - uncomment next line and comment out last two lines\n",
    "\n",
    "dim_reduced_vecs = layer_hs_array\n",
    "\n",
    "# random_projector = GaussianRandomProjection(random_state = 42)\n",
    "# dim_reduced_vecs = random_projector.fit_transform(layer_hs_array).astype('float32')"
   ]
  },
  {
   "cell_type": "code",
   "execution_count": 8,
   "id": "b9257701",
   "metadata": {
    "tags": []
   },
   "outputs": [
    {
     "data": {
      "text/plain": [
       "(10000, 267264)"
      ]
     },
     "execution_count": 8,
     "metadata": {},
     "output_type": "execute_result"
    }
   ],
   "source": [
    "dim_reduced_vecs = np.array([v / np.linalg.norm(v) for v in dim_reduced_vecs])\n",
    "dim_reduced_vecs.shape"
   ]
  },
  {
   "cell_type": "code",
   "execution_count": 9,
   "id": "22e1c2a5-03fa-43fd-90d4-609a0d949829",
   "metadata": {
    "tags": []
   },
   "outputs": [
    {
     "data": {
      "text/plain": [
       "array([ 1,  1,  1, ..., 10, 10, 10])"
      ]
     },
     "execution_count": 9,
     "metadata": {},
     "output_type": "execute_result"
    }
   ],
   "source": [
    "prompt_ids = df[\"prompt_id\"]\n",
    "prompt_ids = prompt_ids.to_numpy()\n",
    "prompt_ids"
   ]
  },
  {
   "cell_type": "code",
   "execution_count": 10,
   "id": "bd963a3c-0ad1-416a-9fc6-a13bf2422fcd",
   "metadata": {},
   "outputs": [],
   "source": [
    "X_train = np.zeros((int(0.8 * dim_reduced_vecs.shape[0]), dim_reduced_vecs.shape[1]), dtype = np.float32)\n",
    "y_train = np.zeros(int(0.8 * dim_reduced_vecs.shape[0]))\n",
    "\n",
    "X_test = np.zeros((int(0.2 * dim_reduced_vecs.shape[0]), dim_reduced_vecs.shape[1]), dtype = np.float32)\n",
    "y_test = np.zeros(int(0.2 * dim_reduced_vecs.shape[0]))"
   ]
  },
  {
   "cell_type": "code",
   "execution_count": 11,
   "id": "6b84c6a1-29cc-4096-9eb1-420301a7065f",
   "metadata": {},
   "outputs": [],
   "source": [
    "for i in range(10):\n",
    "    X_train[i * 800 : (i + 1) * 800] = dim_reduced_vecs[i * 1000 : (i * 1000) + 800]\n",
    "    y_train[i * 800 : (i + 1) * 800] = prompt_ids[i * 1000 : (i * 1000) + 800]\n",
    "    \n",
    "    X_test[i * 200 : (i + 1) * 200] = dim_reduced_vecs[(i * 1000) + 800 : (i + 1) * 1000]\n",
    "    y_test[i * 200 : (i + 1) * 200] = prompt_ids[(i * 1000) + 800 : (i + 1) * 1000]"
   ]
  },
  {
   "cell_type": "code",
   "execution_count": 12,
   "id": "e7c2f695-573c-4abe-ab7b-eaa4a1661cd2",
   "metadata": {},
   "outputs": [
    {
     "name": "stdout",
     "output_type": "stream",
     "text": [
      "(8000, 267264)\n",
      "(8000,)\n",
      "(2000, 267264)\n",
      "(2000,)\n"
     ]
    }
   ],
   "source": [
    "print(X_train.shape)\n",
    "print(y_train.shape)\n",
    "print(X_test.shape)\n",
    "print(y_test.shape)"
   ]
  },
  {
   "cell_type": "code",
   "execution_count": 13,
   "id": "8aebf88b-1d51-48d2-945c-311b5fc70963",
   "metadata": {},
   "outputs": [
    {
     "name": "stdout",
     "output_type": "stream",
     "text": [
      "Sampling a subset of 4000 / 8000 for training\n",
      "Clustering 4000 points in 267264D to 5 clusters, redo 10 times, 20 iterations\n",
      "  Preprocessing in 3.65 s\n",
      "Outer iteration 0 / 10\n",
      "  Iteration 19 (10.97 s, search 7.36 s): objective=2003.31 imbalance=1.066 nsplit=0       \n",
      "Objective improved: keep new clusters\n",
      "Outer iteration 1 / 10\n",
      "  Iteration 19 (21.90 s, search 14.67 s): objective=2006.25 imbalance=1.145 nsplit=0       \n",
      "Objective improved: keep new clusters\n",
      "Outer iteration 2 / 10\n",
      "  Iteration 19 (32.83 s, search 22.00 s): objective=2002.14 imbalance=1.033 nsplit=0       \n",
      "Outer iteration 3 / 10\n",
      "  Iteration 19 (43.75 s, search 29.30 s): objective=2006.43 imbalance=1.209 nsplit=0       \n",
      "Objective improved: keep new clusters\n",
      "Outer iteration 4 / 10\n",
      "  Iteration 19 (54.72 s, search 36.67 s): objective=1995.85 imbalance=1.503 nsplit=0       \n",
      "Outer iteration 5 / 10\n",
      "  Iteration 19 (65.64 s, search 43.98 s): objective=1993.01 imbalance=1.676 nsplit=0       \n",
      "Outer iteration 6 / 10\n",
      "  Iteration 19 (76.58 s, search 51.32 s): objective=2007.68 imbalance=1.217 nsplit=0       \n",
      "Objective improved: keep new clusters\n",
      "Outer iteration 7 / 10\n",
      "  Iteration 19 (87.52 s, search 58.63 s): objective=1994.08 imbalance=1.482 nsplit=0       \n",
      "Outer iteration 8 / 10\n",
      "  Iteration 19 (98.49 s, search 65.97 s): objective=2002.62 imbalance=1.029 nsplit=0       \n",
      "Outer iteration 9 / 10\n",
      "  Iteration 19 (109.48 s, search 73.33 s): objective=2007.43 imbalance=1.254 nsplit=0       \n",
      "Sampling a subset of 4800 / 8000 for training\n",
      "Clustering 4800 points in 267264D to 6 clusters, redo 10 times, 20 iterations\n",
      "  Preprocessing in 3.44 s\n",
      "Outer iteration 0 / 10\n",
      "  Iteration 19 (13.19 s, search 8.84 s): objective=2409.26 imbalance=1.218 nsplit=0       \n",
      "Objective improved: keep new clusters\n",
      "Outer iteration 1 / 10\n",
      "  Iteration 19 (26.35 s, search 17.65 s): objective=2404.53 imbalance=1.517 nsplit=0       \n",
      "Outer iteration 2 / 10\n",
      "  Iteration 19 (39.55 s, search 26.50 s): objective=2411.6 imbalance=1.298 nsplit=0       \n",
      "Objective improved: keep new clusters\n",
      "Outer iteration 3 / 10\n",
      "  Iteration 19 (52.72 s, search 35.32 s): objective=2406.48 imbalance=1.208 nsplit=0       \n",
      "Outer iteration 4 / 10\n",
      "  Iteration 19 (65.92 s, search 44.17 s): objective=2411.53 imbalance=1.329 nsplit=0       \n",
      "Outer iteration 5 / 10\n",
      "  Iteration 19 (79.07 s, search 52.98 s): objective=2407.55 imbalance=1.023 nsplit=0       \n",
      "Outer iteration 6 / 10\n",
      "  Iteration 19 (92.20 s, search 61.77 s): objective=2411.61 imbalance=1.196 nsplit=0       \n",
      "Objective improved: keep new clusters\n",
      "Outer iteration 7 / 10\n",
      "  Iteration 19 (105.35 s, search 70.59 s): objective=2404.45 imbalance=1.154 nsplit=0       \n",
      "Outer iteration 8 / 10\n",
      "  Iteration 19 (118.50 s, search 79.40 s): objective=2411.02 imbalance=1.096 nsplit=0       \n",
      "Outer iteration 9 / 10\n",
      "  Iteration 19 (131.62 s, search 88.18 s): objective=2404.73 imbalance=1.498 nsplit=0       \n",
      "Sampling a subset of 5600 / 8000 for training\n",
      "Clustering 5600 points in 267264D to 7 clusters, redo 10 times, 20 iterations\n",
      "  Preprocessing in 3.79 s\n",
      "Outer iteration 0 / 10\n",
      "  Iteration 19 (15.58 s, search 10.38 s): objective=2823.16 imbalance=1.096 nsplit=0       \n",
      "Objective improved: keep new clusters\n",
      "Outer iteration 1 / 10\n",
      "  Iteration 19 (30.91 s, search 20.62 s): objective=2812.52 imbalance=1.499 nsplit=0       \n",
      "Outer iteration 2 / 10\n",
      "  Iteration 19 (46.21 s, search 30.85 s): objective=2819.85 imbalance=1.301 nsplit=0       \n",
      "Outer iteration 3 / 10\n",
      "  Iteration 19 (61.52 s, search 41.10 s): objective=2813.3 imbalance=1.258 nsplit=0        \n",
      "Outer iteration 4 / 10\n",
      "  Iteration 19 (76.84 s, search 51.33 s): objective=2824.17 imbalance=1.567 nsplit=0       \n",
      "Objective improved: keep new clusters\n",
      "Outer iteration 5 / 10\n",
      "  Iteration 19 (92.16 s, search 61.58 s): objective=2815.04 imbalance=1.260 nsplit=0       \n",
      "Outer iteration 6 / 10\n",
      "  Iteration 19 (107.50 s, search 71.85 s): objective=2820.05 imbalance=1.228 nsplit=0       \n",
      "Outer iteration 7 / 10\n",
      "  Iteration 19 (122.81 s, search 82.10 s): objective=2821.86 imbalance=1.275 nsplit=0       \n",
      "Outer iteration 8 / 10\n",
      "  Iteration 19 (138.11 s, search 92.34 s): objective=2813.47 imbalance=1.182 nsplit=0       \n",
      "Outer iteration 9 / 10\n",
      "  Iteration 19 (153.40 s, search 102.58 s): objective=2822.87 imbalance=1.371 nsplit=0       \n",
      "Sampling a subset of 6400 / 8000 for training\n",
      "Clustering 6400 points in 267264D to 8 clusters, redo 10 times, 20 iterations\n",
      "  Preprocessing in 4.14 s\n",
      "Outer iteration 0 / 10\n",
      "  Iteration 19 (17.39 s, search 11.72 s): objective=3230.78 imbalance=1.253 nsplit=0       \n",
      "Objective improved: keep new clusters\n",
      "Outer iteration 1 / 10\n",
      "  Iteration 19 (34.77 s, search 23.41 s): objective=3228.37 imbalance=1.174 nsplit=0       \n",
      "Outer iteration 2 / 10\n",
      "  Iteration 19 (52.20 s, search 35.12 s): objective=3199.18 imbalance=2.125 nsplit=0       \n",
      "Outer iteration 3 / 10\n",
      "  Iteration 19 (69.68 s, search 46.83 s): objective=3192.76 imbalance=2.180 nsplit=0       \n",
      "Outer iteration 4 / 10\n",
      "  Iteration 19 (87.10 s, search 58.55 s): objective=3225.55 imbalance=1.262 nsplit=0       \n",
      "Outer iteration 5 / 10\n",
      "  Iteration 19 (104.50 s, search 70.25 s): objective=3215.67 imbalance=1.348 nsplit=0       \n",
      "Outer iteration 6 / 10\n",
      "  Iteration 19 (121.93 s, search 81.97 s): objective=3231.32 imbalance=1.422 nsplit=0       \n",
      "Objective improved: keep new clusters\n",
      "Outer iteration 7 / 10\n",
      "  Iteration 19 (139.30 s, search 93.66 s): objective=3221.89 imbalance=1.391 nsplit=0       \n",
      "Outer iteration 8 / 10\n",
      "  Iteration 19 (156.69 s, search 105.37 s): objective=3220.99 imbalance=1.357 nsplit=0       \n",
      "Outer iteration 9 / 10\n",
      "  Iteration 19 (174.11 s, search 117.08 s): objective=3233.73 imbalance=1.479 nsplit=0       \n",
      "Objective improved: keep new clusters\n",
      "Sampling a subset of 7200 / 8000 for training\n",
      "Clustering 7200 points in 267264D to 9 clusters, redo 10 times, 20 iterations\n",
      "  Preprocessing in 4.50 s\n",
      "Outer iteration 0 / 10\n",
      "  Iteration 19 (19.56 s, search 13.16 s): objective=3631.42 imbalance=1.393 nsplit=0       \n",
      "Objective improved: keep new clusters\n",
      "Outer iteration 1 / 10\n",
      "  Iteration 19 (39.35 s, search 26.44 s): objective=3637.66 imbalance=1.235 nsplit=0       \n",
      "Objective improved: keep new clusters\n",
      "Outer iteration 2 / 10\n",
      "  Iteration 19 (58.95 s, search 39.60 s): objective=3635.97 imbalance=1.278 nsplit=0       \n",
      "Outer iteration 3 / 10\n",
      "  Iteration 19 (78.51 s, search 52.76 s): objective=3646.9 imbalance=1.181 nsplit=0        \n",
      "Objective improved: keep new clusters\n",
      "Outer iteration 4 / 10\n",
      "  Iteration 19 (98.12 s, search 65.93 s): objective=3650.48 imbalance=1.593 nsplit=0       \n",
      "Objective improved: keep new clusters\n",
      "Outer iteration 5 / 10\n",
      "  Iteration 19 (117.67 s, search 79.09 s): objective=3639.88 imbalance=1.539 nsplit=0       \n",
      "Outer iteration 6 / 10\n",
      "  Iteration 19 (137.25 s, search 92.25 s): objective=3640.01 imbalance=1.399 nsplit=0       \n",
      "Outer iteration 7 / 10\n",
      "  Iteration 19 (156.84 s, search 105.42 s): objective=3649.49 imbalance=1.479 nsplit=0       \n",
      "Outer iteration 8 / 10\n",
      "  Iteration 19 (176.42 s, search 118.57 s): objective=3639.86 imbalance=1.299 nsplit=0       \n",
      "Outer iteration 9 / 10\n",
      "  Iteration 19 (195.95 s, search 131.74 s): objective=3651.27 imbalance=1.307 nsplit=0       \n",
      "Objective improved: keep new clusters\n",
      "Clustering 8000 points in 267264D to 10 clusters, redo 10 times, 20 iterations\n",
      "  Preprocessing in 1.12 s\n",
      "Outer iteration 0 / 10\n",
      "  Iteration 19 (21.85 s, search 14.68 s): objective=4048.85 imbalance=1.533 nsplit=0       \n",
      "Objective improved: keep new clusters\n",
      "Outer iteration 1 / 10\n",
      "  Iteration 19 (43.77 s, search 29.40 s): objective=4055.99 imbalance=1.146 nsplit=0       \n",
      "Objective improved: keep new clusters\n",
      "Outer iteration 2 / 10\n",
      "  Iteration 19 (65.68 s, search 44.10 s): objective=4059.71 imbalance=1.296 nsplit=0       \n",
      "Objective improved: keep new clusters\n",
      "Outer iteration 3 / 10\n",
      "  Iteration 19 (87.59 s, search 58.80 s): objective=4063.41 imbalance=1.345 nsplit=0       \n",
      "Objective improved: keep new clusters\n",
      "Outer iteration 4 / 10\n",
      "  Iteration 19 (109.54 s, search 73.51 s): objective=4016.56 imbalance=2.498 nsplit=0       \n",
      "Outer iteration 5 / 10\n",
      "  Iteration 19 (131.45 s, search 88.21 s): objective=4051.37 imbalance=1.386 nsplit=0       \n",
      "Outer iteration 6 / 10\n",
      "  Iteration 19 (153.38 s, search 102.91 s): objective=4052.4 imbalance=1.385 nsplit=0        \n",
      "Outer iteration 7 / 10\n",
      "  Iteration 19 (175.31 s, search 117.60 s): objective=4048.5 imbalance=1.281 nsplit=0        \n",
      "Outer iteration 8 / 10\n",
      "  Iteration 19 (197.23 s, search 132.30 s): objective=4059.45 imbalance=1.449 nsplit=0       \n",
      "Outer iteration 9 / 10\n",
      "  Iteration 19 (219.13 s, search 147.01 s): objective=4048.79 imbalance=1.124 nsplit=0       \n",
      "Clustering 8000 points in 267264D to 11 clusters, redo 10 times, 20 iterations\n",
      "  Preprocessing in 1.12 s\n",
      "Outer iteration 0 / 10\n",
      "  Iteration 19 (22.12 s, search 14.77 s): objective=4056.48 imbalance=1.572 nsplit=0       \n",
      "Objective improved: keep new clusters\n",
      "Outer iteration 1 / 10\n",
      "  Iteration 19 (44.26 s, search 29.56 s): objective=4059.93 imbalance=1.153 nsplit=0       \n",
      "Objective improved: keep new clusters\n",
      "Outer iteration 2 / 10\n",
      "  Iteration 19 (66.36 s, search 44.34 s): objective=4069.46 imbalance=1.315 nsplit=0       \n",
      "Objective improved: keep new clusters\n",
      "Outer iteration 3 / 10\n",
      "  Iteration 19 (88.47 s, search 59.12 s): objective=4073.88 imbalance=1.201 nsplit=0       \n",
      "Objective improved: keep new clusters\n",
      "Outer iteration 4 / 10\n",
      "  Iteration 19 (110.55 s, search 73.90 s): objective=4039.73 imbalance=1.588 nsplit=0       \n",
      "Outer iteration 5 / 10\n",
      "  Iteration 19 (132.69 s, search 88.68 s): objective=4057.5 imbalance=1.523 nsplit=0        \n",
      "Outer iteration 6 / 10\n",
      "  Iteration 19 (154.79 s, search 103.45 s): objective=4061.32 imbalance=1.279 nsplit=0       \n",
      "Outer iteration 7 / 10\n",
      "  Iteration 19 (176.89 s, search 118.22 s): objective=4057.07 imbalance=1.282 nsplit=0       \n",
      "Outer iteration 8 / 10\n",
      "  Iteration 19 (199.01 s, search 133.01 s): objective=4069.01 imbalance=1.479 nsplit=0       \n",
      "Outer iteration 9 / 10\n",
      "  Iteration 19 (221.12 s, search 147.77 s): objective=4056.78 imbalance=1.103 nsplit=0       \n",
      "Clustering 8000 points in 267264D to 12 clusters, redo 10 times, 20 iterations\n",
      "  Preprocessing in 1.12 s\n",
      "Outer iteration 0 / 10\n",
      "  Iteration 19 (21.99 s, search 14.70 s): objective=4072.4 imbalance=1.298 nsplit=0        \n",
      "Objective improved: keep new clusters\n",
      "Outer iteration 1 / 10\n",
      "  Iteration 19 (44.02 s, search 29.41 s): objective=4062.95 imbalance=1.224 nsplit=0       \n",
      "Outer iteration 2 / 10\n",
      "  Iteration 19 (66.02 s, search 44.12 s): objective=4078.33 imbalance=1.341 nsplit=0       \n",
      "Objective improved: keep new clusters\n",
      "Outer iteration 3 / 10\n",
      "  Iteration 19 (88.02 s, search 58.82 s): objective=4081.99 imbalance=1.192 nsplit=0       \n",
      "Objective improved: keep new clusters\n",
      "Outer iteration 4 / 10\n",
      "  Iteration 19 (110.03 s, search 73.53 s): objective=4045.54 imbalance=1.711 nsplit=0       \n",
      "Outer iteration 5 / 10\n",
      "  Iteration 19 (132.03 s, search 88.24 s): objective=4073.09 imbalance=1.498 nsplit=0       \n",
      "Outer iteration 6 / 10\n",
      "  Iteration 19 (154.03 s, search 102.95 s): objective=4064.22 imbalance=1.334 nsplit=0       \n",
      "Outer iteration 7 / 10\n",
      "  Iteration 19 (176.03 s, search 117.66 s): objective=4065.53 imbalance=1.293 nsplit=0       \n",
      "Outer iteration 8 / 10\n",
      "  Iteration 19 (198.07 s, search 132.41 s): objective=4075.79 imbalance=1.314 nsplit=0       \n",
      "Outer iteration 9 / 10\n",
      "  Iteration 19 (220.10 s, search 147.13 s): objective=4062.28 imbalance=1.149 nsplit=0       \n",
      "Clustering 8000 points in 267264D to 13 clusters, redo 10 times, 20 iterations\n",
      "  Preprocessing in 1.11 s\n",
      "Outer iteration 0 / 10\n",
      "  Iteration 19 (22.01 s, search 14.70 s): objective=4072.81 imbalance=1.336 nsplit=0       \n",
      "Objective improved: keep new clusters\n",
      "Outer iteration 1 / 10\n",
      "  Iteration 19 (44.07 s, search 29.42 s): objective=4079.55 imbalance=1.278 nsplit=0       \n",
      "Objective improved: keep new clusters\n",
      "Outer iteration 2 / 10\n",
      "  Iteration 19 (66.09 s, search 44.13 s): objective=4078.15 imbalance=1.479 nsplit=0       \n",
      "Outer iteration 3 / 10\n",
      "  Iteration 19 (88.12 s, search 58.86 s): objective=4091.78 imbalance=1.193 nsplit=0       \n",
      "Objective improved: keep new clusters\n",
      "Outer iteration 4 / 10\n",
      "  Iteration 19 (110.21 s, search 73.61 s): objective=4064.96 imbalance=1.708 nsplit=0       \n",
      "Outer iteration 5 / 10\n",
      "  Iteration 19 (132.29 s, search 88.37 s): objective=4079.56 imbalance=1.513 nsplit=0       \n",
      "Outer iteration 6 / 10\n",
      "  Iteration 19 (154.39 s, search 103.12 s): objective=4068.44 imbalance=1.347 nsplit=0       \n",
      "Outer iteration 7 / 10\n",
      "  Iteration 19 (176.47 s, search 117.87 s): objective=4070.54 imbalance=1.376 nsplit=0       \n",
      "Outer iteration 8 / 10\n",
      "  Iteration 19 (198.55 s, search 132.60 s): objective=4080.07 imbalance=1.210 nsplit=0       \n",
      "Outer iteration 9 / 10\n",
      "  Iteration 19 (220.66 s, search 147.36 s): objective=4067.75 imbalance=1.180 nsplit=0       \n",
      "Clustering 8000 points in 267264D to 14 clusters, redo 10 times, 20 iterations\n",
      "  Preprocessing in 1.12 s\n",
      "Outer iteration 0 / 10\n",
      "  Iteration 19 (22.08 s, search 14.75 s): objective=4081.21 imbalance=1.395 nsplit=0       \n",
      "Objective improved: keep new clusters\n",
      "Outer iteration 1 / 10\n",
      "  Iteration 19 (44.19 s, search 29.48 s): objective=4084.77 imbalance=1.193 nsplit=0       \n",
      "Objective improved: keep new clusters\n",
      "Outer iteration 2 / 10\n",
      "  Iteration 19 (66.25 s, search 44.21 s): objective=4084.15 imbalance=1.478 nsplit=0       \n",
      "Outer iteration 3 / 10\n",
      "  Iteration 19 (88.28 s, search 58.92 s): objective=4097.56 imbalance=1.171 nsplit=0       \n",
      "Objective improved: keep new clusters\n",
      "Outer iteration 4 / 10\n",
      "  Iteration 19 (110.31 s, search 73.62 s): objective=4069.17 imbalance=1.828 nsplit=0       \n",
      "Outer iteration 5 / 10\n",
      "  Iteration 19 (132.36 s, search 88.35 s): objective=4083.25 imbalance=1.541 nsplit=0       \n",
      "Outer iteration 6 / 10\n",
      "  Iteration 19 (154.41 s, search 103.07 s): objective=4081.16 imbalance=1.323 nsplit=0       \n",
      "Outer iteration 7 / 10\n",
      "  Iteration 19 (176.47 s, search 117.79 s): objective=4081.67 imbalance=1.379 nsplit=0       \n",
      "Outer iteration 8 / 10\n",
      "  Iteration 19 (198.54 s, search 132.53 s): objective=4080.47 imbalance=1.293 nsplit=0       \n",
      "Outer iteration 9 / 10\n",
      "  Iteration 19 (220.62 s, search 147.25 s): objective=4072.26 imbalance=1.148 nsplit=0       \n",
      "Clustering 8000 points in 267264D to 15 clusters, redo 10 times, 20 iterations\n",
      "  Preprocessing in 1.12 s\n",
      "Outer iteration 0 / 10\n",
      "  Iteration 19 (22.05 s, search 14.72 s): objective=4083.29 imbalance=1.519 nsplit=0       \n",
      "Objective improved: keep new clusters\n",
      "Outer iteration 1 / 10\n",
      "  Iteration 19 (44.15 s, search 29.45 s): objective=4087.92 imbalance=1.216 nsplit=0       \n",
      "Objective improved: keep new clusters\n",
      "Outer iteration 2 / 10\n",
      "  Iteration 19 (66.20 s, search 44.18 s): objective=4087.73 imbalance=1.559 nsplit=0       \n",
      "Outer iteration 3 / 10\n",
      "  Iteration 19 (88.31 s, search 58.92 s): objective=4100.49 imbalance=1.159 nsplit=0       \n",
      "Objective improved: keep new clusters\n",
      "Outer iteration 4 / 10\n",
      "  Iteration 19 (110.43 s, search 73.67 s): objective=4067.89 imbalance=1.929 nsplit=0       \n",
      "Outer iteration 5 / 10\n",
      "  Iteration 19 (132.49 s, search 88.38 s): objective=4084.19 imbalance=1.625 nsplit=0       \n",
      "Outer iteration 6 / 10\n",
      "  Iteration 19 (154.58 s, search 103.11 s): objective=4086.82 imbalance=1.307 nsplit=0       \n",
      "Outer iteration 7 / 10\n",
      "  Iteration 19 (176.64 s, search 117.84 s): objective=4083.03 imbalance=1.442 nsplit=0       \n",
      "Outer iteration 8 / 10\n",
      "  Iteration 19 (198.70 s, search 132.56 s): objective=4079.64 imbalance=1.366 nsplit=0       \n",
      "Outer iteration 9 / 10\n",
      "  Iteration 19 (220.81 s, search 147.30 s): objective=4075.51 imbalance=1.183 nsplit=0       \r"
     ]
    },
    {
     "data": {
      "text/plain": [
       "[<matplotlib.lines.Line2D at 0x7f2527ce6050>]"
      ]
     },
     "execution_count": 13,
     "metadata": {},
     "output_type": "execute_result"
    },
    {
     "data": {
      "image/png": "[encoded data removed]",
      "text/plain": [
       "<Figure size 432x288 with 1 Axes>"
      ]
     },
     "metadata": {
      "needs_background": "light"
     },
     "output_type": "display_data"
    }
   ],
   "source": [
    "# Elbow Plot\n",
    "niter = 20\n",
    "verbose = True\n",
    "dim = X_train.shape[1]\n",
    "\n",
    "k_vals = [k for k in range(5, 16)]\n",
    "wccs = []\n",
    "for k in k_vals:\n",
    "    kmeans = faiss.Kmeans(dim, k, niter = niter, verbose = verbose, gpu = True, nredo = 10, spherical = True, max_points_per_centroid = 800)\n",
    "    kmeans.train(X_train)\n",
    "    wccs.append(kmeans.obj[-1])\n",
    "\n",
    "plt.plot(k_vals, wccs)"
   ]
  },
  {
   "cell_type": "code",
   "execution_count": 14,
   "id": "289102b9",
   "metadata": {
    "scrolled": true,
    "tags": []
   },
   "outputs": [
    {
     "name": "stdout",
     "output_type": "stream",
     "text": [
      "\n",
      "Clustering 8000 points in 267264D to 10 clusters, redo 10 times, 20 iterations\n",
      "  Preprocessing in 1.12 s\n",
      "Outer iteration 0 / 10\n",
      "  Iteration 19 (21.88 s, search 14.71 s): objective=4048.85 imbalance=1.533 nsplit=0       \n",
      "Objective improved: keep new clusters\n",
      "Outer iteration 1 / 10\n",
      "  Iteration 19 (43.79 s, search 29.43 s): objective=4055.99 imbalance=1.146 nsplit=0       \n",
      "Objective improved: keep new clusters\n",
      "Outer iteration 2 / 10\n",
      "  Iteration 19 (65.73 s, search 44.16 s): objective=4059.71 imbalance=1.296 nsplit=0       \n",
      "Objective improved: keep new clusters\n",
      "Outer iteration 3 / 10\n",
      "  Iteration 19 (87.66 s, search 58.86 s): objective=4063.41 imbalance=1.345 nsplit=0       \n",
      "Objective improved: keep new clusters\n",
      "Outer iteration 4 / 10\n",
      "  Iteration 19 (109.61 s, search 73.57 s): objective=4016.56 imbalance=2.498 nsplit=0       \n",
      "Outer iteration 5 / 10\n",
      "  Iteration 19 (131.54 s, search 88.29 s): objective=4051.37 imbalance=1.386 nsplit=0       \n",
      "Outer iteration 6 / 10\n",
      "  Iteration 19 (153.54 s, search 103.02 s): objective=4052.4 imbalance=1.385 nsplit=0        \n",
      "Outer iteration 7 / 10\n",
      "  Iteration 19 (175.57 s, search 117.78 s): objective=4048.5 imbalance=1.281 nsplit=0        \n",
      "Outer iteration 8 / 10\n",
      "  Iteration 19 (197.49 s, search 132.48 s): objective=4059.45 imbalance=1.449 nsplit=0       \n",
      "Outer iteration 9 / 10\n",
      "  Iteration 19 (219.39 s, search 147.19 s): objective=4048.79 imbalance=1.124 nsplit=0       \r"
     ]
    },
    {
     "data": {
      "text/plain": [
       "4063.41064453125"
      ]
     },
     "execution_count": 14,
     "metadata": {},
     "output_type": "execute_result"
    }
   ],
   "source": [
    "# K-means Clustering\n",
    "\n",
    "# ncentroids = NUM_PROMPTS\n",
    "ncentroids = 10 # Elbow point - based on objective (sum of cosine similarities)\n",
    "niter = 20\n",
    "verbose = True\n",
    "dim = X_train.shape[1]\n",
    "kmeans = faiss.Kmeans(dim, ncentroids, niter = niter, verbose = verbose, gpu = True, nredo = 10, spherical = True, max_points_per_centroid = 800)\n",
    "kmeans.train(X_train)"
   ]
  },
  {
   "cell_type": "code",
   "execution_count": 15,
   "id": "19cf0f0a",
   "metadata": {
    "tags": []
   },
   "outputs": [
    {
     "data": {
      "text/plain": [
       "array([[-0.01964761,  0.01537735,  0.00967851, ...,  0.        ,\n",
       "         0.        ,  0.        ],\n",
       "       [-0.01805817,  0.01413337,  0.00889554, ...,  0.        ,\n",
       "         0.        ,  0.        ],\n",
       "       [-0.01973203,  0.01544343,  0.0097201 , ...,  0.        ,\n",
       "         0.        ,  0.        ],\n",
       "       ...,\n",
       "       [-0.0223401 ,  0.01748464,  0.01100483, ...,  0.        ,\n",
       "         0.        ,  0.        ],\n",
       "       [-0.02271699,  0.01777962,  0.0111905 , ...,  0.        ,\n",
       "         0.        ,  0.        ],\n",
       "       [-0.02278414,  0.01783216,  0.01122356, ...,  0.        ,\n",
       "         0.        ,  0.        ]], dtype=float32)"
      ]
     },
     "execution_count": 15,
     "metadata": {},
     "output_type": "execute_result"
    }
   ],
   "source": [
    "kmeans.centroids #cluster centers"
   ]
  },
  {
   "cell_type": "code",
   "execution_count": 16,
   "id": "61e726e9",
   "metadata": {
    "tags": []
   },
   "outputs": [
    {
     "name": "stdout",
     "output_type": "stream",
     "text": [
      "1.000031\n",
      "1.0000105\n",
      "1.0000163\n",
      "1.0000151\n",
      "1.00001\n",
      "1.0000062\n",
      "1.0000066\n",
      "1.0000055\n",
      "1.0000054\n",
      "1.0000057\n"
     ]
    }
   ],
   "source": [
    "for centroid in kmeans.centroids:\n",
    "    print(np.linalg.norm(centroid))"
   ]
  },
  {
   "cell_type": "code",
   "execution_count": 17,
   "id": "e5e1fa18",
   "metadata": {
    "tags": []
   },
   "outputs": [
    {
     "data": {
      "text/plain": [
       "array([2306.47021484, 3915.68603516, 4017.34277344, 4034.41796875,\n",
       "       4040.61181641, 4042.69970703, 4043.3762207 , 4043.59863281,\n",
       "       4043.75195312, 4044.01025391, 4044.60571289, 4045.66137695,\n",
       "       4046.68237305, 4046.85131836, 4047.01757812, 4047.61083984,\n",
       "       4048.67114258, 4048.84301758, 4048.84545898, 4048.84545898,\n",
       "       2287.14379883, 3911.68212891, 4006.33300781, 4039.5246582 ,\n",
       "       4045.68945312, 4048.88818359, 4050.33789062, 4051.10546875,\n",
       "       4051.67602539, 4052.1315918 , 4052.50366211, 4053.11352539,\n",
       "       4054.63549805, 4055.40551758, 4055.7565918 , 4055.84521484,\n",
       "       4055.87548828, 4055.93017578, 4055.96923828, 4055.98681641,\n",
       "       2244.35668945, 3932.74414062, 4024.62939453, 4043.86279297,\n",
       "       4050.55419922, 4053.18847656, 4054.92431641, 4055.77368164,\n",
       "       4056.27441406, 4056.71655273, 4057.21850586, 4057.77978516,\n",
       "       4058.25463867, 4058.62670898, 4058.9609375 , 4059.21826172,\n",
       "       4059.43505859, 4059.61865234, 4059.69580078, 4059.70874023,\n",
       "       2187.2902832 , 3961.87060547, 4022.50317383, 4038.30932617,\n",
       "       4044.02392578, 4047.27783203, 4050.07104492, 4053.59887695,\n",
       "       4059.125     , 4062.19287109, 4062.73413086, 4063.04272461,\n",
       "       4063.21875   , 4063.30664062, 4063.35131836, 4063.37744141,\n",
       "       4063.39306641, 4063.39990234, 4063.40161133, 4063.41064453])"
      ]
     },
     "execution_count": 17,
     "metadata": {},
     "output_type": "execute_result"
    }
   ],
   "source": [
    "kmeans.obj #inertia at each iteration"
   ]
  },
  {
   "cell_type": "code",
   "execution_count": 18,
   "id": "ed2c340d",
   "metadata": {
    "tags": []
   },
   "outputs": [],
   "source": [
    "cos_similarities = X_train @ kmeans.centroids.T\n",
    "classifications_train = np.argmax(cos_similarities, axis=1)"
   ]
  },
  {
   "cell_type": "code",
   "execution_count": 19,
   "id": "90aae79f",
   "metadata": {
    "tags": []
   },
   "outputs": [
    {
     "data": {
      "text/plain": [
       "6    1864\n",
       "4    1204\n",
       "1    1093\n",
       "2    1087\n",
       "5     618\n",
       "0     504\n",
       "9     449\n",
       "7     436\n",
       "3     412\n",
       "8     333\n",
       "dtype: int64"
      ]
     },
     "execution_count": 19,
     "metadata": {},
     "output_type": "execute_result"
    }
   ],
   "source": [
    "pd.Series(classifications_train).value_counts()"
   ]
  },
  {
   "cell_type": "code",
   "execution_count": 20,
   "id": "fc34c419-5d92-4dc6-8db4-9dc84b83a8d4",
   "metadata": {
    "tags": []
   },
   "outputs": [
    {
     "data": {
      "text/plain": [
       "[3, 2, 6, 10, 1, 5, 6, 4, 10, 3]"
      ]
     },
     "execution_count": 20,
     "metadata": {},
     "output_type": "execute_result"
    }
   ],
   "source": [
    "# Get most common label for each point classified to a centroid (same centroid)\n",
    "centroid_labels = [np.where(classifications_train == i)[0] for i in range(ncentroids)]\n",
    "max_label_per_centroid = [int(pd.Series(y_train[centroid_labels[i]]).value_counts().idxmax()) for i in range(ncentroids)]\n",
    "max_label_per_centroid"
   ]
  },
  {
   "cell_type": "code",
   "execution_count": 21,
   "id": "20e159a9-ef63-4a0e-8e94-52e041a5c416",
   "metadata": {
    "tags": []
   },
   "outputs": [],
   "source": [
    "centroid_to_label = {idx : max_label_per_centroid[idx] for idx in range(len(max_label_per_centroid))}"
   ]
  },
  {
   "cell_type": "code",
   "execution_count": 22,
   "id": "45760bd2-820d-462e-a8ef-8d054ed5dde4",
   "metadata": {
    "tags": []
   },
   "outputs": [
    {
     "data": {
      "text/plain": [
       "{0: 3, 1: 2, 2: 6, 3: 10, 4: 1, 5: 5, 6: 6, 7: 4, 8: 10, 9: 3}"
      ]
     },
     "execution_count": 22,
     "metadata": {},
     "output_type": "execute_result"
    }
   ],
   "source": [
    "centroid_to_label"
   ]
  },
  {
   "cell_type": "code",
   "execution_count": 23,
   "id": "b9cf2ac5-ce04-4efe-9828-041723e1f453",
   "metadata": {
    "tags": []
   },
   "outputs": [
    {
     "data": {
      "text/plain": [
       "array([ 6,  6,  6, ..., 10, 10, 10])"
      ]
     },
     "execution_count": 23,
     "metadata": {},
     "output_type": "execute_result"
    }
   ],
   "source": [
    "vectorized_map = np.vectorize(centroid_to_label.get)\n",
    "classifications_to_label = vectorized_map(classifications_train)\n",
    "\n",
    "classifications_to_label"
   ]
  },
  {
   "cell_type": "code",
   "execution_count": 24,
   "id": "c793f2dc-74de-4e3a-b0a8-3839b1be8dd9",
   "metadata": {
    "tags": []
   },
   "outputs": [
    {
     "name": "stdout",
     "output_type": "stream",
     "text": [
      "Prompt 1 Accuracy:  0.2125\n",
      "Prompt 2 Accuracy:  0.20625\n",
      "Prompt 3 Accuracy:  0.84625\n",
      "Prompt 4 Accuracy:  0.185\n",
      "Prompt 5 Accuracy:  0.42375\n",
      "Prompt 6 Accuracy:  0.60875\n",
      "Prompt 7 Accuracy:  0.0\n",
      "Prompt 8 Accuracy:  0.0\n",
      "Prompt 9 Accuracy:  0.0\n",
      "Prompt 10 Accuracy:  0.93125\n"
     ]
    }
   ],
   "source": [
    "for i in range(10):\n",
    "    print(f\"Prompt {i + 1} Accuracy: \", np.mean(classifications_to_label[i * 800:(i + 1) * 800] == (i + 1)))"
   ]
  },
  {
   "cell_type": "code",
   "execution_count": 25,
   "id": "ac9d3497-d991-455d-a121-1a4c234314b0",
   "metadata": {
    "tags": []
   },
   "outputs": [
    {
     "name": "stdout",
     "output_type": "stream",
     "text": [
      "Overall Accuracy:  0.341375\n"
     ]
    }
   ],
   "source": [
    "print(f\"Overall Accuracy: \", np.mean(classifications_to_label == y_train))"
   ]
  },
  {
   "cell_type": "markdown",
   "id": "b8d32ef1-a624-4d32-abcb-8daacad47cdc",
   "metadata": {},
   "source": [
    "## Perform Inference on Test Set & Collect Test Accuracy"
   ]
  },
  {
   "cell_type": "code",
   "execution_count": 26,
   "id": "2431abbc-b684-4c06-8fd6-06c771a1c4fa",
   "metadata": {},
   "outputs": [],
   "source": [
    "cos_similarities = X_test @ kmeans.centroids.T\n",
    "classifications_test = np.argmax(cos_similarities, axis=1)"
   ]
  },
  {
   "cell_type": "code",
   "execution_count": 27,
   "id": "d9a7dd1c-884b-4bef-b538-6c0a65a6f7e4",
   "metadata": {},
   "outputs": [
    {
     "data": {
      "text/plain": [
       "6    490\n",
       "1    296\n",
       "2    282\n",
       "4    261\n",
       "5    147\n",
       "0    127\n",
       "3    113\n",
       "9    106\n",
       "7    101\n",
       "8     77\n",
       "dtype: int64"
      ]
     },
     "execution_count": 27,
     "metadata": {},
     "output_type": "execute_result"
    }
   ],
   "source": [
    "pd.Series(classifications_test).value_counts()"
   ]
  },
  {
   "cell_type": "code",
   "execution_count": 28,
   "id": "6fa74238-a2b3-4277-bcd6-88ab9d5caf4f",
   "metadata": {},
   "outputs": [
    {
     "data": {
      "text/plain": [
       "array([ 6,  2,  3, ..., 10, 10, 10])"
      ]
     },
     "execution_count": 28,
     "metadata": {},
     "output_type": "execute_result"
    }
   ],
   "source": [
    "classifications_to_label_test = vectorized_map(classifications_test)\n",
    "\n",
    "classifications_to_label_test"
   ]
  },
  {
   "cell_type": "code",
   "execution_count": 29,
   "id": "799e3a99-6659-44b7-becd-4d0825fd1957",
   "metadata": {},
   "outputs": [
    {
     "name": "stdout",
     "output_type": "stream",
     "text": [
      "Prompt 1 Accuracy:  0.135\n",
      "Prompt 2 Accuracy:  0.2\n",
      "Prompt 3 Accuracy:  0.815\n",
      "Prompt 4 Accuracy:  0.16\n",
      "Prompt 5 Accuracy:  0.465\n",
      "Prompt 6 Accuracy:  0.575\n",
      "Prompt 7 Accuracy:  0.0\n",
      "Prompt 8 Accuracy:  0.0\n",
      "Prompt 9 Accuracy:  0.0\n",
      "Prompt 10 Accuracy:  0.95\n"
     ]
    }
   ],
   "source": [
    "for i in range(10):\n",
    "    print(f\"Prompt {i + 1} Accuracy: \", np.mean(classifications_to_label_test[i * 200:(i + 1) * 200] == (i + 1)))"
   ]
  },
  {
   "cell_type": "code",
   "execution_count": 30,
   "id": "4f97cfa0-27da-4897-8e65-681b75ad51d7",
   "metadata": {},
   "outputs": [
    {
     "name": "stdout",
     "output_type": "stream",
     "text": [
      "Overall Accuracy:  0.33\n"
     ]
    }
   ],
   "source": [
    "print(f\"Overall Accuracy: \", np.mean(classifications_to_label_test == y_test))"
   ]
  },
  {
   "cell_type": "markdown",
   "id": "ee076424-49c5-4245-a3a3-56fba51465ea",
   "metadata": {},
   "source": [
    "## Confusion Matrix of Results"
   ]
  },
  {
   "cell_type": "code",
   "execution_count": 31,
   "id": "b9175267-2fef-4f02-930e-c263ec396f91",
   "metadata": {
    "tags": []
   },
   "outputs": [],
   "source": [
    "from sklearn.metrics import confusion_matrix, ConfusionMatrixDisplay\n",
    "import matplotlib.pyplot as plt"
   ]
  },
  {
   "cell_type": "code",
   "execution_count": 32,
   "id": "3c2c3ac7-26e3-42d5-860a-918d735776c1",
   "metadata": {
    "tags": []
   },
   "outputs": [
    {
     "data": {
      "image/png": "[encoded data removed]",
      "text/plain": [
       "<Figure size 432x288 with 2 Axes>"
      ]
     },
     "metadata": {
      "needs_background": "light"
     },
     "output_type": "display_data"
    }
   ],
   "source": [
    "cm = confusion_matrix(y_train, classifications_to_label)\n",
    "disp = ConfusionMatrixDisplay(confusion_matrix=cm, display_labels=[f\"{i}\" for i in range(1, 11)])\n",
    "\n",
    "disp.plot()\n",
    "plt.title('Confusion Matrix for Train Set')\n",
    "plt.show()"
   ]
  },
  {
   "cell_type": "code",
   "execution_count": 33,
   "id": "03a45427-f767-4838-968e-c341eca03746",
   "metadata": {
    "tags": []
   },
   "outputs": [
    {
     "data": {
      "image/png": "[encoded data removed]",
      "text/plain": [
       "<Figure size 432x288 with 2 Axes>"
      ]
     },
     "metadata": {
      "needs_background": "light"
     },
     "output_type": "display_data"
    }
   ],
   "source": [
    "cm = confusion_matrix(y_test, classifications_to_label_test)\n",
    "disp = ConfusionMatrixDisplay(confusion_matrix=cm, display_labels=[f\"{i}\" for i in range(1, 11)])\n",
    "\n",
    "disp.plot()\n",
    "plt.title('Confusion Matrix for Test Set')\n",
    "plt.show()"
   ]
  },
  {
   "cell_type": "code",
   "execution_count": null,
   "id": "1322b9ab-2b94-4d00-95cf-1b3741b9f482",
   "metadata": {},
   "outputs": [],
   "source": []
  },
  {
   "cell_type": "code",
   "execution_count": null,
   "id": "de826fc3-e67f-45cb-bb74-15dfcbd3d18d",
   "metadata": {},
   "outputs": [],
   "source": []
  }
 ],
 "metadata": {
  "kernelspec": {
   "display_name": "Python 3 (ipykernel)",
   "language": "python",
   "name": "python3"
  },
  "language_info": {
   "codemirror_mode": {
    "name": "ipython",
    "version": 3
   },
   "file_extension": ".py",
   "mimetype": "text/x-python",
   "name": "python",
   "nbconvert_exporter": "python",
   "pygments_lexer": "ipython3",
   "version": "3.7.11"
  }
 },
 "nbformat": 4,
 "nbformat_minor": 5
}
