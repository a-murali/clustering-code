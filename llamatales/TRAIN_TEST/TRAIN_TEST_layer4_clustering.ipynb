{
 "cells": [
  {
   "cell_type": "markdown",
   "id": "64c867a4-b1c3-426b-b086-de071a726ebf",
   "metadata": {},
   "source": [
    "## Install Packages"
   ]
  },
  {
   "cell_type": "code",
   "execution_count": 1,
   "id": "80849741",
   "metadata": {
    "tags": []
   },
   "outputs": [
    {
     "name": "stdout",
     "output_type": "stream",
     "text": [
      "Collecting package metadata (current_repodata.json): \\ WARNING conda.models.version:get_matcher(540): Using .* with relational operator is superfluous and deprecated and will be removed in a future version of conda. Your spec was 1.7.1.*, but conda is ignoring the .* and treating it as 1.7.1\n",
      "done\n",
      "Solving environment: failed with initial frozen solve. Retrying with flexible solve.\n",
      "Solving environment: failed with repodata from current_repodata.json, will retry with next repodata source.\n",
      "Collecting package metadata (repodata.json): \\ WARNING conda.models.version:get_matcher(540): Using .* with relational operator is superfluous and deprecated and will be removed in a future version of conda. Your spec was 1.9.0.*, but conda is ignoring the .* and treating it as 1.9.0\n",
      "WARNING conda.models.version:get_matcher(540): Using .* with relational operator is superfluous and deprecated and will be removed in a future version of conda. Your spec was 1.8.0.*, but conda is ignoring the .* and treating it as 1.8.0\n",
      "WARNING conda.models.version:get_matcher(540): Using .* with relational operator is superfluous and deprecated and will be removed in a future version of conda. Your spec was 1.6.0.*, but conda is ignoring the .* and treating it as 1.6.0\n",
      "done\n",
      "Solving environment: done\n",
      "\n",
      "\n",
      "==> WARNING: A newer version of conda exists. <==\n",
      "  current version: 4.10.3\n",
      "  latest version: 25.7.0\n",
      "\n",
      "Please update conda by running\n",
      "\n",
      "    $ conda update -n base -c defaults conda\n",
      "\n",
      "\n",
      "\n",
      "## Package Plan ##\n",
      "\n",
      "  environment location: /opt/conda\n",
      "\n",
      "  added / updated specs:\n",
      "    - faiss-gpu\n",
      "\n",
      "\n",
      "The following packages will be downloaded:\n",
      "\n",
      "    package                    |            build\n",
      "    ---------------------------|-----------------\n",
      "    ca-certificates-2025.8.3   |       hbd8a1cb_0         151 KB  conda-forge\n",
      "    certifi-2024.8.30          |     pyhd8ed1ab_0         160 KB  conda-forge\n",
      "    conda-4.12.0               |   py37h89c1867_0         1.0 MB  conda-forge\n",
      "    faiss-1.7.1                |py37cuda111h7f21d35_1_cuda         2.0 MB  conda-forge\n",
      "    faiss-gpu-1.7.1            |       h788eb59_1          15 KB  conda-forge\n",
      "    libblas-3.9.0              |   26_linux64_mkl          16 KB  conda-forge\n",
      "    libfaiss-1.7.1             |cuda111hf54f04a_1_cuda        80.2 MB  conda-forge\n",
      "    libfaiss-avx2-1.7.1        |cuda111h1234567_1_cuda        80.3 MB  conda-forge\n",
      "    liblapack-3.9.0            |   26_linux64_mkl          16 KB  conda-forge\n",
      "    openssl-1.1.1w             |       h7f8727e_0         3.7 MB\n",
      "    python_abi-3.7             |          2_cp37m           4 KB  conda-forge\n",
      "    ------------------------------------------------------------\n",
      "                                           Total:       167.6 MB\n",
      "\n",
      "The following NEW packages will be INSTALLED:\n",
      "\n",
      "  faiss              conda-forge/linux-64::faiss-1.7.1-py37cuda111h7f21d35_1_cuda\n",
      "  faiss-gpu          conda-forge/linux-64::faiss-gpu-1.7.1-h788eb59_1\n",
      "  libblas            conda-forge/linux-64::libblas-3.9.0-26_linux64_mkl\n",
      "  libfaiss           conda-forge/linux-64::libfaiss-1.7.1-cuda111hf54f04a_1_cuda\n",
      "  libfaiss-avx2      conda-forge/linux-64::libfaiss-avx2-1.7.1-cuda111h1234567_1_cuda\n",
      "  liblapack          conda-forge/linux-64::liblapack-3.9.0-26_linux64_mkl\n",
      "  python_abi         conda-forge/linux-64::python_abi-3.7-2_cp37m\n",
      "\n",
      "The following packages will be UPDATED:\n",
      "\n",
      "  ca-certificates    pkgs/main/linux-64::ca-certificates-2~ --> conda-forge/noarch::ca-certificates-2025.8.3-hbd8a1cb_0\n",
      "  certifi            pkgs/main/linux-64::certifi-2021.10.8~ --> conda-forge/noarch::certifi-2024.8.30-pyhd8ed1ab_0\n",
      "  conda              pkgs/main::conda-4.10.3-py37h06a4308_0 --> conda-forge::conda-4.12.0-py37h89c1867_0\n",
      "  openssl                                 1.1.1l-h7f8727e_0 --> 1.1.1w-h7f8727e_0\n",
      "\n",
      "\n",
      "\n",
      "Downloading and Extracting Packages\n",
      "conda-4.12.0         | 1.0 MB    | ##################################### | 100% \n",
      "libfaiss-avx2-1.7.1  | 80.3 MB   | ##################################### | 100% \n",
      "faiss-gpu-1.7.1      | 15 KB     | ##################################### | 100% \n",
      "libfaiss-1.7.1       | 80.2 MB   | ##################################### | 100% \n",
      "liblapack-3.9.0      | 16 KB     | ##################################### | 100% \n",
      "faiss-1.7.1          | 2.0 MB    | ##################################### | 100% \n",
      "python_abi-3.7       | 4 KB      | ##################################### | 100% \n",
      "libblas-3.9.0        | 16 KB     | ##################################### | 100% \n",
      "openssl-1.1.1w       | 3.7 MB    | ##################################### | 100% \n",
      "ca-certificates-2025 | 151 KB    | ##################################### | 100% \n",
      "certifi-2024.8.30    | 160 KB    | ##################################### | 100% \n",
      "Preparing transaction: done\n",
      "Verifying transaction: done\n",
      "Executing transaction: done\n",
      "Get:1 http://security.ubuntu.com/ubuntu bionic-security InRelease [102 kB]\n",
      "Hit:2 http://archive.ubuntu.com/ubuntu bionic InRelease\n",
      "Get:3 http://archive.ubuntu.com/ubuntu bionic-updates InRelease [102 kB]\n",
      "Get:4 http://archive.ubuntu.com/ubuntu bionic-backports InRelease [102 kB]\n",
      "Get:5 http://security.ubuntu.com/ubuntu bionic-security/multiverse amd64 Packages [23.8 kB]\n",
      "Get:6 http://security.ubuntu.com/ubuntu bionic-security/universe amd64 Packages [1637 kB]\n",
      "Get:7 http://security.ubuntu.com/ubuntu bionic-security/main amd64 Packages [3373 kB]\n",
      "Get:8 http://security.ubuntu.com/ubuntu bionic-security/restricted amd64 Packages [1688 kB]\n",
      "Get:9 http://archive.ubuntu.com/ubuntu bionic-updates/multiverse amd64 Packages [30.8 kB]\n",
      "Get:10 http://archive.ubuntu.com/ubuntu bionic-updates/restricted amd64 Packages [1728 kB]\n",
      "Get:11 http://archive.ubuntu.com/ubuntu bionic-updates/main amd64 Packages [3786 kB]\n",
      "Get:12 http://archive.ubuntu.com/ubuntu bionic-updates/universe amd64 Packages [2411 kB]\n",
      "Get:13 http://archive.ubuntu.com/ubuntu bionic-backports/main amd64 Packages [64.0 kB]\n",
      "Get:14 http://archive.ubuntu.com/ubuntu bionic-backports/universe amd64 Packages [20.6 kB]\n",
      "Fetched 15.1 MB in 1s (10.3 MB/s)\n",
      "Reading package lists... Done\n",
      "Reading package lists... Done\n",
      "Building dependency tree       \n",
      "Reading state information... Done\n",
      "The following additional packages will be installed:\n",
      "  gcc-7-base libatlas3-base libgfortran4 libquadmath0\n",
      "Suggested packages:\n",
      "  libatlas-doc liblapack-doc\n",
      "The following NEW packages will be installed:\n",
      "  gcc-7-base libatlas-base-dev libatlas3-base libgfortran4 libquadmath0\n",
      "0 upgraded, 5 newly installed, 0 to remove and 83 not upgraded.\n",
      "Need to get 8397 kB of archives.\n",
      "After this operation, 49.3 MB of additional disk space will be used.\n",
      "Get:1 http://archive.ubuntu.com/ubuntu bionic-updates/main amd64 gcc-7-base amd64 7.5.0-3ubuntu1~18.04 [18.3 kB]\n",
      "Get:2 http://archive.ubuntu.com/ubuntu bionic-updates/main amd64 libquadmath0 amd64 8.4.0-1ubuntu1~18.04 [134 kB]\n",
      "Get:3 http://archive.ubuntu.com/ubuntu bionic-updates/main amd64 libgfortran4 amd64 7.5.0-3ubuntu1~18.04 [492 kB]\n",
      "Get:4 http://archive.ubuntu.com/ubuntu bionic/universe amd64 libatlas3-base amd64 3.10.3-5 [3732 kB]\n",
      "Get:5 http://archive.ubuntu.com/ubuntu bionic/universe amd64 libatlas-base-dev amd64 3.10.3-5 [4022 kB]\n",
      "Fetched 8397 kB in 1s (8122 kB/s)       \n",
      "debconf: delaying package configuration, since apt-utils is not installed\n",
      "Selecting previously unselected package gcc-7-base:amd64.\n",
      "(Reading database ... 11934 files and directories currently installed.)\n",
      "Preparing to unpack .../gcc-7-base_7.5.0-3ubuntu1~18.04_amd64.deb ...\n",
      "Unpacking gcc-7-base:amd64 (7.5.0-3ubuntu1~18.04) ...\n",
      "Selecting previously unselected package libquadmath0:amd64.\n",
      "Preparing to unpack .../libquadmath0_8.4.0-1ubuntu1~18.04_amd64.deb ...\n",
      "Unpacking libquadmath0:amd64 (8.4.0-1ubuntu1~18.04) ...\n",
      "Selecting previously unselected package libgfortran4:amd64.\n",
      "Preparing to unpack .../libgfortran4_7.5.0-3ubuntu1~18.04_amd64.deb ...\n",
      "Unpacking libgfortran4:amd64 (7.5.0-3ubuntu1~18.04) ...\n",
      "Selecting previously unselected package libatlas3-base:amd64.\n",
      "Preparing to unpack .../libatlas3-base_3.10.3-5_amd64.deb ...\n",
      "Unpacking libatlas3-base:amd64 (3.10.3-5) ...\n",
      "Selecting previously unselected package libatlas-base-dev:amd64.\n",
      "Preparing to unpack .../libatlas-base-dev_3.10.3-5_amd64.deb ...\n",
      "Unpacking libatlas-base-dev:amd64 (3.10.3-5) ...\n",
      "Setting up libquadmath0:amd64 (8.4.0-1ubuntu1~18.04) ...\n",
      "Setting up gcc-7-base:amd64 (7.5.0-3ubuntu1~18.04) ...\n",
      "Setting up libgfortran4:amd64 (7.5.0-3ubuntu1~18.04) ...\n",
      "Setting up libatlas3-base:amd64 (3.10.3-5) ...\n",
      "update-alternatives: using /usr/lib/x86_64-linux-gnu/atlas/libblas.so.3 to provide /usr/lib/x86_64-linux-gnu/libblas.so.3 (libblas.so.3-x86_64-linux-gnu) in auto mode\n",
      "update-alternatives: using /usr/lib/x86_64-linux-gnu/atlas/liblapack.so.3 to provide /usr/lib/x86_64-linux-gnu/liblapack.so.3 (liblapack.so.3-x86_64-linux-gnu) in auto mode\n",
      "Setting up libatlas-base-dev:amd64 (3.10.3-5) ...\n",
      "update-alternatives: using /usr/lib/x86_64-linux-gnu/atlas/libblas.so to provide /usr/lib/x86_64-linux-gnu/libblas.so (libblas.so-x86_64-linux-gnu) in auto mode\n",
      "update-alternatives: using /usr/lib/x86_64-linux-gnu/atlas/liblapack.so to provide /usr/lib/x86_64-linux-gnu/liblapack.so (liblapack.so-x86_64-linux-gnu) in auto mode\n",
      "Processing triggers for libc-bin (2.27-3ubuntu1.4) ...\n"
     ]
    }
   ],
   "source": [
    "!conda install -y -c conda-forge faiss-gpu\n",
    "!apt-get -y update\n",
    "!apt-get -y install libatlas-base-dev"
   ]
  },
  {
   "cell_type": "markdown",
   "id": "ea6af1a5-1aef-4743-bfa6-7392ed97dbe7",
   "metadata": {},
   "source": [
    "## Load Data"
   ]
  },
  {
   "cell_type": "code",
   "execution_count": 2,
   "id": "e26dddbf",
   "metadata": {
    "tags": []
   },
   "outputs": [],
   "source": [
    "import pandas as pd\n",
    "import numpy as np\n",
    "import matplotlib.pyplot as plt\n",
    "\n",
    "from sklearn.random_projection import GaussianRandomProjection\n",
    "\n",
    "from tqdm import tqdm\n",
    "\n",
    "import faiss"
   ]
  },
  {
   "cell_type": "code",
   "execution_count": 3,
   "id": "89c2cffa",
   "metadata": {
    "tags": []
   },
   "outputs": [
    {
     "data": {
      "text/html": [
       "<div>\n",
       "<style scoped>\n",
       "    .dataframe tbody tr th:only-of-type {\n",
       "        vertical-align: middle;\n",
       "    }\n",
       "\n",
       "    .dataframe tbody tr th {\n",
       "        vertical-align: top;\n",
       "    }\n",
       "\n",
       "    .dataframe thead th {\n",
       "        text-align: right;\n",
       "    }\n",
       "</style>\n",
       "<table border=\"1\" class=\"dataframe\">\n",
       "  <thead>\n",
       "    <tr style=\"text-align: right;\">\n",
       "      <th></th>\n",
       "      <th>prompt_id</th>\n",
       "      <th>prompt</th>\n",
       "      <th>story</th>\n",
       "      <th>hidden_state_file</th>\n",
       "      <th>len_generated_story</th>\n",
       "      <th>len_new_story</th>\n",
       "    </tr>\n",
       "  </thead>\n",
       "  <tbody>\n",
       "    <tr>\n",
       "      <th>0</th>\n",
       "      <td>1</td>\n",
       "      <td>Once upon a time there was a dragon</td>\n",
       "      <td>Once upon a time there was a dragon named Blaz...</td>\n",
       "      <td>./hidden_states/prompt_1.npz</td>\n",
       "      <td>270</td>\n",
       "      <td>271</td>\n",
       "    </tr>\n",
       "    <tr>\n",
       "      <th>1</th>\n",
       "      <td>1</td>\n",
       "      <td>Once upon a time there was a dragon</td>\n",
       "      <td>Once upon a time there was a dragon named Spar...</td>\n",
       "      <td>./hidden_states/prompt_1.npz</td>\n",
       "      <td>349</td>\n",
       "      <td>350</td>\n",
       "    </tr>\n",
       "    <tr>\n",
       "      <th>2</th>\n",
       "      <td>1</td>\n",
       "      <td>Once upon a time there was a dragon</td>\n",
       "      <td>Once upon a time there was a dragon named Scor...</td>\n",
       "      <td>./hidden_states/prompt_1.npz</td>\n",
       "      <td>278</td>\n",
       "      <td>278</td>\n",
       "    </tr>\n",
       "    <tr>\n",
       "      <th>3</th>\n",
       "      <td>1</td>\n",
       "      <td>Once upon a time there was a dragon</td>\n",
       "      <td>Once upon a time there was a dragon. The drago...</td>\n",
       "      <td>./hidden_states/prompt_1.npz</td>\n",
       "      <td>117</td>\n",
       "      <td>118</td>\n",
       "    </tr>\n",
       "    <tr>\n",
       "      <th>4</th>\n",
       "      <td>1</td>\n",
       "      <td>Once upon a time there was a dragon</td>\n",
       "      <td>Once upon a time there was a dragon. The drago...</td>\n",
       "      <td>./hidden_states/prompt_1.npz</td>\n",
       "      <td>129</td>\n",
       "      <td>130</td>\n",
       "    </tr>\n",
       "    <tr>\n",
       "      <th>...</th>\n",
       "      <td>...</td>\n",
       "      <td>...</td>\n",
       "      <td>...</td>\n",
       "      <td>...</td>\n",
       "      <td>...</td>\n",
       "      <td>...</td>\n",
       "    </tr>\n",
       "    <tr>\n",
       "      <th>9995</th>\n",
       "      <td>10</td>\n",
       "      <td>Once upon a time there was a poor boy</td>\n",
       "      <td>Once upon a time there was a poor boy named Ti...</td>\n",
       "      <td>./hidden_states/prompt_10.npz</td>\n",
       "      <td>289</td>\n",
       "      <td>290</td>\n",
       "    </tr>\n",
       "    <tr>\n",
       "      <th>9996</th>\n",
       "      <td>10</td>\n",
       "      <td>Once upon a time there was a poor boy</td>\n",
       "      <td>Once upon a time there was a poor boy named Ti...</td>\n",
       "      <td>./hidden_states/prompt_10.npz</td>\n",
       "      <td>119</td>\n",
       "      <td>119</td>\n",
       "    </tr>\n",
       "    <tr>\n",
       "      <th>9997</th>\n",
       "      <td>10</td>\n",
       "      <td>Once upon a time there was a poor boy</td>\n",
       "      <td>Once upon a time there was a poor boy named Ti...</td>\n",
       "      <td>./hidden_states/prompt_10.npz</td>\n",
       "      <td>127</td>\n",
       "      <td>128</td>\n",
       "    </tr>\n",
       "    <tr>\n",
       "      <th>9998</th>\n",
       "      <td>10</td>\n",
       "      <td>Once upon a time there was a poor boy</td>\n",
       "      <td>Once upon a time there was a poor boy named Ti...</td>\n",
       "      <td>./hidden_states/prompt_10.npz</td>\n",
       "      <td>441</td>\n",
       "      <td>441</td>\n",
       "    </tr>\n",
       "    <tr>\n",
       "      <th>9999</th>\n",
       "      <td>10</td>\n",
       "      <td>Once upon a time there was a poor boy</td>\n",
       "      <td>Once upon a time there was a poor boy named Ti...</td>\n",
       "      <td>./hidden_states/prompt_10.npz</td>\n",
       "      <td>520</td>\n",
       "      <td>521</td>\n",
       "    </tr>\n",
       "  </tbody>\n",
       "</table>\n",
       "<p>10000 rows × 6 columns</p>\n",
       "</div>"
      ],
      "text/plain": [
       "      prompt_id                                 prompt  \\\n",
       "0             1    Once upon a time there was a dragon   \n",
       "1             1    Once upon a time there was a dragon   \n",
       "2             1    Once upon a time there was a dragon   \n",
       "3             1    Once upon a time there was a dragon   \n",
       "4             1    Once upon a time there was a dragon   \n",
       "...         ...                                    ...   \n",
       "9995         10  Once upon a time there was a poor boy   \n",
       "9996         10  Once upon a time there was a poor boy   \n",
       "9997         10  Once upon a time there was a poor boy   \n",
       "9998         10  Once upon a time there was a poor boy   \n",
       "9999         10  Once upon a time there was a poor boy   \n",
       "\n",
       "                                                  story  \\\n",
       "0     Once upon a time there was a dragon named Blaz...   \n",
       "1     Once upon a time there was a dragon named Spar...   \n",
       "2     Once upon a time there was a dragon named Scor...   \n",
       "3     Once upon a time there was a dragon. The drago...   \n",
       "4     Once upon a time there was a dragon. The drago...   \n",
       "...                                                 ...   \n",
       "9995  Once upon a time there was a poor boy named Ti...   \n",
       "9996  Once upon a time there was a poor boy named Ti...   \n",
       "9997  Once upon a time there was a poor boy named Ti...   \n",
       "9998  Once upon a time there was a poor boy named Ti...   \n",
       "9999  Once upon a time there was a poor boy named Ti...   \n",
       "\n",
       "                  hidden_state_file  len_generated_story  len_new_story  \n",
       "0      ./hidden_states/prompt_1.npz                  270            271  \n",
       "1      ./hidden_states/prompt_1.npz                  349            350  \n",
       "2      ./hidden_states/prompt_1.npz                  278            278  \n",
       "3      ./hidden_states/prompt_1.npz                  117            118  \n",
       "4      ./hidden_states/prompt_1.npz                  129            130  \n",
       "...                             ...                  ...            ...  \n",
       "9995  ./hidden_states/prompt_10.npz                  289            290  \n",
       "9996  ./hidden_states/prompt_10.npz                  119            119  \n",
       "9997  ./hidden_states/prompt_10.npz                  127            128  \n",
       "9998  ./hidden_states/prompt_10.npz                  441            441  \n",
       "9999  ./hidden_states/prompt_10.npz                  520            521  \n",
       "\n",
       "[10000 rows x 6 columns]"
      ]
     },
     "execution_count": 3,
     "metadata": {},
     "output_type": "execute_result"
    }
   ],
   "source": [
    "df = pd.read_csv(\"../story_dataset.csv\")\n",
    "df"
   ]
  },
  {
   "cell_type": "code",
   "execution_count": 4,
   "id": "c081cc09",
   "metadata": {
    "tags": []
   },
   "outputs": [
    {
     "data": {
      "text/plain": [
       "522"
      ]
     },
     "execution_count": 4,
     "metadata": {},
     "output_type": "execute_result"
    }
   ],
   "source": [
    "max_story_len = max(df[\"len_generated_story\"])\n",
    "max_story_len"
   ]
  },
  {
   "cell_type": "code",
   "execution_count": 5,
   "id": "212c067a",
   "metadata": {
    "scrolled": true,
    "tags": []
   },
   "outputs": [
    {
     "name": "stderr",
     "output_type": "stream",
     "text": [
      "100%|███████████████████████████████████████████████████████████████████████████████| 1000/1000 [05:26<00:00,  3.07it/s]\n",
      "100%|███████████████████████████████████████████████████████████████████████████████| 1000/1000 [04:22<00:00,  3.82it/s]\n",
      "100%|███████████████████████████████████████████████████████████████████████████████| 1000/1000 [03:44<00:00,  4.45it/s]\n",
      "100%|███████████████████████████████████████████████████████████████████████████████| 1000/1000 [04:42<00:00,  3.54it/s]\n",
      "100%|███████████████████████████████████████████████████████████████████████████████| 1000/1000 [04:49<00:00,  3.45it/s]\n",
      "100%|███████████████████████████████████████████████████████████████████████████████| 1000/1000 [04:29<00:00,  3.71it/s]\n",
      "100%|███████████████████████████████████████████████████████████████████████████████| 1000/1000 [04:28<00:00,  3.73it/s]\n",
      "100%|███████████████████████████████████████████████████████████████████████████████| 1000/1000 [04:54<00:00,  3.40it/s]\n",
      "100%|███████████████████████████████████████████████████████████████████████████████| 1000/1000 [04:20<00:00,  3.84it/s]\n",
      "100%|███████████████████████████████████████████████████████████████████████████████| 1000/1000 [04:49<00:00,  3.45it/s]\n"
     ]
    }
   ],
   "source": [
    "hidden_states_by_layer = {}\n",
    "NUM_PROMPTS = 10\n",
    "\n",
    "for prompt_id in range(1, NUM_PROMPTS + 1):\n",
    "    with np.load(f'../hidden_states/prompt_{prompt_id}.npz') as loaded_data:\n",
    "        for i in tqdm(range(1000)):\n",
    "            curr_hidden_states = loaded_data[f\"arr_{i}\"][0]\n",
    "#             print(curr_hidden_states.shape)\n",
    "            for layer in range(4, 5):\n",
    "                padded_arr = np.zeros((max_story_len, 512))\n",
    "                padded_arr_len = len(curr_hidden_states[layer][0])\n",
    "                \n",
    "                padded_arr[:padded_arr_len] = curr_hidden_states[layer][0]\n",
    "                \n",
    "                padded_arr = padded_arr.flatten().astype('float32') #FAISS expects data in type float32 instead of float64 - saves memory too!\n",
    "#                 print(padded_arr.shape)\n",
    "                \n",
    "                if(f\"layer_{layer}\" in hidden_states_by_layer):\n",
    "                    hidden_states_by_layer[f\"layer_{layer}\"].append(padded_arr)\n",
    "                else:\n",
    "                    hidden_states_by_layer[f\"layer_{layer}\"] = [padded_arr]"
   ]
  },
  {
   "cell_type": "code",
   "execution_count": 6,
   "id": "ad23eb70",
   "metadata": {
    "tags": []
   },
   "outputs": [
    {
     "data": {
      "text/plain": [
       "(10000, 267264)"
      ]
     },
     "execution_count": 6,
     "metadata": {},
     "output_type": "execute_result"
    }
   ],
   "source": [
    "layer_hs_array = np.array(hidden_states_by_layer[\"layer_4\"])\n",
    "layer_hs_array.shape"
   ]
  },
  {
   "cell_type": "markdown",
   "id": "e44eecd8-9f29-457b-8f65-d8eae3b84eb8",
   "metadata": {
    "tags": []
   },
   "source": [
    "## Layer 4 Clustering"
   ]
  },
  {
   "cell_type": "code",
   "execution_count": 7,
   "id": "49cf7b1b",
   "metadata": {
    "tags": []
   },
   "outputs": [],
   "source": [
    "# Use original vectors for clustering - uncomment next line and comment out last two lines\n",
    "\n",
    "dim_reduced_vecs = layer_hs_array\n",
    "\n",
    "# random_projector = GaussianRandomProjection(random_state = 42)\n",
    "# dim_reduced_vecs = random_projector.fit_transform(layer_hs_array).astype('float32')"
   ]
  },
  {
   "cell_type": "code",
   "execution_count": 8,
   "id": "b9257701",
   "metadata": {
    "tags": []
   },
   "outputs": [
    {
     "data": {
      "text/plain": [
       "(10000, 267264)"
      ]
     },
     "execution_count": 8,
     "metadata": {},
     "output_type": "execute_result"
    }
   ],
   "source": [
    "dim_reduced_vecs = np.array([v / np.linalg.norm(v) for v in dim_reduced_vecs])\n",
    "dim_reduced_vecs.shape"
   ]
  },
  {
   "cell_type": "code",
   "execution_count": 9,
   "id": "22e1c2a5-03fa-43fd-90d4-609a0d949829",
   "metadata": {
    "tags": []
   },
   "outputs": [
    {
     "data": {
      "text/plain": [
       "array([ 1,  1,  1, ..., 10, 10, 10])"
      ]
     },
     "execution_count": 9,
     "metadata": {},
     "output_type": "execute_result"
    }
   ],
   "source": [
    "prompt_ids = df[\"prompt_id\"]\n",
    "prompt_ids = prompt_ids.to_numpy()\n",
    "prompt_ids"
   ]
  },
  {
   "cell_type": "code",
   "execution_count": 10,
   "id": "bd963a3c-0ad1-416a-9fc6-a13bf2422fcd",
   "metadata": {},
   "outputs": [],
   "source": [
    "X_train = np.zeros((int(0.8 * dim_reduced_vecs.shape[0]), dim_reduced_vecs.shape[1]), dtype = np.float32)\n",
    "y_train = np.zeros(int(0.8 * dim_reduced_vecs.shape[0]))\n",
    "\n",
    "X_test = np.zeros((int(0.2 * dim_reduced_vecs.shape[0]), dim_reduced_vecs.shape[1]), dtype = np.float32)\n",
    "y_test = np.zeros(int(0.2 * dim_reduced_vecs.shape[0]))"
   ]
  },
  {
   "cell_type": "code",
   "execution_count": 11,
   "id": "6b84c6a1-29cc-4096-9eb1-420301a7065f",
   "metadata": {},
   "outputs": [],
   "source": [
    "for i in range(10):\n",
    "    X_train[i * 800 : (i + 1) * 800] = dim_reduced_vecs[i * 1000 : (i * 1000) + 800]\n",
    "    y_train[i * 800 : (i + 1) * 800] = prompt_ids[i * 1000 : (i * 1000) + 800]\n",
    "    \n",
    "    X_test[i * 200 : (i + 1) * 200] = dim_reduced_vecs[(i * 1000) + 800 : (i + 1) * 1000]\n",
    "    y_test[i * 200 : (i + 1) * 200] = prompt_ids[(i * 1000) + 800 : (i + 1) * 1000]"
   ]
  },
  {
   "cell_type": "code",
   "execution_count": 12,
   "id": "e7c2f695-573c-4abe-ab7b-eaa4a1661cd2",
   "metadata": {},
   "outputs": [
    {
     "name": "stdout",
     "output_type": "stream",
     "text": [
      "(8000, 267264)\n",
      "(8000,)\n",
      "(2000, 267264)\n",
      "(2000,)\n"
     ]
    }
   ],
   "source": [
    "print(X_train.shape)\n",
    "print(y_train.shape)\n",
    "print(X_test.shape)\n",
    "print(y_test.shape)"
   ]
  },
  {
   "cell_type": "code",
   "execution_count": 13,
   "id": "8aebf88b-1d51-48d2-945c-311b5fc70963",
   "metadata": {},
   "outputs": [
    {
     "name": "stdout",
     "output_type": "stream",
     "text": [
      "Sampling a subset of 4000 / 8000 for training\n",
      "Clustering 4000 points in 267264D to 5 clusters, redo 10 times, 20 iterations\n",
      "  Preprocessing in 3.69 s\n",
      "Outer iteration 0 / 10\n",
      "  Iteration 19 (10.96 s, search 7.37 s): objective=1911.78 imbalance=1.109 nsplit=0       \n",
      "Objective improved: keep new clusters\n",
      "Outer iteration 1 / 10\n",
      "  Iteration 19 (21.89 s, search 14.73 s): objective=1908.95 imbalance=1.212 nsplit=0       \n",
      "Outer iteration 2 / 10\n",
      "  Iteration 19 (32.82 s, search 22.09 s): objective=1906.59 imbalance=1.048 nsplit=0       \n",
      "Outer iteration 3 / 10\n",
      "  Iteration 19 (43.75 s, search 29.44 s): objective=1908.73 imbalance=1.102 nsplit=0       \n",
      "Outer iteration 4 / 10\n",
      "  Iteration 19 (54.64 s, search 36.77 s): objective=1908.73 imbalance=1.106 nsplit=0       \n",
      "Outer iteration 5 / 10\n",
      "  Iteration 19 (65.56 s, search 44.12 s): objective=1905.76 imbalance=1.194 nsplit=0       \n",
      "Outer iteration 6 / 10\n",
      "  Iteration 19 (76.57 s, search 51.53 s): objective=1897.81 imbalance=1.706 nsplit=0       \n",
      "Outer iteration 7 / 10\n",
      "  Iteration 19 (87.72 s, search 59.01 s): objective=1904 imbalance=1.351 nsplit=0          \n",
      "Outer iteration 8 / 10\n",
      "  Iteration 19 (98.65 s, search 66.36 s): objective=1906.02 imbalance=1.174 nsplit=0       \n",
      "Outer iteration 9 / 10\n",
      "  Iteration 19 (109.56 s, search 73.70 s): objective=1905.13 imbalance=1.274 nsplit=0       \n",
      "Sampling a subset of 4800 / 8000 for training\n",
      "Clustering 4800 points in 267264D to 6 clusters, redo 10 times, 20 iterations\n",
      "  Preprocessing in 3.42 s\n",
      "Outer iteration 0 / 10\n",
      "  Iteration 19 (13.21 s, search 8.84 s): objective=2282.94 imbalance=1.935 nsplit=0       \n",
      "Objective improved: keep new clusters\n",
      "Outer iteration 1 / 10\n",
      "  Iteration 19 (26.40 s, search 17.68 s): objective=2291.86 imbalance=1.050 nsplit=0       \n",
      "Objective improved: keep new clusters\n",
      "Outer iteration 2 / 10\n",
      "  Iteration 19 (39.59 s, search 26.54 s): objective=2298.89 imbalance=1.196 nsplit=0       \n",
      "Objective improved: keep new clusters\n",
      "Outer iteration 3 / 10\n",
      "  Iteration 19 (52.79 s, search 35.40 s): objective=2293.54 imbalance=1.083 nsplit=0       \n",
      "Outer iteration 4 / 10\n",
      "  Iteration 19 (65.98 s, search 44.25 s): objective=2296.23 imbalance=1.195 nsplit=0       \n",
      "Outer iteration 5 / 10\n",
      "  Iteration 19 (79.19 s, search 53.10 s): objective=2294.54 imbalance=1.174 nsplit=0       \n",
      "Outer iteration 6 / 10\n",
      "  Iteration 19 (92.37 s, search 61.95 s): objective=2290.45 imbalance=1.026 nsplit=0       \n",
      "Outer iteration 7 / 10\n",
      "  Iteration 19 (105.58 s, search 70.80 s): objective=2294.14 imbalance=1.023 nsplit=0       \n",
      "Outer iteration 8 / 10\n",
      "  Iteration 19 (118.78 s, search 79.65 s): objective=2284.83 imbalance=1.806 nsplit=0       \n",
      "Outer iteration 9 / 10\n",
      "  Iteration 19 (131.98 s, search 88.51 s): objective=2295.57 imbalance=1.074 nsplit=0       \n",
      "Sampling a subset of 5600 / 8000 for training\n",
      "Clustering 5600 points in 267264D to 7 clusters, redo 10 times, 20 iterations\n",
      "  Preprocessing in 3.77 s\n",
      "Outer iteration 0 / 10\n",
      "  Iteration 19 (15.37 s, search 10.28 s): objective=2690.07 imbalance=1.245 nsplit=0       \n",
      "Objective improved: keep new clusters\n",
      "Outer iteration 1 / 10\n",
      "  Iteration 19 (30.75 s, search 20.56 s): objective=2678.47 imbalance=1.211 nsplit=0       \n",
      "Outer iteration 2 / 10\n",
      "  Iteration 19 (46.14 s, search 30.85 s): objective=2691.33 imbalance=1.105 nsplit=0       \n",
      "Objective improved: keep new clusters\n",
      "Outer iteration 3 / 10\n",
      "  Iteration 19 (61.50 s, search 41.12 s): objective=2684.85 imbalance=1.197 nsplit=0       \n",
      "Outer iteration 4 / 10\n",
      "  Iteration 19 (76.87 s, search 51.41 s): objective=2690.8 imbalance=1.254 nsplit=0        \n",
      "Outer iteration 5 / 10\n",
      "  Iteration 19 (92.24 s, search 61.70 s): objective=2678.27 imbalance=1.334 nsplit=0       \n",
      "Outer iteration 6 / 10\n",
      "  Iteration 19 (107.61 s, search 71.99 s): objective=2684.7 imbalance=1.083 nsplit=0        \n",
      "Outer iteration 7 / 10\n",
      "  Iteration 19 (123.10 s, search 82.34 s): objective=2685.48 imbalance=1.159 nsplit=0       \n",
      "Outer iteration 8 / 10\n",
      "  Iteration 19 (138.46 s, search 92.62 s): objective=2684.95 imbalance=1.072 nsplit=0       \n",
      "Outer iteration 9 / 10\n",
      "  Iteration 19 (153.84 s, search 102.90 s): objective=2692.7 imbalance=1.055 nsplit=0        \n",
      "Objective improved: keep new clusters\n",
      "Sampling a subset of 6400 / 8000 for training\n",
      "Clustering 6400 points in 267264D to 8 clusters, redo 10 times, 20 iterations\n",
      "  Preprocessing in 4.13 s\n",
      "Outer iteration 0 / 10\n",
      "  Iteration 19 (17.54 s, search 11.75 s): objective=3080.3 imbalance=1.190 nsplit=0        \n",
      "Objective improved: keep new clusters\n",
      "Outer iteration 1 / 10\n",
      "  Iteration 19 (35.11 s, search 23.51 s): objective=3080.39 imbalance=1.226 nsplit=0       \n",
      "Objective improved: keep new clusters\n",
      "Outer iteration 2 / 10\n",
      "  Iteration 19 (52.67 s, search 35.28 s): objective=3059.82 imbalance=1.842 nsplit=0       \n",
      "Outer iteration 3 / 10\n",
      "  Iteration 19 (70.21 s, search 47.07 s): objective=3048.8 imbalance=2.014 nsplit=0        \n",
      "Outer iteration 4 / 10\n",
      "  Iteration 19 (87.92 s, search 58.91 s): objective=3079.48 imbalance=1.058 nsplit=0       \n",
      "Outer iteration 5 / 10\n",
      "  Iteration 19 (105.46 s, search 70.66 s): objective=3069.52 imbalance=1.146 nsplit=0       \n",
      "Outer iteration 6 / 10\n",
      "  Iteration 19 (123.02 s, search 82.43 s): objective=3078.9 imbalance=1.330 nsplit=0        \n",
      "Outer iteration 7 / 10\n",
      "  Iteration 19 (140.58 s, search 94.19 s): objective=3069.61 imbalance=1.398 nsplit=0       \n",
      "Outer iteration 8 / 10\n",
      "  Iteration 19 (158.13 s, search 105.96 s): objective=3078.12 imbalance=1.027 nsplit=0       \n",
      "Outer iteration 9 / 10\n",
      "  Iteration 19 (175.66 s, search 117.72 s): objective=3080.28 imbalance=1.155 nsplit=0       \n",
      "Sampling a subset of 7200 / 8000 for training\n",
      "Clustering 7200 points in 267264D to 9 clusters, redo 10 times, 20 iterations\n",
      "  Preprocessing in 4.50 s\n",
      "Outer iteration 0 / 10\n",
      "  Iteration 19 (19.72 s, search 13.23 s): objective=3476.11 imbalance=1.076 nsplit=0       \n",
      "Objective improved: keep new clusters\n",
      "Outer iteration 1 / 10\n",
      "  Iteration 19 (39.43 s, search 26.44 s): objective=3478.51 imbalance=1.118 nsplit=0       \n",
      "Objective improved: keep new clusters\n",
      "Outer iteration 2 / 10\n",
      "  Iteration 19 (157.82 s, search 105.84 s): objective=3476.63 imbalance=1.446 nsplit=0       \n",
      "Outer iteration 8 / 10\n",
      "  Iteration 19 (177.54 s, search 119.07 s): objective=3468.38 imbalance=1.168 nsplit=0       \n",
      "Outer iteration 9 / 10\n",
      "  Iteration 19 (197.25 s, search 132.28 s): objective=3481.28 imbalance=1.144 nsplit=0       \n",
      "Clustering 8000 points in 267264D to 10 clusters, redo 10 times, 20 iterations\n",
      "  Preprocessing in 1.12 s\n",
      "Outer iteration 0 / 10\n",
      "  Iteration 19 (21.99 s, search 14.71 s): objective=3861.54 imbalance=1.411 nsplit=0       \n",
      "Objective improved: keep new clusters\n",
      "Outer iteration 1 / 10\n",
      "  Iteration 19 (43.99 s, search 29.43 s): objective=3881.93 imbalance=1.208 nsplit=0       \n",
      "Objective improved: keep new clusters\n",
      "Outer iteration 2 / 10\n",
      "  Iteration 19 (66.01 s, search 44.18 s): objective=3862.11 imbalance=1.275 nsplit=0       \n",
      "Outer iteration 3 / 10\n",
      "  Iteration 19 (88.00 s, search 58.90 s): objective=3878.8 imbalance=1.132 nsplit=0        \n",
      "Outer iteration 4 / 10\n",
      "  Iteration 19 (110.00 s, search 73.64 s): objective=3845.95 imbalance=2.187 nsplit=0       \n",
      "Outer iteration 5 / 10\n",
      "  Iteration 19 (132.00 s, search 88.37 s): objective=3872.52 imbalance=1.139 nsplit=0       \n",
      "Outer iteration 6 / 10\n",
      "  Iteration 19 (153.98 s, search 103.10 s): objective=3878.83 imbalance=1.136 nsplit=0       \n",
      "Outer iteration 7 / 10\n",
      "  Iteration 19 (175.99 s, search 117.83 s): objective=3872.37 imbalance=1.089 nsplit=0       \n",
      "Outer iteration 8 / 10\n",
      "  Iteration 19 (197.98 s, search 132.57 s): objective=3874.75 imbalance=1.204 nsplit=0       \n",
      "Outer iteration 9 / 10\n",
      "  Iteration 19 (219.98 s, search 147.32 s): objective=3870.87 imbalance=1.057 nsplit=0       \n",
      "Clustering 8000 points in 267264D to 11 clusters, redo 10 times, 20 iterations\n",
      "  Preprocessing in 1.12 s\n",
      "Outer iteration 0 / 10\n",
      "  Iteration 19 (22.04 s, search 14.73 s): objective=3871.4 imbalance=1.439 nsplit=0        \n",
      "Objective improved: keep new clusters\n",
      "Outer iteration 1 / 10\n",
      "  Iteration 19 (44.06 s, search 29.46 s): objective=3882.02 imbalance=1.398 nsplit=0       \n",
      "Objective improved: keep new clusters\n",
      "Outer iteration 2 / 10\n",
      "  Iteration 19 (66.11 s, search 44.22 s): objective=3872.26 imbalance=1.254 nsplit=0       \n",
      "Outer iteration 3 / 10\n",
      "  Iteration 19 (88.24 s, search 59.01 s): objective=3889.33 imbalance=1.138 nsplit=0       \n",
      "Objective improved: keep new clusters\n",
      "Outer iteration 4 / 10\n",
      "  Iteration 19 (110.23 s, search 73.73 s): objective=3869.23 imbalance=1.451 nsplit=0       \n",
      "Outer iteration 5 / 10\n",
      "  Iteration 19 (132.26 s, search 88.45 s): objective=3875.37 imbalance=1.241 nsplit=0       \n",
      "Outer iteration 6 / 10\n",
      "  Iteration 19 (154.46 s, search 103.30 s): objective=3882.13 imbalance=1.170 nsplit=0       \n",
      "Outer iteration 7 / 10\n",
      "  Iteration 19 (176.51 s, search 118.05 s): objective=3875.81 imbalance=1.155 nsplit=0       \n",
      "Outer iteration 8 / 10\n",
      "  Iteration 19 (198.68 s, search 132.88 s): objective=3879.98 imbalance=1.265 nsplit=0       \n",
      "Outer iteration 9 / 10\n",
      "  Iteration 19 (220.71 s, search 147.63 s): objective=3879.95 imbalance=1.069 nsplit=0       \n",
      "Clustering 8000 points in 267264D to 12 clusters, redo 10 times, 20 iterations\n",
      "  Preprocessing in 1.12 s\n",
      "Outer iteration 0 / 10\n",
      "  Iteration 19 (22.13 s, search 14.78 s): objective=3876.94 imbalance=1.399 nsplit=0       \n",
      "Objective improved: keep new clusters\n",
      "Outer iteration 1 / 10\n",
      "  Iteration 19 (44.25 s, search 29.55 s): objective=3887.4 imbalance=1.334 nsplit=0        \n",
      "Objective improved: keep new clusters\n",
      "Outer iteration 2 / 10\n",
      "  Iteration 19 (66.36 s, search 44.32 s): objective=3878.36 imbalance=1.191 nsplit=0       \n",
      "Outer iteration 3 / 10\n",
      "  Iteration 19 (88.48 s, search 59.10 s): objective=3897.8 imbalance=1.168 nsplit=0        \n",
      "Objective improved: keep new clusters\n",
      "Outer iteration 4 / 10\n",
      "  Iteration 19 (110.65 s, search 73.89 s): objective=3873.14 imbalance=1.505 nsplit=0       \n",
      "Outer iteration 5 / 10\n",
      "  Iteration 19 (132.78 s, search 88.66 s): objective=3881.98 imbalance=1.307 nsplit=0       \n",
      "Outer iteration 6 / 10\n",
      "  Iteration 19 (154.91 s, search 103.44 s): objective=3888.25 imbalance=1.151 nsplit=0       \n",
      "Outer iteration 7 / 10\n",
      "  Iteration 19 (177.04 s, search 118.21 s): objective=3890.94 imbalance=1.271 nsplit=0       \n",
      "Outer iteration 8 / 10\n",
      "  Iteration 19 (199.19 s, search 132.99 s): objective=3890.5 imbalance=1.285 nsplit=0        \n",
      "Outer iteration 9 / 10\n",
      "  Iteration 19 (221.35 s, search 147.80 s): objective=3884.29 imbalance=1.080 nsplit=0       \n",
      "Clustering 8000 points in 267264D to 13 clusters, redo 10 times, 20 iterations\n",
      "  Preprocessing in 1.12 s\n",
      "Outer iteration 0 / 10\n",
      "  Iteration 19 (22.14 s, search 14.78 s): objective=3883.39 imbalance=1.378 nsplit=0       \n",
      "Objective improved: keep new clusters\n",
      "Outer iteration 1 / 10\n",
      "  Iteration 19 (44.29 s, search 29.56 s): objective=3892.05 imbalance=1.338 nsplit=0       \n",
      "Objective improved: keep new clusters\n",
      "Outer iteration 2 / 10\n",
      "  Iteration 19 (66.45 s, search 44.34 s): objective=3880.73 imbalance=1.313 nsplit=0       \n",
      "Outer iteration 3 / 10\n",
      "  Iteration 19 (88.58 s, search 59.11 s): objective=3899.14 imbalance=1.264 nsplit=0       \n",
      "Objective improved: keep new clusters\n",
      "Outer iteration 4 / 10\n",
      "  Iteration 19 (110.73 s, search 73.89 s): objective=3888.4 imbalance=1.303 nsplit=0        \n",
      "Outer iteration 5 / 10\n",
      "  Iteration 19 (132.87 s, search 88.67 s): objective=3893.82 imbalance=1.295 nsplit=0       \n",
      "Outer iteration 6 / 10\n",
      "  Iteration 19 (155.02 s, search 103.45 s): objective=3892.82 imbalance=1.172 nsplit=0       \n",
      "Outer iteration 7 / 10\n",
      "  Iteration 19 (177.19 s, search 118.24 s): objective=3895.5 imbalance=1.270 nsplit=0        \n",
      "Outer iteration 8 / 10\n",
      "  Iteration 19 (199.34 s, search 133.02 s): objective=3902.8 imbalance=1.265 nsplit=0        \n",
      "Objective improved: keep new clusters\n",
      "Outer iteration 9 / 10\n",
      "  Iteration 19 (221.47 s, search 147.78 s): objective=3885.81 imbalance=1.098 nsplit=0       \n",
      "Clustering 8000 points in 267264D to 14 clusters, redo 10 times, 20 iterations\n",
      "  Preprocessing in 1.12 s\n",
      "Outer iteration 0 / 10\n",
      "  Iteration 19 (22.14 s, search 14.77 s): objective=3884.85 imbalance=1.483 nsplit=0       \n",
      "Objective improved: keep new clusters\n",
      "Outer iteration 1 / 10\n",
      "  Iteration 19 (44.29 s, search 29.55 s): objective=3898.85 imbalance=1.309 nsplit=0       \n",
      "Objective improved: keep new clusters\n",
      "Outer iteration 2 / 10\n",
      "  Iteration 19 (66.46 s, search 44.32 s): objective=3886.67 imbalance=1.293 nsplit=0       \n",
      "Outer iteration 3 / 10\n",
      "  Iteration 19 (88.60 s, search 59.10 s): objective=3894.74 imbalance=1.248 nsplit=0       \n",
      "Outer iteration 4 / 10\n",
      "  Iteration 19 (110.75 s, search 73.87 s): objective=3889.61 imbalance=1.381 nsplit=0       \n",
      "Outer iteration 5 / 10\n",
      "  Iteration 19 (132.91 s, search 88.65 s): objective=3888.79 imbalance=1.594 nsplit=0       \n",
      "Outer iteration 6 / 10\n",
      "  Iteration 19 (155.07 s, search 103.43 s): objective=3895.7 imbalance=1.193 nsplit=0        \n",
      "Outer iteration 7 / 10\n",
      "  Iteration 19 (177.23 s, search 118.20 s): objective=3895.34 imbalance=1.334 nsplit=0       \n",
      "Outer iteration 8 / 10\n",
      "  Iteration 19 (199.40 s, search 132.97 s): objective=3904.93 imbalance=1.328 nsplit=0       \n",
      "Objective improved: keep new clusters\n",
      "Outer iteration 9 / 10\n",
      "  Iteration 19 (221.54 s, search 147.74 s): objective=3892.04 imbalance=1.107 nsplit=0       \n",
      "Clustering 8000 points in 267264D to 15 clusters, redo 10 times, 20 iterations\n",
      "  Preprocessing in 1.12 s\n",
      "Outer iteration 0 / 10\n",
      "  Iteration 19 (22.16 s, search 14.78 s): objective=3891 imbalance=1.513 nsplit=0          \n",
      "Objective improved: keep new clusters\n",
      "Outer iteration 1 / 10\n",
      "  Iteration 19 (44.34 s, search 29.56 s): objective=3900.47 imbalance=1.357 nsplit=0       \n",
      "Objective improved: keep new clusters\n",
      "Outer iteration 2 / 10\n",
      "  Iteration 19 (66.51 s, search 44.34 s): objective=3892.52 imbalance=1.304 nsplit=0       \n",
      "Outer iteration 3 / 10\n",
      "  Iteration 19 (88.69 s, search 59.12 s): objective=3898.06 imbalance=1.240 nsplit=0       \n",
      "Outer iteration 4 / 10\n",
      "  Iteration 19 (110.87 s, search 73.88 s): objective=3886.31 imbalance=1.456 nsplit=0       \n",
      "Outer iteration 5 / 10\n",
      "  Iteration 19 (133.03 s, search 88.66 s): objective=3889.94 imbalance=1.706 nsplit=0       \n",
      "Outer iteration 6 / 10\n",
      "  Iteration 19 (155.21 s, search 103.44 s): objective=3899.02 imbalance=1.231 nsplit=0       \n",
      "Outer iteration 7 / 10\n",
      "  Iteration 19 (177.38 s, search 118.23 s): objective=3889.57 imbalance=1.685 nsplit=0       \n",
      "Outer iteration 8 / 10\n",
      "  Iteration 19 (199.59 s, search 133.02 s): objective=3908.9 imbalance=1.249 nsplit=0        \n",
      "Objective improved: keep new clusters\n",
      "Outer iteration 9 / 10\n",
      "  Iteration 19 (221.76 s, search 147.80 s): objective=3895.95 imbalance=1.131 nsplit=0       \r"
     ]
    },
    {
     "data": {
      "text/plain": [
       "[<matplotlib.lines.Line2D at 0x7fac34ab8ed0>]"
      ]
     },
     "execution_count": 13,
     "metadata": {},
     "output_type": "execute_result"
    },
    {
     "data": {
      "image/png": "[encoded data removed]",
      "text/plain": [
       "<Figure size 432x288 with 1 Axes>"
      ]
     },
     "metadata": {
      "needs_background": "light"
     },
     "output_type": "display_data"
    }
   ],
   "source": [
    "# Elbow Plot\n",
    "niter = 20\n",
    "verbose = True\n",
    "dim = X_train.shape[1]\n",
    "\n",
    "k_vals = [k for k in range(5, 16)]\n",
    "wccs = []\n",
    "for k in k_vals:\n",
    "    kmeans = faiss.Kmeans(dim, k, niter = niter, verbose = verbose, gpu = True, nredo = 10, spherical = True, max_points_per_centroid = 800)\n",
    "    kmeans.train(X_train)\n",
    "    wccs.append(kmeans.obj[-1])\n",
    "\n",
    "plt.plot(k_vals, wccs)"
   ]
  },
  {
   "cell_type": "code",
   "execution_count": 14,
   "id": "289102b9",
   "metadata": {
    "scrolled": true,
    "tags": []
   },
   "outputs": [
    {
     "name": "stdout",
     "output_type": "stream",
     "text": [
      "\n",
      "Clustering 8000 points in 267264D to 10 clusters, redo 10 times, 20 iterations\n",
      "  Preprocessing in 1.12 s\n",
      "Outer iteration 0 / 10\n",
      "  Iteration 19 (22.02 s, search 14.71 s): objective=3861.54 imbalance=1.411 nsplit=0       \n",
      "Objective improved: keep new clusters\n",
      "Outer iteration 1 / 10\n",
      "  Iteration 19 (44.06 s, search 29.45 s): objective=3881.93 imbalance=1.208 nsplit=0       \n",
      "Objective improved: keep new clusters\n",
      "Outer iteration 2 / 10\n",
      "  Iteration 19 (66.07 s, search 44.19 s): objective=3862.11 imbalance=1.275 nsplit=0       \n",
      "Outer iteration 3 / 10\n",
      "  Iteration 19 (88.07 s, search 58.93 s): objective=3878.8 imbalance=1.132 nsplit=0        \n",
      "Outer iteration 4 / 10\n",
      "  Iteration 19 (110.05 s, search 73.65 s): objective=3845.95 imbalance=2.187 nsplit=0       \n",
      "Outer iteration 5 / 10\n",
      "  Iteration 19 (132.05 s, search 88.36 s): objective=3872.52 imbalance=1.139 nsplit=0       \n",
      "Outer iteration 6 / 10\n",
      "  Iteration 19 (154.04 s, search 103.09 s): objective=3878.83 imbalance=1.136 nsplit=0       \n",
      "Outer iteration 7 / 10\n",
      "  Iteration 19 (176.06 s, search 117.84 s): objective=3872.37 imbalance=1.089 nsplit=0       \n",
      "Outer iteration 8 / 10\n",
      "  Iteration 19 (198.04 s, search 132.57 s): objective=3874.75 imbalance=1.204 nsplit=0       \n",
      "Outer iteration 9 / 10\n",
      "  Iteration 19 (219.98 s, search 147.28 s): objective=3870.87 imbalance=1.057 nsplit=0       \r"
     ]
    },
    {
     "data": {
      "text/plain": [
       "3881.9267578125"
      ]
     },
     "execution_count": 14,
     "metadata": {},
     "output_type": "execute_result"
    }
   ],
   "source": [
    "# K-means Clustering\n",
    "\n",
    "# ncentroids = NUM_PROMPTS\n",
    "ncentroids = 10 # Elbow point - based on objective (sum of cosine similarities)\n",
    "niter = 20\n",
    "verbose = True\n",
    "dim = X_train.shape[1]\n",
    "kmeans = faiss.Kmeans(dim, ncentroids, niter = niter, verbose = verbose, gpu = True, nredo = 10, spherical = True, max_points_per_centroid = 800)\n",
    "kmeans.train(X_train)"
   ]
  },
  {
   "cell_type": "code",
   "execution_count": 15,
   "id": "19cf0f0a",
   "metadata": {
    "tags": []
   },
   "outputs": [
    {
     "data": {
      "text/plain": [
       "array([[ 3.3613385e-03,  6.9452915e-05,  5.4682461e-03, ...,\n",
       "         0.0000000e+00,  0.0000000e+00,  0.0000000e+00],\n",
       "       [ 4.0281606e-03,  8.3231862e-05,  6.5530366e-03, ...,\n",
       "         0.0000000e+00,  0.0000000e+00,  0.0000000e+00],\n",
       "       [ 4.0370976e-03,  8.3416577e-05,  6.5675685e-03, ...,\n",
       "         0.0000000e+00,  0.0000000e+00,  0.0000000e+00],\n",
       "       ...,\n",
       "       [ 3.2767237e-03,  6.7705892e-05,  5.3305989e-03, ...,\n",
       "        -5.1079278e-06, -2.2581946e-06, -5.3490289e-06],\n",
       "       [ 3.3346987e-03,  6.8903842e-05,  5.4249149e-03, ...,\n",
       "        -3.6826816e-05,  1.4191622e-05,  3.0122961e-05],\n",
       "       [ 3.9051909e-03,  8.0691068e-05,  6.3529857e-03, ...,\n",
       "         0.0000000e+00,  0.0000000e+00,  0.0000000e+00]], dtype=float32)"
      ]
     },
     "execution_count": 15,
     "metadata": {},
     "output_type": "execute_result"
    }
   ],
   "source": [
    "kmeans.centroids #cluster centers"
   ]
  },
  {
   "cell_type": "code",
   "execution_count": 16,
   "id": "61e726e9",
   "metadata": {
    "tags": []
   },
   "outputs": [
    {
     "name": "stdout",
     "output_type": "stream",
     "text": [
      "1.0000178\n",
      "1.0000114\n",
      "1.0000103\n",
      "1.000035\n",
      "1.0000101\n",
      "1.0000126\n",
      "1.000043\n",
      "1.0000291\n",
      "1.0000268\n",
      "1.0000113\n"
     ]
    }
   ],
   "source": [
    "for centroid in kmeans.centroids:\n",
    "    print(np.linalg.norm(centroid))"
   ]
  },
  {
   "cell_type": "code",
   "execution_count": 17,
   "id": "e5e1fa18",
   "metadata": {
    "tags": []
   },
   "outputs": [
    {
     "data": {
      "text/plain": [
       "array([2404.57641602, 3706.35424805, 3785.09008789, 3817.01782227,\n",
       "       3833.52441406, 3843.09838867, 3848.06982422, 3851.82739258,\n",
       "       3856.65673828, 3859.09155273, 3860.69604492, 3861.27490234,\n",
       "       3861.42333984, 3861.47021484, 3861.4921875 , 3861.50317383,\n",
       "       3861.50952148, 3861.51977539, 3861.52807617, 3861.53588867,\n",
       "       2446.88134766, 3711.23925781, 3760.52539062, 3811.64086914,\n",
       "       3841.48168945, 3852.04321289, 3856.61547852, 3858.9777832 ,\n",
       "       3860.93188477, 3863.70214844, 3869.67724609, 3876.3684082 ,\n",
       "       3879.32666016, 3880.7878418 , 3881.30419922, 3881.49047852,\n",
       "       3881.62231445, 3881.75170898, 3881.84790039, 3881.92675781])"
      ]
     },
     "execution_count": 17,
     "metadata": {},
     "output_type": "execute_result"
    }
   ],
   "source": [
    "kmeans.obj #inertia at each iteration"
   ]
  },
  {
   "cell_type": "code",
   "execution_count": 18,
   "id": "ed2c340d",
   "metadata": {
    "tags": []
   },
   "outputs": [],
   "source": [
    "cos_similarities = X_train @ kmeans.centroids.T\n",
    "classifications_train = np.argmax(cos_similarities, axis=1)"
   ]
  },
  {
   "cell_type": "code",
   "execution_count": 19,
   "id": "90aae79f",
   "metadata": {
    "tags": []
   },
   "outputs": [
    {
     "data": {
      "text/plain": [
       "0    1568\n",
       "2    1031\n",
       "1    1025\n",
       "3     986\n",
       "4     879\n",
       "6     840\n",
       "8     454\n",
       "7     452\n",
       "5     426\n",
       "9     339\n",
       "dtype: int64"
      ]
     },
     "execution_count": 19,
     "metadata": {},
     "output_type": "execute_result"
    }
   ],
   "source": [
    "pd.Series(classifications_train).value_counts()"
   ]
  },
  {
   "cell_type": "code",
   "execution_count": 20,
   "id": "fc34c419-5d92-4dc6-8db4-9dc84b83a8d4",
   "metadata": {
    "tags": []
   },
   "outputs": [
    {
     "data": {
      "text/plain": [
       "[2, 6, 1, 6, 5, 3, 3, 9, 10, 10]"
      ]
     },
     "execution_count": 20,
     "metadata": {},
     "output_type": "execute_result"
    }
   ],
   "source": [
    "# Get most common label for each point classified to a centroid (same centroid)\n",
    "centroid_labels = [np.where(classifications_train == i)[0] for i in range(ncentroids)]\n",
    "max_label_per_centroid = [int(pd.Series(y_train[centroid_labels[i]]).value_counts().idxmax()) for i in range(ncentroids)]\n",
    "max_label_per_centroid"
   ]
  },
  {
   "cell_type": "code",
   "execution_count": 21,
   "id": "20e159a9-ef63-4a0e-8e94-52e041a5c416",
   "metadata": {
    "tags": []
   },
   "outputs": [],
   "source": [
    "centroid_to_label = {idx : max_label_per_centroid[idx] for idx in range(len(max_label_per_centroid))}"
   ]
  },
  {
   "cell_type": "code",
   "execution_count": 22,
   "id": "45760bd2-820d-462e-a8ef-8d054ed5dde4",
   "metadata": {
    "tags": []
   },
   "outputs": [
    {
     "data": {
      "text/plain": [
       "{0: 2, 1: 6, 2: 1, 3: 6, 4: 5, 5: 3, 6: 3, 7: 9, 8: 10, 9: 10}"
      ]
     },
     "execution_count": 22,
     "metadata": {},
     "output_type": "execute_result"
    }
   ],
   "source": [
    "centroid_to_label"
   ]
  },
  {
   "cell_type": "code",
   "execution_count": 23,
   "id": "b9cf2ac5-ce04-4efe-9828-041723e1f453",
   "metadata": {
    "tags": []
   },
   "outputs": [
    {
     "data": {
      "text/plain": [
       "array([ 6,  9,  9, ..., 10, 10, 10])"
      ]
     },
     "execution_count": 23,
     "metadata": {},
     "output_type": "execute_result"
    }
   ],
   "source": [
    "vectorized_map = np.vectorize(centroid_to_label.get)\n",
    "classifications_to_label = vectorized_map(classifications_train)\n",
    "\n",
    "classifications_to_label"
   ]
  },
  {
   "cell_type": "code",
   "execution_count": 24,
   "id": "c793f2dc-74de-4e3a-b0a8-3839b1be8dd9",
   "metadata": {
    "tags": []
   },
   "outputs": [
    {
     "name": "stdout",
     "output_type": "stream",
     "text": [
      "Prompt 1 Accuracy:  0.2975\n",
      "Prompt 2 Accuracy:  0.32875\n",
      "Prompt 3 Accuracy:  0.89375\n",
      "Prompt 4 Accuracy:  0.0\n",
      "Prompt 5 Accuracy:  0.41625\n",
      "Prompt 6 Accuracy:  0.52\n",
      "Prompt 7 Accuracy:  0.0\n",
      "Prompt 8 Accuracy:  0.0\n",
      "Prompt 9 Accuracy:  0.2225\n",
      "Prompt 10 Accuracy:  0.98\n"
     ]
    }
   ],
   "source": [
    "for i in range(10):\n",
    "    print(f\"Prompt {i + 1} Accuracy: \", np.mean(classifications_to_label[i * 800:(i + 1) * 800] == (i + 1)))"
   ]
  },
  {
   "cell_type": "code",
   "execution_count": 25,
   "id": "ac9d3497-d991-455d-a121-1a4c234314b0",
   "metadata": {
    "tags": []
   },
   "outputs": [
    {
     "name": "stdout",
     "output_type": "stream",
     "text": [
      "Overall Accuracy:  0.365875\n"
     ]
    }
   ],
   "source": [
    "print(f\"Overall Accuracy: \", np.mean(classifications_to_label == y_train))"
   ]
  },
  {
   "cell_type": "markdown",
   "id": "b8d32ef1-a624-4d32-abcb-8daacad47cdc",
   "metadata": {},
   "source": [
    "## Perform Inference on Test Set & Collect Test Accuracy"
   ]
  },
  {
   "cell_type": "code",
   "execution_count": 26,
   "id": "2431abbc-b684-4c06-8fd6-06c771a1c4fa",
   "metadata": {},
   "outputs": [],
   "source": [
    "cos_similarities = X_test @ kmeans.centroids.T\n",
    "classifications_test = np.argmax(cos_similarities, axis=1)"
   ]
  },
  {
   "cell_type": "code",
   "execution_count": 27,
   "id": "d9a7dd1c-884b-4bef-b538-6c0a65a6f7e4",
   "metadata": {},
   "outputs": [
    {
     "data": {
      "text/plain": [
       "0    378\n",
       "2    268\n",
       "1    251\n",
       "3    248\n",
       "4    224\n",
       "6    201\n",
       "7    129\n",
       "8    121\n",
       "5    100\n",
       "9     80\n",
       "dtype: int64"
      ]
     },
     "execution_count": 27,
     "metadata": {},
     "output_type": "execute_result"
    }
   ],
   "source": [
    "pd.Series(classifications_test).value_counts()"
   ]
  },
  {
   "cell_type": "code",
   "execution_count": 28,
   "id": "6fa74238-a2b3-4277-bcd6-88ab9d5caf4f",
   "metadata": {},
   "outputs": [
    {
     "data": {
      "text/plain": [
       "array([ 1,  9,  3, ..., 10, 10, 10])"
      ]
     },
     "execution_count": 28,
     "metadata": {},
     "output_type": "execute_result"
    }
   ],
   "source": [
    "classifications_to_label_test = vectorized_map(classifications_test)\n",
    "\n",
    "classifications_to_label_test"
   ]
  },
  {
   "cell_type": "code",
   "execution_count": 29,
   "id": "799e3a99-6659-44b7-becd-4d0825fd1957",
   "metadata": {},
   "outputs": [
    {
     "name": "stdout",
     "output_type": "stream",
     "text": [
      "Prompt 1 Accuracy:  0.31\n",
      "Prompt 2 Accuracy:  0.28\n",
      "Prompt 3 Accuracy:  0.89\n",
      "Prompt 4 Accuracy:  0.0\n",
      "Prompt 5 Accuracy:  0.455\n",
      "Prompt 6 Accuracy:  0.52\n",
      "Prompt 7 Accuracy:  0.0\n",
      "Prompt 8 Accuracy:  0.0\n",
      "Prompt 9 Accuracy:  0.28\n",
      "Prompt 10 Accuracy:  0.99\n"
     ]
    }
   ],
   "source": [
    "for i in range(10):\n",
    "    print(f\"Prompt {i + 1} Accuracy: \", np.mean(classifications_to_label_test[i * 200:(i + 1) * 200] == (i + 1)))"
   ]
  },
  {
   "cell_type": "code",
   "execution_count": 30,
   "id": "4f97cfa0-27da-4897-8e65-681b75ad51d7",
   "metadata": {},
   "outputs": [
    {
     "name": "stdout",
     "output_type": "stream",
     "text": [
      "Overall Accuracy:  0.3725\n"
     ]
    }
   ],
   "source": [
    "print(f\"Overall Accuracy: \", np.mean(classifications_to_label_test == y_test))"
   ]
  },
  {
   "cell_type": "markdown",
   "id": "ee076424-49c5-4245-a3a3-56fba51465ea",
   "metadata": {},
   "source": [
    "## Confusion Matrix of Results"
   ]
  },
  {
   "cell_type": "code",
   "execution_count": 31,
   "id": "b9175267-2fef-4f02-930e-c263ec396f91",
   "metadata": {
    "tags": []
   },
   "outputs": [],
   "source": [
    "from sklearn.metrics import confusion_matrix, ConfusionMatrixDisplay\n",
    "import matplotlib.pyplot as plt"
   ]
  },
  {
   "cell_type": "code",
   "execution_count": 32,
   "id": "3c2c3ac7-26e3-42d5-860a-918d735776c1",
   "metadata": {
    "tags": []
   },
   "outputs": [
    {
     "data": {
      "image/png": "[encoded data removed]",
      "text/plain": [
       "<Figure size 432x288 with 2 Axes>"
      ]
     },
     "metadata": {
      "needs_background": "light"
     },
     "output_type": "display_data"
    }
   ],
   "source": [
    "cm = confusion_matrix(y_train, classifications_to_label)\n",
    "disp = ConfusionMatrixDisplay(confusion_matrix=cm, display_labels=[f\"{i}\" for i in range(1, 11)])\n",
    "\n",
    "disp.plot()\n",
    "plt.title('Confusion Matrix for Train Set')\n",
    "plt.show()"
   ]
  },
  {
   "cell_type": "code",
   "execution_count": 33,
   "id": "03a45427-f767-4838-968e-c341eca03746",
   "metadata": {
    "tags": []
   },
   "outputs": [
    {
     "data": {
      "image/png": "[encoded data removed]",
      "text/plain": [
       "<Figure size 432x288 with 2 Axes>"
      ]
     },
     "metadata": {
      "needs_background": "light"
     },
     "output_type": "display_data"
    }
   ],
   "source": [
    "cm = confusion_matrix(y_test, classifications_to_label_test)\n",
    "disp = ConfusionMatrixDisplay(confusion_matrix=cm, display_labels=[f\"{i}\" for i in range(1, 11)])\n",
    "\n",
    "disp.plot()\n",
    "plt.title('Confusion Matrix for Test Set')\n",
    "plt.show()"
   ]
  },
  {
   "cell_type": "code",
   "execution_count": null,
   "id": "1322b9ab-2b94-4d00-95cf-1b3741b9f482",
   "metadata": {},
   "outputs": [],
   "source": []
  },
  {
   "cell_type": "code",
   "execution_count": null,
   "id": "de826fc3-e67f-45cb-bb74-15dfcbd3d18d",
   "metadata": {},
   "outputs": [],
   "source": []
  }
 ],
 "metadata": {
  "kernelspec": {
   "display_name": "Python 3 (ipykernel)",
   "language": "python",
   "name": "python3"
  },
  "language_info": {
   "codemirror_mode": {
    "name": "ipython",
    "version": 3
   },
   "file_extension": ".py",
   "mimetype": "text/x-python",
   "name": "python",
   "nbconvert_exporter": "python",
   "pygments_lexer": "ipython3",
   "version": "3.7.11"
  }
 },
 "nbformat": 4,
 "nbformat_minor": 5
}
