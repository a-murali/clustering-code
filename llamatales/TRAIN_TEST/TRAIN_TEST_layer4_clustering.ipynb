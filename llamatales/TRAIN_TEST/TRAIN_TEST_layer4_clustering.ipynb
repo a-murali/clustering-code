{
 "cells": [
  {
   "cell_type": "markdown",
   "id": "64c867a4-b1c3-426b-b086-de071a726ebf",
   "metadata": {},
   "source": [
    "## Install Packages"
   ]
  },
  {
   "cell_type": "code",
   "execution_count": 1,
   "id": "80849741",
   "metadata": {
    "tags": []
   },
   "outputs": [
    {
     "name": "stdout",
     "output_type": "stream",
     "text": [
      "Collecting package metadata (current_repodata.json): \\ WARNING conda.models.version:get_matcher(540): Using .* with relational operator is superfluous and deprecated and will be removed in a future version of conda. Your spec was 1.7.1.*, but conda is ignoring the .* and treating it as 1.7.1\n",
      "done\n",
      "Solving environment: failed with initial frozen solve. Retrying with flexible solve.\n",
      "Solving environment: failed with repodata from current_repodata.json, will retry with next repodata source.\n",
      "Collecting package metadata (repodata.json): | WARNING conda.models.version:get_matcher(540): Using .* with relational operator is superfluous and deprecated and will be removed in a future version of conda. Your spec was 1.9.0.*, but conda is ignoring the .* and treating it as 1.9.0\n",
      "WARNING conda.models.version:get_matcher(540): Using .* with relational operator is superfluous and deprecated and will be removed in a future version of conda. Your spec was 1.8.0.*, but conda is ignoring the .* and treating it as 1.8.0\n",
      "WARNING conda.models.version:get_matcher(540): Using .* with relational operator is superfluous and deprecated and will be removed in a future version of conda. Your spec was 1.6.0.*, but conda is ignoring the .* and treating it as 1.6.0\n",
      "done\n",
      "Solving environment: done\n",
      "\n",
      "\n",
      "==> WARNING: A newer version of conda exists. <==\n",
      "  current version: 4.10.3\n",
      "  latest version: 25.7.0\n",
      "\n",
      "Please update conda by running\n",
      "\n",
      "    $ conda update -n base -c defaults conda\n",
      "\n",
      "\n",
      "\n",
      "## Package Plan ##\n",
      "\n",
      "  environment location: /opt/conda\n",
      "\n",
      "  added / updated specs:\n",
      "    - faiss-gpu\n",
      "\n",
      "\n",
      "The following packages will be downloaded:\n",
      "\n",
      "    package                    |            build\n",
      "    ---------------------------|-----------------\n",
      "    ca-certificates-2025.8.3   |       hbd8a1cb_0         151 KB  conda-forge\n",
      "    certifi-2024.8.30          |     pyhd8ed1ab_0         160 KB  conda-forge\n",
      "    conda-4.12.0               |   py37h89c1867_0         1.0 MB  conda-forge\n",
      "    faiss-1.7.1                |py37cuda111h7f21d35_1_cuda         2.0 MB  conda-forge\n",
      "    faiss-gpu-1.7.1            |       h788eb59_1          15 KB  conda-forge\n",
      "    libblas-3.9.0              |   26_linux64_mkl          16 KB  conda-forge\n",
      "    libfaiss-1.7.1             |cuda111hf54f04a_1_cuda        80.2 MB  conda-forge\n",
      "    libfaiss-avx2-1.7.1        |cuda111h1234567_1_cuda        80.3 MB  conda-forge\n",
      "    liblapack-3.9.0            |   26_linux64_mkl          16 KB  conda-forge\n",
      "    openssl-1.1.1w             |       h7f8727e_0         3.7 MB\n",
      "    python_abi-3.7             |          2_cp37m           4 KB  conda-forge\n",
      "    ------------------------------------------------------------\n",
      "                                           Total:       167.6 MB\n",
      "\n",
      "The following NEW packages will be INSTALLED:\n",
      "\n",
      "  faiss              conda-forge/linux-64::faiss-1.7.1-py37cuda111h7f21d35_1_cuda\n",
      "  faiss-gpu          conda-forge/linux-64::faiss-gpu-1.7.1-h788eb59_1\n",
      "  libblas            conda-forge/linux-64::libblas-3.9.0-26_linux64_mkl\n",
      "  libfaiss           conda-forge/linux-64::libfaiss-1.7.1-cuda111hf54f04a_1_cuda\n",
      "  libfaiss-avx2      conda-forge/linux-64::libfaiss-avx2-1.7.1-cuda111h1234567_1_cuda\n",
      "  liblapack          conda-forge/linux-64::liblapack-3.9.0-26_linux64_mkl\n",
      "  python_abi         conda-forge/linux-64::python_abi-3.7-2_cp37m\n",
      "\n",
      "The following packages will be UPDATED:\n",
      "\n",
      "  ca-certificates    pkgs/main/linux-64::ca-certificates-2~ --> conda-forge/noarch::ca-certificates-2025.8.3-hbd8a1cb_0\n",
      "  certifi            pkgs/main/linux-64::certifi-2021.10.8~ --> conda-forge/noarch::certifi-2024.8.30-pyhd8ed1ab_0\n",
      "  conda              pkgs/main::conda-4.10.3-py37h06a4308_0 --> conda-forge::conda-4.12.0-py37h89c1867_0\n",
      "  openssl                                 1.1.1l-h7f8727e_0 --> 1.1.1w-h7f8727e_0\n",
      "\n",
      "\n",
      "\n",
      "Downloading and Extracting Packages\n",
      "ca-certificates-2025 | 151 KB    | ##################################### | 100% \n",
      "python_abi-3.7       | 4 KB      | ##################################### | 100% \n",
      "faiss-1.7.1          | 2.0 MB    | ##################################### | 100% \n",
      "faiss-gpu-1.7.1      | 15 KB     | ##################################### | 100% \n",
      "liblapack-3.9.0      | 16 KB     | ##################################### | 100% \n",
      "libblas-3.9.0        | 16 KB     | ##################################### | 100% \n",
      "certifi-2024.8.30    | 160 KB    | ##################################### | 100% \n",
      "openssl-1.1.1w       | 3.7 MB    | ##################################### | 100% \n",
      "conda-4.12.0         | 1.0 MB    | ##################################### | 100% \n",
      "libfaiss-avx2-1.7.1  | 80.3 MB   | ##################################### | 100% \n",
      "libfaiss-1.7.1       | 80.2 MB   | ##################################### | 100% \n",
      "Preparing transaction: done\n",
      "Verifying transaction: done\n",
      "Executing transaction: done\n",
      "Get:1 http://security.ubuntu.com/ubuntu bionic-security InRelease [102 kB]\n",
      "Hit:2 http://archive.ubuntu.com/ubuntu bionic InRelease  \n",
      "Get:3 http://archive.ubuntu.com/ubuntu bionic-updates InRelease [102 kB]       \n",
      "Get:4 http://archive.ubuntu.com/ubuntu bionic-backports InRelease [102 kB]     \n",
      "Get:5 http://security.ubuntu.com/ubuntu bionic-security/universe amd64 Packages [1637 kB]\n",
      "Get:6 http://archive.ubuntu.com/ubuntu bionic-updates/restricted amd64 Packages [1728 kB]\n",
      "Get:7 http://security.ubuntu.com/ubuntu bionic-security/main amd64 Packages [3373 kB]\n",
      "Get:8 http://archive.ubuntu.com/ubuntu bionic-updates/multiverse amd64 Packages [30.8 kB]\n",
      "Get:9 http://archive.ubuntu.com/ubuntu bionic-updates/universe amd64 Packages [2411 kB]\n",
      "Get:10 http://security.ubuntu.com/ubuntu bionic-security/multiverse amd64 Packages [23.8 kB]\n",
      "Get:11 http://security.ubuntu.com/ubuntu bionic-security/restricted amd64 Packages [1688 kB]\n",
      "Get:12 http://archive.ubuntu.com/ubuntu bionic-updates/main amd64 Packages [3786 kB]\n",
      "Get:13 http://archive.ubuntu.com/ubuntu bionic-backports/main amd64 Packages [64.0 kB]\n",
      "Get:14 http://archive.ubuntu.com/ubuntu bionic-backports/universe amd64 Packages [20.6 kB]\n",
      "Fetched 15.1 MB in 2s (6879 kB/s)                            \n",
      "Reading package lists... Done\n",
      "Reading package lists... Done\n",
      "Building dependency tree       \n",
      "Reading state information... Done\n",
      "The following additional packages will be installed:\n",
      "  gcc-7-base libatlas3-base libgfortran4 libquadmath0\n",
      "Suggested packages:\n",
      "  libatlas-doc liblapack-doc\n",
      "The following NEW packages will be installed:\n",
      "  gcc-7-base libatlas-base-dev libatlas3-base libgfortran4 libquadmath0\n",
      "0 upgraded, 5 newly installed, 0 to remove and 83 not upgraded.\n",
      "Need to get 8397 kB of archives.\n",
      "After this operation, 49.3 MB of additional disk space will be used.\n",
      "Get:1 http://archive.ubuntu.com/ubuntu bionic-updates/main amd64 gcc-7-base amd64 7.5.0-3ubuntu1~18.04 [18.3 kB]\n",
      "Get:2 http://archive.ubuntu.com/ubuntu bionic-updates/main amd64 libquadmath0 amd64 8.4.0-1ubuntu1~18.04 [134 kB]\n",
      "Get:3 http://archive.ubuntu.com/ubuntu bionic-updates/main amd64 libgfortran4 amd64 7.5.0-3ubuntu1~18.04 [492 kB]\n",
      "Get:4 http://archive.ubuntu.com/ubuntu bionic/universe amd64 libatlas3-base amd64 3.10.3-5 [3732 kB]\n",
      "Get:5 http://archive.ubuntu.com/ubuntu bionic/universe amd64 libatlas-base-dev amd64 3.10.3-5 [4022 kB]\n",
      "Fetched 8397 kB in 2s (4260 kB/s)           \n",
      "debconf: delaying package configuration, since apt-utils is not installed\n",
      "Selecting previously unselected package gcc-7-base:amd64.\n",
      "(Reading database ... 11934 files and directories currently installed.)\n",
      "Preparing to unpack .../gcc-7-base_7.5.0-3ubuntu1~18.04_amd64.deb ...\n",
      "Unpacking gcc-7-base:amd64 (7.5.0-3ubuntu1~18.04) ...\n",
      "Selecting previously unselected package libquadmath0:amd64.\n",
      "Preparing to unpack .../libquadmath0_8.4.0-1ubuntu1~18.04_amd64.deb ...\n",
      "Unpacking libquadmath0:amd64 (8.4.0-1ubuntu1~18.04) ...\n",
      "Selecting previously unselected package libgfortran4:amd64.\n",
      "Preparing to unpack .../libgfortran4_7.5.0-3ubuntu1~18.04_amd64.deb ...\n",
      "Unpacking libgfortran4:amd64 (7.5.0-3ubuntu1~18.04) ...\n",
      "Selecting previously unselected package libatlas3-base:amd64.\n",
      "Preparing to unpack .../libatlas3-base_3.10.3-5_amd64.deb ...\n",
      "Unpacking libatlas3-base:amd64 (3.10.3-5) ...\n",
      "Selecting previously unselected package libatlas-base-dev:amd64.\n",
      "Preparing to unpack .../libatlas-base-dev_3.10.3-5_amd64.deb ...\n",
      "Unpacking libatlas-base-dev:amd64 (3.10.3-5) ...\n",
      "Setting up libquadmath0:amd64 (8.4.0-1ubuntu1~18.04) ...\n",
      "Setting up gcc-7-base:amd64 (7.5.0-3ubuntu1~18.04) ...\n",
      "Setting up libgfortran4:amd64 (7.5.0-3ubuntu1~18.04) ...\n",
      "Setting up libatlas3-base:amd64 (3.10.3-5) ...\n",
      "update-alternatives: using /usr/lib/x86_64-linux-gnu/atlas/libblas.so.3 to provide /usr/lib/x86_64-linux-gnu/libblas.so.3 (libblas.so.3-x86_64-linux-gnu) in auto mode\n",
      "update-alternatives: using /usr/lib/x86_64-linux-gnu/atlas/liblapack.so.3 to provide /usr/lib/x86_64-linux-gnu/liblapack.so.3 (liblapack.so.3-x86_64-linux-gnu) in auto mode\n",
      "Setting up libatlas-base-dev:amd64 (3.10.3-5) ...\n",
      "update-alternatives: using /usr/lib/x86_64-linux-gnu/atlas/libblas.so to provide /usr/lib/x86_64-linux-gnu/libblas.so (libblas.so-x86_64-linux-gnu) in auto mode\n",
      "update-alternatives: using /usr/lib/x86_64-linux-gnu/atlas/liblapack.so to provide /usr/lib/x86_64-linux-gnu/liblapack.so (liblapack.so-x86_64-linux-gnu) in auto mode\n",
      "Processing triggers for libc-bin (2.27-3ubuntu1.4) ...\n"
     ]
    }
   ],
   "source": [
    "!conda install -y -c conda-forge faiss-gpu\n",
    "!apt-get -y update\n",
    "!apt-get -y install libatlas-base-dev"
   ]
  },
  {
   "cell_type": "markdown",
   "id": "ea6af1a5-1aef-4743-bfa6-7392ed97dbe7",
   "metadata": {},
   "source": [
    "## Load Data"
   ]
  },
  {
   "cell_type": "code",
   "execution_count": 2,
   "id": "e26dddbf",
   "metadata": {
    "tags": []
   },
   "outputs": [],
   "source": [
    "import pandas as pd\n",
    "import numpy as np\n",
    "import matplotlib.pyplot as plt\n",
    "\n",
    "from sklearn.random_projection import GaussianRandomProjection\n",
    "\n",
    "from tqdm import tqdm\n",
    "\n",
    "import faiss"
   ]
  },
  {
   "cell_type": "code",
   "execution_count": 3,
   "id": "89c2cffa",
   "metadata": {
    "tags": []
   },
   "outputs": [
    {
     "data": {
      "text/html": [
       "<div>\n",
       "<style scoped>\n",
       "    .dataframe tbody tr th:only-of-type {\n",
       "        vertical-align: middle;\n",
       "    }\n",
       "\n",
       "    .dataframe tbody tr th {\n",
       "        vertical-align: top;\n",
       "    }\n",
       "\n",
       "    .dataframe thead th {\n",
       "        text-align: right;\n",
       "    }\n",
       "</style>\n",
       "<table border=\"1\" class=\"dataframe\">\n",
       "  <thead>\n",
       "    <tr style=\"text-align: right;\">\n",
       "      <th></th>\n",
       "      <th>prompt_id</th>\n",
       "      <th>prompt</th>\n",
       "      <th>story</th>\n",
       "      <th>hidden_state_file</th>\n",
       "      <th>len_generated_story</th>\n",
       "      <th>len_new_story</th>\n",
       "    </tr>\n",
       "  </thead>\n",
       "  <tbody>\n",
       "    <tr>\n",
       "      <th>0</th>\n",
       "      <td>1</td>\n",
       "      <td>Once upon a time there was a dragon</td>\n",
       "      <td>Once upon a time there was a dragon named Blaz...</td>\n",
       "      <td>./hidden_states/prompt_1.npz</td>\n",
       "      <td>270</td>\n",
       "      <td>271</td>\n",
       "    </tr>\n",
       "    <tr>\n",
       "      <th>1</th>\n",
       "      <td>1</td>\n",
       "      <td>Once upon a time there was a dragon</td>\n",
       "      <td>Once upon a time there was a dragon named Spar...</td>\n",
       "      <td>./hidden_states/prompt_1.npz</td>\n",
       "      <td>349</td>\n",
       "      <td>350</td>\n",
       "    </tr>\n",
       "    <tr>\n",
       "      <th>2</th>\n",
       "      <td>1</td>\n",
       "      <td>Once upon a time there was a dragon</td>\n",
       "      <td>Once upon a time there was a dragon named Scor...</td>\n",
       "      <td>./hidden_states/prompt_1.npz</td>\n",
       "      <td>278</td>\n",
       "      <td>278</td>\n",
       "    </tr>\n",
       "    <tr>\n",
       "      <th>3</th>\n",
       "      <td>1</td>\n",
       "      <td>Once upon a time there was a dragon</td>\n",
       "      <td>Once upon a time there was a dragon. The drago...</td>\n",
       "      <td>./hidden_states/prompt_1.npz</td>\n",
       "      <td>117</td>\n",
       "      <td>118</td>\n",
       "    </tr>\n",
       "    <tr>\n",
       "      <th>4</th>\n",
       "      <td>1</td>\n",
       "      <td>Once upon a time there was a dragon</td>\n",
       "      <td>Once upon a time there was a dragon. The drago...</td>\n",
       "      <td>./hidden_states/prompt_1.npz</td>\n",
       "      <td>129</td>\n",
       "      <td>130</td>\n",
       "    </tr>\n",
       "    <tr>\n",
       "      <th>...</th>\n",
       "      <td>...</td>\n",
       "      <td>...</td>\n",
       "      <td>...</td>\n",
       "      <td>...</td>\n",
       "      <td>...</td>\n",
       "      <td>...</td>\n",
       "    </tr>\n",
       "    <tr>\n",
       "      <th>9995</th>\n",
       "      <td>10</td>\n",
       "      <td>Once upon a time there was a poor boy</td>\n",
       "      <td>Once upon a time there was a poor boy named Ti...</td>\n",
       "      <td>./hidden_states/prompt_10.npz</td>\n",
       "      <td>289</td>\n",
       "      <td>290</td>\n",
       "    </tr>\n",
       "    <tr>\n",
       "      <th>9996</th>\n",
       "      <td>10</td>\n",
       "      <td>Once upon a time there was a poor boy</td>\n",
       "      <td>Once upon a time there was a poor boy named Ti...</td>\n",
       "      <td>./hidden_states/prompt_10.npz</td>\n",
       "      <td>119</td>\n",
       "      <td>119</td>\n",
       "    </tr>\n",
       "    <tr>\n",
       "      <th>9997</th>\n",
       "      <td>10</td>\n",
       "      <td>Once upon a time there was a poor boy</td>\n",
       "      <td>Once upon a time there was a poor boy named Ti...</td>\n",
       "      <td>./hidden_states/prompt_10.npz</td>\n",
       "      <td>127</td>\n",
       "      <td>128</td>\n",
       "    </tr>\n",
       "    <tr>\n",
       "      <th>9998</th>\n",
       "      <td>10</td>\n",
       "      <td>Once upon a time there was a poor boy</td>\n",
       "      <td>Once upon a time there was a poor boy named Ti...</td>\n",
       "      <td>./hidden_states/prompt_10.npz</td>\n",
       "      <td>441</td>\n",
       "      <td>441</td>\n",
       "    </tr>\n",
       "    <tr>\n",
       "      <th>9999</th>\n",
       "      <td>10</td>\n",
       "      <td>Once upon a time there was a poor boy</td>\n",
       "      <td>Once upon a time there was a poor boy named Ti...</td>\n",
       "      <td>./hidden_states/prompt_10.npz</td>\n",
       "      <td>520</td>\n",
       "      <td>521</td>\n",
       "    </tr>\n",
       "  </tbody>\n",
       "</table>\n",
       "<p>10000 rows × 6 columns</p>\n",
       "</div>"
      ],
      "text/plain": [
       "      prompt_id                                 prompt  \\\n",
       "0             1    Once upon a time there was a dragon   \n",
       "1             1    Once upon a time there was a dragon   \n",
       "2             1    Once upon a time there was a dragon   \n",
       "3             1    Once upon a time there was a dragon   \n",
       "4             1    Once upon a time there was a dragon   \n",
       "...         ...                                    ...   \n",
       "9995         10  Once upon a time there was a poor boy   \n",
       "9996         10  Once upon a time there was a poor boy   \n",
       "9997         10  Once upon a time there was a poor boy   \n",
       "9998         10  Once upon a time there was a poor boy   \n",
       "9999         10  Once upon a time there was a poor boy   \n",
       "\n",
       "                                                  story  \\\n",
       "0     Once upon a time there was a dragon named Blaz...   \n",
       "1     Once upon a time there was a dragon named Spar...   \n",
       "2     Once upon a time there was a dragon named Scor...   \n",
       "3     Once upon a time there was a dragon. The drago...   \n",
       "4     Once upon a time there was a dragon. The drago...   \n",
       "...                                                 ...   \n",
       "9995  Once upon a time there was a poor boy named Ti...   \n",
       "9996  Once upon a time there was a poor boy named Ti...   \n",
       "9997  Once upon a time there was a poor boy named Ti...   \n",
       "9998  Once upon a time there was a poor boy named Ti...   \n",
       "9999  Once upon a time there was a poor boy named Ti...   \n",
       "\n",
       "                  hidden_state_file  len_generated_story  len_new_story  \n",
       "0      ./hidden_states/prompt_1.npz                  270            271  \n",
       "1      ./hidden_states/prompt_1.npz                  349            350  \n",
       "2      ./hidden_states/prompt_1.npz                  278            278  \n",
       "3      ./hidden_states/prompt_1.npz                  117            118  \n",
       "4      ./hidden_states/prompt_1.npz                  129            130  \n",
       "...                             ...                  ...            ...  \n",
       "9995  ./hidden_states/prompt_10.npz                  289            290  \n",
       "9996  ./hidden_states/prompt_10.npz                  119            119  \n",
       "9997  ./hidden_states/prompt_10.npz                  127            128  \n",
       "9998  ./hidden_states/prompt_10.npz                  441            441  \n",
       "9999  ./hidden_states/prompt_10.npz                  520            521  \n",
       "\n",
       "[10000 rows x 6 columns]"
      ]
     },
     "execution_count": 3,
     "metadata": {},
     "output_type": "execute_result"
    }
   ],
   "source": [
    "df = pd.read_csv(\"../story_dataset.csv\")\n",
    "df"
   ]
  },
  {
   "cell_type": "code",
   "execution_count": 4,
   "id": "c081cc09",
   "metadata": {
    "tags": []
   },
   "outputs": [
    {
     "data": {
      "text/plain": [
       "522"
      ]
     },
     "execution_count": 4,
     "metadata": {},
     "output_type": "execute_result"
    }
   ],
   "source": [
    "max_story_len = max(df[\"len_generated_story\"])\n",
    "max_story_len"
   ]
  },
  {
   "cell_type": "code",
   "execution_count": 5,
   "id": "212c067a",
   "metadata": {
    "scrolled": true,
    "tags": []
   },
   "outputs": [
    {
     "name": "stderr",
     "output_type": "stream",
     "text": [
      "100%|███████████████████████████████████████████████████████████████████████████████| 1000/1000 [01:19<00:00, 12.55it/s]\n",
      "100%|███████████████████████████████████████████████████████████████████████████████| 1000/1000 [01:08<00:00, 14.68it/s]\n",
      "100%|███████████████████████████████████████████████████████████████████████████████| 1000/1000 [01:05<00:00, 15.36it/s]\n",
      "100%|███████████████████████████████████████████████████████████████████████████████| 1000/1000 [01:14<00:00, 13.47it/s]\n",
      "100%|███████████████████████████████████████████████████████████████████████████████| 1000/1000 [01:22<00:00, 12.13it/s]\n",
      "100%|███████████████████████████████████████████████████████████████████████████████| 1000/1000 [01:18<00:00, 12.79it/s]\n",
      "100%|███████████████████████████████████████████████████████████████████████████████| 1000/1000 [01:18<00:00, 12.79it/s]\n",
      "100%|███████████████████████████████████████████████████████████████████████████████| 1000/1000 [01:12<00:00, 13.76it/s]\n",
      "100%|███████████████████████████████████████████████████████████████████████████████| 1000/1000 [01:19<00:00, 12.64it/s]\n",
      "100%|███████████████████████████████████████████████████████████████████████████████| 1000/1000 [01:31<00:00, 10.96it/s]\n"
     ]
    }
   ],
   "source": [
    "hidden_states_by_layer = {}\n",
    "NUM_PROMPTS = 10\n",
    "\n",
    "for prompt_id in range(1, NUM_PROMPTS + 1):\n",
    "    with np.load(f'../hidden_states/prompt_{prompt_id}.npz') as loaded_data:\n",
    "        for i in tqdm(range(1000)):\n",
    "            curr_hidden_states = loaded_data[f\"arr_{i}\"][0]\n",
    "#             print(curr_hidden_states.shape)\n",
    "            for layer in range(4, 5):\n",
    "                padded_arr = np.zeros((max_story_len, 512))\n",
    "                padded_arr_len = len(curr_hidden_states[layer][0])\n",
    "                \n",
    "                padded_arr[:padded_arr_len] = curr_hidden_states[layer][0]\n",
    "                \n",
    "                padded_arr = padded_arr.flatten().astype('float32') #FAISS expects data in type float32 instead of float64 - saves memory too!\n",
    "#                 print(padded_arr.shape)\n",
    "                \n",
    "                if(f\"layer_{layer}\" in hidden_states_by_layer):\n",
    "                    hidden_states_by_layer[f\"layer_{layer}\"].append(padded_arr)\n",
    "                else:\n",
    "                    hidden_states_by_layer[f\"layer_{layer}\"] = [padded_arr]"
   ]
  },
  {
   "cell_type": "code",
   "execution_count": 6,
   "id": "ad23eb70",
   "metadata": {
    "tags": []
   },
   "outputs": [
    {
     "data": {
      "text/plain": [
       "(10000, 267264)"
      ]
     },
     "execution_count": 6,
     "metadata": {},
     "output_type": "execute_result"
    }
   ],
   "source": [
    "layer_hs_array = np.array(hidden_states_by_layer[\"layer_4\"])\n",
    "layer_hs_array.shape"
   ]
  },
  {
   "cell_type": "markdown",
   "id": "e44eecd8-9f29-457b-8f65-d8eae3b84eb8",
   "metadata": {
    "tags": []
   },
   "source": [
    "## Layer 4 Clustering"
   ]
  },
  {
   "cell_type": "code",
   "execution_count": 7,
   "id": "49cf7b1b",
   "metadata": {
    "tags": []
   },
   "outputs": [],
   "source": [
    "# Use original vectors for clustering - uncomment next line and comment out last two lines\n",
    "\n",
    "# dim_reduced_vecs = layer_hs_array\n",
    "\n",
    "random_projector = GaussianRandomProjection(random_state = 42)\n",
    "dim_reduced_vecs = random_projector.fit_transform(layer_hs_array).astype('float32')"
   ]
  },
  {
   "cell_type": "code",
   "execution_count": 8,
   "id": "b9257701",
   "metadata": {
    "tags": []
   },
   "outputs": [
    {
     "data": {
      "text/plain": [
       "(10000, 7894)"
      ]
     },
     "execution_count": 8,
     "metadata": {},
     "output_type": "execute_result"
    }
   ],
   "source": [
    "dim_reduced_vecs = np.array([v / np.linalg.norm(v) for v in dim_reduced_vecs])\n",
    "dim_reduced_vecs.shape"
   ]
  },
  {
   "cell_type": "code",
   "execution_count": 9,
   "id": "22e1c2a5-03fa-43fd-90d4-609a0d949829",
   "metadata": {
    "tags": []
   },
   "outputs": [
    {
     "data": {
      "text/plain": [
       "array([ 1,  1,  1, ..., 10, 10, 10])"
      ]
     },
     "execution_count": 9,
     "metadata": {},
     "output_type": "execute_result"
    }
   ],
   "source": [
    "prompt_ids = df[\"prompt_id\"]\n",
    "prompt_ids = prompt_ids.to_numpy()\n",
    "prompt_ids"
   ]
  },
  {
   "cell_type": "code",
   "execution_count": 10,
   "id": "bd963a3c-0ad1-416a-9fc6-a13bf2422fcd",
   "metadata": {},
   "outputs": [],
   "source": [
    "X_train = np.zeros((int(0.8 * dim_reduced_vecs.shape[0]), dim_reduced_vecs.shape[1]), dtype = np.float32)\n",
    "y_train = np.zeros(int(0.8 * dim_reduced_vecs.shape[0]))\n",
    "\n",
    "X_test = np.zeros((int(0.2 * dim_reduced_vecs.shape[0]), dim_reduced_vecs.shape[1]), dtype = np.float32)\n",
    "y_test = np.zeros(int(0.2 * dim_reduced_vecs.shape[0]))"
   ]
  },
  {
   "cell_type": "code",
   "execution_count": 11,
   "id": "6b84c6a1-29cc-4096-9eb1-420301a7065f",
   "metadata": {},
   "outputs": [],
   "source": [
    "for i in range(10):\n",
    "    X_train[i * 800 : (i + 1) * 800] = dim_reduced_vecs[i * 1000 : (i * 1000) + 800]\n",
    "    y_train[i * 800 : (i + 1) * 800] = prompt_ids[i * 1000 : (i * 1000) + 800]\n",
    "    \n",
    "    X_test[i * 200 : (i + 1) * 200] = dim_reduced_vecs[(i * 1000) + 800 : (i + 1) * 1000]\n",
    "    y_test[i * 200 : (i + 1) * 200] = prompt_ids[(i * 1000) + 800 : (i + 1) * 1000]"
   ]
  },
  {
   "cell_type": "code",
   "execution_count": 12,
   "id": "e7c2f695-573c-4abe-ab7b-eaa4a1661cd2",
   "metadata": {},
   "outputs": [
    {
     "name": "stdout",
     "output_type": "stream",
     "text": [
      "(8000, 7894)\n",
      "(8000,)\n",
      "(2000, 7894)\n",
      "(2000,)\n"
     ]
    }
   ],
   "source": [
    "print(X_train.shape)\n",
    "print(y_train.shape)\n",
    "print(X_test.shape)\n",
    "print(y_test.shape)"
   ]
  },
  {
   "cell_type": "code",
   "execution_count": 13,
   "id": "8aebf88b-1d51-48d2-945c-311b5fc70963",
   "metadata": {},
   "outputs": [
    {
     "name": "stdout",
     "output_type": "stream",
     "text": [
      "Sampling a subset of 4000 / 8000 for training\n",
      "Clustering 4000 points in 7894D to 5 clusters, redo 10 times, 20 iterations\n",
      "  Preprocessing in 0.10 s\n",
      "Outer iteration 0 / 10\n",
      "  Iteration 19 (0.53 s, search 0.28 s): objective=1924.73 imbalance=1.106 nsplit=0       \n",
      "Objective improved: keep new clusters\n",
      "Outer iteration 1 / 10\n",
      "  Iteration 19 (1.05 s, search 0.54 s): objective=1917.28 imbalance=1.133 nsplit=0       \n",
      "Outer iteration 2 / 10\n",
      "  Iteration 19 (1.56 s, search 0.81 s): objective=1919.37 imbalance=1.069 nsplit=0       \n",
      "Outer iteration 3 / 10\n",
      "  Iteration 19 (2.08 s, search 1.08 s): objective=1923.48 imbalance=1.093 nsplit=0       \n",
      "Outer iteration 4 / 10\n",
      "  Iteration 19 (2.59 s, search 1.34 s): objective=1916.7 imbalance=1.139 nsplit=0        \n",
      "Outer iteration 5 / 10\n",
      "  Iteration 19 (3.11 s, search 1.61 s): objective=1924.1 imbalance=1.102 nsplit=0        \n",
      "Outer iteration 6 / 10\n",
      "  Iteration 19 (3.62 s, search 1.87 s): objective=1909.74 imbalance=1.693 nsplit=0       \n",
      "Outer iteration 7 / 10\n",
      "  Iteration 19 (4.13 s, search 2.13 s): objective=1917.2 imbalance=1.363 nsplit=0        \n",
      "Outer iteration 8 / 10\n",
      "  Iteration 19 (4.65 s, search 2.40 s): objective=1915.75 imbalance=1.195 nsplit=0       \n",
      "Outer iteration 9 / 10\n",
      "  Iteration 19 (5.17 s, search 2.67 s): objective=1916.39 imbalance=1.257 nsplit=0       \n",
      "Sampling a subset of 4800 / 8000 for training\n",
      "Clustering 4800 points in 7894D to 6 clusters, redo 10 times, 20 iterations\n",
      "  Preprocessing in 0.12 s\n",
      "Outer iteration 0 / 10\n",
      "  Iteration 19 (0.63 s, search 0.32 s): objective=2311.3 imbalance=1.102 nsplit=0        \n",
      "Objective improved: keep new clusters\n",
      "Outer iteration 1 / 10\n",
      "  Iteration 19 (1.26 s, search 0.65 s): objective=2308.59 imbalance=1.104 nsplit=0       \n",
      "Outer iteration 2 / 10\n",
      "  Iteration 19 (1.89 s, search 0.98 s): objective=2315.28 imbalance=1.175 nsplit=0       \n",
      "Objective improved: keep new clusters\n",
      "Outer iteration 3 / 10\n",
      "  Iteration 19 (2.52 s, search 1.30 s): objective=2309.83 imbalance=1.058 nsplit=0       \n",
      "Outer iteration 4 / 10\n",
      "  Iteration 19 (3.16 s, search 1.63 s): objective=2313.01 imbalance=1.138 nsplit=0       \n",
      "Outer iteration 5 / 10\n",
      "  Iteration 19 (3.80 s, search 1.97 s): objective=2310.39 imbalance=1.095 nsplit=0       \n",
      "Outer iteration 6 / 10\n",
      "  Iteration 19 (4.43 s, search 2.29 s): objective=2306.22 imbalance=1.031 nsplit=0       \n",
      "Outer iteration 7 / 10\n",
      "  Iteration 19 (5.05 s, search 2.61 s): objective=2299.61 imbalance=1.245 nsplit=0       \n",
      "Outer iteration 8 / 10\n",
      "  Iteration 19 (5.68 s, search 2.93 s): objective=2313.34 imbalance=1.184 nsplit=0       \n",
      "Outer iteration 9 / 10\n",
      "  Iteration 19 (6.31 s, search 3.26 s): objective=2313.56 imbalance=1.209 nsplit=0       \n",
      "Sampling a subset of 5600 / 8000 for training\n",
      "Clustering 5600 points in 7894D to 7 clusters, redo 10 times, 20 iterations\n",
      "  Preprocessing in 0.13 s\n",
      "Outer iteration 0 / 10\n",
      "  Iteration 19 (0.73 s, search 0.37 s): objective=2708.16 imbalance=1.219 nsplit=0       \n",
      "Objective improved: keep new clusters\n",
      "Outer iteration 1 / 10\n",
      "  Iteration 19 (1.47 s, search 0.74 s): objective=2707 imbalance=1.239 nsplit=0          \n",
      "Outer iteration 2 / 10\n",
      "  Iteration 19 (2.20 s, search 1.11 s): objective=2700.4 imbalance=1.135 nsplit=0        \n",
      "Outer iteration 3 / 10\n",
      "  Iteration 19 (2.94 s, search 1.49 s): objective=2698.93 imbalance=1.168 nsplit=0       \n",
      "Outer iteration 4 / 10\n",
      "  Iteration 19 (3.68 s, search 1.86 s): objective=2709.34 imbalance=1.247 nsplit=0       \n",
      "Objective improved: keep new clusters\n",
      "Outer iteration 5 / 10\n",
      "  Iteration 19 (4.41 s, search 2.23 s): objective=2698.96 imbalance=1.228 nsplit=0       \n",
      "Outer iteration 6 / 10\n",
      "  Iteration 19 (5.15 s, search 2.61 s): objective=2702.76 imbalance=1.106 nsplit=0       \n",
      "Outer iteration 7 / 10\n",
      "  Iteration 19 (5.88 s, search 2.98 s): objective=2692.21 imbalance=1.337 nsplit=0       \n",
      "Outer iteration 8 / 10\n",
      "  Iteration 19 (6.62 s, search 3.35 s): objective=2707.69 imbalance=1.058 nsplit=0       \n",
      "Outer iteration 9 / 10\n",
      "  Iteration 19 (7.37 s, search 3.73 s): objective=2706.42 imbalance=1.046 nsplit=0       \n",
      "Sampling a subset of 6400 / 8000 for training\n",
      "Clustering 6400 points in 7894D to 8 clusters, redo 10 times, 20 iterations\n",
      "  Preprocessing in 0.14 s\n",
      "Outer iteration 0 / 10\n",
      "  Iteration 19 (0.84 s, search 0.42 s): objective=3100.1 imbalance=1.169 nsplit=0        \n",
      "Objective improved: keep new clusters\n",
      "Outer iteration 1 / 10\n",
      "  Iteration 19 (1.69 s, search 0.85 s): objective=3101.89 imbalance=1.152 nsplit=0       \n",
      "Objective improved: keep new clusters\n",
      "Outer iteration 2 / 10\n",
      "  Iteration 19 (2.53 s, search 1.27 s): objective=3080.73 imbalance=1.849 nsplit=0       \n",
      "Outer iteration 3 / 10\n",
      "  Iteration 19 (3.35 s, search 1.69 s): objective=3068.95 imbalance=1.513 nsplit=0       \n",
      "Outer iteration 4 / 10\n",
      "  Iteration 19 (4.20 s, search 2.11 s): objective=3097.65 imbalance=1.042 nsplit=0       \n",
      "Outer iteration 5 / 10\n",
      "  Iteration 19 (5.06 s, search 2.54 s): objective=3091.44 imbalance=1.114 nsplit=0       \n",
      "Outer iteration 6 / 10\n",
      "  Iteration 19 (5.91 s, search 2.97 s): objective=3100.97 imbalance=1.267 nsplit=0       \n",
      "Outer iteration 7 / 10\n",
      "  Iteration 19 (6.74 s, search 3.39 s): objective=3090.42 imbalance=1.392 nsplit=0       \n",
      "Outer iteration 8 / 10\n",
      "  Iteration 19 (7.59 s, search 3.81 s): objective=3096.43 imbalance=1.053 nsplit=0       \n",
      "Outer iteration 9 / 10\n",
      "  Iteration 19 (8.44 s, search 4.24 s): objective=3100.55 imbalance=1.112 nsplit=0       \n",
      "Sampling a subset of 7200 / 8000 for training\n",
      "Clustering 7200 points in 7894D to 9 clusters, redo 10 times, 20 iterations\n",
      "  Preprocessing in 0.16 s\n",
      "Outer iteration 0 / 10\n",
      "  Iteration 19 (0.95 s, search 0.48 s): objective=3502.81 imbalance=1.088 nsplit=0       \n",
      "Objective improved: keep new clusters\n",
      "Outer iteration 1 / 10\n",
      "  Iteration 19 (1.91 s, search 0.97 s): objective=3502.37 imbalance=1.119 nsplit=0       \n",
      "Outer iteration 2 / 10\n",
      "  Iteration 19 (2.87 s, search 1.45 s): objective=3492.33 imbalance=1.188 nsplit=0       \n",
      "Outer iteration 3 / 10\n",
      "  Iteration 19 (3.82 s, search 1.94 s): objective=3498.06 imbalance=1.107 nsplit=0       \n",
      "Outer iteration 4 / 10\n",
      "  Iteration 19 (4.78 s, search 2.42 s): objective=3503.22 imbalance=1.164 nsplit=0       \n",
      "Objective improved: keep new clusters\n",
      "Outer iteration 5 / 10\n",
      "  Iteration 19 (5.74 s, search 2.91 s): objective=3499.43 imbalance=1.204 nsplit=0       \n",
      "Outer iteration 6 / 10\n",
      "  Iteration 19 (6.69 s, search 3.39 s): objective=3504.76 imbalance=1.407 nsplit=0       \n",
      "Objective improved: keep new clusters\n",
      "Outer iteration 7 / 10\n",
      "  Iteration 19 (7.65 s, search 3.87 s): objective=3497.88 imbalance=1.161 nsplit=0       \n",
      "Outer iteration 8 / 10\n",
      "  Iteration 19 (8.61 s, search 4.36 s): objective=3488.04 imbalance=1.129 nsplit=0       \n",
      "Outer iteration 9 / 10\n",
      "  Iteration 19 (9.56 s, search 4.84 s): objective=3494.4 imbalance=1.583 nsplit=0        \n",
      "Clustering 8000 points in 7894D to 10 clusters, redo 10 times, 20 iterations\n",
      "  Preprocessing in 0.04 s\n",
      "Outer iteration 0 / 10\n",
      "  Iteration 19 (1.05 s, search 0.54 s): objective=3886.47 imbalance=1.415 nsplit=0       \n",
      "Objective improved: keep new clusters\n",
      "Outer iteration 1 / 10\n",
      "  Iteration 19 (2.10 s, search 1.07 s): objective=3892.43 imbalance=1.253 nsplit=0       \n",
      "Objective improved: keep new clusters\n",
      "Outer iteration 2 / 10\n",
      "  Iteration 19 (3.17 s, search 1.61 s): objective=3885.26 imbalance=1.206 nsplit=0       \n",
      "Outer iteration 3 / 10\n",
      "  Iteration 19 (4.22 s, search 2.15 s): objective=3895.22 imbalance=1.213 nsplit=0       \n",
      "Objective improved: keep new clusters\n",
      "Outer iteration 4 / 10\n",
      "  Iteration 19 (5.25 s, search 2.68 s): objective=3867 imbalance=2.167 nsplit=0          \n",
      "Outer iteration 5 / 10\n",
      "  Iteration 19 (6.28 s, search 3.20 s): objective=3899.8 imbalance=1.123 nsplit=0        \n",
      "Objective improved: keep new clusters\n",
      "Outer iteration 6 / 10\n",
      "  Iteration 19 (7.32 s, search 3.73 s): objective=3900.02 imbalance=1.124 nsplit=0       \n",
      "Objective improved: keep new clusters\n",
      "Outer iteration 7 / 10\n",
      "  Iteration 19 (8.36 s, search 4.26 s): objective=3901.67 imbalance=1.093 nsplit=0       \n",
      "Objective improved: keep new clusters\n",
      "Outer iteration 8 / 10\n",
      "  Iteration 19 (9.41 s, search 4.79 s): objective=3901.01 imbalance=1.165 nsplit=0       \n",
      "Outer iteration 9 / 10\n",
      "  Iteration 19 (10.47 s, search 5.33 s): objective=3895.59 imbalance=1.038 nsplit=0       \n",
      "Clustering 8000 points in 7894D to 11 clusters, redo 10 times, 20 iterations\n",
      "  Preprocessing in 0.04 s\n",
      "Outer iteration 0 / 10\n",
      "  Iteration 19 (1.04 s, search 0.53 s): objective=3896.01 imbalance=1.436 nsplit=0       \n",
      "Objective improved: keep new clusters\n",
      "Outer iteration 1 / 10\n",
      "  Iteration 19 (2.09 s, search 1.07 s): objective=3898.44 imbalance=1.238 nsplit=0       \n",
      "Objective improved: keep new clusters\n",
      "Outer iteration 2 / 10\n",
      "  Iteration 19 (3.14 s, search 1.60 s): objective=3898.29 imbalance=1.239 nsplit=0       \n",
      "Outer iteration 3 / 10\n",
      "  Iteration 19 (4.19 s, search 2.13 s): objective=3909.71 imbalance=1.121 nsplit=0       \n",
      "Objective improved: keep new clusters\n",
      "Outer iteration 4 / 10\n",
      "  Iteration 19 (5.23 s, search 2.66 s): objective=3888.41 imbalance=1.431 nsplit=0       \n",
      "Outer iteration 5 / 10\n",
      "  Iteration 19 (6.30 s, search 3.20 s): objective=3905.32 imbalance=1.150 nsplit=0       \n",
      "Outer iteration 6 / 10\n",
      "  Iteration 19 (7.37 s, search 3.74 s): objective=3905.19 imbalance=1.137 nsplit=0       \n",
      "Outer iteration 7 / 10\n",
      "  Iteration 19 (8.44 s, search 4.28 s): objective=3910.4 imbalance=1.125 nsplit=0        \n",
      "Objective improved: keep new clusters\n",
      "Outer iteration 8 / 10\n",
      "  Iteration 19 (9.50 s, search 4.82 s): objective=3908.56 imbalance=1.190 nsplit=0       \n",
      "Outer iteration 9 / 10\n",
      "  Iteration 19 (10.56 s, search 5.35 s): objective=3903.82 imbalance=1.040 nsplit=0       \n",
      "Clustering 8000 points in 7894D to 12 clusters, redo 10 times, 20 iterations\n",
      "  Preprocessing in 0.04 s\n",
      "Outer iteration 0 / 10\n",
      "  Iteration 19 (1.04 s, search 0.53 s): objective=3902.31 imbalance=1.421 nsplit=0       \n",
      "Objective improved: keep new clusters\n",
      "Outer iteration 1 / 10\n",
      "  Iteration 19 (2.09 s, search 1.06 s): objective=3901.28 imbalance=1.322 nsplit=0       \n",
      "Outer iteration 2 / 10\n",
      "  Iteration 19 (3.14 s, search 1.59 s): objective=3901.88 imbalance=1.462 nsplit=0       \n",
      "Outer iteration 3 / 10\n",
      "  Iteration 19 (4.19 s, search 2.12 s): objective=3919.12 imbalance=1.095 nsplit=0       \n",
      "Objective improved: keep new clusters\n",
      "Outer iteration 4 / 10\n",
      "  Iteration 19 (5.23 s, search 2.65 s): objective=3893.55 imbalance=1.520 nsplit=0       \n",
      "Outer iteration 5 / 10\n",
      "  Iteration 19 (6.29 s, search 3.18 s): objective=3917.52 imbalance=1.114 nsplit=0       \n",
      "Outer iteration 6 / 10\n",
      "  Iteration 19 (7.34 s, search 3.71 s): objective=3908.67 imbalance=1.175 nsplit=0       \n",
      "Outer iteration 7 / 10\n",
      "  Iteration 19 (8.39 s, search 4.24 s): objective=3914.17 imbalance=1.248 nsplit=0       \n",
      "Outer iteration 8 / 10\n",
      "  Iteration 19 (9.46 s, search 4.78 s): objective=3917.92 imbalance=1.175 nsplit=0       \n",
      "Outer iteration 9 / 10\n",
      "  Iteration 19 (10.53 s, search 5.31 s): objective=3910.5 imbalance=1.049 nsplit=0        \n",
      "Clustering 8000 points in 7894D to 13 clusters, redo 10 times, 20 iterations\n",
      "  Preprocessing in 0.04 s\n",
      "Outer iteration 0 / 10\n",
      "  Iteration 19 (1.05 s, search 0.53 s): objective=3907.11 imbalance=1.416 nsplit=0       \n",
      "Objective improved: keep new clusters\n",
      "Outer iteration 1 / 10\n",
      "  Iteration 19 (2.10 s, search 1.06 s): objective=3910.46 imbalance=1.425 nsplit=0       \n",
      "Objective improved: keep new clusters\n",
      "Outer iteration 2 / 10\n",
      "  Iteration 19 (3.15 s, search 1.59 s): objective=3916.63 imbalance=1.371 nsplit=0       \n",
      "Objective improved: keep new clusters\n",
      "Outer iteration 3 / 10\n",
      "  Iteration 19 (4.19 s, search 2.12 s): objective=3920.39 imbalance=1.182 nsplit=0       \n",
      "Objective improved: keep new clusters\n",
      "Outer iteration 4 / 10\n",
      "  Iteration 19 (5.25 s, search 2.65 s): objective=3907.52 imbalance=1.346 nsplit=0       \n",
      "Outer iteration 5 / 10\n",
      "  Iteration 19 (6.30 s, search 3.18 s): objective=3920.22 imbalance=1.185 nsplit=0       \n",
      "Outer iteration 6 / 10\n",
      "  Iteration 19 (7.35 s, search 3.71 s): objective=3917.91 imbalance=1.114 nsplit=0       \n",
      "Outer iteration 7 / 10\n",
      "  Iteration 19 (8.41 s, search 4.24 s): objective=3920.95 imbalance=1.243 nsplit=0       \n",
      "Objective improved: keep new clusters\n",
      "Outer iteration 8 / 10\n",
      "  Iteration 19 (9.46 s, search 4.77 s): objective=3924.57 imbalance=1.217 nsplit=0       \n",
      "Objective improved: keep new clusters\n",
      "Outer iteration 9 / 10\n",
      "  Iteration 19 (10.53 s, search 5.30 s): objective=3911.4 imbalance=1.096 nsplit=0        \n",
      "Clustering 8000 points in 7894D to 14 clusters, redo 10 times, 20 iterations\n",
      "  Preprocessing in 0.04 s\n",
      "Outer iteration 0 / 10\n",
      "  Iteration 19 (1.04 s, search 0.53 s): objective=3908.5 imbalance=1.513 nsplit=0        \n",
      "Objective improved: keep new clusters\n",
      "Outer iteration 1 / 10\n",
      "  Iteration 19 (2.09 s, search 1.06 s): objective=3918.71 imbalance=1.415 nsplit=0       \n",
      "Objective improved: keep new clusters\n",
      "Outer iteration 2 / 10\n",
      "  Iteration 19 (3.15 s, search 1.59 s): objective=3915.72 imbalance=1.307 nsplit=0       \n",
      "Outer iteration 3 / 10\n",
      "  Iteration 19 (4.21 s, search 2.12 s): objective=3926.08 imbalance=1.159 nsplit=0       \n",
      "Objective improved: keep new clusters\n",
      "Outer iteration 4 / 10\n",
      "  Iteration 19 (5.26 s, search 2.65 s): objective=3909.23 imbalance=1.434 nsplit=0       \n",
      "Outer iteration 5 / 10\n",
      "  Iteration 19 (6.32 s, search 3.18 s): objective=3921.43 imbalance=1.235 nsplit=0       \n",
      "Outer iteration 6 / 10\n",
      "  Iteration 19 (7.36 s, search 3.70 s): objective=3921.62 imbalance=1.179 nsplit=0       \n",
      "Outer iteration 7 / 10\n",
      "  Iteration 19 (8.41 s, search 4.23 s): objective=3925.91 imbalance=1.282 nsplit=0       \n",
      "Outer iteration 8 / 10\n",
      "  Iteration 19 (9.45 s, search 4.75 s): objective=3929.38 imbalance=1.211 nsplit=0       \n",
      "Objective improved: keep new clusters\n",
      "Outer iteration 9 / 10\n",
      "  Iteration 19 (10.52 s, search 5.28 s): objective=3918.59 imbalance=1.098 nsplit=0       \n",
      "Clustering 8000 points in 7894D to 15 clusters, redo 10 times, 20 iterations\n",
      "  Preprocessing in 0.04 s\n",
      "Outer iteration 0 / 10\n",
      "  Iteration 19 (1.04 s, search 0.53 s): objective=3917.25 imbalance=1.435 nsplit=0       \n",
      "Objective improved: keep new clusters\n",
      "Outer iteration 1 / 10\n",
      "  Iteration 19 (2.09 s, search 1.05 s): objective=3924.73 imbalance=1.378 nsplit=0       \n",
      "Objective improved: keep new clusters\n",
      "Outer iteration 2 / 10\n",
      "  Iteration 19 (3.14 s, search 1.58 s): objective=3926.72 imbalance=1.375 nsplit=0       \n",
      "Objective improved: keep new clusters\n",
      "Outer iteration 3 / 10\n",
      "  Iteration 19 (4.21 s, search 2.11 s): objective=3931.25 imbalance=1.152 nsplit=0       \n",
      "Objective improved: keep new clusters\n",
      "Outer iteration 4 / 10\n",
      "  Iteration 19 (5.26 s, search 2.64 s): objective=3913.04 imbalance=1.481 nsplit=0       \n",
      "Outer iteration 5 / 10\n",
      "  Iteration 19 (6.31 s, search 3.17 s): objective=3923.31 imbalance=1.321 nsplit=0       \n",
      "Outer iteration 6 / 10\n",
      "  Iteration 19 (7.39 s, search 3.71 s): objective=3924.53 imbalance=1.191 nsplit=0       \n",
      "Outer iteration 7 / 10\n",
      "  Iteration 19 (8.43 s, search 4.23 s): objective=3919.83 imbalance=1.519 nsplit=0       \n",
      "Outer iteration 8 / 10\n",
      "  Iteration 19 (9.48 s, search 4.76 s): objective=3932.59 imbalance=1.183 nsplit=0       \n",
      "Objective improved: keep new clusters\n",
      "Outer iteration 9 / 10\n",
      "  Iteration 19 (10.54 s, search 5.29 s): objective=3918.07 imbalance=1.130 nsplit=0       \r"
     ]
    },
    {
     "data": {
      "text/plain": [
       "[<matplotlib.lines.Line2D at 0x787a36052210>]"
      ]
     },
     "execution_count": 13,
     "metadata": {},
     "output_type": "execute_result"
    },
    {
     "data": {
      "image/png": "[encoded data removed]",
      "text/plain": [
       "<Figure size 432x288 with 1 Axes>"
      ]
     },
     "metadata": {
      "needs_background": "light"
     },
     "output_type": "display_data"
    }
   ],
   "source": [
    "# Elbow Plot\n",
    "niter = 20\n",
    "verbose = True\n",
    "dim = X_train.shape[1]\n",
    "\n",
    "k_vals = [k for k in range(5, 16)]\n",
    "wccs = []\n",
    "for k in k_vals:\n",
    "    kmeans = faiss.Kmeans(dim, k, niter = niter, verbose = verbose, gpu = True, nredo = 10, spherical = True, max_points_per_centroid = 800)\n",
    "    kmeans.train(X_train)\n",
    "    wccs.append(kmeans.obj[-1])\n",
    "\n",
    "plt.plot(k_vals, wccs)"
   ]
  },
  {
   "cell_type": "code",
   "execution_count": 14,
   "id": "289102b9",
   "metadata": {
    "scrolled": true,
    "tags": []
   },
   "outputs": [
    {
     "name": "stdout",
     "output_type": "stream",
     "text": [
      "\n",
      "Clustering 8000 points in 7894D to 10 clusters, redo 10 times, 20 iterations\n",
      "  Preprocessing in 0.04 s\n",
      "Outer iteration 0 / 10\n",
      "  Iteration 19 (1.02 s, search 0.53 s): objective=3886.47 imbalance=1.415 nsplit=0       \n",
      "Objective improved: keep new clusters\n",
      "Outer iteration 1 / 10\n",
      "  Iteration 19 (2.06 s, search 1.05 s): objective=3892.43 imbalance=1.253 nsplit=0       \n",
      "Objective improved: keep new clusters\n",
      "Outer iteration 2 / 10\n",
      "  Iteration 19 (3.10 s, search 1.58 s): objective=3885.26 imbalance=1.206 nsplit=0       \n",
      "Outer iteration 3 / 10\n",
      "  Iteration 19 (4.14 s, search 2.10 s): objective=3895.22 imbalance=1.213 nsplit=0       \n",
      "Objective improved: keep new clusters\n",
      "Outer iteration 4 / 10\n",
      "  Iteration 19 (5.16 s, search 2.63 s): objective=3867 imbalance=2.167 nsplit=0          \n",
      "Outer iteration 5 / 10\n",
      "  Iteration 19 (6.20 s, search 3.16 s): objective=3899.8 imbalance=1.123 nsplit=0        \n",
      "Objective improved: keep new clusters\n",
      "Outer iteration 6 / 10\n",
      "  Iteration 19 (7.24 s, search 3.69 s): objective=3900.02 imbalance=1.124 nsplit=0       \n",
      "Objective improved: keep new clusters\n",
      "Outer iteration 7 / 10\n",
      "  Iteration 19 (8.28 s, search 4.22 s): objective=3901.67 imbalance=1.093 nsplit=0       \n",
      "Objective improved: keep new clusters\n",
      "Outer iteration 8 / 10\n",
      "  Iteration 19 (9.32 s, search 4.74 s): objective=3901.01 imbalance=1.165 nsplit=0       \n",
      "Outer iteration 9 / 10\n",
      "  Iteration 19 (10.37 s, search 5.27 s): objective=3895.59 imbalance=1.038 nsplit=0       \r"
     ]
    },
    {
     "data": {
      "text/plain": [
       "3901.668212890625"
      ]
     },
     "execution_count": 14,
     "metadata": {},
     "output_type": "execute_result"
    }
   ],
   "source": [
    "# K-means Clustering\n",
    "\n",
    "# ncentroids = NUM_PROMPTS\n",
    "ncentroids = 10 # Elbow point - based on objective (sum of cosine similarities)\n",
    "niter = 20\n",
    "verbose = True\n",
    "dim = X_train.shape[1]\n",
    "kmeans = faiss.Kmeans(dim, ncentroids, niter = niter, verbose = verbose, gpu = True, nredo = 10, spherical = True, max_points_per_centroid = 800)\n",
    "kmeans.train(X_train)"
   ]
  },
  {
   "cell_type": "code",
   "execution_count": 15,
   "id": "19cf0f0a",
   "metadata": {
    "tags": []
   },
   "outputs": [
    {
     "data": {
      "text/plain": [
       "array([[ 0.01128962, -0.01053565,  0.01145754, ..., -0.0148626 ,\n",
       "         0.00863794,  0.00055422],\n",
       "       [ 0.01004875, -0.00930905,  0.01186136, ..., -0.00664355,\n",
       "         0.00591346,  0.01189429],\n",
       "       [ 0.01490633, -0.00631898,  0.01133053, ..., -0.00870484,\n",
       "         0.00463008,  0.00412625],\n",
       "       ...,\n",
       "       [ 0.01640298, -0.01224543,  0.01251834, ..., -0.01069688,\n",
       "         0.00414848,  0.00312975],\n",
       "       [ 0.01064859, -0.00728876,  0.01092339, ..., -0.01305846,\n",
       "         0.00762394,  0.0038474 ],\n",
       "       [ 0.01330592,  0.00107891,  0.01666225, ..., -0.00790137,\n",
       "         0.01213517,  0.00216218]], dtype=float32)"
      ]
     },
     "execution_count": 15,
     "metadata": {},
     "output_type": "execute_result"
    }
   ],
   "source": [
    "kmeans.centroids #cluster centers"
   ]
  },
  {
   "cell_type": "code",
   "execution_count": 16,
   "id": "61e726e9",
   "metadata": {
    "tags": []
   },
   "outputs": [
    {
     "name": "stdout",
     "output_type": "stream",
     "text": [
      "1.0000002\n",
      "1.0\n",
      "0.99999964\n",
      "0.99999976\n",
      "1.0000002\n",
      "1.0\n",
      "0.9999998\n",
      "1.0\n",
      "1.0000001\n",
      "1.0000001\n"
     ]
    }
   ],
   "source": [
    "for centroid in kmeans.centroids:\n",
    "    print(np.linalg.norm(centroid))"
   ]
  },
  {
   "cell_type": "code",
   "execution_count": 17,
   "id": "e5e1fa18",
   "metadata": {
    "tags": []
   },
   "outputs": [
    {
     "data": {
      "text/plain": [
       "array([2456.9543457 , 3730.6105957 , 3813.15551758, 3847.00561523,\n",
       "       3860.83764648, 3869.31665039, 3874.24169922, 3878.17041016,\n",
       "       3882.6340332 , 3884.69067383, 3885.88330078, 3886.26977539,\n",
       "       3886.39086914, 3886.43041992, 3886.44555664, 3886.45874023,\n",
       "       3886.46826172, 3886.47265625, 3886.47143555, 3886.47265625,\n",
       "       2477.47680664, 3741.82788086, 3794.07128906, 3842.62304688,\n",
       "       3865.50048828, 3879.07373047, 3885.30029297, 3887.31884766,\n",
       "       3888.14379883, 3888.609375  , 3888.83618164, 3889.046875  ,\n",
       "       3889.2487793 , 3889.52539062, 3889.90844727, 3890.33740234,\n",
       "       3890.90380859, 3891.7800293 , 3892.28369141, 3892.43286133,\n",
       "       2383.18969727, 3733.93823242, 3804.35546875, 3835.99169922,\n",
       "       3846.85961914, 3853.29956055, 3857.92993164, 3860.92529297,\n",
       "       3864.20166016, 3867.34887695, 3869.19360352, 3871.12695312,\n",
       "       3873.55541992, 3875.58764648, 3877.3425293 , 3879.32763672,\n",
       "       3882.17431641, 3884.48120117, 3885.12548828, 3885.26147461,\n",
       "       2329.55957031, 3770.89086914, 3841.01342773, 3860.44799805,\n",
       "       3871.2956543 , 3878.47851562, 3882.92016602, 3885.52197266,\n",
       "       3887.00732422, 3888.38134766, 3889.67138672, 3890.85791016,\n",
       "       3891.60009766, 3892.14404297, 3892.62792969, 3893.13745117,\n",
       "       3893.70703125, 3894.29833984, 3894.76000977, 3895.22094727,\n",
       "       2085.52880859, 3774.87255859, 3821.70605469, 3833.19995117,\n",
       "       3845.08984375, 3851.35473633, 3856.7578125 , 3861.09912109,\n",
       "       3864.08056641, 3865.52294922, 3866.00732422, 3866.26147461,\n",
       "       3866.45654297, 3866.58862305, 3866.70532227, 3866.81274414,\n",
       "       3866.89501953, 3866.94067383, 3866.97241211, 3867.00097656,\n",
       "       2400.36132812, 3736.63427734, 3809.41967773, 3841.33520508,\n",
       "       3858.81616211, 3867.6105957 , 3875.92114258, 3884.48217773,\n",
       "       3890.08935547, 3893.52758789, 3895.37451172, 3896.61401367,\n",
       "       3897.67797852, 3898.75219727, 3899.20019531, 3899.43774414,\n",
       "       3899.60473633, 3899.70483398, 3899.75439453, 3899.8046875 ,\n",
       "       2381.77001953, 3758.32836914, 3834.08227539, 3863.98364258,\n",
       "       3879.65136719, 3888.78540039, 3892.43798828, 3894.29418945,\n",
       "       3895.69042969, 3896.68579102, 3897.39819336, 3897.86132812,\n",
       "       3898.18017578, 3898.47558594, 3898.70776367, 3898.91064453,\n",
       "       3899.08813477, 3899.29931641, 3899.59619141, 3900.01928711,\n",
       "       2449.45996094, 3727.11279297, 3805.44750977, 3856.29516602,\n",
       "       3879.58764648, 3891.19311523, 3895.46923828, 3897.36572266,\n",
       "       3898.46459961, 3899.36450195, 3899.9777832 , 3900.39819336,\n",
       "       3900.72290039, 3900.95703125, 3901.11279297, 3901.2487793 ,\n",
       "       3901.37915039, 3901.48120117, 3901.5949707 , 3901.66821289])"
      ]
     },
     "execution_count": 17,
     "metadata": {},
     "output_type": "execute_result"
    }
   ],
   "source": [
    "kmeans.obj #inertia at each iteration"
   ]
  },
  {
   "cell_type": "code",
   "execution_count": 18,
   "id": "ed2c340d",
   "metadata": {
    "tags": []
   },
   "outputs": [],
   "source": [
    "cos_similarities = X_train @ kmeans.centroids.T\n",
    "classifications_train = np.argmax(cos_similarities, axis=1)"
   ]
  },
  {
   "cell_type": "code",
   "execution_count": 19,
   "id": "90aae79f",
   "metadata": {
    "tags": []
   },
   "outputs": [
    {
     "data": {
      "text/plain": [
       "4    1084\n",
       "7    1064\n",
       "1    1032\n",
       "5     991\n",
       "3     919\n",
       "8     762\n",
       "2     722\n",
       "0     600\n",
       "9     455\n",
       "6     371\n",
       "dtype: int64"
      ]
     },
     "execution_count": 19,
     "metadata": {},
     "output_type": "execute_result"
    }
   ],
   "source": [
    "pd.Series(classifications_train).value_counts()"
   ]
  },
  {
   "cell_type": "code",
   "execution_count": 20,
   "id": "fc34c419-5d92-4dc6-8db4-9dc84b83a8d4",
   "metadata": {
    "tags": []
   },
   "outputs": [
    {
     "data": {
      "text/plain": [
       "[5, 1, 10, 5, 7, 6, 10, 6, 5, 3]"
      ]
     },
     "execution_count": 20,
     "metadata": {},
     "output_type": "execute_result"
    }
   ],
   "source": [
    "# Get most common label for each point classified to a centroid (same centroid)\n",
    "centroid_labels = [np.where(classifications_train == i)[0] for i in range(ncentroids)]\n",
    "max_label_per_centroid = [int(pd.Series(y_train[centroid_labels[i]]).value_counts().idxmax()) for i in range(ncentroids)]\n",
    "max_label_per_centroid"
   ]
  },
  {
   "cell_type": "code",
   "execution_count": 21,
   "id": "20e159a9-ef63-4a0e-8e94-52e041a5c416",
   "metadata": {
    "tags": []
   },
   "outputs": [],
   "source": [
    "centroid_to_label = {idx : max_label_per_centroid[idx] for idx in range(len(max_label_per_centroid))}"
   ]
  },
  {
   "cell_type": "code",
   "execution_count": 22,
   "id": "45760bd2-820d-462e-a8ef-8d054ed5dde4",
   "metadata": {
    "tags": []
   },
   "outputs": [
    {
     "data": {
      "text/plain": [
       "{0: 5, 1: 1, 2: 10, 3: 5, 4: 7, 5: 6, 6: 10, 7: 6, 8: 5, 9: 3}"
      ]
     },
     "execution_count": 22,
     "metadata": {},
     "output_type": "execute_result"
    }
   ],
   "source": [
    "centroid_to_label"
   ]
  },
  {
   "cell_type": "code",
   "execution_count": 23,
   "id": "b9cf2ac5-ce04-4efe-9828-041723e1f453",
   "metadata": {
    "tags": []
   },
   "outputs": [
    {
     "data": {
      "text/plain": [
       "array([ 5,  6,  6, ..., 10, 10, 10])"
      ]
     },
     "execution_count": 23,
     "metadata": {},
     "output_type": "execute_result"
    }
   ],
   "source": [
    "vectorized_map = np.vectorize(centroid_to_label.get)\n",
    "classifications_to_label = vectorized_map(classifications_train)\n",
    "\n",
    "classifications_to_label"
   ]
  },
  {
   "cell_type": "code",
   "execution_count": 24,
   "id": "c793f2dc-74de-4e3a-b0a8-3839b1be8dd9",
   "metadata": {
    "tags": []
   },
   "outputs": [
    {
     "name": "stdout",
     "output_type": "stream",
     "text": [
      "Prompt 1 Accuracy:  0.295\n",
      "Prompt 2 Accuracy:  0.0\n",
      "Prompt 3 Accuracy:  0.56625\n",
      "Prompt 4 Accuracy:  0.0\n",
      "Prompt 5 Accuracy:  0.95\n",
      "Prompt 6 Accuracy:  0.52125\n",
      "Prompt 7 Accuracy:  0.28625\n",
      "Prompt 8 Accuracy:  0.0\n",
      "Prompt 9 Accuracy:  0.0\n",
      "Prompt 10 Accuracy:  0.9475\n"
     ]
    }
   ],
   "source": [
    "for i in range(10):\n",
    "    print(f\"Prompt {i + 1} Accuracy: \", np.mean(classifications_to_label[i * 800:(i + 1) * 800] == (i + 1)))"
   ]
  },
  {
   "cell_type": "code",
   "execution_count": 25,
   "id": "ac9d3497-d991-455d-a121-1a4c234314b0",
   "metadata": {
    "tags": []
   },
   "outputs": [
    {
     "name": "stdout",
     "output_type": "stream",
     "text": [
      "Overall Accuracy:  0.356625\n"
     ]
    }
   ],
   "source": [
    "print(f\"Overall Accuracy: \", np.mean(classifications_to_label == y_train))"
   ]
  },
  {
   "cell_type": "markdown",
   "id": "b8d32ef1-a624-4d32-abcb-8daacad47cdc",
   "metadata": {},
   "source": [
    "## Perform Inference on Test Set & Collect Test Accuracy"
   ]
  },
  {
   "cell_type": "code",
   "execution_count": 26,
   "id": "2431abbc-b684-4c06-8fd6-06c771a1c4fa",
   "metadata": {},
   "outputs": [],
   "source": [
    "cos_similarities = X_test @ kmeans.centroids.T\n",
    "classifications_test = np.argmax(cos_similarities, axis=1)"
   ]
  },
  {
   "cell_type": "code",
   "execution_count": 27,
   "id": "d9a7dd1c-884b-4bef-b538-6c0a65a6f7e4",
   "metadata": {},
   "outputs": [
    {
     "data": {
      "text/plain": [
       "1    273\n",
       "4    272\n",
       "7    271\n",
       "5    242\n",
       "3    233\n",
       "2    189\n",
       "8    172\n",
       "0    151\n",
       "9    113\n",
       "6     84\n",
       "dtype: int64"
      ]
     },
     "execution_count": 27,
     "metadata": {},
     "output_type": "execute_result"
    }
   ],
   "source": [
    "pd.Series(classifications_test).value_counts()"
   ]
  },
  {
   "cell_type": "code",
   "execution_count": 28,
   "id": "6fa74238-a2b3-4277-bcd6-88ab9d5caf4f",
   "metadata": {},
   "outputs": [
    {
     "data": {
      "text/plain": [
       "array([ 1, 10,  5, ..., 10, 10, 10])"
      ]
     },
     "execution_count": 28,
     "metadata": {},
     "output_type": "execute_result"
    }
   ],
   "source": [
    "classifications_to_label_test = vectorized_map(classifications_test)\n",
    "\n",
    "classifications_to_label_test"
   ]
  },
  {
   "cell_type": "code",
   "execution_count": 29,
   "id": "799e3a99-6659-44b7-becd-4d0825fd1957",
   "metadata": {},
   "outputs": [
    {
     "name": "stdout",
     "output_type": "stream",
     "text": [
      "Prompt 1 Accuracy:  0.31\n",
      "Prompt 2 Accuracy:  0.0\n",
      "Prompt 3 Accuracy:  0.56\n",
      "Prompt 4 Accuracy:  0.0\n",
      "Prompt 5 Accuracy:  0.95\n",
      "Prompt 6 Accuracy:  0.505\n",
      "Prompt 7 Accuracy:  0.345\n",
      "Prompt 8 Accuracy:  0.0\n",
      "Prompt 9 Accuracy:  0.0\n",
      "Prompt 10 Accuracy:  0.97\n"
     ]
    }
   ],
   "source": [
    "for i in range(10):\n",
    "    print(f\"Prompt {i + 1} Accuracy: \", np.mean(classifications_to_label_test[i * 200:(i + 1) * 200] == (i + 1)))"
   ]
  },
  {
   "cell_type": "code",
   "execution_count": 30,
   "id": "4f97cfa0-27da-4897-8e65-681b75ad51d7",
   "metadata": {},
   "outputs": [
    {
     "name": "stdout",
     "output_type": "stream",
     "text": [
      "Overall Accuracy:  0.364\n"
     ]
    }
   ],
   "source": [
    "print(f\"Overall Accuracy: \", np.mean(classifications_to_label_test == y_test))"
   ]
  },
  {
   "cell_type": "markdown",
   "id": "ee076424-49c5-4245-a3a3-56fba51465ea",
   "metadata": {},
   "source": [
    "## Confusion Matrix of Results"
   ]
  },
  {
   "cell_type": "code",
   "execution_count": 31,
   "id": "b9175267-2fef-4f02-930e-c263ec396f91",
   "metadata": {
    "tags": []
   },
   "outputs": [],
   "source": [
    "from sklearn.metrics import confusion_matrix, ConfusionMatrixDisplay\n",
    "import matplotlib.pyplot as plt"
   ]
  },
  {
   "cell_type": "code",
   "execution_count": 32,
   "id": "3c2c3ac7-26e3-42d5-860a-918d735776c1",
   "metadata": {
    "tags": []
   },
   "outputs": [
    {
     "data": {
      "image/png": "[encoded data removed]",
      "text/plain": [
       "<Figure size 432x288 with 2 Axes>"
      ]
     },
     "metadata": {
      "needs_background": "light"
     },
     "output_type": "display_data"
    }
   ],
   "source": [
    "cm = confusion_matrix(y_train, classifications_to_label)\n",
    "disp = ConfusionMatrixDisplay(confusion_matrix=cm, display_labels=[f\"{i}\" for i in range(1, 11)])\n",
    "\n",
    "disp.plot()\n",
    "plt.title('Confusion Matrix for Train Set')\n",
    "plt.show()"
   ]
  },
  {
   "cell_type": "code",
   "execution_count": 33,
   "id": "03a45427-f767-4838-968e-c341eca03746",
   "metadata": {
    "tags": []
   },
   "outputs": [
    {
     "data": {
      "image/png": "[encoded data removed]",
      "text/plain": [
       "<Figure size 432x288 with 2 Axes>"
      ]
     },
     "metadata": {
      "needs_background": "light"
     },
     "output_type": "display_data"
    }
   ],
   "source": [
    "cm = confusion_matrix(y_test, classifications_to_label_test)\n",
    "disp = ConfusionMatrixDisplay(confusion_matrix=cm, display_labels=[f\"{i}\" for i in range(1, 11)])\n",
    "\n",
    "disp.plot()\n",
    "plt.title('Confusion Matrix for Test Set')\n",
    "plt.show()"
   ]
  },
  {
   "cell_type": "code",
   "execution_count": null,
   "id": "1322b9ab-2b94-4d00-95cf-1b3741b9f482",
   "metadata": {},
   "outputs": [],
   "source": []
  },
  {
   "cell_type": "code",
   "execution_count": null,
   "id": "de826fc3-e67f-45cb-bb74-15dfcbd3d18d",
   "metadata": {},
   "outputs": [],
   "source": []
  }
 ],
 "metadata": {
  "kernelspec": {
   "display_name": "Python 3 (ipykernel)",
   "language": "python",
   "name": "python3"
  },
  "language_info": {
   "codemirror_mode": {
    "name": "ipython",
    "version": 3
   },
   "file_extension": ".py",
   "mimetype": "text/x-python",
   "name": "python",
   "nbconvert_exporter": "python",
   "pygments_lexer": "ipython3",
   "version": "3.7.11"
  }
 },
 "nbformat": 4,
 "nbformat_minor": 5
}
