{
 "cells": [
  {
   "cell_type": "markdown",
   "id": "64c867a4-b1c3-426b-b086-de071a726ebf",
   "metadata": {},
   "source": [
    "## Install Packages"
   ]
  },
  {
   "cell_type": "code",
   "execution_count": 1,
   "id": "80849741",
   "metadata": {
    "tags": []
   },
   "outputs": [
    {
     "name": "stdout",
     "output_type": "stream",
     "text": [
      "Collecting package metadata (current_repodata.json): / WARNING conda.models.version:get_matcher(540): Using .* with relational operator is superfluous and deprecated and will be removed in a future version of conda. Your spec was 1.7.1.*, but conda is ignoring the .* and treating it as 1.7.1\n",
      "done\n",
      "Solving environment: failed with initial frozen solve. Retrying with flexible solve.\n",
      "Solving environment: failed with repodata from current_repodata.json, will retry with next repodata source.\n",
      "Collecting package metadata (repodata.json): - WARNING conda.models.version:get_matcher(540): Using .* with relational operator is superfluous and deprecated and will be removed in a future version of conda. Your spec was 1.8.0.*, but conda is ignoring the .* and treating it as 1.8.0\n",
      "WARNING conda.models.version:get_matcher(540): Using .* with relational operator is superfluous and deprecated and will be removed in a future version of conda. Your spec was 1.6.0.*, but conda is ignoring the .* and treating it as 1.6.0\n",
      "WARNING conda.models.version:get_matcher(540): Using .* with relational operator is superfluous and deprecated and will be removed in a future version of conda. Your spec was 1.9.0.*, but conda is ignoring the .* and treating it as 1.9.0\n",
      "done\n",
      "Solving environment: done\n",
      "\n",
      "\n",
      "==> WARNING: A newer version of conda exists. <==\n",
      "  current version: 4.10.3\n",
      "  latest version: 25.7.0\n",
      "\n",
      "Please update conda by running\n",
      "\n",
      "    $ conda update -n base -c defaults conda\n",
      "\n",
      "\n",
      "\n",
      "## Package Plan ##\n",
      "\n",
      "  environment location: /opt/conda\n",
      "\n",
      "  added / updated specs:\n",
      "    - faiss-gpu\n",
      "\n",
      "\n",
      "The following packages will be downloaded:\n",
      "\n",
      "    package                    |            build\n",
      "    ---------------------------|-----------------\n",
      "    ca-certificates-2025.8.3   |       hbd8a1cb_0         151 KB  conda-forge\n",
      "    certifi-2024.8.30          |     pyhd8ed1ab_0         160 KB  conda-forge\n",
      "    conda-4.12.0               |   py37h89c1867_0         1.0 MB  conda-forge\n",
      "    faiss-1.7.1                |py37cuda111h7f21d35_1_cuda         2.0 MB  conda-forge\n",
      "    faiss-gpu-1.7.1            |       h788eb59_1          15 KB  conda-forge\n",
      "    libblas-3.9.0              |   26_linux64_mkl          16 KB  conda-forge\n",
      "    libfaiss-1.7.1             |cuda111hf54f04a_1_cuda        80.2 MB  conda-forge\n",
      "    libfaiss-avx2-1.7.1        |cuda111h1234567_1_cuda        80.3 MB  conda-forge\n",
      "    liblapack-3.9.0            |   26_linux64_mkl          16 KB  conda-forge\n",
      "    openssl-1.1.1w             |       h7f8727e_0         3.7 MB\n",
      "    python_abi-3.7             |          2_cp37m           4 KB  conda-forge\n",
      "    ------------------------------------------------------------\n",
      "                                           Total:       167.6 MB\n",
      "\n",
      "The following NEW packages will be INSTALLED:\n",
      "\n",
      "  faiss              conda-forge/linux-64::faiss-1.7.1-py37cuda111h7f21d35_1_cuda\n",
      "  faiss-gpu          conda-forge/linux-64::faiss-gpu-1.7.1-h788eb59_1\n",
      "  libblas            conda-forge/linux-64::libblas-3.9.0-26_linux64_mkl\n",
      "  libfaiss           conda-forge/linux-64::libfaiss-1.7.1-cuda111hf54f04a_1_cuda\n",
      "  libfaiss-avx2      conda-forge/linux-64::libfaiss-avx2-1.7.1-cuda111h1234567_1_cuda\n",
      "  liblapack          conda-forge/linux-64::liblapack-3.9.0-26_linux64_mkl\n",
      "  python_abi         conda-forge/linux-64::python_abi-3.7-2_cp37m\n",
      "\n",
      "The following packages will be UPDATED:\n",
      "\n",
      "  ca-certificates    pkgs/main/linux-64::ca-certificates-2~ --> conda-forge/noarch::ca-certificates-2025.8.3-hbd8a1cb_0\n",
      "  certifi            pkgs/main/linux-64::certifi-2021.10.8~ --> conda-forge/noarch::certifi-2024.8.30-pyhd8ed1ab_0\n",
      "  conda              pkgs/main::conda-4.10.3-py37h06a4308_0 --> conda-forge::conda-4.12.0-py37h89c1867_0\n",
      "  openssl                                 1.1.1l-h7f8727e_0 --> 1.1.1w-h7f8727e_0\n",
      "\n",
      "\n",
      "\n",
      "Downloading and Extracting Packages\n",
      "liblapack-3.9.0      | 16 KB     | ##################################### | 100% \n",
      "ca-certificates-2025 | 151 KB    | ##################################### | 100% \n",
      "openssl-1.1.1w       | 3.7 MB    | ##################################### | 100% \n",
      "libfaiss-avx2-1.7.1  | 80.3 MB   | ##################################### | 100% \n",
      "certifi-2024.8.30    | 160 KB    | ##################################### | 100% \n",
      "libfaiss-1.7.1       | 80.2 MB   | ##################################### | 100% \n",
      "conda-4.12.0         | 1.0 MB    | ##################################### | 100% \n",
      "faiss-1.7.1          | 2.0 MB    | ##################################### | 100% \n",
      "faiss-gpu-1.7.1      | 15 KB     | ##################################### | 100% \n",
      "libblas-3.9.0        | 16 KB     | ##################################### | 100% \n",
      "python_abi-3.7       | 4 KB      | ##################################### | 100% \n",
      "Preparing transaction: done\n",
      "Verifying transaction: done\n",
      "Executing transaction: done\n",
      "Get:1 http://security.ubuntu.com/ubuntu bionic-security InRelease [102 kB]\n",
      "Hit:2 http://archive.ubuntu.com/ubuntu bionic InRelease               \n",
      "Get:3 http://archive.ubuntu.com/ubuntu bionic-updates InRelease [102 kB]       \n",
      "Get:4 http://security.ubuntu.com/ubuntu bionic-security/main amd64 Packages [3373 kB]\n",
      "Get:5 http://archive.ubuntu.com/ubuntu bionic-backports InRelease [102 kB]     \n",
      "Get:6 http://archive.ubuntu.com/ubuntu bionic-updates/main amd64 Packages [3786 kB]\n",
      "Get:7 http://security.ubuntu.com/ubuntu bionic-security/multiverse amd64 Packages [23.8 kB]\n",
      "Get:8 http://security.ubuntu.com/ubuntu bionic-security/restricted amd64 Packages [1688 kB]\n",
      "Get:9 http://security.ubuntu.com/ubuntu bionic-security/universe amd64 Packages [1637 kB]\n",
      "Get:10 http://archive.ubuntu.com/ubuntu bionic-updates/multiverse amd64 Packages [30.8 kB]\n",
      "Get:11 http://archive.ubuntu.com/ubuntu bionic-updates/universe amd64 Packages [2411 kB]\n",
      "Get:12 http://archive.ubuntu.com/ubuntu bionic-updates/restricted amd64 Packages [1728 kB]\n",
      "Get:13 http://archive.ubuntu.com/ubuntu bionic-backports/main amd64 Packages [64.0 kB]\n",
      "Get:14 http://archive.ubuntu.com/ubuntu bionic-backports/universe amd64 Packages [20.6 kB]\n",
      "Fetched 15.1 MB in 3s (4688 kB/s)                      \n",
      "Reading package lists... Done\n",
      "Reading package lists... Done\n",
      "Building dependency tree       \n",
      "Reading state information... Done\n",
      "The following additional packages will be installed:\n",
      "  gcc-7-base libatlas3-base libgfortran4 libquadmath0\n",
      "Suggested packages:\n",
      "  libatlas-doc liblapack-doc\n",
      "The following NEW packages will be installed:\n",
      "  gcc-7-base libatlas-base-dev libatlas3-base libgfortran4 libquadmath0\n",
      "0 upgraded, 5 newly installed, 0 to remove and 83 not upgraded.\n",
      "Need to get 8397 kB of archives.\n",
      "After this operation, 49.3 MB of additional disk space will be used.\n",
      "Get:1 http://archive.ubuntu.com/ubuntu bionic-updates/main amd64 gcc-7-base amd64 7.5.0-3ubuntu1~18.04 [18.3 kB]\n",
      "Get:2 http://archive.ubuntu.com/ubuntu bionic-updates/main amd64 libquadmath0 amd64 8.4.0-1ubuntu1~18.04 [134 kB]\n",
      "Get:3 http://archive.ubuntu.com/ubuntu bionic-updates/main amd64 libgfortran4 amd64 7.5.0-3ubuntu1~18.04 [492 kB]\n",
      "Get:4 http://archive.ubuntu.com/ubuntu bionic/universe amd64 libatlas3-base amd64 3.10.3-5 [3732 kB]\n",
      "Get:5 http://archive.ubuntu.com/ubuntu bionic/universe amd64 libatlas-base-dev amd64 3.10.3-5 [4022 kB]\n",
      "Fetched 8397 kB in 2s (4380 kB/s)           \n",
      "debconf: delaying package configuration, since apt-utils is not installed\n",
      "Selecting previously unselected package gcc-7-base:amd64.\n",
      "(Reading database ... 11934 files and directories currently installed.)\n",
      "Preparing to unpack .../gcc-7-base_7.5.0-3ubuntu1~18.04_amd64.deb ...\n",
      "Unpacking gcc-7-base:amd64 (7.5.0-3ubuntu1~18.04) ...\n",
      "Selecting previously unselected package libquadmath0:amd64.\n",
      "Preparing to unpack .../libquadmath0_8.4.0-1ubuntu1~18.04_amd64.deb ...\n",
      "Unpacking libquadmath0:amd64 (8.4.0-1ubuntu1~18.04) ...\n",
      "Selecting previously unselected package libgfortran4:amd64.\n",
      "Preparing to unpack .../libgfortran4_7.5.0-3ubuntu1~18.04_amd64.deb ...\n",
      "Unpacking libgfortran4:amd64 (7.5.0-3ubuntu1~18.04) ...\n",
      "Selecting previously unselected package libatlas3-base:amd64.\n",
      "Preparing to unpack .../libatlas3-base_3.10.3-5_amd64.deb ...\n",
      "Unpacking libatlas3-base:amd64 (3.10.3-5) ...\n",
      "Selecting previously unselected package libatlas-base-dev:amd64.\n",
      "Preparing to unpack .../libatlas-base-dev_3.10.3-5_amd64.deb ...\n",
      "Unpacking libatlas-base-dev:amd64 (3.10.3-5) ...\n",
      "Setting up libquadmath0:amd64 (8.4.0-1ubuntu1~18.04) ...\n",
      "Setting up gcc-7-base:amd64 (7.5.0-3ubuntu1~18.04) ...\n",
      "Setting up libgfortran4:amd64 (7.5.0-3ubuntu1~18.04) ...\n",
      "Setting up libatlas3-base:amd64 (3.10.3-5) ...\n",
      "update-alternatives: using /usr/lib/x86_64-linux-gnu/atlas/libblas.so.3 to provide /usr/lib/x86_64-linux-gnu/libblas.so.3 (libblas.so.3-x86_64-linux-gnu) in auto mode\n",
      "update-alternatives: using /usr/lib/x86_64-linux-gnu/atlas/liblapack.so.3 to provide /usr/lib/x86_64-linux-gnu/liblapack.so.3 (liblapack.so.3-x86_64-linux-gnu) in auto mode\n",
      "Setting up libatlas-base-dev:amd64 (3.10.3-5) ...\n",
      "update-alternatives: using /usr/lib/x86_64-linux-gnu/atlas/libblas.so to provide /usr/lib/x86_64-linux-gnu/libblas.so (libblas.so-x86_64-linux-gnu) in auto mode\n",
      "update-alternatives: using /usr/lib/x86_64-linux-gnu/atlas/liblapack.so to provide /usr/lib/x86_64-linux-gnu/liblapack.so (liblapack.so-x86_64-linux-gnu) in auto mode\n",
      "Processing triggers for libc-bin (2.27-3ubuntu1.4) ...\n"
     ]
    }
   ],
   "source": [
    "!conda install -y -c conda-forge faiss-gpu\n",
    "!apt-get -y update\n",
    "!apt-get -y install libatlas-base-dev"
   ]
  },
  {
   "cell_type": "markdown",
   "id": "ea6af1a5-1aef-4743-bfa6-7392ed97dbe7",
   "metadata": {},
   "source": [
    "## Load Data"
   ]
  },
  {
   "cell_type": "code",
   "execution_count": 2,
   "id": "e26dddbf",
   "metadata": {
    "tags": []
   },
   "outputs": [],
   "source": [
    "import pandas as pd\n",
    "import numpy as np\n",
    "import matplotlib.pyplot as plt\n",
    "\n",
    "from sklearn.random_projection import GaussianRandomProjection\n",
    "\n",
    "from tqdm import tqdm\n",
    "\n",
    "import faiss"
   ]
  },
  {
   "cell_type": "code",
   "execution_count": 3,
   "id": "89c2cffa",
   "metadata": {
    "tags": []
   },
   "outputs": [
    {
     "data": {
      "text/html": [
       "<div>\n",
       "<style scoped>\n",
       "    .dataframe tbody tr th:only-of-type {\n",
       "        vertical-align: middle;\n",
       "    }\n",
       "\n",
       "    .dataframe tbody tr th {\n",
       "        vertical-align: top;\n",
       "    }\n",
       "\n",
       "    .dataframe thead th {\n",
       "        text-align: right;\n",
       "    }\n",
       "</style>\n",
       "<table border=\"1\" class=\"dataframe\">\n",
       "  <thead>\n",
       "    <tr style=\"text-align: right;\">\n",
       "      <th></th>\n",
       "      <th>prompt_id</th>\n",
       "      <th>prompt</th>\n",
       "      <th>story</th>\n",
       "      <th>hidden_state_file</th>\n",
       "      <th>len_generated_story</th>\n",
       "      <th>len_new_story</th>\n",
       "    </tr>\n",
       "  </thead>\n",
       "  <tbody>\n",
       "    <tr>\n",
       "      <th>0</th>\n",
       "      <td>1</td>\n",
       "      <td>Once upon a time there was a dragon</td>\n",
       "      <td>Once upon a time there was a dragon named Blaz...</td>\n",
       "      <td>./hidden_states/prompt_1.npz</td>\n",
       "      <td>270</td>\n",
       "      <td>271</td>\n",
       "    </tr>\n",
       "    <tr>\n",
       "      <th>1</th>\n",
       "      <td>1</td>\n",
       "      <td>Once upon a time there was a dragon</td>\n",
       "      <td>Once upon a time there was a dragon named Spar...</td>\n",
       "      <td>./hidden_states/prompt_1.npz</td>\n",
       "      <td>349</td>\n",
       "      <td>350</td>\n",
       "    </tr>\n",
       "    <tr>\n",
       "      <th>2</th>\n",
       "      <td>1</td>\n",
       "      <td>Once upon a time there was a dragon</td>\n",
       "      <td>Once upon a time there was a dragon named Scor...</td>\n",
       "      <td>./hidden_states/prompt_1.npz</td>\n",
       "      <td>278</td>\n",
       "      <td>278</td>\n",
       "    </tr>\n",
       "    <tr>\n",
       "      <th>3</th>\n",
       "      <td>1</td>\n",
       "      <td>Once upon a time there was a dragon</td>\n",
       "      <td>Once upon a time there was a dragon. The drago...</td>\n",
       "      <td>./hidden_states/prompt_1.npz</td>\n",
       "      <td>117</td>\n",
       "      <td>118</td>\n",
       "    </tr>\n",
       "    <tr>\n",
       "      <th>4</th>\n",
       "      <td>1</td>\n",
       "      <td>Once upon a time there was a dragon</td>\n",
       "      <td>Once upon a time there was a dragon. The drago...</td>\n",
       "      <td>./hidden_states/prompt_1.npz</td>\n",
       "      <td>129</td>\n",
       "      <td>130</td>\n",
       "    </tr>\n",
       "    <tr>\n",
       "      <th>...</th>\n",
       "      <td>...</td>\n",
       "      <td>...</td>\n",
       "      <td>...</td>\n",
       "      <td>...</td>\n",
       "      <td>...</td>\n",
       "      <td>...</td>\n",
       "    </tr>\n",
       "    <tr>\n",
       "      <th>9995</th>\n",
       "      <td>10</td>\n",
       "      <td>Once upon a time there was a poor boy</td>\n",
       "      <td>Once upon a time there was a poor boy named Ti...</td>\n",
       "      <td>./hidden_states/prompt_10.npz</td>\n",
       "      <td>289</td>\n",
       "      <td>290</td>\n",
       "    </tr>\n",
       "    <tr>\n",
       "      <th>9996</th>\n",
       "      <td>10</td>\n",
       "      <td>Once upon a time there was a poor boy</td>\n",
       "      <td>Once upon a time there was a poor boy named Ti...</td>\n",
       "      <td>./hidden_states/prompt_10.npz</td>\n",
       "      <td>119</td>\n",
       "      <td>119</td>\n",
       "    </tr>\n",
       "    <tr>\n",
       "      <th>9997</th>\n",
       "      <td>10</td>\n",
       "      <td>Once upon a time there was a poor boy</td>\n",
       "      <td>Once upon a time there was a poor boy named Ti...</td>\n",
       "      <td>./hidden_states/prompt_10.npz</td>\n",
       "      <td>127</td>\n",
       "      <td>128</td>\n",
       "    </tr>\n",
       "    <tr>\n",
       "      <th>9998</th>\n",
       "      <td>10</td>\n",
       "      <td>Once upon a time there was a poor boy</td>\n",
       "      <td>Once upon a time there was a poor boy named Ti...</td>\n",
       "      <td>./hidden_states/prompt_10.npz</td>\n",
       "      <td>441</td>\n",
       "      <td>441</td>\n",
       "    </tr>\n",
       "    <tr>\n",
       "      <th>9999</th>\n",
       "      <td>10</td>\n",
       "      <td>Once upon a time there was a poor boy</td>\n",
       "      <td>Once upon a time there was a poor boy named Ti...</td>\n",
       "      <td>./hidden_states/prompt_10.npz</td>\n",
       "      <td>520</td>\n",
       "      <td>521</td>\n",
       "    </tr>\n",
       "  </tbody>\n",
       "</table>\n",
       "<p>10000 rows × 6 columns</p>\n",
       "</div>"
      ],
      "text/plain": [
       "      prompt_id                                 prompt  \\\n",
       "0             1    Once upon a time there was a dragon   \n",
       "1             1    Once upon a time there was a dragon   \n",
       "2             1    Once upon a time there was a dragon   \n",
       "3             1    Once upon a time there was a dragon   \n",
       "4             1    Once upon a time there was a dragon   \n",
       "...         ...                                    ...   \n",
       "9995         10  Once upon a time there was a poor boy   \n",
       "9996         10  Once upon a time there was a poor boy   \n",
       "9997         10  Once upon a time there was a poor boy   \n",
       "9998         10  Once upon a time there was a poor boy   \n",
       "9999         10  Once upon a time there was a poor boy   \n",
       "\n",
       "                                                  story  \\\n",
       "0     Once upon a time there was a dragon named Blaz...   \n",
       "1     Once upon a time there was a dragon named Spar...   \n",
       "2     Once upon a time there was a dragon named Scor...   \n",
       "3     Once upon a time there was a dragon. The drago...   \n",
       "4     Once upon a time there was a dragon. The drago...   \n",
       "...                                                 ...   \n",
       "9995  Once upon a time there was a poor boy named Ti...   \n",
       "9996  Once upon a time there was a poor boy named Ti...   \n",
       "9997  Once upon a time there was a poor boy named Ti...   \n",
       "9998  Once upon a time there was a poor boy named Ti...   \n",
       "9999  Once upon a time there was a poor boy named Ti...   \n",
       "\n",
       "                  hidden_state_file  len_generated_story  len_new_story  \n",
       "0      ./hidden_states/prompt_1.npz                  270            271  \n",
       "1      ./hidden_states/prompt_1.npz                  349            350  \n",
       "2      ./hidden_states/prompt_1.npz                  278            278  \n",
       "3      ./hidden_states/prompt_1.npz                  117            118  \n",
       "4      ./hidden_states/prompt_1.npz                  129            130  \n",
       "...                             ...                  ...            ...  \n",
       "9995  ./hidden_states/prompt_10.npz                  289            290  \n",
       "9996  ./hidden_states/prompt_10.npz                  119            119  \n",
       "9997  ./hidden_states/prompt_10.npz                  127            128  \n",
       "9998  ./hidden_states/prompt_10.npz                  441            441  \n",
       "9999  ./hidden_states/prompt_10.npz                  520            521  \n",
       "\n",
       "[10000 rows x 6 columns]"
      ]
     },
     "execution_count": 3,
     "metadata": {},
     "output_type": "execute_result"
    }
   ],
   "source": [
    "df = pd.read_csv(\"../story_dataset.csv\")\n",
    "df"
   ]
  },
  {
   "cell_type": "code",
   "execution_count": 4,
   "id": "c081cc09",
   "metadata": {
    "tags": []
   },
   "outputs": [
    {
     "data": {
      "text/plain": [
       "522"
      ]
     },
     "execution_count": 4,
     "metadata": {},
     "output_type": "execute_result"
    }
   ],
   "source": [
    "max_story_len = max(df[\"len_generated_story\"])\n",
    "max_story_len"
   ]
  },
  {
   "cell_type": "code",
   "execution_count": 5,
   "id": "212c067a",
   "metadata": {
    "scrolled": true,
    "tags": []
   },
   "outputs": [
    {
     "name": "stderr",
     "output_type": "stream",
     "text": [
      "100%|███████████████████████████████████████████████████████████████████████████████| 1000/1000 [01:27<00:00, 11.40it/s]\n",
      "100%|███████████████████████████████████████████████████████████████████████████████| 1000/1000 [01:18<00:00, 12.74it/s]\n",
      "100%|███████████████████████████████████████████████████████████████████████████████| 1000/1000 [01:11<00:00, 13.98it/s]\n",
      "100%|███████████████████████████████████████████████████████████████████████████████| 1000/1000 [01:29<00:00, 11.19it/s]\n",
      "100%|███████████████████████████████████████████████████████████████████████████████| 1000/1000 [01:22<00:00, 12.07it/s]\n",
      "100%|███████████████████████████████████████████████████████████████████████████████| 1000/1000 [01:21<00:00, 12.22it/s]\n",
      "100%|███████████████████████████████████████████████████████████████████████████████| 1000/1000 [01:28<00:00, 11.33it/s]\n",
      "100%|███████████████████████████████████████████████████████████████████████████████| 1000/1000 [01:26<00:00, 11.54it/s]\n",
      "100%|███████████████████████████████████████████████████████████████████████████████| 1000/1000 [01:16<00:00, 13.06it/s]\n",
      "100%|███████████████████████████████████████████████████████████████████████████████| 1000/1000 [01:30<00:00, 11.04it/s]\n"
     ]
    }
   ],
   "source": [
    "hidden_states_by_layer = {}\n",
    "NUM_PROMPTS = 10\n",
    "\n",
    "for prompt_id in range(1, NUM_PROMPTS + 1):\n",
    "    with np.load(f'../hidden_states/prompt_{prompt_id}.npz') as loaded_data:\n",
    "        for i in tqdm(range(1000)):\n",
    "            curr_hidden_states = loaded_data[f\"arr_{i}\"][0]\n",
    "#             print(curr_hidden_states.shape)\n",
    "            for layer in range(1):\n",
    "                padded_arr = np.zeros((max_story_len, 512))\n",
    "                padded_arr_len = len(curr_hidden_states[layer][0])\n",
    "                \n",
    "                padded_arr[:padded_arr_len] = curr_hidden_states[layer][0]\n",
    "                \n",
    "                padded_arr = padded_arr.flatten().astype('float32') #FAISS expects data in type float32 instead of float64 - saves memory too!\n",
    "#                 print(padded_arr.shape)\n",
    "                \n",
    "                if(f\"layer_{layer}\" in hidden_states_by_layer):\n",
    "                    hidden_states_by_layer[f\"layer_{layer}\"].append(padded_arr)\n",
    "                else:\n",
    "                    hidden_states_by_layer[f\"layer_{layer}\"] = [padded_arr]"
   ]
  },
  {
   "cell_type": "code",
   "execution_count": 6,
   "id": "ad23eb70",
   "metadata": {
    "tags": []
   },
   "outputs": [
    {
     "data": {
      "text/plain": [
       "(10000, 267264)"
      ]
     },
     "execution_count": 6,
     "metadata": {},
     "output_type": "execute_result"
    }
   ],
   "source": [
    "layer_hs_array = np.array(hidden_states_by_layer[\"layer_0\"])\n",
    "layer_hs_array.shape"
   ]
  },
  {
   "cell_type": "markdown",
   "id": "e44eecd8-9f29-457b-8f65-d8eae3b84eb8",
   "metadata": {},
   "source": [
    "## Layer 0 Clustering"
   ]
  },
  {
   "cell_type": "code",
   "execution_count": 7,
   "id": "49cf7b1b",
   "metadata": {
    "tags": []
   },
   "outputs": [],
   "source": [
    "# Use original vectors for clustering - uncomment next line and comment out last two lines\n",
    "\n",
    "# dim_reduced_vecs = layer_hs_array\n",
    "\n",
    "random_projector = GaussianRandomProjection(random_state = 42)\n",
    "dim_reduced_vecs = random_projector.fit_transform(layer_hs_array).astype('float32')"
   ]
  },
  {
   "cell_type": "code",
   "execution_count": 8,
   "id": "b9257701",
   "metadata": {
    "tags": []
   },
   "outputs": [
    {
     "data": {
      "text/plain": [
       "(10000, 7894)"
      ]
     },
     "execution_count": 8,
     "metadata": {},
     "output_type": "execute_result"
    }
   ],
   "source": [
    "dim_reduced_vecs = np.array([v / np.linalg.norm(v) for v in dim_reduced_vecs])\n",
    "dim_reduced_vecs.shape"
   ]
  },
  {
   "cell_type": "code",
   "execution_count": 9,
   "id": "22e1c2a5-03fa-43fd-90d4-609a0d949829",
   "metadata": {
    "tags": []
   },
   "outputs": [
    {
     "data": {
      "text/plain": [
       "array([ 1,  1,  1, ..., 10, 10, 10])"
      ]
     },
     "execution_count": 9,
     "metadata": {},
     "output_type": "execute_result"
    }
   ],
   "source": [
    "prompt_ids = df[\"prompt_id\"]\n",
    "prompt_ids = prompt_ids.to_numpy()\n",
    "prompt_ids"
   ]
  },
  {
   "cell_type": "code",
   "execution_count": 10,
   "id": "da31296e-559b-41b1-b2a3-ae4c2c573e60",
   "metadata": {
    "tags": []
   },
   "outputs": [],
   "source": [
    "# X_train, y_train, X_test, y_test = [], [], [], []\n",
    "# for i in range(10):\n",
    "#     X_train.extend(dim_reduced_vecs[i * 1000 : (i * 1000) + 800]) # [0:800] [1000:1800] etc.\n",
    "#     y_train.extend(prompt_ids[i * 1000 : (i * 1000) + 800])\n",
    "    \n",
    "#     X_test.extend(dim_reduced_vecs[(i * 1000) + 800 : (i + 1) * 1000]) # [800:1000] [1800:2000] etc.\n",
    "#     y_test.extend(prompt_ids[(i * 1000) + 800 : (i + 1) * 1000])"
   ]
  },
  {
   "cell_type": "code",
   "execution_count": 11,
   "id": "ef9d8cf9-93f7-434b-9f43-57823665abcc",
   "metadata": {
    "tags": []
   },
   "outputs": [],
   "source": [
    "# X_train = np.array(X_train)\n",
    "# y_train = np.array(y_train)\n",
    "# X_test = np.array(X_test)\n",
    "# y_test = np.array(y_test)\n",
    "\n",
    "# print(X_train.shape)\n",
    "# print(y_train.shape)\n",
    "# print(X_test.shape)\n",
    "# print(y_test.shape)"
   ]
  },
  {
   "cell_type": "code",
   "execution_count": 12,
   "id": "bd963a3c-0ad1-416a-9fc6-a13bf2422fcd",
   "metadata": {},
   "outputs": [],
   "source": [
    "X_train = np.zeros((int(0.8 * dim_reduced_vecs.shape[0]), dim_reduced_vecs.shape[1]), dtype = np.float32)\n",
    "y_train = np.zeros(int(0.8 * dim_reduced_vecs.shape[0]))\n",
    "\n",
    "X_test = np.zeros((int(0.2 * dim_reduced_vecs.shape[0]), dim_reduced_vecs.shape[1]), dtype = np.float32)\n",
    "y_test = np.zeros(int(0.2 * dim_reduced_vecs.shape[0]))"
   ]
  },
  {
   "cell_type": "code",
   "execution_count": 13,
   "id": "6b84c6a1-29cc-4096-9eb1-420301a7065f",
   "metadata": {},
   "outputs": [],
   "source": [
    "for i in range(10):\n",
    "    X_train[i * 800 : (i + 1) * 800] = dim_reduced_vecs[i * 1000 : (i * 1000) + 800]\n",
    "    y_train[i * 800 : (i + 1) * 800] = prompt_ids[i * 1000 : (i * 1000) + 800]\n",
    "    \n",
    "    X_test[i * 200 : (i + 1) * 200] = dim_reduced_vecs[(i * 1000) + 800 : (i + 1) * 1000]\n",
    "    y_test[i * 200 : (i + 1) * 200] = prompt_ids[(i * 1000) + 800 : (i + 1) * 1000]"
   ]
  },
  {
   "cell_type": "code",
   "execution_count": 14,
   "id": "e7c2f695-573c-4abe-ab7b-eaa4a1661cd2",
   "metadata": {},
   "outputs": [
    {
     "name": "stdout",
     "output_type": "stream",
     "text": [
      "(8000, 7894)\n",
      "(8000,)\n",
      "(2000, 7894)\n",
      "(2000,)\n"
     ]
    }
   ],
   "source": [
    "print(X_train.shape)\n",
    "print(y_train.shape)\n",
    "print(X_test.shape)\n",
    "print(y_test.shape)"
   ]
  },
  {
   "cell_type": "code",
   "execution_count": 15,
   "id": "8aebf88b-1d51-48d2-945c-311b5fc70963",
   "metadata": {},
   "outputs": [
    {
     "name": "stdout",
     "output_type": "stream",
     "text": [
      "Sampling a subset of 4000 / 8000 for training\n",
      "Clustering 4000 points in 7894D to 5 clusters, redo 10 times, 20 iterations\n",
      "  Preprocessing in 0.11 s\n",
      "Outer iteration 0 / 10\n",
      "  Iteration 19 (0.54 s, search 0.29 s): objective=1149.53 imbalance=1.356 nsplit=0       \n",
      "Objective improved: keep new clusters\n",
      "Outer iteration 1 / 10\n",
      "  Iteration 19 (1.07 s, search 0.57 s): objective=1144.37 imbalance=1.126 nsplit=0       \n",
      "Outer iteration 2 / 10\n",
      "  Iteration 19 (1.60 s, search 0.84 s): objective=1135.56 imbalance=1.032 nsplit=0       \n",
      "Outer iteration 3 / 10\n",
      "  Iteration 19 (2.12 s, search 1.12 s): objective=1144.57 imbalance=1.208 nsplit=0       \n",
      "Outer iteration 4 / 10\n",
      "  Iteration 19 (2.63 s, search 1.39 s): objective=1143.15 imbalance=1.540 nsplit=0       \n",
      "Outer iteration 5 / 10\n",
      "  Iteration 19 (3.15 s, search 1.66 s): objective=1138.35 imbalance=1.221 nsplit=0       \n",
      "Outer iteration 6 / 10\n",
      "  Iteration 19 (3.67 s, search 1.93 s): objective=1148.22 imbalance=1.142 nsplit=0       \n",
      "Outer iteration 7 / 10\n",
      "  Iteration 19 (4.18 s, search 2.20 s): objective=1144.51 imbalance=1.315 nsplit=0       \n",
      "Outer iteration 8 / 10\n",
      "  Iteration 19 (4.71 s, search 2.47 s): objective=1134.41 imbalance=1.032 nsplit=0       \n",
      "Outer iteration 9 / 10\n",
      "  Iteration 19 (5.23 s, search 2.75 s): objective=1148.24 imbalance=1.183 nsplit=0       \n",
      "Sampling a subset of 4800 / 8000 for training\n",
      "Clustering 4800 points in 7894D to 6 clusters, redo 10 times, 20 iterations\n",
      "  Preprocessing in 0.12 s\n",
      "Outer iteration 0 / 10\n",
      "  Iteration 19 (0.62 s, search 0.33 s): objective=1380.29 imbalance=1.576 nsplit=0       \n",
      "Objective improved: keep new clusters\n",
      "Outer iteration 1 / 10\n",
      "  Iteration 19 (1.25 s, search 0.66 s): objective=1383.36 imbalance=1.317 nsplit=0       \n",
      "Objective improved: keep new clusters\n",
      "Outer iteration 2 / 10\n",
      "  Iteration 19 (1.88 s, search 0.99 s): objective=1386.85 imbalance=1.286 nsplit=0       \n",
      "Objective improved: keep new clusters\n",
      "Outer iteration 3 / 10\n",
      "  Iteration 19 (2.51 s, search 1.32 s): objective=1385.5 imbalance=1.350 nsplit=0        \n",
      "Outer iteration 4 / 10\n",
      "  Iteration 19 (3.14 s, search 1.65 s): objective=1382.89 imbalance=1.332 nsplit=0       \n",
      "Outer iteration 5 / 10\n",
      "  Iteration 19 (3.77 s, search 1.98 s): objective=1390.68 imbalance=1.179 nsplit=0       \n",
      "Objective improved: keep new clusters\n",
      "Outer iteration 6 / 10\n",
      "  Iteration 19 (4.40 s, search 2.31 s): objective=1389.19 imbalance=1.165 nsplit=0       \n",
      "Outer iteration 7 / 10\n",
      "  Iteration 19 (5.05 s, search 2.65 s): objective=1379.22 imbalance=1.113 nsplit=0       \n",
      "Outer iteration 8 / 10\n",
      "  Iteration 19 (5.69 s, search 2.99 s): objective=1390.7 imbalance=1.204 nsplit=0        \n",
      "Objective improved: keep new clusters\n",
      "Outer iteration 9 / 10\n",
      "  Iteration 19 (6.32 s, search 3.32 s): objective=1389.16 imbalance=1.150 nsplit=0       \n",
      "Sampling a subset of 5600 / 8000 for training\n",
      "Clustering 5600 points in 7894D to 7 clusters, redo 10 times, 20 iterations\n",
      "  Preprocessing in 0.14 s\n",
      "Outer iteration 0 / 10\n",
      "  Iteration 19 (0.77 s, search 0.40 s): objective=1627.17 imbalance=1.445 nsplit=0       \n",
      "Objective improved: keep new clusters\n",
      "Outer iteration 1 / 10\n",
      "  Iteration 19 (1.53 s, search 0.79 s): objective=1621.32 imbalance=1.112 nsplit=0       \n",
      "Outer iteration 2 / 10\n",
      "  Iteration 19 (2.28 s, search 1.18 s): objective=1617.11 imbalance=1.216 nsplit=0       \n",
      "Outer iteration 3 / 10\n",
      "  Iteration 19 (3.02 s, search 1.56 s): objective=1604.5 imbalance=1.247 nsplit=0        \n",
      "Outer iteration 4 / 10\n",
      "  Iteration 19 (3.76 s, search 1.94 s): objective=1632.44 imbalance=1.298 nsplit=0       \n",
      "Objective improved: keep new clusters\n",
      "Outer iteration 5 / 10\n",
      "  Iteration 19 (4.50 s, search 2.33 s): objective=1620.88 imbalance=1.437 nsplit=0       \n",
      "Outer iteration 6 / 10\n",
      "  Iteration 19 (5.26 s, search 2.72 s): objective=1624.24 imbalance=1.212 nsplit=0       \n",
      "Outer iteration 7 / 10\n",
      "  Iteration 19 (6.00 s, search 3.11 s): objective=1619.86 imbalance=1.275 nsplit=0       \n",
      "Outer iteration 8 / 10\n",
      "  Iteration 19 (6.74 s, search 3.49 s): objective=1622.41 imbalance=1.158 nsplit=0       \n",
      "Outer iteration 9 / 10\n",
      "  Iteration 19 (7.49 s, search 3.87 s): objective=1632.86 imbalance=1.164 nsplit=0       \n",
      "Objective improved: keep new clusters\n",
      "Sampling a subset of 6400 / 8000 for training\n",
      "Clustering 6400 points in 7894D to 8 clusters, redo 10 times, 20 iterations\n",
      "  Preprocessing in 0.15 s\n",
      "Outer iteration 0 / 10\n",
      "  Iteration 19 (0.87 s, search 0.44 s): objective=1874.94 imbalance=1.314 nsplit=0       \n",
      "Objective improved: keep new clusters\n",
      "Outer iteration 1 / 10\n",
      "  Iteration 19 (1.72 s, search 0.88 s): objective=1888.51 imbalance=1.315 nsplit=0       \n",
      "Objective improved: keep new clusters\n",
      "Outer iteration 2 / 10\n",
      "  Iteration 19 (2.57 s, search 1.31 s): objective=1871.4 imbalance=1.378 nsplit=0        \n",
      "Outer iteration 3 / 10\n",
      "  Iteration 19 (3.42 s, search 1.73 s): objective=1859.21 imbalance=1.187 nsplit=0       \n",
      "Outer iteration 4 / 10\n",
      "  Iteration 19 (4.27 s, search 2.17 s): objective=1867.12 imbalance=1.199 nsplit=0       \n",
      "Outer iteration 5 / 10\n",
      "  Iteration 19 (5.13 s, search 2.60 s): objective=1867.75 imbalance=1.254 nsplit=0       \n",
      "Outer iteration 6 / 10\n",
      "  Iteration 19 (6.00 s, search 3.04 s): objective=1880.03 imbalance=1.204 nsplit=0       \n",
      "Outer iteration 7 / 10\n",
      "  Iteration 19 (6.85 s, search 3.47 s): objective=1861 imbalance=1.478 nsplit=0          \n",
      "Outer iteration 8 / 10\n",
      "  Iteration 19 (7.71 s, search 3.91 s): objective=1884.93 imbalance=1.273 nsplit=0       \n",
      "Outer iteration 9 / 10\n",
      "  Iteration 19 (8.57 s, search 4.34 s): objective=1882.1 imbalance=1.302 nsplit=0       \n",
      "Sampling a subset of 7200 / 8000 for training\n",
      "Clustering 7200 points in 7894D to 9 clusters, redo 10 times, 20 iterations\n",
      "  Preprocessing in 0.16 s\n",
      "Outer iteration 0 / 10\n",
      "  Iteration 19 (0.96 s, search 0.49 s): objective=2121.05 imbalance=1.216 nsplit=0       \n",
      "Objective improved: keep new clusters\n",
      "Outer iteration 1 / 10\n",
      "  Iteration 19 (1.93 s, search 0.98 s): objective=2124.28 imbalance=1.321 nsplit=0       \n",
      "Objective improved: keep new clusters\n",
      "Outer iteration 2 / 10\n",
      "  Iteration 19 (2.90 s, search 1.48 s): objective=2120.37 imbalance=1.443 nsplit=0       \n",
      "Outer iteration 3 / 10\n",
      "  Iteration 19 (3.96 s, search 2.02 s): objective=2123.91 imbalance=1.177 nsplit=0       \n",
      "Outer iteration 4 / 10\n",
      "  Iteration 19 (4.93 s, search 2.52 s): objective=2125.02 imbalance=1.285 nsplit=0       \n",
      "Objective improved: keep new clusters\n",
      "Outer iteration 5 / 10\n",
      "  Iteration 19 (5.89 s, search 3.01 s): objective=2131.72 imbalance=1.313 nsplit=0       \n",
      "Objective improved: keep new clusters\n",
      "Outer iteration 6 / 10\n",
      "  Iteration 19 (6.87 s, search 3.51 s): objective=2115.6 imbalance=1.209 nsplit=0        \n",
      "Outer iteration 7 / 10\n",
      "  Iteration 19 (7.84 s, search 4.00 s): objective=2135.11 imbalance=1.350 nsplit=0       \n",
      "Objective improved: keep new clusters\n",
      "Outer iteration 8 / 10\n",
      "  Iteration 19 (8.82 s, search 4.50 s): objective=2112.6 imbalance=1.111 nsplit=0        \n",
      "Outer iteration 9 / 10\n",
      "  Iteration 19 (9.77 s, search 4.99 s): objective=2139.84 imbalance=1.421 nsplit=0       \n",
      "Objective improved: keep new clusters\n",
      "Clustering 8000 points in 7894D to 10 clusters, redo 10 times, 20 iterations\n",
      "  Preprocessing in 0.04 s\n",
      "Outer iteration 0 / 10\n",
      "  Iteration 19 (1.02 s, search 0.54 s): objective=2356.07 imbalance=1.349 nsplit=0       \n",
      "Objective improved: keep new clusters\n",
      "Outer iteration 1 / 10\n",
      "  Iteration 19 (2.05 s, search 1.08 s): objective=2380.2 imbalance=1.239 nsplit=0        \n",
      "Objective improved: keep new clusters\n",
      "Outer iteration 2 / 10\n",
      "  Iteration 19 (3.08 s, search 1.63 s): objective=2387.8 imbalance=1.315 nsplit=0        \n",
      "Objective improved: keep new clusters\n",
      "Outer iteration 3 / 10\n",
      "  Iteration 19 (4.11 s, search 2.17 s): objective=2383.07 imbalance=1.321 nsplit=0       \n",
      "Outer iteration 4 / 10\n",
      "  Iteration 19 (5.14 s, search 2.71 s): objective=2367.91 imbalance=1.571 nsplit=0       \n",
      "Outer iteration 5 / 10\n",
      "  Iteration 19 (6.18 s, search 3.26 s): objective=2344.83 imbalance=1.202 nsplit=0       \n",
      "Outer iteration 6 / 10\n",
      "  Iteration 19 (7.21 s, search 3.81 s): objective=2381.96 imbalance=1.340 nsplit=0       \n",
      "Outer iteration 7 / 10\n",
      "  Iteration 19 (8.27 s, search 4.37 s): objective=2365.94 imbalance=1.306 nsplit=0       \n",
      "Outer iteration 8 / 10\n",
      "  Iteration 19 (9.31 s, search 4.91 s): objective=2370.32 imbalance=1.279 nsplit=0       \n",
      "Outer iteration 9 / 10\n",
      "  Iteration 19 (10.34 s, search 5.45 s): objective=2347.49 imbalance=1.091 nsplit=0       \n",
      "Clustering 8000 points in 7894D to 11 clusters, redo 10 times, 20 iterations\n",
      "  Preprocessing in 0.05 s\n",
      "Outer iteration 0 / 10\n",
      "  Iteration 19 (1.02 s, search 0.55 s): objective=2394.67 imbalance=1.342 nsplit=0       \n",
      "Objective improved: keep new clusters\n",
      "Outer iteration 1 / 10\n",
      "  Iteration 19 (2.06 s, search 1.09 s): objective=2397.01 imbalance=1.295 nsplit=0       \n",
      "Objective improved: keep new clusters\n",
      "Outer iteration 2 / 10\n",
      "  Iteration 19 (3.09 s, search 1.63 s): objective=2392.14 imbalance=1.345 nsplit=0       \n",
      "Outer iteration 3 / 10\n",
      "  Iteration 19 (4.11 s, search 2.17 s): objective=2396.59 imbalance=1.377 nsplit=0       \n",
      "Outer iteration 4 / 10\n",
      "  Iteration 19 (5.15 s, search 2.71 s): objective=2359.41 imbalance=1.530 nsplit=0       \n",
      "Outer iteration 5 / 10\n",
      "  Iteration 19 (6.18 s, search 3.26 s): objective=2359.9 imbalance=1.319 nsplit=0        \n",
      "Outer iteration 6 / 10\n",
      "  Iteration 19 (7.20 s, search 3.80 s): objective=2386.64 imbalance=1.249 nsplit=0       \n",
      "Outer iteration 7 / 10\n",
      "  Iteration 19 (8.22 s, search 4.33 s): objective=2371.81 imbalance=1.230 nsplit=0       \n",
      "Outer iteration 8 / 10\n",
      "  Iteration 19 (9.25 s, search 4.87 s): objective=2380.45 imbalance=1.346 nsplit=0       \n",
      "Outer iteration 9 / 10\n",
      "  Iteration 19 (10.29 s, search 5.42 s): objective=2378.56 imbalance=1.186 nsplit=0       \n",
      "Clustering 8000 points in 7894D to 12 clusters, redo 10 times, 20 iterations\n",
      "  Preprocessing in 0.05 s\n",
      "Outer iteration 0 / 10\n",
      "  Iteration 19 (1.03 s, search 0.55 s): objective=2396.52 imbalance=1.418 nsplit=0       \n",
      "Objective improved: keep new clusters\n",
      "Outer iteration 1 / 10\n",
      "  Iteration 19 (2.07 s, search 1.09 s): objective=2404.66 imbalance=1.389 nsplit=0       \n",
      "Objective improved: keep new clusters\n",
      "Outer iteration 2 / 10\n",
      "  Iteration 19 (3.11 s, search 1.63 s): objective=2394.5 imbalance=1.209 nsplit=0        \n",
      "Outer iteration 3 / 10\n",
      "  Iteration 19 (4.14 s, search 2.18 s): objective=2389.37 imbalance=1.419 nsplit=0       \n",
      "Outer iteration 4 / 10\n",
      "  Iteration 19 (5.23 s, search 2.75 s): objective=2360.19 imbalance=1.633 nsplit=0       \n",
      "Outer iteration 5 / 10\n",
      "  Iteration 19 (6.26 s, search 3.29 s): objective=2396.6 imbalance=1.321 nsplit=0        \n",
      "Outer iteration 6 / 10\n",
      "  Iteration 19 (7.29 s, search 3.84 s): objective=2392.63 imbalance=1.289 nsplit=0       \n",
      "Outer iteration 7 / 10\n",
      "  Iteration 19 (8.34 s, search 4.39 s): objective=2376.77 imbalance=1.228 nsplit=0       \n",
      "Outer iteration 8 / 10\n",
      "  Iteration 19 (9.38 s, search 4.93 s): objective=2397.44 imbalance=1.299 nsplit=0       \n",
      "Outer iteration 9 / 10\n",
      "  Iteration 19 (10.41 s, search 5.47 s): objective=2385.46 imbalance=1.192 nsplit=0       \n",
      "Clustering 8000 points in 7894D to 13 clusters, redo 10 times, 20 iterations\n",
      "  Preprocessing in 0.04 s\n",
      "Outer iteration 0 / 10\n",
      "  Iteration 19 (1.03 s, search 0.54 s): objective=2402.14 imbalance=1.427 nsplit=0       \n",
      "Objective improved: keep new clusters\n",
      "Outer iteration 1 / 10\n",
      "  Iteration 19 (2.07 s, search 1.08 s): objective=2410.14 imbalance=1.408 nsplit=0       \n",
      "Objective improved: keep new clusters\n",
      "Outer iteration 2 / 10\n",
      "  Iteration 19 (3.12 s, search 1.63 s): objective=2412.29 imbalance=1.335 nsplit=0       \n",
      "Objective improved: keep new clusters\n",
      "Outer iteration 3 / 10\n",
      "  Iteration 19 (4.15 s, search 2.17 s): objective=2417.04 imbalance=1.437 nsplit=0       \n",
      "Objective improved: keep new clusters\n",
      "Outer iteration 4 / 10\n",
      "  Iteration 19 (5.19 s, search 2.72 s): objective=2382.43 imbalance=1.500 nsplit=0       \n",
      "Outer iteration 5 / 10\n",
      "  Iteration 19 (6.25 s, search 3.27 s): objective=2401.2 imbalance=1.309 nsplit=0        \n",
      "Outer iteration 6 / 10\n",
      "  Iteration 19 (7.30 s, search 3.82 s): objective=2404.44 imbalance=1.303 nsplit=0       \n",
      "Outer iteration 7 / 10\n",
      "  Iteration 19 (8.33 s, search 4.36 s): objective=2381 imbalance=1.295 nsplit=0          \n",
      "Outer iteration 8 / 10\n",
      "  Iteration 19 (9.37 s, search 4.90 s): objective=2412.41 imbalance=1.231 nsplit=0       \n",
      "Outer iteration 9 / 10\n",
      "  Iteration 19 (10.41 s, search 5.44 s): objective=2389.76 imbalance=1.140 nsplit=0       \n",
      "Clustering 8000 points in 7894D to 14 clusters, redo 10 times, 20 iterations\n",
      "  Preprocessing in 0.04 s\n",
      "Outer iteration 0 / 10\n",
      "  Iteration 19 (1.04 s, search 0.54 s): objective=2409.26 imbalance=1.333 nsplit=0       \n",
      "Objective improved: keep new clusters\n",
      "Outer iteration 1 / 10\n",
      "  Iteration 19 (2.08 s, search 1.08 s): objective=2420.52 imbalance=1.586 nsplit=0       \n",
      "Objective improved: keep new clusters\n",
      "Outer iteration 2 / 10\n",
      "  Iteration 19 (3.11 s, search 1.62 s): objective=2417.64 imbalance=1.331 nsplit=0       \n",
      "Outer iteration 3 / 10\n",
      "  Iteration 19 (4.16 s, search 2.17 s): objective=2433.07 imbalance=1.511 nsplit=0       \n",
      "Objective improved: keep new clusters\n",
      "Outer iteration 4 / 10\n",
      "  Iteration 19 (5.20 s, search 2.72 s): objective=2386.93 imbalance=1.550 nsplit=0       \n",
      "Outer iteration 5 / 10\n",
      "  Iteration 19 (6.25 s, search 3.26 s): objective=2418.93 imbalance=1.221 nsplit=0       \n",
      "Outer iteration 6 / 10\n",
      "  Iteration 19 (7.27 s, search 3.79 s): objective=2416.08 imbalance=1.131 nsplit=0       \n",
      "Outer iteration 7 / 10\n",
      "  Iteration 19 (8.31 s, search 4.33 s): objective=2410.31 imbalance=1.407 nsplit=0       \n",
      "Outer iteration 8 / 10\n",
      "  Iteration 19 (9.36 s, search 4.88 s): objective=2425.22 imbalance=1.228 nsplit=0       \n",
      "Outer iteration 9 / 10\n",
      "  Iteration 19 (10.41 s, search 5.42 s): objective=2393.31 imbalance=1.136 nsplit=0       \n",
      "Clustering 8000 points in 7894D to 15 clusters, redo 10 times, 20 iterations\n",
      "  Preprocessing in 0.04 s\n",
      "Outer iteration 0 / 10\n",
      "  Iteration 19 (1.05 s, search 0.55 s): objective=2410.26 imbalance=1.345 nsplit=0       \n",
      "Objective improved: keep new clusters\n",
      "Outer iteration 1 / 10\n",
      "  Iteration 19 (2.09 s, search 1.08 s): objective=2425.45 imbalance=1.300 nsplit=0       \n",
      "Objective improved: keep new clusters\n",
      "Outer iteration 2 / 10\n",
      "  Iteration 19 (3.14 s, search 1.63 s): objective=2419 imbalance=1.414 nsplit=0          \n",
      "Outer iteration 3 / 10\n",
      "  Iteration 19 (4.18 s, search 2.17 s): objective=2437.99 imbalance=1.361 nsplit=0       \n",
      "Objective improved: keep new clusters\n",
      "Outer iteration 4 / 10\n",
      "  Iteration 19 (5.22 s, search 2.71 s): objective=2419.91 imbalance=1.427 nsplit=0       \n",
      "Outer iteration 5 / 10\n",
      "  Iteration 19 (6.31 s, search 3.27 s): objective=2414.19 imbalance=1.207 nsplit=0       \n",
      "Outer iteration 6 / 10\n",
      "  Iteration 19 (7.35 s, search 3.81 s): objective=2420.63 imbalance=1.142 nsplit=0       \n",
      "Outer iteration 7 / 10\n",
      "  Iteration 19 (8.40 s, search 4.35 s): objective=2418.77 imbalance=1.309 nsplit=0       \n",
      "Outer iteration 8 / 10\n",
      "  Iteration 19 (9.45 s, search 4.89 s): objective=2433.1 imbalance=1.427 nsplit=0        \n",
      "Outer iteration 9 / 10\n",
      "  Iteration 19 (10.49 s, search 5.43 s): objective=2399.98 imbalance=1.177 nsplit=0       \r"
     ]
    },
    {
     "data": {
      "text/plain": [
       "[<matplotlib.lines.Line2D at 0x75ab37a6cc50>]"
      ]
     },
     "execution_count": 15,
     "metadata": {},
     "output_type": "execute_result"
    },
    {
     "data": {
      "image/png": "[encoded data removed]",
      "text/plain": [
       "<Figure size 432x288 with 1 Axes>"
      ]
     },
     "metadata": {
      "needs_background": "light"
     },
     "output_type": "display_data"
    }
   ],
   "source": [
    "# Elbow Plot\n",
    "niter = 20\n",
    "verbose = True\n",
    "dim = X_train.shape[1]\n",
    "\n",
    "k_vals = [k for k in range(5, 16)]\n",
    "wccs = []\n",
    "for k in k_vals:\n",
    "    kmeans = faiss.Kmeans(dim, k, niter = niter, verbose = verbose, gpu = True, nredo = 10, spherical = True, max_points_per_centroid = 800)\n",
    "    kmeans.train(X_train)\n",
    "    wccs.append(kmeans.obj[-1])\n",
    "\n",
    "plt.plot(k_vals, wccs)\n",
    "\n",
    "#k_vals[np.argmax(wccs)]"
   ]
  },
  {
   "cell_type": "code",
   "execution_count": 16,
   "id": "289102b9",
   "metadata": {
    "scrolled": true,
    "tags": []
   },
   "outputs": [
    {
     "name": "stdout",
     "output_type": "stream",
     "text": [
      "\n",
      "Clustering 8000 points in 7894D to 10 clusters, redo 10 times, 20 iterations\n",
      "  Preprocessing in 0.04 s\n",
      "Outer iteration 0 / 10\n",
      "  Iteration 19 (1.03 s, search 0.55 s): objective=2356.07 imbalance=1.349 nsplit=0       \n",
      "Objective improved: keep new clusters\n",
      "Outer iteration 1 / 10\n",
      "  Iteration 19 (2.06 s, search 1.09 s): objective=2380.2 imbalance=1.239 nsplit=0        \n",
      "Objective improved: keep new clusters\n",
      "Outer iteration 2 / 10\n",
      "  Iteration 19 (3.08 s, search 1.63 s): objective=2387.8 imbalance=1.315 nsplit=0        \n",
      "Objective improved: keep new clusters\n",
      "Outer iteration 3 / 10\n",
      "  Iteration 19 (4.14 s, search 2.18 s): objective=2383.07 imbalance=1.321 nsplit=0       \n",
      "Outer iteration 4 / 10\n",
      "  Iteration 19 (5.18 s, search 2.73 s): objective=2367.91 imbalance=1.571 nsplit=0       \n",
      "Outer iteration 5 / 10\n",
      "  Iteration 19 (6.21 s, search 3.27 s): objective=2344.83 imbalance=1.202 nsplit=0       \n",
      "Outer iteration 6 / 10\n",
      "  Iteration 19 (7.23 s, search 3.82 s): objective=2381.96 imbalance=1.340 nsplit=0       \n",
      "Outer iteration 7 / 10\n",
      "  Iteration 19 (8.26 s, search 4.36 s): objective=2365.94 imbalance=1.306 nsplit=0       \n",
      "Outer iteration 8 / 10\n",
      "  Iteration 19 (9.29 s, search 4.91 s): objective=2370.32 imbalance=1.279 nsplit=0       \n",
      "Outer iteration 9 / 10\n",
      "  Iteration 19 (10.33 s, search 5.45 s): objective=2347.49 imbalance=1.091 nsplit=0       \r"
     ]
    },
    {
     "data": {
      "text/plain": [
       "2387.801025390625"
      ]
     },
     "execution_count": 16,
     "metadata": {},
     "output_type": "execute_result"
    }
   ],
   "source": [
    "# K-means Clustering\n",
    "\n",
    "# ncentroids = NUM_PROMPTS\n",
    "ncentroids = 10 # Elbow point - based on objective (sum of cosine similarities)\n",
    "niter = 20\n",
    "verbose = True\n",
    "dim = X_train.shape[1]\n",
    "kmeans = faiss.Kmeans(dim, ncentroids, niter = niter, verbose = verbose, gpu = True, nredo = 10, spherical = True, max_points_per_centroid = 800)\n",
    "kmeans.train(X_train)"
   ]
  },
  {
   "cell_type": "code",
   "execution_count": 17,
   "id": "19cf0f0a",
   "metadata": {
    "tags": []
   },
   "outputs": [
    {
     "data": {
      "text/plain": [
       "array([[ 0.01507488,  0.00552363,  0.00066397, ...,  0.00624804,\n",
       "        -0.0167891 , -0.01160532],\n",
       "       [-0.00132467,  0.01328805, -0.00308383, ..., -0.00447619,\n",
       "        -0.00707773, -0.00483568],\n",
       "       [ 0.02875751,  0.02307365, -0.00160075, ...,  0.00028084,\n",
       "        -0.00994218, -0.01013203],\n",
       "       ...,\n",
       "       [ 0.00789195,  0.02493598, -0.01209482, ..., -0.00511604,\n",
       "        -0.0058887 , -0.00464228],\n",
       "       [ 0.01009194, -0.00219742,  0.00997888, ..., -0.00809156,\n",
       "        -0.00632714, -0.01846112],\n",
       "       [ 0.02085572,  0.01073467,  0.0112203 , ..., -0.01463787,\n",
       "        -0.0069159 , -0.0064244 ]], dtype=float32)"
      ]
     },
     "execution_count": 17,
     "metadata": {},
     "output_type": "execute_result"
    }
   ],
   "source": [
    "kmeans.centroids #cluster centers"
   ]
  },
  {
   "cell_type": "code",
   "execution_count": 18,
   "id": "61e726e9",
   "metadata": {
    "tags": []
   },
   "outputs": [
    {
     "name": "stdout",
     "output_type": "stream",
     "text": [
      "1.0000001\n",
      "0.9999999\n",
      "0.99999994\n",
      "0.99999994\n",
      "1.0000001\n",
      "0.99999994\n",
      "0.99999994\n",
      "1.0\n",
      "0.99999994\n",
      "1.0000002\n"
     ]
    }
   ],
   "source": [
    "for centroid in kmeans.centroids:\n",
    "    print(np.linalg.norm(centroid))"
   ]
  },
  {
   "cell_type": "code",
   "execution_count": 19,
   "id": "e5e1fa18",
   "metadata": {
    "tags": []
   },
   "outputs": [
    {
     "data": {
      "text/plain": [
       "array([ 792.01263428, 2258.98925781, 2328.08642578, 2344.00463867,\n",
       "       2350.15209961, 2352.42871094, 2354.32397461, 2355.40234375,\n",
       "       2355.65063477, 2355.81616211, 2355.93920898, 2355.97436523,\n",
       "       2356.00170898, 2356.01733398, 2356.03100586, 2356.03833008,\n",
       "       2356.05932617, 2356.06713867, 2356.06713867, 2356.06713867,\n",
       "        834.53125   , 2241.22290039, 2333.04516602, 2346.31323242,\n",
       "       2356.37231445, 2366.66796875, 2374.36987305, 2377.53588867,\n",
       "       2378.94628906, 2379.40649414, 2379.57006836, 2379.65722656,\n",
       "       2379.73266602, 2379.79833984, 2379.86889648, 2379.91088867,\n",
       "       2380.00488281, 2380.0847168 , 2380.1496582 , 2380.20068359,\n",
       "        847.32299805, 2247.42797852, 2323.24780273, 2362.19555664,\n",
       "       2372.86279297, 2379.50073242, 2383.37695312, 2386.53710938,\n",
       "       2387.53857422, 2387.63598633, 2387.67260742, 2387.69946289,\n",
       "       2387.73168945, 2387.7487793 , 2387.76586914, 2387.77026367,\n",
       "       2387.77563477, 2387.78686523, 2387.80395508, 2387.80102539])"
      ]
     },
     "execution_count": 19,
     "metadata": {},
     "output_type": "execute_result"
    }
   ],
   "source": [
    "kmeans.obj #inertia at each iteration"
   ]
  },
  {
   "cell_type": "code",
   "execution_count": 20,
   "id": "ed2c340d",
   "metadata": {
    "tags": []
   },
   "outputs": [],
   "source": [
    "cos_similarities = X_train @ kmeans.centroids.T\n",
    "classifications_train = np.argmax(cos_similarities, axis=1)"
   ]
  },
  {
   "cell_type": "code",
   "execution_count": 21,
   "id": "90aae79f",
   "metadata": {
    "tags": []
   },
   "outputs": [
    {
     "data": {
      "text/plain": [
       "4    1714\n",
       "3    1279\n",
       "6    1139\n",
       "9    1063\n",
       "1     659\n",
       "0     598\n",
       "5     467\n",
       "7     467\n",
       "2     333\n",
       "8     281\n",
       "dtype: int64"
      ]
     },
     "execution_count": 21,
     "metadata": {},
     "output_type": "execute_result"
    }
   ],
   "source": [
    "pd.Series(classifications_train).value_counts()"
   ]
  },
  {
   "cell_type": "code",
   "execution_count": 22,
   "id": "fc34c419-5d92-4dc6-8db4-9dc84b83a8d4",
   "metadata": {
    "tags": []
   },
   "outputs": [
    {
     "data": {
      "text/plain": [
       "[3, 5, 10, 6, 4, 5, 9, 10, 2, 8]"
      ]
     },
     "execution_count": 22,
     "metadata": {},
     "output_type": "execute_result"
    }
   ],
   "source": [
    "# Get most common label for each point classified to a centroid (same centroid)\n",
    "centroid_labels = [np.where(classifications_train == i)[0] for i in range(ncentroids)]\n",
    "max_label_per_centroid = [int(pd.Series(y_train[centroid_labels[i]]).value_counts().idxmax()) for i in range(ncentroids)]\n",
    "max_label_per_centroid"
   ]
  },
  {
   "cell_type": "code",
   "execution_count": 23,
   "id": "20e159a9-ef63-4a0e-8e94-52e041a5c416",
   "metadata": {
    "tags": []
   },
   "outputs": [],
   "source": [
    "centroid_to_label = {idx : max_label_per_centroid[idx] for idx in range(len(max_label_per_centroid))}"
   ]
  },
  {
   "cell_type": "code",
   "execution_count": 24,
   "id": "45760bd2-820d-462e-a8ef-8d054ed5dde4",
   "metadata": {
    "tags": []
   },
   "outputs": [
    {
     "data": {
      "text/plain": [
       "{0: 3, 1: 5, 2: 10, 3: 6, 4: 4, 5: 5, 6: 9, 7: 10, 8: 2, 9: 8}"
      ]
     },
     "execution_count": 24,
     "metadata": {},
     "output_type": "execute_result"
    }
   ],
   "source": [
    "centroid_to_label"
   ]
  },
  {
   "cell_type": "code",
   "execution_count": 25,
   "id": "b9cf2ac5-ce04-4efe-9828-041723e1f453",
   "metadata": {
    "tags": []
   },
   "outputs": [
    {
     "data": {
      "text/plain": [
       "array([ 9,  9,  9, ..., 10, 10, 10])"
      ]
     },
     "execution_count": 25,
     "metadata": {},
     "output_type": "execute_result"
    }
   ],
   "source": [
    "vectorized_map = np.vectorize(centroid_to_label.get)\n",
    "classifications_to_label = vectorized_map(classifications_train)\n",
    "\n",
    "classifications_to_label"
   ]
  },
  {
   "cell_type": "code",
   "execution_count": 26,
   "id": "c793f2dc-74de-4e3a-b0a8-3839b1be8dd9",
   "metadata": {
    "tags": []
   },
   "outputs": [
    {
     "name": "stdout",
     "output_type": "stream",
     "text": [
      "Prompt 1 Accuracy:  0.0\n",
      "Prompt 2 Accuracy:  0.285\n",
      "Prompt 3 Accuracy:  0.7475\n",
      "Prompt 4 Accuracy:  0.355\n",
      "Prompt 5 Accuracy:  0.945\n",
      "Prompt 6 Accuracy:  0.47375\n",
      "Prompt 7 Accuracy:  0.0\n",
      "Prompt 8 Accuracy:  0.495\n",
      "Prompt 9 Accuracy:  0.22875\n",
      "Prompt 10 Accuracy:  1.0\n"
     ]
    }
   ],
   "source": [
    "for i in range(10):\n",
    "    print(f\"Prompt {i + 1} Accuracy: \", np.mean(classifications_to_label[i * 800:(i + 1) * 800] == (i + 1)))"
   ]
  },
  {
   "cell_type": "code",
   "execution_count": 27,
   "id": "ac9d3497-d991-455d-a121-1a4c234314b0",
   "metadata": {
    "tags": []
   },
   "outputs": [
    {
     "name": "stdout",
     "output_type": "stream",
     "text": [
      "Overall Accuracy:  0.453\n"
     ]
    }
   ],
   "source": [
    "print(f\"Overall Accuracy: \", np.mean(classifications_to_label == y_train))"
   ]
  },
  {
   "cell_type": "markdown",
   "id": "b8d32ef1-a624-4d32-abcb-8daacad47cdc",
   "metadata": {},
   "source": [
    "## Perform Inference on Test Set & Collect Test Accuracy"
   ]
  },
  {
   "cell_type": "code",
   "execution_count": 28,
   "id": "2431abbc-b684-4c06-8fd6-06c771a1c4fa",
   "metadata": {},
   "outputs": [],
   "source": [
    "cos_similarities = X_test @ kmeans.centroids.T\n",
    "classifications_test = np.argmax(cos_similarities, axis=1)"
   ]
  },
  {
   "cell_type": "code",
   "execution_count": 29,
   "id": "d9a7dd1c-884b-4bef-b538-6c0a65a6f7e4",
   "metadata": {},
   "outputs": [
    {
     "data": {
      "text/plain": [
       "4    423\n",
       "3    324\n",
       "6    310\n",
       "9    262\n",
       "1    158\n",
       "0    135\n",
       "7    123\n",
       "5    122\n",
       "2     77\n",
       "8     66\n",
       "dtype: int64"
      ]
     },
     "execution_count": 29,
     "metadata": {},
     "output_type": "execute_result"
    }
   ],
   "source": [
    "pd.Series(classifications_test).value_counts()"
   ]
  },
  {
   "cell_type": "code",
   "execution_count": 30,
   "id": "6fa74238-a2b3-4277-bcd6-88ab9d5caf4f",
   "metadata": {},
   "outputs": [
    {
     "data": {
      "text/plain": [
       "array([ 8,  4,  9, ..., 10, 10, 10])"
      ]
     },
     "execution_count": 30,
     "metadata": {},
     "output_type": "execute_result"
    }
   ],
   "source": [
    "classifications_to_label_test = vectorized_map(classifications_test)\n",
    "\n",
    "classifications_to_label_test"
   ]
  },
  {
   "cell_type": "code",
   "execution_count": 31,
   "id": "799e3a99-6659-44b7-becd-4d0825fd1957",
   "metadata": {},
   "outputs": [
    {
     "name": "stdout",
     "output_type": "stream",
     "text": [
      "Prompt 1 Accuracy:  0.0\n",
      "Prompt 2 Accuracy:  0.3\n",
      "Prompt 3 Accuracy:  0.675\n",
      "Prompt 4 Accuracy:  0.35\n",
      "Prompt 5 Accuracy:  0.94\n",
      "Prompt 6 Accuracy:  0.44\n",
      "Prompt 7 Accuracy:  0.0\n",
      "Prompt 8 Accuracy:  0.49\n",
      "Prompt 9 Accuracy:  0.255\n",
      "Prompt 10 Accuracy:  1.0\n"
     ]
    }
   ],
   "source": [
    "for i in range(10):\n",
    "    print(f\"Prompt {i + 1} Accuracy: \", np.mean(classifications_to_label_test[i * 200:(i + 1) * 200] == (i + 1)))"
   ]
  },
  {
   "cell_type": "code",
   "execution_count": 32,
   "id": "4f97cfa0-27da-4897-8e65-681b75ad51d7",
   "metadata": {},
   "outputs": [
    {
     "name": "stdout",
     "output_type": "stream",
     "text": [
      "Overall Accuracy:  0.445\n"
     ]
    }
   ],
   "source": [
    "print(f\"Overall Accuracy: \", np.mean(classifications_to_label_test == y_test))"
   ]
  },
  {
   "cell_type": "markdown",
   "id": "ee076424-49c5-4245-a3a3-56fba51465ea",
   "metadata": {},
   "source": [
    "## Confusion Matrix of Results"
   ]
  },
  {
   "cell_type": "code",
   "execution_count": 33,
   "id": "b9175267-2fef-4f02-930e-c263ec396f91",
   "metadata": {
    "tags": []
   },
   "outputs": [],
   "source": [
    "from sklearn.metrics import confusion_matrix, ConfusionMatrixDisplay\n",
    "import matplotlib.pyplot as plt"
   ]
  },
  {
   "cell_type": "code",
   "execution_count": 34,
   "id": "3c2c3ac7-26e3-42d5-860a-918d735776c1",
   "metadata": {
    "tags": []
   },
   "outputs": [
    {
     "data": {
      "image/png": "[encoded data removed]",
      "text/plain": [
       "<Figure size 432x288 with 2 Axes>"
      ]
     },
     "metadata": {
      "needs_background": "light"
     },
     "output_type": "display_data"
    }
   ],
   "source": [
    "cm = confusion_matrix(y_train, classifications_to_label)\n",
    "disp = ConfusionMatrixDisplay(confusion_matrix=cm, display_labels=[f\"{i}\" for i in range(1, 11)])\n",
    "\n",
    "disp.plot()\n",
    "plt.title('Confusion Matrix for Train Set')\n",
    "plt.show()"
   ]
  },
  {
   "cell_type": "code",
   "execution_count": 35,
   "id": "03a45427-f767-4838-968e-c341eca03746",
   "metadata": {
    "tags": []
   },
   "outputs": [
    {
     "data": {
      "image/png": "[encoded data removed]",
      "text/plain": [
       "<Figure size 432x288 with 2 Axes>"
      ]
     },
     "metadata": {
      "needs_background": "light"
     },
     "output_type": "display_data"
    }
   ],
   "source": [
    "cm = confusion_matrix(y_test, classifications_to_label_test)\n",
    "disp = ConfusionMatrixDisplay(confusion_matrix=cm, display_labels=[f\"{i}\" for i in range(1, 11)])\n",
    "\n",
    "disp.plot()\n",
    "plt.title('Confusion Matrix for Test Set')\n",
    "plt.show()"
   ]
  },
  {
   "cell_type": "code",
   "execution_count": null,
   "id": "1322b9ab-2b94-4d00-95cf-1b3741b9f482",
   "metadata": {},
   "outputs": [],
   "source": []
  }
 ],
 "metadata": {
  "kernelspec": {
   "display_name": "Python 3 (ipykernel)",
   "language": "python",
   "name": "python3"
  },
  "language_info": {
   "codemirror_mode": {
    "name": "ipython",
    "version": 3
   },
   "file_extension": ".py",
   "mimetype": "text/x-python",
   "name": "python",
   "nbconvert_exporter": "python",
   "pygments_lexer": "ipython3",
   "version": "3.7.11"
  }
 },
 "nbformat": 4,
 "nbformat_minor": 5
}
