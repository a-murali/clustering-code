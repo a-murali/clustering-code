{
 "cells": [
  {
   "cell_type": "markdown",
   "id": "64c867a4-b1c3-426b-b086-de071a726ebf",
   "metadata": {},
   "source": [
    "## Install Packages"
   ]
  },
  {
   "cell_type": "code",
   "execution_count": 1,
   "id": "80849741",
   "metadata": {
    "tags": []
   },
   "outputs": [
    {
     "name": "stdout",
     "output_type": "stream",
     "text": [
      "Collecting package metadata (current_repodata.json): \\ WARNING conda.models.version:get_matcher(538): Using .* with relational operator is superfluous and deprecated and will be removed in a future version of conda. Your spec was 1.7.1.*, but conda is ignoring the .* and treating it as 1.7.1\n",
      "done\n",
      "Solving environment: done\n",
      "\n",
      "## Package Plan ##\n",
      "\n",
      "  environment location: /opt/conda\n",
      "\n",
      "  added / updated specs:\n",
      "    - faiss-gpu\n",
      "\n",
      "\n",
      "The following packages will be downloaded:\n",
      "\n",
      "    package                    |            build\n",
      "    ---------------------------|-----------------\n",
      "    conda-4.14.0               |   py37h89c1867_0        1010 KB  conda-forge\n",
      "    toolz-0.12.1               |     pyhd8ed1ab_0          51 KB  conda-forge\n",
      "    ------------------------------------------------------------\n",
      "                                           Total:         1.0 MB\n",
      "\n",
      "The following NEW packages will be INSTALLED:\n",
      "\n",
      "  toolz              conda-forge/noarch::toolz-0.12.1-pyhd8ed1ab_0\n",
      "\n",
      "The following packages will be UPDATED:\n",
      "\n",
      "  conda                               4.12.0-py37h89c1867_0 --> 4.14.0-py37h89c1867_0\n",
      "\n",
      "\n",
      "\n",
      "Downloading and Extracting Packages\n",
      "conda-4.14.0         | 1010 KB   | ##################################### | 100% \n",
      "toolz-0.12.1         | 51 KB     | ##################################### | 100% \n",
      "Preparing transaction: done\n",
      "Verifying transaction: done\n",
      "Executing transaction: done\n",
      "Get:1 http://security.ubuntu.com/ubuntu bionic-security InRelease [102 kB]\n",
      "Hit:2 http://archive.ubuntu.com/ubuntu bionic InRelease               \n",
      "Get:3 http://archive.ubuntu.com/ubuntu bionic-updates InRelease [102 kB]\n",
      "Get:4 http://archive.ubuntu.com/ubuntu bionic-backports InRelease [102 kB]\n",
      "Fetched 305 kB in 1s (280 kB/s)                            \n",
      "Reading package lists... Done\n",
      "Reading package lists... Done\n",
      "Building dependency tree       \n",
      "Reading state information... Done\n",
      "libatlas-base-dev is already the newest version (3.10.3-5).\n",
      "0 upgraded, 0 newly installed, 0 to remove and 83 not upgraded.\n"
     ]
    }
   ],
   "source": [
    "!conda install -y -c conda-forge faiss-gpu\n",
    "!apt-get -y update\n",
    "!apt-get -y install libatlas-base-dev"
   ]
  },
  {
   "cell_type": "markdown",
   "id": "ea6af1a5-1aef-4743-bfa6-7392ed97dbe7",
   "metadata": {},
   "source": [
    "## Load Data"
   ]
  },
  {
   "cell_type": "code",
   "execution_count": 2,
   "id": "e26dddbf",
   "metadata": {
    "tags": []
   },
   "outputs": [],
   "source": [
    "import pandas as pd\n",
    "import numpy as np\n",
    "import matplotlib.pyplot as plt\n",
    "\n",
    "from sklearn.random_projection import GaussianRandomProjection\n",
    "\n",
    "from tqdm import tqdm\n",
    "\n",
    "import faiss"
   ]
  },
  {
   "cell_type": "code",
   "execution_count": 3,
   "id": "89c2cffa",
   "metadata": {
    "tags": []
   },
   "outputs": [
    {
     "data": {
      "text/html": [
       "<div>\n",
       "<style scoped>\n",
       "    .dataframe tbody tr th:only-of-type {\n",
       "        vertical-align: middle;\n",
       "    }\n",
       "\n",
       "    .dataframe tbody tr th {\n",
       "        vertical-align: top;\n",
       "    }\n",
       "\n",
       "    .dataframe thead th {\n",
       "        text-align: right;\n",
       "    }\n",
       "</style>\n",
       "<table border=\"1\" class=\"dataframe\">\n",
       "  <thead>\n",
       "    <tr style=\"text-align: right;\">\n",
       "      <th></th>\n",
       "      <th>prompt_id</th>\n",
       "      <th>prompt</th>\n",
       "      <th>story</th>\n",
       "      <th>hidden_state_file</th>\n",
       "      <th>len_generated_story</th>\n",
       "      <th>len_new_story</th>\n",
       "    </tr>\n",
       "  </thead>\n",
       "  <tbody>\n",
       "    <tr>\n",
       "      <th>0</th>\n",
       "      <td>1</td>\n",
       "      <td>Once upon a time there was a dragon</td>\n",
       "      <td>Once upon a time there was a dragon named Blaz...</td>\n",
       "      <td>./hidden_states/prompt_1.npz</td>\n",
       "      <td>270</td>\n",
       "      <td>271</td>\n",
       "    </tr>\n",
       "    <tr>\n",
       "      <th>1</th>\n",
       "      <td>1</td>\n",
       "      <td>Once upon a time there was a dragon</td>\n",
       "      <td>Once upon a time there was a dragon named Spar...</td>\n",
       "      <td>./hidden_states/prompt_1.npz</td>\n",
       "      <td>349</td>\n",
       "      <td>350</td>\n",
       "    </tr>\n",
       "    <tr>\n",
       "      <th>2</th>\n",
       "      <td>1</td>\n",
       "      <td>Once upon a time there was a dragon</td>\n",
       "      <td>Once upon a time there was a dragon named Scor...</td>\n",
       "      <td>./hidden_states/prompt_1.npz</td>\n",
       "      <td>278</td>\n",
       "      <td>278</td>\n",
       "    </tr>\n",
       "    <tr>\n",
       "      <th>3</th>\n",
       "      <td>1</td>\n",
       "      <td>Once upon a time there was a dragon</td>\n",
       "      <td>Once upon a time there was a dragon. The drago...</td>\n",
       "      <td>./hidden_states/prompt_1.npz</td>\n",
       "      <td>117</td>\n",
       "      <td>118</td>\n",
       "    </tr>\n",
       "    <tr>\n",
       "      <th>4</th>\n",
       "      <td>1</td>\n",
       "      <td>Once upon a time there was a dragon</td>\n",
       "      <td>Once upon a time there was a dragon. The drago...</td>\n",
       "      <td>./hidden_states/prompt_1.npz</td>\n",
       "      <td>129</td>\n",
       "      <td>130</td>\n",
       "    </tr>\n",
       "    <tr>\n",
       "      <th>...</th>\n",
       "      <td>...</td>\n",
       "      <td>...</td>\n",
       "      <td>...</td>\n",
       "      <td>...</td>\n",
       "      <td>...</td>\n",
       "      <td>...</td>\n",
       "    </tr>\n",
       "    <tr>\n",
       "      <th>9995</th>\n",
       "      <td>10</td>\n",
       "      <td>Once upon a time there was a poor boy</td>\n",
       "      <td>Once upon a time there was a poor boy named Ti...</td>\n",
       "      <td>./hidden_states/prompt_10.npz</td>\n",
       "      <td>289</td>\n",
       "      <td>290</td>\n",
       "    </tr>\n",
       "    <tr>\n",
       "      <th>9996</th>\n",
       "      <td>10</td>\n",
       "      <td>Once upon a time there was a poor boy</td>\n",
       "      <td>Once upon a time there was a poor boy named Ti...</td>\n",
       "      <td>./hidden_states/prompt_10.npz</td>\n",
       "      <td>119</td>\n",
       "      <td>119</td>\n",
       "    </tr>\n",
       "    <tr>\n",
       "      <th>9997</th>\n",
       "      <td>10</td>\n",
       "      <td>Once upon a time there was a poor boy</td>\n",
       "      <td>Once upon a time there was a poor boy named Ti...</td>\n",
       "      <td>./hidden_states/prompt_10.npz</td>\n",
       "      <td>127</td>\n",
       "      <td>128</td>\n",
       "    </tr>\n",
       "    <tr>\n",
       "      <th>9998</th>\n",
       "      <td>10</td>\n",
       "      <td>Once upon a time there was a poor boy</td>\n",
       "      <td>Once upon a time there was a poor boy named Ti...</td>\n",
       "      <td>./hidden_states/prompt_10.npz</td>\n",
       "      <td>441</td>\n",
       "      <td>441</td>\n",
       "    </tr>\n",
       "    <tr>\n",
       "      <th>9999</th>\n",
       "      <td>10</td>\n",
       "      <td>Once upon a time there was a poor boy</td>\n",
       "      <td>Once upon a time there was a poor boy named Ti...</td>\n",
       "      <td>./hidden_states/prompt_10.npz</td>\n",
       "      <td>520</td>\n",
       "      <td>521</td>\n",
       "    </tr>\n",
       "  </tbody>\n",
       "</table>\n",
       "<p>10000 rows × 6 columns</p>\n",
       "</div>"
      ],
      "text/plain": [
       "      prompt_id                                 prompt  \\\n",
       "0             1    Once upon a time there was a dragon   \n",
       "1             1    Once upon a time there was a dragon   \n",
       "2             1    Once upon a time there was a dragon   \n",
       "3             1    Once upon a time there was a dragon   \n",
       "4             1    Once upon a time there was a dragon   \n",
       "...         ...                                    ...   \n",
       "9995         10  Once upon a time there was a poor boy   \n",
       "9996         10  Once upon a time there was a poor boy   \n",
       "9997         10  Once upon a time there was a poor boy   \n",
       "9998         10  Once upon a time there was a poor boy   \n",
       "9999         10  Once upon a time there was a poor boy   \n",
       "\n",
       "                                                  story  \\\n",
       "0     Once upon a time there was a dragon named Blaz...   \n",
       "1     Once upon a time there was a dragon named Spar...   \n",
       "2     Once upon a time there was a dragon named Scor...   \n",
       "3     Once upon a time there was a dragon. The drago...   \n",
       "4     Once upon a time there was a dragon. The drago...   \n",
       "...                                                 ...   \n",
       "9995  Once upon a time there was a poor boy named Ti...   \n",
       "9996  Once upon a time there was a poor boy named Ti...   \n",
       "9997  Once upon a time there was a poor boy named Ti...   \n",
       "9998  Once upon a time there was a poor boy named Ti...   \n",
       "9999  Once upon a time there was a poor boy named Ti...   \n",
       "\n",
       "                  hidden_state_file  len_generated_story  len_new_story  \n",
       "0      ./hidden_states/prompt_1.npz                  270            271  \n",
       "1      ./hidden_states/prompt_1.npz                  349            350  \n",
       "2      ./hidden_states/prompt_1.npz                  278            278  \n",
       "3      ./hidden_states/prompt_1.npz                  117            118  \n",
       "4      ./hidden_states/prompt_1.npz                  129            130  \n",
       "...                             ...                  ...            ...  \n",
       "9995  ./hidden_states/prompt_10.npz                  289            290  \n",
       "9996  ./hidden_states/prompt_10.npz                  119            119  \n",
       "9997  ./hidden_states/prompt_10.npz                  127            128  \n",
       "9998  ./hidden_states/prompt_10.npz                  441            441  \n",
       "9999  ./hidden_states/prompt_10.npz                  520            521  \n",
       "\n",
       "[10000 rows x 6 columns]"
      ]
     },
     "execution_count": 3,
     "metadata": {},
     "output_type": "execute_result"
    }
   ],
   "source": [
    "df = pd.read_csv(\"../story_dataset.csv\")\n",
    "df"
   ]
  },
  {
   "cell_type": "code",
   "execution_count": 4,
   "id": "c081cc09",
   "metadata": {
    "tags": []
   },
   "outputs": [
    {
     "data": {
      "text/plain": [
       "522"
      ]
     },
     "execution_count": 4,
     "metadata": {},
     "output_type": "execute_result"
    }
   ],
   "source": [
    "max_story_len = max(df[\"len_generated_story\"])\n",
    "max_story_len"
   ]
  },
  {
   "cell_type": "code",
   "execution_count": 5,
   "id": "212c067a",
   "metadata": {
    "scrolled": true,
    "tags": []
   },
   "outputs": [
    {
     "name": "stderr",
     "output_type": "stream",
     "text": [
      "100%|███████████████████████████████████████████████████████████████████████████████| 1000/1000 [04:34<00:00,  3.64it/s]\n",
      "100%|███████████████████████████████████████████████████████████████████████████████| 1000/1000 [04:33<00:00,  3.66it/s]\n",
      "100%|███████████████████████████████████████████████████████████████████████████████| 1000/1000 [04:15<00:00,  3.92it/s]\n",
      "100%|███████████████████████████████████████████████████████████████████████████████| 1000/1000 [04:19<00:00,  3.85it/s]\n",
      "100%|███████████████████████████████████████████████████████████████████████████████| 1000/1000 [06:01<00:00,  2.77it/s]\n",
      "100%|███████████████████████████████████████████████████████████████████████████████| 1000/1000 [05:31<00:00,  3.02it/s]\n",
      "100%|███████████████████████████████████████████████████████████████████████████████| 1000/1000 [05:37<00:00,  2.97it/s]\n",
      "100%|███████████████████████████████████████████████████████████████████████████████| 1000/1000 [04:30<00:00,  3.70it/s]\n",
      "100%|███████████████████████████████████████████████████████████████████████████████| 1000/1000 [04:31<00:00,  3.68it/s]\n",
      "100%|███████████████████████████████████████████████████████████████████████████████| 1000/1000 [04:55<00:00,  3.38it/s]\n"
     ]
    }
   ],
   "source": [
    "hidden_states_by_layer = {}\n",
    "NUM_PROMPTS = 10\n",
    "\n",
    "for prompt_id in range(1, NUM_PROMPTS + 1):\n",
    "    with np.load(f'../hidden_states/prompt_{prompt_id}.npz') as loaded_data:\n",
    "        for i in tqdm(range(1000)):\n",
    "            curr_hidden_states = loaded_data[f\"arr_{i}\"][0]\n",
    "#             print(curr_hidden_states.shape)\n",
    "            for layer in range(1):\n",
    "                padded_arr = np.zeros((max_story_len, 512))\n",
    "                padded_arr_len = len(curr_hidden_states[layer][0])\n",
    "                \n",
    "                padded_arr[:padded_arr_len] = curr_hidden_states[layer][0]\n",
    "                \n",
    "                padded_arr = padded_arr.flatten().astype('float32') #FAISS expects data in type float32 instead of float64 - saves memory too!\n",
    "#                 print(padded_arr.shape)\n",
    "                \n",
    "                if(f\"layer_{layer}\" in hidden_states_by_layer):\n",
    "                    hidden_states_by_layer[f\"layer_{layer}\"].append(padded_arr)\n",
    "                else:\n",
    "                    hidden_states_by_layer[f\"layer_{layer}\"] = [padded_arr]"
   ]
  },
  {
   "cell_type": "code",
   "execution_count": 6,
   "id": "ad23eb70",
   "metadata": {
    "tags": []
   },
   "outputs": [
    {
     "data": {
      "text/plain": [
       "(10000, 267264)"
      ]
     },
     "execution_count": 6,
     "metadata": {},
     "output_type": "execute_result"
    }
   ],
   "source": [
    "layer_hs_array = np.array(hidden_states_by_layer[\"layer_0\"])\n",
    "layer_hs_array.shape"
   ]
  },
  {
   "cell_type": "markdown",
   "id": "e44eecd8-9f29-457b-8f65-d8eae3b84eb8",
   "metadata": {},
   "source": [
    "## Layer 0 Clustering"
   ]
  },
  {
   "cell_type": "code",
   "execution_count": 7,
   "id": "49cf7b1b",
   "metadata": {
    "tags": []
   },
   "outputs": [],
   "source": [
    "# Use original vectors for clustering - uncomment next line and comment out last two lines\n",
    "\n",
    "dim_reduced_vecs = layer_hs_array\n",
    "\n",
    "# random_projector = GaussianRandomProjection(random_state = 42)\n",
    "# dim_reduced_vecs = random_projector.fit_transform(layer_hs_array).astype('float32')"
   ]
  },
  {
   "cell_type": "code",
   "execution_count": 8,
   "id": "b9257701",
   "metadata": {
    "tags": []
   },
   "outputs": [
    {
     "data": {
      "text/plain": [
       "(10000, 267264)"
      ]
     },
     "execution_count": 8,
     "metadata": {},
     "output_type": "execute_result"
    }
   ],
   "source": [
    "dim_reduced_vecs = np.array([v / np.linalg.norm(v) for v in dim_reduced_vecs])\n",
    "dim_reduced_vecs.shape"
   ]
  },
  {
   "cell_type": "code",
   "execution_count": 9,
   "id": "22e1c2a5-03fa-43fd-90d4-609a0d949829",
   "metadata": {
    "tags": []
   },
   "outputs": [
    {
     "data": {
      "text/plain": [
       "array([ 1,  1,  1, ..., 10, 10, 10])"
      ]
     },
     "execution_count": 9,
     "metadata": {},
     "output_type": "execute_result"
    }
   ],
   "source": [
    "prompt_ids = df[\"prompt_id\"]\n",
    "prompt_ids = prompt_ids.to_numpy()\n",
    "prompt_ids"
   ]
  },
  {
   "cell_type": "code",
   "execution_count": 10,
   "id": "da31296e-559b-41b1-b2a3-ae4c2c573e60",
   "metadata": {
    "tags": []
   },
   "outputs": [],
   "source": [
    "# X_train, y_train, X_test, y_test = [], [], [], []\n",
    "# for i in range(10):\n",
    "#     X_train.extend(dim_reduced_vecs[i * 1000 : (i * 1000) + 800]) # [0:800] [1000:1800] etc.\n",
    "#     y_train.extend(prompt_ids[i * 1000 : (i * 1000) + 800])\n",
    "    \n",
    "#     X_test.extend(dim_reduced_vecs[(i * 1000) + 800 : (i + 1) * 1000]) # [800:1000] [1800:2000] etc.\n",
    "#     y_test.extend(prompt_ids[(i * 1000) + 800 : (i + 1) * 1000])"
   ]
  },
  {
   "cell_type": "code",
   "execution_count": 11,
   "id": "ef9d8cf9-93f7-434b-9f43-57823665abcc",
   "metadata": {
    "tags": []
   },
   "outputs": [],
   "source": [
    "# X_train = np.array(X_train)\n",
    "# y_train = np.array(y_train)\n",
    "# X_test = np.array(X_test)\n",
    "# y_test = np.array(y_test)\n",
    "\n",
    "# print(X_train.shape)\n",
    "# print(y_train.shape)\n",
    "# print(X_test.shape)\n",
    "# print(y_test.shape)"
   ]
  },
  {
   "cell_type": "code",
   "execution_count": 12,
   "id": "bd963a3c-0ad1-416a-9fc6-a13bf2422fcd",
   "metadata": {},
   "outputs": [],
   "source": [
    "X_train = np.zeros((int(0.8 * dim_reduced_vecs.shape[0]), dim_reduced_vecs.shape[1]), dtype = np.float32)\n",
    "y_train = np.zeros(int(0.8 * dim_reduced_vecs.shape[0]))\n",
    "\n",
    "X_test = np.zeros((int(0.2 * dim_reduced_vecs.shape[0]), dim_reduced_vecs.shape[1]), dtype = np.float32)\n",
    "y_test = np.zeros(int(0.2 * dim_reduced_vecs.shape[0]))"
   ]
  },
  {
   "cell_type": "code",
   "execution_count": 13,
   "id": "6b84c6a1-29cc-4096-9eb1-420301a7065f",
   "metadata": {},
   "outputs": [],
   "source": [
    "for i in range(10):\n",
    "    X_train[i * 800 : (i + 1) * 800] = dim_reduced_vecs[i * 1000 : (i * 1000) + 800]\n",
    "    y_train[i * 800 : (i + 1) * 800] = prompt_ids[i * 1000 : (i * 1000) + 800]\n",
    "    \n",
    "    X_test[i * 200 : (i + 1) * 200] = dim_reduced_vecs[(i * 1000) + 800 : (i + 1) * 1000]\n",
    "    y_test[i * 200 : (i + 1) * 200] = prompt_ids[(i * 1000) + 800 : (i + 1) * 1000]"
   ]
  },
  {
   "cell_type": "code",
   "execution_count": 14,
   "id": "e7c2f695-573c-4abe-ab7b-eaa4a1661cd2",
   "metadata": {},
   "outputs": [
    {
     "name": "stdout",
     "output_type": "stream",
     "text": [
      "(8000, 267264)\n",
      "(8000,)\n",
      "(2000, 267264)\n",
      "(2000,)\n"
     ]
    }
   ],
   "source": [
    "print(X_train.shape)\n",
    "print(y_train.shape)\n",
    "print(X_test.shape)\n",
    "print(y_test.shape)"
   ]
  },
  {
   "cell_type": "code",
   "execution_count": 15,
   "id": "8aebf88b-1d51-48d2-945c-311b5fc70963",
   "metadata": {},
   "outputs": [
    {
     "name": "stdout",
     "output_type": "stream",
     "text": [
      "Sampling a subset of 4000 / 8000 for training\n",
      "Clustering 4000 points in 267264D to 5 clusters, redo 10 times, 20 iterations\n",
      "  Preprocessing in 3.66 s\n",
      "Outer iteration 0 / 10\n",
      "  Iteration 19 (10.99 s, search 7.38 s): objective=1142.97 imbalance=1.532 nsplit=0       \n",
      "Objective improved: keep new clusters\n",
      "Outer iteration 1 / 10\n",
      "  Iteration 19 (21.99 s, search 14.75 s): objective=1146.89 imbalance=1.203 nsplit=0       \n",
      "Objective improved: keep new clusters\n",
      "Outer iteration 2 / 10\n",
      "  Iteration 19 (32.99 s, search 22.13 s): objective=1139.01 imbalance=1.048 nsplit=0       \n",
      "Outer iteration 3 / 10\n",
      "  Iteration 19 (44.00 s, search 29.51 s): objective=1141.68 imbalance=1.141 nsplit=0       \n",
      "Outer iteration 4 / 10\n",
      "  Iteration 19 (54.99 s, search 36.86 s): objective=1148.22 imbalance=1.544 nsplit=0       \n",
      "Objective improved: keep new clusters\n",
      "Outer iteration 5 / 10\n",
      "  Iteration 19 (65.97 s, search 44.22 s): objective=1147.13 imbalance=1.696 nsplit=0       \n",
      "Outer iteration 6 / 10\n",
      "  Iteration 19 (76.97 s, search 51.58 s): objective=1152.73 imbalance=1.147 nsplit=0       \n",
      "Objective improved: keep new clusters\n",
      "Outer iteration 7 / 10\n",
      "  Iteration 19 (87.95 s, search 58.93 s): objective=1150.33 imbalance=1.308 nsplit=0       \n",
      "Outer iteration 8 / 10\n",
      "  Iteration 19 (98.96 s, search 66.32 s): objective=1139.86 imbalance=1.029 nsplit=0       \n",
      "Outer iteration 9 / 10\n",
      "  Iteration 19 (109.96 s, search 73.69 s): objective=1153.3 imbalance=1.208 nsplit=0        \n",
      "Objective improved: keep new clusters\n",
      "Sampling a subset of 4800 / 8000 for training\n",
      "Clustering 4800 points in 267264D to 6 clusters, redo 10 times, 20 iterations\n",
      "  Preprocessing in 3.41 s\n",
      "Outer iteration 0 / 10\n",
      "  Iteration 19 (13.19 s, search 8.85 s): objective=1382.27 imbalance=1.275 nsplit=0       \n",
      "Objective improved: keep new clusters\n",
      "Outer iteration 1 / 10\n",
      "  Iteration 19 (26.38 s, search 17.71 s): objective=1382.28 imbalance=1.599 nsplit=0       \n",
      "Objective improved: keep new clusters\n",
      "Outer iteration 2 / 10\n",
      "  Iteration 19 (39.57 s, search 26.55 s): objective=1398.91 imbalance=1.322 nsplit=0       \n",
      "Objective improved: keep new clusters\n",
      "Outer iteration 3 / 10\n",
      "  Iteration 19 (52.92 s, search 35.48 s): objective=1379.28 imbalance=1.346 nsplit=0       \n",
      "Outer iteration 4 / 10\n",
      "  Iteration 19 (66.18 s, search 44.37 s): objective=1382.54 imbalance=1.294 nsplit=0       \n",
      "Outer iteration 5 / 10\n",
      "  Iteration 19 (79.39 s, search 53.24 s): objective=1385.6 imbalance=1.190 nsplit=0       \n",
      "Outer iteration 6 / 10\n",
      "  Iteration 19 (92.60 s, search 62.10 s): objective=1379.71 imbalance=1.066 nsplit=0       \n",
      "Outer iteration 7 / 10\n",
      "  Iteration 19 (105.80 s, search 70.96 s): objective=1384.1 imbalance=1.331 nsplit=0        \n",
      "Outer iteration 8 / 10\n",
      "  Iteration 19 (118.99 s, search 79.81 s): objective=1393.53 imbalance=1.175 nsplit=0       \n",
      "Outer iteration 9 / 10\n",
      "  Iteration 19 (132.26 s, search 88.71 s): objective=1400.18 imbalance=1.475 nsplit=0       \n",
      "Objective improved: keep new clusters\n",
      "Sampling a subset of 5600 / 8000 for training\n",
      "Clustering 5600 points in 267264D to 7 clusters, redo 10 times, 20 iterations\n",
      "  Preprocessing in 3.82 s\n",
      "Outer iteration 0 / 10\n",
      "  Iteration 19 (15.46 s, search 10.35 s): objective=1633.13 imbalance=1.257 nsplit=0       \n",
      "Objective improved: keep new clusters\n",
      "Outer iteration 1 / 10\n",
      "  Iteration 19 (30.85 s, search 20.68 s): objective=1616.9 imbalance=1.188 nsplit=0        \n",
      "Outer iteration 2 / 10\n",
      "  Iteration 19 (46.26 s, search 31.02 s): objective=1625.32 imbalance=1.223 nsplit=0       \n",
      "Outer iteration 3 / 10\n",
      "  Iteration 19 (61.63 s, search 41.30 s): objective=1609.53 imbalance=1.326 nsplit=0       \n",
      "Outer iteration 4 / 10\n",
      "  Iteration 19 (77.02 s, search 51.61 s): objective=1638.67 imbalance=1.222 nsplit=0       \n",
      "Objective improved: keep new clusters\n",
      "Outer iteration 5 / 10\n",
      "  Iteration 19 (92.41 s, search 61.91 s): objective=1640.5 imbalance=1.334 nsplit=0        \n",
      "Objective improved: keep new clusters\n",
      "Outer iteration 6 / 10\n",
      "  Iteration 19 (107.82 s, search 72.24 s): objective=1630.59 imbalance=1.292 nsplit=0       \n",
      "Outer iteration 7 / 10\n",
      "  Iteration 19 (123.19 s, search 82.53 s): objective=1618.46 imbalance=1.289 nsplit=0       \n",
      "Outer iteration 8 / 10\n",
      "  Iteration 19 (138.61 s, search 92.85 s): objective=1628.41 imbalance=1.215 nsplit=0       \n",
      "Outer iteration 9 / 10\n",
      "  Iteration 19 (154.05 s, search 103.19 s): objective=1638.45 imbalance=1.153 nsplit=0       \n",
      "Sampling a subset of 6400 / 8000 for training\n",
      "Clustering 6400 points in 267264D to 8 clusters, redo 10 times, 20 iterations\n",
      "  Preprocessing in 4.12 s\n",
      "Outer iteration 0 / 10\n",
      "  Iteration 19 (17.59 s, search 11.78 s): objective=1871.15 imbalance=1.179 nsplit=0       \n",
      "Objective improved: keep new clusters\n",
      "Outer iteration 1 / 10\n",
      "  Iteration 19 (35.16 s, search 23.55 s): objective=1894.75 imbalance=1.252 nsplit=0       \n",
      "Objective improved: keep new clusters\n",
      "Outer iteration 2 / 10\n",
      "  Iteration 19 (52.75 s, search 35.35 s): objective=1851.6 imbalance=1.602 nsplit=0        \n",
      "Outer iteration 3 / 10\n",
      "  Iteration 19 (70.34 s, search 47.13 s): objective=1835.54 imbalance=1.678 nsplit=0       \n",
      "Outer iteration 4 / 10\n",
      "  Iteration 19 (87.92 s, search 58.92 s): objective=1876.26 imbalance=1.194 nsplit=0       \n",
      "Outer iteration 5 / 10\n",
      "  Iteration 19 (105.51 s, search 70.71 s): objective=1866.45 imbalance=1.295 nsplit=0       \n",
      "Outer iteration 6 / 10\n",
      "  Iteration 19 (123.08 s, search 82.47 s): objective=1885.7 imbalance=1.260 nsplit=0        \n",
      "Outer iteration 7 / 10\n",
      "  Iteration 19 (140.64 s, search 94.24 s): objective=1865.91 imbalance=1.431 nsplit=0       \n",
      "Outer iteration 8 / 10\n",
      "  Iteration 19 (158.23 s, search 106.01 s): objective=1891.78 imbalance=1.309 nsplit=0       \n",
      "Outer iteration 9 / 10\n",
      "  Iteration 19 (175.83 s, search 117.80 s): objective=1891.02 imbalance=1.419 nsplit=0       \n",
      "Sampling a subset of 7200 / 8000 for training\n",
      "Clustering 7200 points in 267264D to 9 clusters, redo 10 times, 20 iterations\n",
      "  Preprocessing in 4.48 s\n",
      "Outer iteration 0 / 10\n",
      "  Iteration 19 (21.00 s, search 13.81 s): objective=2115.34 imbalance=1.189 nsplit=0       \n",
      "Objective improved: keep new clusters\n",
      "Outer iteration 1 / 10\n",
      "  Iteration 19 (41.34 s, search 27.30 s): objective=2131.7 imbalance=1.252 nsplit=0        \n",
      "Objective improved: keep new clusters\n",
      "Outer iteration 2 / 10\n",
      "  Iteration 19 (61.10 s, search 40.55 s): objective=2084.17 imbalance=1.349 nsplit=0       \n",
      "Outer iteration 3 / 10\n",
      "  Iteration 19 (80.92 s, search 53.84 s): objective=2128.26 imbalance=1.172 nsplit=0       \n",
      "Outer iteration 4 / 10\n",
      "  Iteration 19 (100.70 s, search 67.09 s): objective=2131.27 imbalance=1.431 nsplit=0       \n",
      "Outer iteration 5 / 10\n",
      "  Iteration 19 (120.50 s, search 80.35 s): objective=2139.3 imbalance=1.291 nsplit=0        \n",
      "Objective improved: keep new clusters\n",
      "Outer iteration 6 / 10\n",
      "  Iteration 19 (140.27 s, search 93.59 s): objective=2130.05 imbalance=1.473 nsplit=0       \n",
      "Outer iteration 7 / 10\n",
      "  Iteration 19 (160.06 s, search 106.85 s): objective=2130.8 imbalance=1.361 nsplit=0        \n",
      "Outer iteration 8 / 10\n",
      "  Iteration 19 (179.83 s, search 120.09 s): objective=2107.44 imbalance=1.311 nsplit=0       \n",
      "Outer iteration 9 / 10\n",
      "  Iteration 19 (199.62 s, search 133.35 s): objective=2146.32 imbalance=1.339 nsplit=0       \n",
      "Objective improved: keep new clusters\n",
      "Clustering 8000 points in 267264D to 10 clusters, redo 10 times, 20 iterations\n",
      "  Preprocessing in 1.12 s\n",
      "Outer iteration 0 / 10\n",
      "  Iteration 19 (22.04 s, search 14.74 s): objective=2372.75 imbalance=1.205 nsplit=0       \n",
      "Objective improved: keep new clusters\n",
      "Outer iteration 1 / 10\n",
      "  Iteration 19 (44.12 s, search 29.50 s): objective=2393.49 imbalance=1.647 nsplit=0       \n",
      "Objective improved: keep new clusters\n",
      "Outer iteration 2 / 10\n",
      "  Iteration 19 (66.19 s, search 44.28 s): objective=2391.65 imbalance=1.230 nsplit=0       \n",
      "Outer iteration 3 / 10\n",
      "  Iteration 19 (88.26 s, search 59.05 s): objective=2382.37 imbalance=1.366 nsplit=0       \n",
      "Outer iteration 4 / 10\n",
      "  Iteration 19 (110.30 s, search 73.78 s): objective=2345.79 imbalance=1.845 nsplit=0       \n",
      "Outer iteration 5 / 10\n",
      "  Iteration 19 (132.36 s, search 88.53 s): objective=2368.57 imbalance=1.255 nsplit=0       \n",
      "Outer iteration 6 / 10\n",
      "  Iteration 19 (154.42 s, search 103.28 s): objective=2367.41 imbalance=1.285 nsplit=0       \n",
      "Outer iteration 7 / 10\n",
      "  Iteration 19 (176.46 s, search 118.02 s): objective=2386.58 imbalance=1.177 nsplit=0       \n",
      "Outer iteration 8 / 10\n",
      "  Iteration 19 (198.52 s, search 132.78 s): objective=2379.6 imbalance=1.371 nsplit=0        \n",
      "Outer iteration 9 / 10\n",
      "  Iteration 19 (220.60 s, search 147.54 s): objective=2351.92 imbalance=1.081 nsplit=0       \n",
      "Clustering 8000 points in 267264D to 11 clusters, redo 10 times, 20 iterations\n",
      "  Preprocessing in 1.12 s\n",
      "Outer iteration 0 / 10\n",
      "  Iteration 19 (22.06 s, search 14.72 s): objective=2374.33 imbalance=1.301 nsplit=0       \n",
      "Objective improved: keep new clusters\n",
      "Outer iteration 1 / 10\n",
      "  Iteration 19 (44.12 s, search 29.43 s): objective=2403.07 imbalance=1.591 nsplit=0       \n",
      "Objective improved: keep new clusters\n",
      "Outer iteration 2 / 10\n",
      "  Iteration 19 (66.16 s, search 44.13 s): objective=2395.27 imbalance=1.273 nsplit=0       \n",
      "Outer iteration 3 / 10\n",
      "  Iteration 19 (88.22 s, search 58.85 s): objective=2394.02 imbalance=1.517 nsplit=0       \n",
      "Outer iteration 4 / 10\n",
      "  Iteration 19 (110.27 s, search 73.56 s): objective=2355.13 imbalance=1.453 nsplit=0       \n",
      "Outer iteration 5 / 10\n",
      "  Iteration 19 (132.30 s, search 88.27 s): objective=2391.87 imbalance=1.231 nsplit=0       \n",
      "Outer iteration 6 / 10\n",
      "  Iteration 19 (154.34 s, search 102.97 s): objective=2377.32 imbalance=1.251 nsplit=0       \n",
      "Outer iteration 7 / 10\n",
      "  Iteration 19 (176.43 s, search 117.72 s): objective=2394.2 imbalance=1.145 nsplit=0        \n",
      "Outer iteration 8 / 10\n",
      "  Iteration 19 (198.48 s, search 132.43 s): objective=2391.2 imbalance=1.267 nsplit=0        \n",
      "Outer iteration 9 / 10\n",
      "  Iteration 19 (220.75 s, search 147.26 s): objective=2370.31 imbalance=1.288 nsplit=0       \n",
      "Clustering 8000 points in 267264D to 12 clusters, redo 10 times, 20 iterations\n",
      "  Preprocessing in 1.12 s\n",
      "Outer iteration 0 / 10\n",
      "  Iteration 19 (22.16 s, search 14.77 s): objective=2407.78 imbalance=1.317 nsplit=0       \n",
      "Objective improved: keep new clusters\n",
      "Outer iteration 1 / 10\n",
      "  Iteration 19 (44.30 s, search 29.51 s): objective=2401.81 imbalance=1.737 nsplit=0       \n",
      "Outer iteration 2 / 10\n",
      "  Iteration 19 (66.42 s, search 44.26 s): objective=2408.16 imbalance=1.291 nsplit=0       \n",
      "Objective improved: keep new clusters\n",
      "Outer iteration 3 / 10\n",
      "  Iteration 19 (88.57 s, search 59.03 s): objective=2402.11 imbalance=1.505 nsplit=0       \n",
      "Outer iteration 4 / 10\n",
      "  Iteration 19 (110.74 s, search 73.80 s): objective=2366.83 imbalance=1.512 nsplit=0       \n",
      "Outer iteration 5 / 10\n",
      "  Iteration 19 (132.90 s, search 88.56 s): objective=2406.95 imbalance=1.220 nsplit=0       \n",
      "Outer iteration 6 / 10\n",
      "  Iteration 19 (155.47 s, search 103.55 s): objective=2382.07 imbalance=1.286 nsplit=0       \n",
      "Outer iteration 7 / 10\n",
      "  Iteration 19 (177.63 s, search 118.31 s): objective=2397.77 imbalance=1.143 nsplit=0       \n",
      "Outer iteration 8 / 10\n",
      "  Iteration 19 (199.77 s, search 133.07 s): objective=2403.82 imbalance=1.215 nsplit=0       \n",
      "Outer iteration 9 / 10\n",
      "  Iteration 19 (221.93 s, search 147.84 s): objective=2371.26 imbalance=1.275 nsplit=0       \n",
      "Clustering 8000 points in 267264D to 13 clusters, redo 10 times, 20 iterations\n",
      "  Preprocessing in 1.12 s\n",
      "Outer iteration 0 / 10\n",
      "  Iteration 19 (22.19 s, search 14.78 s): objective=2413.78 imbalance=1.307 nsplit=0       \n",
      "Objective improved: keep new clusters\n",
      "Outer iteration 1 / 10\n",
      "  Iteration 19 (44.42 s, search 29.58 s): objective=2421.81 imbalance=1.511 nsplit=0       \n",
      "Objective improved: keep new clusters\n",
      "Outer iteration 2 / 10\n",
      "  Iteration 19 (66.60 s, search 44.35 s): objective=2416.65 imbalance=1.411 nsplit=0       \n",
      "Outer iteration 3 / 10\n",
      "  Iteration 19 (88.78 s, search 59.13 s): objective=2402.33 imbalance=1.353 nsplit=0       \n",
      "Outer iteration 4 / 10\n",
      "  Iteration 19 (110.94 s, search 73.90 s): objective=2385.76 imbalance=1.417 nsplit=0       \n",
      "Outer iteration 5 / 10\n",
      "  Iteration 19 (133.10 s, search 88.65 s): objective=2420.58 imbalance=1.137 nsplit=0       \n",
      "Outer iteration 6 / 10\n",
      "  Iteration 19 (155.28 s, search 103.42 s): objective=2391.07 imbalance=1.255 nsplit=0       \n",
      "Outer iteration 7 / 10\n",
      "  Iteration 19 (177.47 s, search 118.19 s): objective=2400.47 imbalance=1.264 nsplit=0       \n",
      "Outer iteration 8 / 10\n",
      "  Iteration 19 (199.66 s, search 132.96 s): objective=2420.66 imbalance=1.325 nsplit=0       \n",
      "Outer iteration 9 / 10\n",
      "  Iteration 19 (221.83 s, search 147.73 s): objective=2381.59 imbalance=1.398 nsplit=0       \n",
      "Clustering 8000 points in 267264D to 14 clusters, redo 10 times, 20 iterations\n",
      "  Preprocessing in 1.12 s\n",
      "Outer iteration 0 / 10\n",
      "  Iteration 19 (22.16 s, search 14.76 s): objective=2418.1 imbalance=1.367 nsplit=0        \n",
      "Objective improved: keep new clusters\n",
      "Outer iteration 1 / 10\n",
      "  Iteration 19 (44.36 s, search 29.54 s): objective=2429.39 imbalance=1.682 nsplit=0       \n",
      "Objective improved: keep new clusters\n",
      "Outer iteration 2 / 10\n",
      "  Iteration 19 (66.55 s, search 44.31 s): objective=2425.8 imbalance=1.362 nsplit=0        \n",
      "Outer iteration 3 / 10\n",
      "  Iteration 19 (88.75 s, search 59.09 s): objective=2416.22 imbalance=1.469 nsplit=0       \n",
      "Outer iteration 4 / 10\n",
      "  Iteration 19 (110.95 s, search 73.86 s): objective=2388.12 imbalance=1.515 nsplit=0       \n",
      "Outer iteration 5 / 10\n",
      "  Iteration 19 (133.17 s, search 88.65 s): objective=2410.57 imbalance=1.253 nsplit=0       \n",
      "Outer iteration 6 / 10\n",
      "  Iteration 19 (155.37 s, search 103.43 s): objective=2417.73 imbalance=1.229 nsplit=0       \n",
      "Outer iteration 7 / 10\n",
      "  Iteration 19 (177.57 s, search 118.19 s): objective=2404.18 imbalance=1.341 nsplit=0       \n",
      "Outer iteration 8 / 10\n",
      "  Iteration 19 (199.75 s, search 132.95 s): objective=2438.31 imbalance=1.366 nsplit=0       \n",
      "Objective improved: keep new clusters\n",
      "Outer iteration 9 / 10\n",
      "  Iteration 19 (221.97 s, search 147.72 s): objective=2389.1 imbalance=1.482 nsplit=0        \n",
      "Clustering 8000 points in 267264D to 15 clusters, redo 10 times, 20 iterations\n",
      "  Preprocessing in 1.12 s\n",
      "Outer iteration 0 / 10\n",
      "  Iteration 19 (22.21 s, search 14.78 s): objective=2416.67 imbalance=1.491 nsplit=0       \n",
      "Objective improved: keep new clusters\n",
      "Outer iteration 1 / 10\n",
      "  Iteration 19 (44.42 s, search 29.56 s): objective=2426.63 imbalance=1.450 nsplit=0       \n",
      "Objective improved: keep new clusters\n",
      "Outer iteration 2 / 10\n",
      "  Iteration 19 (66.63 s, search 44.33 s): objective=2427.36 imbalance=1.452 nsplit=0       \n",
      "Objective improved: keep new clusters\n",
      "Outer iteration 3 / 10\n",
      "  Iteration 19 (88.84 s, search 59.10 s): objective=2421.74 imbalance=1.278 nsplit=0       \n",
      "Outer iteration 4 / 10\n",
      "  Iteration 19 (111.03 s, search 73.87 s): objective=2422.22 imbalance=1.400 nsplit=0       \n",
      "Outer iteration 5 / 10\n",
      "  Iteration 19 (133.27 s, search 88.66 s): objective=2413.11 imbalance=1.311 nsplit=0       \n",
      "Outer iteration 6 / 10\n",
      "  Iteration 19 (155.51 s, search 103.45 s): objective=2421.39 imbalance=1.212 nsplit=0       \n",
      "Outer iteration 7 / 10\n",
      "  Iteration 19 (177.74 s, search 118.22 s): objective=2400.32 imbalance=1.411 nsplit=0       \n",
      "Outer iteration 8 / 10\n",
      "  Iteration 19 (199.95 s, search 132.99 s): objective=2440.82 imbalance=1.414 nsplit=0       \n",
      "Objective improved: keep new clusters\n",
      "Outer iteration 9 / 10\n",
      "Best Value of k:  1518 s, search 147.77 s): objective=2387.7 imbalance=1.406 nsplit=0        \n"
     ]
    },
    {
     "data": {
      "image/png": "[encoded data removed]",
      "text/plain": [
       "<Figure size 432x288 with 1 Axes>"
      ]
     },
     "metadata": {
      "needs_background": "light"
     },
     "output_type": "display_data"
    }
   ],
   "source": [
    "# Elbow Plot\n",
    "niter = 20\n",
    "verbose = True\n",
    "dim = X_train.shape[1]\n",
    "\n",
    "k_vals = [k for k in range(5, 16)]\n",
    "wccs = []\n",
    "for k in k_vals:\n",
    "    kmeans = faiss.Kmeans(dim, k, niter = niter, verbose = verbose, gpu = True, nredo = 10, spherical = True, max_points_per_centroid = 800)\n",
    "    kmeans.train(X_train)\n",
    "    wccs.append(kmeans.obj[-1])\n",
    "\n",
    "plt.plot(k_vals, wccs)\n",
    "\n",
    "#k_vals[np.argmax(wccs)]"
   ]
  },
  {
   "cell_type": "code",
   "execution_count": 16,
   "id": "289102b9",
   "metadata": {
    "scrolled": true,
    "tags": []
   },
   "outputs": [
    {
     "name": "stdout",
     "output_type": "stream",
     "text": [
      "\n",
      "Clustering 8000 points in 267264D to 10 clusters, redo 10 times, 20 iterations\n",
      "  Preprocessing in 1.12 s\n",
      "Outer iteration 0 / 10\n",
      "  Iteration 19 (22.05 s, search 14.76 s): objective=2372.75 imbalance=1.205 nsplit=0       \n",
      "Objective improved: keep new clusters\n",
      "Outer iteration 1 / 10\n",
      "  Iteration 19 (44.12 s, search 29.52 s): objective=2393.49 imbalance=1.647 nsplit=0       \n",
      "Objective improved: keep new clusters\n",
      "Outer iteration 2 / 10\n",
      "  Iteration 19 (66.16 s, search 44.27 s): objective=2391.65 imbalance=1.230 nsplit=0       \n",
      "Outer iteration 3 / 10\n",
      "  Iteration 19 (88.24 s, search 59.05 s): objective=2382.37 imbalance=1.366 nsplit=0       \n",
      "Outer iteration 4 / 10\n",
      "  Iteration 19 (110.29 s, search 73.78 s): objective=2345.79 imbalance=1.845 nsplit=0       \n",
      "Outer iteration 5 / 10\n",
      "  Iteration 19 (132.34 s, search 88.53 s): objective=2368.57 imbalance=1.255 nsplit=0       \n",
      "Outer iteration 6 / 10\n",
      "  Iteration 19 (154.41 s, search 103.29 s): objective=2367.41 imbalance=1.285 nsplit=0       \n",
      "Outer iteration 7 / 10\n",
      "  Iteration 19 (176.47 s, search 118.06 s): objective=2386.58 imbalance=1.177 nsplit=0       \n",
      "Outer iteration 8 / 10\n",
      "  Iteration 19 (198.53 s, search 132.82 s): objective=2379.6 imbalance=1.371 nsplit=0        \n",
      "Outer iteration 9 / 10\n",
      "  Iteration 19 (220.64 s, search 147.59 s): objective=2351.92 imbalance=1.081 nsplit=0       \r"
     ]
    },
    {
     "data": {
      "text/plain": [
       "2393.4873046875"
      ]
     },
     "execution_count": 16,
     "metadata": {},
     "output_type": "execute_result"
    }
   ],
   "source": [
    "# K-means Clustering\n",
    "\n",
    "# ncentroids = NUM_PROMPTS\n",
    "ncentroids = 10 # Elbow point - based on objective (sum of cosine similarities)\n",
    "niter = 20\n",
    "verbose = True\n",
    "dim = X_train.shape[1]\n",
    "kmeans = faiss.Kmeans(dim, ncentroids, niter = niter, verbose = verbose, gpu = True, nredo = 10, spherical = True, max_points_per_centroid = 800)\n",
    "kmeans.train(X_train)"
   ]
  },
  {
   "cell_type": "code",
   "execution_count": 17,
   "id": "19cf0f0a",
   "metadata": {
    "tags": []
   },
   "outputs": [
    {
     "data": {
      "text/plain": [
       "array([[-7.2434093e-03, -4.5633418e-03,  1.4185005e-04, ...,\n",
       "         0.0000000e+00,  0.0000000e+00,  0.0000000e+00],\n",
       "       [-8.9947749e-03, -5.6667142e-03,  1.7614776e-04, ...,\n",
       "         0.0000000e+00,  0.0000000e+00,  0.0000000e+00],\n",
       "       [-9.4632590e-03, -5.9618461e-03,  1.8532209e-04, ...,\n",
       "         0.0000000e+00,  0.0000000e+00,  0.0000000e+00],\n",
       "       ...,\n",
       "       [-8.1078485e-03, -5.1079481e-03,  1.5877873e-04, ...,\n",
       "         0.0000000e+00,  0.0000000e+00,  0.0000000e+00],\n",
       "       [-6.3845143e-03, -4.0222472e-03,  1.2503022e-04, ...,\n",
       "         5.1265738e-06, -2.1565485e-05, -2.1605617e-06],\n",
       "       [-7.9250773e-03, -4.9928031e-03,  1.5519944e-04, ...,\n",
       "         0.0000000e+00,  0.0000000e+00,  0.0000000e+00]], dtype=float32)"
      ]
     },
     "execution_count": 17,
     "metadata": {},
     "output_type": "execute_result"
    }
   ],
   "source": [
    "kmeans.centroids #cluster centers"
   ]
  },
  {
   "cell_type": "code",
   "execution_count": 18,
   "id": "61e726e9",
   "metadata": {
    "tags": []
   },
   "outputs": [
    {
     "name": "stdout",
     "output_type": "stream",
     "text": [
      "1.0000256\n",
      "1.0000032\n",
      "1.0000032\n",
      "1.0000665\n",
      "1.0000328\n",
      "1.0000358\n",
      "1.0000036\n",
      "1.000024\n",
      "1.0000113\n",
      "1.0000374\n"
     ]
    }
   ],
   "source": [
    "for centroid in kmeans.centroids:\n",
    "    print(np.linalg.norm(centroid))"
   ]
  },
  {
   "cell_type": "code",
   "execution_count": 19,
   "id": "e5e1fa18",
   "metadata": {
    "tags": []
   },
   "outputs": [
    {
     "data": {
      "text/plain": [
       "array([ 756.99981689, 2284.49804688, 2345.12915039, 2357.94555664,\n",
       "       2363.91967773, 2367.46411133, 2368.86547852, 2369.89599609,\n",
       "       2370.89648438, 2372.14868164, 2372.39624023, 2372.53100586,\n",
       "       2372.62426758, 2372.67114258, 2372.71411133, 2372.73193359,\n",
       "       2372.7409668 , 2372.74926758, 2372.75024414, 2372.75024414,\n",
       "        799.1272583 , 2261.57861328, 2341.63574219, 2358.4284668 ,\n",
       "       2368.30273438, 2374.22949219, 2376.82592773, 2380.03540039,\n",
       "       2385.21166992, 2387.21704102, 2388.78613281, 2390.0390625 ,\n",
       "       2391.08398438, 2392.04418945, 2392.75048828, 2393.14819336,\n",
       "       2393.32714844, 2393.42456055, 2393.47241211, 2393.48730469])"
      ]
     },
     "execution_count": 19,
     "metadata": {},
     "output_type": "execute_result"
    }
   ],
   "source": [
    "kmeans.obj #inertia at each iteration"
   ]
  },
  {
   "cell_type": "code",
   "execution_count": 20,
   "id": "ed2c340d",
   "metadata": {
    "tags": []
   },
   "outputs": [],
   "source": [
    "cos_similarities = X_train @ kmeans.centroids.T\n",
    "classifications_train = np.argmax(cos_similarities, axis=1)"
   ]
  },
  {
   "cell_type": "code",
   "execution_count": 21,
   "id": "90aae79f",
   "metadata": {
    "tags": []
   },
   "outputs": [
    {
     "data": {
      "text/plain": [
       "8    2605\n",
       "0    1140\n",
       "4     719\n",
       "2     690\n",
       "6     672\n",
       "5     622\n",
       "9     501\n",
       "1     440\n",
       "3     330\n",
       "7     281\n",
       "dtype: int64"
      ]
     },
     "execution_count": 21,
     "metadata": {},
     "output_type": "execute_result"
    }
   ],
   "source": [
    "pd.Series(classifications_train).value_counts()"
   ]
  },
  {
   "cell_type": "code",
   "execution_count": 22,
   "id": "fc34c419-5d92-4dc6-8db4-9dc84b83a8d4",
   "metadata": {
    "tags": []
   },
   "outputs": [
    {
     "data": {
      "text/plain": [
       "[6, 2, 8, 4, 5, 3, 6, 9, 1, 10]"
      ]
     },
     "execution_count": 22,
     "metadata": {},
     "output_type": "execute_result"
    }
   ],
   "source": [
    "# Get most common label for each point classified to a centroid (same centroid)\n",
    "centroid_labels = [np.where(classifications_train == i)[0] for i in range(ncentroids)]\n",
    "max_label_per_centroid = [int(pd.Series(y_train[centroid_labels[i]]).value_counts().idxmax()) for i in range(ncentroids)]\n",
    "max_label_per_centroid"
   ]
  },
  {
   "cell_type": "code",
   "execution_count": 23,
   "id": "20e159a9-ef63-4a0e-8e94-52e041a5c416",
   "metadata": {
    "tags": []
   },
   "outputs": [],
   "source": [
    "centroid_to_label = {idx : max_label_per_centroid[idx] for idx in range(len(max_label_per_centroid))}"
   ]
  },
  {
   "cell_type": "code",
   "execution_count": 24,
   "id": "45760bd2-820d-462e-a8ef-8d054ed5dde4",
   "metadata": {
    "tags": []
   },
   "outputs": [
    {
     "data": {
      "text/plain": [
       "{0: 6, 1: 2, 2: 8, 3: 4, 4: 5, 5: 3, 6: 6, 7: 9, 8: 1, 9: 10}"
      ]
     },
     "execution_count": 24,
     "metadata": {},
     "output_type": "execute_result"
    }
   ],
   "source": [
    "centroid_to_label"
   ]
  },
  {
   "cell_type": "code",
   "execution_count": 25,
   "id": "b9cf2ac5-ce04-4efe-9828-041723e1f453",
   "metadata": {
    "tags": []
   },
   "outputs": [
    {
     "data": {
      "text/plain": [
       "array([ 6,  6,  9, ..., 10, 10,  1])"
      ]
     },
     "execution_count": 25,
     "metadata": {},
     "output_type": "execute_result"
    }
   ],
   "source": [
    "vectorized_map = np.vectorize(centroid_to_label.get)\n",
    "classifications_to_label = vectorized_map(classifications_train)\n",
    "\n",
    "classifications_to_label"
   ]
  },
  {
   "cell_type": "code",
   "execution_count": 26,
   "id": "c793f2dc-74de-4e3a-b0a8-3839b1be8dd9",
   "metadata": {
    "tags": []
   },
   "outputs": [
    {
     "name": "stdout",
     "output_type": "stream",
     "text": [
      "Prompt 1 Accuracy:  0.38375\n",
      "Prompt 2 Accuracy:  0.24625\n",
      "Prompt 3 Accuracy:  0.7775\n",
      "Prompt 4 Accuracy:  0.16875\n",
      "Prompt 5 Accuracy:  0.58125\n",
      "Prompt 6 Accuracy:  0.50875\n",
      "Prompt 7 Accuracy:  0.0\n",
      "Prompt 8 Accuracy:  0.26\n",
      "Prompt 9 Accuracy:  0.1875\n",
      "Prompt 10 Accuracy:  0.62625\n"
     ]
    }
   ],
   "source": [
    "for i in range(10):\n",
    "    print(f\"Prompt {i + 1} Accuracy: \", np.mean(classifications_to_label[i * 800:(i + 1) * 800] == (i + 1)))"
   ]
  },
  {
   "cell_type": "code",
   "execution_count": 27,
   "id": "ac9d3497-d991-455d-a121-1a4c234314b0",
   "metadata": {
    "tags": []
   },
   "outputs": [
    {
     "name": "stdout",
     "output_type": "stream",
     "text": [
      "Overall Accuracy:  0.374\n"
     ]
    }
   ],
   "source": [
    "print(f\"Overall Accuracy: \", np.mean(classifications_to_label == y_train))"
   ]
  },
  {
   "cell_type": "markdown",
   "id": "b8d32ef1-a624-4d32-abcb-8daacad47cdc",
   "metadata": {},
   "source": [
    "## Perform Inference on Test Set & Collect Test Accuracy"
   ]
  },
  {
   "cell_type": "code",
   "execution_count": 28,
   "id": "2431abbc-b684-4c06-8fd6-06c771a1c4fa",
   "metadata": {},
   "outputs": [],
   "source": [
    "cos_similarities = X_test @ kmeans.centroids.T\n",
    "classifications_test = np.argmax(cos_similarities, axis=1)"
   ]
  },
  {
   "cell_type": "code",
   "execution_count": 29,
   "id": "d9a7dd1c-884b-4bef-b538-6c0a65a6f7e4",
   "metadata": {},
   "outputs": [
    {
     "data": {
      "text/plain": [
       "8    648\n",
       "0    302\n",
       "2    178\n",
       "4    175\n",
       "6    173\n",
       "5    146\n",
       "9    114\n",
       "1    113\n",
       "7     76\n",
       "3     75\n",
       "dtype: int64"
      ]
     },
     "execution_count": 29,
     "metadata": {},
     "output_type": "execute_result"
    }
   ],
   "source": [
    "pd.Series(classifications_test).value_counts()"
   ]
  },
  {
   "cell_type": "code",
   "execution_count": 30,
   "id": "6fa74238-a2b3-4277-bcd6-88ab9d5caf4f",
   "metadata": {},
   "outputs": [
    {
     "data": {
      "text/plain": [
       "array([ 8,  1,  6, ..., 10,  1,  1])"
      ]
     },
     "execution_count": 30,
     "metadata": {},
     "output_type": "execute_result"
    }
   ],
   "source": [
    "classifications_to_label_test = vectorized_map(classifications_test)\n",
    "\n",
    "classifications_to_label_test"
   ]
  },
  {
   "cell_type": "code",
   "execution_count": 31,
   "id": "799e3a99-6659-44b7-becd-4d0825fd1957",
   "metadata": {},
   "outputs": [
    {
     "name": "stdout",
     "output_type": "stream",
     "text": [
      "Prompt 1 Accuracy:  0.3\n",
      "Prompt 2 Accuracy:  0.285\n",
      "Prompt 3 Accuracy:  0.73\n",
      "Prompt 4 Accuracy:  0.13\n",
      "Prompt 5 Accuracy:  0.62\n",
      "Prompt 6 Accuracy:  0.455\n",
      "Prompt 7 Accuracy:  0.0\n",
      "Prompt 8 Accuracy:  0.295\n",
      "Prompt 9 Accuracy:  0.215\n",
      "Prompt 10 Accuracy:  0.57\n"
     ]
    }
   ],
   "source": [
    "for i in range(10):\n",
    "    print(f\"Prompt {i + 1} Accuracy: \", np.mean(classifications_to_label_test[i * 200:(i + 1) * 200] == (i + 1)))"
   ]
  },
  {
   "cell_type": "code",
   "execution_count": 32,
   "id": "4f97cfa0-27da-4897-8e65-681b75ad51d7",
   "metadata": {},
   "outputs": [
    {
     "name": "stdout",
     "output_type": "stream",
     "text": [
      "Overall Accuracy:  0.36\n"
     ]
    }
   ],
   "source": [
    "print(f\"Overall Accuracy: \", np.mean(classifications_to_label_test == y_test))"
   ]
  },
  {
   "cell_type": "markdown",
   "id": "ee076424-49c5-4245-a3a3-56fba51465ea",
   "metadata": {},
   "source": [
    "## Confusion Matrix of Results"
   ]
  },
  {
   "cell_type": "code",
   "execution_count": 33,
   "id": "b9175267-2fef-4f02-930e-c263ec396f91",
   "metadata": {
    "tags": []
   },
   "outputs": [],
   "source": [
    "from sklearn.metrics import confusion_matrix, ConfusionMatrixDisplay\n",
    "import matplotlib.pyplot as plt"
   ]
  },
  {
   "cell_type": "code",
   "execution_count": 34,
   "id": "3c2c3ac7-26e3-42d5-860a-918d735776c1",
   "metadata": {
    "tags": []
   },
   "outputs": [
    {
     "data": {
      "image/png": "[encoded data removed]",
      "text/plain": [
       "<Figure size 432x288 with 2 Axes>"
      ]
     },
     "metadata": {
      "needs_background": "light"
     },
     "output_type": "display_data"
    }
   ],
   "source": [
    "cm = confusion_matrix(y_train, classifications_to_label)\n",
    "disp = ConfusionMatrixDisplay(confusion_matrix=cm, display_labels=[f\"{i}\" for i in range(1, 11)])\n",
    "\n",
    "disp.plot()\n",
    "plt.title('Confusion Matrix for Train Set')\n",
    "plt.show()"
   ]
  },
  {
   "cell_type": "code",
   "execution_count": 35,
   "id": "03a45427-f767-4838-968e-c341eca03746",
   "metadata": {
    "tags": []
   },
   "outputs": [
    {
     "data": {
      "image/png": "[encoded data removed]",
      "text/plain": [
       "<Figure size 432x288 with 2 Axes>"
      ]
     },
     "metadata": {
      "needs_background": "light"
     },
     "output_type": "display_data"
    }
   ],
   "source": [
    "cm = confusion_matrix(y_test, classifications_to_label_test)\n",
    "disp = ConfusionMatrixDisplay(confusion_matrix=cm, display_labels=[f\"{i}\" for i in range(1, 11)])\n",
    "\n",
    "disp.plot()\n",
    "plt.title('Confusion Matrix for Test Set')\n",
    "plt.show()"
   ]
  },
  {
   "cell_type": "code",
   "execution_count": null,
   "id": "1322b9ab-2b94-4d00-95cf-1b3741b9f482",
   "metadata": {},
   "outputs": [],
   "source": []
  }
 ],
 "metadata": {
  "kernelspec": {
   "display_name": "Python 3 (ipykernel)",
   "language": "python",
   "name": "python3"
  },
  "language_info": {
   "codemirror_mode": {
    "name": "ipython",
    "version": 3
   },
   "file_extension": ".py",
   "mimetype": "text/x-python",
   "name": "python",
   "nbconvert_exporter": "python",
   "pygments_lexer": "ipython3",
   "version": "3.7.11"
  }
 },
 "nbformat": 4,
 "nbformat_minor": 5
}
