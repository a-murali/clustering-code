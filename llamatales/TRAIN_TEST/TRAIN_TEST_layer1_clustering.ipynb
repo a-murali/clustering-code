{
 "cells": [
  {
   "cell_type": "markdown",
   "id": "64c867a4-b1c3-426b-b086-de071a726ebf",
   "metadata": {},
   "source": [
    "## Install Packages"
   ]
  },
  {
   "cell_type": "code",
   "execution_count": 1,
   "id": "80849741",
   "metadata": {
    "tags": []
   },
   "outputs": [
    {
     "name": "stdout",
     "output_type": "stream",
     "text": [
      "Collecting package metadata (current_repodata.json): - WARNING conda.models.version:get_matcher(541): Using .* with relational operator is superfluous and deprecated and will be removed in a future version of conda. Your spec was 1.7.1.*, but conda is ignoring the .* and treating it as 1.7.1\n",
      "done\n",
      "Solving environment: done\n",
      "\n",
      "\n",
      "==> WARNING: A newer version of conda exists. <==\n",
      "  current version: 4.14.0\n",
      "  latest version: 25.7.0\n",
      "\n",
      "Please update conda by running\n",
      "\n",
      "    $ conda update -n base -c conda-forge conda\n",
      "\n",
      "\n",
      "\n",
      "# All requested packages already installed.\n",
      "\n",
      "Retrieving notices: ...working... done\n",
      "Hit:1 http://archive.ubuntu.com/ubuntu bionic InRelease\n",
      "Hit:2 http://archive.ubuntu.com/ubuntu bionic-updates InRelease                \n",
      "Hit:3 http://archive.ubuntu.com/ubuntu bionic-backports InRelease              \n",
      "Hit:4 http://security.ubuntu.com/ubuntu bionic-security InRelease              \n",
      "Reading package lists... Done                                   \n",
      "Reading package lists... Done\n",
      "Building dependency tree       \n",
      "Reading state information... Done\n",
      "libatlas-base-dev is already the newest version (3.10.3-5).\n",
      "0 upgraded, 0 newly installed, 0 to remove and 83 not upgraded.\n"
     ]
    }
   ],
   "source": [
    "!conda install -y -c conda-forge faiss-gpu\n",
    "!apt-get -y update\n",
    "!apt-get -y install libatlas-base-dev"
   ]
  },
  {
   "cell_type": "markdown",
   "id": "ea6af1a5-1aef-4743-bfa6-7392ed97dbe7",
   "metadata": {},
   "source": [
    "## Load Data"
   ]
  },
  {
   "cell_type": "code",
   "execution_count": 2,
   "id": "e26dddbf",
   "metadata": {
    "tags": []
   },
   "outputs": [],
   "source": [
    "import pandas as pd\n",
    "import numpy as np\n",
    "import matplotlib.pyplot as plt\n",
    "\n",
    "from sklearn.random_projection import GaussianRandomProjection\n",
    "\n",
    "from tqdm import tqdm\n",
    "\n",
    "import faiss"
   ]
  },
  {
   "cell_type": "code",
   "execution_count": 3,
   "id": "89c2cffa",
   "metadata": {
    "tags": []
   },
   "outputs": [
    {
     "data": {
      "text/html": [
       "<div>\n",
       "<style scoped>\n",
       "    .dataframe tbody tr th:only-of-type {\n",
       "        vertical-align: middle;\n",
       "    }\n",
       "\n",
       "    .dataframe tbody tr th {\n",
       "        vertical-align: top;\n",
       "    }\n",
       "\n",
       "    .dataframe thead th {\n",
       "        text-align: right;\n",
       "    }\n",
       "</style>\n",
       "<table border=\"1\" class=\"dataframe\">\n",
       "  <thead>\n",
       "    <tr style=\"text-align: right;\">\n",
       "      <th></th>\n",
       "      <th>prompt_id</th>\n",
       "      <th>prompt</th>\n",
       "      <th>story</th>\n",
       "      <th>hidden_state_file</th>\n",
       "      <th>len_generated_story</th>\n",
       "      <th>len_new_story</th>\n",
       "    </tr>\n",
       "  </thead>\n",
       "  <tbody>\n",
       "    <tr>\n",
       "      <th>0</th>\n",
       "      <td>1</td>\n",
       "      <td>Once upon a time there was a dragon</td>\n",
       "      <td>Once upon a time there was a dragon named Blaz...</td>\n",
       "      <td>./hidden_states/prompt_1.npz</td>\n",
       "      <td>270</td>\n",
       "      <td>271</td>\n",
       "    </tr>\n",
       "    <tr>\n",
       "      <th>1</th>\n",
       "      <td>1</td>\n",
       "      <td>Once upon a time there was a dragon</td>\n",
       "      <td>Once upon a time there was a dragon named Spar...</td>\n",
       "      <td>./hidden_states/prompt_1.npz</td>\n",
       "      <td>349</td>\n",
       "      <td>350</td>\n",
       "    </tr>\n",
       "    <tr>\n",
       "      <th>2</th>\n",
       "      <td>1</td>\n",
       "      <td>Once upon a time there was a dragon</td>\n",
       "      <td>Once upon a time there was a dragon named Scor...</td>\n",
       "      <td>./hidden_states/prompt_1.npz</td>\n",
       "      <td>278</td>\n",
       "      <td>278</td>\n",
       "    </tr>\n",
       "    <tr>\n",
       "      <th>3</th>\n",
       "      <td>1</td>\n",
       "      <td>Once upon a time there was a dragon</td>\n",
       "      <td>Once upon a time there was a dragon. The drago...</td>\n",
       "      <td>./hidden_states/prompt_1.npz</td>\n",
       "      <td>117</td>\n",
       "      <td>118</td>\n",
       "    </tr>\n",
       "    <tr>\n",
       "      <th>4</th>\n",
       "      <td>1</td>\n",
       "      <td>Once upon a time there was a dragon</td>\n",
       "      <td>Once upon a time there was a dragon. The drago...</td>\n",
       "      <td>./hidden_states/prompt_1.npz</td>\n",
       "      <td>129</td>\n",
       "      <td>130</td>\n",
       "    </tr>\n",
       "    <tr>\n",
       "      <th>...</th>\n",
       "      <td>...</td>\n",
       "      <td>...</td>\n",
       "      <td>...</td>\n",
       "      <td>...</td>\n",
       "      <td>...</td>\n",
       "      <td>...</td>\n",
       "    </tr>\n",
       "    <tr>\n",
       "      <th>9995</th>\n",
       "      <td>10</td>\n",
       "      <td>Once upon a time there was a poor boy</td>\n",
       "      <td>Once upon a time there was a poor boy named Ti...</td>\n",
       "      <td>./hidden_states/prompt_10.npz</td>\n",
       "      <td>289</td>\n",
       "      <td>290</td>\n",
       "    </tr>\n",
       "    <tr>\n",
       "      <th>9996</th>\n",
       "      <td>10</td>\n",
       "      <td>Once upon a time there was a poor boy</td>\n",
       "      <td>Once upon a time there was a poor boy named Ti...</td>\n",
       "      <td>./hidden_states/prompt_10.npz</td>\n",
       "      <td>119</td>\n",
       "      <td>119</td>\n",
       "    </tr>\n",
       "    <tr>\n",
       "      <th>9997</th>\n",
       "      <td>10</td>\n",
       "      <td>Once upon a time there was a poor boy</td>\n",
       "      <td>Once upon a time there was a poor boy named Ti...</td>\n",
       "      <td>./hidden_states/prompt_10.npz</td>\n",
       "      <td>127</td>\n",
       "      <td>128</td>\n",
       "    </tr>\n",
       "    <tr>\n",
       "      <th>9998</th>\n",
       "      <td>10</td>\n",
       "      <td>Once upon a time there was a poor boy</td>\n",
       "      <td>Once upon a time there was a poor boy named Ti...</td>\n",
       "      <td>./hidden_states/prompt_10.npz</td>\n",
       "      <td>441</td>\n",
       "      <td>441</td>\n",
       "    </tr>\n",
       "    <tr>\n",
       "      <th>9999</th>\n",
       "      <td>10</td>\n",
       "      <td>Once upon a time there was a poor boy</td>\n",
       "      <td>Once upon a time there was a poor boy named Ti...</td>\n",
       "      <td>./hidden_states/prompt_10.npz</td>\n",
       "      <td>520</td>\n",
       "      <td>521</td>\n",
       "    </tr>\n",
       "  </tbody>\n",
       "</table>\n",
       "<p>10000 rows × 6 columns</p>\n",
       "</div>"
      ],
      "text/plain": [
       "      prompt_id                                 prompt  \\\n",
       "0             1    Once upon a time there was a dragon   \n",
       "1             1    Once upon a time there was a dragon   \n",
       "2             1    Once upon a time there was a dragon   \n",
       "3             1    Once upon a time there was a dragon   \n",
       "4             1    Once upon a time there was a dragon   \n",
       "...         ...                                    ...   \n",
       "9995         10  Once upon a time there was a poor boy   \n",
       "9996         10  Once upon a time there was a poor boy   \n",
       "9997         10  Once upon a time there was a poor boy   \n",
       "9998         10  Once upon a time there was a poor boy   \n",
       "9999         10  Once upon a time there was a poor boy   \n",
       "\n",
       "                                                  story  \\\n",
       "0     Once upon a time there was a dragon named Blaz...   \n",
       "1     Once upon a time there was a dragon named Spar...   \n",
       "2     Once upon a time there was a dragon named Scor...   \n",
       "3     Once upon a time there was a dragon. The drago...   \n",
       "4     Once upon a time there was a dragon. The drago...   \n",
       "...                                                 ...   \n",
       "9995  Once upon a time there was a poor boy named Ti...   \n",
       "9996  Once upon a time there was a poor boy named Ti...   \n",
       "9997  Once upon a time there was a poor boy named Ti...   \n",
       "9998  Once upon a time there was a poor boy named Ti...   \n",
       "9999  Once upon a time there was a poor boy named Ti...   \n",
       "\n",
       "                  hidden_state_file  len_generated_story  len_new_story  \n",
       "0      ./hidden_states/prompt_1.npz                  270            271  \n",
       "1      ./hidden_states/prompt_1.npz                  349            350  \n",
       "2      ./hidden_states/prompt_1.npz                  278            278  \n",
       "3      ./hidden_states/prompt_1.npz                  117            118  \n",
       "4      ./hidden_states/prompt_1.npz                  129            130  \n",
       "...                             ...                  ...            ...  \n",
       "9995  ./hidden_states/prompt_10.npz                  289            290  \n",
       "9996  ./hidden_states/prompt_10.npz                  119            119  \n",
       "9997  ./hidden_states/prompt_10.npz                  127            128  \n",
       "9998  ./hidden_states/prompt_10.npz                  441            441  \n",
       "9999  ./hidden_states/prompt_10.npz                  520            521  \n",
       "\n",
       "[10000 rows x 6 columns]"
      ]
     },
     "execution_count": 3,
     "metadata": {},
     "output_type": "execute_result"
    }
   ],
   "source": [
    "df = pd.read_csv(\"../story_dataset.csv\")\n",
    "df"
   ]
  },
  {
   "cell_type": "code",
   "execution_count": 4,
   "id": "c081cc09",
   "metadata": {
    "tags": []
   },
   "outputs": [
    {
     "data": {
      "text/plain": [
       "522"
      ]
     },
     "execution_count": 4,
     "metadata": {},
     "output_type": "execute_result"
    }
   ],
   "source": [
    "max_story_len = max(df[\"len_generated_story\"])\n",
    "max_story_len"
   ]
  },
  {
   "cell_type": "code",
   "execution_count": 5,
   "id": "212c067a",
   "metadata": {
    "scrolled": true,
    "tags": []
   },
   "outputs": [
    {
     "name": "stderr",
     "output_type": "stream",
     "text": [
      "100%|███████████████████████████████████████████████████████████████████████████████| 1000/1000 [04:27<00:00,  3.74it/s]\n",
      "100%|███████████████████████████████████████████████████████████████████████████████| 1000/1000 [03:43<00:00,  4.47it/s]\n",
      "100%|███████████████████████████████████████████████████████████████████████████████| 1000/1000 [03:25<00:00,  4.86it/s]\n",
      "100%|███████████████████████████████████████████████████████████████████████████████| 1000/1000 [04:05<00:00,  4.07it/s]\n",
      "100%|███████████████████████████████████████████████████████████████████████████████| 1000/1000 [03:56<00:00,  4.23it/s]\n",
      "100%|███████████████████████████████████████████████████████████████████████████████| 1000/1000 [03:49<00:00,  4.36it/s]\n",
      "100%|███████████████████████████████████████████████████████████████████████████████| 1000/1000 [03:37<00:00,  4.59it/s]\n",
      "100%|███████████████████████████████████████████████████████████████████████████████| 1000/1000 [03:46<00:00,  4.42it/s]\n",
      "100%|███████████████████████████████████████████████████████████████████████████████| 1000/1000 [03:56<00:00,  4.23it/s]\n",
      "100%|███████████████████████████████████████████████████████████████████████████████| 1000/1000 [03:58<00:00,  4.19it/s]\n"
     ]
    }
   ],
   "source": [
    "hidden_states_by_layer = {}\n",
    "NUM_PROMPTS = 10\n",
    "\n",
    "for prompt_id in range(1, NUM_PROMPTS + 1):\n",
    "    with np.load(f'../hidden_states/prompt_{prompt_id}.npz') as loaded_data:\n",
    "        for i in tqdm(range(1000)):\n",
    "            curr_hidden_states = loaded_data[f\"arr_{i}\"][0]\n",
    "#             print(curr_hidden_states.shape)\n",
    "            for layer in range(1, 2):\n",
    "                padded_arr = np.zeros((max_story_len, 512))\n",
    "                padded_arr_len = len(curr_hidden_states[layer][0])\n",
    "                \n",
    "                padded_arr[:padded_arr_len] = curr_hidden_states[layer][0]\n",
    "                \n",
    "                padded_arr = padded_arr.flatten().astype('float32') #FAISS expects data in type float32 instead of float64 - saves memory too!\n",
    "#                 print(padded_arr.shape)\n",
    "                \n",
    "                if(f\"layer_{layer}\" in hidden_states_by_layer):\n",
    "                    hidden_states_by_layer[f\"layer_{layer}\"].append(padded_arr)\n",
    "                else:\n",
    "                    hidden_states_by_layer[f\"layer_{layer}\"] = [padded_arr]"
   ]
  },
  {
   "cell_type": "code",
   "execution_count": 6,
   "id": "ad23eb70",
   "metadata": {
    "tags": []
   },
   "outputs": [
    {
     "data": {
      "text/plain": [
       "(10000, 267264)"
      ]
     },
     "execution_count": 6,
     "metadata": {},
     "output_type": "execute_result"
    }
   ],
   "source": [
    "layer_hs_array = np.array(hidden_states_by_layer[\"layer_1\"])\n",
    "layer_hs_array.shape"
   ]
  },
  {
   "cell_type": "markdown",
   "id": "e44eecd8-9f29-457b-8f65-d8eae3b84eb8",
   "metadata": {},
   "source": [
    "## Layer 1 Clustering"
   ]
  },
  {
   "cell_type": "code",
   "execution_count": 7,
   "id": "49cf7b1b",
   "metadata": {
    "tags": []
   },
   "outputs": [],
   "source": [
    "# Use original vectors for clustering - uncomment next line and comment out last two lines\n",
    "\n",
    "dim_reduced_vecs = layer_hs_array\n",
    "\n",
    "# random_projector = GaussianRandomProjection(random_state = 42)\n",
    "# dim_reduced_vecs = random_projector.fit_transform(layer_hs_array).astype('float32')"
   ]
  },
  {
   "cell_type": "code",
   "execution_count": 8,
   "id": "b9257701",
   "metadata": {
    "tags": []
   },
   "outputs": [
    {
     "data": {
      "text/plain": [
       "(10000, 267264)"
      ]
     },
     "execution_count": 8,
     "metadata": {},
     "output_type": "execute_result"
    }
   ],
   "source": [
    "dim_reduced_vecs = np.array([v / np.linalg.norm(v) for v in dim_reduced_vecs])\n",
    "dim_reduced_vecs.shape"
   ]
  },
  {
   "cell_type": "code",
   "execution_count": 9,
   "id": "22e1c2a5-03fa-43fd-90d4-609a0d949829",
   "metadata": {
    "tags": []
   },
   "outputs": [
    {
     "data": {
      "text/plain": [
       "array([ 1,  1,  1, ..., 10, 10, 10])"
      ]
     },
     "execution_count": 9,
     "metadata": {},
     "output_type": "execute_result"
    }
   ],
   "source": [
    "prompt_ids = df[\"prompt_id\"]\n",
    "prompt_ids = prompt_ids.to_numpy()\n",
    "prompt_ids"
   ]
  },
  {
   "cell_type": "code",
   "execution_count": 10,
   "id": "bd963a3c-0ad1-416a-9fc6-a13bf2422fcd",
   "metadata": {},
   "outputs": [],
   "source": [
    "X_train = np.zeros((int(0.8 * dim_reduced_vecs.shape[0]), dim_reduced_vecs.shape[1]), dtype = np.float32)\n",
    "y_train = np.zeros(int(0.8 * dim_reduced_vecs.shape[0]))\n",
    "\n",
    "X_test = np.zeros((int(0.2 * dim_reduced_vecs.shape[0]), dim_reduced_vecs.shape[1]), dtype = np.float32)\n",
    "y_test = np.zeros(int(0.2 * dim_reduced_vecs.shape[0]))"
   ]
  },
  {
   "cell_type": "code",
   "execution_count": 11,
   "id": "6b84c6a1-29cc-4096-9eb1-420301a7065f",
   "metadata": {},
   "outputs": [],
   "source": [
    "for i in range(10):\n",
    "    X_train[i * 800 : (i + 1) * 800] = dim_reduced_vecs[i * 1000 : (i * 1000) + 800]\n",
    "    y_train[i * 800 : (i + 1) * 800] = prompt_ids[i * 1000 : (i * 1000) + 800]\n",
    "    \n",
    "    X_test[i * 200 : (i + 1) * 200] = dim_reduced_vecs[(i * 1000) + 800 : (i + 1) * 1000]\n",
    "    y_test[i * 200 : (i + 1) * 200] = prompt_ids[(i * 1000) + 800 : (i + 1) * 1000]"
   ]
  },
  {
   "cell_type": "code",
   "execution_count": 12,
   "id": "e7c2f695-573c-4abe-ab7b-eaa4a1661cd2",
   "metadata": {},
   "outputs": [
    {
     "name": "stdout",
     "output_type": "stream",
     "text": [
      "(8000, 267264)\n",
      "(8000,)\n",
      "(2000, 267264)\n",
      "(2000,)\n"
     ]
    }
   ],
   "source": [
    "print(X_train.shape)\n",
    "print(y_train.shape)\n",
    "print(X_test.shape)\n",
    "print(y_test.shape)"
   ]
  },
  {
   "cell_type": "code",
   "execution_count": 13,
   "id": "8aebf88b-1d51-48d2-945c-311b5fc70963",
   "metadata": {},
   "outputs": [
    {
     "name": "stdout",
     "output_type": "stream",
     "text": [
      "Sampling a subset of 4000 / 8000 for training\n",
      "Clustering 4000 points in 267264D to 5 clusters, redo 10 times, 20 iterations\n",
      "  Preprocessing in 3.87 s\n",
      "Outer iteration 0 / 10\n",
      "  Iteration 19 (11.02 s, search 7.36 s): objective=1757.38 imbalance=1.097 nsplit=0       \n",
      "Objective improved: keep new clusters\n",
      "Outer iteration 1 / 10\n",
      "  Iteration 19 (22.06 s, search 14.73 s): objective=1753.72 imbalance=1.085 nsplit=0       \n",
      "Outer iteration 2 / 10\n",
      "  Iteration 19 (33.08 s, search 22.09 s): objective=1749.07 imbalance=1.043 nsplit=0       \n",
      "Outer iteration 3 / 10\n",
      "  Iteration 19 (44.10 s, search 29.45 s): objective=1753.39 imbalance=1.077 nsplit=0       \n",
      "Outer iteration 4 / 10\n",
      "  Iteration 19 (55.11 s, search 36.79 s): objective=1756.19 imbalance=1.434 nsplit=0       \n",
      "Outer iteration 5 / 10\n",
      "  Iteration 19 (66.13 s, search 44.15 s): objective=1753.1 imbalance=1.076 nsplit=0        \n",
      "Outer iteration 6 / 10\n",
      "  Iteration 19 (77.16 s, search 51.50 s): objective=1749.23 imbalance=1.059 nsplit=0       \n",
      "Outer iteration 7 / 10\n",
      "  Iteration 19 (88.17 s, search 58.86 s): objective=1746.96 imbalance=1.339 nsplit=0       \n",
      "Outer iteration 8 / 10\n",
      "  Iteration 19 (99.21 s, search 66.23 s): objective=1749.49 imbalance=1.031 nsplit=0       \n",
      "Outer iteration 9 / 10\n",
      "  Iteration 19 (110.23 s, search 73.59 s): objective=1751.31 imbalance=1.118 nsplit=0       \n",
      "Sampling a subset of 4800 / 8000 for training\n",
      "Clustering 4800 points in 267264D to 6 clusters, redo 10 times, 20 iterations\n",
      "  Preprocessing in 3.46 s\n",
      "Outer iteration 0 / 10\n",
      "  Iteration 19 (13.27 s, search 8.87 s): objective=2111.25 imbalance=1.074 nsplit=0       \n",
      "Objective improved: keep new clusters\n",
      "Outer iteration 1 / 10\n",
      "  Iteration 19 (26.54 s, search 17.74 s): objective=2104.58 imbalance=1.185 nsplit=0       \n",
      "Outer iteration 2 / 10\n",
      "  Iteration 19 (39.81 s, search 26.60 s): objective=2115.65 imbalance=1.124 nsplit=0       \n",
      "Objective improved: keep new clusters\n",
      "Outer iteration 3 / 10\n",
      "  Iteration 19 (53.06 s, search 35.47 s): objective=2116.6 imbalance=1.126 nsplit=0        \n",
      "Objective improved: keep new clusters\n",
      "Outer iteration 4 / 10\n",
      "  Iteration 19 (66.33 s, search 44.34 s): objective=2114.98 imbalance=1.128 nsplit=0       \n",
      "Outer iteration 5 / 10\n",
      "  Iteration 19 (79.62 s, search 53.22 s): objective=2116.6 imbalance=1.119 nsplit=0        \n",
      "Outer iteration 6 / 10\n",
      "  Iteration 19 (92.88 s, search 62.08 s): objective=2108.14 imbalance=1.137 nsplit=0       \n",
      "Outer iteration 7 / 10\n",
      "  Iteration 19 (106.14 s, search 70.94 s): objective=2107.57 imbalance=1.026 nsplit=0       \n",
      "Outer iteration 8 / 10\n",
      "  Iteration 19 (119.40 s, search 79.81 s): objective=2115.03 imbalance=1.142 nsplit=0       \n",
      "Outer iteration 9 / 10\n",
      "  Iteration 19 (132.70 s, search 88.70 s): objective=2115.89 imbalance=1.133 nsplit=0       \n",
      "Sampling a subset of 5600 / 8000 for training\n",
      "Clustering 5600 points in 267264D to 7 clusters, redo 10 times, 20 iterations\n",
      "  Preprocessing in 3.81 s\n",
      "Outer iteration 0 / 10\n",
      "  Iteration 19 (15.47 s, search 10.34 s): objective=2476.68 imbalance=1.205 nsplit=0       \n",
      "Objective improved: keep new clusters\n",
      "Outer iteration 1 / 10\n",
      "  Iteration 19 (30.93 s, search 20.66 s): objective=2475.54 imbalance=1.029 nsplit=0       \n",
      "Outer iteration 2 / 10\n",
      "  Iteration 19 (46.41 s, search 31.00 s): objective=2480 imbalance=1.075 nsplit=0          \n",
      "Objective improved: keep new clusters\n",
      "Outer iteration 3 / 10\n",
      "  Iteration 19 (61.88 s, search 41.33 s): objective=2457.42 imbalance=1.159 nsplit=0       \n",
      "Outer iteration 4 / 10\n",
      "  Iteration 19 (77.33 s, search 51.66 s): objective=2480.22 imbalance=1.184 nsplit=0       \n",
      "Objective improved: keep new clusters\n",
      "Outer iteration 5 / 10\n",
      "  Iteration 19 (92.81 s, search 62.00 s): objective=2473.09 imbalance=1.185 nsplit=0       \n",
      "Outer iteration 6 / 10\n",
      "  Iteration 19 (108.29 s, search 72.35 s): objective=2465.43 imbalance=1.011 nsplit=0       \n",
      "Outer iteration 7 / 10\n",
      "  Iteration 19 (123.76 s, search 82.68 s): objective=2453.85 imbalance=1.043 nsplit=0       \n",
      "Outer iteration 8 / 10\n",
      "  Iteration 19 (139.23 s, search 93.02 s): objective=2467.42 imbalance=1.086 nsplit=0       \n",
      "Outer iteration 9 / 10\n",
      "  Iteration 19 (154.70 s, search 103.34 s): objective=2479.67 imbalance=1.054 nsplit=0       \n",
      "Sampling a subset of 6400 / 8000 for training\n",
      "Clustering 6400 points in 267264D to 8 clusters, redo 10 times, 20 iterations\n",
      "  Preprocessing in 4.17 s\n",
      "Outer iteration 0 / 10\n",
      "  Iteration 19 (17.67 s, search 11.81 s): objective=2834.79 imbalance=1.127 nsplit=0       \n",
      "Objective improved: keep new clusters\n",
      "Outer iteration 1 / 10\n",
      "  Iteration 19 (35.34 s, search 23.63 s): objective=2838.89 imbalance=1.134 nsplit=0       \n",
      "Objective improved: keep new clusters\n",
      "Outer iteration 2 / 10\n",
      "  Iteration 19 (53.12 s, search 35.50 s): objective=2828.17 imbalance=1.174 nsplit=0       \n",
      "Outer iteration 3 / 10\n",
      "  Iteration 19 (72.44 s, search 48.12 s): objective=2824.25 imbalance=1.270 nsplit=0       \n",
      "Outer iteration 4 / 10\n",
      "  Iteration 19 (90.11 s, search 59.93 s): objective=2838.8 imbalance=1.056 nsplit=0        \n",
      "Outer iteration 5 / 10\n",
      "  Iteration 19 (107.78 s, search 71.73 s): objective=2817.26 imbalance=1.079 nsplit=0       \n",
      "Outer iteration 6 / 10\n",
      "  Iteration 19 (125.43 s, search 83.53 s): objective=2837.57 imbalance=1.173 nsplit=0       \n",
      "Outer iteration 7 / 10\n",
      "  Iteration 19 (143.10 s, search 95.35 s): objective=2831.41 imbalance=1.211 nsplit=0       \n",
      "Outer iteration 8 / 10\n",
      "  Iteration 19 (160.77 s, search 107.15 s): objective=2837.75 imbalance=1.032 nsplit=0       \n",
      "Outer iteration 9 / 10\n",
      "  Iteration 19 (178.46 s, search 118.98 s): objective=2837.34 imbalance=1.291 nsplit=0       \n",
      "Sampling a subset of 7200 / 8000 for training\n",
      "Clustering 7200 points in 267264D to 9 clusters, redo 10 times, 20 iterations\n",
      "  Preprocessing in 4.52 s\n",
      "Outer iteration 0 / 10\n",
      "  Iteration 19 (19.89 s, search 13.30 s): objective=3202.17 imbalance=1.045 nsplit=0       \n",
      "Objective improved: keep new clusters\n",
      "Outer iteration 1 / 10\n",
      "  Iteration 19 (39.76 s, search 26.59 s): objective=3203.84 imbalance=1.114 nsplit=0       \n",
      "Objective improved: keep new clusters\n",
      "Outer iteration 2 / 10\n",
      "  Iteration 19 (59.66 s, search 39.89 s): objective=3197.85 imbalance=1.052 nsplit=0       \n",
      "Outer iteration 3 / 10\n",
      "  Iteration 19 (79.55 s, search 53.18 s): objective=3207.16 imbalance=1.125 nsplit=0       \n",
      "Objective improved: keep new clusters\n",
      "Outer iteration 4 / 10\n",
      "  Iteration 19 (99.45 s, search 66.48 s): objective=3208.48 imbalance=1.172 nsplit=0       \n",
      "Objective improved: keep new clusters\n",
      "Outer iteration 5 / 10\n",
      "  Iteration 19 (119.34 s, search 79.78 s): objective=3210.18 imbalance=1.059 nsplit=0       \n",
      "Objective improved: keep new clusters\n",
      "Outer iteration 6 / 10\n",
      "  Iteration 19 (139.23 s, search 93.08 s): objective=3204.38 imbalance=1.204 nsplit=0       \n",
      "Outer iteration 7 / 10\n",
      "  Iteration 19 (159.12 s, search 106.38 s): objective=3209.29 imbalance=1.104 nsplit=0       \n",
      "Outer iteration 8 / 10\n",
      "  Iteration 19 (179.05 s, search 119.67 s): objective=3203.98 imbalance=1.079 nsplit=0       \n",
      "Outer iteration 9 / 10\n",
      "  Iteration 19 (198.99 s, search 133.00 s): objective=3203.02 imbalance=1.253 nsplit=0       \n",
      "Clustering 8000 points in 267264D to 10 clusters, redo 10 times, 20 iterations\n",
      "  Preprocessing in 1.12 s\n",
      "Outer iteration 0 / 10\n",
      "  Iteration 19 (22.26 s, search 14.86 s): objective=3563.92 imbalance=1.097 nsplit=0       \n",
      "Objective improved: keep new clusters\n",
      "Outer iteration 1 / 10\n",
      "  Iteration 19 (44.54 s, search 29.74 s): objective=3571.52 imbalance=1.167 nsplit=0       \n",
      "Objective improved: keep new clusters\n",
      "Outer iteration 2 / 10\n",
      "  Iteration 19 (66.79 s, search 44.60 s): objective=3574.14 imbalance=1.084 nsplit=0       \n",
      "Objective improved: keep new clusters\n",
      "Outer iteration 3 / 10\n",
      "  Iteration 19 (89.00 s, search 59.44 s): objective=3571.88 imbalance=1.061 nsplit=0       \n",
      "Outer iteration 4 / 10\n",
      "  Iteration 19 (111.26 s, search 74.30 s): objective=3554.74 imbalance=1.323 nsplit=0       \n",
      "Outer iteration 5 / 10\n",
      "  Iteration 19 (133.46 s, search 89.13 s): objective=3572.25 imbalance=1.118 nsplit=0       \n",
      "Outer iteration 6 / 10\n",
      "  Iteration 19 (155.70 s, search 103.99 s): objective=3575.66 imbalance=1.088 nsplit=0       \n",
      "Objective improved: keep new clusters\n",
      "Outer iteration 7 / 10\n",
      "  Iteration 19 (177.90 s, search 118.82 s): objective=3574.49 imbalance=1.067 nsplit=0       \n",
      "Outer iteration 8 / 10\n",
      "  Iteration 19 (200.11 s, search 133.66 s): objective=3563.48 imbalance=1.096 nsplit=0       \n",
      "Outer iteration 9 / 10\n",
      "  Iteration 19 (222.32 s, search 148.50 s): objective=3572.85 imbalance=1.057 nsplit=0       \n",
      "Clustering 8000 points in 267264D to 11 clusters, redo 10 times, 20 iterations\n",
      "  Preprocessing in 1.12 s\n",
      "Outer iteration 0 / 10\n",
      "  Iteration 19 (22.23 s, search 14.83 s): objective=3567.33 imbalance=1.160 nsplit=0       \n",
      "Objective improved: keep new clusters\n",
      "Outer iteration 1 / 10\n",
      "  Iteration 19 (44.51 s, search 29.67 s): objective=3581.53 imbalance=1.092 nsplit=0       \n",
      "Objective improved: keep new clusters\n",
      "Outer iteration 2 / 10\n",
      "  Iteration 19 (66.77 s, search 44.52 s): objective=3582.04 imbalance=1.060 nsplit=0       \n",
      "Objective improved: keep new clusters\n",
      "Outer iteration 3 / 10\n",
      "  Iteration 19 (89.00 s, search 59.36 s): objective=3583.53 imbalance=1.037 nsplit=0       \n",
      "Objective improved: keep new clusters\n",
      "Outer iteration 4 / 10\n",
      "  Iteration 19 (111.26 s, search 74.20 s): objective=3563.12 imbalance=1.393 nsplit=0       \n",
      "Outer iteration 5 / 10\n",
      "  Iteration 19 (133.52 s, search 89.03 s): objective=3576.05 imbalance=1.156 nsplit=0       \n",
      "Outer iteration 6 / 10\n",
      "  Iteration 19 (155.84 s, search 103.91 s): objective=3582.74 imbalance=1.051 nsplit=0       \n",
      "Outer iteration 7 / 10\n",
      "  Iteration 19 (178.18 s, search 118.79 s): objective=3587.73 imbalance=1.104 nsplit=0       \n",
      "Objective improved: keep new clusters\n",
      "Outer iteration 8 / 10\n",
      "  Iteration 19 (200.46 s, search 133.64 s): objective=3570.02 imbalance=1.131 nsplit=0       \n",
      "Outer iteration 9 / 10\n",
      "  Iteration 19 (222.71 s, search 148.49 s): objective=3583.71 imbalance=1.076 nsplit=0       \n",
      "Clustering 8000 points in 267264D to 12 clusters, redo 10 times, 20 iterations\n",
      "  Preprocessing in 1.12 s\n",
      "Outer iteration 0 / 10\n",
      "  Iteration 19 (22.30 s, search 14.86 s): objective=3579.37 imbalance=1.152 nsplit=0       \n",
      "Objective improved: keep new clusters\n",
      "Outer iteration 1 / 10\n",
      "  Iteration 19 (44.60 s, search 29.71 s): objective=3593.37 imbalance=1.165 nsplit=0       \n",
      "Objective improved: keep new clusters\n",
      "Outer iteration 2 / 10\n",
      "  Iteration 19 (66.89 s, search 44.57 s): objective=3588.23 imbalance=1.054 nsplit=0       \n",
      "Outer iteration 3 / 10\n",
      "  Iteration 19 (89.20 s, search 59.43 s): objective=3592.11 imbalance=1.053 nsplit=0       \n",
      "Outer iteration 4 / 10\n",
      "  Iteration 19 (111.53 s, search 74.30 s): objective=3566.54 imbalance=1.482 nsplit=0       \n",
      "Outer iteration 5 / 10\n",
      "  Iteration 19 (133.81 s, search 89.15 s): objective=3582.55 imbalance=1.081 nsplit=0       \n",
      "Outer iteration 6 / 10\n",
      "  Iteration 19 (156.10 s, search 104.01 s): objective=3586.48 imbalance=1.079 nsplit=0       \n",
      "Outer iteration 7 / 10\n",
      "  Iteration 19 (178.38 s, search 118.86 s): objective=3595.57 imbalance=1.079 nsplit=0       \n",
      "Objective improved: keep new clusters\n",
      "Outer iteration 8 / 10\n",
      "  Iteration 19 (200.63 s, search 133.68 s): objective=3583.19 imbalance=1.077 nsplit=0       \n",
      "Outer iteration 9 / 10\n",
      "  Iteration 19 (222.92 s, search 148.53 s): objective=3587.86 imbalance=1.083 nsplit=0       \n",
      "Clustering 8000 points in 267264D to 13 clusters, redo 10 times, 20 iterations\n",
      "  Preprocessing in 1.12 s\n",
      "Outer iteration 0 / 10\n",
      "  Iteration 19 (22.30 s, search 14.84 s): objective=3586.68 imbalance=1.174 nsplit=0       \n",
      "Objective improved: keep new clusters\n",
      "Outer iteration 1 / 10\n",
      "  Iteration 19 (44.61 s, search 29.69 s): objective=3596.5 imbalance=1.176 nsplit=0        \n",
      "Objective improved: keep new clusters\n",
      "Outer iteration 2 / 10\n",
      "  Iteration 19 (66.89 s, search 44.53 s): objective=3592.23 imbalance=1.104 nsplit=0       \n",
      "Outer iteration 3 / 10\n",
      "  Iteration 19 (89.18 s, search 59.37 s): objective=3594.26 imbalance=1.132 nsplit=0       \n",
      "Outer iteration 4 / 10\n",
      "  Iteration 19 (111.47 s, search 74.23 s): objective=3584.11 imbalance=1.252 nsplit=0       \n",
      "Outer iteration 5 / 10\n",
      "  Iteration 19 (133.78 s, search 89.09 s): objective=3592.4 imbalance=1.079 nsplit=0        \n",
      "Outer iteration 6 / 10\n",
      "  Iteration 19 (156.07 s, search 103.95 s): objective=3588.87 imbalance=1.100 nsplit=0       \n",
      "Outer iteration 7 / 10\n",
      "  Iteration 19 (178.37 s, search 118.80 s): objective=3600.68 imbalance=1.074 nsplit=0       \n",
      "Objective improved: keep new clusters\n",
      "Outer iteration 8 / 10\n",
      "  Iteration 19 (200.65 s, search 133.64 s): objective=3595.42 imbalance=1.069 nsplit=0       \n",
      "Outer iteration 9 / 10\n",
      "  Iteration 19 (222.93 s, search 148.49 s): objective=3593.49 imbalance=1.083 nsplit=0       \n",
      "Clustering 8000 points in 267264D to 14 clusters, redo 10 times, 20 iterations\n",
      "  Preprocessing in 1.12 s\n",
      "Outer iteration 0 / 10\n",
      "  Iteration 19 (22.33 s, search 14.86 s): objective=3588.5 imbalance=1.218 nsplit=0        \n",
      "Objective improved: keep new clusters\n",
      "Outer iteration 1 / 10\n",
      "  Iteration 19 (44.66 s, search 29.72 s): objective=3605.52 imbalance=1.190 nsplit=0       \n",
      "Objective improved: keep new clusters\n",
      "Outer iteration 2 / 10\n",
      "  Iteration 19 (66.97 s, search 44.56 s): objective=3604.34 imbalance=1.110 nsplit=0       \n",
      "Outer iteration 3 / 10\n",
      "  Iteration 19 (89.27 s, search 59.40 s): objective=3602.83 imbalance=1.132 nsplit=0       \n",
      "Outer iteration 4 / 10\n",
      "  Iteration 19 (111.58 s, search 74.24 s): objective=3587.03 imbalance=1.310 nsplit=0       \n",
      "Outer iteration 5 / 10\n",
      "  Iteration 19 (133.92 s, search 89.10 s): objective=3603.16 imbalance=1.088 nsplit=0       \n",
      "Outer iteration 6 / 10\n",
      "  Iteration 19 (156.21 s, search 103.93 s): objective=3602.28 imbalance=1.070 nsplit=0       \n",
      "Outer iteration 7 / 10\n",
      "  Iteration 19 (178.52 s, search 118.78 s): objective=3605.72 imbalance=1.081 nsplit=0       \n",
      "Objective improved: keep new clusters\n",
      "Outer iteration 8 / 10\n",
      "  Iteration 19 (200.83 s, search 133.63 s): objective=3596.09 imbalance=1.105 nsplit=0       \n",
      "Outer iteration 9 / 10\n",
      "  Iteration 19 (223.15 s, search 148.49 s): objective=3598.37 imbalance=1.108 nsplit=0       \n",
      "Clustering 8000 points in 267264D to 15 clusters, redo 10 times, 20 iterations\n",
      "  Preprocessing in 1.12 s\n",
      "Outer iteration 0 / 10\n",
      "  Iteration 19 (22.35 s, search 14.86 s): objective=3601.23 imbalance=1.229 nsplit=0       \n",
      "Objective improved: keep new clusters\n",
      "Outer iteration 1 / 10\n",
      "  Iteration 19 (44.69 s, search 29.72 s): objective=3610.94 imbalance=1.149 nsplit=0       \n",
      "Objective improved: keep new clusters\n",
      "Outer iteration 2 / 10\n",
      "  Iteration 19 (67.03 s, search 44.57 s): objective=3615.48 imbalance=1.069 nsplit=0       \n",
      "Objective improved: keep new clusters\n",
      "Outer iteration 3 / 10\n",
      "  Iteration 19 (89.37 s, search 59.42 s): objective=3608.14 imbalance=1.102 nsplit=0       \n",
      "Outer iteration 4 / 10\n",
      "  Iteration 19 (111.73 s, search 74.29 s): objective=3591.68 imbalance=1.352 nsplit=0       \n",
      "Outer iteration 5 / 10\n",
      "  Iteration 19 (134.07 s, search 89.15 s): objective=3608.9 imbalance=1.088 nsplit=0        \n",
      "Outer iteration 6 / 10\n",
      "  Iteration 19 (156.45 s, search 104.02 s): objective=3604.67 imbalance=1.079 nsplit=0       \n",
      "Outer iteration 7 / 10\n",
      "  Iteration 19 (178.80 s, search 118.87 s): objective=3613.99 imbalance=1.047 nsplit=0       \n",
      "Outer iteration 8 / 10\n",
      "  Iteration 19 (201.16 s, search 133.73 s): objective=3601.65 imbalance=1.120 nsplit=0       \n",
      "Outer iteration 9 / 10\n",
      "  Iteration 19 (223.53 s, search 148.59 s): objective=3601.76 imbalance=1.143 nsplit=0       \r"
     ]
    },
    {
     "data": {
      "text/plain": [
       "[<matplotlib.lines.Line2D at 0x7fa5738faf10>]"
      ]
     },
     "execution_count": 13,
     "metadata": {},
     "output_type": "execute_result"
    },
    {
     "data": {
      "image/png": "[encoded data removed]",
      "text/plain": [
       "<Figure size 432x288 with 1 Axes>"
      ]
     },
     "metadata": {
      "needs_background": "light"
     },
     "output_type": "display_data"
    }
   ],
   "source": [
    "# Elbow Plot\n",
    "niter = 20\n",
    "verbose = True\n",
    "dim = X_train.shape[1]\n",
    "\n",
    "k_vals = [k for k in range(5, 16)]\n",
    "wccs = []\n",
    "for k in k_vals:\n",
    "    kmeans = faiss.Kmeans(dim, k, niter = niter, verbose = verbose, gpu = True, nredo = 10, spherical = True, max_points_per_centroid = 800)\n",
    "    kmeans.train(X_train)\n",
    "    wccs.append(kmeans.obj[-1])\n",
    "\n",
    "plt.plot(k_vals, wccs)"
   ]
  },
  {
   "cell_type": "code",
   "execution_count": 15,
   "id": "289102b9",
   "metadata": {
    "scrolled": true,
    "tags": []
   },
   "outputs": [
    {
     "name": "stdout",
     "output_type": "stream",
     "text": [
      "\n",
      "Clustering 8000 points in 267264D to 10 clusters, redo 10 times, 20 iterations\n",
      "  Preprocessing in 1.15 s\n",
      "Outer iteration 0 / 10\n",
      "  Iteration 19 (21.87 s, search 14.72 s): objective=3563.92 imbalance=1.097 nsplit=0       \n",
      "Objective improved: keep new clusters\n",
      "Outer iteration 1 / 10\n",
      "  Iteration 19 (43.74 s, search 29.44 s): objective=3571.52 imbalance=1.167 nsplit=0       \n",
      "Objective improved: keep new clusters\n",
      "Outer iteration 2 / 10\n",
      "  Iteration 19 (65.59 s, search 44.15 s): objective=3574.14 imbalance=1.084 nsplit=0       \n",
      "Objective improved: keep new clusters\n",
      "Outer iteration 3 / 10\n",
      "  Iteration 19 (87.42 s, search 58.85 s): objective=3571.88 imbalance=1.061 nsplit=0       \n",
      "Outer iteration 4 / 10\n",
      "  Iteration 19 (109.31 s, search 73.56 s): objective=3554.74 imbalance=1.323 nsplit=0       \n",
      "Outer iteration 5 / 10\n",
      "  Iteration 19 (131.19 s, search 88.28 s): objective=3572.25 imbalance=1.118 nsplit=0       \n",
      "Outer iteration 6 / 10\n",
      "  Iteration 19 (153.05 s, search 103.00 s): objective=3575.66 imbalance=1.088 nsplit=0       \n",
      "Objective improved: keep new clusters\n",
      "Outer iteration 7 / 10\n",
      "  Iteration 19 (174.89 s, search 117.71 s): objective=3574.49 imbalance=1.067 nsplit=0       \n",
      "Outer iteration 8 / 10\n",
      "  Iteration 19 (196.75 s, search 132.44 s): objective=3563.48 imbalance=1.096 nsplit=0       \n",
      "Outer iteration 9 / 10\n",
      "  Iteration 19 (218.62 s, search 147.18 s): objective=3572.85 imbalance=1.057 nsplit=0       \r"
     ]
    },
    {
     "data": {
      "text/plain": [
       "3575.657958984375"
      ]
     },
     "execution_count": 15,
     "metadata": {},
     "output_type": "execute_result"
    }
   ],
   "source": [
    "# K-means Clustering\n",
    "\n",
    "# ncentroids = NUM_PROMPTS\n",
    "ncentroids = 10 # Elbow point - based on objective (sum of cosine similarities)\n",
    "niter = 20\n",
    "verbose = True\n",
    "dim = X_train.shape[1]\n",
    "kmeans = faiss.Kmeans(dim, ncentroids, niter = niter, verbose = verbose, gpu = True, nredo = 10, spherical = True, max_points_per_centroid = 800)\n",
    "kmeans.train(X_train)"
   ]
  },
  {
   "cell_type": "code",
   "execution_count": 16,
   "id": "19cf0f0a",
   "metadata": {
    "tags": []
   },
   "outputs": [
    {
     "data": {
      "text/plain": [
       "array([[ 1.0959357e-02,  4.7439276e-03,  1.5292769e-02, ...,\n",
       "         1.8194955e-06,  6.7617378e-07,  5.4385346e-06],\n",
       "       [ 1.1914627e-02,  5.1574293e-03,  1.6625762e-02, ...,\n",
       "        -6.2291218e-07,  1.3301746e-05,  2.0536694e-05],\n",
       "       [ 1.2715629e-02,  5.5041569e-03,  1.7743485e-02, ...,\n",
       "         0.0000000e+00,  0.0000000e+00,  0.0000000e+00],\n",
       "       ...,\n",
       "       [ 1.1211236e-02,  4.8529608e-03,  1.5644258e-02, ...,\n",
       "        -1.8580162e-06,  9.8734944e-08, -1.9872675e-06],\n",
       "       [ 1.2781084e-02,  5.5324896e-03,  1.7834829e-02, ...,\n",
       "         0.0000000e+00,  0.0000000e+00,  0.0000000e+00],\n",
       "       [ 1.2791999e-02,  5.5372100e-03,  1.7850062e-02, ...,\n",
       "         0.0000000e+00,  0.0000000e+00,  0.0000000e+00]], dtype=float32)"
      ]
     },
     "execution_count": 16,
     "metadata": {},
     "output_type": "execute_result"
    }
   ],
   "source": [
    "kmeans.centroids #cluster centers"
   ]
  },
  {
   "cell_type": "code",
   "execution_count": 17,
   "id": "61e726e9",
   "metadata": {
    "tags": []
   },
   "outputs": [
    {
     "name": "stdout",
     "output_type": "stream",
     "text": [
      "1.0000515\n",
      "1.0000601\n",
      "1.0000116\n",
      "1.0000545\n",
      "1.0000118\n",
      "1.0000325\n",
      "1.0000429\n",
      "1.0000598\n",
      "1.0000188\n",
      "1.0000169\n"
     ]
    }
   ],
   "source": [
    "for centroid in kmeans.centroids:\n",
    "    print(np.linalg.norm(centroid))"
   ]
  },
  {
   "cell_type": "code",
   "execution_count": 18,
   "id": "e5e1fa18",
   "metadata": {
    "tags": []
   },
   "outputs": [
    {
     "data": {
      "text/plain": [
       "array([2114.39575195, 3430.43945312, 3503.72241211, 3529.99707031,\n",
       "       3539.47509766, 3545.89160156, 3551.23535156, 3554.97998047,\n",
       "       3557.17675781, 3558.3918457 , 3559.11450195, 3559.6081543 ,\n",
       "       3560.03564453, 3560.453125  , 3560.94140625, 3561.49511719,\n",
       "       3562.10522461, 3562.69726562, 3563.375     , 3563.91577148,\n",
       "       2215.04980469, 3423.35839844, 3475.1472168 , 3499.17504883,\n",
       "       3516.47070312, 3537.77636719, 3550.25219727, 3556.08691406,\n",
       "       3560.19726562, 3563.36987305, 3565.82836914, 3567.77001953,\n",
       "       3568.8815918 , 3569.60058594, 3570.13769531, 3570.5390625 ,\n",
       "       3570.85595703, 3571.14233398, 3571.33959961, 3571.51806641,\n",
       "       2118.41577148, 3426.65307617, 3491.98608398, 3516.66381836,\n",
       "       3532.25048828, 3543.74829102, 3554.07666016, 3561.35522461,\n",
       "       3566.74609375, 3569.15722656, 3570.49829102, 3571.39477539,\n",
       "       3571.9465332 , 3572.43066406, 3572.79394531, 3573.10522461,\n",
       "       3573.38037109, 3573.64550781, 3573.89086914, 3574.13916016,\n",
       "       2059.75439453, 3447.47949219, 3515.20703125, 3535.0625    ,\n",
       "       3545.68261719, 3553.32714844, 3558.11010742, 3561.17358398,\n",
       "       3563.31054688, 3564.89428711, 3566.01342773, 3566.87841797,\n",
       "       3567.82861328, 3568.93237305, 3570.08032227, 3570.83886719,\n",
       "       3571.1887207 , 3571.49291992, 3571.71899414, 3571.88110352,\n",
       "       1815.15612793, 3427.58276367, 3475.96337891, 3498.97143555,\n",
       "       3512.5625    , 3523.25390625, 3534.53588867, 3542.45361328,\n",
       "       3546.77856445, 3549.16064453, 3550.5690918 , 3551.67431641,\n",
       "       3552.42285156, 3553.09301758, 3553.56005859, 3553.88671875,\n",
       "       3554.13525391, 3554.34057617, 3554.5300293 , 3554.7355957 ,\n",
       "       2093.25317383, 3426.21020508, 3491.68383789, 3519.70068359,\n",
       "       3533.19921875, 3540.5324707 , 3547.33520508, 3553.52368164,\n",
       "       3559.13867188, 3563.69677734, 3567.21533203, 3569.04541016,\n",
       "       3570.11767578, 3570.88330078, 3571.4284668 , 3571.75512695,\n",
       "       3571.96801758, 3572.08642578, 3572.1730957 , 3572.25195312,\n",
       "       2116.8815918 , 3441.14038086, 3505.8671875 , 3536.77124023,\n",
       "       3552.39672852, 3559.79858398, 3563.18334961, 3565.76293945,\n",
       "       3567.99291992, 3569.9375    , 3571.63110352, 3572.83398438,\n",
       "       3573.6965332 , 3574.39794922, 3574.82519531, 3575.09472656,\n",
       "       3575.30444336, 3575.45703125, 3575.56494141, 3575.65795898])"
      ]
     },
     "execution_count": 18,
     "metadata": {},
     "output_type": "execute_result"
    }
   ],
   "source": [
    "kmeans.obj #inertia at each iteration"
   ]
  },
  {
   "cell_type": "code",
   "execution_count": 19,
   "id": "ed2c340d",
   "metadata": {
    "tags": []
   },
   "outputs": [],
   "source": [
    "cos_similarities = X_train @ kmeans.centroids.T\n",
    "classifications_train = np.argmax(cos_similarities, axis=1)"
   ]
  },
  {
   "cell_type": "code",
   "execution_count": 20,
   "id": "90aae79f",
   "metadata": {
    "tags": []
   },
   "outputs": [
    {
     "data": {
      "text/plain": [
       "5    1234\n",
       "2    1087\n",
       "3     959\n",
       "7     950\n",
       "4     769\n",
       "0     711\n",
       "1     698\n",
       "9     623\n",
       "8     490\n",
       "6     479\n",
       "dtype: int64"
      ]
     },
     "execution_count": 20,
     "metadata": {},
     "output_type": "execute_result"
    }
   ],
   "source": [
    "pd.Series(classifications_train).value_counts()"
   ]
  },
  {
   "cell_type": "code",
   "execution_count": 21,
   "id": "fc34c419-5d92-4dc6-8db4-9dc84b83a8d4",
   "metadata": {
    "tags": []
   },
   "outputs": [
    {
     "data": {
      "text/plain": [
       "[5, 10, 5, 1, 9, 4, 4, 2, 6, 3]"
      ]
     },
     "execution_count": 21,
     "metadata": {},
     "output_type": "execute_result"
    }
   ],
   "source": [
    "# Get most common label for each point classified to a centroid (same centroid)\n",
    "centroid_labels = [np.where(classifications_train == i)[0] for i in range(ncentroids)]\n",
    "max_label_per_centroid = [int(pd.Series(y_train[centroid_labels[i]]).value_counts().idxmax()) for i in range(ncentroids)]\n",
    "max_label_per_centroid"
   ]
  },
  {
   "cell_type": "code",
   "execution_count": 22,
   "id": "20e159a9-ef63-4a0e-8e94-52e041a5c416",
   "metadata": {
    "tags": []
   },
   "outputs": [],
   "source": [
    "centroid_to_label = {idx : max_label_per_centroid[idx] for idx in range(len(max_label_per_centroid))}"
   ]
  },
  {
   "cell_type": "code",
   "execution_count": 23,
   "id": "45760bd2-820d-462e-a8ef-8d054ed5dde4",
   "metadata": {
    "tags": []
   },
   "outputs": [
    {
     "data": {
      "text/plain": [
       "{0: 5, 1: 10, 2: 5, 3: 1, 4: 9, 5: 4, 6: 4, 7: 2, 8: 6, 9: 3}"
      ]
     },
     "execution_count": 23,
     "metadata": {},
     "output_type": "execute_result"
    }
   ],
   "source": [
    "centroid_to_label"
   ]
  },
  {
   "cell_type": "code",
   "execution_count": 24,
   "id": "b9cf2ac5-ce04-4efe-9828-041723e1f453",
   "metadata": {
    "tags": []
   },
   "outputs": [
    {
     "data": {
      "text/plain": [
       "array([ 2,  4,  1, ..., 10, 10, 10])"
      ]
     },
     "execution_count": 24,
     "metadata": {},
     "output_type": "execute_result"
    }
   ],
   "source": [
    "vectorized_map = np.vectorize(centroid_to_label.get)\n",
    "classifications_to_label = vectorized_map(classifications_train)\n",
    "\n",
    "classifications_to_label"
   ]
  },
  {
   "cell_type": "code",
   "execution_count": 25,
   "id": "c793f2dc-74de-4e3a-b0a8-3839b1be8dd9",
   "metadata": {
    "tags": []
   },
   "outputs": [
    {
     "name": "stdout",
     "output_type": "stream",
     "text": [
      "Prompt 1 Accuracy:  0.26375\n",
      "Prompt 2 Accuracy:  0.275\n",
      "Prompt 3 Accuracy:  0.2725\n",
      "Prompt 4 Accuracy:  0.42875\n",
      "Prompt 5 Accuracy:  0.72\n",
      "Prompt 6 Accuracy:  0.17\n",
      "Prompt 7 Accuracy:  0.0\n",
      "Prompt 8 Accuracy:  0.0\n",
      "Prompt 9 Accuracy:  0.20375\n",
      "Prompt 10 Accuracy:  0.855\n"
     ]
    }
   ],
   "source": [
    "for i in range(10):\n",
    "    print(f\"Prompt {i + 1} Accuracy: \", np.mean(classifications_to_label[i * 800:(i + 1) * 800] == (i + 1)))"
   ]
  },
  {
   "cell_type": "code",
   "execution_count": 26,
   "id": "ac9d3497-d991-455d-a121-1a4c234314b0",
   "metadata": {
    "tags": []
   },
   "outputs": [
    {
     "name": "stdout",
     "output_type": "stream",
     "text": [
      "Overall Accuracy:  0.318875\n"
     ]
    }
   ],
   "source": [
    "print(f\"Overall Accuracy: \", np.mean(classifications_to_label == y_train))"
   ]
  },
  {
   "cell_type": "markdown",
   "id": "b8d32ef1-a624-4d32-abcb-8daacad47cdc",
   "metadata": {},
   "source": [
    "## Perform Inference on Test Set & Collect Test Accuracy"
   ]
  },
  {
   "cell_type": "code",
   "execution_count": 27,
   "id": "2431abbc-b684-4c06-8fd6-06c771a1c4fa",
   "metadata": {},
   "outputs": [],
   "source": [
    "cos_similarities = X_test @ kmeans.centroids.T\n",
    "classifications_test = np.argmax(cos_similarities, axis=1)"
   ]
  },
  {
   "cell_type": "code",
   "execution_count": 28,
   "id": "d9a7dd1c-884b-4bef-b538-6c0a65a6f7e4",
   "metadata": {},
   "outputs": [
    {
     "data": {
      "text/plain": [
       "5    292\n",
       "2    265\n",
       "3    255\n",
       "7    236\n",
       "4    197\n",
       "0    176\n",
       "1    170\n",
       "9    168\n",
       "6    121\n",
       "8    120\n",
       "dtype: int64"
      ]
     },
     "execution_count": 28,
     "metadata": {},
     "output_type": "execute_result"
    }
   ],
   "source": [
    "pd.Series(classifications_test).value_counts()"
   ]
  },
  {
   "cell_type": "code",
   "execution_count": 29,
   "id": "6fa74238-a2b3-4277-bcd6-88ab9d5caf4f",
   "metadata": {},
   "outputs": [
    {
     "data": {
      "text/plain": [
       "array([ 9,  1,  5, ..., 10, 10, 10])"
      ]
     },
     "execution_count": 29,
     "metadata": {},
     "output_type": "execute_result"
    }
   ],
   "source": [
    "classifications_to_label_test = vectorized_map(classifications_test)\n",
    "\n",
    "classifications_to_label_test"
   ]
  },
  {
   "cell_type": "code",
   "execution_count": 30,
   "id": "799e3a99-6659-44b7-becd-4d0825fd1957",
   "metadata": {},
   "outputs": [
    {
     "name": "stdout",
     "output_type": "stream",
     "text": [
      "Prompt 1 Accuracy:  0.28\n",
      "Prompt 2 Accuracy:  0.225\n",
      "Prompt 3 Accuracy:  0.295\n",
      "Prompt 4 Accuracy:  0.375\n",
      "Prompt 5 Accuracy:  0.755\n",
      "Prompt 6 Accuracy:  0.13\n",
      "Prompt 7 Accuracy:  0.0\n",
      "Prompt 8 Accuracy:  0.0\n",
      "Prompt 9 Accuracy:  0.215\n",
      "Prompt 10 Accuracy:  0.825\n"
     ]
    }
   ],
   "source": [
    "for i in range(10):\n",
    "    print(f\"Prompt {i + 1} Accuracy: \", np.mean(classifications_to_label_test[i * 200:(i + 1) * 200] == (i + 1)))"
   ]
  },
  {
   "cell_type": "code",
   "execution_count": 31,
   "id": "4f97cfa0-27da-4897-8e65-681b75ad51d7",
   "metadata": {},
   "outputs": [
    {
     "name": "stdout",
     "output_type": "stream",
     "text": [
      "Overall Accuracy:  0.31\n"
     ]
    }
   ],
   "source": [
    "print(f\"Overall Accuracy: \", np.mean(classifications_to_label_test == y_test))"
   ]
  },
  {
   "cell_type": "markdown",
   "id": "ee076424-49c5-4245-a3a3-56fba51465ea",
   "metadata": {},
   "source": [
    "## Confusion Matrix of Results"
   ]
  },
  {
   "cell_type": "code",
   "execution_count": 32,
   "id": "b9175267-2fef-4f02-930e-c263ec396f91",
   "metadata": {
    "tags": []
   },
   "outputs": [],
   "source": [
    "from sklearn.metrics import confusion_matrix, ConfusionMatrixDisplay\n",
    "import matplotlib.pyplot as plt"
   ]
  },
  {
   "cell_type": "code",
   "execution_count": 33,
   "id": "3c2c3ac7-26e3-42d5-860a-918d735776c1",
   "metadata": {
    "tags": []
   },
   "outputs": [
    {
     "data": {
      "image/png": "[encoded data removed]",
      "text/plain": [
       "<Figure size 432x288 with 2 Axes>"
      ]
     },
     "metadata": {
      "needs_background": "light"
     },
     "output_type": "display_data"
    }
   ],
   "source": [
    "cm = confusion_matrix(y_train, classifications_to_label)\n",
    "disp = ConfusionMatrixDisplay(confusion_matrix=cm, display_labels=[f\"{i}\" for i in range(1, 11)])\n",
    "\n",
    "disp.plot()\n",
    "plt.title('Confusion Matrix for Train Set')\n",
    "plt.show()"
   ]
  },
  {
   "cell_type": "code",
   "execution_count": 34,
   "id": "03a45427-f767-4838-968e-c341eca03746",
   "metadata": {
    "tags": []
   },
   "outputs": [
    {
     "data": {
      "image/png": "[encoded data removed]",
      "text/plain": [
       "<Figure size 432x288 with 2 Axes>"
      ]
     },
     "metadata": {
      "needs_background": "light"
     },
     "output_type": "display_data"
    }
   ],
   "source": [
    "cm = confusion_matrix(y_test, classifications_to_label_test)\n",
    "disp = ConfusionMatrixDisplay(confusion_matrix=cm, display_labels=[f\"{i}\" for i in range(1, 11)])\n",
    "\n",
    "disp.plot()\n",
    "plt.title('Confusion Matrix for Test Set')\n",
    "plt.show()"
   ]
  },
  {
   "cell_type": "code",
   "execution_count": null,
   "id": "1322b9ab-2b94-4d00-95cf-1b3741b9f482",
   "metadata": {},
   "outputs": [],
   "source": []
  },
  {
   "cell_type": "code",
   "execution_count": null,
   "id": "de826fc3-e67f-45cb-bb74-15dfcbd3d18d",
   "metadata": {},
   "outputs": [],
   "source": []
  }
 ],
 "metadata": {
  "kernelspec": {
   "display_name": "Python 3 (ipykernel)",
   "language": "python",
   "name": "python3"
  },
  "language_info": {
   "codemirror_mode": {
    "name": "ipython",
    "version": 3
   },
   "file_extension": ".py",
   "mimetype": "text/x-python",
   "name": "python",
   "nbconvert_exporter": "python",
   "pygments_lexer": "ipython3",
   "version": "3.7.11"
  }
 },
 "nbformat": 4,
 "nbformat_minor": 5
}
