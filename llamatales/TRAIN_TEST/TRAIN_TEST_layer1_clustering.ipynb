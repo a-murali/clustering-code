{
 "cells": [
  {
   "cell_type": "markdown",
   "id": "64c867a4-b1c3-426b-b086-de071a726ebf",
   "metadata": {},
   "source": [
    "## Install Packages"
   ]
  },
  {
   "cell_type": "code",
   "execution_count": 1,
   "id": "80849741",
   "metadata": {
    "tags": []
   },
   "outputs": [
    {
     "name": "stdout",
     "output_type": "stream",
     "text": [
      "Collecting package metadata (current_repodata.json): | WARNING conda.models.version:get_matcher(540): Using .* with relational operator is superfluous and deprecated and will be removed in a future version of conda. Your spec was 1.7.1.*, but conda is ignoring the .* and treating it as 1.7.1\n",
      "done\n",
      "Solving environment: failed with initial frozen solve. Retrying with flexible solve.\n",
      "Solving environment: failed with repodata from current_repodata.json, will retry with next repodata source.\n",
      "Collecting package metadata (repodata.json): | WARNING conda.models.version:get_matcher(540): Using .* with relational operator is superfluous and deprecated and will be removed in a future version of conda. Your spec was 1.9.0.*, but conda is ignoring the .* and treating it as 1.9.0\n",
      "WARNING conda.models.version:get_matcher(540): Using .* with relational operator is superfluous and deprecated and will be removed in a future version of conda. Your spec was 1.6.0.*, but conda is ignoring the .* and treating it as 1.6.0\n",
      "WARNING conda.models.version:get_matcher(540): Using .* with relational operator is superfluous and deprecated and will be removed in a future version of conda. Your spec was 1.8.0.*, but conda is ignoring the .* and treating it as 1.8.0\n",
      "done\n",
      "Solving environment: done\n",
      "\n",
      "\n",
      "==> WARNING: A newer version of conda exists. <==\n",
      "  current version: 4.10.3\n",
      "  latest version: 25.7.0\n",
      "\n",
      "Please update conda by running\n",
      "\n",
      "    $ conda update -n base -c defaults conda\n",
      "\n",
      "\n",
      "\n",
      "## Package Plan ##\n",
      "\n",
      "  environment location: /opt/conda\n",
      "\n",
      "  added / updated specs:\n",
      "    - faiss-gpu\n",
      "\n",
      "\n",
      "The following packages will be downloaded:\n",
      "\n",
      "    package                    |            build\n",
      "    ---------------------------|-----------------\n",
      "    ca-certificates-2025.8.3   |       hbd8a1cb_0         151 KB  conda-forge\n",
      "    certifi-2024.8.30          |     pyhd8ed1ab_0         160 KB  conda-forge\n",
      "    conda-4.12.0               |   py37h89c1867_0         1.0 MB  conda-forge\n",
      "    faiss-1.7.1                |py37cuda111h7f21d35_1_cuda         2.0 MB  conda-forge\n",
      "    faiss-gpu-1.7.1            |       h788eb59_1          15 KB  conda-forge\n",
      "    libblas-3.9.0              |   26_linux64_mkl          16 KB  conda-forge\n",
      "    libfaiss-1.7.1             |cuda111hf54f04a_1_cuda        80.2 MB  conda-forge\n",
      "    libfaiss-avx2-1.7.1        |cuda111h1234567_1_cuda        80.3 MB  conda-forge\n",
      "    liblapack-3.9.0            |   26_linux64_mkl          16 KB  conda-forge\n",
      "    openssl-1.1.1w             |       h7f8727e_0         3.7 MB\n",
      "    python_abi-3.7             |          2_cp37m           4 KB  conda-forge\n",
      "    ------------------------------------------------------------\n",
      "                                           Total:       167.6 MB\n",
      "\n",
      "The following NEW packages will be INSTALLED:\n",
      "\n",
      "  faiss              conda-forge/linux-64::faiss-1.7.1-py37cuda111h7f21d35_1_cuda\n",
      "  faiss-gpu          conda-forge/linux-64::faiss-gpu-1.7.1-h788eb59_1\n",
      "  libblas            conda-forge/linux-64::libblas-3.9.0-26_linux64_mkl\n",
      "  libfaiss           conda-forge/linux-64::libfaiss-1.7.1-cuda111hf54f04a_1_cuda\n",
      "  libfaiss-avx2      conda-forge/linux-64::libfaiss-avx2-1.7.1-cuda111h1234567_1_cuda\n",
      "  liblapack          conda-forge/linux-64::liblapack-3.9.0-26_linux64_mkl\n",
      "  python_abi         conda-forge/linux-64::python_abi-3.7-2_cp37m\n",
      "\n",
      "The following packages will be UPDATED:\n",
      "\n",
      "  ca-certificates    pkgs/main/linux-64::ca-certificates-2~ --> conda-forge/noarch::ca-certificates-2025.8.3-hbd8a1cb_0\n",
      "  certifi            pkgs/main/linux-64::certifi-2021.10.8~ --> conda-forge/noarch::certifi-2024.8.30-pyhd8ed1ab_0\n",
      "  conda              pkgs/main::conda-4.10.3-py37h06a4308_0 --> conda-forge::conda-4.12.0-py37h89c1867_0\n",
      "  openssl                                 1.1.1l-h7f8727e_0 --> 1.1.1w-h7f8727e_0\n",
      "\n",
      "\n",
      "\n",
      "Downloading and Extracting Packages\n",
      "certifi-2024.8.30    | 160 KB    | ##################################### | 100% \n",
      "conda-4.12.0         | 1.0 MB    | ##################################### | 100% \n",
      "libblas-3.9.0        | 16 KB     | ##################################### | 100% \n",
      "faiss-gpu-1.7.1      | 15 KB     | ##################################### | 100% \n",
      "liblapack-3.9.0      | 16 KB     | ##################################### | 100% \n",
      "faiss-1.7.1          | 2.0 MB    | ##################################### | 100% \n",
      "libfaiss-1.7.1       | 80.2 MB   | ##################################### | 100% \n",
      "openssl-1.1.1w       | 3.7 MB    | ##################################### | 100% \n",
      "python_abi-3.7       | 4 KB      | ##################################### | 100% \n",
      "ca-certificates-2025 | 151 KB    | ##################################### | 100% \n",
      "libfaiss-avx2-1.7.1  | 80.3 MB   | ##################################### | 100% \n",
      "Preparing transaction: done\n",
      "Verifying transaction: done\n",
      "Executing transaction: done\n",
      "Get:1 http://security.ubuntu.com/ubuntu bionic-security InRelease [102 kB]\n",
      "Hit:2 http://archive.ubuntu.com/ubuntu bionic InRelease                        \n",
      "Get:3 http://archive.ubuntu.com/ubuntu bionic-updates InRelease [102 kB]       \n",
      "Get:4 http://security.ubuntu.com/ubuntu bionic-security/main amd64 Packages [3373 kB]\n",
      "Get:5 http://archive.ubuntu.com/ubuntu bionic-backports InRelease [102 kB]     \n",
      "Get:6 http://archive.ubuntu.com/ubuntu bionic-updates/multiverse amd64 Packages [30.8 kB]\n",
      "Get:7 http://archive.ubuntu.com/ubuntu bionic-updates/main amd64 Packages [3786 kB]\n",
      "Get:8 http://security.ubuntu.com/ubuntu bionic-security/restricted amd64 Packages [1688 kB]\n",
      "Get:9 http://archive.ubuntu.com/ubuntu bionic-updates/universe amd64 Packages [2411 kB]\n",
      "Get:10 http://security.ubuntu.com/ubuntu bionic-security/multiverse amd64 Packages [23.8 kB]\n",
      "Get:11 http://security.ubuntu.com/ubuntu bionic-security/universe amd64 Packages [1637 kB]\n",
      "Get:12 http://archive.ubuntu.com/ubuntu bionic-updates/restricted amd64 Packages [1728 kB]\n",
      "Get:13 http://archive.ubuntu.com/ubuntu bionic-backports/universe amd64 Packages [20.6 kB]\n",
      "Get:14 http://archive.ubuntu.com/ubuntu bionic-backports/main amd64 Packages [64.0 kB]\n",
      "Fetched 15.1 MB in 3s (4677 kB/s)                                              \n",
      "Reading package lists... Done\n",
      "Reading package lists... Done\n",
      "Building dependency tree       \n",
      "Reading state information... Done\n",
      "The following additional packages will be installed:\n",
      "  gcc-7-base libatlas3-base libgfortran4 libquadmath0\n",
      "Suggested packages:\n",
      "  libatlas-doc liblapack-doc\n",
      "The following NEW packages will be installed:\n",
      "  gcc-7-base libatlas-base-dev libatlas3-base libgfortran4 libquadmath0\n",
      "0 upgraded, 5 newly installed, 0 to remove and 83 not upgraded.\n",
      "Need to get 8397 kB of archives.\n",
      "After this operation, 49.3 MB of additional disk space will be used.\n",
      "Get:1 http://archive.ubuntu.com/ubuntu bionic-updates/main amd64 gcc-7-base amd64 7.5.0-3ubuntu1~18.04 [18.3 kB]\n",
      "Get:2 http://archive.ubuntu.com/ubuntu bionic-updates/main amd64 libquadmath0 amd64 8.4.0-1ubuntu1~18.04 [134 kB]\n",
      "Get:3 http://archive.ubuntu.com/ubuntu bionic-updates/main amd64 libgfortran4 amd64 7.5.0-3ubuntu1~18.04 [492 kB]\n",
      "Get:4 http://archive.ubuntu.com/ubuntu bionic/universe amd64 libatlas3-base amd64 3.10.3-5 [3732 kB]\n",
      "Get:5 http://archive.ubuntu.com/ubuntu bionic/universe amd64 libatlas-base-dev amd64 3.10.3-5 [4022 kB]\n",
      "Fetched 8397 kB in 2s (3841 kB/s)           \n",
      "debconf: delaying package configuration, since apt-utils is not installed\n",
      "Selecting previously unselected package gcc-7-base:amd64.\n",
      "(Reading database ... 11934 files and directories currently installed.)\n",
      "Preparing to unpack .../gcc-7-base_7.5.0-3ubuntu1~18.04_amd64.deb ...\n",
      "Unpacking gcc-7-base:amd64 (7.5.0-3ubuntu1~18.04) ...\n",
      "Selecting previously unselected package libquadmath0:amd64.\n",
      "Preparing to unpack .../libquadmath0_8.4.0-1ubuntu1~18.04_amd64.deb ...\n",
      "Unpacking libquadmath0:amd64 (8.4.0-1ubuntu1~18.04) ...\n",
      "Selecting previously unselected package libgfortran4:amd64.\n",
      "Preparing to unpack .../libgfortran4_7.5.0-3ubuntu1~18.04_amd64.deb ...\n",
      "Unpacking libgfortran4:amd64 (7.5.0-3ubuntu1~18.04) ...\n",
      "Selecting previously unselected package libatlas3-base:amd64.\n",
      "Preparing to unpack .../libatlas3-base_3.10.3-5_amd64.deb ...\n",
      "Unpacking libatlas3-base:amd64 (3.10.3-5) ...\n",
      "Selecting previously unselected package libatlas-base-dev:amd64.\n",
      "Preparing to unpack .../libatlas-base-dev_3.10.3-5_amd64.deb ...\n",
      "Unpacking libatlas-base-dev:amd64 (3.10.3-5) ...\n",
      "Setting up libquadmath0:amd64 (8.4.0-1ubuntu1~18.04) ...\n",
      "Setting up gcc-7-base:amd64 (7.5.0-3ubuntu1~18.04) ...\n",
      "Setting up libgfortran4:amd64 (7.5.0-3ubuntu1~18.04) ...\n",
      "Setting up libatlas3-base:amd64 (3.10.3-5) ...\n",
      "update-alternatives: using /usr/lib/x86_64-linux-gnu/atlas/libblas.so.3 to provide /usr/lib/x86_64-linux-gnu/libblas.so.3 (libblas.so.3-x86_64-linux-gnu) in auto mode\n",
      "update-alternatives: using /usr/lib/x86_64-linux-gnu/atlas/liblapack.so.3 to provide /usr/lib/x86_64-linux-gnu/liblapack.so.3 (liblapack.so.3-x86_64-linux-gnu) in auto mode\n",
      "Setting up libatlas-base-dev:amd64 (3.10.3-5) ...\n",
      "update-alternatives: using /usr/lib/x86_64-linux-gnu/atlas/libblas.so to provide /usr/lib/x86_64-linux-gnu/libblas.so (libblas.so-x86_64-linux-gnu) in auto mode\n",
      "update-alternatives: using /usr/lib/x86_64-linux-gnu/atlas/liblapack.so to provide /usr/lib/x86_64-linux-gnu/liblapack.so (liblapack.so-x86_64-linux-gnu) in auto mode\n",
      "Processing triggers for libc-bin (2.27-3ubuntu1.4) ...\n"
     ]
    }
   ],
   "source": [
    "!conda install -y -c conda-forge faiss-gpu\n",
    "!apt-get -y update\n",
    "!apt-get -y install libatlas-base-dev"
   ]
  },
  {
   "cell_type": "markdown",
   "id": "ea6af1a5-1aef-4743-bfa6-7392ed97dbe7",
   "metadata": {},
   "source": [
    "## Load Data"
   ]
  },
  {
   "cell_type": "code",
   "execution_count": 2,
   "id": "e26dddbf",
   "metadata": {
    "tags": []
   },
   "outputs": [],
   "source": [
    "import pandas as pd\n",
    "import numpy as np\n",
    "import matplotlib.pyplot as plt\n",
    "\n",
    "from sklearn.random_projection import GaussianRandomProjection\n",
    "\n",
    "from tqdm import tqdm\n",
    "\n",
    "import faiss"
   ]
  },
  {
   "cell_type": "code",
   "execution_count": 3,
   "id": "89c2cffa",
   "metadata": {
    "tags": []
   },
   "outputs": [
    {
     "data": {
      "text/html": [
       "<div>\n",
       "<style scoped>\n",
       "    .dataframe tbody tr th:only-of-type {\n",
       "        vertical-align: middle;\n",
       "    }\n",
       "\n",
       "    .dataframe tbody tr th {\n",
       "        vertical-align: top;\n",
       "    }\n",
       "\n",
       "    .dataframe thead th {\n",
       "        text-align: right;\n",
       "    }\n",
       "</style>\n",
       "<table border=\"1\" class=\"dataframe\">\n",
       "  <thead>\n",
       "    <tr style=\"text-align: right;\">\n",
       "      <th></th>\n",
       "      <th>prompt_id</th>\n",
       "      <th>prompt</th>\n",
       "      <th>story</th>\n",
       "      <th>hidden_state_file</th>\n",
       "      <th>len_generated_story</th>\n",
       "      <th>len_new_story</th>\n",
       "    </tr>\n",
       "  </thead>\n",
       "  <tbody>\n",
       "    <tr>\n",
       "      <th>0</th>\n",
       "      <td>1</td>\n",
       "      <td>Once upon a time there was a dragon</td>\n",
       "      <td>Once upon a time there was a dragon named Blaz...</td>\n",
       "      <td>./hidden_states/prompt_1.npz</td>\n",
       "      <td>270</td>\n",
       "      <td>271</td>\n",
       "    </tr>\n",
       "    <tr>\n",
       "      <th>1</th>\n",
       "      <td>1</td>\n",
       "      <td>Once upon a time there was a dragon</td>\n",
       "      <td>Once upon a time there was a dragon named Spar...</td>\n",
       "      <td>./hidden_states/prompt_1.npz</td>\n",
       "      <td>349</td>\n",
       "      <td>350</td>\n",
       "    </tr>\n",
       "    <tr>\n",
       "      <th>2</th>\n",
       "      <td>1</td>\n",
       "      <td>Once upon a time there was a dragon</td>\n",
       "      <td>Once upon a time there was a dragon named Scor...</td>\n",
       "      <td>./hidden_states/prompt_1.npz</td>\n",
       "      <td>278</td>\n",
       "      <td>278</td>\n",
       "    </tr>\n",
       "    <tr>\n",
       "      <th>3</th>\n",
       "      <td>1</td>\n",
       "      <td>Once upon a time there was a dragon</td>\n",
       "      <td>Once upon a time there was a dragon. The drago...</td>\n",
       "      <td>./hidden_states/prompt_1.npz</td>\n",
       "      <td>117</td>\n",
       "      <td>118</td>\n",
       "    </tr>\n",
       "    <tr>\n",
       "      <th>4</th>\n",
       "      <td>1</td>\n",
       "      <td>Once upon a time there was a dragon</td>\n",
       "      <td>Once upon a time there was a dragon. The drago...</td>\n",
       "      <td>./hidden_states/prompt_1.npz</td>\n",
       "      <td>129</td>\n",
       "      <td>130</td>\n",
       "    </tr>\n",
       "    <tr>\n",
       "      <th>...</th>\n",
       "      <td>...</td>\n",
       "      <td>...</td>\n",
       "      <td>...</td>\n",
       "      <td>...</td>\n",
       "      <td>...</td>\n",
       "      <td>...</td>\n",
       "    </tr>\n",
       "    <tr>\n",
       "      <th>9995</th>\n",
       "      <td>10</td>\n",
       "      <td>Once upon a time there was a poor boy</td>\n",
       "      <td>Once upon a time there was a poor boy named Ti...</td>\n",
       "      <td>./hidden_states/prompt_10.npz</td>\n",
       "      <td>289</td>\n",
       "      <td>290</td>\n",
       "    </tr>\n",
       "    <tr>\n",
       "      <th>9996</th>\n",
       "      <td>10</td>\n",
       "      <td>Once upon a time there was a poor boy</td>\n",
       "      <td>Once upon a time there was a poor boy named Ti...</td>\n",
       "      <td>./hidden_states/prompt_10.npz</td>\n",
       "      <td>119</td>\n",
       "      <td>119</td>\n",
       "    </tr>\n",
       "    <tr>\n",
       "      <th>9997</th>\n",
       "      <td>10</td>\n",
       "      <td>Once upon a time there was a poor boy</td>\n",
       "      <td>Once upon a time there was a poor boy named Ti...</td>\n",
       "      <td>./hidden_states/prompt_10.npz</td>\n",
       "      <td>127</td>\n",
       "      <td>128</td>\n",
       "    </tr>\n",
       "    <tr>\n",
       "      <th>9998</th>\n",
       "      <td>10</td>\n",
       "      <td>Once upon a time there was a poor boy</td>\n",
       "      <td>Once upon a time there was a poor boy named Ti...</td>\n",
       "      <td>./hidden_states/prompt_10.npz</td>\n",
       "      <td>441</td>\n",
       "      <td>441</td>\n",
       "    </tr>\n",
       "    <tr>\n",
       "      <th>9999</th>\n",
       "      <td>10</td>\n",
       "      <td>Once upon a time there was a poor boy</td>\n",
       "      <td>Once upon a time there was a poor boy named Ti...</td>\n",
       "      <td>./hidden_states/prompt_10.npz</td>\n",
       "      <td>520</td>\n",
       "      <td>521</td>\n",
       "    </tr>\n",
       "  </tbody>\n",
       "</table>\n",
       "<p>10000 rows × 6 columns</p>\n",
       "</div>"
      ],
      "text/plain": [
       "      prompt_id                                 prompt  \\\n",
       "0             1    Once upon a time there was a dragon   \n",
       "1             1    Once upon a time there was a dragon   \n",
       "2             1    Once upon a time there was a dragon   \n",
       "3             1    Once upon a time there was a dragon   \n",
       "4             1    Once upon a time there was a dragon   \n",
       "...         ...                                    ...   \n",
       "9995         10  Once upon a time there was a poor boy   \n",
       "9996         10  Once upon a time there was a poor boy   \n",
       "9997         10  Once upon a time there was a poor boy   \n",
       "9998         10  Once upon a time there was a poor boy   \n",
       "9999         10  Once upon a time there was a poor boy   \n",
       "\n",
       "                                                  story  \\\n",
       "0     Once upon a time there was a dragon named Blaz...   \n",
       "1     Once upon a time there was a dragon named Spar...   \n",
       "2     Once upon a time there was a dragon named Scor...   \n",
       "3     Once upon a time there was a dragon. The drago...   \n",
       "4     Once upon a time there was a dragon. The drago...   \n",
       "...                                                 ...   \n",
       "9995  Once upon a time there was a poor boy named Ti...   \n",
       "9996  Once upon a time there was a poor boy named Ti...   \n",
       "9997  Once upon a time there was a poor boy named Ti...   \n",
       "9998  Once upon a time there was a poor boy named Ti...   \n",
       "9999  Once upon a time there was a poor boy named Ti...   \n",
       "\n",
       "                  hidden_state_file  len_generated_story  len_new_story  \n",
       "0      ./hidden_states/prompt_1.npz                  270            271  \n",
       "1      ./hidden_states/prompt_1.npz                  349            350  \n",
       "2      ./hidden_states/prompt_1.npz                  278            278  \n",
       "3      ./hidden_states/prompt_1.npz                  117            118  \n",
       "4      ./hidden_states/prompt_1.npz                  129            130  \n",
       "...                             ...                  ...            ...  \n",
       "9995  ./hidden_states/prompt_10.npz                  289            290  \n",
       "9996  ./hidden_states/prompt_10.npz                  119            119  \n",
       "9997  ./hidden_states/prompt_10.npz                  127            128  \n",
       "9998  ./hidden_states/prompt_10.npz                  441            441  \n",
       "9999  ./hidden_states/prompt_10.npz                  520            521  \n",
       "\n",
       "[10000 rows x 6 columns]"
      ]
     },
     "execution_count": 3,
     "metadata": {},
     "output_type": "execute_result"
    }
   ],
   "source": [
    "df = pd.read_csv(\"../story_dataset.csv\")\n",
    "df"
   ]
  },
  {
   "cell_type": "code",
   "execution_count": 4,
   "id": "c081cc09",
   "metadata": {
    "tags": []
   },
   "outputs": [
    {
     "data": {
      "text/plain": [
       "522"
      ]
     },
     "execution_count": 4,
     "metadata": {},
     "output_type": "execute_result"
    }
   ],
   "source": [
    "max_story_len = max(df[\"len_generated_story\"])\n",
    "max_story_len"
   ]
  },
  {
   "cell_type": "code",
   "execution_count": 5,
   "id": "212c067a",
   "metadata": {
    "scrolled": true,
    "tags": []
   },
   "outputs": [
    {
     "name": "stderr",
     "output_type": "stream",
     "text": [
      "100%|███████████████████████████████████████████████████████████████████████████████| 1000/1000 [01:13<00:00, 13.63it/s]\n",
      "100%|███████████████████████████████████████████████████████████████████████████████| 1000/1000 [01:07<00:00, 14.73it/s]\n",
      "100%|███████████████████████████████████████████████████████████████████████████████| 1000/1000 [00:59<00:00, 16.74it/s]\n",
      "100%|███████████████████████████████████████████████████████████████████████████████| 1000/1000 [01:11<00:00, 13.96it/s]\n",
      "100%|███████████████████████████████████████████████████████████████████████████████| 1000/1000 [01:22<00:00, 12.11it/s]\n",
      "100%|███████████████████████████████████████████████████████████████████████████████| 1000/1000 [01:18<00:00, 12.79it/s]\n",
      "100%|███████████████████████████████████████████████████████████████████████████████| 1000/1000 [01:18<00:00, 12.80it/s]\n",
      "100%|███████████████████████████████████████████████████████████████████████████████| 1000/1000 [01:14<00:00, 13.51it/s]\n",
      "100%|███████████████████████████████████████████████████████████████████████████████| 1000/1000 [01:19<00:00, 12.61it/s]\n",
      "100%|███████████████████████████████████████████████████████████████████████████████| 1000/1000 [01:33<00:00, 10.74it/s]\n"
     ]
    }
   ],
   "source": [
    "hidden_states_by_layer = {}\n",
    "NUM_PROMPTS = 10\n",
    "\n",
    "for prompt_id in range(1, NUM_PROMPTS + 1):\n",
    "    with np.load(f'../hidden_states/prompt_{prompt_id}.npz') as loaded_data:\n",
    "        for i in tqdm(range(1000)):\n",
    "            curr_hidden_states = loaded_data[f\"arr_{i}\"][0]\n",
    "#             print(curr_hidden_states.shape)\n",
    "            for layer in range(1, 2):\n",
    "                padded_arr = np.zeros((max_story_len, 512))\n",
    "                padded_arr_len = len(curr_hidden_states[layer][0])\n",
    "                \n",
    "                padded_arr[:padded_arr_len] = curr_hidden_states[layer][0]\n",
    "                \n",
    "                padded_arr = padded_arr.flatten().astype('float32') #FAISS expects data in type float32 instead of float64 - saves memory too!\n",
    "#                 print(padded_arr.shape)\n",
    "                \n",
    "                if(f\"layer_{layer}\" in hidden_states_by_layer):\n",
    "                    hidden_states_by_layer[f\"layer_{layer}\"].append(padded_arr)\n",
    "                else:\n",
    "                    hidden_states_by_layer[f\"layer_{layer}\"] = [padded_arr]"
   ]
  },
  {
   "cell_type": "code",
   "execution_count": 6,
   "id": "ad23eb70",
   "metadata": {
    "tags": []
   },
   "outputs": [
    {
     "data": {
      "text/plain": [
       "(10000, 267264)"
      ]
     },
     "execution_count": 6,
     "metadata": {},
     "output_type": "execute_result"
    }
   ],
   "source": [
    "layer_hs_array = np.array(hidden_states_by_layer[\"layer_1\"])\n",
    "layer_hs_array.shape"
   ]
  },
  {
   "cell_type": "markdown",
   "id": "e44eecd8-9f29-457b-8f65-d8eae3b84eb8",
   "metadata": {},
   "source": [
    "## Layer 1 Clustering"
   ]
  },
  {
   "cell_type": "code",
   "execution_count": 7,
   "id": "49cf7b1b",
   "metadata": {
    "tags": []
   },
   "outputs": [],
   "source": [
    "# Use original vectors for clustering - uncomment next line and comment out last two lines\n",
    "\n",
    "# dim_reduced_vecs = layer_hs_array\n",
    "\n",
    "random_projector = GaussianRandomProjection(random_state = 42)\n",
    "dim_reduced_vecs = random_projector.fit_transform(layer_hs_array).astype('float32')"
   ]
  },
  {
   "cell_type": "code",
   "execution_count": 8,
   "id": "b9257701",
   "metadata": {
    "tags": []
   },
   "outputs": [
    {
     "data": {
      "text/plain": [
       "(10000, 7894)"
      ]
     },
     "execution_count": 8,
     "metadata": {},
     "output_type": "execute_result"
    }
   ],
   "source": [
    "dim_reduced_vecs = np.array([v / np.linalg.norm(v) for v in dim_reduced_vecs])\n",
    "dim_reduced_vecs.shape"
   ]
  },
  {
   "cell_type": "code",
   "execution_count": 9,
   "id": "22e1c2a5-03fa-43fd-90d4-609a0d949829",
   "metadata": {
    "tags": []
   },
   "outputs": [
    {
     "data": {
      "text/plain": [
       "array([ 1,  1,  1, ..., 10, 10, 10])"
      ]
     },
     "execution_count": 9,
     "metadata": {},
     "output_type": "execute_result"
    }
   ],
   "source": [
    "prompt_ids = df[\"prompt_id\"]\n",
    "prompt_ids = prompt_ids.to_numpy()\n",
    "prompt_ids"
   ]
  },
  {
   "cell_type": "code",
   "execution_count": 10,
   "id": "bd963a3c-0ad1-416a-9fc6-a13bf2422fcd",
   "metadata": {},
   "outputs": [],
   "source": [
    "X_train = np.zeros((int(0.8 * dim_reduced_vecs.shape[0]), dim_reduced_vecs.shape[1]), dtype = np.float32)\n",
    "y_train = np.zeros(int(0.8 * dim_reduced_vecs.shape[0]))\n",
    "\n",
    "X_test = np.zeros((int(0.2 * dim_reduced_vecs.shape[0]), dim_reduced_vecs.shape[1]), dtype = np.float32)\n",
    "y_test = np.zeros(int(0.2 * dim_reduced_vecs.shape[0]))"
   ]
  },
  {
   "cell_type": "code",
   "execution_count": 11,
   "id": "6b84c6a1-29cc-4096-9eb1-420301a7065f",
   "metadata": {},
   "outputs": [],
   "source": [
    "for i in range(10):\n",
    "    X_train[i * 800 : (i + 1) * 800] = dim_reduced_vecs[i * 1000 : (i * 1000) + 800]\n",
    "    y_train[i * 800 : (i + 1) * 800] = prompt_ids[i * 1000 : (i * 1000) + 800]\n",
    "    \n",
    "    X_test[i * 200 : (i + 1) * 200] = dim_reduced_vecs[(i * 1000) + 800 : (i + 1) * 1000]\n",
    "    y_test[i * 200 : (i + 1) * 200] = prompt_ids[(i * 1000) + 800 : (i + 1) * 1000]"
   ]
  },
  {
   "cell_type": "code",
   "execution_count": 12,
   "id": "e7c2f695-573c-4abe-ab7b-eaa4a1661cd2",
   "metadata": {},
   "outputs": [
    {
     "name": "stdout",
     "output_type": "stream",
     "text": [
      "(8000, 7894)\n",
      "(8000,)\n",
      "(2000, 7894)\n",
      "(2000,)\n"
     ]
    }
   ],
   "source": [
    "print(X_train.shape)\n",
    "print(y_train.shape)\n",
    "print(X_test.shape)\n",
    "print(y_test.shape)"
   ]
  },
  {
   "cell_type": "code",
   "execution_count": 13,
   "id": "8aebf88b-1d51-48d2-945c-311b5fc70963",
   "metadata": {},
   "outputs": [
    {
     "name": "stdout",
     "output_type": "stream",
     "text": [
      "Sampling a subset of 4000 / 8000 for training\n",
      "Clustering 4000 points in 7894D to 5 clusters, redo 10 times, 20 iterations\n",
      "  Preprocessing in 0.11 s\n",
      "Outer iteration 0 / 10\n",
      "  Iteration 19 (0.55 s, search 0.29 s): objective=1747.19 imbalance=1.041 nsplit=0       \n",
      "Objective improved: keep new clusters\n",
      "Outer iteration 1 / 10\n",
      "  Iteration 19 (1.07 s, search 0.56 s): objective=1753.16 imbalance=1.080 nsplit=0       \n",
      "Objective improved: keep new clusters\n",
      "Outer iteration 2 / 10\n",
      "  Iteration 19 (1.61 s, search 0.83 s): objective=1749.3 imbalance=1.032 nsplit=0        \n",
      "Outer iteration 3 / 10\n",
      "  Iteration 19 (2.15 s, search 1.12 s): objective=1752.98 imbalance=1.070 nsplit=0       \n",
      "Outer iteration 4 / 10\n",
      "  Iteration 19 (2.70 s, search 1.40 s): objective=1753.45 imbalance=1.089 nsplit=0       \n",
      "Objective improved: keep new clusters\n",
      "Outer iteration 5 / 10\n",
      "  Iteration 19 (3.24 s, search 1.68 s): objective=1752.98 imbalance=1.071 nsplit=0       \n",
      "Outer iteration 6 / 10\n",
      "  Iteration 19 (3.78 s, search 1.97 s): objective=1748.76 imbalance=1.062 nsplit=0       \n",
      "Outer iteration 7 / 10\n",
      "  Iteration 19 (4.32 s, search 2.24 s): objective=1746.61 imbalance=1.345 nsplit=0       \n",
      "Outer iteration 8 / 10\n",
      "  Iteration 19 (4.86 s, search 2.52 s): objective=1750.42 imbalance=1.033 nsplit=0       \n",
      "Outer iteration 9 / 10\n",
      "  Iteration 19 (5.39 s, search 2.80 s): objective=1754.67 imbalance=1.105 nsplit=0       \n",
      "Objective improved: keep new clusters\n",
      "Sampling a subset of 4800 / 8000 for training\n",
      "Clustering 4800 points in 7894D to 6 clusters, redo 10 times, 20 iterations\n",
      "  Preprocessing in 0.12 s\n",
      "Outer iteration 0 / 10\n",
      "  Iteration 19 (0.65 s, search 0.34 s): objective=2116.15 imbalance=1.122 nsplit=0       \n",
      "Objective improved: keep new clusters\n",
      "Outer iteration 1 / 10\n",
      "  Iteration 19 (1.31 s, search 0.68 s): objective=2114.62 imbalance=1.158 nsplit=0       \n",
      "Outer iteration 2 / 10\n",
      "  Iteration 19 (1.97 s, search 1.03 s): objective=2107.58 imbalance=1.128 nsplit=0       \n",
      "Outer iteration 3 / 10\n",
      "  Iteration 19 (2.62 s, search 1.37 s): objective=2116.5 imbalance=1.125 nsplit=0        \n",
      "Objective improved: keep new clusters\n",
      "Outer iteration 4 / 10\n",
      "  Iteration 19 (3.28 s, search 1.71 s): objective=2115.01 imbalance=1.123 nsplit=0       \n",
      "Outer iteration 5 / 10\n",
      "  Iteration 19 (3.96 s, search 2.06 s): objective=2116.51 imbalance=1.116 nsplit=0       \n",
      "Objective improved: keep new clusters\n",
      "Outer iteration 6 / 10\n",
      "  Iteration 19 (4.61 s, search 2.40 s): objective=2104.29 imbalance=1.019 nsplit=0       \n",
      "Outer iteration 7 / 10\n",
      "  Iteration 19 (5.26 s, search 2.74 s): objective=2103.45 imbalance=1.013 nsplit=0       \n",
      "Outer iteration 8 / 10\n",
      "  Iteration 19 (5.90 s, search 3.07 s): objective=2114.06 imbalance=1.127 nsplit=0       \n",
      "Outer iteration 9 / 10\n",
      "  Iteration 19 (6.56 s, search 3.41 s): objective=2115.03 imbalance=1.148 nsplit=0       \n",
      "Sampling a subset of 5600 / 8000 for training\n",
      "Clustering 5600 points in 7894D to 7 clusters, redo 10 times, 20 iterations\n",
      "  Preprocessing in 0.14 s\n",
      "Outer iteration 0 / 10\n",
      "  Iteration 19 (0.76 s, search 0.40 s): objective=2477.99 imbalance=1.237 nsplit=0       \n",
      "Objective improved: keep new clusters\n",
      "Outer iteration 1 / 10\n",
      "  Iteration 19 (1.53 s, search 0.79 s): objective=2479.96 imbalance=1.034 nsplit=0       \n",
      "Objective improved: keep new clusters\n",
      "Outer iteration 2 / 10\n",
      "  Iteration 19 (2.30 s, search 1.19 s): objective=2480.24 imbalance=1.071 nsplit=0       \n",
      "Objective improved: keep new clusters\n",
      "Outer iteration 3 / 10\n",
      "  Iteration 19 (3.05 s, search 1.58 s): objective=2458.54 imbalance=1.160 nsplit=0       \n",
      "Outer iteration 4 / 10\n",
      "  Iteration 19 (3.81 s, search 1.97 s): objective=2480.48 imbalance=1.162 nsplit=0       \n",
      "Objective improved: keep new clusters\n",
      "Outer iteration 5 / 10\n",
      "  Iteration 19 (4.58 s, search 2.37 s): objective=2470.88 imbalance=1.118 nsplit=0       \n",
      "Outer iteration 6 / 10\n",
      "  Iteration 19 (5.35 s, search 2.76 s): objective=2468.37 imbalance=1.030 nsplit=0       \n",
      "Outer iteration 7 / 10\n",
      "  Iteration 19 (6.12 s, search 3.16 s): objective=2461.35 imbalance=1.036 nsplit=0       \n",
      "Outer iteration 8 / 10\n",
      "  Iteration 19 (6.89 s, search 3.56 s): objective=2472.13 imbalance=1.115 nsplit=0       \n",
      "Outer iteration 9 / 10\n",
      "  Iteration 19 (7.65 s, search 3.95 s): objective=2479.07 imbalance=1.037 nsplit=0       \n",
      "Sampling a subset of 6400 / 8000 for training\n",
      "Clustering 6400 points in 7894D to 8 clusters, redo 10 times, 20 iterations\n",
      "  Preprocessing in 0.15 s\n",
      "Outer iteration 0 / 10\n",
      "  Iteration 19 (0.88 s, search 0.44 s): objective=2836.94 imbalance=1.129 nsplit=0       \n",
      "Objective improved: keep new clusters\n",
      "Outer iteration 1 / 10\n",
      "  Iteration 19 (1.76 s, search 0.88 s): objective=2838.71 imbalance=1.133 nsplit=0       \n",
      "Objective improved: keep new clusters\n",
      "Outer iteration 2 / 10\n",
      "  Iteration 19 (2.62 s, search 1.33 s): objective=2807.1 imbalance=1.780 nsplit=0        \n",
      "Outer iteration 3 / 10\n",
      "  Iteration 19 (3.50 s, search 1.77 s): objective=2839.24 imbalance=1.089 nsplit=0       \n",
      "Objective improved: keep new clusters\n",
      "Outer iteration 4 / 10\n",
      "  Iteration 19 (4.38 s, search 2.20 s): objective=2834.85 imbalance=1.066 nsplit=0       \n",
      "Outer iteration 5 / 10\n",
      "  Iteration 19 (5.27 s, search 2.65 s): objective=2820.6 imbalance=1.072 nsplit=0        \n",
      "Outer iteration 6 / 10\n",
      "  Iteration 19 (6.14 s, search 3.09 s): objective=2839.33 imbalance=1.158 nsplit=0       \n",
      "Objective improved: keep new clusters\n",
      "Outer iteration 7 / 10\n",
      "  Iteration 19 (7.03 s, search 3.54 s): objective=2830.45 imbalance=1.206 nsplit=0       \n",
      "Outer iteration 8 / 10\n",
      "  Iteration 19 (7.92 s, search 3.99 s): objective=2838.81 imbalance=1.028 nsplit=0       \n",
      "Outer iteration 9 / 10\n",
      "  Iteration 19 (8.87 s, search 4.48 s): objective=2837.02 imbalance=1.290 nsplit=0       \n",
      "Sampling a subset of 7200 / 8000 for training\n",
      "Clustering 7200 points in 7894D to 9 clusters, redo 10 times, 20 iterations\n",
      "  Preprocessing in 0.17 s\n",
      "Outer iteration 0 / 10\n",
      "  Iteration 19 (1.00 s, search 0.51 s): objective=3207.53 imbalance=1.124 nsplit=0       \n",
      "Objective improved: keep new clusters\n",
      "Outer iteration 1 / 10\n",
      "  Iteration 19 (2.00 s, search 1.02 s): objective=3205.25 imbalance=1.108 nsplit=0       \n",
      "Outer iteration 2 / 10\n",
      "  Iteration 19 (2.99 s, search 1.52 s): objective=3179.69 imbalance=1.091 nsplit=0       \n",
      "Outer iteration 3 / 10\n",
      "  Iteration 19 (4.00 s, search 2.02 s): objective=3210.27 imbalance=1.152 nsplit=0       \n",
      "Objective improved: keep new clusters\n",
      "Outer iteration 4 / 10\n",
      "  Iteration 19 (5.00 s, search 2.53 s): objective=3209.38 imbalance=1.171 nsplit=0       \n",
      "Outer iteration 5 / 10\n",
      "  Iteration 19 (6.00 s, search 3.03 s): objective=3211.01 imbalance=1.150 nsplit=0       \n",
      "Objective improved: keep new clusters\n",
      "Outer iteration 6 / 10\n",
      "  Iteration 19 (7.00 s, search 3.54 s): objective=3204.45 imbalance=1.210 nsplit=0       \n",
      "Outer iteration 7 / 10\n",
      "  Iteration 19 (8.00 s, search 4.04 s): objective=3207.22 imbalance=1.094 nsplit=0       \n",
      "Outer iteration 8 / 10\n",
      "  Iteration 19 (9.02 s, search 4.55 s): objective=3200.86 imbalance=1.094 nsplit=0       \n",
      "Outer iteration 9 / 10\n",
      "  Iteration 19 (10.04 s, search 5.06 s): objective=3204.52 imbalance=1.266 nsplit=0       \n",
      "Clustering 8000 points in 7894D to 10 clusters, redo 10 times, 20 iterations\n",
      "  Preprocessing in 0.04 s\n",
      "Outer iteration 0 / 10\n",
      "  Iteration 19 (1.09 s, search 0.55 s): objective=3563.99 imbalance=1.100 nsplit=0       \n",
      "Objective improved: keep new clusters\n",
      "Outer iteration 1 / 10\n",
      "  Iteration 19 (2.18 s, search 1.10 s): objective=3574.33 imbalance=1.098 nsplit=0       \n",
      "Objective improved: keep new clusters\n",
      "Outer iteration 2 / 10\n",
      "  Iteration 19 (3.27 s, search 1.66 s): objective=3573.01 imbalance=1.069 nsplit=0       \n",
      "Outer iteration 3 / 10\n",
      "  Iteration 19 (4.37 s, search 2.21 s): objective=3568.81 imbalance=1.032 nsplit=0       \n",
      "Outer iteration 4 / 10\n",
      "  Iteration 19 (5.45 s, search 2.76 s): objective=3550.42 imbalance=1.329 nsplit=0       \n",
      "Outer iteration 5 / 10\n",
      "  Iteration 19 (6.53 s, search 3.31 s): objective=3564.99 imbalance=1.091 nsplit=0       \n",
      "Outer iteration 6 / 10\n",
      "  Iteration 19 (7.64 s, search 3.87 s): objective=3571.56 imbalance=1.087 nsplit=0       \n",
      "Outer iteration 7 / 10\n",
      "  Iteration 19 (8.74 s, search 4.43 s): objective=3572.84 imbalance=1.071 nsplit=0       \n",
      "Outer iteration 8 / 10\n",
      "  Iteration 19 (9.83 s, search 4.98 s): objective=3562.67 imbalance=1.099 nsplit=0       \n",
      "Outer iteration 9 / 10\n",
      "  Iteration 19 (10.92 s, search 5.53 s): objective=3572.41 imbalance=1.049 nsplit=0       \n",
      "Clustering 8000 points in 7894D to 11 clusters, redo 10 times, 20 iterations\n",
      "  Preprocessing in 0.04 s\n",
      "Outer iteration 0 / 10\n",
      "  Iteration 19 (1.09 s, search 0.55 s): objective=3570.27 imbalance=1.146 nsplit=0       \n",
      "Objective improved: keep new clusters\n",
      "Outer iteration 1 / 10\n",
      "  Iteration 19 (2.19 s, search 1.10 s): objective=3586.62 imbalance=1.123 nsplit=0       \n",
      "Objective improved: keep new clusters\n",
      "Outer iteration 2 / 10\n",
      "  Iteration 19 (3.31 s, search 1.67 s): objective=3582.14 imbalance=1.041 nsplit=0       \n",
      "Outer iteration 3 / 10\n",
      "  Iteration 19 (4.40 s, search 2.21 s): objective=3580.15 imbalance=1.051 nsplit=0       \n",
      "Outer iteration 4 / 10\n",
      "  Iteration 19 (5.48 s, search 2.76 s): objective=3560.74 imbalance=1.405 nsplit=0       \n",
      "Outer iteration 5 / 10\n",
      "  Iteration 19 (6.58 s, search 3.32 s): objective=3568.14 imbalance=1.142 nsplit=0       \n",
      "Outer iteration 6 / 10\n",
      "  Iteration 19 (7.68 s, search 3.87 s): objective=3582.37 imbalance=1.029 nsplit=0       \n",
      "Outer iteration 7 / 10\n",
      "  Iteration 19 (8.79 s, search 4.43 s): objective=3579.3 imbalance=1.045 nsplit=0        \n",
      "Outer iteration 8 / 10\n",
      "  Iteration 19 (9.88 s, search 4.97 s): objective=3569.13 imbalance=1.136 nsplit=0       \n",
      "Outer iteration 9 / 10\n",
      "  Iteration 19 (10.97 s, search 5.52 s): objective=3582.77 imbalance=1.068 nsplit=0       \n",
      "Clustering 8000 points in 7894D to 12 clusters, redo 10 times, 20 iterations\n",
      "  Preprocessing in 0.04 s\n",
      "Outer iteration 0 / 10\n",
      "  Iteration 19 (1.10 s, search 0.55 s): objective=3581.9 imbalance=1.107 nsplit=0        \n",
      "Objective improved: keep new clusters\n",
      "Outer iteration 1 / 10\n",
      "  Iteration 19 (2.21 s, search 1.10 s): objective=3587.92 imbalance=1.055 nsplit=0       \n",
      "Objective improved: keep new clusters\n",
      "Outer iteration 2 / 10\n",
      "  Iteration 19 (3.34 s, search 1.67 s): objective=3593.91 imbalance=1.069 nsplit=0       \n",
      "Objective improved: keep new clusters\n",
      "Outer iteration 3 / 10\n",
      "  Iteration 19 (4.44 s, search 2.22 s): objective=3587.45 imbalance=1.057 nsplit=0       \n",
      "Outer iteration 4 / 10\n",
      "  Iteration 19 (5.56 s, search 2.79 s): objective=3563.08 imbalance=1.497 nsplit=0       \n",
      "Outer iteration 5 / 10\n",
      "  Iteration 19 (6.68 s, search 3.35 s): objective=3576.85 imbalance=1.084 nsplit=0       \n",
      "Outer iteration 6 / 10\n",
      "  Iteration 19 (7.80 s, search 3.91 s): objective=3586.86 imbalance=1.090 nsplit=0       \n",
      "Outer iteration 7 / 10\n",
      "  Iteration 19 (8.89 s, search 4.46 s): objective=3593.32 imbalance=1.071 nsplit=0       \n",
      "Outer iteration 8 / 10\n",
      "  Iteration 19 (9.99 s, search 5.00 s): objective=3577.33 imbalance=1.074 nsplit=0       \n",
      "Outer iteration 9 / 10\n",
      "  Iteration 19 (11.10 s, search 5.55 s): objective=3587.64 imbalance=1.081 nsplit=0       \n",
      "Clustering 8000 points in 7894D to 13 clusters, redo 10 times, 20 iterations\n",
      "  Preprocessing in 0.04 s\n",
      "Outer iteration 0 / 10\n",
      "  Iteration 19 (1.10 s, search 0.55 s): objective=3585.63 imbalance=1.139 nsplit=0       \n",
      "Objective improved: keep new clusters\n",
      "Outer iteration 1 / 10\n",
      "  Iteration 19 (2.21 s, search 1.11 s): objective=3604.17 imbalance=1.081 nsplit=0       \n",
      "Objective improved: keep new clusters\n",
      "Outer iteration 2 / 10\n",
      "  Iteration 19 (3.33 s, search 1.66 s): objective=3599.63 imbalance=1.054 nsplit=0       \n",
      "Outer iteration 3 / 10\n",
      "  Iteration 19 (4.45 s, search 2.23 s): objective=3592.45 imbalance=1.064 nsplit=0       \n",
      "Outer iteration 4 / 10\n",
      "  Iteration 19 (5.56 s, search 2.78 s): objective=3581.43 imbalance=1.234 nsplit=0       \n",
      "Outer iteration 5 / 10\n",
      "  Iteration 19 (6.68 s, search 3.34 s): objective=3590.72 imbalance=1.042 nsplit=0       \n",
      "Outer iteration 6 / 10\n",
      "  Iteration 19 (7.79 s, search 3.90 s): objective=3590.68 imbalance=1.108 nsplit=0       \n",
      "Outer iteration 7 / 10\n",
      "  Iteration 19 (8.89 s, search 4.44 s): objective=3597.97 imbalance=1.062 nsplit=0       \n",
      "Outer iteration 8 / 10\n",
      "  Iteration 19 (9.99 s, search 4.99 s): objective=3588.43 imbalance=1.058 nsplit=0       \n",
      "Outer iteration 9 / 10\n",
      "  Iteration 19 (11.10 s, search 5.55 s): objective=3594.34 imbalance=1.095 nsplit=0       \n",
      "Clustering 8000 points in 7894D to 14 clusters, redo 10 times, 20 iterations\n",
      "  Preprocessing in 0.04 s\n",
      "Outer iteration 0 / 10\n",
      "  Iteration 19 (1.11 s, search 0.55 s): objective=3589.12 imbalance=1.179 nsplit=0       \n",
      "Objective improved: keep new clusters\n",
      "Outer iteration 1 / 10\n",
      "  Iteration 19 (2.22 s, search 1.11 s): objective=3601.76 imbalance=1.268 nsplit=0       \n",
      "Objective improved: keep new clusters\n",
      "Outer iteration 2 / 10\n",
      "  Iteration 19 (3.34 s, search 1.67 s): objective=3604.99 imbalance=1.043 nsplit=0       \n",
      "Objective improved: keep new clusters\n",
      "Outer iteration 3 / 10\n",
      "  Iteration 19 (4.45 s, search 2.22 s): objective=3603.91 imbalance=1.111 nsplit=0       \n",
      "Outer iteration 4 / 10\n",
      "  Iteration 19 (5.54 s, search 2.77 s): objective=3584.82 imbalance=1.285 nsplit=0       \n",
      "Outer iteration 5 / 10\n",
      "  Iteration 19 (6.65 s, search 3.32 s): objective=3596.61 imbalance=1.063 nsplit=0       \n",
      "Outer iteration 6 / 10\n",
      "  Iteration 19 (7.77 s, search 3.88 s): objective=3600.35 imbalance=1.104 nsplit=0       \n",
      "Outer iteration 7 / 10\n",
      "  Iteration 19 (8.88 s, search 4.43 s): objective=3606.61 imbalance=1.077 nsplit=0       \n",
      "Objective improved: keep new clusters\n",
      "Outer iteration 8 / 10\n",
      "  Iteration 19 (10.06 s, search 5.02 s): objective=3595.31 imbalance=1.069 nsplit=0       \n",
      "Outer iteration 9 / 10\n",
      "  Iteration 19 (11.17 s, search 5.57 s): objective=3597.4 imbalance=1.125 nsplit=0        \n",
      "Clustering 8000 points in 7894D to 15 clusters, redo 10 times, 20 iterations\n",
      "  Preprocessing in 0.05 s\n",
      "Outer iteration 0 / 10\n",
      "  Iteration 19 (1.11 s, search 0.55 s): objective=3600.31 imbalance=1.216 nsplit=0       \n",
      "Objective improved: keep new clusters\n",
      "Outer iteration 1 / 10\n",
      "  Iteration 19 (2.22 s, search 1.10 s): objective=3610.89 imbalance=1.265 nsplit=0       \n",
      "Objective improved: keep new clusters\n",
      "Outer iteration 2 / 10\n",
      "  Iteration 19 (3.36 s, search 1.66 s): objective=3605.47 imbalance=1.044 nsplit=0       \n",
      "Outer iteration 3 / 10\n",
      "  Iteration 19 (4.47 s, search 2.21 s): objective=3606.26 imbalance=1.104 nsplit=0       \n",
      "Outer iteration 4 / 10\n",
      "  Iteration 19 (5.58 s, search 2.77 s): objective=3591.34 imbalance=1.336 nsplit=0       \n",
      "Outer iteration 5 / 10\n",
      "  Iteration 19 (6.68 s, search 3.31 s): objective=3604.01 imbalance=1.065 nsplit=0       \n",
      "Outer iteration 6 / 10\n",
      "  Iteration 19 (7.80 s, search 3.87 s): objective=3607.13 imbalance=1.101 nsplit=0       \n",
      "Outer iteration 7 / 10\n",
      "  Iteration 19 (8.92 s, search 4.42 s): objective=3611.6 imbalance=1.075 nsplit=0        \n",
      "Objective improved: keep new clusters\n",
      "Outer iteration 8 / 10\n",
      "  Iteration 19 (10.03 s, search 4.98 s): objective=3598.04 imbalance=1.087 nsplit=0       \n",
      "Outer iteration 9 / 10\n",
      "  Iteration 19 (11.15 s, search 5.53 s): objective=3602.37 imbalance=1.153 nsplit=0       \r"
     ]
    },
    {
     "data": {
      "text/plain": [
       "[<matplotlib.lines.Line2D at 0x72b6762a4650>]"
      ]
     },
     "execution_count": 13,
     "metadata": {},
     "output_type": "execute_result"
    },
    {
     "data": {
      "image/png": "[encoded data removed]",
      "text/plain": [
       "<Figure size 432x288 with 1 Axes>"
      ]
     },
     "metadata": {
      "needs_background": "light"
     },
     "output_type": "display_data"
    }
   ],
   "source": [
    "# Elbow Plot\n",
    "niter = 20\n",
    "verbose = True\n",
    "dim = X_train.shape[1]\n",
    "\n",
    "k_vals = [k for k in range(5, 16)]\n",
    "wccs = []\n",
    "for k in k_vals:\n",
    "    kmeans = faiss.Kmeans(dim, k, niter = niter, verbose = verbose, gpu = True, nredo = 10, spherical = True, max_points_per_centroid = 800)\n",
    "    kmeans.train(X_train)\n",
    "    wccs.append(kmeans.obj[-1])\n",
    "\n",
    "plt.plot(k_vals, wccs)"
   ]
  },
  {
   "cell_type": "code",
   "execution_count": 14,
   "id": "289102b9",
   "metadata": {
    "scrolled": true,
    "tags": []
   },
   "outputs": [
    {
     "name": "stdout",
     "output_type": "stream",
     "text": [
      "\n",
      "Clustering 8000 points in 7894D to 10 clusters, redo 10 times, 20 iterations\n",
      "  Preprocessing in 0.04 s\n",
      "Outer iteration 0 / 10\n",
      "  Iteration 19 (1.09 s, search 0.55 s): objective=3563.99 imbalance=1.100 nsplit=0       \n",
      "Objective improved: keep new clusters\n",
      "Outer iteration 1 / 10\n",
      "  Iteration 19 (2.18 s, search 1.10 s): objective=3574.33 imbalance=1.098 nsplit=0       \n",
      "Objective improved: keep new clusters\n",
      "Outer iteration 2 / 10\n",
      "  Iteration 19 (3.30 s, search 1.67 s): objective=3573.01 imbalance=1.069 nsplit=0       \n",
      "Outer iteration 3 / 10\n",
      "  Iteration 19 (4.38 s, search 2.21 s): objective=3568.81 imbalance=1.032 nsplit=0       \n",
      "Outer iteration 4 / 10\n",
      "  Iteration 19 (5.45 s, search 2.76 s): objective=3550.42 imbalance=1.329 nsplit=0       \n",
      "Outer iteration 5 / 10\n",
      "  Iteration 19 (6.55 s, search 3.32 s): objective=3564.99 imbalance=1.091 nsplit=0       \n",
      "Outer iteration 6 / 10\n",
      "  Iteration 19 (7.65 s, search 3.87 s): objective=3571.56 imbalance=1.087 nsplit=0       \n",
      "Outer iteration 7 / 10\n",
      "  Iteration 19 (8.74 s, search 4.42 s): objective=3572.84 imbalance=1.071 nsplit=0       \n",
      "Outer iteration 8 / 10\n",
      "  Iteration 19 (9.83 s, search 4.97 s): objective=3562.67 imbalance=1.099 nsplit=0       \n",
      "Outer iteration 9 / 10\n",
      "  Iteration 19 (10.91 s, search 5.52 s): objective=3572.41 imbalance=1.049 nsplit=0       \r"
     ]
    },
    {
     "data": {
      "text/plain": [
       "3574.3251953125"
      ]
     },
     "execution_count": 14,
     "metadata": {},
     "output_type": "execute_result"
    }
   ],
   "source": [
    "# K-means Clustering\n",
    "\n",
    "# ncentroids = NUM_PROMPTS\n",
    "ncentroids = 10 # Elbow point - based on objective (sum of cosine similarities)\n",
    "niter = 20\n",
    "verbose = True\n",
    "dim = X_train.shape[1]\n",
    "kmeans = faiss.Kmeans(dim, ncentroids, niter = niter, verbose = verbose, gpu = True, nredo = 10, spherical = True, max_points_per_centroid = 800)\n",
    "kmeans.train(X_train)"
   ]
  },
  {
   "cell_type": "code",
   "execution_count": 15,
   "id": "19cf0f0a",
   "metadata": {
    "tags": []
   },
   "outputs": [
    {
     "data": {
      "text/plain": [
       "array([[ 0.00788479, -0.00245186,  0.00508965, ...,  0.0005908 ,\n",
       "         0.00694053,  0.02149335],\n",
       "       [ 0.01280584, -0.00535829,  0.0045237 , ..., -0.003448  ,\n",
       "         0.01033644,  0.01997647],\n",
       "       [ 0.01582413, -0.00206316,  0.01063342, ..., -0.00043358,\n",
       "         0.0047822 ,  0.0176275 ],\n",
       "       ...,\n",
       "       [ 0.00752247, -0.00650674,  0.00617821, ..., -0.00041455,\n",
       "         0.00455507,  0.01923003],\n",
       "       [ 0.00879604, -0.00140388,  0.00779928, ..., -0.00254281,\n",
       "         0.00647194,  0.02303556],\n",
       "       [ 0.0135902 ,  0.00150788,  0.00603749, ..., -0.00048211,\n",
       "         0.00830882,  0.01915834]], dtype=float32)"
      ]
     },
     "execution_count": 15,
     "metadata": {},
     "output_type": "execute_result"
    }
   ],
   "source": [
    "kmeans.centroids #cluster centers"
   ]
  },
  {
   "cell_type": "code",
   "execution_count": 16,
   "id": "61e726e9",
   "metadata": {
    "tags": []
   },
   "outputs": [
    {
     "name": "stdout",
     "output_type": "stream",
     "text": [
      "1.0000001\n",
      "0.9999999\n",
      "0.9999999\n",
      "1.0000002\n",
      "0.99999994\n",
      "0.99999994\n",
      "1.0\n",
      "1.0000004\n",
      "1.0000001\n",
      "0.9999997\n"
     ]
    }
   ],
   "source": [
    "for centroid in kmeans.centroids:\n",
    "    print(np.linalg.norm(centroid))"
   ]
  },
  {
   "cell_type": "code",
   "execution_count": 17,
   "id": "e5e1fa18",
   "metadata": {
    "tags": []
   },
   "outputs": [
    {
     "data": {
      "text/plain": [
       "array([2116.89916992, 3435.32177734, 3507.75      , 3531.9152832 ,\n",
       "       3541.11303711, 3546.59423828, 3550.03320312, 3552.94311523,\n",
       "       3555.98291016, 3558.71582031, 3560.51416016, 3561.74584961,\n",
       "       3562.41870117, 3562.86499023, 3563.16772461, 3563.44335938,\n",
       "       3563.63598633, 3563.81079102, 3563.91113281, 3563.98779297,\n",
       "       2231.78295898, 3426.10058594, 3475.55395508, 3501.41113281,\n",
       "       3513.50439453, 3523.16674805, 3533.31787109, 3544.69067383,\n",
       "       3553.94799805, 3559.890625  , 3563.8918457 , 3566.78857422,\n",
       "       3569.39013672, 3571.95483398, 3572.99853516, 3573.47973633,\n",
       "       3573.78588867, 3573.98583984, 3574.1550293 , 3574.32519531])"
      ]
     },
     "execution_count": 17,
     "metadata": {},
     "output_type": "execute_result"
    }
   ],
   "source": [
    "kmeans.obj #inertia at each iteration"
   ]
  },
  {
   "cell_type": "code",
   "execution_count": 18,
   "id": "ed2c340d",
   "metadata": {
    "tags": []
   },
   "outputs": [],
   "source": [
    "cos_similarities = X_train @ kmeans.centroids.T\n",
    "classifications_train = np.argmax(cos_similarities, axis=1)"
   ]
  },
  {
   "cell_type": "code",
   "execution_count": 19,
   "id": "90aae79f",
   "metadata": {
    "tags": []
   },
   "outputs": [
    {
     "data": {
      "text/plain": [
       "0    1139\n",
       "5    1101\n",
       "4    1007\n",
       "6     978\n",
       "7     887\n",
       "8     752\n",
       "1     699\n",
       "3     601\n",
       "9     479\n",
       "2     357\n",
       "dtype: int64"
      ]
     },
     "execution_count": 19,
     "metadata": {},
     "output_type": "execute_result"
    }
   ],
   "source": [
    "pd.Series(classifications_train).value_counts()"
   ]
  },
  {
   "cell_type": "code",
   "execution_count": 20,
   "id": "fc34c419-5d92-4dc6-8db4-9dc84b83a8d4",
   "metadata": {
    "tags": []
   },
   "outputs": [
    {
     "data": {
      "text/plain": [
       "[2, 6, 10, 4, 5, 3, 5, 1, 9, 10]"
      ]
     },
     "execution_count": 20,
     "metadata": {},
     "output_type": "execute_result"
    }
   ],
   "source": [
    "# Get most common label for each point classified to a centroid (same centroid)\n",
    "centroid_labels = [np.where(classifications_train == i)[0] for i in range(ncentroids)]\n",
    "max_label_per_centroid = [int(pd.Series(y_train[centroid_labels[i]]).value_counts().idxmax()) for i in range(ncentroids)]\n",
    "max_label_per_centroid"
   ]
  },
  {
   "cell_type": "code",
   "execution_count": 21,
   "id": "20e159a9-ef63-4a0e-8e94-52e041a5c416",
   "metadata": {
    "tags": []
   },
   "outputs": [],
   "source": [
    "centroid_to_label = {idx : max_label_per_centroid[idx] for idx in range(len(max_label_per_centroid))}"
   ]
  },
  {
   "cell_type": "code",
   "execution_count": 22,
   "id": "45760bd2-820d-462e-a8ef-8d054ed5dde4",
   "metadata": {
    "tags": []
   },
   "outputs": [
    {
     "data": {
      "text/plain": [
       "{0: 2, 1: 6, 2: 10, 3: 4, 4: 5, 5: 3, 6: 5, 7: 1, 8: 9, 9: 10}"
      ]
     },
     "execution_count": 22,
     "metadata": {},
     "output_type": "execute_result"
    }
   ],
   "source": [
    "centroid_to_label"
   ]
  },
  {
   "cell_type": "code",
   "execution_count": 23,
   "id": "b9cf2ac5-ce04-4efe-9828-041723e1f453",
   "metadata": {
    "tags": []
   },
   "outputs": [
    {
     "data": {
      "text/plain": [
       "array([ 9,  9,  1, ..., 10, 10, 10])"
      ]
     },
     "execution_count": 23,
     "metadata": {},
     "output_type": "execute_result"
    }
   ],
   "source": [
    "vectorized_map = np.vectorize(centroid_to_label.get)\n",
    "classifications_to_label = vectorized_map(classifications_train)\n",
    "\n",
    "classifications_to_label"
   ]
  },
  {
   "cell_type": "code",
   "execution_count": 24,
   "id": "c793f2dc-74de-4e3a-b0a8-3839b1be8dd9",
   "metadata": {
    "tags": []
   },
   "outputs": [
    {
     "name": "stdout",
     "output_type": "stream",
     "text": [
      "Prompt 1 Accuracy:  0.2375\n",
      "Prompt 2 Accuracy:  0.30125\n",
      "Prompt 3 Accuracy:  0.26375\n",
      "Prompt 4 Accuracy:  0.1925\n",
      "Prompt 5 Accuracy:  0.695\n",
      "Prompt 6 Accuracy:  0.19375\n",
      "Prompt 7 Accuracy:  0.0\n",
      "Prompt 8 Accuracy:  0.0\n",
      "Prompt 9 Accuracy:  0.15875\n",
      "Prompt 10 Accuracy:  0.97875\n"
     ]
    }
   ],
   "source": [
    "for i in range(10):\n",
    "    print(f\"Prompt {i + 1} Accuracy: \", np.mean(classifications_to_label[i * 800:(i + 1) * 800] == (i + 1)))"
   ]
  },
  {
   "cell_type": "code",
   "execution_count": 25,
   "id": "ac9d3497-d991-455d-a121-1a4c234314b0",
   "metadata": {
    "tags": []
   },
   "outputs": [
    {
     "name": "stdout",
     "output_type": "stream",
     "text": [
      "Overall Accuracy:  0.302125\n"
     ]
    }
   ],
   "source": [
    "print(f\"Overall Accuracy: \", np.mean(classifications_to_label == y_train))"
   ]
  },
  {
   "cell_type": "markdown",
   "id": "b8d32ef1-a624-4d32-abcb-8daacad47cdc",
   "metadata": {},
   "source": [
    "## Perform Inference on Test Set & Collect Test Accuracy"
   ]
  },
  {
   "cell_type": "code",
   "execution_count": 26,
   "id": "2431abbc-b684-4c06-8fd6-06c771a1c4fa",
   "metadata": {},
   "outputs": [],
   "source": [
    "cos_similarities = X_test @ kmeans.centroids.T\n",
    "classifications_test = np.argmax(cos_similarities, axis=1)"
   ]
  },
  {
   "cell_type": "code",
   "execution_count": 27,
   "id": "d9a7dd1c-884b-4bef-b538-6c0a65a6f7e4",
   "metadata": {},
   "outputs": [
    {
     "data": {
      "text/plain": [
       "5    291\n",
       "0    263\n",
       "7    259\n",
       "6    243\n",
       "4    239\n",
       "1    179\n",
       "8    178\n",
       "3    141\n",
       "9    120\n",
       "2     87\n",
       "dtype: int64"
      ]
     },
     "execution_count": 27,
     "metadata": {},
     "output_type": "execute_result"
    }
   ],
   "source": [
    "pd.Series(classifications_test).value_counts()"
   ]
  },
  {
   "cell_type": "code",
   "execution_count": 28,
   "id": "6fa74238-a2b3-4277-bcd6-88ab9d5caf4f",
   "metadata": {},
   "outputs": [
    {
     "data": {
      "text/plain": [
       "array([ 3,  9,  5, ..., 10, 10, 10])"
      ]
     },
     "execution_count": 28,
     "metadata": {},
     "output_type": "execute_result"
    }
   ],
   "source": [
    "classifications_to_label_test = vectorized_map(classifications_test)\n",
    "\n",
    "classifications_to_label_test"
   ]
  },
  {
   "cell_type": "code",
   "execution_count": 29,
   "id": "799e3a99-6659-44b7-becd-4d0825fd1957",
   "metadata": {},
   "outputs": [
    {
     "name": "stdout",
     "output_type": "stream",
     "text": [
      "Prompt 1 Accuracy:  0.265\n",
      "Prompt 2 Accuracy:  0.25\n",
      "Prompt 3 Accuracy:  0.29\n",
      "Prompt 4 Accuracy:  0.165\n",
      "Prompt 5 Accuracy:  0.69\n",
      "Prompt 6 Accuracy:  0.14\n",
      "Prompt 7 Accuracy:  0.0\n",
      "Prompt 8 Accuracy:  0.0\n",
      "Prompt 9 Accuracy:  0.12\n",
      "Prompt 10 Accuracy:  0.99\n"
     ]
    }
   ],
   "source": [
    "for i in range(10):\n",
    "    print(f\"Prompt {i + 1} Accuracy: \", np.mean(classifications_to_label_test[i * 200:(i + 1) * 200] == (i + 1)))"
   ]
  },
  {
   "cell_type": "code",
   "execution_count": 30,
   "id": "4f97cfa0-27da-4897-8e65-681b75ad51d7",
   "metadata": {},
   "outputs": [
    {
     "name": "stdout",
     "output_type": "stream",
     "text": [
      "Overall Accuracy:  0.291\n"
     ]
    }
   ],
   "source": [
    "print(f\"Overall Accuracy: \", np.mean(classifications_to_label_test == y_test))"
   ]
  },
  {
   "cell_type": "markdown",
   "id": "ee076424-49c5-4245-a3a3-56fba51465ea",
   "metadata": {},
   "source": [
    "## Confusion Matrix of Results"
   ]
  },
  {
   "cell_type": "code",
   "execution_count": 31,
   "id": "b9175267-2fef-4f02-930e-c263ec396f91",
   "metadata": {
    "tags": []
   },
   "outputs": [],
   "source": [
    "from sklearn.metrics import confusion_matrix, ConfusionMatrixDisplay\n",
    "import matplotlib.pyplot as plt"
   ]
  },
  {
   "cell_type": "code",
   "execution_count": 32,
   "id": "3c2c3ac7-26e3-42d5-860a-918d735776c1",
   "metadata": {
    "tags": []
   },
   "outputs": [
    {
     "data": {
      "image/png": "[encoded data removed]",
      "text/plain": [
       "<Figure size 432x288 with 2 Axes>"
      ]
     },
     "metadata": {
      "needs_background": "light"
     },
     "output_type": "display_data"
    }
   ],
   "source": [
    "cm = confusion_matrix(y_train, classifications_to_label)\n",
    "disp = ConfusionMatrixDisplay(confusion_matrix=cm, display_labels=[f\"{i}\" for i in range(1, 11)])\n",
    "\n",
    "disp.plot()\n",
    "plt.title('Confusion Matrix for Train Set')\n",
    "plt.show()"
   ]
  },
  {
   "cell_type": "code",
   "execution_count": 33,
   "id": "03a45427-f767-4838-968e-c341eca03746",
   "metadata": {
    "tags": []
   },
   "outputs": [
    {
     "data": {
      "image/png": "[encoded data removed]",
      "text/plain": [
       "<Figure size 432x288 with 2 Axes>"
      ]
     },
     "metadata": {
      "needs_background": "light"
     },
     "output_type": "display_data"
    }
   ],
   "source": [
    "cm = confusion_matrix(y_test, classifications_to_label_test)\n",
    "disp = ConfusionMatrixDisplay(confusion_matrix=cm, display_labels=[f\"{i}\" for i in range(1, 11)])\n",
    "\n",
    "disp.plot()\n",
    "plt.title('Confusion Matrix for Test Set')\n",
    "plt.show()"
   ]
  },
  {
   "cell_type": "code",
   "execution_count": null,
   "id": "1322b9ab-2b94-4d00-95cf-1b3741b9f482",
   "metadata": {},
   "outputs": [],
   "source": []
  },
  {
   "cell_type": "code",
   "execution_count": null,
   "id": "de826fc3-e67f-45cb-bb74-15dfcbd3d18d",
   "metadata": {},
   "outputs": [],
   "source": []
  }
 ],
 "metadata": {
  "kernelspec": {
   "display_name": "Python 3 (ipykernel)",
   "language": "python",
   "name": "python3"
  },
  "language_info": {
   "codemirror_mode": {
    "name": "ipython",
    "version": 3
   },
   "file_extension": ".py",
   "mimetype": "text/x-python",
   "name": "python",
   "nbconvert_exporter": "python",
   "pygments_lexer": "ipython3",
   "version": "3.7.11"
  }
 },
 "nbformat": 4,
 "nbformat_minor": 5
}
