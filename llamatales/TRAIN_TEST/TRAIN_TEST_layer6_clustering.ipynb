{
 "cells": [
  {
   "cell_type": "markdown",
   "id": "64c867a4-b1c3-426b-b086-de071a726ebf",
   "metadata": {},
   "source": [
    "## Install Packages"
   ]
  },
  {
   "cell_type": "code",
   "execution_count": 1,
   "id": "80849741",
   "metadata": {
    "tags": []
   },
   "outputs": [
    {
     "name": "stdout",
     "output_type": "stream",
     "text": [
      "Collecting package metadata (current_repodata.json): | WARNING conda.models.version:get_matcher(540): Using .* with relational operator is superfluous and deprecated and will be removed in a future version of conda. Your spec was 1.7.1.*, but conda is ignoring the .* and treating it as 1.7.1\n",
      "done\n",
      "Solving environment: failed with initial frozen solve. Retrying with flexible solve.\n",
      "Solving environment: failed with repodata from current_repodata.json, will retry with next repodata source.\n",
      "Collecting package metadata (repodata.json): - WARNING conda.models.version:get_matcher(540): Using .* with relational operator is superfluous and deprecated and will be removed in a future version of conda. Your spec was 1.6.0.*, but conda is ignoring the .* and treating it as 1.6.0\n",
      "WARNING conda.models.version:get_matcher(540): Using .* with relational operator is superfluous and deprecated and will be removed in a future version of conda. Your spec was 1.9.0.*, but conda is ignoring the .* and treating it as 1.9.0\n",
      "WARNING conda.models.version:get_matcher(540): Using .* with relational operator is superfluous and deprecated and will be removed in a future version of conda. Your spec was 1.8.0.*, but conda is ignoring the .* and treating it as 1.8.0\n",
      "done\n",
      "Solving environment: done\n",
      "\n",
      "\n",
      "==> WARNING: A newer version of conda exists. <==\n",
      "  current version: 4.10.3\n",
      "  latest version: 25.7.0\n",
      "\n",
      "Please update conda by running\n",
      "\n",
      "    $ conda update -n base -c defaults conda\n",
      "\n",
      "\n",
      "\n",
      "## Package Plan ##\n",
      "\n",
      "  environment location: /opt/conda\n",
      "\n",
      "  added / updated specs:\n",
      "    - faiss-gpu\n",
      "\n",
      "\n",
      "The following packages will be downloaded:\n",
      "\n",
      "    package                    |            build\n",
      "    ---------------------------|-----------------\n",
      "    ca-certificates-2025.8.3   |       hbd8a1cb_0         151 KB  conda-forge\n",
      "    certifi-2024.8.30          |     pyhd8ed1ab_0         160 KB  conda-forge\n",
      "    conda-4.12.0               |   py37h89c1867_0         1.0 MB  conda-forge\n",
      "    faiss-1.7.1                |py37cuda111h7f21d35_1_cuda         2.0 MB  conda-forge\n",
      "    faiss-gpu-1.7.1            |       h788eb59_1          15 KB  conda-forge\n",
      "    libblas-3.9.0              |   26_linux64_mkl          16 KB  conda-forge\n",
      "    libfaiss-1.7.1             |cuda111hf54f04a_1_cuda        80.2 MB  conda-forge\n",
      "    libfaiss-avx2-1.7.1        |cuda111h1234567_1_cuda        80.3 MB  conda-forge\n",
      "    liblapack-3.9.0            |   26_linux64_mkl          16 KB  conda-forge\n",
      "    openssl-1.1.1w             |       h7f8727e_0         3.7 MB\n",
      "    python_abi-3.7             |          2_cp37m           4 KB  conda-forge\n",
      "    ------------------------------------------------------------\n",
      "                                           Total:       167.6 MB\n",
      "\n",
      "The following NEW packages will be INSTALLED:\n",
      "\n",
      "  faiss              conda-forge/linux-64::faiss-1.7.1-py37cuda111h7f21d35_1_cuda\n",
      "  faiss-gpu          conda-forge/linux-64::faiss-gpu-1.7.1-h788eb59_1\n",
      "  libblas            conda-forge/linux-64::libblas-3.9.0-26_linux64_mkl\n",
      "  libfaiss           conda-forge/linux-64::libfaiss-1.7.1-cuda111hf54f04a_1_cuda\n",
      "  libfaiss-avx2      conda-forge/linux-64::libfaiss-avx2-1.7.1-cuda111h1234567_1_cuda\n",
      "  liblapack          conda-forge/linux-64::liblapack-3.9.0-26_linux64_mkl\n",
      "  python_abi         conda-forge/linux-64::python_abi-3.7-2_cp37m\n",
      "\n",
      "The following packages will be UPDATED:\n",
      "\n",
      "  ca-certificates    pkgs/main/linux-64::ca-certificates-2~ --> conda-forge/noarch::ca-certificates-2025.8.3-hbd8a1cb_0\n",
      "  certifi            pkgs/main/linux-64::certifi-2021.10.8~ --> conda-forge/noarch::certifi-2024.8.30-pyhd8ed1ab_0\n",
      "  conda              pkgs/main::conda-4.10.3-py37h06a4308_0 --> conda-forge::conda-4.12.0-py37h89c1867_0\n",
      "  openssl                                 1.1.1l-h7f8727e_0 --> 1.1.1w-h7f8727e_0\n",
      "\n",
      "\n",
      "\n",
      "Downloading and Extracting Packages\n",
      "libfaiss-1.7.1       | 80.2 MB   | ##################################### | 100% \n",
      "python_abi-3.7       | 4 KB      | ##################################### | 100% \n",
      "conda-4.12.0         | 1.0 MB    | ##################################### | 100% \n",
      "libblas-3.9.0        | 16 KB     | ##################################### | 100% \n",
      "faiss-gpu-1.7.1      | 15 KB     | ##################################### | 100% \n",
      "liblapack-3.9.0      | 16 KB     | ##################################### | 100% \n",
      "faiss-1.7.1          | 2.0 MB    | ##################################### | 100% \n",
      "ca-certificates-2025 | 151 KB    | ##################################### | 100% \n",
      "certifi-2024.8.30    | 160 KB    | ##################################### | 100% \n",
      "libfaiss-avx2-1.7.1  | 80.3 MB   | ##################################### | 100% \n",
      "openssl-1.1.1w       | 3.7 MB    | ##################################### | 100% \n",
      "Preparing transaction: done\n",
      "Verifying transaction: done\n",
      "Executing transaction: done\n",
      "Get:1 http://security.ubuntu.com/ubuntu bionic-security InRelease [102 kB]     \n",
      "Get:2 http://security.ubuntu.com/ubuntu bionic-security/multiverse amd64 Packages [23.8 kB]\n",
      "Get:3 http://security.ubuntu.com/ubuntu bionic-security/main amd64 Packages [3373 kB]\n",
      "Hit:4 http://archive.ubuntu.com/ubuntu bionic InRelease\n",
      "Get:5 http://archive.ubuntu.com/ubuntu bionic-updates InRelease [102 kB]       \n",
      "Get:6 http://archive.ubuntu.com/ubuntu bionic-backports InRelease [102 kB]     \n",
      "Get:7 http://security.ubuntu.com/ubuntu bionic-security/universe amd64 Packages [1637 kB]\n",
      "Get:8 http://security.ubuntu.com/ubuntu bionic-security/restricted amd64 Packages [1688 kB]\n",
      "Get:9 http://archive.ubuntu.com/ubuntu bionic-updates/multiverse amd64 Packages [30.8 kB]\n",
      "Get:10 http://archive.ubuntu.com/ubuntu bionic-updates/restricted amd64 Packages [1728 kB]\n",
      "Get:11 http://archive.ubuntu.com/ubuntu bionic-updates/main amd64 Packages [3786 kB]\n",
      "Get:12 http://archive.ubuntu.com/ubuntu bionic-updates/universe amd64 Packages [2411 kB]\n",
      "Get:13 http://archive.ubuntu.com/ubuntu bionic-backports/universe amd64 Packages [20.6 kB]\n",
      "Get:14 http://archive.ubuntu.com/ubuntu bionic-backports/main amd64 Packages [64.0 kB]\n",
      "Fetched 15.1 MB in 3s (5092 kB/s)                          \n",
      "Reading package lists... Done\n",
      "Reading package lists... Done\n",
      "Building dependency tree       \n",
      "Reading state information... Done\n",
      "The following additional packages will be installed:\n",
      "  gcc-7-base libatlas3-base libgfortran4 libquadmath0\n",
      "Suggested packages:\n",
      "  libatlas-doc liblapack-doc\n",
      "The following NEW packages will be installed:\n",
      "  gcc-7-base libatlas-base-dev libatlas3-base libgfortran4 libquadmath0\n",
      "0 upgraded, 5 newly installed, 0 to remove and 83 not upgraded.\n",
      "Need to get 8397 kB of archives.\n",
      "After this operation, 49.3 MB of additional disk space will be used.\n",
      "Get:1 http://archive.ubuntu.com/ubuntu bionic-updates/main amd64 gcc-7-base amd64 7.5.0-3ubuntu1~18.04 [18.3 kB]\n",
      "Get:2 http://archive.ubuntu.com/ubuntu bionic-updates/main amd64 libquadmath0 amd64 8.4.0-1ubuntu1~18.04 [134 kB]\n",
      "Get:3 http://archive.ubuntu.com/ubuntu bionic-updates/main amd64 libgfortran4 amd64 7.5.0-3ubuntu1~18.04 [492 kB]\n",
      "Get:4 http://archive.ubuntu.com/ubuntu bionic/universe amd64 libatlas3-base amd64 3.10.3-5 [3732 kB]\n",
      "Get:5 http://archive.ubuntu.com/ubuntu bionic/universe amd64 libatlas-base-dev amd64 3.10.3-5 [4022 kB]\n",
      "Fetched 8397 kB in 2s (4879 kB/s)          \n",
      "debconf: delaying package configuration, since apt-utils is not installed\n",
      "Selecting previously unselected package gcc-7-base:amd64.\n",
      "(Reading database ... 11934 files and directories currently installed.)\n",
      "Preparing to unpack .../gcc-7-base_7.5.0-3ubuntu1~18.04_amd64.deb ...\n",
      "Unpacking gcc-7-base:amd64 (7.5.0-3ubuntu1~18.04) ...\n",
      "Selecting previously unselected package libquadmath0:amd64.\n",
      "Preparing to unpack .../libquadmath0_8.4.0-1ubuntu1~18.04_amd64.deb ...\n",
      "Unpacking libquadmath0:amd64 (8.4.0-1ubuntu1~18.04) ...\n",
      "Selecting previously unselected package libgfortran4:amd64.\n",
      "Preparing to unpack .../libgfortran4_7.5.0-3ubuntu1~18.04_amd64.deb ...\n",
      "Unpacking libgfortran4:amd64 (7.5.0-3ubuntu1~18.04) ...\n",
      "Selecting previously unselected package libatlas3-base:amd64.\n",
      "Preparing to unpack .../libatlas3-base_3.10.3-5_amd64.deb ...\n",
      "Unpacking libatlas3-base:amd64 (3.10.3-5) ...\n",
      "Selecting previously unselected package libatlas-base-dev:amd64.\n",
      "Preparing to unpack .../libatlas-base-dev_3.10.3-5_amd64.deb ...\n",
      "Unpacking libatlas-base-dev:amd64 (3.10.3-5) ...\n",
      "Setting up libquadmath0:amd64 (8.4.0-1ubuntu1~18.04) ...\n",
      "Setting up gcc-7-base:amd64 (7.5.0-3ubuntu1~18.04) ...\n",
      "Setting up libgfortran4:amd64 (7.5.0-3ubuntu1~18.04) ...\n",
      "Setting up libatlas3-base:amd64 (3.10.3-5) ...\n",
      "update-alternatives: using /usr/lib/x86_64-linux-gnu/atlas/libblas.so.3 to provide /usr/lib/x86_64-linux-gnu/libblas.so.3 (libblas.so.3-x86_64-linux-gnu) in auto mode\n",
      "update-alternatives: using /usr/lib/x86_64-linux-gnu/atlas/liblapack.so.3 to provide /usr/lib/x86_64-linux-gnu/liblapack.so.3 (liblapack.so.3-x86_64-linux-gnu) in auto mode\n",
      "Setting up libatlas-base-dev:amd64 (3.10.3-5) ...\n",
      "update-alternatives: using /usr/lib/x86_64-linux-gnu/atlas/libblas.so to provide /usr/lib/x86_64-linux-gnu/libblas.so (libblas.so-x86_64-linux-gnu) in auto mode\n",
      "update-alternatives: using /usr/lib/x86_64-linux-gnu/atlas/liblapack.so to provide /usr/lib/x86_64-linux-gnu/liblapack.so (liblapack.so-x86_64-linux-gnu) in auto mode\n",
      "Processing triggers for libc-bin (2.27-3ubuntu1.4) ...\n"
     ]
    }
   ],
   "source": [
    "!conda install -y -c conda-forge faiss-gpu\n",
    "!apt-get -y update\n",
    "!apt-get -y install libatlas-base-dev"
   ]
  },
  {
   "cell_type": "markdown",
   "id": "ea6af1a5-1aef-4743-bfa6-7392ed97dbe7",
   "metadata": {},
   "source": [
    "## Load Data"
   ]
  },
  {
   "cell_type": "code",
   "execution_count": 2,
   "id": "e26dddbf",
   "metadata": {
    "tags": []
   },
   "outputs": [],
   "source": [
    "import pandas as pd\n",
    "import numpy as np\n",
    "import matplotlib.pyplot as plt\n",
    "\n",
    "from sklearn.random_projection import GaussianRandomProjection\n",
    "\n",
    "from tqdm import tqdm\n",
    "\n",
    "import faiss"
   ]
  },
  {
   "cell_type": "code",
   "execution_count": 3,
   "id": "89c2cffa",
   "metadata": {
    "tags": []
   },
   "outputs": [
    {
     "data": {
      "text/html": [
       "<div>\n",
       "<style scoped>\n",
       "    .dataframe tbody tr th:only-of-type {\n",
       "        vertical-align: middle;\n",
       "    }\n",
       "\n",
       "    .dataframe tbody tr th {\n",
       "        vertical-align: top;\n",
       "    }\n",
       "\n",
       "    .dataframe thead th {\n",
       "        text-align: right;\n",
       "    }\n",
       "</style>\n",
       "<table border=\"1\" class=\"dataframe\">\n",
       "  <thead>\n",
       "    <tr style=\"text-align: right;\">\n",
       "      <th></th>\n",
       "      <th>prompt_id</th>\n",
       "      <th>prompt</th>\n",
       "      <th>story</th>\n",
       "      <th>hidden_state_file</th>\n",
       "      <th>len_generated_story</th>\n",
       "      <th>len_new_story</th>\n",
       "    </tr>\n",
       "  </thead>\n",
       "  <tbody>\n",
       "    <tr>\n",
       "      <th>0</th>\n",
       "      <td>1</td>\n",
       "      <td>Once upon a time there was a dragon</td>\n",
       "      <td>Once upon a time there was a dragon named Blaz...</td>\n",
       "      <td>./hidden_states/prompt_1.npz</td>\n",
       "      <td>270</td>\n",
       "      <td>271</td>\n",
       "    </tr>\n",
       "    <tr>\n",
       "      <th>1</th>\n",
       "      <td>1</td>\n",
       "      <td>Once upon a time there was a dragon</td>\n",
       "      <td>Once upon a time there was a dragon named Spar...</td>\n",
       "      <td>./hidden_states/prompt_1.npz</td>\n",
       "      <td>349</td>\n",
       "      <td>350</td>\n",
       "    </tr>\n",
       "    <tr>\n",
       "      <th>2</th>\n",
       "      <td>1</td>\n",
       "      <td>Once upon a time there was a dragon</td>\n",
       "      <td>Once upon a time there was a dragon named Scor...</td>\n",
       "      <td>./hidden_states/prompt_1.npz</td>\n",
       "      <td>278</td>\n",
       "      <td>278</td>\n",
       "    </tr>\n",
       "    <tr>\n",
       "      <th>3</th>\n",
       "      <td>1</td>\n",
       "      <td>Once upon a time there was a dragon</td>\n",
       "      <td>Once upon a time there was a dragon. The drago...</td>\n",
       "      <td>./hidden_states/prompt_1.npz</td>\n",
       "      <td>117</td>\n",
       "      <td>118</td>\n",
       "    </tr>\n",
       "    <tr>\n",
       "      <th>4</th>\n",
       "      <td>1</td>\n",
       "      <td>Once upon a time there was a dragon</td>\n",
       "      <td>Once upon a time there was a dragon. The drago...</td>\n",
       "      <td>./hidden_states/prompt_1.npz</td>\n",
       "      <td>129</td>\n",
       "      <td>130</td>\n",
       "    </tr>\n",
       "    <tr>\n",
       "      <th>...</th>\n",
       "      <td>...</td>\n",
       "      <td>...</td>\n",
       "      <td>...</td>\n",
       "      <td>...</td>\n",
       "      <td>...</td>\n",
       "      <td>...</td>\n",
       "    </tr>\n",
       "    <tr>\n",
       "      <th>9995</th>\n",
       "      <td>10</td>\n",
       "      <td>Once upon a time there was a poor boy</td>\n",
       "      <td>Once upon a time there was a poor boy named Ti...</td>\n",
       "      <td>./hidden_states/prompt_10.npz</td>\n",
       "      <td>289</td>\n",
       "      <td>290</td>\n",
       "    </tr>\n",
       "    <tr>\n",
       "      <th>9996</th>\n",
       "      <td>10</td>\n",
       "      <td>Once upon a time there was a poor boy</td>\n",
       "      <td>Once upon a time there was a poor boy named Ti...</td>\n",
       "      <td>./hidden_states/prompt_10.npz</td>\n",
       "      <td>119</td>\n",
       "      <td>119</td>\n",
       "    </tr>\n",
       "    <tr>\n",
       "      <th>9997</th>\n",
       "      <td>10</td>\n",
       "      <td>Once upon a time there was a poor boy</td>\n",
       "      <td>Once upon a time there was a poor boy named Ti...</td>\n",
       "      <td>./hidden_states/prompt_10.npz</td>\n",
       "      <td>127</td>\n",
       "      <td>128</td>\n",
       "    </tr>\n",
       "    <tr>\n",
       "      <th>9998</th>\n",
       "      <td>10</td>\n",
       "      <td>Once upon a time there was a poor boy</td>\n",
       "      <td>Once upon a time there was a poor boy named Ti...</td>\n",
       "      <td>./hidden_states/prompt_10.npz</td>\n",
       "      <td>441</td>\n",
       "      <td>441</td>\n",
       "    </tr>\n",
       "    <tr>\n",
       "      <th>9999</th>\n",
       "      <td>10</td>\n",
       "      <td>Once upon a time there was a poor boy</td>\n",
       "      <td>Once upon a time there was a poor boy named Ti...</td>\n",
       "      <td>./hidden_states/prompt_10.npz</td>\n",
       "      <td>520</td>\n",
       "      <td>521</td>\n",
       "    </tr>\n",
       "  </tbody>\n",
       "</table>\n",
       "<p>10000 rows × 6 columns</p>\n",
       "</div>"
      ],
      "text/plain": [
       "      prompt_id                                 prompt  \\\n",
       "0             1    Once upon a time there was a dragon   \n",
       "1             1    Once upon a time there was a dragon   \n",
       "2             1    Once upon a time there was a dragon   \n",
       "3             1    Once upon a time there was a dragon   \n",
       "4             1    Once upon a time there was a dragon   \n",
       "...         ...                                    ...   \n",
       "9995         10  Once upon a time there was a poor boy   \n",
       "9996         10  Once upon a time there was a poor boy   \n",
       "9997         10  Once upon a time there was a poor boy   \n",
       "9998         10  Once upon a time there was a poor boy   \n",
       "9999         10  Once upon a time there was a poor boy   \n",
       "\n",
       "                                                  story  \\\n",
       "0     Once upon a time there was a dragon named Blaz...   \n",
       "1     Once upon a time there was a dragon named Spar...   \n",
       "2     Once upon a time there was a dragon named Scor...   \n",
       "3     Once upon a time there was a dragon. The drago...   \n",
       "4     Once upon a time there was a dragon. The drago...   \n",
       "...                                                 ...   \n",
       "9995  Once upon a time there was a poor boy named Ti...   \n",
       "9996  Once upon a time there was a poor boy named Ti...   \n",
       "9997  Once upon a time there was a poor boy named Ti...   \n",
       "9998  Once upon a time there was a poor boy named Ti...   \n",
       "9999  Once upon a time there was a poor boy named Ti...   \n",
       "\n",
       "                  hidden_state_file  len_generated_story  len_new_story  \n",
       "0      ./hidden_states/prompt_1.npz                  270            271  \n",
       "1      ./hidden_states/prompt_1.npz                  349            350  \n",
       "2      ./hidden_states/prompt_1.npz                  278            278  \n",
       "3      ./hidden_states/prompt_1.npz                  117            118  \n",
       "4      ./hidden_states/prompt_1.npz                  129            130  \n",
       "...                             ...                  ...            ...  \n",
       "9995  ./hidden_states/prompt_10.npz                  289            290  \n",
       "9996  ./hidden_states/prompt_10.npz                  119            119  \n",
       "9997  ./hidden_states/prompt_10.npz                  127            128  \n",
       "9998  ./hidden_states/prompt_10.npz                  441            441  \n",
       "9999  ./hidden_states/prompt_10.npz                  520            521  \n",
       "\n",
       "[10000 rows x 6 columns]"
      ]
     },
     "execution_count": 3,
     "metadata": {},
     "output_type": "execute_result"
    }
   ],
   "source": [
    "df = pd.read_csv(\"../story_dataset.csv\")\n",
    "df"
   ]
  },
  {
   "cell_type": "code",
   "execution_count": 4,
   "id": "c081cc09",
   "metadata": {
    "tags": []
   },
   "outputs": [
    {
     "data": {
      "text/plain": [
       "522"
      ]
     },
     "execution_count": 4,
     "metadata": {},
     "output_type": "execute_result"
    }
   ],
   "source": [
    "max_story_len = max(df[\"len_generated_story\"])\n",
    "max_story_len"
   ]
  },
  {
   "cell_type": "code",
   "execution_count": 5,
   "id": "212c067a",
   "metadata": {
    "scrolled": true,
    "tags": []
   },
   "outputs": [
    {
     "name": "stderr",
     "output_type": "stream",
     "text": [
      "100%|███████████████████████████████████████████████████████████████████████████████| 1000/1000 [04:13<00:00,  3.95it/s]\n",
      "100%|███████████████████████████████████████████████████████████████████████████████| 1000/1000 [04:03<00:00,  4.11it/s]\n",
      "100%|███████████████████████████████████████████████████████████████████████████████| 1000/1000 [03:25<00:00,  4.87it/s]\n",
      "100%|███████████████████████████████████████████████████████████████████████████████| 1000/1000 [04:12<00:00,  3.96it/s]\n",
      "100%|███████████████████████████████████████████████████████████████████████████████| 1000/1000 [03:54<00:00,  4.26it/s]\n",
      "100%|███████████████████████████████████████████████████████████████████████████████| 1000/1000 [03:55<00:00,  4.24it/s]\n",
      "100%|███████████████████████████████████████████████████████████████████████████████| 1000/1000 [04:04<00:00,  4.09it/s]\n",
      "100%|███████████████████████████████████████████████████████████████████████████████| 1000/1000 [03:58<00:00,  4.19it/s]\n",
      "100%|███████████████████████████████████████████████████████████████████████████████| 1000/1000 [04:10<00:00,  4.00it/s]\n",
      "100%|███████████████████████████████████████████████████████████████████████████████| 1000/1000 [04:22<00:00,  3.81it/s]\n"
     ]
    }
   ],
   "source": [
    "hidden_states_by_layer = {}\n",
    "NUM_PROMPTS = 10\n",
    "\n",
    "for prompt_id in range(1, NUM_PROMPTS + 1):\n",
    "    with np.load(f'../hidden_states/prompt_{prompt_id}.npz') as loaded_data:\n",
    "        for i in tqdm(range(1000)):\n",
    "            curr_hidden_states = loaded_data[f\"arr_{i}\"][0]\n",
    "#             print(curr_hidden_states.shape)\n",
    "            for layer in range(6, 7):\n",
    "                padded_arr = np.zeros((max_story_len, 512))\n",
    "                padded_arr_len = len(curr_hidden_states[layer][0])\n",
    "                \n",
    "                padded_arr[:padded_arr_len] = curr_hidden_states[layer][0]\n",
    "                \n",
    "                padded_arr = padded_arr.flatten().astype('float32') #FAISS expects data in type float32 instead of float64 - saves memory too!\n",
    "#                 print(padded_arr.shape)\n",
    "                \n",
    "                if(f\"layer_{layer}\" in hidden_states_by_layer):\n",
    "                    hidden_states_by_layer[f\"layer_{layer}\"].append(padded_arr)\n",
    "                else:\n",
    "                    hidden_states_by_layer[f\"layer_{layer}\"] = [padded_arr]"
   ]
  },
  {
   "cell_type": "code",
   "execution_count": 6,
   "id": "ad23eb70",
   "metadata": {
    "tags": []
   },
   "outputs": [
    {
     "data": {
      "text/plain": [
       "(10000, 267264)"
      ]
     },
     "execution_count": 6,
     "metadata": {},
     "output_type": "execute_result"
    }
   ],
   "source": [
    "layer_hs_array = np.array(hidden_states_by_layer[\"layer_6\"])\n",
    "layer_hs_array.shape"
   ]
  },
  {
   "cell_type": "markdown",
   "id": "e44eecd8-9f29-457b-8f65-d8eae3b84eb8",
   "metadata": {
    "tags": []
   },
   "source": [
    "## Layer 6 Clustering"
   ]
  },
  {
   "cell_type": "code",
   "execution_count": 7,
   "id": "49cf7b1b",
   "metadata": {
    "tags": []
   },
   "outputs": [],
   "source": [
    "# Use original vectors for clustering - uncomment next line and comment out last two lines\n",
    "\n",
    "dim_reduced_vecs = layer_hs_array\n",
    "\n",
    "# random_projector = GaussianRandomProjection(random_state = 42)\n",
    "# dim_reduced_vecs = random_projector.fit_transform(layer_hs_array).astype('float32')"
   ]
  },
  {
   "cell_type": "code",
   "execution_count": 8,
   "id": "b9257701",
   "metadata": {
    "tags": []
   },
   "outputs": [
    {
     "data": {
      "text/plain": [
       "(10000, 267264)"
      ]
     },
     "execution_count": 8,
     "metadata": {},
     "output_type": "execute_result"
    }
   ],
   "source": [
    "dim_reduced_vecs = np.array([v / np.linalg.norm(v) for v in dim_reduced_vecs])\n",
    "dim_reduced_vecs.shape"
   ]
  },
  {
   "cell_type": "code",
   "execution_count": 9,
   "id": "22e1c2a5-03fa-43fd-90d4-609a0d949829",
   "metadata": {
    "tags": []
   },
   "outputs": [
    {
     "data": {
      "text/plain": [
       "array([ 1,  1,  1, ..., 10, 10, 10])"
      ]
     },
     "execution_count": 9,
     "metadata": {},
     "output_type": "execute_result"
    }
   ],
   "source": [
    "prompt_ids = df[\"prompt_id\"]\n",
    "prompt_ids = prompt_ids.to_numpy()\n",
    "prompt_ids"
   ]
  },
  {
   "cell_type": "code",
   "execution_count": 10,
   "id": "bd963a3c-0ad1-416a-9fc6-a13bf2422fcd",
   "metadata": {},
   "outputs": [],
   "source": [
    "X_train = np.zeros((int(0.8 * dim_reduced_vecs.shape[0]), dim_reduced_vecs.shape[1]), dtype = np.float32)\n",
    "y_train = np.zeros(int(0.8 * dim_reduced_vecs.shape[0]))\n",
    "\n",
    "X_test = np.zeros((int(0.2 * dim_reduced_vecs.shape[0]), dim_reduced_vecs.shape[1]), dtype = np.float32)\n",
    "y_test = np.zeros(int(0.2 * dim_reduced_vecs.shape[0]))"
   ]
  },
  {
   "cell_type": "code",
   "execution_count": 11,
   "id": "6b84c6a1-29cc-4096-9eb1-420301a7065f",
   "metadata": {},
   "outputs": [],
   "source": [
    "for i in range(10):\n",
    "    X_train[i * 800 : (i + 1) * 800] = dim_reduced_vecs[i * 1000 : (i * 1000) + 800]\n",
    "    y_train[i * 800 : (i + 1) * 800] = prompt_ids[i * 1000 : (i * 1000) + 800]\n",
    "    \n",
    "    X_test[i * 200 : (i + 1) * 200] = dim_reduced_vecs[(i * 1000) + 800 : (i + 1) * 1000]\n",
    "    y_test[i * 200 : (i + 1) * 200] = prompt_ids[(i * 1000) + 800 : (i + 1) * 1000]"
   ]
  },
  {
   "cell_type": "code",
   "execution_count": 12,
   "id": "e7c2f695-573c-4abe-ab7b-eaa4a1661cd2",
   "metadata": {},
   "outputs": [
    {
     "name": "stdout",
     "output_type": "stream",
     "text": [
      "(8000, 267264)\n",
      "(8000,)\n",
      "(2000, 267264)\n",
      "(2000,)\n"
     ]
    }
   ],
   "source": [
    "print(X_train.shape)\n",
    "print(y_train.shape)\n",
    "print(X_test.shape)\n",
    "print(y_test.shape)"
   ]
  },
  {
   "cell_type": "code",
   "execution_count": 13,
   "id": "8aebf88b-1d51-48d2-945c-311b5fc70963",
   "metadata": {},
   "outputs": [
    {
     "name": "stdout",
     "output_type": "stream",
     "text": [
      "Sampling a subset of 4000 / 8000 for training\n",
      "Clustering 4000 points in 267264D to 5 clusters, redo 10 times, 20 iterations\n",
      "  Preprocessing in 4.08 s\n",
      "Outer iteration 0 / 10\n",
      "  Iteration 19 (11.25 s, search 7.43 s): objective=2054.66 imbalance=1.200 nsplit=0       \n",
      "Objective improved: keep new clusters\n",
      "Outer iteration 1 / 10\n",
      "  Iteration 19 (22.43 s, search 14.83 s): objective=2056.66 imbalance=1.139 nsplit=0       \n",
      "Objective improved: keep new clusters\n",
      "Outer iteration 2 / 10\n",
      "  Iteration 19 (33.61 s, search 22.23 s): objective=2053.12 imbalance=1.090 nsplit=0       \n",
      "Outer iteration 3 / 10\n",
      "  Iteration 19 (44.79 s, search 29.63 s): objective=2056.92 imbalance=1.168 nsplit=0       \n",
      "Objective improved: keep new clusters\n",
      "Outer iteration 4 / 10\n",
      "  Iteration 19 (55.98 s, search 37.02 s): objective=2048.35 imbalance=1.547 nsplit=0       \n",
      "Outer iteration 5 / 10\n",
      "  Iteration 19 (67.18 s, search 44.42 s): objective=2052.39 imbalance=1.274 nsplit=0       \n",
      "Outer iteration 6 / 10\n",
      "  Iteration 19 (78.36 s, search 51.81 s): objective=2057.7 imbalance=1.215 nsplit=0        \n",
      "Objective improved: keep new clusters\n",
      "Outer iteration 7 / 10\n",
      "  Iteration 19 (89.51 s, search 59.20 s): objective=2046.34 imbalance=1.485 nsplit=0       \n",
      "Outer iteration 8 / 10\n",
      "  Iteration 19 (100.69 s, search 66.59 s): objective=2053.23 imbalance=1.095 nsplit=0       \n",
      "Outer iteration 9 / 10\n",
      "  Iteration 19 (111.90 s, search 73.99 s): objective=2047.58 imbalance=1.582 nsplit=0       \n",
      "Sampling a subset of 4800 / 8000 for training\n",
      "Clustering 4800 points in 267264D to 6 clusters, redo 10 times, 20 iterations\n",
      "  Preprocessing in 4.06 s\n",
      "Outer iteration 0 / 10\n",
      "  Iteration 19 (13.68 s, search 8.88 s): objective=2460.97 imbalance=1.263 nsplit=0       \n",
      "Objective improved: keep new clusters\n",
      "Outer iteration 1 / 10\n",
      "  Iteration 19 (27.36 s, search 17.76 s): objective=2465.04 imbalance=1.545 nsplit=0       \n",
      "Objective improved: keep new clusters\n",
      "Outer iteration 2 / 10\n",
      "  Iteration 19 (41.05 s, search 26.64 s): objective=2473.33 imbalance=1.350 nsplit=0       \n",
      "Objective improved: keep new clusters\n",
      "Outer iteration 3 / 10\n",
      "  Iteration 19 (54.71 s, search 35.52 s): objective=2466.03 imbalance=1.226 nsplit=0       \n",
      "Outer iteration 4 / 10\n",
      "  Iteration 19 (68.45 s, search 44.43 s): objective=2468.58 imbalance=1.410 nsplit=0       \n",
      "Outer iteration 5 / 10\n",
      "  Iteration 19 (82.46 s, search 53.50 s): objective=2466 imbalance=1.302 nsplit=0          \n",
      "Outer iteration 6 / 10\n",
      "  Iteration 19 (96.36 s, search 62.48 s): objective=2462.88 imbalance=1.121 nsplit=0       \n",
      "Outer iteration 7 / 10\n",
      "  Iteration 19 (110.19 s, search 71.44 s): objective=2462.86 imbalance=1.223 nsplit=0       \n",
      "Outer iteration 8 / 10\n",
      "  Iteration 19 (124.01 s, search 80.40 s): objective=2464.63 imbalance=1.417 nsplit=0       \n",
      "Outer iteration 9 / 10\n",
      "  Iteration 19 (137.86 s, search 89.38 s): objective=2473.71 imbalance=1.465 nsplit=0       \n",
      "Objective improved: keep new clusters\n",
      "Sampling a subset of 5600 / 8000 for training\n",
      "Clustering 5600 points in 267264D to 7 clusters, redo 10 times, 20 iterations\n",
      "  Preprocessing in 4.48 s\n",
      "Outer iteration 0 / 10\n",
      "  Iteration 19 (16.18 s, search 10.46 s): objective=2890.5 imbalance=1.331 nsplit=0       \n",
      "Objective improved: keep new clusters\n",
      "Outer iteration 1 / 10\n",
      "  Iteration 19 (32.32 s, search 20.90 s): objective=2875.29 imbalance=1.651 nsplit=0       \n",
      "Outer iteration 2 / 10\n",
      "  Iteration 19 (48.47 s, search 31.34 s): objective=2888.74 imbalance=1.200 nsplit=0       \n",
      "Outer iteration 3 / 10\n",
      "  Iteration 19 (64.65 s, search 41.79 s): objective=2886.18 imbalance=1.364 nsplit=0       \n",
      "Outer iteration 4 / 10\n",
      "  Iteration 19 (80.85 s, search 52.28 s): objective=2894.23 imbalance=1.513 nsplit=0       \n",
      "Objective improved: keep new clusters\n",
      "Outer iteration 5 / 10\n",
      "  Iteration 19 (97.01 s, search 62.71 s): objective=2882.86 imbalance=1.517 nsplit=0       \n",
      "Outer iteration 6 / 10\n",
      "  Iteration 19 (113.17 s, search 73.17 s): objective=2888.19 imbalance=1.159 nsplit=0       \n",
      "Outer iteration 7 / 10\n",
      "  Iteration 19 (129.32 s, search 83.62 s): objective=2882.07 imbalance=1.399 nsplit=0       \n",
      "Outer iteration 8 / 10\n",
      "  Iteration 19 (145.44 s, search 94.06 s): objective=2884.29 imbalance=1.245 nsplit=0       \n",
      "Outer iteration 9 / 10\n",
      "  Iteration 19 (161.60 s, search 104.52 s): objective=2892.61 imbalance=1.262 nsplit=0       \n",
      "Sampling a subset of 6400 / 8000 for training\n",
      "Clustering 6400 points in 267264D to 8 clusters, redo 10 times, 20 iterations\n",
      "  Preprocessing in 4.90 s\n",
      "Outer iteration 0 / 10\n",
      "  Iteration 19 (18.49 s, search 11.94 s): objective=3298.76 imbalance=1.280 nsplit=0       \n",
      "Objective improved: keep new clusters\n",
      "Outer iteration 1 / 10\n",
      "  Iteration 19 (37.02 s, search 23.89 s): objective=3310.71 imbalance=1.320 nsplit=0       \n",
      "Objective improved: keep new clusters\n",
      "Outer iteration 2 / 10\n",
      "  Iteration 19 (55.48 s, search 35.82 s): objective=3287.01 imbalance=2.103 nsplit=0       \n",
      "Outer iteration 3 / 10\n",
      "  Iteration 19 (73.94 s, search 47.81 s): objective=3257.07 imbalance=2.847 nsplit=0       \n",
      "Outer iteration 4 / 10\n",
      "  Iteration 19 (92.70 s, search 59.87 s): objective=3304.97 imbalance=1.170 nsplit=0       \n",
      "Outer iteration 5 / 10\n",
      "  Iteration 19 (111.37 s, search 71.89 s): objective=3296.41 imbalance=1.378 nsplit=0       \n",
      "Outer iteration 6 / 10\n",
      "  Iteration 19 (129.85 s, search 83.82 s): objective=3310.51 imbalance=1.263 nsplit=0       \n",
      "Outer iteration 7 / 10\n",
      "  Iteration 19 (148.34 s, search 95.77 s): objective=3307.06 imbalance=1.387 nsplit=0       \n",
      "Outer iteration 8 / 10\n",
      "  Iteration 19 (166.79 s, search 107.69 s): objective=3297.71 imbalance=1.447 nsplit=0       \n",
      "Outer iteration 9 / 10\n",
      "  Iteration 19 (185.25 s, search 119.61 s): objective=3310.06 imbalance=1.593 nsplit=0       \n",
      "Sampling a subset of 7200 / 8000 for training\n",
      "Clustering 7200 points in 267264D to 9 clusters, redo 10 times, 20 iterations\n",
      "  Preprocessing in 5.35 s\n",
      "Outer iteration 0 / 10\n",
      "  Iteration 19 (20.78 s, search 13.41 s): objective=3728.37 imbalance=1.266 nsplit=0       \n",
      "Objective improved: keep new clusters\n",
      "Outer iteration 1 / 10\n",
      "  Iteration 19 (41.59 s, search 26.86 s): objective=3729.05 imbalance=1.323 nsplit=0       \n",
      "Objective improved: keep new clusters\n",
      "Outer iteration 2 / 10\n",
      "  Iteration 19 (62.42 s, search 40.30 s): objective=3731.1 imbalance=1.359 nsplit=0        \n",
      "Objective improved: keep new clusters\n",
      "Outer iteration 3 / 10\n",
      "  Iteration 19 (83.22 s, search 53.73 s): objective=3721.21 imbalance=1.747 nsplit=0       \n",
      "Outer iteration 4 / 10\n",
      "  Iteration 19 (103.96 s, search 67.14 s): objective=3731.92 imbalance=1.540 nsplit=0       \n",
      "Objective improved: keep new clusters\n",
      "Outer iteration 5 / 10\n",
      "  Iteration 19 (124.75 s, search 80.54 s): objective=3725.51 imbalance=1.374 nsplit=0       \n",
      "Outer iteration 6 / 10\n",
      "  Iteration 19 (145.57 s, search 93.97 s): objective=3740.22 imbalance=1.362 nsplit=0       \n",
      "Objective improved: keep new clusters\n",
      "Outer iteration 7 / 10\n",
      "  Iteration 19 (166.32 s, search 107.38 s): objective=3738.67 imbalance=1.259 nsplit=0       \n",
      "Outer iteration 8 / 10\n",
      "  Iteration 19 (187.19 s, search 120.83 s): objective=3726.9 imbalance=1.303 nsplit=0        \n",
      "Outer iteration 9 / 10\n",
      "  Iteration 19 (207.98 s, search 134.24 s): objective=3739.31 imbalance=1.267 nsplit=0       \n",
      "Clustering 8000 points in 267264D to 10 clusters, redo 10 times, 20 iterations\n",
      "  Preprocessing in 1.27 s\n",
      "Outer iteration 0 / 10\n",
      "  Iteration 19 (23.14 s, search 15.01 s): objective=4139.63 imbalance=1.650 nsplit=0       \n",
      "Objective improved: keep new clusters\n",
      "Outer iteration 1 / 10\n",
      "  Iteration 19 (46.13 s, search 29.92 s): objective=4155.49 imbalance=1.307 nsplit=0       \n",
      "Objective improved: keep new clusters\n",
      "Outer iteration 2 / 10\n",
      "  Iteration 19 (69.14 s, search 44.85 s): objective=4146.13 imbalance=1.342 nsplit=0       \n",
      "Outer iteration 3 / 10\n",
      "  Iteration 19 (92.13 s, search 59.77 s): objective=4157.67 imbalance=1.406 nsplit=0       \n",
      "Objective improved: keep new clusters\n",
      "Outer iteration 4 / 10\n",
      "  Iteration 19 (115.12 s, search 74.68 s): objective=4120.4 imbalance=2.523 nsplit=0        \n",
      "Outer iteration 5 / 10\n",
      "  Iteration 19 (138.07 s, search 89.60 s): objective=4133.93 imbalance=1.757 nsplit=0       \n",
      "Outer iteration 6 / 10\n",
      "  Iteration 19 (161.04 s, search 104.52 s): objective=4160.71 imbalance=1.263 nsplit=0       \n",
      "Objective improved: keep new clusters\n",
      "Outer iteration 7 / 10\n",
      "  Iteration 19 (184.27 s, search 119.60 s): objective=4164.39 imbalance=1.247 nsplit=0       \n",
      "Objective improved: keep new clusters\n",
      "Outer iteration 8 / 10\n",
      "  Iteration 19 (207.29 s, search 134.51 s): objective=4156.88 imbalance=1.361 nsplit=0       \n",
      "Outer iteration 9 / 10\n",
      "  Iteration 19 (230.36 s, search 149.47 s): objective=4150.06 imbalance=1.099 nsplit=0       \n",
      "Clustering 8000 points in 267264D to 11 clusters, redo 10 times, 20 iterations\n",
      "  Preprocessing in 1.27 s\n",
      "Outer iteration 0 / 10\n",
      "  Iteration 19 (22.97 s, search 14.92 s): objective=4140.84 imbalance=1.804 nsplit=0       \n",
      "Objective improved: keep new clusters\n",
      "Outer iteration 1 / 10\n",
      "  Iteration 19 (46.11 s, search 29.86 s): objective=4155.97 imbalance=1.229 nsplit=0       \n",
      "Objective improved: keep new clusters\n",
      "Outer iteration 2 / 10\n",
      "  Iteration 19 (69.16 s, search 44.79 s): objective=4155.2 imbalance=1.383 nsplit=0        \n",
      "Outer iteration 3 / 10\n",
      "  Iteration 19 (92.17 s, search 59.70 s): objective=4172.82 imbalance=1.204 nsplit=0       \n",
      "Objective improved: keep new clusters\n",
      "Outer iteration 4 / 10\n",
      "  Iteration 19 (115.20 s, search 74.64 s): objective=4140.52 imbalance=1.670 nsplit=0       \n",
      "Outer iteration 5 / 10\n",
      "  Iteration 19 (138.32 s, search 89.60 s): objective=4136.43 imbalance=1.746 nsplit=0       \n",
      "Outer iteration 6 / 10\n",
      "  Iteration 19 (161.34 s, search 104.55 s): objective=4165.58 imbalance=1.236 nsplit=0       \n",
      "Outer iteration 7 / 10\n",
      "  Iteration 19 (184.46 s, search 119.51 s): objective=4175.53 imbalance=1.267 nsplit=0       \n",
      "Objective improved: keep new clusters\n",
      "Outer iteration 8 / 10\n",
      "  Iteration 19 (207.51 s, search 134.47 s): objective=4168.57 imbalance=1.392 nsplit=0       \n",
      "Outer iteration 9 / 10\n",
      "  Iteration 19 (230.58 s, search 149.36 s): objective=4157.22 imbalance=1.063 nsplit=0       \n",
      "Clustering 8000 points in 267264D to 12 clusters, redo 10 times, 20 iterations\n",
      "  Preprocessing in 1.27 s\n",
      "Outer iteration 0 / 10\n",
      "  Iteration 19 (23.04 s, search 14.96 s): objective=4142.56 imbalance=1.541 nsplit=0       \n",
      "Objective improved: keep new clusters\n",
      "Outer iteration 1 / 10\n",
      "  Iteration 19 (46.12 s, search 29.88 s): objective=4164.76 imbalance=1.271 nsplit=0       \n",
      "Objective improved: keep new clusters\n",
      "Outer iteration 2 / 10\n",
      "  Iteration 19 (69.15 s, search 44.81 s): objective=4163.87 imbalance=1.430 nsplit=0       \n",
      "Outer iteration 3 / 10\n",
      "  Iteration 19 (92.20 s, search 59.74 s): objective=4176.99 imbalance=1.084 nsplit=0       \n",
      "Objective improved: keep new clusters\n",
      "Outer iteration 4 / 10\n",
      "  Iteration 19 (115.23 s, search 74.67 s): objective=4145.62 imbalance=1.784 nsplit=0       \n",
      "Outer iteration 5 / 10\n",
      "  Iteration 19 (138.31 s, search 89.63 s): objective=4146.08 imbalance=1.731 nsplit=0       \n",
      "Outer iteration 6 / 10\n",
      "  Iteration 19 (161.35 s, search 104.56 s): objective=4169.36 imbalance=1.285 nsplit=0       \n",
      "Outer iteration 7 / 10\n",
      "  Iteration 19 (184.41 s, search 119.52 s): objective=4179.77 imbalance=1.246 nsplit=0       \n",
      "Objective improved: keep new clusters\n",
      "Outer iteration 8 / 10\n",
      "  Iteration 19 (207.46 s, search 134.44 s): objective=4181.59 imbalance=1.278 nsplit=0       \n",
      "Objective improved: keep new clusters\n",
      "Outer iteration 9 / 10\n",
      "  Iteration 19 (230.56 s, search 149.35 s): objective=4161.77 imbalance=1.088 nsplit=0       \n",
      "Clustering 8000 points in 267264D to 13 clusters, redo 10 times, 20 iterations\n",
      "  Preprocessing in 1.27 s\n",
      "Outer iteration 0 / 10\n",
      "  Iteration 19 (23.01 s, search 14.93 s): objective=4143.35 imbalance=1.666 nsplit=0       \n",
      "Objective improved: keep new clusters\n",
      "Outer iteration 1 / 10\n",
      "  Iteration 19 (46.15 s, search 29.86 s): objective=4176.72 imbalance=1.290 nsplit=0       \n",
      "Objective improved: keep new clusters\n",
      "Outer iteration 2 / 10\n",
      "  Iteration 19 (69.22 s, search 44.81 s): objective=4169.49 imbalance=1.722 nsplit=0       \n",
      "Outer iteration 3 / 10\n",
      "  Iteration 19 (92.29 s, search 59.74 s): objective=4186.15 imbalance=1.096 nsplit=0       \n",
      "Objective improved: keep new clusters\n",
      "Outer iteration 4 / 10\n",
      "  Iteration 19 (115.37 s, search 74.69 s): objective=4163.38 imbalance=1.616 nsplit=0       \n",
      "Outer iteration 5 / 10\n",
      "  Iteration 19 (138.40 s, search 89.61 s): objective=4160.55 imbalance=1.532 nsplit=0       \n",
      "Outer iteration 6 / 10\n",
      "  Iteration 19 (161.43 s, search 104.51 s): objective=4172.44 imbalance=1.321 nsplit=0       \n",
      "Outer iteration 7 / 10\n",
      "  Iteration 19 (184.49 s, search 119.44 s): objective=4181.51 imbalance=1.312 nsplit=0       \n",
      "Outer iteration 8 / 10\n",
      "  Iteration 19 (207.52 s, search 134.35 s): objective=4188.93 imbalance=1.325 nsplit=0       \n",
      "Objective improved: keep new clusters\n",
      "Outer iteration 9 / 10\n",
      "  Iteration 19 (230.67 s, search 149.27 s): objective=4163.83 imbalance=1.167 nsplit=0       \n",
      "Clustering 8000 points in 267264D to 14 clusters, redo 10 times, 20 iterations\n",
      "  Preprocessing in 1.27 s\n",
      "Outer iteration 0 / 10\n",
      "  Iteration 19 (23.06 s, search 14.92 s): objective=4146.89 imbalance=1.719 nsplit=0       \n",
      "Objective improved: keep new clusters\n",
      "Outer iteration 1 / 10\n",
      "  Iteration 19 (46.33 s, search 29.94 s): objective=4187.83 imbalance=1.228 nsplit=0       \n",
      "Objective improved: keep new clusters\n",
      "Outer iteration 2 / 10\n",
      "  Iteration 19 (69.42 s, search 44.87 s): objective=4178.35 imbalance=1.569 nsplit=0       \n",
      "Outer iteration 3 / 10\n",
      "  Iteration 19 (92.49 s, search 59.80 s): objective=4188.15 imbalance=1.249 nsplit=0       \n",
      "Objective improved: keep new clusters\n",
      "Outer iteration 4 / 10\n",
      "  Iteration 19 (115.57 s, search 74.72 s): objective=4164.36 imbalance=1.731 nsplit=0       \n",
      "Outer iteration 5 / 10\n",
      "  Iteration 19 (138.60 s, search 89.63 s): objective=4165.45 imbalance=1.635 nsplit=0       \n",
      "Outer iteration 6 / 10\n",
      "  Iteration 19 (161.71 s, search 104.56 s): objective=4180.58 imbalance=1.231 nsplit=0       \n",
      "Outer iteration 7 / 10\n",
      "  Iteration 19 (184.81 s, search 119.50 s): objective=4187.2 imbalance=1.378 nsplit=0        \n",
      "Outer iteration 8 / 10\n",
      "  Iteration 19 (207.92 s, search 134.45 s): objective=4190.91 imbalance=1.414 nsplit=0       \n",
      "Objective improved: keep new clusters\n",
      "Outer iteration 9 / 10\n",
      "  Iteration 19 (231.18 s, search 149.39 s): objective=4165.45 imbalance=1.161 nsplit=0       \n",
      "Clustering 8000 points in 267264D to 15 clusters, redo 10 times, 20 iterations\n",
      "  Preprocessing in 1.27 s\n",
      "Outer iteration 0 / 10\n",
      "  Iteration 19 (23.06 s, search 14.92 s): objective=4153.28 imbalance=1.712 nsplit=0       \n",
      "Objective improved: keep new clusters\n",
      "Outer iteration 1 / 10\n",
      "  Iteration 19 (46.22 s, search 29.84 s): objective=4183.94 imbalance=1.251 nsplit=0       \n",
      "Objective improved: keep new clusters\n",
      "Outer iteration 2 / 10\n",
      "  Iteration 19 (69.32 s, search 44.77 s): objective=4184.93 imbalance=1.588 nsplit=0       \n",
      "Objective improved: keep new clusters\n",
      "Outer iteration 3 / 10\n",
      "  Iteration 19 (92.43 s, search 59.68 s): objective=4198.96 imbalance=1.209 nsplit=0       \n",
      "Objective improved: keep new clusters\n",
      "Outer iteration 4 / 10\n",
      "  Iteration 19 (115.51 s, search 74.60 s): objective=4167.36 imbalance=1.842 nsplit=0       \n",
      "Outer iteration 5 / 10\n",
      "  Iteration 19 (138.55 s, search 89.50 s): objective=4166.49 imbalance=1.749 nsplit=0       \n",
      "Outer iteration 6 / 10\n",
      "  Iteration 19 (161.68 s, search 104.44 s): objective=4182.81 imbalance=1.280 nsplit=0       \n",
      "Outer iteration 7 / 10\n",
      "  Iteration 19 (184.73 s, search 119.36 s): objective=4180.37 imbalance=1.744 nsplit=0       \n",
      "Outer iteration 8 / 10\n",
      "  Iteration 19 (207.82 s, search 134.27 s): objective=4194.99 imbalance=1.312 nsplit=0       \n",
      "Outer iteration 9 / 10\n",
      "  Iteration 19 (231.08 s, search 149.21 s): objective=4173.32 imbalance=1.211 nsplit=0       \r"
     ]
    },
    {
     "data": {
      "text/plain": [
       "[<matplotlib.lines.Line2D at 0x711017fb7f90>]"
      ]
     },
     "execution_count": 13,
     "metadata": {},
     "output_type": "execute_result"
    },
    {
     "data": {
      "image/png": "[encoded data removed]",
      "text/plain": [
       "<Figure size 432x288 with 1 Axes>"
      ]
     },
     "metadata": {
      "needs_background": "light"
     },
     "output_type": "display_data"
    }
   ],
   "source": [
    "# Elbow Plot\n",
    "niter = 20\n",
    "verbose = True\n",
    "dim = X_train.shape[1]\n",
    "\n",
    "k_vals = [k for k in range(5, 16)]\n",
    "wccs = []\n",
    "for k in k_vals:\n",
    "    kmeans = faiss.Kmeans(dim, k, niter = niter, verbose = verbose, gpu = True, nredo = 10, spherical = True, max_points_per_centroid = 800)\n",
    "    kmeans.train(X_train)\n",
    "    wccs.append(kmeans.obj[-1])\n",
    "\n",
    "plt.plot(k_vals, wccs)"
   ]
  },
  {
   "cell_type": "code",
   "execution_count": 14,
   "id": "289102b9",
   "metadata": {
    "scrolled": true,
    "tags": []
   },
   "outputs": [
    {
     "name": "stdout",
     "output_type": "stream",
     "text": [
      "\n",
      "Clustering 8000 points in 267264D to 10 clusters, redo 10 times, 20 iterations\n",
      "  Preprocessing in 1.27 s\n",
      "Outer iteration 0 / 10\n",
      "  Iteration 19 (22.98 s, search 14.94 s): objective=4139.63 imbalance=1.650 nsplit=0       \n",
      "Objective improved: keep new clusters\n",
      "Outer iteration 1 / 10\n",
      "  Iteration 19 (46.03 s, search 29.89 s): objective=4155.49 imbalance=1.307 nsplit=0       \n",
      "Objective improved: keep new clusters\n",
      "Outer iteration 2 / 10\n",
      "  Iteration 19 (69.04 s, search 44.81 s): objective=4146.13 imbalance=1.342 nsplit=0       \n",
      "Outer iteration 3 / 10\n",
      "  Iteration 19 (92.17 s, search 59.82 s): objective=4157.67 imbalance=1.406 nsplit=0       \n",
      "Objective improved: keep new clusters\n",
      "Outer iteration 4 / 10\n",
      "  Iteration 19 (115.22 s, search 74.76 s): objective=4120.4 imbalance=2.523 nsplit=0        \n",
      "Outer iteration 5 / 10\n",
      "  Iteration 19 (138.22 s, search 89.68 s): objective=4133.93 imbalance=1.757 nsplit=0       \n",
      "Outer iteration 6 / 10\n",
      "  Iteration 19 (161.19 s, search 104.60 s): objective=4160.71 imbalance=1.263 nsplit=0       \n",
      "Objective improved: keep new clusters\n",
      "Outer iteration 7 / 10\n",
      "  Iteration 19 (184.16 s, search 119.52 s): objective=4164.39 imbalance=1.247 nsplit=0       \n",
      "Objective improved: keep new clusters\n",
      "Outer iteration 8 / 10\n",
      "  Iteration 19 (207.16 s, search 134.44 s): objective=4156.88 imbalance=1.361 nsplit=0       \n",
      "Outer iteration 9 / 10\n",
      "  Iteration 19 (230.22 s, search 149.39 s): objective=4150.06 imbalance=1.099 nsplit=0       \r"
     ]
    },
    {
     "data": {
      "text/plain": [
       "4164.39013671875"
      ]
     },
     "execution_count": 14,
     "metadata": {},
     "output_type": "execute_result"
    }
   ],
   "source": [
    "# K-means Clustering\n",
    "\n",
    "# ncentroids = NUM_PROMPTS\n",
    "ncentroids = 10 # Elbow point - based on objective (sum of cosine similarities)\n",
    "niter = 20\n",
    "verbose = True\n",
    "dim = X_train.shape[1]\n",
    "kmeans = faiss.Kmeans(dim, ncentroids, niter = niter, verbose = verbose, gpu = True, nredo = 10, spherical = True, max_points_per_centroid = 800)\n",
    "kmeans.train(X_train)"
   ]
  },
  {
   "cell_type": "code",
   "execution_count": 15,
   "id": "19cf0f0a",
   "metadata": {
    "tags": []
   },
   "outputs": [
    {
     "data": {
      "text/plain": [
       "array([[-1.9111346e-02,  2.1351352e-02,  8.6700879e-03, ...,\n",
       "         0.0000000e+00,  0.0000000e+00,  0.0000000e+00],\n",
       "       [-2.1132160e-02,  2.3609009e-02,  9.5868548e-03, ...,\n",
       "         0.0000000e+00,  0.0000000e+00,  0.0000000e+00],\n",
       "       [-1.7195243e-02,  1.9210663e-02,  7.8008282e-03, ...,\n",
       "         0.0000000e+00,  0.0000000e+00,  0.0000000e+00],\n",
       "       ...,\n",
       "       [-1.7973455e-02,  2.0080088e-02,  8.1538772e-03, ...,\n",
       "         1.6521160e-06,  1.7453472e-06,  8.8428224e-06],\n",
       "       [-1.7449785e-02,  1.9495029e-02,  7.9163071e-03, ...,\n",
       "        -1.2428680e-05,  2.3821083e-05, -3.9882948e-06],\n",
       "       [-2.1297082e-02,  2.3793273e-02,  9.6616801e-03, ...,\n",
       "         0.0000000e+00,  0.0000000e+00,  0.0000000e+00]], dtype=float32)"
      ]
     },
     "execution_count": 15,
     "metadata": {},
     "output_type": "execute_result"
    }
   ],
   "source": [
    "kmeans.centroids #cluster centers"
   ]
  },
  {
   "cell_type": "code",
   "execution_count": 16,
   "id": "61e726e9",
   "metadata": {
    "tags": []
   },
   "outputs": [
    {
     "name": "stdout",
     "output_type": "stream",
     "text": [
      "1.0000182\n",
      "1.0000062\n",
      "1.0000232\n",
      "1.0000066\n",
      "1.0000161\n",
      "1.000007\n",
      "1.0000051\n",
      "1.0000286\n",
      "1.0000129\n",
      "1.0000086\n"
     ]
    }
   ],
   "source": [
    "for centroid in kmeans.centroids:\n",
    "    print(np.linalg.norm(centroid))"
   ]
  },
  {
   "cell_type": "code",
   "execution_count": 17,
   "id": "e5e1fa18",
   "metadata": {
    "tags": []
   },
   "outputs": [
    {
     "data": {
      "text/plain": [
       "array([2557.33862305, 3968.10522461, 4069.87060547, 4111.54296875,\n",
       "       4125.41503906, 4132.62646484, 4135.91650391, 4136.85107422,\n",
       "       4137.15722656, 4137.31884766, 4137.45410156, 4137.55322266,\n",
       "       4137.68359375, 4137.89111328, 4138.24707031, 4138.86279297,\n",
       "       4139.26220703, 4139.34423828, 4139.41015625, 4139.62744141,\n",
       "       2561.96386719, 3963.140625  , 4069.57495117, 4119.98730469,\n",
       "       4134.60888672, 4143.21533203, 4147.04052734, 4147.92675781,\n",
       "       4148.60644531, 4149.35742188, 4150.85058594, 4153.57373047,\n",
       "       4155.25683594, 4155.421875  , 4155.46386719, 4155.47607422,\n",
       "       4155.48339844, 4155.48535156, 4155.48535156, 4155.48535156,\n",
       "       2480.39160156, 3974.8527832 , 4082.35644531, 4112.91748047,\n",
       "       4124.75537109, 4135.4296875 , 4140.68798828, 4142.24853516,\n",
       "       4143.23632812, 4144.15234375, 4144.79541016, 4145.13525391,\n",
       "       4145.31933594, 4145.47998047, 4145.62744141, 4145.76904297,\n",
       "       4145.87402344, 4145.98583984, 4146.05810547, 4146.12890625,\n",
       "       2407.9387207 , 4021.41552734, 4108.62207031, 4135.71679688,\n",
       "       4144.58935547, 4150.04052734, 4152.61425781, 4155.74951172,\n",
       "       4157.21240234, 4157.34472656, 4157.48193359, 4157.55126953,\n",
       "       4157.57958984, 4157.59667969, 4157.61279297, 4157.63964844,\n",
       "       4157.64697266, 4157.66162109, 4157.66601562, 4157.66699219,\n",
       "       2240.26025391, 4051.26757812, 4099.07324219, 4107.59960938,\n",
       "       4112.96679688, 4114.89257812, 4116.00732422, 4117.12548828,\n",
       "       4117.45556641, 4117.58007812, 4117.63134766, 4117.71044922,\n",
       "       4117.85302734, 4118.09521484, 4118.40625   , 4118.81054688,\n",
       "       4119.39892578, 4119.86962891, 4120.15673828, 4120.40136719,\n",
       "       2586.26855469, 3955.78979492, 4049.71142578, 4080.02832031,\n",
       "       4109.44677734, 4121.41210938, 4124.3828125 , 4126.10546875,\n",
       "       4127.64257812, 4129.18310547, 4130.38867188, 4131.17333984,\n",
       "       4132.12304688, 4133.43457031, 4133.68261719, 4133.82666016,\n",
       "       4133.89111328, 4133.90380859, 4133.92822266, 4133.93457031,\n",
       "       2510.69873047, 4003.34423828, 4123.67578125, 4146.15625   ,\n",
       "       4151.15673828, 4154.45800781, 4156.66699219, 4158.45751953,\n",
       "       4158.78125   , 4159.00244141, 4159.35644531, 4160.07519531,\n",
       "       4160.33007812, 4160.46923828, 4160.58447266, 4160.62548828,\n",
       "       4160.64892578, 4160.67871094, 4160.70117188, 4160.7109375 ,\n",
       "       2528.3515625 , 3970.58740234, 4077.28076172, 4134.13720703,\n",
       "       4152.90625   , 4161.25878906, 4163.68261719, 4164.03613281,\n",
       "       4164.15332031, 4164.22900391, 4164.29882812, 4164.34472656,\n",
       "       4164.35888672, 4164.37939453, 4164.38378906, 4164.38574219,\n",
       "       4164.39013672, 4164.39013672, 4164.39013672, 4164.39013672])"
      ]
     },
     "execution_count": 17,
     "metadata": {},
     "output_type": "execute_result"
    }
   ],
   "source": [
    "kmeans.obj #inertia at each iteration"
   ]
  },
  {
   "cell_type": "code",
   "execution_count": 18,
   "id": "ed2c340d",
   "metadata": {
    "tags": []
   },
   "outputs": [],
   "source": [
    "cos_similarities = X_train @ kmeans.centroids.T\n",
    "classifications_train = np.argmax(cos_similarities, axis=1)"
   ]
  },
  {
   "cell_type": "code",
   "execution_count": 19,
   "id": "90aae79f",
   "metadata": {
    "tags": []
   },
   "outputs": [
    {
     "data": {
      "text/plain": [
       "4    1403\n",
       "0    1368\n",
       "6    1055\n",
       "5    1043\n",
       "8     851\n",
       "3     820\n",
       "9     448\n",
       "2     341\n",
       "7     337\n",
       "1     334\n",
       "dtype: int64"
      ]
     },
     "execution_count": 19,
     "metadata": {},
     "output_type": "execute_result"
    }
   ],
   "source": [
    "pd.Series(classifications_train).value_counts()"
   ]
  },
  {
   "cell_type": "code",
   "execution_count": 20,
   "id": "fc34c419-5d92-4dc6-8db4-9dc84b83a8d4",
   "metadata": {
    "tags": []
   },
   "outputs": [
    {
     "data": {
      "text/plain": [
       "[6, 10, 9, 5, 4, 6, 1, 3, 10, 3]"
      ]
     },
     "execution_count": 20,
     "metadata": {},
     "output_type": "execute_result"
    }
   ],
   "source": [
    "# Get most common label for each point classified to a centroid (same centroid)\n",
    "centroid_labels = [np.where(classifications_train == i)[0] for i in range(ncentroids)]\n",
    "max_label_per_centroid = [int(pd.Series(y_train[centroid_labels[i]]).value_counts().idxmax()) for i in range(ncentroids)]\n",
    "max_label_per_centroid"
   ]
  },
  {
   "cell_type": "code",
   "execution_count": 21,
   "id": "20e159a9-ef63-4a0e-8e94-52e041a5c416",
   "metadata": {
    "tags": []
   },
   "outputs": [],
   "source": [
    "centroid_to_label = {idx : max_label_per_centroid[idx] for idx in range(len(max_label_per_centroid))}"
   ]
  },
  {
   "cell_type": "code",
   "execution_count": 22,
   "id": "45760bd2-820d-462e-a8ef-8d054ed5dde4",
   "metadata": {
    "tags": []
   },
   "outputs": [
    {
     "data": {
      "text/plain": [
       "{0: 6, 1: 10, 2: 9, 3: 5, 4: 4, 5: 6, 6: 1, 7: 3, 8: 10, 9: 3}"
      ]
     },
     "execution_count": 22,
     "metadata": {},
     "output_type": "execute_result"
    }
   ],
   "source": [
    "centroid_to_label"
   ]
  },
  {
   "cell_type": "code",
   "execution_count": 23,
   "id": "b9cf2ac5-ce04-4efe-9828-041723e1f453",
   "metadata": {
    "tags": []
   },
   "outputs": [
    {
     "data": {
      "text/plain": [
       "array([ 6,  9,  9, ...,  6, 10, 10])"
      ]
     },
     "execution_count": 23,
     "metadata": {},
     "output_type": "execute_result"
    }
   ],
   "source": [
    "vectorized_map = np.vectorize(centroid_to_label.get)\n",
    "classifications_to_label = vectorized_map(classifications_train)\n",
    "\n",
    "classifications_to_label"
   ]
  },
  {
   "cell_type": "code",
   "execution_count": 24,
   "id": "c793f2dc-74de-4e3a-b0a8-3839b1be8dd9",
   "metadata": {
    "tags": []
   },
   "outputs": [
    {
     "name": "stdout",
     "output_type": "stream",
     "text": [
      "Prompt 1 Accuracy:  0.31375\n",
      "Prompt 2 Accuracy:  0.0\n",
      "Prompt 3 Accuracy:  0.98125\n",
      "Prompt 4 Accuracy:  0.34125\n",
      "Prompt 5 Accuracy:  0.415\n",
      "Prompt 6 Accuracy:  0.56875\n",
      "Prompt 7 Accuracy:  0.0\n",
      "Prompt 8 Accuracy:  0.0\n",
      "Prompt 9 Accuracy:  0.2175\n",
      "Prompt 10 Accuracy:  0.81\n"
     ]
    }
   ],
   "source": [
    "for i in range(10):\n",
    "    print(f\"Prompt {i + 1} Accuracy: \", np.mean(classifications_to_label[i * 800:(i + 1) * 800] == (i + 1)))"
   ]
  },
  {
   "cell_type": "code",
   "execution_count": 25,
   "id": "ac9d3497-d991-455d-a121-1a4c234314b0",
   "metadata": {
    "tags": []
   },
   "outputs": [
    {
     "name": "stdout",
     "output_type": "stream",
     "text": [
      "Overall Accuracy:  0.36475\n"
     ]
    }
   ],
   "source": [
    "print(f\"Overall Accuracy: \", np.mean(classifications_to_label == y_train))"
   ]
  },
  {
   "cell_type": "markdown",
   "id": "b8d32ef1-a624-4d32-abcb-8daacad47cdc",
   "metadata": {},
   "source": [
    "## Perform Inference on Test Set & Collect Test Accuracy"
   ]
  },
  {
   "cell_type": "code",
   "execution_count": 26,
   "id": "2431abbc-b684-4c06-8fd6-06c771a1c4fa",
   "metadata": {},
   "outputs": [],
   "source": [
    "cos_similarities = X_test @ kmeans.centroids.T\n",
    "classifications_test = np.argmax(cos_similarities, axis=1)"
   ]
  },
  {
   "cell_type": "code",
   "execution_count": 27,
   "id": "d9a7dd1c-884b-4bef-b538-6c0a65a6f7e4",
   "metadata": {},
   "outputs": [
    {
     "data": {
      "text/plain": [
       "0    347\n",
       "4    346\n",
       "6    281\n",
       "5    248\n",
       "3    208\n",
       "8    194\n",
       "9    106\n",
       "2    104\n",
       "7     88\n",
       "1     78\n",
       "dtype: int64"
      ]
     },
     "execution_count": 27,
     "metadata": {},
     "output_type": "execute_result"
    }
   ],
   "source": [
    "pd.Series(classifications_test).value_counts()"
   ]
  },
  {
   "cell_type": "code",
   "execution_count": 28,
   "id": "6fa74238-a2b3-4277-bcd6-88ab9d5caf4f",
   "metadata": {},
   "outputs": [
    {
     "data": {
      "text/plain": [
       "array([ 1,  9,  6, ..., 10, 10, 10])"
      ]
     },
     "execution_count": 28,
     "metadata": {},
     "output_type": "execute_result"
    }
   ],
   "source": [
    "classifications_to_label_test = vectorized_map(classifications_test)\n",
    "\n",
    "classifications_to_label_test"
   ]
  },
  {
   "cell_type": "code",
   "execution_count": 29,
   "id": "799e3a99-6659-44b7-becd-4d0825fd1957",
   "metadata": {},
   "outputs": [
    {
     "name": "stdout",
     "output_type": "stream",
     "text": [
      "Prompt 1 Accuracy:  0.33\n",
      "Prompt 2 Accuracy:  0.0\n",
      "Prompt 3 Accuracy:  0.97\n",
      "Prompt 4 Accuracy:  0.35\n",
      "Prompt 5 Accuracy:  0.455\n",
      "Prompt 6 Accuracy:  0.535\n",
      "Prompt 7 Accuracy:  0.0\n",
      "Prompt 8 Accuracy:  0.0\n",
      "Prompt 9 Accuracy:  0.275\n",
      "Prompt 10 Accuracy:  0.825\n"
     ]
    }
   ],
   "source": [
    "for i in range(10):\n",
    "    print(f\"Prompt {i + 1} Accuracy: \", np.mean(classifications_to_label_test[i * 200:(i + 1) * 200] == (i + 1)))"
   ]
  },
  {
   "cell_type": "code",
   "execution_count": 30,
   "id": "4f97cfa0-27da-4897-8e65-681b75ad51d7",
   "metadata": {},
   "outputs": [
    {
     "name": "stdout",
     "output_type": "stream",
     "text": [
      "Overall Accuracy:  0.374\n"
     ]
    }
   ],
   "source": [
    "print(f\"Overall Accuracy: \", np.mean(classifications_to_label_test == y_test))"
   ]
  },
  {
   "cell_type": "markdown",
   "id": "ee076424-49c5-4245-a3a3-56fba51465ea",
   "metadata": {},
   "source": [
    "## Confusion Matrix of Results"
   ]
  },
  {
   "cell_type": "code",
   "execution_count": 31,
   "id": "b9175267-2fef-4f02-930e-c263ec396f91",
   "metadata": {
    "tags": []
   },
   "outputs": [],
   "source": [
    "from sklearn.metrics import confusion_matrix, ConfusionMatrixDisplay\n",
    "import matplotlib.pyplot as plt"
   ]
  },
  {
   "cell_type": "code",
   "execution_count": 32,
   "id": "3c2c3ac7-26e3-42d5-860a-918d735776c1",
   "metadata": {
    "tags": []
   },
   "outputs": [
    {
     "data": {
      "image/png": "[encoded data removed]",
      "text/plain": [
       "<Figure size 432x288 with 2 Axes>"
      ]
     },
     "metadata": {
      "needs_background": "light"
     },
     "output_type": "display_data"
    }
   ],
   "source": [
    "cm = confusion_matrix(y_train, classifications_to_label)\n",
    "disp = ConfusionMatrixDisplay(confusion_matrix=cm, display_labels=[f\"{i}\" for i in range(1, 11)])\n",
    "\n",
    "disp.plot()\n",
    "plt.title('Confusion Matrix for Train Set')\n",
    "plt.show()"
   ]
  },
  {
   "cell_type": "code",
   "execution_count": 33,
   "id": "03a45427-f767-4838-968e-c341eca03746",
   "metadata": {
    "tags": []
   },
   "outputs": [
    {
     "data": {
      "image/png": "[encoded data removed]",
      "text/plain": [
       "<Figure size 432x288 with 2 Axes>"
      ]
     },
     "metadata": {
      "needs_background": "light"
     },
     "output_type": "display_data"
    }
   ],
   "source": [
    "cm = confusion_matrix(y_test, classifications_to_label_test)\n",
    "disp = ConfusionMatrixDisplay(confusion_matrix=cm, display_labels=[f\"{i}\" for i in range(1, 11)])\n",
    "\n",
    "disp.plot()\n",
    "plt.title('Confusion Matrix for Test Set')\n",
    "plt.show()"
   ]
  },
  {
   "cell_type": "code",
   "execution_count": null,
   "id": "1322b9ab-2b94-4d00-95cf-1b3741b9f482",
   "metadata": {},
   "outputs": [],
   "source": []
  },
  {
   "cell_type": "code",
   "execution_count": null,
   "id": "de826fc3-e67f-45cb-bb74-15dfcbd3d18d",
   "metadata": {},
   "outputs": [],
   "source": []
  }
 ],
 "metadata": {
  "kernelspec": {
   "display_name": "Python 3 (ipykernel)",
   "language": "python",
   "name": "python3"
  },
  "language_info": {
   "codemirror_mode": {
    "name": "ipython",
    "version": 3
   },
   "file_extension": ".py",
   "mimetype": "text/x-python",
   "name": "python",
   "nbconvert_exporter": "python",
   "pygments_lexer": "ipython3",
   "version": "3.7.11"
  }
 },
 "nbformat": 4,
 "nbformat_minor": 5
}
