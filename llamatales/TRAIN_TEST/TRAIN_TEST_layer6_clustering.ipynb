{
 "cells": [
  {
   "cell_type": "markdown",
   "id": "64c867a4-b1c3-426b-b086-de071a726ebf",
   "metadata": {},
   "source": [
    "## Install Packages"
   ]
  },
  {
   "cell_type": "code",
   "execution_count": 1,
   "id": "80849741",
   "metadata": {
    "tags": []
   },
   "outputs": [
    {
     "name": "stdout",
     "output_type": "stream",
     "text": [
      "Collecting package metadata (current_repodata.json): - WARNING conda.models.version:get_matcher(540): Using .* with relational operator is superfluous and deprecated and will be removed in a future version of conda. Your spec was 1.7.1.*, but conda is ignoring the .* and treating it as 1.7.1\n",
      "done\n",
      "Solving environment: failed with initial frozen solve. Retrying with flexible solve.\n",
      "Solving environment: failed with repodata from current_repodata.json, will retry with next repodata source.\n",
      "Collecting package metadata (repodata.json): / WARNING conda.models.version:get_matcher(540): Using .* with relational operator is superfluous and deprecated and will be removed in a future version of conda. Your spec was 1.6.0.*, but conda is ignoring the .* and treating it as 1.6.0\n",
      "WARNING conda.models.version:get_matcher(540): Using .* with relational operator is superfluous and deprecated and will be removed in a future version of conda. Your spec was 1.8.0.*, but conda is ignoring the .* and treating it as 1.8.0\n",
      "WARNING conda.models.version:get_matcher(540): Using .* with relational operator is superfluous and deprecated and will be removed in a future version of conda. Your spec was 1.9.0.*, but conda is ignoring the .* and treating it as 1.9.0\n",
      "done\n",
      "Solving environment: done\n",
      "\n",
      "\n",
      "==> WARNING: A newer version of conda exists. <==\n",
      "  current version: 4.10.3\n",
      "  latest version: 25.7.0\n",
      "\n",
      "Please update conda by running\n",
      "\n",
      "    $ conda update -n base -c defaults conda\n",
      "\n",
      "\n",
      "\n",
      "## Package Plan ##\n",
      "\n",
      "  environment location: /opt/conda\n",
      "\n",
      "  added / updated specs:\n",
      "    - faiss-gpu\n",
      "\n",
      "\n",
      "The following packages will be downloaded:\n",
      "\n",
      "    package                    |            build\n",
      "    ---------------------------|-----------------\n",
      "    ca-certificates-2025.8.3   |       hbd8a1cb_0         151 KB  conda-forge\n",
      "    certifi-2024.8.30          |     pyhd8ed1ab_0         160 KB  conda-forge\n",
      "    conda-4.12.0               |   py37h89c1867_0         1.0 MB  conda-forge\n",
      "    faiss-1.7.1                |py37cuda111h7f21d35_1_cuda         2.0 MB  conda-forge\n",
      "    faiss-gpu-1.7.1            |       h788eb59_1          15 KB  conda-forge\n",
      "    libblas-3.9.0              |   26_linux64_mkl          16 KB  conda-forge\n",
      "    libfaiss-1.7.1             |cuda111hf54f04a_1_cuda        80.2 MB  conda-forge\n",
      "    libfaiss-avx2-1.7.1        |cuda111h1234567_1_cuda        80.3 MB  conda-forge\n",
      "    liblapack-3.9.0            |   26_linux64_mkl          16 KB  conda-forge\n",
      "    openssl-1.1.1w             |       h7f8727e_0         3.7 MB\n",
      "    python_abi-3.7             |          2_cp37m           4 KB  conda-forge\n",
      "    ------------------------------------------------------------\n",
      "                                           Total:       167.6 MB\n",
      "\n",
      "The following NEW packages will be INSTALLED:\n",
      "\n",
      "  faiss              conda-forge/linux-64::faiss-1.7.1-py37cuda111h7f21d35_1_cuda\n",
      "  faiss-gpu          conda-forge/linux-64::faiss-gpu-1.7.1-h788eb59_1\n",
      "  libblas            conda-forge/linux-64::libblas-3.9.0-26_linux64_mkl\n",
      "  libfaiss           conda-forge/linux-64::libfaiss-1.7.1-cuda111hf54f04a_1_cuda\n",
      "  libfaiss-avx2      conda-forge/linux-64::libfaiss-avx2-1.7.1-cuda111h1234567_1_cuda\n",
      "  liblapack          conda-forge/linux-64::liblapack-3.9.0-26_linux64_mkl\n",
      "  python_abi         conda-forge/linux-64::python_abi-3.7-2_cp37m\n",
      "\n",
      "The following packages will be UPDATED:\n",
      "\n",
      "  ca-certificates    pkgs/main/linux-64::ca-certificates-2~ --> conda-forge/noarch::ca-certificates-2025.8.3-hbd8a1cb_0\n",
      "  certifi            pkgs/main/linux-64::certifi-2021.10.8~ --> conda-forge/noarch::certifi-2024.8.30-pyhd8ed1ab_0\n",
      "  conda              pkgs/main::conda-4.10.3-py37h06a4308_0 --> conda-forge::conda-4.12.0-py37h89c1867_0\n",
      "  openssl                                 1.1.1l-h7f8727e_0 --> 1.1.1w-h7f8727e_0\n",
      "\n",
      "\n",
      "\n",
      "Downloading and Extracting Packages\n",
      "openssl-1.1.1w       | 3.7 MB    | ##################################### | 100% \n",
      "libfaiss-1.7.1       | 80.2 MB   | ##################################### | 100% \n",
      "libfaiss-avx2-1.7.1  | 80.3 MB   | ##################################### | 100% \n",
      "certifi-2024.8.30    | 160 KB    | ##################################### | 100% \n",
      "python_abi-3.7       | 4 KB      | ##################################### | 100% \n",
      "faiss-1.7.1          | 2.0 MB    | ##################################### | 100% \n",
      "liblapack-3.9.0      | 16 KB     | ##################################### | 100% \n",
      "faiss-gpu-1.7.1      | 15 KB     | ##################################### | 100% \n",
      "ca-certificates-2025 | 151 KB    | ##################################### | 100% \n",
      "conda-4.12.0         | 1.0 MB    | ##################################### | 100% \n",
      "libblas-3.9.0        | 16 KB     | ##################################### | 100% \n",
      "Preparing transaction: done\n",
      "Verifying transaction: done\n",
      "Executing transaction: done\n",
      "Get:1 http://security.ubuntu.com/ubuntu bionic-security InRelease [102 kB]     \n",
      "Hit:2 http://archive.ubuntu.com/ubuntu bionic InRelease                        \n",
      "Get:3 http://archive.ubuntu.com/ubuntu bionic-updates InRelease [102 kB]       \n",
      "Get:4 http://security.ubuntu.com/ubuntu bionic-security/universe amd64 Packages [1637 kB]\n",
      "Get:5 http://archive.ubuntu.com/ubuntu bionic-backports InRelease [102 kB]     \n",
      "Get:6 http://security.ubuntu.com/ubuntu bionic-security/restricted amd64 Packages [1688 kB]\n",
      "Get:7 http://security.ubuntu.com/ubuntu bionic-security/multiverse amd64 Packages [23.8 kB]\n",
      "Get:8 http://security.ubuntu.com/ubuntu bionic-security/main amd64 Packages [3373 kB]\n",
      "Get:9 http://archive.ubuntu.com/ubuntu bionic-updates/restricted amd64 Packages [1728 kB]\n",
      "Get:10 http://archive.ubuntu.com/ubuntu bionic-updates/main amd64 Packages [3786 kB]\n",
      "Get:11 http://archive.ubuntu.com/ubuntu bionic-updates/multiverse amd64 Packages [30.8 kB]\n",
      "Get:12 http://archive.ubuntu.com/ubuntu bionic-updates/universe amd64 Packages [2411 kB]\n",
      "Get:13 http://archive.ubuntu.com/ubuntu bionic-backports/universe amd64 Packages [20.6 kB]\n",
      "Get:14 http://archive.ubuntu.com/ubuntu bionic-backports/main amd64 Packages [64.0 kB]\n",
      "Fetched 15.1 MB in 3s (5110 kB/s)                       \n",
      "Reading package lists... Done\n",
      "Reading package lists... Done\n",
      "Building dependency tree       \n",
      "Reading state information... Done\n",
      "The following additional packages will be installed:\n",
      "  gcc-7-base libatlas3-base libgfortran4 libquadmath0\n",
      "Suggested packages:\n",
      "  libatlas-doc liblapack-doc\n",
      "The following NEW packages will be installed:\n",
      "  gcc-7-base libatlas-base-dev libatlas3-base libgfortran4 libquadmath0\n",
      "0 upgraded, 5 newly installed, 0 to remove and 83 not upgraded.\n",
      "Need to get 8397 kB of archives.\n",
      "After this operation, 49.3 MB of additional disk space will be used.\n",
      "Get:1 http://archive.ubuntu.com/ubuntu bionic-updates/main amd64 gcc-7-base amd64 7.5.0-3ubuntu1~18.04 [18.3 kB]\n",
      "Get:2 http://archive.ubuntu.com/ubuntu bionic-updates/main amd64 libquadmath0 amd64 8.4.0-1ubuntu1~18.04 [134 kB]\n",
      "Get:3 http://archive.ubuntu.com/ubuntu bionic-updates/main amd64 libgfortran4 amd64 7.5.0-3ubuntu1~18.04 [492 kB]\n",
      "Get:4 http://archive.ubuntu.com/ubuntu bionic/universe amd64 libatlas3-base amd64 3.10.3-5 [3732 kB]\n",
      "Get:5 http://archive.ubuntu.com/ubuntu bionic/universe amd64 libatlas-base-dev amd64 3.10.3-5 [4022 kB]\n",
      "Fetched 8397 kB in 2s (4158 kB/s)           \n",
      "debconf: delaying package configuration, since apt-utils is not installed\n",
      "Selecting previously unselected package gcc-7-base:amd64.\n",
      "(Reading database ... 11934 files and directories currently installed.)\n",
      "Preparing to unpack .../gcc-7-base_7.5.0-3ubuntu1~18.04_amd64.deb ...\n",
      "Unpacking gcc-7-base:amd64 (7.5.0-3ubuntu1~18.04) ...\n",
      "Selecting previously unselected package libquadmath0:amd64.\n",
      "Preparing to unpack .../libquadmath0_8.4.0-1ubuntu1~18.04_amd64.deb ...\n",
      "Unpacking libquadmath0:amd64 (8.4.0-1ubuntu1~18.04) ...\n",
      "Selecting previously unselected package libgfortran4:amd64.\n",
      "Preparing to unpack .../libgfortran4_7.5.0-3ubuntu1~18.04_amd64.deb ...\n",
      "Unpacking libgfortran4:amd64 (7.5.0-3ubuntu1~18.04) ...\n",
      "Selecting previously unselected package libatlas3-base:amd64.\n",
      "Preparing to unpack .../libatlas3-base_3.10.3-5_amd64.deb ...\n",
      "Unpacking libatlas3-base:amd64 (3.10.3-5) ...\n",
      "Selecting previously unselected package libatlas-base-dev:amd64.\n",
      "Preparing to unpack .../libatlas-base-dev_3.10.3-5_amd64.deb ...\n",
      "Unpacking libatlas-base-dev:amd64 (3.10.3-5) ...\n",
      "Setting up libquadmath0:amd64 (8.4.0-1ubuntu1~18.04) ...\n",
      "Setting up gcc-7-base:amd64 (7.5.0-3ubuntu1~18.04) ...\n",
      "Setting up libgfortran4:amd64 (7.5.0-3ubuntu1~18.04) ...\n",
      "Setting up libatlas3-base:amd64 (3.10.3-5) ...\n",
      "update-alternatives: using /usr/lib/x86_64-linux-gnu/atlas/libblas.so.3 to provide /usr/lib/x86_64-linux-gnu/libblas.so.3 (libblas.so.3-x86_64-linux-gnu) in auto mode\n",
      "update-alternatives: using /usr/lib/x86_64-linux-gnu/atlas/liblapack.so.3 to provide /usr/lib/x86_64-linux-gnu/liblapack.so.3 (liblapack.so.3-x86_64-linux-gnu) in auto mode\n",
      "Setting up libatlas-base-dev:amd64 (3.10.3-5) ...\n",
      "update-alternatives: using /usr/lib/x86_64-linux-gnu/atlas/libblas.so to provide /usr/lib/x86_64-linux-gnu/libblas.so (libblas.so-x86_64-linux-gnu) in auto mode\n",
      "update-alternatives: using /usr/lib/x86_64-linux-gnu/atlas/liblapack.so to provide /usr/lib/x86_64-linux-gnu/liblapack.so (liblapack.so-x86_64-linux-gnu) in auto mode\n",
      "Processing triggers for libc-bin (2.27-3ubuntu1.4) ...\n"
     ]
    }
   ],
   "source": [
    "!conda install -y -c conda-forge faiss-gpu\n",
    "!apt-get -y update\n",
    "!apt-get -y install libatlas-base-dev"
   ]
  },
  {
   "cell_type": "markdown",
   "id": "ea6af1a5-1aef-4743-bfa6-7392ed97dbe7",
   "metadata": {},
   "source": [
    "## Load Data"
   ]
  },
  {
   "cell_type": "code",
   "execution_count": 2,
   "id": "e26dddbf",
   "metadata": {
    "tags": []
   },
   "outputs": [],
   "source": [
    "import pandas as pd\n",
    "import numpy as np\n",
    "import matplotlib.pyplot as plt\n",
    "\n",
    "from sklearn.random_projection import GaussianRandomProjection\n",
    "\n",
    "from tqdm import tqdm\n",
    "\n",
    "import faiss"
   ]
  },
  {
   "cell_type": "code",
   "execution_count": 3,
   "id": "89c2cffa",
   "metadata": {
    "tags": []
   },
   "outputs": [
    {
     "data": {
      "text/html": [
       "<div>\n",
       "<style scoped>\n",
       "    .dataframe tbody tr th:only-of-type {\n",
       "        vertical-align: middle;\n",
       "    }\n",
       "\n",
       "    .dataframe tbody tr th {\n",
       "        vertical-align: top;\n",
       "    }\n",
       "\n",
       "    .dataframe thead th {\n",
       "        text-align: right;\n",
       "    }\n",
       "</style>\n",
       "<table border=\"1\" class=\"dataframe\">\n",
       "  <thead>\n",
       "    <tr style=\"text-align: right;\">\n",
       "      <th></th>\n",
       "      <th>prompt_id</th>\n",
       "      <th>prompt</th>\n",
       "      <th>story</th>\n",
       "      <th>hidden_state_file</th>\n",
       "      <th>len_generated_story</th>\n",
       "      <th>len_new_story</th>\n",
       "    </tr>\n",
       "  </thead>\n",
       "  <tbody>\n",
       "    <tr>\n",
       "      <th>0</th>\n",
       "      <td>1</td>\n",
       "      <td>Once upon a time there was a dragon</td>\n",
       "      <td>Once upon a time there was a dragon named Blaz...</td>\n",
       "      <td>./hidden_states/prompt_1.npz</td>\n",
       "      <td>270</td>\n",
       "      <td>271</td>\n",
       "    </tr>\n",
       "    <tr>\n",
       "      <th>1</th>\n",
       "      <td>1</td>\n",
       "      <td>Once upon a time there was a dragon</td>\n",
       "      <td>Once upon a time there was a dragon named Spar...</td>\n",
       "      <td>./hidden_states/prompt_1.npz</td>\n",
       "      <td>349</td>\n",
       "      <td>350</td>\n",
       "    </tr>\n",
       "    <tr>\n",
       "      <th>2</th>\n",
       "      <td>1</td>\n",
       "      <td>Once upon a time there was a dragon</td>\n",
       "      <td>Once upon a time there was a dragon named Scor...</td>\n",
       "      <td>./hidden_states/prompt_1.npz</td>\n",
       "      <td>278</td>\n",
       "      <td>278</td>\n",
       "    </tr>\n",
       "    <tr>\n",
       "      <th>3</th>\n",
       "      <td>1</td>\n",
       "      <td>Once upon a time there was a dragon</td>\n",
       "      <td>Once upon a time there was a dragon. The drago...</td>\n",
       "      <td>./hidden_states/prompt_1.npz</td>\n",
       "      <td>117</td>\n",
       "      <td>118</td>\n",
       "    </tr>\n",
       "    <tr>\n",
       "      <th>4</th>\n",
       "      <td>1</td>\n",
       "      <td>Once upon a time there was a dragon</td>\n",
       "      <td>Once upon a time there was a dragon. The drago...</td>\n",
       "      <td>./hidden_states/prompt_1.npz</td>\n",
       "      <td>129</td>\n",
       "      <td>130</td>\n",
       "    </tr>\n",
       "    <tr>\n",
       "      <th>...</th>\n",
       "      <td>...</td>\n",
       "      <td>...</td>\n",
       "      <td>...</td>\n",
       "      <td>...</td>\n",
       "      <td>...</td>\n",
       "      <td>...</td>\n",
       "    </tr>\n",
       "    <tr>\n",
       "      <th>9995</th>\n",
       "      <td>10</td>\n",
       "      <td>Once upon a time there was a poor boy</td>\n",
       "      <td>Once upon a time there was a poor boy named Ti...</td>\n",
       "      <td>./hidden_states/prompt_10.npz</td>\n",
       "      <td>289</td>\n",
       "      <td>290</td>\n",
       "    </tr>\n",
       "    <tr>\n",
       "      <th>9996</th>\n",
       "      <td>10</td>\n",
       "      <td>Once upon a time there was a poor boy</td>\n",
       "      <td>Once upon a time there was a poor boy named Ti...</td>\n",
       "      <td>./hidden_states/prompt_10.npz</td>\n",
       "      <td>119</td>\n",
       "      <td>119</td>\n",
       "    </tr>\n",
       "    <tr>\n",
       "      <th>9997</th>\n",
       "      <td>10</td>\n",
       "      <td>Once upon a time there was a poor boy</td>\n",
       "      <td>Once upon a time there was a poor boy named Ti...</td>\n",
       "      <td>./hidden_states/prompt_10.npz</td>\n",
       "      <td>127</td>\n",
       "      <td>128</td>\n",
       "    </tr>\n",
       "    <tr>\n",
       "      <th>9998</th>\n",
       "      <td>10</td>\n",
       "      <td>Once upon a time there was a poor boy</td>\n",
       "      <td>Once upon a time there was a poor boy named Ti...</td>\n",
       "      <td>./hidden_states/prompt_10.npz</td>\n",
       "      <td>441</td>\n",
       "      <td>441</td>\n",
       "    </tr>\n",
       "    <tr>\n",
       "      <th>9999</th>\n",
       "      <td>10</td>\n",
       "      <td>Once upon a time there was a poor boy</td>\n",
       "      <td>Once upon a time there was a poor boy named Ti...</td>\n",
       "      <td>./hidden_states/prompt_10.npz</td>\n",
       "      <td>520</td>\n",
       "      <td>521</td>\n",
       "    </tr>\n",
       "  </tbody>\n",
       "</table>\n",
       "<p>10000 rows × 6 columns</p>\n",
       "</div>"
      ],
      "text/plain": [
       "      prompt_id                                 prompt  \\\n",
       "0             1    Once upon a time there was a dragon   \n",
       "1             1    Once upon a time there was a dragon   \n",
       "2             1    Once upon a time there was a dragon   \n",
       "3             1    Once upon a time there was a dragon   \n",
       "4             1    Once upon a time there was a dragon   \n",
       "...         ...                                    ...   \n",
       "9995         10  Once upon a time there was a poor boy   \n",
       "9996         10  Once upon a time there was a poor boy   \n",
       "9997         10  Once upon a time there was a poor boy   \n",
       "9998         10  Once upon a time there was a poor boy   \n",
       "9999         10  Once upon a time there was a poor boy   \n",
       "\n",
       "                                                  story  \\\n",
       "0     Once upon a time there was a dragon named Blaz...   \n",
       "1     Once upon a time there was a dragon named Spar...   \n",
       "2     Once upon a time there was a dragon named Scor...   \n",
       "3     Once upon a time there was a dragon. The drago...   \n",
       "4     Once upon a time there was a dragon. The drago...   \n",
       "...                                                 ...   \n",
       "9995  Once upon a time there was a poor boy named Ti...   \n",
       "9996  Once upon a time there was a poor boy named Ti...   \n",
       "9997  Once upon a time there was a poor boy named Ti...   \n",
       "9998  Once upon a time there was a poor boy named Ti...   \n",
       "9999  Once upon a time there was a poor boy named Ti...   \n",
       "\n",
       "                  hidden_state_file  len_generated_story  len_new_story  \n",
       "0      ./hidden_states/prompt_1.npz                  270            271  \n",
       "1      ./hidden_states/prompt_1.npz                  349            350  \n",
       "2      ./hidden_states/prompt_1.npz                  278            278  \n",
       "3      ./hidden_states/prompt_1.npz                  117            118  \n",
       "4      ./hidden_states/prompt_1.npz                  129            130  \n",
       "...                             ...                  ...            ...  \n",
       "9995  ./hidden_states/prompt_10.npz                  289            290  \n",
       "9996  ./hidden_states/prompt_10.npz                  119            119  \n",
       "9997  ./hidden_states/prompt_10.npz                  127            128  \n",
       "9998  ./hidden_states/prompt_10.npz                  441            441  \n",
       "9999  ./hidden_states/prompt_10.npz                  520            521  \n",
       "\n",
       "[10000 rows x 6 columns]"
      ]
     },
     "execution_count": 3,
     "metadata": {},
     "output_type": "execute_result"
    }
   ],
   "source": [
    "df = pd.read_csv(\"../story_dataset.csv\")\n",
    "df"
   ]
  },
  {
   "cell_type": "code",
   "execution_count": 4,
   "id": "c081cc09",
   "metadata": {
    "tags": []
   },
   "outputs": [
    {
     "data": {
      "text/plain": [
       "522"
      ]
     },
     "execution_count": 4,
     "metadata": {},
     "output_type": "execute_result"
    }
   ],
   "source": [
    "max_story_len = max(df[\"len_generated_story\"])\n",
    "max_story_len"
   ]
  },
  {
   "cell_type": "code",
   "execution_count": 5,
   "id": "212c067a",
   "metadata": {
    "scrolled": true,
    "tags": []
   },
   "outputs": [
    {
     "name": "stderr",
     "output_type": "stream",
     "text": [
      "100%|███████████████████████████████████████████████████████████████████████████████| 1000/1000 [01:13<00:00, 13.59it/s]\n",
      "100%|███████████████████████████████████████████████████████████████████████████████| 1000/1000 [01:12<00:00, 13.85it/s]\n",
      "100%|███████████████████████████████████████████████████████████████████████████████| 1000/1000 [01:06<00:00, 15.06it/s]\n",
      "100%|███████████████████████████████████████████████████████████████████████████████| 1000/1000 [01:14<00:00, 13.51it/s]\n",
      "100%|███████████████████████████████████████████████████████████████████████████████| 1000/1000 [01:13<00:00, 13.55it/s]\n",
      "100%|███████████████████████████████████████████████████████████████████████████████| 1000/1000 [01:17<00:00, 12.86it/s]\n",
      "100%|███████████████████████████████████████████████████████████████████████████████| 1000/1000 [01:19<00:00, 12.57it/s]\n",
      "100%|███████████████████████████████████████████████████████████████████████████████| 1000/1000 [01:16<00:00, 13.08it/s]\n",
      "100%|███████████████████████████████████████████████████████████████████████████████| 1000/1000 [01:18<00:00, 12.75it/s]\n",
      "100%|███████████████████████████████████████████████████████████████████████████████| 1000/1000 [01:27<00:00, 11.49it/s]\n"
     ]
    }
   ],
   "source": [
    "hidden_states_by_layer = {}\n",
    "NUM_PROMPTS = 10\n",
    "\n",
    "for prompt_id in range(1, NUM_PROMPTS + 1):\n",
    "    with np.load(f'../hidden_states/prompt_{prompt_id}.npz') as loaded_data:\n",
    "        for i in tqdm(range(1000)):\n",
    "            curr_hidden_states = loaded_data[f\"arr_{i}\"][0]\n",
    "#             print(curr_hidden_states.shape)\n",
    "            for layer in range(6, 7):\n",
    "                padded_arr = np.zeros((max_story_len, 512))\n",
    "                padded_arr_len = len(curr_hidden_states[layer][0])\n",
    "                \n",
    "                padded_arr[:padded_arr_len] = curr_hidden_states[layer][0]\n",
    "                \n",
    "                padded_arr = padded_arr.flatten().astype('float32') #FAISS expects data in type float32 instead of float64 - saves memory too!\n",
    "#                 print(padded_arr.shape)\n",
    "                \n",
    "                if(f\"layer_{layer}\" in hidden_states_by_layer):\n",
    "                    hidden_states_by_layer[f\"layer_{layer}\"].append(padded_arr)\n",
    "                else:\n",
    "                    hidden_states_by_layer[f\"layer_{layer}\"] = [padded_arr]"
   ]
  },
  {
   "cell_type": "code",
   "execution_count": 6,
   "id": "ad23eb70",
   "metadata": {
    "tags": []
   },
   "outputs": [
    {
     "data": {
      "text/plain": [
       "(10000, 267264)"
      ]
     },
     "execution_count": 6,
     "metadata": {},
     "output_type": "execute_result"
    }
   ],
   "source": [
    "layer_hs_array = np.array(hidden_states_by_layer[\"layer_6\"])\n",
    "layer_hs_array.shape"
   ]
  },
  {
   "cell_type": "markdown",
   "id": "e44eecd8-9f29-457b-8f65-d8eae3b84eb8",
   "metadata": {
    "tags": []
   },
   "source": [
    "## Layer 6 Clustering"
   ]
  },
  {
   "cell_type": "code",
   "execution_count": 7,
   "id": "49cf7b1b",
   "metadata": {
    "tags": []
   },
   "outputs": [],
   "source": [
    "# Use original vectors for clustering - uncomment next line and comment out last two lines\n",
    "\n",
    "# dim_reduced_vecs = layer_hs_array\n",
    "\n",
    "random_projector = GaussianRandomProjection(random_state = 42)\n",
    "dim_reduced_vecs = random_projector.fit_transform(layer_hs_array).astype('float32')"
   ]
  },
  {
   "cell_type": "code",
   "execution_count": 8,
   "id": "b9257701",
   "metadata": {
    "tags": []
   },
   "outputs": [
    {
     "data": {
      "text/plain": [
       "(10000, 7894)"
      ]
     },
     "execution_count": 8,
     "metadata": {},
     "output_type": "execute_result"
    }
   ],
   "source": [
    "dim_reduced_vecs = np.array([v / np.linalg.norm(v) for v in dim_reduced_vecs])\n",
    "dim_reduced_vecs.shape"
   ]
  },
  {
   "cell_type": "code",
   "execution_count": 9,
   "id": "22e1c2a5-03fa-43fd-90d4-609a0d949829",
   "metadata": {
    "tags": []
   },
   "outputs": [
    {
     "data": {
      "text/plain": [
       "array([ 1,  1,  1, ..., 10, 10, 10])"
      ]
     },
     "execution_count": 9,
     "metadata": {},
     "output_type": "execute_result"
    }
   ],
   "source": [
    "prompt_ids = df[\"prompt_id\"]\n",
    "prompt_ids = prompt_ids.to_numpy()\n",
    "prompt_ids"
   ]
  },
  {
   "cell_type": "code",
   "execution_count": 10,
   "id": "bd963a3c-0ad1-416a-9fc6-a13bf2422fcd",
   "metadata": {},
   "outputs": [],
   "source": [
    "X_train = np.zeros((int(0.8 * dim_reduced_vecs.shape[0]), dim_reduced_vecs.shape[1]), dtype = np.float32)\n",
    "y_train = np.zeros(int(0.8 * dim_reduced_vecs.shape[0]))\n",
    "\n",
    "X_test = np.zeros((int(0.2 * dim_reduced_vecs.shape[0]), dim_reduced_vecs.shape[1]), dtype = np.float32)\n",
    "y_test = np.zeros(int(0.2 * dim_reduced_vecs.shape[0]))"
   ]
  },
  {
   "cell_type": "code",
   "execution_count": 11,
   "id": "6b84c6a1-29cc-4096-9eb1-420301a7065f",
   "metadata": {},
   "outputs": [],
   "source": [
    "for i in range(10):\n",
    "    X_train[i * 800 : (i + 1) * 800] = dim_reduced_vecs[i * 1000 : (i * 1000) + 800]\n",
    "    y_train[i * 800 : (i + 1) * 800] = prompt_ids[i * 1000 : (i * 1000) + 800]\n",
    "    \n",
    "    X_test[i * 200 : (i + 1) * 200] = dim_reduced_vecs[(i * 1000) + 800 : (i + 1) * 1000]\n",
    "    y_test[i * 200 : (i + 1) * 200] = prompt_ids[(i * 1000) + 800 : (i + 1) * 1000]"
   ]
  },
  {
   "cell_type": "code",
   "execution_count": 12,
   "id": "e7c2f695-573c-4abe-ab7b-eaa4a1661cd2",
   "metadata": {},
   "outputs": [
    {
     "name": "stdout",
     "output_type": "stream",
     "text": [
      "(8000, 7894)\n",
      "(8000,)\n",
      "(2000, 7894)\n",
      "(2000,)\n"
     ]
    }
   ],
   "source": [
    "print(X_train.shape)\n",
    "print(y_train.shape)\n",
    "print(X_test.shape)\n",
    "print(y_test.shape)"
   ]
  },
  {
   "cell_type": "code",
   "execution_count": 13,
   "id": "8aebf88b-1d51-48d2-945c-311b5fc70963",
   "metadata": {},
   "outputs": [
    {
     "name": "stdout",
     "output_type": "stream",
     "text": [
      "Sampling a subset of 4000 / 8000 for training\n",
      "Clustering 4000 points in 7894D to 5 clusters, redo 10 times, 20 iterations\n",
      "  Preprocessing in 0.11 s\n",
      "Outer iteration 0 / 10\n",
      "  Iteration 19 (0.54 s, search 0.28 s): objective=2059.95 imbalance=1.071 nsplit=0       \n",
      "Objective improved: keep new clusters\n",
      "Outer iteration 1 / 10\n",
      "  Iteration 19 (1.06 s, search 0.56 s): objective=2062.78 imbalance=1.269 nsplit=0       \n",
      "Objective improved: keep new clusters\n",
      "Outer iteration 2 / 10\n",
      "  Iteration 19 (1.58 s, search 0.83 s): objective=2059.15 imbalance=1.098 nsplit=0       \n",
      "Outer iteration 3 / 10\n",
      "  Iteration 19 (2.11 s, search 1.10 s): objective=2063.81 imbalance=1.211 nsplit=0       \n",
      "Objective improved: keep new clusters\n",
      "Outer iteration 4 / 10\n",
      "  Iteration 19 (2.63 s, search 1.38 s): objective=2053.16 imbalance=1.497 nsplit=0       \n",
      "Outer iteration 5 / 10\n",
      "  Iteration 19 (3.15 s, search 1.65 s): objective=2058.6 imbalance=1.285 nsplit=0        \n",
      "Outer iteration 6 / 10\n",
      "  Iteration 19 (3.67 s, search 1.93 s): objective=2060.07 imbalance=1.491 nsplit=0       \n",
      "Outer iteration 7 / 10\n",
      "  Iteration 19 (4.19 s, search 2.20 s): objective=2052.58 imbalance=1.477 nsplit=0       \n",
      "Outer iteration 8 / 10\n",
      "  Iteration 19 (4.72 s, search 2.48 s): objective=2060.19 imbalance=1.059 nsplit=0       \n",
      "Outer iteration 9 / 10\n",
      "  Iteration 19 (5.24 s, search 2.75 s): objective=2053.52 imbalance=1.521 nsplit=0       \n",
      "Sampling a subset of 4800 / 8000 for training\n",
      "Clustering 4800 points in 7894D to 6 clusters, redo 10 times, 20 iterations\n",
      "  Preprocessing in 0.12 s\n",
      "Outer iteration 0 / 10\n",
      "  Iteration 19 (0.63 s, search 0.33 s): objective=2467.72 imbalance=1.347 nsplit=0       \n",
      "Objective improved: keep new clusters\n",
      "Outer iteration 1 / 10\n",
      "  Iteration 19 (1.27 s, search 0.67 s): objective=2472.56 imbalance=1.371 nsplit=0       \n",
      "Objective improved: keep new clusters\n",
      "Outer iteration 2 / 10\n",
      "  Iteration 19 (1.90 s, search 1.00 s): objective=2478.75 imbalance=1.270 nsplit=0       \n",
      "Objective improved: keep new clusters\n",
      "Outer iteration 3 / 10\n",
      "  Iteration 19 (2.54 s, search 1.33 s): objective=2474.89 imbalance=1.022 nsplit=0       \n",
      "Outer iteration 4 / 10\n",
      "  Iteration 19 (3.19 s, search 1.67 s): objective=2476.19 imbalance=1.295 nsplit=0       \n",
      "Outer iteration 5 / 10\n",
      "  Iteration 19 (3.84 s, search 2.01 s): objective=2473.06 imbalance=1.192 nsplit=0       \n",
      "Outer iteration 6 / 10\n",
      "  Iteration 19 (4.48 s, search 2.35 s): objective=2471.58 imbalance=1.135 nsplit=0       \n",
      "Outer iteration 7 / 10\n",
      "  Iteration 19 (5.11 s, search 2.69 s): objective=2467.66 imbalance=1.766 nsplit=0       \n",
      "Outer iteration 8 / 10\n",
      "  Iteration 19 (5.75 s, search 3.02 s): objective=2473.99 imbalance=1.222 nsplit=0       \n",
      "Outer iteration 9 / 10\n",
      "  Iteration 19 (6.39 s, search 3.36 s): objective=2480.74 imbalance=1.480 nsplit=0       \n",
      "Objective improved: keep new clusters\n",
      "Sampling a subset of 5600 / 8000 for training\n",
      "Clustering 5600 points in 7894D to 7 clusters, redo 10 times, 20 iterations\n",
      "  Preprocessing in 0.14 s\n",
      "Outer iteration 0 / 10\n",
      "  Iteration 19 (0.75 s, search 0.39 s): objective=2898.17 imbalance=1.326 nsplit=0       \n",
      "Objective improved: keep new clusters\n",
      "Outer iteration 1 / 10\n",
      "  Iteration 19 (1.50 s, search 0.79 s): objective=2886.3 imbalance=1.604 nsplit=0        \n",
      "Outer iteration 2 / 10\n",
      "  Iteration 19 (2.25 s, search 1.18 s): objective=2897.5 imbalance=1.251 nsplit=0        \n",
      "Outer iteration 3 / 10\n",
      "  Iteration 19 (2.99 s, search 1.57 s): objective=2887.33 imbalance=1.360 nsplit=0       \n",
      "Outer iteration 4 / 10\n",
      "  Iteration 19 (3.75 s, search 1.96 s): objective=2894.14 imbalance=1.266 nsplit=0       \n",
      "Outer iteration 5 / 10\n",
      "  Iteration 19 (4.49 s, search 2.34 s): objective=2889.11 imbalance=1.522 nsplit=0       \n",
      "Outer iteration 6 / 10\n",
      "  Iteration 19 (5.24 s, search 2.74 s): objective=2896.32 imbalance=1.211 nsplit=0       \n",
      "Outer iteration 7 / 10\n",
      "  Iteration 19 (5.99 s, search 3.12 s): objective=2889.5 imbalance=1.336 nsplit=0        \n",
      "Outer iteration 8 / 10\n",
      "  Iteration 19 (6.74 s, search 3.51 s): objective=2891.83 imbalance=1.219 nsplit=0       \n",
      "Outer iteration 9 / 10\n",
      "  Iteration 19 (7.49 s, search 3.90 s): objective=2901.53 imbalance=1.192 nsplit=0       \n",
      "Objective improved: keep new clusters\n",
      "Sampling a subset of 6400 / 8000 for training\n",
      "Clustering 6400 points in 7894D to 8 clusters, redo 10 times, 20 iterations\n",
      "  Preprocessing in 0.15 s\n",
      "Outer iteration 0 / 10\n",
      "  Iteration 19 (0.85 s, search 0.43 s): objective=3301.66 imbalance=1.427 nsplit=0       \n",
      "Objective improved: keep new clusters\n",
      "Outer iteration 1 / 10\n",
      "  Iteration 19 (1.72 s, search 0.87 s): objective=3318 imbalance=1.115 nsplit=0          \n",
      "Objective improved: keep new clusters\n",
      "Outer iteration 2 / 10\n",
      "  Iteration 19 (2.56 s, search 1.30 s): objective=3291.16 imbalance=2.118 nsplit=0       \n",
      "Outer iteration 3 / 10\n",
      "  Iteration 19 (3.38 s, search 1.74 s): objective=3275.56 imbalance=2.496 nsplit=0       \n",
      "Outer iteration 4 / 10\n",
      "  Iteration 19 (4.25 s, search 2.18 s): objective=3316.56 imbalance=1.177 nsplit=0       \n",
      "Outer iteration 5 / 10\n",
      "  Iteration 19 (5.10 s, search 2.61 s): objective=3299.93 imbalance=1.425 nsplit=0       \n",
      "Outer iteration 6 / 10\n",
      "  Iteration 19 (5.96 s, search 3.04 s): objective=3313.21 imbalance=1.337 nsplit=0       \n",
      "Outer iteration 7 / 10\n",
      "  Iteration 19 (6.83 s, search 3.48 s): objective=3316.05 imbalance=1.388 nsplit=0       \n",
      "Outer iteration 8 / 10\n",
      "  Iteration 19 (7.68 s, search 3.92 s): objective=3310.14 imbalance=1.383 nsplit=0       \n",
      "Outer iteration 9 / 10\n",
      "  Iteration 19 (8.53 s, search 4.35 s): objective=3316.78 imbalance=1.598 nsplit=0       \n",
      "Sampling a subset of 7200 / 8000 for training\n",
      "Clustering 7200 points in 7894D to 9 clusters, redo 10 times, 20 iterations\n",
      "  Preprocessing in 0.16 s\n",
      "Outer iteration 0 / 10\n",
      "  Iteration 19 (0.98 s, search 0.50 s): objective=3736.49 imbalance=1.269 nsplit=0       \n",
      "Objective improved: keep new clusters\n",
      "Outer iteration 1 / 10\n",
      "  Iteration 19 (2.04 s, search 1.03 s): objective=3738.68 imbalance=1.320 nsplit=0       \n",
      "Objective improved: keep new clusters\n",
      "Outer iteration 2 / 10\n",
      "  Iteration 19 (3.03 s, search 1.54 s): objective=3735.57 imbalance=1.373 nsplit=0       \n",
      "Outer iteration 3 / 10\n",
      "  Iteration 19 (4.02 s, search 2.04 s): objective=3739.74 imbalance=1.379 nsplit=0       \n",
      "Objective improved: keep new clusters\n",
      "Outer iteration 4 / 10\n",
      "  Iteration 19 (5.00 s, search 2.54 s): objective=3742.2 imbalance=1.336 nsplit=0        \n",
      "Objective improved: keep new clusters\n",
      "Outer iteration 5 / 10\n",
      "  Iteration 19 (5.97 s, search 3.04 s): objective=3741.07 imbalance=1.459 nsplit=0       \n",
      "Outer iteration 6 / 10\n",
      "  Iteration 19 (6.95 s, search 3.54 s): objective=3738.08 imbalance=1.244 nsplit=0       \n",
      "Outer iteration 7 / 10\n",
      "  Iteration 19 (7.94 s, search 4.04 s): objective=3746.89 imbalance=1.234 nsplit=0       \n",
      "Objective improved: keep new clusters\n",
      "Outer iteration 8 / 10\n",
      "  Iteration 19 (8.93 s, search 4.54 s): objective=3738.09 imbalance=1.350 nsplit=0       \n",
      "Outer iteration 9 / 10\n",
      "  Iteration 19 (9.92 s, search 5.05 s): objective=3744.69 imbalance=1.322 nsplit=0       \n",
      "Clustering 8000 points in 7894D to 10 clusters, redo 10 times, 20 iterations\n",
      "  Preprocessing in 0.04 s\n",
      "Outer iteration 0 / 10\n",
      "  Iteration 19 (1.05 s, search 0.55 s): objective=4150.42 imbalance=1.814 nsplit=0       \n",
      "Objective improved: keep new clusters\n",
      "Outer iteration 1 / 10\n",
      "  Iteration 19 (2.11 s, search 1.10 s): objective=4163.5 imbalance=1.190 nsplit=0        \n",
      "Objective improved: keep new clusters\n",
      "Outer iteration 2 / 10\n",
      "  Iteration 19 (3.17 s, search 1.64 s): objective=4163.56 imbalance=1.101 nsplit=0       \n",
      "Objective improved: keep new clusters\n",
      "Outer iteration 3 / 10\n",
      "  Iteration 19 (4.23 s, search 2.18 s): objective=4173.94 imbalance=1.149 nsplit=0       \n",
      "Objective improved: keep new clusters\n",
      "Outer iteration 4 / 10\n",
      "  Iteration 19 (5.28 s, search 2.73 s): objective=4127.65 imbalance=2.556 nsplit=0       \n",
      "Outer iteration 5 / 10\n",
      "  Iteration 19 (6.34 s, search 3.28 s): objective=4139.15 imbalance=1.651 nsplit=0       \n",
      "Outer iteration 6 / 10\n",
      "  Iteration 19 (7.40 s, search 3.83 s): objective=4167.7 imbalance=1.190 nsplit=0        \n",
      "Outer iteration 7 / 10\n",
      "  Iteration 19 (8.46 s, search 4.37 s): objective=4175 imbalance=1.239 nsplit=0         \n",
      "Objective improved: keep new clusters\n",
      "Outer iteration 8 / 10\n",
      "  Iteration 19 (9.52 s, search 4.92 s): objective=4170.98 imbalance=1.234 nsplit=0       \n",
      "Outer iteration 9 / 10\n",
      "  Iteration 19 (10.59 s, search 5.46 s): objective=4159.33 imbalance=1.081 nsplit=0       \n",
      "Clustering 8000 points in 7894D to 11 clusters, redo 10 times, 20 iterations\n",
      "  Preprocessing in 0.04 s\n",
      "Outer iteration 0 / 10\n",
      "  Iteration 19 (1.05 s, search 0.55 s): objective=4152.55 imbalance=1.886 nsplit=0       \n",
      "Objective improved: keep new clusters\n",
      "Outer iteration 1 / 10\n",
      "  Iteration 19 (2.11 s, search 1.09 s): objective=4167.87 imbalance=1.192 nsplit=0       \n",
      "Objective improved: keep new clusters\n",
      "Outer iteration 2 / 10\n",
      "  Iteration 19 (3.18 s, search 1.63 s): objective=4170.4 imbalance=1.210 nsplit=0        \n",
      "Objective improved: keep new clusters\n",
      "Outer iteration 3 / 10\n",
      "  Iteration 19 (4.25 s, search 2.17 s): objective=4179.5 imbalance=1.122 nsplit=0        \n",
      "Objective improved: keep new clusters\n",
      "Outer iteration 4 / 10\n",
      "  Iteration 19 (5.31 s, search 2.72 s): objective=4150.18 imbalance=1.700 nsplit=0       \n",
      "Outer iteration 5 / 10\n",
      "  Iteration 19 (6.36 s, search 3.26 s): objective=4138.8 imbalance=1.816 nsplit=0        \n",
      "Outer iteration 6 / 10\n",
      "  Iteration 19 (7.43 s, search 3.81 s): objective=4172.9 imbalance=1.158 nsplit=0        \n",
      "Outer iteration 7 / 10\n",
      "  Iteration 19 (8.50 s, search 4.35 s): objective=4179.9 imbalance=1.204 nsplit=0        \n",
      "Objective improved: keep new clusters\n",
      "Outer iteration 8 / 10\n",
      "  Iteration 19 (9.56 s, search 4.90 s): objective=4176.12 imbalance=1.280 nsplit=0       \n",
      "Outer iteration 9 / 10\n",
      "  Iteration 19 (10.64 s, search 5.44 s): objective=4176.92 imbalance=1.059 nsplit=0       \n",
      "Clustering 8000 points in 7894D to 12 clusters, redo 10 times, 20 iterations\n",
      "  Preprocessing in 0.04 s\n",
      "Outer iteration 0 / 10\n",
      "  Iteration 19 (1.05 s, search 0.55 s): objective=4164.7 imbalance=1.593 nsplit=0        \n",
      "Objective improved: keep new clusters\n",
      "Outer iteration 1 / 10\n",
      "  Iteration 19 (2.12 s, search 1.09 s): objective=4172.68 imbalance=1.183 nsplit=0       \n",
      "Objective improved: keep new clusters\n",
      "Outer iteration 2 / 10\n",
      "  Iteration 19 (3.25 s, search 1.66 s): objective=4176.62 imbalance=1.184 nsplit=0       \n",
      "Objective improved: keep new clusters\n",
      "Outer iteration 3 / 10\n",
      "  Iteration 19 (4.33 s, search 2.21 s): objective=4185.5 imbalance=1.108 nsplit=0        \n",
      "Objective improved: keep new clusters\n",
      "Outer iteration 4 / 10\n",
      "  Iteration 19 (5.39 s, search 2.76 s): objective=4155.33 imbalance=1.793 nsplit=0       \n",
      "Outer iteration 5 / 10\n",
      "  Iteration 19 (6.46 s, search 3.30 s): objective=4157.3 imbalance=1.752 nsplit=0        \n",
      "Outer iteration 6 / 10\n",
      "  Iteration 19 (7.53 s, search 3.85 s): objective=4176.58 imbalance=1.204 nsplit=0       \n",
      "Outer iteration 7 / 10\n",
      "  Iteration 19 (8.62 s, search 4.42 s): objective=4190.87 imbalance=1.230 nsplit=0       \n",
      "Objective improved: keep new clusters\n",
      "Outer iteration 8 / 10\n",
      "  Iteration 19 (9.70 s, search 4.97 s): objective=4188.75 imbalance=1.335 nsplit=0       \n",
      "Outer iteration 9 / 10\n",
      "  Iteration 19 (10.80 s, search 5.52 s): objective=4185.69 imbalance=1.081 nsplit=0       \n",
      "Clustering 8000 points in 7894D to 13 clusters, redo 10 times, 20 iterations\n",
      "  Preprocessing in 0.05 s\n",
      "Outer iteration 0 / 10\n",
      "  Iteration 19 (1.05 s, search 0.55 s): objective=4167.97 imbalance=1.710 nsplit=0       \n",
      "Objective improved: keep new clusters\n",
      "Outer iteration 1 / 10\n",
      "  Iteration 19 (2.13 s, search 1.09 s): objective=4184.28 imbalance=1.184 nsplit=0       \n",
      "Objective improved: keep new clusters\n",
      "Outer iteration 2 / 10\n",
      "  Iteration 19 (3.19 s, search 1.64 s): objective=4193.75 imbalance=1.404 nsplit=0       \n",
      "Objective improved: keep new clusters\n",
      "Outer iteration 3 / 10\n",
      "  Iteration 19 (4.26 s, search 2.19 s): objective=4193.39 imbalance=1.134 nsplit=0       \n",
      "Outer iteration 4 / 10\n",
      "  Iteration 19 (5.33 s, search 2.73 s): objective=4173.11 imbalance=1.631 nsplit=0       \n",
      "Outer iteration 5 / 10\n",
      "  Iteration 19 (6.39 s, search 3.27 s): objective=4170.06 imbalance=1.533 nsplit=0       \n",
      "Outer iteration 6 / 10\n",
      "  Iteration 19 (7.45 s, search 3.82 s): objective=4179.55 imbalance=1.234 nsplit=0       \n",
      "Outer iteration 7 / 10\n",
      "  Iteration 19 (8.52 s, search 4.36 s): objective=4192.88 imbalance=1.284 nsplit=0       \n",
      "Outer iteration 8 / 10\n",
      "  Iteration 19 (9.59 s, search 4.92 s): objective=4193.19 imbalance=1.393 nsplit=0       \n",
      "Outer iteration 9 / 10\n",
      "  Iteration 19 (10.67 s, search 5.46 s): objective=4189.67 imbalance=1.094 nsplit=0       \n",
      "Clustering 8000 points in 7894D to 14 clusters, redo 10 times, 20 iterations\n",
      "  Preprocessing in 0.04 s\n",
      "Outer iteration 0 / 10\n",
      "  Iteration 19 (1.05 s, search 0.54 s): objective=4173.97 imbalance=1.736 nsplit=0       \n",
      "Objective improved: keep new clusters\n",
      "Outer iteration 1 / 10\n",
      "  Iteration 19 (2.12 s, search 1.09 s): objective=4190.98 imbalance=1.325 nsplit=0       \n",
      "Objective improved: keep new clusters\n",
      "Outer iteration 2 / 10\n",
      "  Iteration 19 (3.19 s, search 1.63 s): objective=4198.16 imbalance=1.381 nsplit=0       \n",
      "Objective improved: keep new clusters\n",
      "Outer iteration 3 / 10\n",
      "  Iteration 19 (4.26 s, search 2.18 s): objective=4195.33 imbalance=1.198 nsplit=0       \n",
      "Outer iteration 4 / 10\n",
      "  Iteration 19 (5.32 s, search 2.72 s): objective=4176.12 imbalance=1.742 nsplit=0       \n",
      "Outer iteration 5 / 10\n",
      "  Iteration 19 (6.39 s, search 3.27 s): objective=4177.24 imbalance=1.472 nsplit=0       \n",
      "Outer iteration 6 / 10\n",
      "  Iteration 19 (7.46 s, search 3.81 s): objective=4191.26 imbalance=1.227 nsplit=0       \n",
      "Outer iteration 7 / 10\n",
      "  Iteration 19 (8.53 s, search 4.36 s): objective=4194.1 imbalance=1.480 nsplit=0        \n",
      "Outer iteration 8 / 10\n",
      "  Iteration 19 (9.59 s, search 4.91 s): objective=4195.45 imbalance=1.488 nsplit=0       \n",
      "Outer iteration 9 / 10\n",
      "  Iteration 19 (10.68 s, search 5.46 s): objective=4194.52 imbalance=1.116 nsplit=0       \n",
      "Clustering 8000 points in 7894D to 15 clusters, redo 10 times, 20 iterations\n",
      "  Preprocessing in 0.04 s\n",
      "Outer iteration 0 / 10\n",
      "  Iteration 19 (1.06 s, search 0.55 s): objective=4178.63 imbalance=1.627 nsplit=0       \n",
      "Objective improved: keep new clusters\n",
      "Outer iteration 1 / 10\n",
      "  Iteration 19 (2.14 s, search 1.09 s): objective=4196.52 imbalance=1.374 nsplit=0       \n",
      "Objective improved: keep new clusters\n",
      "Outer iteration 2 / 10\n",
      "  Iteration 19 (3.27 s, search 1.67 s): objective=4202.73 imbalance=1.417 nsplit=0       \n",
      "Objective improved: keep new clusters\n",
      "Outer iteration 3 / 10\n",
      "  Iteration 19 (4.34 s, search 2.21 s): objective=4206.15 imbalance=1.174 nsplit=0       \n",
      "Objective improved: keep new clusters\n",
      "Outer iteration 4 / 10\n",
      "  Iteration 19 (5.41 s, search 2.76 s): objective=4176.92 imbalance=1.858 nsplit=0       \n",
      "Outer iteration 5 / 10\n",
      "  Iteration 19 (6.49 s, search 3.31 s): objective=4176.63 imbalance=1.582 nsplit=0       \n",
      "Outer iteration 6 / 10\n",
      "  Iteration 19 (7.56 s, search 3.86 s): objective=4194.16 imbalance=1.255 nsplit=0       \n",
      "Outer iteration 7 / 10\n",
      "  Iteration 19 (8.62 s, search 4.40 s): objective=4188.03 imbalance=1.643 nsplit=0       \n",
      "Outer iteration 8 / 10\n",
      "  Iteration 19 (9.69 s, search 4.95 s): objective=4201.38 imbalance=1.491 nsplit=0       \n",
      "Outer iteration 9 / 10\n",
      "  Iteration 19 (10.77 s, search 5.49 s): objective=4200.6 imbalance=1.145 nsplit=0        \r"
     ]
    },
    {
     "data": {
      "text/plain": [
       "[<matplotlib.lines.Line2D at 0x781aa08f3fd0>]"
      ]
     },
     "execution_count": 13,
     "metadata": {},
     "output_type": "execute_result"
    },
    {
     "data": {
      "image/png": "[encoded data removed]",
      "text/plain": [
       "<Figure size 432x288 with 1 Axes>"
      ]
     },
     "metadata": {
      "needs_background": "light"
     },
     "output_type": "display_data"
    }
   ],
   "source": [
    "# Elbow Plot\n",
    "niter = 20\n",
    "verbose = True\n",
    "dim = X_train.shape[1]\n",
    "\n",
    "k_vals = [k for k in range(5, 16)]\n",
    "wccs = []\n",
    "for k in k_vals:\n",
    "    kmeans = faiss.Kmeans(dim, k, niter = niter, verbose = verbose, gpu = True, nredo = 10, spherical = True, max_points_per_centroid = 800)\n",
    "    kmeans.train(X_train)\n",
    "    wccs.append(kmeans.obj[-1])\n",
    "\n",
    "plt.plot(k_vals, wccs)"
   ]
  },
  {
   "cell_type": "code",
   "execution_count": 14,
   "id": "289102b9",
   "metadata": {
    "scrolled": true,
    "tags": []
   },
   "outputs": [
    {
     "name": "stdout",
     "output_type": "stream",
     "text": [
      "\n",
      "Clustering 8000 points in 7894D to 10 clusters, redo 10 times, 20 iterations\n",
      "  Preprocessing in 0.04 s\n",
      "Outer iteration 0 / 10\n",
      "  Iteration 19 (1.06 s, search 0.56 s): objective=4150.42 imbalance=1.814 nsplit=0       \n",
      "Objective improved: keep new clusters\n",
      "Outer iteration 1 / 10\n",
      "  Iteration 19 (2.13 s, search 1.11 s): objective=4163.5 imbalance=1.190 nsplit=0        \n",
      "Objective improved: keep new clusters\n",
      "Outer iteration 2 / 10\n",
      "  Iteration 19 (3.19 s, search 1.65 s): objective=4163.56 imbalance=1.101 nsplit=0       \n",
      "Objective improved: keep new clusters\n",
      "Outer iteration 3 / 10\n",
      "  Iteration 19 (4.25 s, search 2.20 s): objective=4173.94 imbalance=1.149 nsplit=0       \n",
      "Objective improved: keep new clusters\n",
      "Outer iteration 4 / 10\n",
      "  Iteration 19 (5.30 s, search 2.74 s): objective=4127.65 imbalance=2.556 nsplit=0       \n",
      "Outer iteration 5 / 10\n",
      "  Iteration 19 (6.37 s, search 3.29 s): objective=4139.15 imbalance=1.651 nsplit=0       \n",
      "Outer iteration 6 / 10\n",
      "  Iteration 19 (7.42 s, search 3.84 s): objective=4167.7 imbalance=1.190 nsplit=0        \n",
      "Outer iteration 7 / 10\n",
      "  Iteration 19 (8.47 s, search 4.38 s): objective=4175 imbalance=1.239 nsplit=0         \n",
      "Objective improved: keep new clusters\n",
      "Outer iteration 8 / 10\n",
      "  Iteration 19 (9.53 s, search 4.92 s): objective=4170.98 imbalance=1.234 nsplit=0       \n",
      "Outer iteration 9 / 10\n",
      "  Iteration 19 (10.59 s, search 5.47 s): objective=4159.33 imbalance=1.081 nsplit=0       \r"
     ]
    },
    {
     "data": {
      "text/plain": [
       "4174.99609375"
      ]
     },
     "execution_count": 14,
     "metadata": {},
     "output_type": "execute_result"
    }
   ],
   "source": [
    "# K-means Clustering\n",
    "\n",
    "# ncentroids = NUM_PROMPTS\n",
    "ncentroids = 10 # Elbow point - based on objective (sum of cosine similarities)\n",
    "niter = 20\n",
    "verbose = True\n",
    "dim = X_train.shape[1]\n",
    "kmeans = faiss.Kmeans(dim, ncentroids, niter = niter, verbose = verbose, gpu = True, nredo = 10, spherical = True, max_points_per_centroid = 800)\n",
    "kmeans.train(X_train)"
   ]
  },
  {
   "cell_type": "code",
   "execution_count": 15,
   "id": "19cf0f0a",
   "metadata": {
    "tags": []
   },
   "outputs": [
    {
     "data": {
      "text/plain": [
       "array([[ 0.00859791, -0.01925578,  0.01048045, ..., -0.01367696,\n",
       "        -0.00169073,  0.00215992],\n",
       "       [ 0.008797  , -0.01981591,  0.01198063, ..., -0.00734258,\n",
       "         0.0047459 ,  0.00615032],\n",
       "       [ 0.00664711, -0.01239438,  0.00690953, ..., -0.0124342 ,\n",
       "         0.00660345,  0.00146987],\n",
       "       ...,\n",
       "       [ 0.00111436, -0.01167317,  0.0145701 , ..., -0.00728197,\n",
       "        -0.00121578, -0.00597705],\n",
       "       [ 0.00915883, -0.0160003 ,  0.0039775 , ..., -0.01597517,\n",
       "         0.00073598,  0.00104497],\n",
       "       [ 0.00788556, -0.01251784,  0.01962397, ..., -0.00155775,\n",
       "         0.00780608, -0.00317753]], dtype=float32)"
      ]
     },
     "execution_count": 15,
     "metadata": {},
     "output_type": "execute_result"
    }
   ],
   "source": [
    "kmeans.centroids #cluster centers"
   ]
  },
  {
   "cell_type": "code",
   "execution_count": 16,
   "id": "61e726e9",
   "metadata": {
    "tags": []
   },
   "outputs": [
    {
     "name": "stdout",
     "output_type": "stream",
     "text": [
      "1.0\n",
      "1.0000002\n",
      "1.0000001\n",
      "0.99999994\n",
      "1.0000001\n",
      "0.9999999\n",
      "1.0\n",
      "0.9999997\n",
      "1.0000001\n",
      "0.9999998\n"
     ]
    }
   ],
   "source": [
    "for centroid in kmeans.centroids:\n",
    "    print(np.linalg.norm(centroid))"
   ]
  },
  {
   "cell_type": "code",
   "execution_count": 17,
   "id": "e5e1fa18",
   "metadata": {
    "tags": []
   },
   "outputs": [
    {
     "data": {
      "text/plain": [
       "array([2605.50244141, 3984.03295898, 4085.95043945, 4125.76123047,\n",
       "       4136.50341797, 4142.21484375, 4144.82861328, 4146.09277344,\n",
       "       4146.53955078, 4146.79199219, 4147.11181641, 4147.54492188,\n",
       "       4148.02783203, 4148.32128906, 4148.81835938, 4149.51611328,\n",
       "       4150.05126953, 4150.26269531, 4150.33740234, 4150.41699219,\n",
       "       2591.56079102, 3986.59936523, 4091.78613281, 4125.54296875,\n",
       "       4139.35595703, 4149.29980469, 4156.30322266, 4161.37304688,\n",
       "       4162.63232422, 4162.98779297, 4163.15283203, 4163.23388672,\n",
       "       4163.27539062, 4163.30712891, 4163.3359375 , 4163.36376953,\n",
       "       4163.39892578, 4163.42480469, 4163.45996094, 4163.50244141,\n",
       "       2515.42675781, 4000.54736328, 4095.89746094, 4128.79199219,\n",
       "       4142.51708984, 4149.22216797, 4153.23144531, 4156.21044922,\n",
       "       4158.62304688, 4159.91064453, 4160.80224609, 4161.42675781,\n",
       "       4162.07958984, 4162.68945312, 4162.99072266, 4163.20166016,\n",
       "       4163.33984375, 4163.42871094, 4163.49072266, 4163.56494141,\n",
       "       2453.60180664, 4035.36425781, 4116.44873047, 4142.43603516,\n",
       "       4157.39404297, 4163.85986328, 4167.00634766, 4170.49804688,\n",
       "       4171.49072266, 4171.77246094, 4171.96435547, 4172.14208984,\n",
       "       4172.31201172, 4172.44482422, 4172.58691406, 4172.75634766,\n",
       "       4172.95556641, 4173.30175781, 4173.70800781, 4173.93701172,\n",
       "       2242.08886719, 4071.05175781, 4107.97509766, 4115.77294922,\n",
       "       4119.71582031, 4122.81933594, 4124.37548828, 4125.90234375,\n",
       "       4126.78027344, 4127.16552734, 4127.37109375, 4127.48583984,\n",
       "       4127.57275391, 4127.59912109, 4127.62060547, 4127.63769531,\n",
       "       4127.64550781, 4127.64550781, 4127.64550781, 4127.64550781,\n",
       "       2593.62548828, 3993.94775391, 4091.14379883, 4119.88330078,\n",
       "       4125.58935547, 4129.11376953, 4130.74169922, 4131.88867188,\n",
       "       4133.046875  , 4134.58203125, 4136.07958984, 4136.93164062,\n",
       "       4137.44726562, 4137.85009766, 4138.18701172, 4138.44042969,\n",
       "       4138.63330078, 4138.83837891, 4139.02929688, 4139.14501953,\n",
       "       2534.14477539, 4020.9375    , 4132.2890625 , 4155.16601562,\n",
       "       4160.16064453, 4162.42431641, 4164.37548828, 4165.43310547,\n",
       "       4165.76953125, 4165.97509766, 4166.20263672, 4166.48193359,\n",
       "       4166.80908203, 4167.07958984, 4167.22460938, 4167.31054688,\n",
       "       4167.37207031, 4167.4453125 , 4167.54638672, 4167.69970703,\n",
       "       2562.68945312, 3983.13525391, 4103.08007812, 4143.97119141,\n",
       "       4156.54101562, 4164.70996094, 4172.20410156, 4174.63916016,\n",
       "       4174.95507812, 4175.00097656, 4174.99707031, 4174.99609375,\n",
       "       4174.99609375, 4174.99609375, 4174.99609375, 4174.99609375,\n",
       "       4174.99609375, 4174.99609375, 4174.99609375, 4174.99609375])"
      ]
     },
     "execution_count": 17,
     "metadata": {},
     "output_type": "execute_result"
    }
   ],
   "source": [
    "kmeans.obj #inertia at each iteration"
   ]
  },
  {
   "cell_type": "code",
   "execution_count": 18,
   "id": "ed2c340d",
   "metadata": {
    "tags": []
   },
   "outputs": [],
   "source": [
    "cos_similarities = X_train @ kmeans.centroids.T\n",
    "classifications_train = np.argmax(cos_similarities, axis=1)"
   ]
  },
  {
   "cell_type": "code",
   "execution_count": 19,
   "id": "90aae79f",
   "metadata": {
    "tags": []
   },
   "outputs": [
    {
     "data": {
      "text/plain": [
       "4    1368\n",
       "0    1364\n",
       "1    1046\n",
       "5    1040\n",
       "8     886\n",
       "3     832\n",
       "9     448\n",
       "2     346\n",
       "7     335\n",
       "6     335\n",
       "dtype: int64"
      ]
     },
     "execution_count": 19,
     "metadata": {},
     "output_type": "execute_result"
    }
   ],
   "source": [
    "pd.Series(classifications_train).value_counts()"
   ]
  },
  {
   "cell_type": "code",
   "execution_count": 20,
   "id": "fc34c419-5d92-4dc6-8db4-9dc84b83a8d4",
   "metadata": {
    "tags": []
   },
   "outputs": [
    {
     "data": {
      "text/plain": [
       "[6, 1, 9, 5, 4, 6, 10, 3, 10, 3]"
      ]
     },
     "execution_count": 20,
     "metadata": {},
     "output_type": "execute_result"
    }
   ],
   "source": [
    "# Get most common label for each point classified to a centroid (same centroid)\n",
    "centroid_labels = [np.where(classifications_train == i)[0] for i in range(ncentroids)]\n",
    "max_label_per_centroid = [int(pd.Series(y_train[centroid_labels[i]]).value_counts().idxmax()) for i in range(ncentroids)]\n",
    "max_label_per_centroid"
   ]
  },
  {
   "cell_type": "code",
   "execution_count": 21,
   "id": "20e159a9-ef63-4a0e-8e94-52e041a5c416",
   "metadata": {
    "tags": []
   },
   "outputs": [],
   "source": [
    "centroid_to_label = {idx : max_label_per_centroid[idx] for idx in range(len(max_label_per_centroid))}"
   ]
  },
  {
   "cell_type": "code",
   "execution_count": 22,
   "id": "45760bd2-820d-462e-a8ef-8d054ed5dde4",
   "metadata": {
    "tags": []
   },
   "outputs": [
    {
     "data": {
      "text/plain": [
       "{0: 6, 1: 1, 2: 9, 3: 5, 4: 4, 5: 6, 6: 10, 7: 3, 8: 10, 9: 3}"
      ]
     },
     "execution_count": 22,
     "metadata": {},
     "output_type": "execute_result"
    }
   ],
   "source": [
    "centroid_to_label"
   ]
  },
  {
   "cell_type": "code",
   "execution_count": 23,
   "id": "b9cf2ac5-ce04-4efe-9828-041723e1f453",
   "metadata": {
    "tags": []
   },
   "outputs": [
    {
     "data": {
      "text/plain": [
       "array([ 6,  9,  9, ...,  6, 10, 10])"
      ]
     },
     "execution_count": 23,
     "metadata": {},
     "output_type": "execute_result"
    }
   ],
   "source": [
    "vectorized_map = np.vectorize(centroid_to_label.get)\n",
    "classifications_to_label = vectorized_map(classifications_train)\n",
    "\n",
    "classifications_to_label"
   ]
  },
  {
   "cell_type": "code",
   "execution_count": 24,
   "id": "c793f2dc-74de-4e3a-b0a8-3839b1be8dd9",
   "metadata": {
    "tags": []
   },
   "outputs": [
    {
     "name": "stdout",
     "output_type": "stream",
     "text": [
      "Prompt 1 Accuracy:  0.3125\n",
      "Prompt 2 Accuracy:  0.0\n",
      "Prompt 3 Accuracy:  0.97875\n",
      "Prompt 4 Accuracy:  0.3325\n",
      "Prompt 5 Accuracy:  0.41625\n",
      "Prompt 6 Accuracy:  0.56625\n",
      "Prompt 7 Accuracy:  0.0\n",
      "Prompt 8 Accuracy:  0.0\n",
      "Prompt 9 Accuracy:  0.21625\n",
      "Prompt 10 Accuracy:  0.81\n"
     ]
    }
   ],
   "source": [
    "for i in range(10):\n",
    "    print(f\"Prompt {i + 1} Accuracy: \", np.mean(classifications_to_label[i * 800:(i + 1) * 800] == (i + 1)))"
   ]
  },
  {
   "cell_type": "code",
   "execution_count": 25,
   "id": "ac9d3497-d991-455d-a121-1a4c234314b0",
   "metadata": {
    "tags": []
   },
   "outputs": [
    {
     "name": "stdout",
     "output_type": "stream",
     "text": [
      "Overall Accuracy:  0.36325\n"
     ]
    }
   ],
   "source": [
    "print(f\"Overall Accuracy: \", np.mean(classifications_to_label == y_train))"
   ]
  },
  {
   "cell_type": "markdown",
   "id": "b8d32ef1-a624-4d32-abcb-8daacad47cdc",
   "metadata": {},
   "source": [
    "## Perform Inference on Test Set & Collect Test Accuracy"
   ]
  },
  {
   "cell_type": "code",
   "execution_count": 26,
   "id": "2431abbc-b684-4c06-8fd6-06c771a1c4fa",
   "metadata": {},
   "outputs": [],
   "source": [
    "cos_similarities = X_test @ kmeans.centroids.T\n",
    "classifications_test = np.argmax(cos_similarities, axis=1)"
   ]
  },
  {
   "cell_type": "code",
   "execution_count": 27,
   "id": "d9a7dd1c-884b-4bef-b538-6c0a65a6f7e4",
   "metadata": {},
   "outputs": [
    {
     "data": {
      "text/plain": [
       "0    343\n",
       "4    337\n",
       "1    274\n",
       "5    254\n",
       "3    209\n",
       "8    203\n",
       "9    106\n",
       "2    105\n",
       "7     91\n",
       "6     78\n",
       "dtype: int64"
      ]
     },
     "execution_count": 27,
     "metadata": {},
     "output_type": "execute_result"
    }
   ],
   "source": [
    "pd.Series(classifications_test).value_counts()"
   ]
  },
  {
   "cell_type": "code",
   "execution_count": 28,
   "id": "6fa74238-a2b3-4277-bcd6-88ab9d5caf4f",
   "metadata": {},
   "outputs": [
    {
     "data": {
      "text/plain": [
       "array([ 1,  9,  6, ..., 10, 10, 10])"
      ]
     },
     "execution_count": 28,
     "metadata": {},
     "output_type": "execute_result"
    }
   ],
   "source": [
    "classifications_to_label_test = vectorized_map(classifications_test)\n",
    "\n",
    "classifications_to_label_test"
   ]
  },
  {
   "cell_type": "code",
   "execution_count": 29,
   "id": "799e3a99-6659-44b7-becd-4d0825fd1957",
   "metadata": {},
   "outputs": [
    {
     "name": "stdout",
     "output_type": "stream",
     "text": [
      "Prompt 1 Accuracy:  0.32\n",
      "Prompt 2 Accuracy:  0.0\n",
      "Prompt 3 Accuracy:  0.985\n",
      "Prompt 4 Accuracy:  0.335\n",
      "Prompt 5 Accuracy:  0.455\n",
      "Prompt 6 Accuracy:  0.52\n",
      "Prompt 7 Accuracy:  0.0\n",
      "Prompt 8 Accuracy:  0.0\n",
      "Prompt 9 Accuracy:  0.275\n",
      "Prompt 10 Accuracy:  0.825\n"
     ]
    }
   ],
   "source": [
    "for i in range(10):\n",
    "    print(f\"Prompt {i + 1} Accuracy: \", np.mean(classifications_to_label_test[i * 200:(i + 1) * 200] == (i + 1)))"
   ]
  },
  {
   "cell_type": "code",
   "execution_count": 30,
   "id": "4f97cfa0-27da-4897-8e65-681b75ad51d7",
   "metadata": {},
   "outputs": [
    {
     "name": "stdout",
     "output_type": "stream",
     "text": [
      "Overall Accuracy:  0.3715\n"
     ]
    }
   ],
   "source": [
    "print(f\"Overall Accuracy: \", np.mean(classifications_to_label_test == y_test))"
   ]
  },
  {
   "cell_type": "markdown",
   "id": "ee076424-49c5-4245-a3a3-56fba51465ea",
   "metadata": {},
   "source": [
    "## Confusion Matrix of Results"
   ]
  },
  {
   "cell_type": "code",
   "execution_count": 31,
   "id": "b9175267-2fef-4f02-930e-c263ec396f91",
   "metadata": {
    "tags": []
   },
   "outputs": [],
   "source": [
    "from sklearn.metrics import confusion_matrix, ConfusionMatrixDisplay\n",
    "import matplotlib.pyplot as plt"
   ]
  },
  {
   "cell_type": "code",
   "execution_count": 32,
   "id": "3c2c3ac7-26e3-42d5-860a-918d735776c1",
   "metadata": {
    "tags": []
   },
   "outputs": [
    {
     "data": {
      "image/png": "[encoded data removed]",
      "text/plain": [
       "<Figure size 432x288 with 2 Axes>"
      ]
     },
     "metadata": {
      "needs_background": "light"
     },
     "output_type": "display_data"
    }
   ],
   "source": [
    "cm = confusion_matrix(y_train, classifications_to_label)\n",
    "disp = ConfusionMatrixDisplay(confusion_matrix=cm, display_labels=[f\"{i}\" for i in range(1, 11)])\n",
    "\n",
    "disp.plot()\n",
    "plt.title('Confusion Matrix for Train Set')\n",
    "plt.show()"
   ]
  },
  {
   "cell_type": "code",
   "execution_count": 33,
   "id": "03a45427-f767-4838-968e-c341eca03746",
   "metadata": {
    "tags": []
   },
   "outputs": [
    {
     "data": {
      "image/png": "[encoded data removed]",
      "text/plain": [
       "<Figure size 432x288 with 2 Axes>"
      ]
     },
     "metadata": {
      "needs_background": "light"
     },
     "output_type": "display_data"
    }
   ],
   "source": [
    "cm = confusion_matrix(y_test, classifications_to_label_test)\n",
    "disp = ConfusionMatrixDisplay(confusion_matrix=cm, display_labels=[f\"{i}\" for i in range(1, 11)])\n",
    "\n",
    "disp.plot()\n",
    "plt.title('Confusion Matrix for Test Set')\n",
    "plt.show()"
   ]
  },
  {
   "cell_type": "code",
   "execution_count": null,
   "id": "1322b9ab-2b94-4d00-95cf-1b3741b9f482",
   "metadata": {},
   "outputs": [],
   "source": []
  },
  {
   "cell_type": "code",
   "execution_count": null,
   "id": "de826fc3-e67f-45cb-bb74-15dfcbd3d18d",
   "metadata": {},
   "outputs": [],
   "source": []
  }
 ],
 "metadata": {
  "kernelspec": {
   "display_name": "Python 3 (ipykernel)",
   "language": "python",
   "name": "python3"
  },
  "language_info": {
   "codemirror_mode": {
    "name": "ipython",
    "version": 3
   },
   "file_extension": ".py",
   "mimetype": "text/x-python",
   "name": "python",
   "nbconvert_exporter": "python",
   "pygments_lexer": "ipython3",
   "version": "3.7.11"
  }
 },
 "nbformat": 4,
 "nbformat_minor": 5
}
