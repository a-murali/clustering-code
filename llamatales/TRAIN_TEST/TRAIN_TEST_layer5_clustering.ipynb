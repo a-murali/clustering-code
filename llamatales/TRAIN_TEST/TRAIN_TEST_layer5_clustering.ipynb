{
 "cells": [
  {
   "cell_type": "markdown",
   "id": "64c867a4-b1c3-426b-b086-de071a726ebf",
   "metadata": {},
   "source": [
    "## Install Packages"
   ]
  },
  {
   "cell_type": "code",
   "execution_count": 1,
   "id": "80849741",
   "metadata": {
    "tags": []
   },
   "outputs": [
    {
     "name": "stdout",
     "output_type": "stream",
     "text": [
      "Collecting package metadata (current_repodata.json): | WARNING conda.models.version:get_matcher(540): Using .* with relational operator is superfluous and deprecated and will be removed in a future version of conda. Your spec was 1.7.1.*, but conda is ignoring the .* and treating it as 1.7.1\n",
      "done\n",
      "Solving environment: failed with initial frozen solve. Retrying with flexible solve.\n",
      "Solving environment: failed with repodata from current_repodata.json, will retry with next repodata source.\n",
      "Collecting package metadata (repodata.json): | WARNING conda.models.version:get_matcher(540): Using .* with relational operator is superfluous and deprecated and will be removed in a future version of conda. Your spec was 1.6.0.*, but conda is ignoring the .* and treating it as 1.6.0\n",
      "WARNING conda.models.version:get_matcher(540): Using .* with relational operator is superfluous and deprecated and will be removed in a future version of conda. Your spec was 1.8.0.*, but conda is ignoring the .* and treating it as 1.8.0\n",
      "/ WARNING conda.models.version:get_matcher(540): Using .* with relational operator is superfluous and deprecated and will be removed in a future version of conda. Your spec was 1.9.0.*, but conda is ignoring the .* and treating it as 1.9.0\n",
      "done\n",
      "Solving environment: done\n",
      "\n",
      "\n",
      "==> WARNING: A newer version of conda exists. <==\n",
      "  current version: 4.10.3\n",
      "  latest version: 25.7.0\n",
      "\n",
      "Please update conda by running\n",
      "\n",
      "    $ conda update -n base -c defaults conda\n",
      "\n",
      "\n",
      "\n",
      "## Package Plan ##\n",
      "\n",
      "  environment location: /opt/conda\n",
      "\n",
      "  added / updated specs:\n",
      "    - faiss-gpu\n",
      "\n",
      "\n",
      "The following packages will be downloaded:\n",
      "\n",
      "    package                    |            build\n",
      "    ---------------------------|-----------------\n",
      "    ca-certificates-2025.8.3   |       hbd8a1cb_0         151 KB  conda-forge\n",
      "    certifi-2024.8.30          |     pyhd8ed1ab_0         160 KB  conda-forge\n",
      "    conda-4.12.0               |   py37h89c1867_0         1.0 MB  conda-forge\n",
      "    faiss-1.7.1                |py37cuda111h7f21d35_1_cuda         2.0 MB  conda-forge\n",
      "    faiss-gpu-1.7.1            |       h788eb59_1          15 KB  conda-forge\n",
      "    libblas-3.9.0              |   26_linux64_mkl          16 KB  conda-forge\n",
      "    libfaiss-1.7.1             |cuda111hf54f04a_1_cuda        80.2 MB  conda-forge\n",
      "    libfaiss-avx2-1.7.1        |cuda111h1234567_1_cuda        80.3 MB  conda-forge\n",
      "    liblapack-3.9.0            |   26_linux64_mkl          16 KB  conda-forge\n",
      "    openssl-1.1.1w             |       h7f8727e_0         3.7 MB\n",
      "    python_abi-3.7             |          2_cp37m           4 KB  conda-forge\n",
      "    ------------------------------------------------------------\n",
      "                                           Total:       167.6 MB\n",
      "\n",
      "The following NEW packages will be INSTALLED:\n",
      "\n",
      "  faiss              conda-forge/linux-64::faiss-1.7.1-py37cuda111h7f21d35_1_cuda\n",
      "  faiss-gpu          conda-forge/linux-64::faiss-gpu-1.7.1-h788eb59_1\n",
      "  libblas            conda-forge/linux-64::libblas-3.9.0-26_linux64_mkl\n",
      "  libfaiss           conda-forge/linux-64::libfaiss-1.7.1-cuda111hf54f04a_1_cuda\n",
      "  libfaiss-avx2      conda-forge/linux-64::libfaiss-avx2-1.7.1-cuda111h1234567_1_cuda\n",
      "  liblapack          conda-forge/linux-64::liblapack-3.9.0-26_linux64_mkl\n",
      "  python_abi         conda-forge/linux-64::python_abi-3.7-2_cp37m\n",
      "\n",
      "The following packages will be UPDATED:\n",
      "\n",
      "  ca-certificates    pkgs/main/linux-64::ca-certificates-2~ --> conda-forge/noarch::ca-certificates-2025.8.3-hbd8a1cb_0\n",
      "  certifi            pkgs/main/linux-64::certifi-2021.10.8~ --> conda-forge/noarch::certifi-2024.8.30-pyhd8ed1ab_0\n",
      "  conda              pkgs/main::conda-4.10.3-py37h06a4308_0 --> conda-forge::conda-4.12.0-py37h89c1867_0\n",
      "  openssl                                 1.1.1l-h7f8727e_0 --> 1.1.1w-h7f8727e_0\n",
      "\n",
      "\n",
      "\n",
      "Downloading and Extracting Packages\n",
      "openssl-1.1.1w       | 3.7 MB    | ##################################### | 100% \n",
      "ca-certificates-2025 | 151 KB    | ##################################### | 100% \n",
      "libfaiss-1.7.1       | 80.2 MB   | ##################################### | 100% \n",
      "certifi-2024.8.30    | 160 KB    | ##################################### | 100% \n",
      "python_abi-3.7       | 4 KB      | ##################################### | 100% \n",
      "libblas-3.9.0        | 16 KB     | ##################################### | 100% \n",
      "conda-4.12.0         | 1.0 MB    | ##################################### | 100% \n",
      "faiss-1.7.1          | 2.0 MB    | ##################################### | 100% \n",
      "libfaiss-avx2-1.7.1  | 80.3 MB   | ##################################### | 100% \n",
      "faiss-gpu-1.7.1      | 15 KB     | ##################################### | 100% \n",
      "liblapack-3.9.0      | 16 KB     | ##################################### | 100% \n",
      "Preparing transaction: done\n",
      "Verifying transaction: done\n",
      "Executing transaction: done\n",
      "Get:1 http://security.ubuntu.com/ubuntu bionic-security InRelease [102 kB]\n",
      "Hit:2 http://archive.ubuntu.com/ubuntu bionic InRelease                        \n",
      "Get:3 http://archive.ubuntu.com/ubuntu bionic-updates InRelease [102 kB]       \n",
      "Get:4 http://security.ubuntu.com/ubuntu bionic-security/restricted amd64 Packages [1688 kB]\n",
      "Get:5 http://archive.ubuntu.com/ubuntu bionic-backports InRelease [102 kB]     \n",
      "Get:6 http://archive.ubuntu.com/ubuntu bionic-updates/universe amd64 Packages [2411 kB]\n",
      "Get:7 http://archive.ubuntu.com/ubuntu bionic-updates/main amd64 Packages [3786 kB]\n",
      "Get:8 http://archive.ubuntu.com/ubuntu bionic-updates/restricted amd64 Packages [1728 kB]\n",
      "Get:9 http://archive.ubuntu.com/ubuntu bionic-updates/multiverse amd64 Packages [30.8 kB]\n",
      "Get:10 http://archive.ubuntu.com/ubuntu bionic-backports/universe amd64 Packages [20.6 kB]\n",
      "Get:11 http://archive.ubuntu.com/ubuntu bionic-backports/main amd64 Packages [64.0 kB]\n",
      "Get:12 http://security.ubuntu.com/ubuntu bionic-security/universe amd64 Packages [1637 kB]\n",
      "Get:13 http://security.ubuntu.com/ubuntu bionic-security/main amd64 Packages [3373 kB]\n",
      "Get:14 http://security.ubuntu.com/ubuntu bionic-security/multiverse amd64 Packages [23.8 kB]\n",
      "Fetched 15.1 MB in 12s (1295 kB/s)                                             \n",
      "Reading package lists... Done\n",
      "Reading package lists... Done\n",
      "Building dependency tree       \n",
      "Reading state information... Done\n",
      "The following additional packages will be installed:\n",
      "  gcc-7-base libatlas3-base libgfortran4 libquadmath0\n",
      "Suggested packages:\n",
      "  libatlas-doc liblapack-doc\n",
      "The following NEW packages will be installed:\n",
      "  gcc-7-base libatlas-base-dev libatlas3-base libgfortran4 libquadmath0\n",
      "0 upgraded, 5 newly installed, 0 to remove and 83 not upgraded.\n",
      "Need to get 8397 kB of archives.\n",
      "After this operation, 49.3 MB of additional disk space will be used.\n",
      "Get:1 http://archive.ubuntu.com/ubuntu bionic-updates/main amd64 gcc-7-base amd64 7.5.0-3ubuntu1~18.04 [18.3 kB]\n",
      "Get:2 http://archive.ubuntu.com/ubuntu bionic-updates/main amd64 libquadmath0 amd64 8.4.0-1ubuntu1~18.04 [134 kB]\n",
      "Get:3 http://archive.ubuntu.com/ubuntu bionic-updates/main amd64 libgfortran4 amd64 7.5.0-3ubuntu1~18.04 [492 kB]\n",
      "Get:4 http://archive.ubuntu.com/ubuntu bionic/universe amd64 libatlas3-base amd64 3.10.3-5 [3732 kB]\n",
      "Get:5 http://archive.ubuntu.com/ubuntu bionic/universe amd64 libatlas-base-dev amd64 3.10.3-5 [4022 kB]\n",
      "Fetched 8397 kB in 1s (14.8 MB/s)          \n",
      "debconf: delaying package configuration, since apt-utils is not installed\n",
      "Selecting previously unselected package gcc-7-base:amd64.\n",
      "(Reading database ... 11934 files and directories currently installed.)\n",
      "Preparing to unpack .../gcc-7-base_7.5.0-3ubuntu1~18.04_amd64.deb ...\n",
      "Unpacking gcc-7-base:amd64 (7.5.0-3ubuntu1~18.04) ...\n",
      "Selecting previously unselected package libquadmath0:amd64.\n",
      "Preparing to unpack .../libquadmath0_8.4.0-1ubuntu1~18.04_amd64.deb ...\n",
      "Unpacking libquadmath0:amd64 (8.4.0-1ubuntu1~18.04) ...\n",
      "Selecting previously unselected package libgfortran4:amd64.\n",
      "Preparing to unpack .../libgfortran4_7.5.0-3ubuntu1~18.04_amd64.deb ...\n",
      "Unpacking libgfortran4:amd64 (7.5.0-3ubuntu1~18.04) ...\n",
      "Selecting previously unselected package libatlas3-base:amd64.\n",
      "Preparing to unpack .../libatlas3-base_3.10.3-5_amd64.deb ...\n",
      "Unpacking libatlas3-base:amd64 (3.10.3-5) ...\n",
      "Selecting previously unselected package libatlas-base-dev:amd64.\n",
      "Preparing to unpack .../libatlas-base-dev_3.10.3-5_amd64.deb ...\n",
      "Unpacking libatlas-base-dev:amd64 (3.10.3-5) ...\n",
      "Setting up libquadmath0:amd64 (8.4.0-1ubuntu1~18.04) ...\n",
      "Setting up gcc-7-base:amd64 (7.5.0-3ubuntu1~18.04) ...\n",
      "Setting up libgfortran4:amd64 (7.5.0-3ubuntu1~18.04) ...\n",
      "Setting up libatlas3-base:amd64 (3.10.3-5) ...\n",
      "update-alternatives: using /usr/lib/x86_64-linux-gnu/atlas/libblas.so.3 to provide /usr/lib/x86_64-linux-gnu/libblas.so.3 (libblas.so.3-x86_64-linux-gnu) in auto mode\n",
      "update-alternatives: using /usr/lib/x86_64-linux-gnu/atlas/liblapack.so.3 to provide /usr/lib/x86_64-linux-gnu/liblapack.so.3 (liblapack.so.3-x86_64-linux-gnu) in auto mode\n",
      "Setting up libatlas-base-dev:amd64 (3.10.3-5) ...\n",
      "update-alternatives: using /usr/lib/x86_64-linux-gnu/atlas/libblas.so to provide /usr/lib/x86_64-linux-gnu/libblas.so (libblas.so-x86_64-linux-gnu) in auto mode\n",
      "update-alternatives: using /usr/lib/x86_64-linux-gnu/atlas/liblapack.so to provide /usr/lib/x86_64-linux-gnu/liblapack.so (liblapack.so-x86_64-linux-gnu) in auto mode\n",
      "Processing triggers for libc-bin (2.27-3ubuntu1.4) ...\n"
     ]
    }
   ],
   "source": [
    "!conda install -y -c conda-forge faiss-gpu\n",
    "!apt-get -y update\n",
    "!apt-get -y install libatlas-base-dev"
   ]
  },
  {
   "cell_type": "markdown",
   "id": "ea6af1a5-1aef-4743-bfa6-7392ed97dbe7",
   "metadata": {},
   "source": [
    "## Load Data"
   ]
  },
  {
   "cell_type": "code",
   "execution_count": 2,
   "id": "e26dddbf",
   "metadata": {
    "tags": []
   },
   "outputs": [],
   "source": [
    "import pandas as pd\n",
    "import numpy as np\n",
    "import matplotlib.pyplot as plt\n",
    "\n",
    "from sklearn.random_projection import GaussianRandomProjection\n",
    "\n",
    "from tqdm import tqdm\n",
    "\n",
    "import faiss"
   ]
  },
  {
   "cell_type": "code",
   "execution_count": 3,
   "id": "89c2cffa",
   "metadata": {
    "tags": []
   },
   "outputs": [
    {
     "data": {
      "text/html": [
       "<div>\n",
       "<style scoped>\n",
       "    .dataframe tbody tr th:only-of-type {\n",
       "        vertical-align: middle;\n",
       "    }\n",
       "\n",
       "    .dataframe tbody tr th {\n",
       "        vertical-align: top;\n",
       "    }\n",
       "\n",
       "    .dataframe thead th {\n",
       "        text-align: right;\n",
       "    }\n",
       "</style>\n",
       "<table border=\"1\" class=\"dataframe\">\n",
       "  <thead>\n",
       "    <tr style=\"text-align: right;\">\n",
       "      <th></th>\n",
       "      <th>prompt_id</th>\n",
       "      <th>prompt</th>\n",
       "      <th>story</th>\n",
       "      <th>hidden_state_file</th>\n",
       "      <th>len_generated_story</th>\n",
       "      <th>len_new_story</th>\n",
       "    </tr>\n",
       "  </thead>\n",
       "  <tbody>\n",
       "    <tr>\n",
       "      <th>0</th>\n",
       "      <td>1</td>\n",
       "      <td>Once upon a time there was a dragon</td>\n",
       "      <td>Once upon a time there was a dragon named Blaz...</td>\n",
       "      <td>./hidden_states/prompt_1.npz</td>\n",
       "      <td>270</td>\n",
       "      <td>271</td>\n",
       "    </tr>\n",
       "    <tr>\n",
       "      <th>1</th>\n",
       "      <td>1</td>\n",
       "      <td>Once upon a time there was a dragon</td>\n",
       "      <td>Once upon a time there was a dragon named Spar...</td>\n",
       "      <td>./hidden_states/prompt_1.npz</td>\n",
       "      <td>349</td>\n",
       "      <td>350</td>\n",
       "    </tr>\n",
       "    <tr>\n",
       "      <th>2</th>\n",
       "      <td>1</td>\n",
       "      <td>Once upon a time there was a dragon</td>\n",
       "      <td>Once upon a time there was a dragon named Scor...</td>\n",
       "      <td>./hidden_states/prompt_1.npz</td>\n",
       "      <td>278</td>\n",
       "      <td>278</td>\n",
       "    </tr>\n",
       "    <tr>\n",
       "      <th>3</th>\n",
       "      <td>1</td>\n",
       "      <td>Once upon a time there was a dragon</td>\n",
       "      <td>Once upon a time there was a dragon. The drago...</td>\n",
       "      <td>./hidden_states/prompt_1.npz</td>\n",
       "      <td>117</td>\n",
       "      <td>118</td>\n",
       "    </tr>\n",
       "    <tr>\n",
       "      <th>4</th>\n",
       "      <td>1</td>\n",
       "      <td>Once upon a time there was a dragon</td>\n",
       "      <td>Once upon a time there was a dragon. The drago...</td>\n",
       "      <td>./hidden_states/prompt_1.npz</td>\n",
       "      <td>129</td>\n",
       "      <td>130</td>\n",
       "    </tr>\n",
       "    <tr>\n",
       "      <th>...</th>\n",
       "      <td>...</td>\n",
       "      <td>...</td>\n",
       "      <td>...</td>\n",
       "      <td>...</td>\n",
       "      <td>...</td>\n",
       "      <td>...</td>\n",
       "    </tr>\n",
       "    <tr>\n",
       "      <th>9995</th>\n",
       "      <td>10</td>\n",
       "      <td>Once upon a time there was a poor boy</td>\n",
       "      <td>Once upon a time there was a poor boy named Ti...</td>\n",
       "      <td>./hidden_states/prompt_10.npz</td>\n",
       "      <td>289</td>\n",
       "      <td>290</td>\n",
       "    </tr>\n",
       "    <tr>\n",
       "      <th>9996</th>\n",
       "      <td>10</td>\n",
       "      <td>Once upon a time there was a poor boy</td>\n",
       "      <td>Once upon a time there was a poor boy named Ti...</td>\n",
       "      <td>./hidden_states/prompt_10.npz</td>\n",
       "      <td>119</td>\n",
       "      <td>119</td>\n",
       "    </tr>\n",
       "    <tr>\n",
       "      <th>9997</th>\n",
       "      <td>10</td>\n",
       "      <td>Once upon a time there was a poor boy</td>\n",
       "      <td>Once upon a time there was a poor boy named Ti...</td>\n",
       "      <td>./hidden_states/prompt_10.npz</td>\n",
       "      <td>127</td>\n",
       "      <td>128</td>\n",
       "    </tr>\n",
       "    <tr>\n",
       "      <th>9998</th>\n",
       "      <td>10</td>\n",
       "      <td>Once upon a time there was a poor boy</td>\n",
       "      <td>Once upon a time there was a poor boy named Ti...</td>\n",
       "      <td>./hidden_states/prompt_10.npz</td>\n",
       "      <td>441</td>\n",
       "      <td>441</td>\n",
       "    </tr>\n",
       "    <tr>\n",
       "      <th>9999</th>\n",
       "      <td>10</td>\n",
       "      <td>Once upon a time there was a poor boy</td>\n",
       "      <td>Once upon a time there was a poor boy named Ti...</td>\n",
       "      <td>./hidden_states/prompt_10.npz</td>\n",
       "      <td>520</td>\n",
       "      <td>521</td>\n",
       "    </tr>\n",
       "  </tbody>\n",
       "</table>\n",
       "<p>10000 rows × 6 columns</p>\n",
       "</div>"
      ],
      "text/plain": [
       "      prompt_id                                 prompt  \\\n",
       "0             1    Once upon a time there was a dragon   \n",
       "1             1    Once upon a time there was a dragon   \n",
       "2             1    Once upon a time there was a dragon   \n",
       "3             1    Once upon a time there was a dragon   \n",
       "4             1    Once upon a time there was a dragon   \n",
       "...         ...                                    ...   \n",
       "9995         10  Once upon a time there was a poor boy   \n",
       "9996         10  Once upon a time there was a poor boy   \n",
       "9997         10  Once upon a time there was a poor boy   \n",
       "9998         10  Once upon a time there was a poor boy   \n",
       "9999         10  Once upon a time there was a poor boy   \n",
       "\n",
       "                                                  story  \\\n",
       "0     Once upon a time there was a dragon named Blaz...   \n",
       "1     Once upon a time there was a dragon named Spar...   \n",
       "2     Once upon a time there was a dragon named Scor...   \n",
       "3     Once upon a time there was a dragon. The drago...   \n",
       "4     Once upon a time there was a dragon. The drago...   \n",
       "...                                                 ...   \n",
       "9995  Once upon a time there was a poor boy named Ti...   \n",
       "9996  Once upon a time there was a poor boy named Ti...   \n",
       "9997  Once upon a time there was a poor boy named Ti...   \n",
       "9998  Once upon a time there was a poor boy named Ti...   \n",
       "9999  Once upon a time there was a poor boy named Ti...   \n",
       "\n",
       "                  hidden_state_file  len_generated_story  len_new_story  \n",
       "0      ./hidden_states/prompt_1.npz                  270            271  \n",
       "1      ./hidden_states/prompt_1.npz                  349            350  \n",
       "2      ./hidden_states/prompt_1.npz                  278            278  \n",
       "3      ./hidden_states/prompt_1.npz                  117            118  \n",
       "4      ./hidden_states/prompt_1.npz                  129            130  \n",
       "...                             ...                  ...            ...  \n",
       "9995  ./hidden_states/prompt_10.npz                  289            290  \n",
       "9996  ./hidden_states/prompt_10.npz                  119            119  \n",
       "9997  ./hidden_states/prompt_10.npz                  127            128  \n",
       "9998  ./hidden_states/prompt_10.npz                  441            441  \n",
       "9999  ./hidden_states/prompt_10.npz                  520            521  \n",
       "\n",
       "[10000 rows x 6 columns]"
      ]
     },
     "execution_count": 3,
     "metadata": {},
     "output_type": "execute_result"
    }
   ],
   "source": [
    "df = pd.read_csv(\"../story_dataset.csv\")\n",
    "df"
   ]
  },
  {
   "cell_type": "code",
   "execution_count": 4,
   "id": "c081cc09",
   "metadata": {
    "tags": []
   },
   "outputs": [
    {
     "data": {
      "text/plain": [
       "522"
      ]
     },
     "execution_count": 4,
     "metadata": {},
     "output_type": "execute_result"
    }
   ],
   "source": [
    "max_story_len = max(df[\"len_generated_story\"])\n",
    "max_story_len"
   ]
  },
  {
   "cell_type": "code",
   "execution_count": 5,
   "id": "212c067a",
   "metadata": {
    "scrolled": true,
    "tags": []
   },
   "outputs": [
    {
     "name": "stderr",
     "output_type": "stream",
     "text": [
      "100%|███████████████████████████████████████████████████████████████████████████████| 1000/1000 [04:10<00:00,  3.99it/s]\n",
      "100%|███████████████████████████████████████████████████████████████████████████████| 1000/1000 [03:52<00:00,  4.31it/s]\n",
      "100%|███████████████████████████████████████████████████████████████████████████████| 1000/1000 [03:27<00:00,  4.82it/s]\n",
      "100%|███████████████████████████████████████████████████████████████████████████████| 1000/1000 [04:14<00:00,  3.93it/s]\n",
      "100%|███████████████████████████████████████████████████████████████████████████████| 1000/1000 [04:05<00:00,  4.08it/s]\n",
      "100%|███████████████████████████████████████████████████████████████████████████████| 1000/1000 [03:54<00:00,  4.27it/s]\n",
      "100%|███████████████████████████████████████████████████████████████████████████████| 1000/1000 [03:57<00:00,  4.21it/s]\n",
      "100%|███████████████████████████████████████████████████████████████████████████████| 1000/1000 [04:03<00:00,  4.11it/s]\n",
      "100%|███████████████████████████████████████████████████████████████████████████████| 1000/1000 [04:40<00:00,  3.57it/s]\n",
      "100%|███████████████████████████████████████████████████████████████████████████████| 1000/1000 [04:28<00:00,  3.72it/s]\n"
     ]
    }
   ],
   "source": [
    "hidden_states_by_layer = {}\n",
    "NUM_PROMPTS = 10\n",
    "\n",
    "for prompt_id in range(1, NUM_PROMPTS + 1):\n",
    "    with np.load(f'../hidden_states/prompt_{prompt_id}.npz') as loaded_data:\n",
    "        for i in tqdm(range(1000)):\n",
    "            curr_hidden_states = loaded_data[f\"arr_{i}\"][0]\n",
    "#             print(curr_hidden_states.shape)\n",
    "            for layer in range(5, 6):\n",
    "                padded_arr = np.zeros((max_story_len, 512))\n",
    "                padded_arr_len = len(curr_hidden_states[layer][0])\n",
    "                \n",
    "                padded_arr[:padded_arr_len] = curr_hidden_states[layer][0]\n",
    "                \n",
    "                padded_arr = padded_arr.flatten().astype('float32') #FAISS expects data in type float32 instead of float64 - saves memory too!\n",
    "#                 print(padded_arr.shape)\n",
    "                \n",
    "                if(f\"layer_{layer}\" in hidden_states_by_layer):\n",
    "                    hidden_states_by_layer[f\"layer_{layer}\"].append(padded_arr)\n",
    "                else:\n",
    "                    hidden_states_by_layer[f\"layer_{layer}\"] = [padded_arr]"
   ]
  },
  {
   "cell_type": "code",
   "execution_count": 6,
   "id": "ad23eb70",
   "metadata": {
    "tags": []
   },
   "outputs": [
    {
     "data": {
      "text/plain": [
       "(10000, 267264)"
      ]
     },
     "execution_count": 6,
     "metadata": {},
     "output_type": "execute_result"
    }
   ],
   "source": [
    "layer_hs_array = np.array(hidden_states_by_layer[\"layer_5\"])\n",
    "layer_hs_array.shape"
   ]
  },
  {
   "cell_type": "markdown",
   "id": "e44eecd8-9f29-457b-8f65-d8eae3b84eb8",
   "metadata": {
    "tags": []
   },
   "source": [
    "## Layer 5 Clustering"
   ]
  },
  {
   "cell_type": "code",
   "execution_count": 7,
   "id": "49cf7b1b",
   "metadata": {
    "tags": []
   },
   "outputs": [],
   "source": [
    "# Use original vectors for clustering - uncomment next line and comment out last two lines\n",
    "\n",
    "dim_reduced_vecs = layer_hs_array\n",
    "\n",
    "# random_projector = GaussianRandomProjection(random_state = 42)\n",
    "# dim_reduced_vecs = random_projector.fit_transform(layer_hs_array).astype('float32')"
   ]
  },
  {
   "cell_type": "code",
   "execution_count": 8,
   "id": "b9257701",
   "metadata": {
    "tags": []
   },
   "outputs": [
    {
     "data": {
      "text/plain": [
       "(10000, 267264)"
      ]
     },
     "execution_count": 8,
     "metadata": {},
     "output_type": "execute_result"
    }
   ],
   "source": [
    "dim_reduced_vecs = np.array([v / np.linalg.norm(v) for v in dim_reduced_vecs])\n",
    "dim_reduced_vecs.shape"
   ]
  },
  {
   "cell_type": "code",
   "execution_count": 9,
   "id": "22e1c2a5-03fa-43fd-90d4-609a0d949829",
   "metadata": {
    "tags": []
   },
   "outputs": [
    {
     "data": {
      "text/plain": [
       "array([ 1,  1,  1, ..., 10, 10, 10])"
      ]
     },
     "execution_count": 9,
     "metadata": {},
     "output_type": "execute_result"
    }
   ],
   "source": [
    "prompt_ids = df[\"prompt_id\"]\n",
    "prompt_ids = prompt_ids.to_numpy()\n",
    "prompt_ids"
   ]
  },
  {
   "cell_type": "code",
   "execution_count": 10,
   "id": "bd963a3c-0ad1-416a-9fc6-a13bf2422fcd",
   "metadata": {},
   "outputs": [],
   "source": [
    "X_train = np.zeros((int(0.8 * dim_reduced_vecs.shape[0]), dim_reduced_vecs.shape[1]), dtype = np.float32)\n",
    "y_train = np.zeros(int(0.8 * dim_reduced_vecs.shape[0]))\n",
    "\n",
    "X_test = np.zeros((int(0.2 * dim_reduced_vecs.shape[0]), dim_reduced_vecs.shape[1]), dtype = np.float32)\n",
    "y_test = np.zeros(int(0.2 * dim_reduced_vecs.shape[0]))"
   ]
  },
  {
   "cell_type": "code",
   "execution_count": 11,
   "id": "6b84c6a1-29cc-4096-9eb1-420301a7065f",
   "metadata": {},
   "outputs": [],
   "source": [
    "for i in range(10):\n",
    "    X_train[i * 800 : (i + 1) * 800] = dim_reduced_vecs[i * 1000 : (i * 1000) + 800]\n",
    "    y_train[i * 800 : (i + 1) * 800] = prompt_ids[i * 1000 : (i * 1000) + 800]\n",
    "    \n",
    "    X_test[i * 200 : (i + 1) * 200] = dim_reduced_vecs[(i * 1000) + 800 : (i + 1) * 1000]\n",
    "    y_test[i * 200 : (i + 1) * 200] = prompt_ids[(i * 1000) + 800 : (i + 1) * 1000]"
   ]
  },
  {
   "cell_type": "code",
   "execution_count": 12,
   "id": "e7c2f695-573c-4abe-ab7b-eaa4a1661cd2",
   "metadata": {},
   "outputs": [
    {
     "name": "stdout",
     "output_type": "stream",
     "text": [
      "(8000, 267264)\n",
      "(8000,)\n",
      "(2000, 267264)\n",
      "(2000,)\n"
     ]
    }
   ],
   "source": [
    "print(X_train.shape)\n",
    "print(y_train.shape)\n",
    "print(X_test.shape)\n",
    "print(y_test.shape)"
   ]
  },
  {
   "cell_type": "code",
   "execution_count": 13,
   "id": "8aebf88b-1d51-48d2-945c-311b5fc70963",
   "metadata": {},
   "outputs": [
    {
     "name": "stdout",
     "output_type": "stream",
     "text": [
      "Sampling a subset of 4000 / 8000 for training\n",
      "Clustering 4000 points in 267264D to 5 clusters, redo 10 times, 20 iterations\n",
      "  Preprocessing in 4.15 s\n",
      "Outer iteration 0 / 10\n",
      "  Iteration 19 (11.40 s, search 7.51 s): objective=2139.1 imbalance=1.305 nsplit=0        \n",
      "Objective improved: keep new clusters\n",
      "Outer iteration 1 / 10\n",
      "  Iteration 19 (22.79 s, search 15.04 s): objective=2148.34 imbalance=1.252 nsplit=0       \n",
      "Objective improved: keep new clusters\n",
      "Outer iteration 2 / 10\n",
      "  Iteration 19 (34.19 s, search 22.54 s): objective=2145.48 imbalance=1.035 nsplit=0       \n",
      "Outer iteration 3 / 10\n",
      "  Iteration 19 (45.59 s, search 30.07 s): objective=2147.31 imbalance=1.118 nsplit=0       \n",
      "Outer iteration 4 / 10\n",
      "  Iteration 19 (57.00 s, search 37.58 s): objective=2142.13 imbalance=1.571 nsplit=0       \n",
      "Outer iteration 5 / 10\n",
      "  Iteration 19 (68.38 s, search 45.10 s): objective=2140.59 imbalance=1.489 nsplit=0       \n",
      "Outer iteration 6 / 10\n",
      "  Iteration 19 (79.78 s, search 52.60 s): objective=2141.57 imbalance=1.601 nsplit=0       \n",
      "Outer iteration 7 / 10\n",
      "  Iteration 19 (91.18 s, search 60.11 s): objective=2139.55 imbalance=1.512 nsplit=0       \n",
      "Outer iteration 8 / 10\n",
      "  Iteration 19 (102.57 s, search 67.62 s): objective=2141.9 imbalance=1.285 nsplit=0        \n",
      "Outer iteration 9 / 10\n",
      "  Iteration 19 (113.98 s, search 75.13 s): objective=2141.49 imbalance=1.560 nsplit=0       \n",
      "Sampling a subset of 4800 / 8000 for training\n",
      "Clustering 4800 points in 267264D to 6 clusters, redo 10 times, 20 iterations\n",
      "  Preprocessing in 4.10 s\n",
      "Outer iteration 0 / 10\n",
      "  Iteration 19 (13.60 s, search 9.01 s): objective=2564.56 imbalance=1.606 nsplit=0       \n",
      "Objective improved: keep new clusters\n",
      "Outer iteration 1 / 10\n",
      "  Iteration 19 (27.23 s, search 18.02 s): objective=2571.11 imbalance=1.184 nsplit=0       \n",
      "Objective improved: keep new clusters\n",
      "Outer iteration 2 / 10\n",
      "  Iteration 19 (40.86 s, search 27.03 s): objective=2577.96 imbalance=1.156 nsplit=0       \n",
      "Objective improved: keep new clusters\n",
      "Outer iteration 3 / 10\n",
      "  Iteration 19 (54.56 s, search 36.08 s): objective=2577.63 imbalance=1.064 nsplit=0       \n",
      "Outer iteration 4 / 10\n",
      "  Iteration 19 (68.27 s, search 45.13 s): objective=2568.08 imbalance=1.891 nsplit=0       \n",
      "Outer iteration 5 / 10\n",
      "  Iteration 19 (81.97 s, search 54.18 s): objective=2572 imbalance=1.418 nsplit=0          \n",
      "Outer iteration 6 / 10\n",
      "  Iteration 19 (95.69 s, search 63.22 s): objective=2571.09 imbalance=1.373 nsplit=0       \n",
      "Outer iteration 7 / 10\n",
      "  Iteration 19 (109.37 s, search 72.24 s): objective=2569.01 imbalance=1.449 nsplit=0       \n",
      "Outer iteration 8 / 10\n",
      "  Iteration 19 (122.97 s, search 81.25 s): objective=2568.03 imbalance=1.404 nsplit=0       \n",
      "Outer iteration 9 / 10\n",
      "  Iteration 19 (136.58 s, search 90.26 s): objective=2564.21 imbalance=1.381 nsplit=0       \n",
      "Sampling a subset of 5600 / 8000 for training\n",
      "Clustering 5600 points in 267264D to 7 clusters, redo 10 times, 20 iterations\n",
      "  Preprocessing in 4.57 s\n",
      "Outer iteration 0 / 10\n",
      "  Iteration 19 (15.90 s, search 10.50 s): objective=3020.19 imbalance=1.283 nsplit=0       \n",
      "Objective improved: keep new clusters\n",
      "Outer iteration 1 / 10\n",
      "  Iteration 19 (31.80 s, search 21.02 s): objective=2999.1 imbalance=1.952 nsplit=0        \n",
      "Outer iteration 2 / 10\n",
      "  Iteration 19 (47.77 s, search 31.61 s): objective=3010.94 imbalance=1.067 nsplit=0       \n",
      "Outer iteration 3 / 10\n",
      "  Iteration 19 (63.98 s, search 42.33 s): objective=2982.55 imbalance=2.407 nsplit=0       \n",
      "Outer iteration 4 / 10\n",
      "  Iteration 19 (79.99 s, search 52.94 s): objective=3007.76 imbalance=1.463 nsplit=0       \n",
      "Outer iteration 5 / 10\n",
      "  Iteration 19 (95.96 s, search 63.52 s): objective=3007.02 imbalance=1.776 nsplit=0       \n",
      "Outer iteration 6 / 10\n",
      "  Iteration 19 (112.03 s, search 74.12 s): objective=3013.76 imbalance=1.119 nsplit=0       \n",
      "Outer iteration 7 / 10\n",
      "  Iteration 19 (127.98 s, search 84.71 s): objective=3001.72 imbalance=1.327 nsplit=0       \n",
      "Outer iteration 8 / 10\n",
      "  Iteration 19 (143.96 s, search 95.23 s): objective=3009.12 imbalance=1.371 nsplit=0       \n",
      "Outer iteration 9 / 10\n",
      "  Iteration 19 (159.92 s, search 105.74 s): objective=3013.37 imbalance=1.259 nsplit=0       \n",
      "Sampling a subset of 6400 / 8000 for training\n",
      "Clustering 6400 points in 267264D to 8 clusters, redo 10 times, 20 iterations\n",
      "  Preprocessing in 5.03 s\n",
      "Outer iteration 0 / 10\n",
      "  Iteration 19 (18.26 s, search 12.08 s): objective=3438.28 imbalance=1.524 nsplit=0       \n",
      "Objective improved: keep new clusters\n",
      "Outer iteration 1 / 10\n",
      "  Iteration 19 (36.45 s, search 24.15 s): objective=3443.45 imbalance=1.379 nsplit=0       \n",
      "Objective improved: keep new clusters\n",
      "Outer iteration 2 / 10\n",
      "  Iteration 19 (54.75 s, search 36.25 s): objective=3426.81 imbalance=2.124 nsplit=0       \n",
      "Outer iteration 3 / 10\n",
      "  Iteration 19 (72.86 s, search 48.27 s): objective=3405.76 imbalance=2.901 nsplit=0       \n",
      "Outer iteration 4 / 10\n",
      "  Iteration 19 (91.13 s, search 60.32 s): objective=3448.66 imbalance=1.129 nsplit=0       \n",
      "Objective improved: keep new clusters\n",
      "Outer iteration 5 / 10\n",
      "  Iteration 19 (109.42 s, search 72.42 s): objective=3445.02 imbalance=1.184 nsplit=0       \n",
      "Outer iteration 6 / 10\n",
      "  Iteration 19 (127.60 s, search 84.50 s): objective=3448.76 imbalance=1.355 nsplit=0       \n",
      "Objective improved: keep new clusters\n",
      "Outer iteration 7 / 10\n",
      "  Iteration 19 (145.86 s, search 96.60 s): objective=3435.53 imbalance=1.634 nsplit=0       \n",
      "Outer iteration 8 / 10\n",
      "  Iteration 19 (163.95 s, search 108.61 s): objective=3440.36 imbalance=1.608 nsplit=0       \n",
      "Outer iteration 9 / 10\n",
      "  Iteration 19 (182.16 s, search 120.62 s): objective=3454.66 imbalance=1.222 nsplit=0       \n",
      "Objective improved: keep new clusters\n",
      "Sampling a subset of 7200 / 8000 for training\n",
      "Clustering 7200 points in 267264D to 9 clusters, redo 10 times, 20 iterations\n",
      "  Preprocessing in 5.49 s\n",
      "Outer iteration 0 / 10\n",
      "  Iteration 19 (20.42 s, search 13.51 s): objective=3865.97 imbalance=1.860 nsplit=0       \n",
      "Objective improved: keep new clusters\n",
      "Outer iteration 1 / 10\n",
      "  Iteration 19 (40.99 s, search 27.10 s): objective=3888.63 imbalance=1.264 nsplit=0       \n",
      "Objective improved: keep new clusters\n",
      "Outer iteration 2 / 10\n",
      "  Iteration 19 (61.96 s, search 40.92 s): objective=3883.34 imbalance=1.443 nsplit=0       \n",
      "Outer iteration 3 / 10\n",
      "  Iteration 19 (82.71 s, search 54.60 s): objective=3877.16 imbalance=1.746 nsplit=0       \n",
      "Outer iteration 4 / 10\n",
      "  Iteration 19 (103.31 s, search 68.26 s): objective=3873.46 imbalance=1.981 nsplit=0       \n",
      "Outer iteration 5 / 10\n",
      "  Iteration 19 (123.97 s, search 81.84 s): objective=3892.58 imbalance=1.266 nsplit=0       \n",
      "Objective improved: keep new clusters\n",
      "Outer iteration 6 / 10\n",
      "  Iteration 19 (144.65 s, search 95.50 s): objective=3876.42 imbalance=1.790 nsplit=0       \n",
      "Outer iteration 7 / 10\n",
      "  Iteration 19 (165.43 s, search 109.21 s): objective=3889.79 imbalance=1.565 nsplit=0       \n",
      "Outer iteration 8 / 10\n",
      "  Iteration 19 (186.36 s, search 122.95 s): objective=3890.68 imbalance=1.328 nsplit=0       \n",
      "Outer iteration 9 / 10\n",
      "  Iteration 19 (207.09 s, search 136.64 s): objective=3893.62 imbalance=1.455 nsplit=0       \n",
      "Objective improved: keep new clusters\n",
      "Clustering 8000 points in 267264D to 10 clusters, redo 10 times, 20 iterations\n",
      "  Preprocessing in 1.32 s\n",
      "Outer iteration 0 / 10\n",
      "  Iteration 19 (23.12 s, search 15.22 s): objective=4295.93 imbalance=1.982 nsplit=0       \n",
      "Objective improved: keep new clusters\n",
      "Outer iteration 1 / 10\n",
      "  Iteration 19 (46.20 s, search 30.32 s): objective=4321.2 imbalance=1.527 nsplit=0        \n",
      "Objective improved: keep new clusters\n",
      "Outer iteration 2 / 10\n",
      "  Iteration 19 (69.33 s, search 45.46 s): objective=4296.94 imbalance=1.858 nsplit=0       \n",
      "Outer iteration 3 / 10\n",
      "  Iteration 19 (209.45 s, search 137.17 s): objective=4333.71 imbalance=1.445 nsplit=0       \n",
      "Objective improved: keep new clusters\n",
      "Outer iteration 9 / 10\n",
      "  Iteration 19 (232.79 s, search 152.43 s): objective=4321.81 imbalance=1.203 nsplit=0       \n",
      "Clustering 8000 points in 267264D to 11 clusters, redo 10 times, 20 iterations\n",
      "  Preprocessing in 1.32 s\n",
      "Outer iteration 0 / 10\n",
      "  Iteration 19 (23.05 s, search 15.13 s): objective=4304.77 imbalance=2.060 nsplit=0       \n",
      "Objective improved: keep new clusters\n",
      "Outer iteration 1 / 10\n",
      "  Iteration 19 (46.18 s, search 30.21 s): objective=4323.76 imbalance=1.675 nsplit=0       \n",
      "Objective improved: keep new clusters\n",
      "Outer iteration 2 / 10\n",
      "  Iteration 19 (69.15 s, search 45.28 s): objective=4300.77 imbalance=2.171 nsplit=0       \n",
      "Outer iteration 3 / 10\n",
      "  Iteration 19 (92.16 s, search 60.34 s): objective=4329.26 imbalance=1.516 nsplit=0       \n",
      "Objective improved: keep new clusters\n",
      "Outer iteration 4 / 10\n",
      "  Iteration 19 (115.12 s, search 75.39 s): objective=4325.65 imbalance=1.622 nsplit=0       \n",
      "Outer iteration 5 / 10\n",
      "  Iteration 19 (138.12 s, search 90.45 s): objective=4296.33 imbalance=2.244 nsplit=0       \n",
      "Outer iteration 6 / 10\n",
      "  Iteration 19 (161.07 s, search 105.50 s): objective=4323.9 imbalance=1.607 nsplit=0        \n",
      "Outer iteration 7 / 10\n",
      "  Iteration 19 (183.99 s, search 120.56 s): objective=4306.17 imbalance=2.305 nsplit=0       \n",
      "Outer iteration 8 / 10\n",
      "  Iteration 19 (206.94 s, search 135.63 s): objective=4337.92 imbalance=1.486 nsplit=0       \n",
      "Objective improved: keep new clusters\n",
      "Outer iteration 9 / 10\n",
      "  Iteration 19 (230.05 s, search 150.75 s): objective=4324.84 imbalance=1.297 nsplit=0       \n",
      "Clustering 8000 points in 267264D to 12 clusters, redo 10 times, 20 iterations\n",
      "  Preprocessing in 1.32 s\n",
      "Outer iteration 0 / 10\n",
      "  Iteration 19 (22.80 s, search 15.06 s): objective=4310.48 imbalance=1.879 nsplit=0       \n",
      "Objective improved: keep new clusters\n",
      "Outer iteration 1 / 10\n",
      "  Iteration 19 (45.71 s, search 30.12 s): objective=4331.42 imbalance=1.528 nsplit=0       \n",
      "Objective improved: keep new clusters\n",
      "Outer iteration 2 / 10\n",
      "  Iteration 19 (68.55 s, search 45.18 s): objective=4309.68 imbalance=2.120 nsplit=0       \n",
      "Outer iteration 3 / 10\n",
      "  Iteration 19 (91.47 s, search 60.25 s): objective=4333.75 imbalance=1.497 nsplit=0       \n",
      "Objective improved: keep new clusters\n",
      "Outer iteration 4 / 10\n",
      "  Iteration 19 (114.40 s, search 75.32 s): objective=4328.89 imbalance=1.671 nsplit=0       \n",
      "Outer iteration 5 / 10\n",
      "  Iteration 19 (137.32 s, search 90.39 s): objective=4303.19 imbalance=2.269 nsplit=0       \n",
      "Outer iteration 6 / 10\n",
      "  Iteration 19 (160.22 s, search 105.45 s): objective=4327.42 imbalance=1.691 nsplit=0       \n",
      "Outer iteration 7 / 10\n",
      "  Iteration 19 (183.04 s, search 120.52 s): objective=4321.3 imbalance=2.384 nsplit=0        \n",
      "Outer iteration 8 / 10\n",
      "  Iteration 19 (205.92 s, search 135.58 s): objective=4340.29 imbalance=1.444 nsplit=0       \n",
      "Objective improved: keep new clusters\n",
      "Outer iteration 9 / 10\n",
      "  Iteration 19 (228.86 s, search 150.63 s): objective=4331.1 imbalance=1.328 nsplit=0        \n",
      "Clustering 8000 points in 267264D to 13 clusters, redo 10 times, 20 iterations\n",
      "  Preprocessing in 1.31 s\n",
      "Outer iteration 0 / 10\n",
      "  Iteration 19 (22.82 s, search 15.06 s): objective=4313.3 imbalance=2.045 nsplit=0        \n",
      "Objective improved: keep new clusters\n",
      "Outer iteration 1 / 10\n",
      "  Iteration 19 (45.77 s, search 30.13 s): objective=4340.19 imbalance=1.607 nsplit=0       \n",
      "Objective improved: keep new clusters\n",
      "Outer iteration 2 / 10\n",
      "  Iteration 19 (68.69 s, search 45.21 s): objective=4331.79 imbalance=1.586 nsplit=0       \n",
      "Outer iteration 3 / 10\n",
      "  Iteration 19 (91.62 s, search 60.29 s): objective=4334.7 imbalance=1.611 nsplit=0        \n",
      "Outer iteration 4 / 10\n",
      "  Iteration 19 (114.57 s, search 75.36 s): objective=4344.41 imbalance=1.662 nsplit=0       \n",
      "Objective improved: keep new clusters\n",
      "Outer iteration 5 / 10\n",
      "  Iteration 19 (137.38 s, search 90.42 s): objective=4308.9 imbalance=2.235 nsplit=0        \n",
      "Outer iteration 6 / 10\n",
      "  Iteration 19 (160.40 s, search 105.52 s): objective=4335.76 imbalance=1.820 nsplit=0       \n",
      "Outer iteration 7 / 10\n",
      "  Iteration 19 (183.28 s, search 120.61 s): objective=4322.28 imbalance=2.573 nsplit=0       \n",
      "Outer iteration 8 / 10\n",
      "  Iteration 19 (206.30 s, search 135.74 s): objective=4345.4 imbalance=1.538 nsplit=0        \n",
      "Objective improved: keep new clusters\n",
      "Outer iteration 9 / 10\n",
      "  Iteration 19 (229.28 s, search 150.80 s): objective=4336.76 imbalance=1.253 nsplit=0       \n",
      "Clustering 8000 points in 267264D to 14 clusters, redo 10 times, 20 iterations\n",
      "  Preprocessing in 1.31 s\n",
      "Outer iteration 0 / 10\n",
      "  Iteration 19 (22.88 s, search 15.09 s): objective=4314 imbalance=2.203 nsplit=0          \n",
      "Objective improved: keep new clusters\n",
      "Outer iteration 1 / 10\n",
      "  Iteration 19 (45.90 s, search 30.19 s): objective=4340.83 imbalance=1.724 nsplit=0       \n",
      "Objective improved: keep new clusters\n",
      "Outer iteration 2 / 10\n",
      "  Iteration 19 (68.82 s, search 45.25 s): objective=4331.17 imbalance=1.863 nsplit=0       \n",
      "Outer iteration 3 / 10\n",
      "  Iteration 19 (91.79 s, search 60.30 s): objective=4343.68 imbalance=1.532 nsplit=0       \n",
      "Objective improved: keep new clusters\n",
      "Outer iteration 4 / 10\n",
      "  Iteration 19 (114.71 s, search 75.35 s): objective=4345.28 imbalance=1.783 nsplit=0       \n",
      "Objective improved: keep new clusters\n",
      "Outer iteration 5 / 10\n",
      "  Iteration 19 (137.57 s, search 90.40 s): objective=4316.06 imbalance=2.022 nsplit=0       \n",
      "Outer iteration 6 / 10\n",
      "  Iteration 19 (160.55 s, search 105.46 s): objective=4341.78 imbalance=1.524 nsplit=0       \n",
      "Outer iteration 7 / 10\n",
      "  Iteration 19 (183.16 s, search 120.40 s): objective=4330.36 imbalance=2.041 nsplit=0       \n",
      "Outer iteration 8 / 10\n",
      "  Iteration 19 (205.73 s, search 135.28 s): objective=4348.17 imbalance=1.651 nsplit=0       \n",
      "Objective improved: keep new clusters\n",
      "Outer iteration 9 / 10\n",
      "  Iteration 19 (228.42 s, search 150.16 s): objective=4341.37 imbalance=1.279 nsplit=0       \n",
      "Clustering 8000 points in 267264D to 15 clusters, redo 10 times, 20 iterations\n",
      "  Preprocessing in 1.28 s\n",
      "Outer iteration 0 / 10\n",
      "  Iteration 19 (22.49 s, search 14.89 s): objective=4312.91 imbalance=2.337 nsplit=0       \n",
      "Objective improved: keep new clusters\n",
      "Outer iteration 1 / 10\n",
      "  Iteration 19 (45.14 s, search 29.80 s): objective=4341.59 imbalance=1.846 nsplit=0       \n",
      "Objective improved: keep new clusters\n",
      "Outer iteration 2 / 10\n",
      "  Iteration 19 (67.71 s, search 44.69 s): objective=4336.55 imbalance=1.743 nsplit=0       \n",
      "Outer iteration 3 / 10\n",
      "  Iteration 19 (90.36 s, search 59.57 s): objective=4348.98 imbalance=1.451 nsplit=0       \n",
      "Objective improved: keep new clusters\n",
      "Outer iteration 4 / 10\n",
      "  Iteration 19 (112.99 s, search 74.44 s): objective=4333.81 imbalance=1.873 nsplit=0       \n",
      "Outer iteration 5 / 10\n",
      "  Iteration 19 (135.53 s, search 89.34 s): objective=4316.84 imbalance=2.164 nsplit=0       \n",
      "Outer iteration 6 / 10\n",
      "  Iteration 19 (158.12 s, search 104.21 s): objective=4343.15 imbalance=1.626 nsplit=0       \n",
      "Outer iteration 7 / 10\n",
      "  Iteration 19 (180.63 s, search 119.09 s): objective=4330.01 imbalance=2.258 nsplit=0       \n",
      "Outer iteration 8 / 10\n",
      "  Iteration 19 (203.18 s, search 133.95 s): objective=4348.06 imbalance=1.754 nsplit=0       \n",
      "Outer iteration 9 / 10\n",
      "  Iteration 19 (225.94 s, search 148.83 s): objective=4346.43 imbalance=1.261 nsplit=0       \r"
     ]
    },
    {
     "data": {
      "text/plain": [
       "[<matplotlib.lines.Line2D at 0x76239d403e10>]"
      ]
     },
     "execution_count": 13,
     "metadata": {},
     "output_type": "execute_result"
    },
    {
     "data": {
      "image/png": "[encoded data removed]",
      "text/plain": [
       "<Figure size 432x288 with 1 Axes>"
      ]
     },
     "metadata": {
      "needs_background": "light"
     },
     "output_type": "display_data"
    }
   ],
   "source": [
    "# Elbow Plot\n",
    "niter = 20\n",
    "verbose = True\n",
    "dim = X_train.shape[1]\n",
    "\n",
    "k_vals = [k for k in range(5, 16)]\n",
    "wccs = []\n",
    "for k in k_vals:\n",
    "    kmeans = faiss.Kmeans(dim, k, niter = niter, verbose = verbose, gpu = True, nredo = 10, spherical = True, max_points_per_centroid = 800)\n",
    "    kmeans.train(X_train)\n",
    "    wccs.append(kmeans.obj[-1])\n",
    "\n",
    "plt.plot(k_vals, wccs)"
   ]
  },
  {
   "cell_type": "code",
   "execution_count": 14,
   "id": "289102b9",
   "metadata": {
    "scrolled": true,
    "tags": []
   },
   "outputs": [
    {
     "name": "stdout",
     "output_type": "stream",
     "text": [
      "\n",
      "Clustering 8000 points in 267264D to 10 clusters, redo 10 times, 20 iterations\n",
      "  Preprocessing in 1.28 s\n",
      "Outer iteration 0 / 10\n",
      "  Iteration 19 (22.54 s, search 14.88 s): objective=4295.93 imbalance=1.982 nsplit=0       \n",
      "Objective improved: keep new clusters\n",
      "Outer iteration 1 / 10\n",
      "  Iteration 19 (45.18 s, search 29.78 s): objective=4321.2 imbalance=1.527 nsplit=0        \n",
      "Objective improved: keep new clusters\n",
      "Outer iteration 2 / 10\n",
      "  Iteration 19 (67.90 s, search 44.70 s): objective=4296.94 imbalance=1.858 nsplit=0       \n",
      "Outer iteration 3 / 10\n",
      "  Iteration 19 (90.53 s, search 59.58 s): objective=4333.63 imbalance=1.272 nsplit=0       \n",
      "Objective improved: keep new clusters\n",
      "Outer iteration 4 / 10\n",
      "  Iteration 19 (113.09 s, search 74.45 s): objective=4316.11 imbalance=2.205 nsplit=0       \n",
      "Outer iteration 5 / 10\n",
      "  Iteration 19 (135.65 s, search 89.33 s): objective=4295.39 imbalance=2.147 nsplit=0       \n",
      "Outer iteration 6 / 10\n",
      "  Iteration 19 (158.50 s, search 104.33 s): objective=4322.6 imbalance=1.474 nsplit=0        \n",
      "Outer iteration 7 / 10\n",
      "  Iteration 19 (181.41 s, search 119.37 s): objective=4305.27 imbalance=2.102 nsplit=0       \n",
      "Outer iteration 8 / 10\n",
      "  Iteration 19 (204.14 s, search 134.33 s): objective=4333.71 imbalance=1.445 nsplit=0       \n",
      "Objective improved: keep new clusters\n",
      "Outer iteration 9 / 10\n",
      "  Iteration 19 (226.76 s, search 149.21 s): objective=4321.81 imbalance=1.203 nsplit=0       \r"
     ]
    },
    {
     "data": {
      "text/plain": [
       "4333.7138671875"
      ]
     },
     "execution_count": 14,
     "metadata": {},
     "output_type": "execute_result"
    }
   ],
   "source": [
    "# K-means Clustering\n",
    "\n",
    "# ncentroids = NUM_PROMPTS\n",
    "ncentroids = 10 # Elbow point - based on objective (sum of cosine similarities)\n",
    "niter = 20\n",
    "verbose = True\n",
    "dim = X_train.shape[1]\n",
    "kmeans = faiss.Kmeans(dim, ncentroids, niter = niter, verbose = verbose, gpu = True, nredo = 10, spherical = True, max_points_per_centroid = 800)\n",
    "kmeans.train(X_train)"
   ]
  },
  {
   "cell_type": "code",
   "execution_count": 15,
   "id": "19cf0f0a",
   "metadata": {
    "tags": []
   },
   "outputs": [
    {
     "data": {
      "text/plain": [
       "array([[-1.8114150e-02,  2.2874158e-02,  9.5859775e-03, ...,\n",
       "        -2.5864518e-05,  1.4368709e-05,  1.3840928e-05],\n",
       "       [-1.7869165e-02,  2.2564797e-02,  9.4563235e-03, ...,\n",
       "         2.0208995e-06,  4.9785226e-06, -4.6561217e-06],\n",
       "       [-1.8509446e-02,  2.3373345e-02,  9.7951600e-03, ...,\n",
       "         2.4679055e-06,  5.8832534e-06,  1.0357682e-05],\n",
       "       ...,\n",
       "       [-2.1447847e-02,  2.7083891e-02,  1.1350149e-02, ...,\n",
       "         0.0000000e+00,  0.0000000e+00,  0.0000000e+00],\n",
       "       [-2.1682361e-02,  2.7379982e-02,  1.1474242e-02, ...,\n",
       "         0.0000000e+00,  0.0000000e+00,  0.0000000e+00],\n",
       "       [-2.1147784e-02,  2.6704982e-02,  1.1191354e-02, ...,\n",
       "         0.0000000e+00,  0.0000000e+00,  0.0000000e+00]], dtype=float32)"
      ]
     },
     "execution_count": 15,
     "metadata": {},
     "output_type": "execute_result"
    }
   ],
   "source": [
    "kmeans.centroids #cluster centers"
   ]
  },
  {
   "cell_type": "code",
   "execution_count": 16,
   "id": "61e726e9",
   "metadata": {
    "tags": []
   },
   "outputs": [
    {
     "name": "stdout",
     "output_type": "stream",
     "text": [
      "1.0000226\n",
      "1.0000223\n",
      "1.0000291\n",
      "1.0000226\n",
      "1.0000169\n",
      "1.0000117\n",
      "1.0000075\n",
      "1.0000093\n",
      "1.0000112\n",
      "1.0000094\n"
     ]
    }
   ],
   "source": [
    "for centroid in kmeans.centroids:\n",
    "    print(np.linalg.norm(centroid))"
   ]
  },
  {
   "cell_type": "code",
   "execution_count": 17,
   "id": "e5e1fa18",
   "metadata": {
    "tags": []
   },
   "outputs": [
    {
     "data": {
      "text/plain": [
       "array([2881.42211914, 4145.5078125 , 4230.72753906, 4279.72900391,\n",
       "       4290.51074219, 4292.4609375 , 4293.56103516, 4294.09570312,\n",
       "       4294.33251953, 4294.48388672, 4294.5625    , 4294.65869141,\n",
       "       4294.85253906, 4295.06982422, 4295.31494141, 4295.49658203,\n",
       "       4295.65917969, 4295.77685547, 4295.84667969, 4295.92529297,\n",
       "       2888.43603516, 4163.98291016, 4228.92285156, 4278.08886719,\n",
       "       4303.65576172, 4315.17333984, 4319.53857422, 4320.27685547,\n",
       "       4320.51953125, 4320.64892578, 4320.72412109, 4320.78710938,\n",
       "       4320.86279297, 4320.94580078, 4321.00585938, 4321.03369141,\n",
       "       4321.0703125 , 4321.10839844, 4321.14990234, 4321.20166016,\n",
       "       2790.18994141, 4153.32910156, 4234.95605469, 4276.53173828,\n",
       "       4285.66748047, 4291.81835938, 4294.58740234, 4295.79736328,\n",
       "       4296.23242188, 4296.44970703, 4296.56054688, 4296.65478516,\n",
       "       4296.72412109, 4296.75585938, 4296.79394531, 4296.85595703,\n",
       "       4296.89892578, 4296.91113281, 4296.92626953, 4296.94433594,\n",
       "       2702.65161133, 4194.03417969, 4268.64892578, 4295.06542969,\n",
       "       4310.58203125, 4318.03515625, 4321.96289062, 4326.19677734,\n",
       "       4329.72119141, 4331.01123047, 4331.54589844, 4331.87695312,\n",
       "       4332.13671875, 4332.50488281, 4332.83007812, 4333.13574219,\n",
       "       4333.32275391, 4333.45507812, 4333.58105469, 4333.63085938,\n",
       "       2510.37475586, 4216.52685547, 4277.31054688, 4287.26367188,\n",
       "       4291.67919922, 4294.5625    , 4296.31689453, 4298.34960938,\n",
       "       4299.71044922, 4300.42041016, 4301.98681641, 4304.90332031,\n",
       "       4310.51757812, 4313.50537109, 4315.47607422, 4315.83349609,\n",
       "       4315.92333984, 4315.99169922, 4316.046875  , 4316.10742188,\n",
       "       2877.35083008, 4135.60400391, 4216.95751953, 4257.63330078,\n",
       "       4284.93017578, 4288.99951172, 4289.58398438, 4289.83886719,\n",
       "       4290.09375   , 4290.62158203, 4292.42626953, 4294.55371094,\n",
       "       4295.20605469, 4295.34130859, 4295.35693359, 4295.37451172,\n",
       "       4295.375     , 4295.37988281, 4295.38427734, 4295.39208984,\n",
       "       2807.16748047, 4172.390625  , 4272.74658203, 4305.90576172,\n",
       "       4312.05712891, 4314.29882812, 4315.44287109, 4316.10839844,\n",
       "       4316.47998047, 4316.80566406, 4317.07617188, 4317.25244141,\n",
       "       4317.39501953, 4317.59472656, 4317.90625   , 4318.65576172,\n",
       "       4319.49755859, 4320.44580078, 4321.65966797, 4322.60009766,\n",
       "       2863.58935547, 4145.91552734, 4196.47949219, 4257.17480469,\n",
       "       4277.39599609, 4296.87792969, 4301.55810547, 4303.89355469,\n",
       "       4304.80810547, 4305.03515625, 4305.09912109, 4305.14941406,\n",
       "       4305.17041016, 4305.19726562, 4305.20947266, 4305.22460938,\n",
       "       4305.23388672, 4305.24609375, 4305.25585938, 4305.26855469,\n",
       "       2791.29785156, 4184.328125  , 4272.48632812, 4297.91992188,\n",
       "       4310.19921875, 4318.24853516, 4323.28613281, 4326.79052734,\n",
       "       4329.69677734, 4332.5078125 , 4333.42871094, 4333.58105469,\n",
       "       4333.63916016, 4333.67871094, 4333.6875    , 4333.69335938,\n",
       "       4333.70068359, 4333.71386719, 4333.71386719, 4333.71386719])"
      ]
     },
     "execution_count": 17,
     "metadata": {},
     "output_type": "execute_result"
    }
   ],
   "source": [
    "kmeans.obj #inertia at each iteration"
   ]
  },
  {
   "cell_type": "code",
   "execution_count": 18,
   "id": "ed2c340d",
   "metadata": {
    "tags": []
   },
   "outputs": [],
   "source": [
    "cos_similarities = X_train @ kmeans.centroids.T\n",
    "classifications_train = np.argmax(cos_similarities, axis=1)"
   ]
  },
  {
   "cell_type": "code",
   "execution_count": 19,
   "id": "90aae79f",
   "metadata": {
    "tags": []
   },
   "outputs": [
    {
     "data": {
      "text/plain": [
       "8    1827\n",
       "3    1430\n",
       "4    1319\n",
       "6     833\n",
       "1     750\n",
       "7     594\n",
       "0     450\n",
       "9     446\n",
       "2     336\n",
       "5      15\n",
       "dtype: int64"
      ]
     },
     "execution_count": 19,
     "metadata": {},
     "output_type": "execute_result"
    }
   ],
   "source": [
    "pd.Series(classifications_train).value_counts()"
   ]
  },
  {
   "cell_type": "code",
   "execution_count": 20,
   "id": "fc34c419-5d92-4dc6-8db4-9dc84b83a8d4",
   "metadata": {
    "tags": []
   },
   "outputs": [
    {
     "data": {
      "text/plain": [
       "[10, 5, 3, 4, 9, 5, 5, 10, 6, 3]"
      ]
     },
     "execution_count": 20,
     "metadata": {},
     "output_type": "execute_result"
    }
   ],
   "source": [
    "# Get most common label for each point classified to a centroid (same centroid)\n",
    "centroid_labels = [np.where(classifications_train == i)[0] for i in range(ncentroids)]\n",
    "max_label_per_centroid = [int(pd.Series(y_train[centroid_labels[i]]).value_counts().idxmax()) for i in range(ncentroids)]\n",
    "max_label_per_centroid"
   ]
  },
  {
   "cell_type": "code",
   "execution_count": 21,
   "id": "20e159a9-ef63-4a0e-8e94-52e041a5c416",
   "metadata": {
    "tags": []
   },
   "outputs": [],
   "source": [
    "centroid_to_label = {idx : max_label_per_centroid[idx] for idx in range(len(max_label_per_centroid))}"
   ]
  },
  {
   "cell_type": "code",
   "execution_count": 22,
   "id": "45760bd2-820d-462e-a8ef-8d054ed5dde4",
   "metadata": {
    "tags": []
   },
   "outputs": [
    {
     "data": {
      "text/plain": [
       "{0: 10, 1: 5, 2: 3, 3: 4, 4: 9, 5: 5, 6: 5, 7: 10, 8: 6, 9: 3}"
      ]
     },
     "execution_count": 22,
     "metadata": {},
     "output_type": "execute_result"
    }
   ],
   "source": [
    "centroid_to_label"
   ]
  },
  {
   "cell_type": "code",
   "execution_count": 23,
   "id": "b9cf2ac5-ce04-4efe-9828-041723e1f453",
   "metadata": {
    "tags": []
   },
   "outputs": [
    {
     "data": {
      "text/plain": [
       "array([ 9,  9,  9, ..., 10, 10, 10])"
      ]
     },
     "execution_count": 23,
     "metadata": {},
     "output_type": "execute_result"
    }
   ],
   "source": [
    "vectorized_map = np.vectorize(centroid_to_label.get)\n",
    "classifications_to_label = vectorized_map(classifications_train)\n",
    "\n",
    "classifications_to_label"
   ]
  },
  {
   "cell_type": "code",
   "execution_count": 24,
   "id": "c793f2dc-74de-4e3a-b0a8-3839b1be8dd9",
   "metadata": {
    "tags": []
   },
   "outputs": [
    {
     "name": "stdout",
     "output_type": "stream",
     "text": [
      "Prompt 1 Accuracy:  0.0\n",
      "Prompt 2 Accuracy:  0.0\n",
      "Prompt 3 Accuracy:  0.9775\n",
      "Prompt 4 Accuracy:  0.3375\n",
      "Prompt 5 Accuracy:  0.7675\n",
      "Prompt 6 Accuracy:  0.4525\n",
      "Prompt 7 Accuracy:  0.0\n",
      "Prompt 8 Accuracy:  0.0\n",
      "Prompt 9 Accuracy:  0.2275\n",
      "Prompt 10 Accuracy:  0.97625\n"
     ]
    }
   ],
   "source": [
    "for i in range(10):\n",
    "    print(f\"Prompt {i + 1} Accuracy: \", np.mean(classifications_to_label[i * 800:(i + 1) * 800] == (i + 1)))"
   ]
  },
  {
   "cell_type": "code",
   "execution_count": 25,
   "id": "ac9d3497-d991-455d-a121-1a4c234314b0",
   "metadata": {
    "tags": []
   },
   "outputs": [
    {
     "name": "stdout",
     "output_type": "stream",
     "text": [
      "Overall Accuracy:  0.373875\n"
     ]
    }
   ],
   "source": [
    "print(f\"Overall Accuracy: \", np.mean(classifications_to_label == y_train))"
   ]
  },
  {
   "cell_type": "markdown",
   "id": "b8d32ef1-a624-4d32-abcb-8daacad47cdc",
   "metadata": {},
   "source": [
    "## Perform Inference on Test Set & Collect Test Accuracy"
   ]
  },
  {
   "cell_type": "code",
   "execution_count": 26,
   "id": "2431abbc-b684-4c06-8fd6-06c771a1c4fa",
   "metadata": {},
   "outputs": [],
   "source": [
    "cos_similarities = X_test @ kmeans.centroids.T\n",
    "classifications_test = np.argmax(cos_similarities, axis=1)"
   ]
  },
  {
   "cell_type": "code",
   "execution_count": 27,
   "id": "d9a7dd1c-884b-4bef-b538-6c0a65a6f7e4",
   "metadata": {},
   "outputs": [
    {
     "data": {
      "text/plain": [
       "8    467\n",
       "4    353\n",
       "3    351\n",
       "6    208\n",
       "1    166\n",
       "7    141\n",
       "0    121\n",
       "9    105\n",
       "2     88\n",
       "dtype: int64"
      ]
     },
     "execution_count": 27,
     "metadata": {},
     "output_type": "execute_result"
    }
   ],
   "source": [
    "pd.Series(classifications_test).value_counts()"
   ]
  },
  {
   "cell_type": "code",
   "execution_count": 28,
   "id": "6fa74238-a2b3-4277-bcd6-88ab9d5caf4f",
   "metadata": {},
   "outputs": [
    {
     "data": {
      "text/plain": [
       "array([ 6,  4,  9, ..., 10, 10, 10])"
      ]
     },
     "execution_count": 28,
     "metadata": {},
     "output_type": "execute_result"
    }
   ],
   "source": [
    "classifications_to_label_test = vectorized_map(classifications_test)\n",
    "\n",
    "classifications_to_label_test"
   ]
  },
  {
   "cell_type": "code",
   "execution_count": 29,
   "id": "799e3a99-6659-44b7-becd-4d0825fd1957",
   "metadata": {},
   "outputs": [
    {
     "name": "stdout",
     "output_type": "stream",
     "text": [
      "Prompt 1 Accuracy:  0.0\n",
      "Prompt 2 Accuracy:  0.0\n",
      "Prompt 3 Accuracy:  0.965\n",
      "Prompt 4 Accuracy:  0.325\n",
      "Prompt 5 Accuracy:  0.75\n",
      "Prompt 6 Accuracy:  0.42\n",
      "Prompt 7 Accuracy:  0.0\n",
      "Prompt 8 Accuracy:  0.0\n",
      "Prompt 9 Accuracy:  0.255\n",
      "Prompt 10 Accuracy:  0.985\n"
     ]
    }
   ],
   "source": [
    "for i in range(10):\n",
    "    print(f\"Prompt {i + 1} Accuracy: \", np.mean(classifications_to_label_test[i * 200:(i + 1) * 200] == (i + 1)))"
   ]
  },
  {
   "cell_type": "code",
   "execution_count": 30,
   "id": "4f97cfa0-27da-4897-8e65-681b75ad51d7",
   "metadata": {},
   "outputs": [
    {
     "name": "stdout",
     "output_type": "stream",
     "text": [
      "Overall Accuracy:  0.37\n"
     ]
    }
   ],
   "source": [
    "print(f\"Overall Accuracy: \", np.mean(classifications_to_label_test == y_test))"
   ]
  },
  {
   "cell_type": "markdown",
   "id": "ee076424-49c5-4245-a3a3-56fba51465ea",
   "metadata": {},
   "source": [
    "## Confusion Matrix of Results"
   ]
  },
  {
   "cell_type": "code",
   "execution_count": 31,
   "id": "b9175267-2fef-4f02-930e-c263ec396f91",
   "metadata": {
    "tags": []
   },
   "outputs": [],
   "source": [
    "from sklearn.metrics import confusion_matrix, ConfusionMatrixDisplay\n",
    "import matplotlib.pyplot as plt"
   ]
  },
  {
   "cell_type": "code",
   "execution_count": 32,
   "id": "3c2c3ac7-26e3-42d5-860a-918d735776c1",
   "metadata": {
    "tags": []
   },
   "outputs": [
    {
     "data": {
      "image/png": "[encoded data removed]",
      "text/plain": [
       "<Figure size 432x288 with 2 Axes>"
      ]
     },
     "metadata": {
      "needs_background": "light"
     },
     "output_type": "display_data"
    }
   ],
   "source": [
    "cm = confusion_matrix(y_train, classifications_to_label)\n",
    "disp = ConfusionMatrixDisplay(confusion_matrix=cm, display_labels=[f\"{i}\" for i in range(1, 11)])\n",
    "\n",
    "disp.plot()\n",
    "plt.title('Confusion Matrix for Train Set')\n",
    "plt.show()"
   ]
  },
  {
   "cell_type": "code",
   "execution_count": 33,
   "id": "03a45427-f767-4838-968e-c341eca03746",
   "metadata": {
    "tags": []
   },
   "outputs": [
    {
     "data": {
      "image/png": "[encoded data removed]",
      "text/plain": [
       "<Figure size 432x288 with 2 Axes>"
      ]
     },
     "metadata": {
      "needs_background": "light"
     },
     "output_type": "display_data"
    }
   ],
   "source": [
    "cm = confusion_matrix(y_test, classifications_to_label_test)\n",
    "disp = ConfusionMatrixDisplay(confusion_matrix=cm, display_labels=[f\"{i}\" for i in range(1, 11)])\n",
    "\n",
    "disp.plot()\n",
    "plt.title('Confusion Matrix for Test Set')\n",
    "plt.show()"
   ]
  },
  {
   "cell_type": "code",
   "execution_count": null,
   "id": "1322b9ab-2b94-4d00-95cf-1b3741b9f482",
   "metadata": {},
   "outputs": [],
   "source": []
  },
  {
   "cell_type": "code",
   "execution_count": null,
   "id": "de826fc3-e67f-45cb-bb74-15dfcbd3d18d",
   "metadata": {},
   "outputs": [],
   "source": []
  }
 ],
 "metadata": {
  "kernelspec": {
   "display_name": "Python 3 (ipykernel)",
   "language": "python",
   "name": "python3"
  },
  "language_info": {
   "codemirror_mode": {
    "name": "ipython",
    "version": 3
   },
   "file_extension": ".py",
   "mimetype": "text/x-python",
   "name": "python",
   "nbconvert_exporter": "python",
   "pygments_lexer": "ipython3",
   "version": "3.7.11"
  }
 },
 "nbformat": 4,
 "nbformat_minor": 5
}
