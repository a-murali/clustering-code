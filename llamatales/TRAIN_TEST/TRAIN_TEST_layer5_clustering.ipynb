{
 "cells": [
  {
   "cell_type": "markdown",
   "id": "64c867a4-b1c3-426b-b086-de071a726ebf",
   "metadata": {},
   "source": [
    "## Install Packages"
   ]
  },
  {
   "cell_type": "code",
   "execution_count": 1,
   "id": "80849741",
   "metadata": {
    "tags": []
   },
   "outputs": [
    {
     "name": "stdout",
     "output_type": "stream",
     "text": [
      "Collecting package metadata (current_repodata.json): / WARNING conda.models.version:get_matcher(540): Using .* with relational operator is superfluous and deprecated and will be removed in a future version of conda. Your spec was 1.7.1.*, but conda is ignoring the .* and treating it as 1.7.1\n",
      "done\n",
      "Solving environment: failed with initial frozen solve. Retrying with flexible solve.\n",
      "Solving environment: failed with repodata from current_repodata.json, will retry with next repodata source.\n",
      "Collecting package metadata (repodata.json): / WARNING conda.models.version:get_matcher(540): Using .* with relational operator is superfluous and deprecated and will be removed in a future version of conda. Your spec was 1.9.0.*, but conda is ignoring the .* and treating it as 1.9.0\n",
      "WARNING conda.models.version:get_matcher(540): Using .* with relational operator is superfluous and deprecated and will be removed in a future version of conda. Your spec was 1.8.0.*, but conda is ignoring the .* and treating it as 1.8.0\n",
      "WARNING conda.models.version:get_matcher(540): Using .* with relational operator is superfluous and deprecated and will be removed in a future version of conda. Your spec was 1.6.0.*, but conda is ignoring the .* and treating it as 1.6.0\n",
      "done\n",
      "Solving environment: done\n",
      "\n",
      "\n",
      "==> WARNING: A newer version of conda exists. <==\n",
      "  current version: 4.10.3\n",
      "  latest version: 25.7.0\n",
      "\n",
      "Please update conda by running\n",
      "\n",
      "    $ conda update -n base -c defaults conda\n",
      "\n",
      "\n",
      "\n",
      "## Package Plan ##\n",
      "\n",
      "  environment location: /opt/conda\n",
      "\n",
      "  added / updated specs:\n",
      "    - faiss-gpu\n",
      "\n",
      "\n",
      "The following packages will be downloaded:\n",
      "\n",
      "    package                    |            build\n",
      "    ---------------------------|-----------------\n",
      "    ca-certificates-2025.8.3   |       hbd8a1cb_0         151 KB  conda-forge\n",
      "    certifi-2024.8.30          |     pyhd8ed1ab_0         160 KB  conda-forge\n",
      "    conda-4.12.0               |   py37h89c1867_0         1.0 MB  conda-forge\n",
      "    faiss-1.7.1                |py37cuda111h7f21d35_1_cuda         2.0 MB  conda-forge\n",
      "    faiss-gpu-1.7.1            |       h788eb59_1          15 KB  conda-forge\n",
      "    libblas-3.9.0              |   26_linux64_mkl          16 KB  conda-forge\n",
      "    libfaiss-1.7.1             |cuda111hf54f04a_1_cuda        80.2 MB  conda-forge\n",
      "    libfaiss-avx2-1.7.1        |cuda111h1234567_1_cuda        80.3 MB  conda-forge\n",
      "    liblapack-3.9.0            |   26_linux64_mkl          16 KB  conda-forge\n",
      "    openssl-1.1.1w             |       h7f8727e_0         3.7 MB\n",
      "    python_abi-3.7             |          2_cp37m           4 KB  conda-forge\n",
      "    ------------------------------------------------------------\n",
      "                                           Total:       167.6 MB\n",
      "\n",
      "The following NEW packages will be INSTALLED:\n",
      "\n",
      "  faiss              conda-forge/linux-64::faiss-1.7.1-py37cuda111h7f21d35_1_cuda\n",
      "  faiss-gpu          conda-forge/linux-64::faiss-gpu-1.7.1-h788eb59_1\n",
      "  libblas            conda-forge/linux-64::libblas-3.9.0-26_linux64_mkl\n",
      "  libfaiss           conda-forge/linux-64::libfaiss-1.7.1-cuda111hf54f04a_1_cuda\n",
      "  libfaiss-avx2      conda-forge/linux-64::libfaiss-avx2-1.7.1-cuda111h1234567_1_cuda\n",
      "  liblapack          conda-forge/linux-64::liblapack-3.9.0-26_linux64_mkl\n",
      "  python_abi         conda-forge/linux-64::python_abi-3.7-2_cp37m\n",
      "\n",
      "The following packages will be UPDATED:\n",
      "\n",
      "  ca-certificates    pkgs/main/linux-64::ca-certificates-2~ --> conda-forge/noarch::ca-certificates-2025.8.3-hbd8a1cb_0\n",
      "  certifi            pkgs/main/linux-64::certifi-2021.10.8~ --> conda-forge/noarch::certifi-2024.8.30-pyhd8ed1ab_0\n",
      "  conda              pkgs/main::conda-4.10.3-py37h06a4308_0 --> conda-forge::conda-4.12.0-py37h89c1867_0\n",
      "  openssl                                 1.1.1l-h7f8727e_0 --> 1.1.1w-h7f8727e_0\n",
      "\n",
      "\n",
      "\n",
      "Downloading and Extracting Packages\n",
      "ca-certificates-2025 | 151 KB    | ##################################### | 100% \n",
      "liblapack-3.9.0      | 16 KB     | ##################################### | 100% \n",
      "libfaiss-1.7.1       | 80.2 MB   | ##################################### | 100% \n",
      "libfaiss-avx2-1.7.1  | 80.3 MB   | ##################################### | 100% \n",
      "certifi-2024.8.30    | 160 KB    | ##################################### | 100% \n",
      "python_abi-3.7       | 4 KB      | ##################################### | 100% \n",
      "openssl-1.1.1w       | 3.7 MB    | ##################################### | 100% \n",
      "faiss-gpu-1.7.1      | 15 KB     | ##################################### | 100% \n",
      "conda-4.12.0         | 1.0 MB    | ##################################### | 100% \n",
      "libblas-3.9.0        | 16 KB     | ##################################### | 100% \n",
      "faiss-1.7.1          | 2.0 MB    | ##################################### | 100% \n",
      "Preparing transaction: done\n",
      "Verifying transaction: done\n",
      "Executing transaction: done\n",
      "Get:1 http://security.ubuntu.com/ubuntu bionic-security InRelease [102 kB]\n",
      "Hit:2 http://archive.ubuntu.com/ubuntu bionic InRelease  \n",
      "Get:3 http://archive.ubuntu.com/ubuntu bionic-updates InRelease [102 kB]       \n",
      "Get:4 http://security.ubuntu.com/ubuntu bionic-security/restricted amd64 Packages [1688 kB]\n",
      "Get:5 http://archive.ubuntu.com/ubuntu bionic-backports InRelease [102 kB]\n",
      "Get:6 http://archive.ubuntu.com/ubuntu bionic-updates/main amd64 Packages [3786 kB]\n",
      "Get:7 http://security.ubuntu.com/ubuntu bionic-security/multiverse amd64 Packages [23.8 kB]\n",
      "Get:8 http://security.ubuntu.com/ubuntu bionic-security/universe amd64 Packages [1637 kB]\n",
      "Get:9 http://archive.ubuntu.com/ubuntu bionic-updates/multiverse amd64 Packages [30.8 kB]\n",
      "Get:10 http://archive.ubuntu.com/ubuntu bionic-updates/restricted amd64 Packages [1728 kB]\n",
      "Get:11 http://archive.ubuntu.com/ubuntu bionic-updates/universe amd64 Packages [2411 kB]\n",
      "Get:12 http://archive.ubuntu.com/ubuntu bionic-backports/main amd64 Packages [64.0 kB]\n",
      "Get:13 http://archive.ubuntu.com/ubuntu bionic-backports/universe amd64 Packages [20.6 kB]\n",
      "Get:14 http://security.ubuntu.com/ubuntu bionic-security/main amd64 Packages [3373 kB]\n",
      "Fetched 15.1 MB in 3s (4547 kB/s)                            \n",
      "Reading package lists... Done\n",
      "Reading package lists... Done\n",
      "Building dependency tree       \n",
      "Reading state information... Done\n",
      "The following additional packages will be installed:\n",
      "  gcc-7-base libatlas3-base libgfortran4 libquadmath0\n",
      "Suggested packages:\n",
      "  libatlas-doc liblapack-doc\n",
      "The following NEW packages will be installed:\n",
      "  gcc-7-base libatlas-base-dev libatlas3-base libgfortran4 libquadmath0\n",
      "0 upgraded, 5 newly installed, 0 to remove and 83 not upgraded.\n",
      "Need to get 8397 kB of archives.\n",
      "After this operation, 49.3 MB of additional disk space will be used.\n",
      "Get:1 http://archive.ubuntu.com/ubuntu bionic-updates/main amd64 gcc-7-base amd64 7.5.0-3ubuntu1~18.04 [18.3 kB]\n",
      "Get:2 http://archive.ubuntu.com/ubuntu bionic-updates/main amd64 libquadmath0 amd64 8.4.0-1ubuntu1~18.04 [134 kB]\n",
      "Get:3 http://archive.ubuntu.com/ubuntu bionic-updates/main amd64 libgfortran4 amd64 7.5.0-3ubuntu1~18.04 [492 kB]\n",
      "Get:4 http://archive.ubuntu.com/ubuntu bionic/universe amd64 libatlas3-base amd64 3.10.3-5 [3732 kB]\n",
      "Get:5 http://archive.ubuntu.com/ubuntu bionic/universe amd64 libatlas-base-dev amd64 3.10.3-5 [4022 kB]\n",
      "Fetched 8397 kB in 2s (4241 kB/s)       \n",
      "debconf: delaying package configuration, since apt-utils is not installed\n",
      "Selecting previously unselected package gcc-7-base:amd64.\n",
      "(Reading database ... 11934 files and directories currently installed.)\n",
      "Preparing to unpack .../gcc-7-base_7.5.0-3ubuntu1~18.04_amd64.deb ...\n",
      "Unpacking gcc-7-base:amd64 (7.5.0-3ubuntu1~18.04) ...\n",
      "Selecting previously unselected package libquadmath0:amd64.\n",
      "Preparing to unpack .../libquadmath0_8.4.0-1ubuntu1~18.04_amd64.deb ...\n",
      "Unpacking libquadmath0:amd64 (8.4.0-1ubuntu1~18.04) ...\n",
      "Selecting previously unselected package libgfortran4:amd64.\n",
      "Preparing to unpack .../libgfortran4_7.5.0-3ubuntu1~18.04_amd64.deb ...\n",
      "Unpacking libgfortran4:amd64 (7.5.0-3ubuntu1~18.04) ...\n",
      "Selecting previously unselected package libatlas3-base:amd64.\n",
      "Preparing to unpack .../libatlas3-base_3.10.3-5_amd64.deb ...\n",
      "Unpacking libatlas3-base:amd64 (3.10.3-5) ...\n",
      "Selecting previously unselected package libatlas-base-dev:amd64.\n",
      "Preparing to unpack .../libatlas-base-dev_3.10.3-5_amd64.deb ...\n",
      "Unpacking libatlas-base-dev:amd64 (3.10.3-5) ...\n",
      "Setting up libquadmath0:amd64 (8.4.0-1ubuntu1~18.04) ...\n",
      "Setting up gcc-7-base:amd64 (7.5.0-3ubuntu1~18.04) ...\n",
      "Setting up libgfortran4:amd64 (7.5.0-3ubuntu1~18.04) ...\n",
      "Setting up libatlas3-base:amd64 (3.10.3-5) ...\n",
      "update-alternatives: using /usr/lib/x86_64-linux-gnu/atlas/libblas.so.3 to provide /usr/lib/x86_64-linux-gnu/libblas.so.3 (libblas.so.3-x86_64-linux-gnu) in auto mode\n",
      "update-alternatives: using /usr/lib/x86_64-linux-gnu/atlas/liblapack.so.3 to provide /usr/lib/x86_64-linux-gnu/liblapack.so.3 (liblapack.so.3-x86_64-linux-gnu) in auto mode\n",
      "Setting up libatlas-base-dev:amd64 (3.10.3-5) ...\n",
      "update-alternatives: using /usr/lib/x86_64-linux-gnu/atlas/libblas.so to provide /usr/lib/x86_64-linux-gnu/libblas.so (libblas.so-x86_64-linux-gnu) in auto mode\n",
      "update-alternatives: using /usr/lib/x86_64-linux-gnu/atlas/liblapack.so to provide /usr/lib/x86_64-linux-gnu/liblapack.so (liblapack.so-x86_64-linux-gnu) in auto mode\n",
      "Processing triggers for libc-bin (2.27-3ubuntu1.4) ...\n"
     ]
    }
   ],
   "source": [
    "!conda install -y -c conda-forge faiss-gpu\n",
    "!apt-get -y update\n",
    "!apt-get -y install libatlas-base-dev"
   ]
  },
  {
   "cell_type": "markdown",
   "id": "ea6af1a5-1aef-4743-bfa6-7392ed97dbe7",
   "metadata": {},
   "source": [
    "## Load Data"
   ]
  },
  {
   "cell_type": "code",
   "execution_count": 2,
   "id": "e26dddbf",
   "metadata": {
    "tags": []
   },
   "outputs": [],
   "source": [
    "import pandas as pd\n",
    "import numpy as np\n",
    "import matplotlib.pyplot as plt\n",
    "\n",
    "from sklearn.random_projection import GaussianRandomProjection\n",
    "\n",
    "from tqdm import tqdm\n",
    "\n",
    "import faiss"
   ]
  },
  {
   "cell_type": "code",
   "execution_count": 3,
   "id": "89c2cffa",
   "metadata": {
    "tags": []
   },
   "outputs": [
    {
     "data": {
      "text/html": [
       "<div>\n",
       "<style scoped>\n",
       "    .dataframe tbody tr th:only-of-type {\n",
       "        vertical-align: middle;\n",
       "    }\n",
       "\n",
       "    .dataframe tbody tr th {\n",
       "        vertical-align: top;\n",
       "    }\n",
       "\n",
       "    .dataframe thead th {\n",
       "        text-align: right;\n",
       "    }\n",
       "</style>\n",
       "<table border=\"1\" class=\"dataframe\">\n",
       "  <thead>\n",
       "    <tr style=\"text-align: right;\">\n",
       "      <th></th>\n",
       "      <th>prompt_id</th>\n",
       "      <th>prompt</th>\n",
       "      <th>story</th>\n",
       "      <th>hidden_state_file</th>\n",
       "      <th>len_generated_story</th>\n",
       "      <th>len_new_story</th>\n",
       "    </tr>\n",
       "  </thead>\n",
       "  <tbody>\n",
       "    <tr>\n",
       "      <th>0</th>\n",
       "      <td>1</td>\n",
       "      <td>Once upon a time there was a dragon</td>\n",
       "      <td>Once upon a time there was a dragon named Blaz...</td>\n",
       "      <td>./hidden_states/prompt_1.npz</td>\n",
       "      <td>270</td>\n",
       "      <td>271</td>\n",
       "    </tr>\n",
       "    <tr>\n",
       "      <th>1</th>\n",
       "      <td>1</td>\n",
       "      <td>Once upon a time there was a dragon</td>\n",
       "      <td>Once upon a time there was a dragon named Spar...</td>\n",
       "      <td>./hidden_states/prompt_1.npz</td>\n",
       "      <td>349</td>\n",
       "      <td>350</td>\n",
       "    </tr>\n",
       "    <tr>\n",
       "      <th>2</th>\n",
       "      <td>1</td>\n",
       "      <td>Once upon a time there was a dragon</td>\n",
       "      <td>Once upon a time there was a dragon named Scor...</td>\n",
       "      <td>./hidden_states/prompt_1.npz</td>\n",
       "      <td>278</td>\n",
       "      <td>278</td>\n",
       "    </tr>\n",
       "    <tr>\n",
       "      <th>3</th>\n",
       "      <td>1</td>\n",
       "      <td>Once upon a time there was a dragon</td>\n",
       "      <td>Once upon a time there was a dragon. The drago...</td>\n",
       "      <td>./hidden_states/prompt_1.npz</td>\n",
       "      <td>117</td>\n",
       "      <td>118</td>\n",
       "    </tr>\n",
       "    <tr>\n",
       "      <th>4</th>\n",
       "      <td>1</td>\n",
       "      <td>Once upon a time there was a dragon</td>\n",
       "      <td>Once upon a time there was a dragon. The drago...</td>\n",
       "      <td>./hidden_states/prompt_1.npz</td>\n",
       "      <td>129</td>\n",
       "      <td>130</td>\n",
       "    </tr>\n",
       "    <tr>\n",
       "      <th>...</th>\n",
       "      <td>...</td>\n",
       "      <td>...</td>\n",
       "      <td>...</td>\n",
       "      <td>...</td>\n",
       "      <td>...</td>\n",
       "      <td>...</td>\n",
       "    </tr>\n",
       "    <tr>\n",
       "      <th>9995</th>\n",
       "      <td>10</td>\n",
       "      <td>Once upon a time there was a poor boy</td>\n",
       "      <td>Once upon a time there was a poor boy named Ti...</td>\n",
       "      <td>./hidden_states/prompt_10.npz</td>\n",
       "      <td>289</td>\n",
       "      <td>290</td>\n",
       "    </tr>\n",
       "    <tr>\n",
       "      <th>9996</th>\n",
       "      <td>10</td>\n",
       "      <td>Once upon a time there was a poor boy</td>\n",
       "      <td>Once upon a time there was a poor boy named Ti...</td>\n",
       "      <td>./hidden_states/prompt_10.npz</td>\n",
       "      <td>119</td>\n",
       "      <td>119</td>\n",
       "    </tr>\n",
       "    <tr>\n",
       "      <th>9997</th>\n",
       "      <td>10</td>\n",
       "      <td>Once upon a time there was a poor boy</td>\n",
       "      <td>Once upon a time there was a poor boy named Ti...</td>\n",
       "      <td>./hidden_states/prompt_10.npz</td>\n",
       "      <td>127</td>\n",
       "      <td>128</td>\n",
       "    </tr>\n",
       "    <tr>\n",
       "      <th>9998</th>\n",
       "      <td>10</td>\n",
       "      <td>Once upon a time there was a poor boy</td>\n",
       "      <td>Once upon a time there was a poor boy named Ti...</td>\n",
       "      <td>./hidden_states/prompt_10.npz</td>\n",
       "      <td>441</td>\n",
       "      <td>441</td>\n",
       "    </tr>\n",
       "    <tr>\n",
       "      <th>9999</th>\n",
       "      <td>10</td>\n",
       "      <td>Once upon a time there was a poor boy</td>\n",
       "      <td>Once upon a time there was a poor boy named Ti...</td>\n",
       "      <td>./hidden_states/prompt_10.npz</td>\n",
       "      <td>520</td>\n",
       "      <td>521</td>\n",
       "    </tr>\n",
       "  </tbody>\n",
       "</table>\n",
       "<p>10000 rows × 6 columns</p>\n",
       "</div>"
      ],
      "text/plain": [
       "      prompt_id                                 prompt  \\\n",
       "0             1    Once upon a time there was a dragon   \n",
       "1             1    Once upon a time there was a dragon   \n",
       "2             1    Once upon a time there was a dragon   \n",
       "3             1    Once upon a time there was a dragon   \n",
       "4             1    Once upon a time there was a dragon   \n",
       "...         ...                                    ...   \n",
       "9995         10  Once upon a time there was a poor boy   \n",
       "9996         10  Once upon a time there was a poor boy   \n",
       "9997         10  Once upon a time there was a poor boy   \n",
       "9998         10  Once upon a time there was a poor boy   \n",
       "9999         10  Once upon a time there was a poor boy   \n",
       "\n",
       "                                                  story  \\\n",
       "0     Once upon a time there was a dragon named Blaz...   \n",
       "1     Once upon a time there was a dragon named Spar...   \n",
       "2     Once upon a time there was a dragon named Scor...   \n",
       "3     Once upon a time there was a dragon. The drago...   \n",
       "4     Once upon a time there was a dragon. The drago...   \n",
       "...                                                 ...   \n",
       "9995  Once upon a time there was a poor boy named Ti...   \n",
       "9996  Once upon a time there was a poor boy named Ti...   \n",
       "9997  Once upon a time there was a poor boy named Ti...   \n",
       "9998  Once upon a time there was a poor boy named Ti...   \n",
       "9999  Once upon a time there was a poor boy named Ti...   \n",
       "\n",
       "                  hidden_state_file  len_generated_story  len_new_story  \n",
       "0      ./hidden_states/prompt_1.npz                  270            271  \n",
       "1      ./hidden_states/prompt_1.npz                  349            350  \n",
       "2      ./hidden_states/prompt_1.npz                  278            278  \n",
       "3      ./hidden_states/prompt_1.npz                  117            118  \n",
       "4      ./hidden_states/prompt_1.npz                  129            130  \n",
       "...                             ...                  ...            ...  \n",
       "9995  ./hidden_states/prompt_10.npz                  289            290  \n",
       "9996  ./hidden_states/prompt_10.npz                  119            119  \n",
       "9997  ./hidden_states/prompt_10.npz                  127            128  \n",
       "9998  ./hidden_states/prompt_10.npz                  441            441  \n",
       "9999  ./hidden_states/prompt_10.npz                  520            521  \n",
       "\n",
       "[10000 rows x 6 columns]"
      ]
     },
     "execution_count": 3,
     "metadata": {},
     "output_type": "execute_result"
    }
   ],
   "source": [
    "df = pd.read_csv(\"../story_dataset.csv\")\n",
    "df"
   ]
  },
  {
   "cell_type": "code",
   "execution_count": 4,
   "id": "c081cc09",
   "metadata": {
    "tags": []
   },
   "outputs": [
    {
     "data": {
      "text/plain": [
       "522"
      ]
     },
     "execution_count": 4,
     "metadata": {},
     "output_type": "execute_result"
    }
   ],
   "source": [
    "max_story_len = max(df[\"len_generated_story\"])\n",
    "max_story_len"
   ]
  },
  {
   "cell_type": "code",
   "execution_count": 5,
   "id": "212c067a",
   "metadata": {
    "scrolled": true,
    "tags": []
   },
   "outputs": [
    {
     "name": "stderr",
     "output_type": "stream",
     "text": [
      "100%|███████████████████████████████████████████████████████████████████████████████| 1000/1000 [01:32<00:00, 10.83it/s]\n",
      "100%|███████████████████████████████████████████████████████████████████████████████| 1000/1000 [01:23<00:00, 11.96it/s]\n",
      "100%|███████████████████████████████████████████████████████████████████████████████| 1000/1000 [01:21<00:00, 12.33it/s]\n",
      "100%|███████████████████████████████████████████████████████████████████████████████| 1000/1000 [01:32<00:00, 10.76it/s]\n",
      "100%|███████████████████████████████████████████████████████████████████████████████| 1000/1000 [01:33<00:00, 10.68it/s]\n",
      "100%|███████████████████████████████████████████████████████████████████████████████| 1000/1000 [01:27<00:00, 11.43it/s]\n",
      "100%|███████████████████████████████████████████████████████████████████████████████| 1000/1000 [01:31<00:00, 10.95it/s]\n",
      "100%|███████████████████████████████████████████████████████████████████████████████| 1000/1000 [01:20<00:00, 12.35it/s]\n",
      "100%|███████████████████████████████████████████████████████████████████████████████| 1000/1000 [01:30<00:00, 11.03it/s]\n",
      "100%|███████████████████████████████████████████████████████████████████████████████| 1000/1000 [01:39<00:00, 10.07it/s]\n"
     ]
    }
   ],
   "source": [
    "hidden_states_by_layer = {}\n",
    "NUM_PROMPTS = 10\n",
    "\n",
    "for prompt_id in range(1, NUM_PROMPTS + 1):\n",
    "    with np.load(f'../hidden_states/prompt_{prompt_id}.npz') as loaded_data:\n",
    "        for i in tqdm(range(1000)):\n",
    "            curr_hidden_states = loaded_data[f\"arr_{i}\"][0]\n",
    "#             print(curr_hidden_states.shape)\n",
    "            for layer in range(5, 6):\n",
    "                padded_arr = np.zeros((max_story_len, 512))\n",
    "                padded_arr_len = len(curr_hidden_states[layer][0])\n",
    "                \n",
    "                padded_arr[:padded_arr_len] = curr_hidden_states[layer][0]\n",
    "                \n",
    "                padded_arr = padded_arr.flatten().astype('float32') #FAISS expects data in type float32 instead of float64 - saves memory too!\n",
    "#                 print(padded_arr.shape)\n",
    "                \n",
    "                if(f\"layer_{layer}\" in hidden_states_by_layer):\n",
    "                    hidden_states_by_layer[f\"layer_{layer}\"].append(padded_arr)\n",
    "                else:\n",
    "                    hidden_states_by_layer[f\"layer_{layer}\"] = [padded_arr]"
   ]
  },
  {
   "cell_type": "code",
   "execution_count": 6,
   "id": "ad23eb70",
   "metadata": {
    "tags": []
   },
   "outputs": [
    {
     "data": {
      "text/plain": [
       "(10000, 267264)"
      ]
     },
     "execution_count": 6,
     "metadata": {},
     "output_type": "execute_result"
    }
   ],
   "source": [
    "layer_hs_array = np.array(hidden_states_by_layer[\"layer_5\"])\n",
    "layer_hs_array.shape"
   ]
  },
  {
   "cell_type": "markdown",
   "id": "e44eecd8-9f29-457b-8f65-d8eae3b84eb8",
   "metadata": {
    "tags": []
   },
   "source": [
    "## Layer 5 Clustering"
   ]
  },
  {
   "cell_type": "code",
   "execution_count": 7,
   "id": "49cf7b1b",
   "metadata": {
    "tags": []
   },
   "outputs": [],
   "source": [
    "# Use original vectors for clustering - uncomment next line and comment out last two lines\n",
    "\n",
    "# dim_reduced_vecs = layer_hs_array\n",
    "\n",
    "random_projector = GaussianRandomProjection(random_state = 42)\n",
    "dim_reduced_vecs = random_projector.fit_transform(layer_hs_array).astype('float32')"
   ]
  },
  {
   "cell_type": "code",
   "execution_count": 8,
   "id": "b9257701",
   "metadata": {
    "tags": []
   },
   "outputs": [
    {
     "data": {
      "text/plain": [
       "(10000, 7894)"
      ]
     },
     "execution_count": 8,
     "metadata": {},
     "output_type": "execute_result"
    }
   ],
   "source": [
    "dim_reduced_vecs = np.array([v / np.linalg.norm(v) for v in dim_reduced_vecs])\n",
    "dim_reduced_vecs.shape"
   ]
  },
  {
   "cell_type": "code",
   "execution_count": 9,
   "id": "22e1c2a5-03fa-43fd-90d4-609a0d949829",
   "metadata": {
    "tags": []
   },
   "outputs": [
    {
     "data": {
      "text/plain": [
       "array([ 1,  1,  1, ..., 10, 10, 10])"
      ]
     },
     "execution_count": 9,
     "metadata": {},
     "output_type": "execute_result"
    }
   ],
   "source": [
    "prompt_ids = df[\"prompt_id\"]\n",
    "prompt_ids = prompt_ids.to_numpy()\n",
    "prompt_ids"
   ]
  },
  {
   "cell_type": "code",
   "execution_count": 10,
   "id": "bd963a3c-0ad1-416a-9fc6-a13bf2422fcd",
   "metadata": {},
   "outputs": [],
   "source": [
    "X_train = np.zeros((int(0.8 * dim_reduced_vecs.shape[0]), dim_reduced_vecs.shape[1]), dtype = np.float32)\n",
    "y_train = np.zeros(int(0.8 * dim_reduced_vecs.shape[0]))\n",
    "\n",
    "X_test = np.zeros((int(0.2 * dim_reduced_vecs.shape[0]), dim_reduced_vecs.shape[1]), dtype = np.float32)\n",
    "y_test = np.zeros(int(0.2 * dim_reduced_vecs.shape[0]))"
   ]
  },
  {
   "cell_type": "code",
   "execution_count": 11,
   "id": "6b84c6a1-29cc-4096-9eb1-420301a7065f",
   "metadata": {},
   "outputs": [],
   "source": [
    "for i in range(10):\n",
    "    X_train[i * 800 : (i + 1) * 800] = dim_reduced_vecs[i * 1000 : (i * 1000) + 800]\n",
    "    y_train[i * 800 : (i + 1) * 800] = prompt_ids[i * 1000 : (i * 1000) + 800]\n",
    "    \n",
    "    X_test[i * 200 : (i + 1) * 200] = dim_reduced_vecs[(i * 1000) + 800 : (i + 1) * 1000]\n",
    "    y_test[i * 200 : (i + 1) * 200] = prompt_ids[(i * 1000) + 800 : (i + 1) * 1000]"
   ]
  },
  {
   "cell_type": "code",
   "execution_count": 12,
   "id": "e7c2f695-573c-4abe-ab7b-eaa4a1661cd2",
   "metadata": {},
   "outputs": [
    {
     "name": "stdout",
     "output_type": "stream",
     "text": [
      "(8000, 7894)\n",
      "(8000,)\n",
      "(2000, 7894)\n",
      "(2000,)\n"
     ]
    }
   ],
   "source": [
    "print(X_train.shape)\n",
    "print(y_train.shape)\n",
    "print(X_test.shape)\n",
    "print(y_test.shape)"
   ]
  },
  {
   "cell_type": "code",
   "execution_count": 13,
   "id": "8aebf88b-1d51-48d2-945c-311b5fc70963",
   "metadata": {},
   "outputs": [
    {
     "name": "stdout",
     "output_type": "stream",
     "text": [
      "Sampling a subset of 4000 / 8000 for training\n",
      "Clustering 4000 points in 7894D to 5 clusters, redo 10 times, 20 iterations\n",
      "  Preprocessing in 0.13 s\n",
      "Outer iteration 0 / 10\n",
      "  Iteration 19 (0.59 s, search 0.29 s): objective=2161.97 imbalance=1.079 nsplit=0       \n",
      "Objective improved: keep new clusters\n",
      "Outer iteration 1 / 10\n",
      "  Iteration 19 (1.19 s, search 0.58 s): objective=2164.32 imbalance=1.243 nsplit=0       \n",
      "Objective improved: keep new clusters\n",
      "Outer iteration 2 / 10\n",
      "  Iteration 19 (1.78 s, search 0.87 s): objective=2161.28 imbalance=1.098 nsplit=0       \n",
      "Outer iteration 3 / 10\n",
      "  Iteration 19 (2.37 s, search 1.15 s): objective=2164.49 imbalance=1.137 nsplit=0       \n",
      "Objective improved: keep new clusters\n",
      "Outer iteration 4 / 10\n",
      "  Iteration 19 (2.96 s, search 1.44 s): objective=2156.74 imbalance=1.497 nsplit=0       \n",
      "Outer iteration 5 / 10\n",
      "  Iteration 19 (3.56 s, search 1.73 s): objective=2161.9 imbalance=1.244 nsplit=0        \n",
      "Outer iteration 6 / 10\n",
      "  Iteration 19 (4.14 s, search 2.02 s): objective=2157.8 imbalance=1.608 nsplit=0        \n",
      "Outer iteration 7 / 10\n",
      "  Iteration 19 (4.73 s, search 2.31 s): objective=2156.77 imbalance=1.476 nsplit=0       \n",
      "Outer iteration 8 / 10\n",
      "  Iteration 19 (5.31 s, search 2.60 s): objective=2158.51 imbalance=1.321 nsplit=0       \n",
      "Outer iteration 9 / 10\n",
      "  Iteration 19 (5.90 s, search 2.89 s): objective=2154.86 imbalance=1.581 nsplit=0       \n",
      "Sampling a subset of 4800 / 8000 for training\n",
      "Clustering 4800 points in 7894D to 6 clusters, redo 10 times, 20 iterations\n",
      "  Preprocessing in 0.15 s\n",
      "Outer iteration 0 / 10\n",
      "  Iteration 19 (0.70 s, search 0.35 s): objective=2584.98 imbalance=1.555 nsplit=0       \n",
      "Objective improved: keep new clusters\n",
      "Outer iteration 1 / 10\n",
      "  Iteration 19 (1.41 s, search 0.69 s): objective=2596.83 imbalance=1.110 nsplit=0       \n",
      "Objective improved: keep new clusters\n",
      "Outer iteration 2 / 10\n",
      "  Iteration 19 (2.13 s, search 1.04 s): objective=2599.77 imbalance=1.301 nsplit=0       \n",
      "Objective improved: keep new clusters\n",
      "Outer iteration 3 / 10\n",
      "  Iteration 19 (2.85 s, search 1.39 s): objective=2597.15 imbalance=1.052 nsplit=0       \n",
      "Outer iteration 4 / 10\n",
      "  Iteration 19 (3.57 s, search 1.73 s): objective=2596.2 imbalance=1.226 nsplit=0        \n",
      "Outer iteration 5 / 10\n",
      "  Iteration 19 (4.27 s, search 2.08 s): objective=2587.81 imbalance=1.704 nsplit=0       \n",
      "Outer iteration 6 / 10\n",
      "  Iteration 19 (4.98 s, search 2.42 s): objective=2584.61 imbalance=1.782 nsplit=0       \n",
      "Outer iteration 7 / 10\n",
      "  Iteration 19 (5.69 s, search 2.77 s): objective=2583.22 imbalance=1.737 nsplit=0       \n",
      "Outer iteration 8 / 10\n",
      "  Iteration 19 (6.40 s, search 3.12 s): objective=2587.82 imbalance=1.397 nsplit=0       \n",
      "Outer iteration 9 / 10\n",
      "  Iteration 19 (7.12 s, search 3.46 s): objective=2596.25 imbalance=1.170 nsplit=0       \n",
      "Sampling a subset of 5600 / 8000 for training\n",
      "Clustering 5600 points in 7894D to 7 clusters, redo 10 times, 20 iterations\n",
      "  Preprocessing in 0.17 s\n",
      "Outer iteration 0 / 10\n",
      "  Iteration 19 (0.84 s, search 0.41 s): objective=3039.03 imbalance=1.254 nsplit=0       \n",
      "Objective improved: keep new clusters\n",
      "Outer iteration 1 / 10\n",
      "  Iteration 19 (1.66 s, search 0.81 s): objective=3019.13 imbalance=2.149 nsplit=0       \n",
      "Outer iteration 2 / 10\n",
      "  Iteration 19 (2.52 s, search 1.22 s): objective=3036.66 imbalance=1.073 nsplit=0       \n",
      "Outer iteration 3 / 10\n",
      "  Iteration 19 (3.40 s, search 1.66 s): objective=3023.34 imbalance=1.693 nsplit=0       \n",
      "Outer iteration 4 / 10\n",
      "  Iteration 19 (4.25 s, search 2.07 s): objective=3030.66 imbalance=1.529 nsplit=0       \n",
      "Outer iteration 5 / 10\n",
      "  Iteration 19 (5.08 s, search 2.47 s): objective=3029.11 imbalance=1.520 nsplit=0       \n",
      "Outer iteration 6 / 10\n",
      "  Iteration 19 (5.93 s, search 2.88 s): objective=3036.47 imbalance=1.212 nsplit=0       \n",
      "Outer iteration 7 / 10\n",
      "  Iteration 19 (6.76 s, search 3.28 s): objective=3027.74 imbalance=1.493 nsplit=0       \n",
      "Outer iteration 8 / 10\n",
      "  Iteration 19 (7.61 s, search 3.69 s): objective=3036.86 imbalance=1.210 nsplit=0       \n",
      "Outer iteration 9 / 10\n",
      "  Iteration 19 (8.46 s, search 4.09 s): objective=3033.48 imbalance=1.211 nsplit=0       \n",
      "Sampling a subset of 6400 / 8000 for training\n",
      "Clustering 6400 points in 7894D to 8 clusters, redo 10 times, 20 iterations\n",
      "  Preprocessing in 0.25 s\n",
      "Outer iteration 0 / 10\n",
      "  Iteration 19 (0.96 s, search 0.47 s): objective=3461.78 imbalance=1.384 nsplit=0       \n",
      "Objective improved: keep new clusters\n",
      "Outer iteration 1 / 10\n",
      "  Iteration 19 (1.94 s, search 0.95 s): objective=3475.94 imbalance=1.164 nsplit=0       \n",
      "Objective improved: keep new clusters\n",
      "Outer iteration 2 / 10\n",
      "  Iteration 19 (2.89 s, search 1.42 s): objective=3459.38 imbalance=2.094 nsplit=0       \n",
      "Outer iteration 3 / 10\n",
      "  Iteration 19 (3.82 s, search 1.90 s): objective=3444.32 imbalance=2.235 nsplit=0       \n",
      "Outer iteration 4 / 10\n",
      "  Iteration 19 (4.80 s, search 2.37 s): objective=3470.78 imbalance=1.068 nsplit=0       \n",
      "Outer iteration 5 / 10\n",
      "  Iteration 19 (5.76 s, search 2.84 s): objective=3462.19 imbalance=1.438 nsplit=0       \n",
      "Outer iteration 6 / 10\n",
      "  Iteration 19 (6.73 s, search 3.32 s): objective=3468.04 imbalance=1.233 nsplit=0       \n",
      "Outer iteration 7 / 10\n",
      "  Iteration 19 (7.69 s, search 3.80 s): objective=3466.06 imbalance=1.574 nsplit=0       \n",
      "Outer iteration 8 / 10\n",
      "  Iteration 19 (8.65 s, search 4.27 s): objective=3466.59 imbalance=1.515 nsplit=0       \n",
      "Outer iteration 9 / 10\n",
      "  Iteration 19 (9.62 s, search 4.74 s): objective=3476.13 imbalance=1.324 nsplit=0       \n",
      "Objective improved: keep new clusters\n",
      "Sampling a subset of 7200 / 8000 for training\n",
      "Clustering 7200 points in 7894D to 9 clusters, redo 10 times, 20 iterations\n",
      "  Preprocessing in 0.20 s\n",
      "Outer iteration 0 / 10\n",
      "  Iteration 19 (1.08 s, search 0.52 s): objective=3906.56 imbalance=1.401 nsplit=0       \n",
      "Objective improved: keep new clusters\n",
      "Outer iteration 1 / 10\n",
      "  Iteration 19 (2.18 s, search 1.04 s): objective=3917.65 imbalance=1.266 nsplit=0       \n",
      "Objective improved: keep new clusters\n",
      "Outer iteration 2 / 10\n",
      "  Iteration 19 (3.27 s, search 1.56 s): objective=3906.37 imbalance=1.461 nsplit=0       \n",
      "Outer iteration 3 / 10\n",
      "  Iteration 19 (4.36 s, search 2.08 s): objective=3905.25 imbalance=1.722 nsplit=0       \n",
      "Outer iteration 4 / 10\n",
      "  Iteration 19 (5.44 s, search 2.61 s): objective=3913.87 imbalance=1.873 nsplit=0       \n",
      "Outer iteration 5 / 10\n",
      "  Iteration 19 (6.55 s, search 3.13 s): objective=3918.19 imbalance=1.105 nsplit=0       \n",
      "Objective improved: keep new clusters\n",
      "Outer iteration 6 / 10\n",
      "  Iteration 19 (7.65 s, search 3.65 s): objective=3914.46 imbalance=1.256 nsplit=0       \n",
      "Outer iteration 7 / 10\n",
      "  Iteration 19 (8.75 s, search 4.17 s): objective=3922.63 imbalance=1.260 nsplit=0       \n",
      "Objective improved: keep new clusters\n",
      "Outer iteration 8 / 10\n",
      "  Iteration 19 (9.93 s, search 4.73 s): objective=3914.34 imbalance=1.185 nsplit=0       \n",
      "Outer iteration 9 / 10\n",
      "  Iteration 19 (11.02 s, search 5.26 s): objective=3916.13 imbalance=1.647 nsplit=0       \n",
      "Clustering 8000 points in 7894D to 10 clusters, redo 10 times, 20 iterations\n",
      "  Preprocessing in 0.12 s\n",
      "Outer iteration 0 / 10\n",
      "  Iteration 19 (1.17 s, search 0.59 s): objective=4331.51 imbalance=1.778 nsplit=0       \n",
      "Objective improved: keep new clusters\n",
      "Outer iteration 1 / 10\n",
      "  Iteration 19 (2.36 s, search 1.18 s): objective=4352.69 imbalance=1.382 nsplit=0       \n",
      "Objective improved: keep new clusters\n",
      "Outer iteration 2 / 10\n",
      "  Iteration 19 (3.53 s, search 1.77 s): objective=4341.32 imbalance=1.693 nsplit=0       \n",
      "Outer iteration 3 / 10\n",
      "  Iteration 19 (4.75 s, search 2.38 s): objective=4363.91 imbalance=1.384 nsplit=0       \n",
      "Objective improved: keep new clusters\n",
      "Outer iteration 4 / 10\n",
      "  Iteration 19 (5.93 s, search 2.97 s): objective=4344.54 imbalance=2.205 nsplit=0       \n",
      "Outer iteration 5 / 10\n",
      "  Iteration 19 (7.09 s, search 3.56 s): objective=4318.18 imbalance=2.759 nsplit=0       \n",
      "Outer iteration 6 / 10\n",
      "  Iteration 19 (8.28 s, search 4.16 s): objective=4353.35 imbalance=1.369 nsplit=0       \n",
      "Outer iteration 7 / 10\n",
      "  Iteration 19 (9.45 s, search 4.75 s): objective=4339.91 imbalance=2.211 nsplit=0       \n",
      "Outer iteration 8 / 10\n",
      "  Iteration 19 (10.62 s, search 5.34 s): objective=4363.18 imbalance=1.339 nsplit=0       \n",
      "Outer iteration 9 / 10\n",
      "  Iteration 19 (11.82 s, search 5.93 s): objective=4356.37 imbalance=1.147 nsplit=0       \n",
      "Clustering 8000 points in 7894D to 11 clusters, redo 10 times, 20 iterations\n",
      "  Preprocessing in 0.05 s\n",
      "Outer iteration 0 / 10\n",
      "  Iteration 19 (1.17 s, search 0.59 s): objective=4339.6 imbalance=1.854 nsplit=0        \n",
      "Objective improved: keep new clusters\n",
      "Outer iteration 1 / 10\n",
      "  Iteration 19 (2.36 s, search 1.18 s): objective=4354.72 imbalance=1.504 nsplit=0       \n",
      "Objective improved: keep new clusters\n",
      "Outer iteration 2 / 10\n",
      "  Iteration 19 (3.55 s, search 1.78 s): objective=4345.23 imbalance=1.717 nsplit=0       \n",
      "Outer iteration 3 / 10\n",
      "  Iteration 19 (4.74 s, search 2.37 s): objective=4372.69 imbalance=1.280 nsplit=0       \n",
      "Objective improved: keep new clusters\n",
      "Outer iteration 4 / 10\n",
      "  Iteration 19 (6.00 s, search 3.04 s): objective=4358.23 imbalance=1.537 nsplit=0       \n",
      "Outer iteration 5 / 10\n",
      "  Iteration 19 (7.17 s, search 3.63 s): objective=4319.07 imbalance=3.027 nsplit=0       \n",
      "Outer iteration 6 / 10\n",
      "  Iteration 19 (8.36 s, search 4.22 s): objective=4355.66 imbalance=1.476 nsplit=0       \n",
      "Outer iteration 7 / 10\n",
      "  Iteration 19 (9.52 s, search 4.81 s): objective=4341.24 imbalance=2.415 nsplit=0       \n",
      "Outer iteration 8 / 10\n",
      "  Iteration 19 (10.71 s, search 5.41 s): objective=4369.09 imbalance=1.328 nsplit=0       \n",
      "Outer iteration 9 / 10\n",
      "  Iteration 19 (11.91 s, search 6.00 s): objective=4368.06 imbalance=1.171 nsplit=0       \n",
      "Clustering 8000 points in 7894D to 12 clusters, redo 10 times, 20 iterations\n",
      "  Preprocessing in 0.06 s\n",
      "Outer iteration 0 / 10\n",
      "  Iteration 19 (1.19 s, search 0.59 s): objective=4347.61 imbalance=1.691 nsplit=0       \n",
      "Objective improved: keep new clusters\n",
      "Outer iteration 1 / 10\n",
      "  Iteration 19 (2.38 s, search 1.18 s): objective=4361.41 imbalance=1.471 nsplit=0       \n",
      "Objective improved: keep new clusters\n",
      "Outer iteration 2 / 10\n",
      "  Iteration 19 (3.57 s, search 1.78 s): objective=4351.75 imbalance=1.772 nsplit=0       \n",
      "Outer iteration 3 / 10\n",
      "  Iteration 19 (4.76 s, search 2.37 s): objective=4378.74 imbalance=1.304 nsplit=0       \n",
      "Objective improved: keep new clusters\n",
      "Outer iteration 4 / 10\n",
      "  Iteration 19 (5.95 s, search 2.96 s): objective=4360.32 imbalance=1.643 nsplit=0       \n",
      "Outer iteration 5 / 10\n",
      "  Iteration 19 (7.12 s, search 3.55 s): objective=4325.37 imbalance=3.230 nsplit=0       \n",
      "Outer iteration 6 / 10\n",
      "  Iteration 19 (8.31 s, search 4.14 s): objective=4359.64 imbalance=1.590 nsplit=0       \n",
      "Outer iteration 7 / 10\n",
      "  Iteration 19 (9.48 s, search 4.73 s): objective=4347.64 imbalance=2.364 nsplit=0       \n",
      "Outer iteration 8 / 10\n",
      "  Iteration 19 (10.67 s, search 5.33 s): objective=4379.81 imbalance=1.354 nsplit=0       \n",
      "Objective improved: keep new clusters\n",
      "Outer iteration 9 / 10\n",
      "  Iteration 19 (11.95 s, search 5.98 s): objective=4369.34 imbalance=1.261 nsplit=0       \n",
      "Clustering 8000 points in 7894D to 13 clusters, redo 10 times, 20 iterations\n",
      "  Preprocessing in 0.06 s\n",
      "Outer iteration 0 / 10\n",
      "  Iteration 19 (1.18 s, search 0.59 s): objective=4356.11 imbalance=1.710 nsplit=0       \n",
      "Objective improved: keep new clusters\n",
      "Outer iteration 1 / 10\n",
      "  Iteration 19 (2.37 s, search 1.18 s): objective=4376.23 imbalance=1.492 nsplit=0       \n",
      "Objective improved: keep new clusters\n",
      "Outer iteration 2 / 10\n",
      "  Iteration 19 (3.57 s, search 1.78 s): objective=4354.51 imbalance=1.605 nsplit=0       \n",
      "Outer iteration 3 / 10\n",
      "  Iteration 19 (4.77 s, search 2.37 s): objective=4379.05 imbalance=1.413 nsplit=0       \n",
      "Objective improved: keep new clusters\n",
      "Outer iteration 4 / 10\n",
      "  Iteration 19 (5.97 s, search 2.96 s): objective=4375.13 imbalance=1.644 nsplit=0       \n",
      "Outer iteration 5 / 10\n",
      "  Iteration 19 (7.14 s, search 3.55 s): objective=4337 imbalance=2.897 nsplit=0          \n",
      "Outer iteration 6 / 10\n",
      "  Iteration 19 (8.34 s, search 4.15 s): objective=4361.27 imbalance=1.683 nsplit=0       \n",
      "Outer iteration 7 / 10\n",
      "  Iteration 19 (9.51 s, search 4.74 s): objective=4348.49 imbalance=2.543 nsplit=0       \n",
      "Outer iteration 8 / 10\n",
      "  Iteration 19 (10.70 s, search 5.33 s): objective=4378.74 imbalance=1.460 nsplit=0       \n",
      "Outer iteration 9 / 10\n",
      "  Iteration 19 (11.91 s, search 5.93 s): objective=4374.2 imbalance=1.274 nsplit=0        \n",
      "Clustering 8000 points in 7894D to 14 clusters, redo 10 times, 20 iterations\n",
      "  Preprocessing in 0.05 s\n",
      "Outer iteration 0 / 10\n",
      "  Iteration 19 (1.18 s, search 0.59 s): objective=4357.19 imbalance=1.842 nsplit=0       \n",
      "Objective improved: keep new clusters\n",
      "Outer iteration 1 / 10\n",
      "  Iteration 19 (2.38 s, search 1.18 s): objective=4377.13 imbalance=1.606 nsplit=0       \n",
      "Objective improved: keep new clusters\n",
      "Outer iteration 2 / 10\n",
      "  Iteration 19 (3.58 s, search 1.78 s): objective=4355.47 imbalance=1.719 nsplit=0       \n",
      "Outer iteration 3 / 10\n",
      "  Iteration 19 (4.77 s, search 2.37 s): objective=4381.23 imbalance=1.474 nsplit=0       \n",
      "Objective improved: keep new clusters\n",
      "Outer iteration 4 / 10\n",
      "  Iteration 19 (6.04 s, search 3.02 s): objective=4376.02 imbalance=1.767 nsplit=0       \n",
      "Outer iteration 5 / 10\n",
      "  Iteration 19 (7.23 s, search 3.61 s): objective=4344.38 imbalance=2.963 nsplit=0       \n",
      "Outer iteration 6 / 10\n",
      "  Iteration 19 (8.42 s, search 4.20 s): objective=4374.27 imbalance=1.490 nsplit=0       \n",
      "Outer iteration 7 / 10\n",
      "  Iteration 19 (9.61 s, search 4.80 s): objective=4361.67 imbalance=2.026 nsplit=0       \n",
      "Outer iteration 8 / 10\n",
      "  Iteration 19 (10.80 s, search 5.39 s): objective=4381.58 imbalance=1.563 nsplit=0       \n",
      "Objective improved: keep new clusters\n",
      "Outer iteration 9 / 10\n",
      "  Iteration 19 (12.02 s, search 5.98 s): objective=4374.93 imbalance=1.376 nsplit=0       \n",
      "Clustering 8000 points in 7894D to 15 clusters, redo 10 times, 20 iterations\n",
      "  Preprocessing in 0.06 s\n",
      "Outer iteration 0 / 10\n",
      "  Iteration 19 (1.18 s, search 0.59 s): objective=4358.38 imbalance=1.974 nsplit=0       \n",
      "Objective improved: keep new clusters\n",
      "Outer iteration 1 / 10\n",
      "  Iteration 19 (2.38 s, search 1.18 s): objective=4377.97 imbalance=1.720 nsplit=0       \n",
      "Objective improved: keep new clusters\n",
      "Outer iteration 2 / 10\n",
      "  Iteration 19 (3.58 s, search 1.77 s): objective=4363.32 imbalance=1.670 nsplit=0       \n",
      "Outer iteration 3 / 10\n",
      "  Iteration 19 (4.77 s, search 2.36 s): objective=4387.82 imbalance=1.461 nsplit=0       \n",
      "Objective improved: keep new clusters\n",
      "Outer iteration 4 / 10\n",
      "  Iteration 19 (5.97 s, search 2.96 s): objective=4368.16 imbalance=1.853 nsplit=0       \n",
      "Outer iteration 5 / 10\n",
      "  Iteration 19 (7.15 s, search 3.55 s): objective=4343.3 imbalance=3.176 nsplit=0        \n",
      "Outer iteration 6 / 10\n",
      "  Iteration 19 (8.36 s, search 4.14 s): objective=4376.99 imbalance=1.500 nsplit=0       \n",
      "Outer iteration 7 / 10\n",
      "  Iteration 19 (9.54 s, search 4.74 s): objective=4368.85 imbalance=2.066 nsplit=0       \n",
      "Outer iteration 8 / 10\n",
      "  Iteration 19 (10.74 s, search 5.33 s): objective=4382.25 imbalance=1.566 nsplit=0       \n",
      "Outer iteration 9 / 10\n",
      "  Iteration 19 (12.03 s, search 5.97 s): objective=4382.64 imbalance=1.347 nsplit=0       \r"
     ]
    },
    {
     "data": {
      "text/plain": [
       "[<matplotlib.lines.Line2D at 0x7ff4487b1e10>]"
      ]
     },
     "execution_count": 13,
     "metadata": {},
     "output_type": "execute_result"
    },
    {
     "data": {
      "image/png": "[encoded data removed]",
      "text/plain": [
       "<Figure size 432x288 with 1 Axes>"
      ]
     },
     "metadata": {
      "needs_background": "light"
     },
     "output_type": "display_data"
    }
   ],
   "source": [
    "# Elbow Plot\n",
    "niter = 20\n",
    "verbose = True\n",
    "dim = X_train.shape[1]\n",
    "\n",
    "k_vals = [k for k in range(5, 16)]\n",
    "wccs = []\n",
    "for k in k_vals:\n",
    "    kmeans = faiss.Kmeans(dim, k, niter = niter, verbose = verbose, gpu = True, nredo = 10, spherical = True, max_points_per_centroid = 800)\n",
    "    kmeans.train(X_train)\n",
    "    wccs.append(kmeans.obj[-1])\n",
    "\n",
    "plt.plot(k_vals, wccs)"
   ]
  },
  {
   "cell_type": "code",
   "execution_count": 14,
   "id": "289102b9",
   "metadata": {
    "scrolled": true,
    "tags": []
   },
   "outputs": [
    {
     "name": "stdout",
     "output_type": "stream",
     "text": [
      "\n",
      "Clustering 8000 points in 7894D to 10 clusters, redo 10 times, 20 iterations\n",
      "  Preprocessing in 0.05 s\n",
      "Outer iteration 0 / 10\n",
      "  Iteration 19 (1.18 s, search 0.59 s): objective=4331.51 imbalance=1.778 nsplit=0       \n",
      "Objective improved: keep new clusters\n",
      "Outer iteration 1 / 10\n",
      "  Iteration 19 (2.36 s, search 1.18 s): objective=4352.69 imbalance=1.382 nsplit=0       \n",
      "Objective improved: keep new clusters\n",
      "Outer iteration 2 / 10\n",
      "  Iteration 19 (3.54 s, search 1.77 s): objective=4341.32 imbalance=1.693 nsplit=0       \n",
      "Outer iteration 3 / 10\n",
      "  Iteration 19 (4.72 s, search 2.37 s): objective=4363.91 imbalance=1.384 nsplit=0       \n",
      "Objective improved: keep new clusters\n",
      "Outer iteration 4 / 10\n",
      "  Iteration 19 (5.90 s, search 2.96 s): objective=4344.54 imbalance=2.205 nsplit=0       \n",
      "Outer iteration 5 / 10\n",
      "  Iteration 19 (7.07 s, search 3.55 s): objective=4318.18 imbalance=2.759 nsplit=0       \n",
      "Outer iteration 6 / 10\n",
      "  Iteration 19 (8.25 s, search 4.14 s): objective=4353.35 imbalance=1.369 nsplit=0       \n",
      "Outer iteration 7 / 10\n",
      "  Iteration 19 (9.41 s, search 4.73 s): objective=4339.91 imbalance=2.211 nsplit=0       \n",
      "Outer iteration 8 / 10\n",
      "  Iteration 19 (10.59 s, search 5.32 s): objective=4363.18 imbalance=1.339 nsplit=0       \n",
      "Outer iteration 9 / 10\n",
      "  Iteration 19 (11.80 s, search 5.91 s): objective=4356.37 imbalance=1.147 nsplit=0       \r"
     ]
    },
    {
     "data": {
      "text/plain": [
       "4363.9072265625"
      ]
     },
     "execution_count": 14,
     "metadata": {},
     "output_type": "execute_result"
    }
   ],
   "source": [
    "# K-means Clustering\n",
    "\n",
    "# ncentroids = NUM_PROMPTS\n",
    "ncentroids = 10 # Elbow point - based on objective (sum of cosine similarities)\n",
    "niter = 20\n",
    "verbose = True\n",
    "dim = X_train.shape[1]\n",
    "kmeans = faiss.Kmeans(dim, ncentroids, niter = niter, verbose = verbose, gpu = True, nredo = 10, spherical = True, max_points_per_centroid = 800)\n",
    "kmeans.train(X_train)"
   ]
  },
  {
   "cell_type": "code",
   "execution_count": 15,
   "id": "19cf0f0a",
   "metadata": {
    "tags": []
   },
   "outputs": [
    {
     "data": {
      "text/plain": [
       "array([[ 5.28457249e-03, -1.66210625e-02,  8.61355476e-03, ...,\n",
       "        -1.19138807e-02,  9.01207794e-03, -2.53765575e-05],\n",
       "       [ 4.91311494e-03, -1.44728003e-02,  5.07042790e-03, ...,\n",
       "        -7.66809797e-03,  5.20783523e-03,  4.72052628e-03],\n",
       "       [ 9.81505215e-03, -1.33448625e-02,  8.22615344e-03, ...,\n",
       "        -7.97653571e-03,  6.80622086e-03,  2.90112221e-03],\n",
       "       ...,\n",
       "       [ 9.01926961e-03, -1.87593512e-02,  8.92810430e-03, ...,\n",
       "        -9.80232004e-03,  7.35407090e-03,  2.72854650e-03],\n",
       "       [ 7.40805315e-03, -1.61627289e-02,  1.11839408e-02, ...,\n",
       "        -6.31066738e-03,  6.19272981e-03,  7.97134545e-03],\n",
       "       [ 7.00061861e-03, -1.29045658e-02,  1.79426149e-02, ...,\n",
       "        -3.50890099e-03,  1.43031795e-02,  1.18114601e-03]], dtype=float32)"
      ]
     },
     "execution_count": 15,
     "metadata": {},
     "output_type": "execute_result"
    }
   ],
   "source": [
    "kmeans.centroids #cluster centers"
   ]
  },
  {
   "cell_type": "code",
   "execution_count": 16,
   "id": "61e726e9",
   "metadata": {
    "tags": []
   },
   "outputs": [
    {
     "name": "stdout",
     "output_type": "stream",
     "text": [
      "1.0\n",
      "1.0\n",
      "1.0\n",
      "1.0000004\n",
      "0.99999994\n",
      "1.0\n",
      "1.0000001\n",
      "0.9999999\n",
      "1.0000002\n",
      "1.0\n"
     ]
    }
   ],
   "source": [
    "for centroid in kmeans.centroids:\n",
    "    print(np.linalg.norm(centroid))"
   ]
  },
  {
   "cell_type": "code",
   "execution_count": 17,
   "id": "e5e1fa18",
   "metadata": {
    "tags": []
   },
   "outputs": [
    {
     "data": {
      "text/plain": [
       "array([2946.70532227, 4172.65673828, 4254.46337891, 4303.70117188,\n",
       "       4323.00537109, 4325.73779297, 4327.05517578, 4328.08300781,\n",
       "       4328.7109375 , 4329.32568359, 4329.95703125, 4330.47705078,\n",
       "       4330.74072266, 4330.90039062, 4331.05175781, 4331.22851562,\n",
       "       4331.36035156, 4331.45556641, 4331.49023438, 4331.51171875,\n",
       "       2925.00073242, 4201.77490234, 4274.32470703, 4315.74560547,\n",
       "       4336.83544922, 4347.34570312, 4351.00927734, 4351.75097656,\n",
       "       4352.04589844, 4352.23242188, 4352.34570312, 4352.4140625 ,\n",
       "       4352.45800781, 4352.49560547, 4352.55615234, 4352.59033203,\n",
       "       4352.62109375, 4352.64355469, 4352.67285156, 4352.69433594,\n",
       "       2834.69458008, 4190.49609375, 4275.55224609, 4312.96435547,\n",
       "       4323.96826172, 4329.57714844, 4333.10693359, 4336.36083984,\n",
       "       4338.71044922, 4339.84863281, 4340.87207031, 4341.13427734,\n",
       "       4341.18359375, 4341.21386719, 4341.23925781, 4341.26074219,\n",
       "       4341.27148438, 4341.2890625 , 4341.30566406, 4341.32324219,\n",
       "       2762.54467773, 4232.46240234, 4305.82910156, 4333.22167969,\n",
       "       4349.91992188, 4355.66601562, 4358.36328125, 4359.49755859,\n",
       "       4360.04980469, 4360.42089844, 4360.76904297, 4361.18896484,\n",
       "       4361.99414062, 4363.15185547, 4363.66259766, 4363.703125  ,\n",
       "       4363.73876953, 4363.78955078, 4363.84375   , 4363.90722656])"
      ]
     },
     "execution_count": 17,
     "metadata": {},
     "output_type": "execute_result"
    }
   ],
   "source": [
    "kmeans.obj #inertia at each iteration"
   ]
  },
  {
   "cell_type": "code",
   "execution_count": 18,
   "id": "ed2c340d",
   "metadata": {
    "tags": []
   },
   "outputs": [],
   "source": [
    "cos_similarities = X_train @ kmeans.centroids.T\n",
    "classifications_train = np.argmax(cos_similarities, axis=1)"
   ]
  },
  {
   "cell_type": "code",
   "execution_count": 19,
   "id": "90aae79f",
   "metadata": {
    "tags": []
   },
   "outputs": [
    {
     "data": {
      "text/plain": [
       "6    2078\n",
       "7    1251\n",
       "5     842\n",
       "2     808\n",
       "0     679\n",
       "1     590\n",
       "4     576\n",
       "9     444\n",
       "3     396\n",
       "8     336\n",
       "dtype: int64"
      ]
     },
     "execution_count": 19,
     "metadata": {},
     "output_type": "execute_result"
    }
   ],
   "source": [
    "pd.Series(classifications_train).value_counts()"
   ]
  },
  {
   "cell_type": "code",
   "execution_count": 20,
   "id": "fc34c419-5d92-4dc6-8db4-9dc84b83a8d4",
   "metadata": {
    "tags": []
   },
   "outputs": [
    {
     "data": {
      "text/plain": [
       "[5, 1, 2, 10, 9, 5, 6, 6, 10, 3]"
      ]
     },
     "execution_count": 20,
     "metadata": {},
     "output_type": "execute_result"
    }
   ],
   "source": [
    "# Get most common label for each point classified to a centroid (same centroid)\n",
    "centroid_labels = [np.where(classifications_train == i)[0] for i in range(ncentroids)]\n",
    "max_label_per_centroid = [int(pd.Series(y_train[centroid_labels[i]]).value_counts().idxmax()) for i in range(ncentroids)]\n",
    "max_label_per_centroid"
   ]
  },
  {
   "cell_type": "code",
   "execution_count": 21,
   "id": "20e159a9-ef63-4a0e-8e94-52e041a5c416",
   "metadata": {
    "tags": []
   },
   "outputs": [],
   "source": [
    "centroid_to_label = {idx : max_label_per_centroid[idx] for idx in range(len(max_label_per_centroid))}"
   ]
  },
  {
   "cell_type": "code",
   "execution_count": 22,
   "id": "45760bd2-820d-462e-a8ef-8d054ed5dde4",
   "metadata": {
    "tags": []
   },
   "outputs": [
    {
     "data": {
      "text/plain": [
       "{0: 5, 1: 1, 2: 2, 3: 10, 4: 9, 5: 5, 6: 6, 7: 6, 8: 10, 9: 3}"
      ]
     },
     "execution_count": 22,
     "metadata": {},
     "output_type": "execute_result"
    }
   ],
   "source": [
    "centroid_to_label"
   ]
  },
  {
   "cell_type": "code",
   "execution_count": 23,
   "id": "b9cf2ac5-ce04-4efe-9828-041723e1f453",
   "metadata": {
    "tags": []
   },
   "outputs": [
    {
     "data": {
      "text/plain": [
       "array([ 6,  6,  6, ..., 10, 10, 10])"
      ]
     },
     "execution_count": 23,
     "metadata": {},
     "output_type": "execute_result"
    }
   ],
   "source": [
    "vectorized_map = np.vectorize(centroid_to_label.get)\n",
    "classifications_to_label = vectorized_map(classifications_train)\n",
    "\n",
    "classifications_to_label"
   ]
  },
  {
   "cell_type": "code",
   "execution_count": 24,
   "id": "c793f2dc-74de-4e3a-b0a8-3839b1be8dd9",
   "metadata": {
    "tags": []
   },
   "outputs": [
    {
     "name": "stdout",
     "output_type": "stream",
     "text": [
      "Prompt 1 Accuracy:  0.15\n",
      "Prompt 2 Accuracy:  0.205\n",
      "Prompt 3 Accuracy:  0.555\n",
      "Prompt 4 Accuracy:  0.0\n",
      "Prompt 5 Accuracy:  0.78\n",
      "Prompt 6 Accuracy:  0.68625\n",
      "Prompt 7 Accuracy:  0.0\n",
      "Prompt 8 Accuracy:  0.0\n",
      "Prompt 9 Accuracy:  0.12875\n",
      "Prompt 10 Accuracy:  0.91\n"
     ]
    }
   ],
   "source": [
    "for i in range(10):\n",
    "    print(f\"Prompt {i + 1} Accuracy: \", np.mean(classifications_to_label[i * 800:(i + 1) * 800] == (i + 1)))"
   ]
  },
  {
   "cell_type": "code",
   "execution_count": 25,
   "id": "ac9d3497-d991-455d-a121-1a4c234314b0",
   "metadata": {
    "tags": []
   },
   "outputs": [
    {
     "name": "stdout",
     "output_type": "stream",
     "text": [
      "Overall Accuracy:  0.3415\n"
     ]
    }
   ],
   "source": [
    "print(f\"Overall Accuracy: \", np.mean(classifications_to_label == y_train))"
   ]
  },
  {
   "cell_type": "markdown",
   "id": "b8d32ef1-a624-4d32-abcb-8daacad47cdc",
   "metadata": {},
   "source": [
    "## Perform Inference on Test Set & Collect Test Accuracy"
   ]
  },
  {
   "cell_type": "code",
   "execution_count": 26,
   "id": "2431abbc-b684-4c06-8fd6-06c771a1c4fa",
   "metadata": {},
   "outputs": [],
   "source": [
    "cos_similarities = X_test @ kmeans.centroids.T\n",
    "classifications_test = np.argmax(cos_similarities, axis=1)"
   ]
  },
  {
   "cell_type": "code",
   "execution_count": 27,
   "id": "d9a7dd1c-884b-4bef-b538-6c0a65a6f7e4",
   "metadata": {},
   "outputs": [
    {
     "data": {
      "text/plain": [
       "6    527\n",
       "7    320\n",
       "5    211\n",
       "2    181\n",
       "1    172\n",
       "0    148\n",
       "4    144\n",
       "3    113\n",
       "9    105\n",
       "8     79\n",
       "dtype: int64"
      ]
     },
     "execution_count": 27,
     "metadata": {},
     "output_type": "execute_result"
    }
   ],
   "source": [
    "pd.Series(classifications_test).value_counts()"
   ]
  },
  {
   "cell_type": "code",
   "execution_count": 28,
   "id": "6fa74238-a2b3-4277-bcd6-88ab9d5caf4f",
   "metadata": {},
   "outputs": [
    {
     "data": {
      "text/plain": [
       "array([ 6,  1,  5, ..., 10, 10, 10])"
      ]
     },
     "execution_count": 28,
     "metadata": {},
     "output_type": "execute_result"
    }
   ],
   "source": [
    "classifications_to_label_test = vectorized_map(classifications_test)\n",
    "\n",
    "classifications_to_label_test"
   ]
  },
  {
   "cell_type": "code",
   "execution_count": 29,
   "id": "799e3a99-6659-44b7-becd-4d0825fd1957",
   "metadata": {},
   "outputs": [
    {
     "name": "stdout",
     "output_type": "stream",
     "text": [
      "Prompt 1 Accuracy:  0.14\n",
      "Prompt 2 Accuracy:  0.16\n",
      "Prompt 3 Accuracy:  0.525\n",
      "Prompt 4 Accuracy:  0.0\n",
      "Prompt 5 Accuracy:  0.785\n",
      "Prompt 6 Accuracy:  0.66\n",
      "Prompt 7 Accuracy:  0.0\n",
      "Prompt 8 Accuracy:  0.0\n",
      "Prompt 9 Accuracy:  0.145\n",
      "Prompt 10 Accuracy:  0.95\n"
     ]
    }
   ],
   "source": [
    "for i in range(10):\n",
    "    print(f\"Prompt {i + 1} Accuracy: \", np.mean(classifications_to_label_test[i * 200:(i + 1) * 200] == (i + 1)))"
   ]
  },
  {
   "cell_type": "code",
   "execution_count": 30,
   "id": "4f97cfa0-27da-4897-8e65-681b75ad51d7",
   "metadata": {},
   "outputs": [
    {
     "name": "stdout",
     "output_type": "stream",
     "text": [
      "Overall Accuracy:  0.3365\n"
     ]
    }
   ],
   "source": [
    "print(f\"Overall Accuracy: \", np.mean(classifications_to_label_test == y_test))"
   ]
  },
  {
   "cell_type": "markdown",
   "id": "ee076424-49c5-4245-a3a3-56fba51465ea",
   "metadata": {},
   "source": [
    "## Confusion Matrix of Results"
   ]
  },
  {
   "cell_type": "code",
   "execution_count": 31,
   "id": "b9175267-2fef-4f02-930e-c263ec396f91",
   "metadata": {
    "tags": []
   },
   "outputs": [],
   "source": [
    "from sklearn.metrics import confusion_matrix, ConfusionMatrixDisplay\n",
    "import matplotlib.pyplot as plt"
   ]
  },
  {
   "cell_type": "code",
   "execution_count": 32,
   "id": "3c2c3ac7-26e3-42d5-860a-918d735776c1",
   "metadata": {
    "tags": []
   },
   "outputs": [
    {
     "data": {
      "image/png": "[encoded data removed]",
      "text/plain": [
       "<Figure size 432x288 with 2 Axes>"
      ]
     },
     "metadata": {
      "needs_background": "light"
     },
     "output_type": "display_data"
    }
   ],
   "source": [
    "cm = confusion_matrix(y_train, classifications_to_label)\n",
    "disp = ConfusionMatrixDisplay(confusion_matrix=cm, display_labels=[f\"{i}\" for i in range(1, 11)])\n",
    "\n",
    "disp.plot()\n",
    "plt.title('Confusion Matrix for Train Set')\n",
    "plt.show()"
   ]
  },
  {
   "cell_type": "code",
   "execution_count": 33,
   "id": "03a45427-f767-4838-968e-c341eca03746",
   "metadata": {
    "tags": []
   },
   "outputs": [
    {
     "data": {
      "image/png": "[encoded data removed]",
      "text/plain": [
       "<Figure size 432x288 with 2 Axes>"
      ]
     },
     "metadata": {
      "needs_background": "light"
     },
     "output_type": "display_data"
    }
   ],
   "source": [
    "cm = confusion_matrix(y_test, classifications_to_label_test)\n",
    "disp = ConfusionMatrixDisplay(confusion_matrix=cm, display_labels=[f\"{i}\" for i in range(1, 11)])\n",
    "\n",
    "disp.plot()\n",
    "plt.title('Confusion Matrix for Test Set')\n",
    "plt.show()"
   ]
  },
  {
   "cell_type": "code",
   "execution_count": null,
   "id": "1322b9ab-2b94-4d00-95cf-1b3741b9f482",
   "metadata": {},
   "outputs": [],
   "source": []
  },
  {
   "cell_type": "code",
   "execution_count": null,
   "id": "de826fc3-e67f-45cb-bb74-15dfcbd3d18d",
   "metadata": {},
   "outputs": [],
   "source": []
  }
 ],
 "metadata": {
  "kernelspec": {
   "display_name": "Python 3 (ipykernel)",
   "language": "python",
   "name": "python3"
  },
  "language_info": {
   "codemirror_mode": {
    "name": "ipython",
    "version": 3
   },
   "file_extension": ".py",
   "mimetype": "text/x-python",
   "name": "python",
   "nbconvert_exporter": "python",
   "pygments_lexer": "ipython3",
   "version": "3.7.11"
  }
 },
 "nbformat": 4,
 "nbformat_minor": 5
}
