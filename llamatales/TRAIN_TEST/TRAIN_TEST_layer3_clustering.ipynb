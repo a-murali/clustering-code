{
 "cells": [
  {
   "cell_type": "markdown",
   "id": "64c867a4-b1c3-426b-b086-de071a726ebf",
   "metadata": {},
   "source": [
    "## Install Packages"
   ]
  },
  {
   "cell_type": "code",
   "execution_count": 1,
   "id": "80849741",
   "metadata": {
    "tags": []
   },
   "outputs": [
    {
     "name": "stdout",
     "output_type": "stream",
     "text": [
      "Collecting package metadata (current_repodata.json): \\ WARNING conda.models.version:get_matcher(540): Using .* with relational operator is superfluous and deprecated and will be removed in a future version of conda. Your spec was 1.7.1.*, but conda is ignoring the .* and treating it as 1.7.1\n",
      "done\n",
      "Solving environment: failed with initial frozen solve. Retrying with flexible solve.\n",
      "Solving environment: failed with repodata from current_repodata.json, will retry with next repodata source.\n",
      "Collecting package metadata (repodata.json): | WARNING conda.models.version:get_matcher(540): Using .* with relational operator is superfluous and deprecated and will be removed in a future version of conda. Your spec was 1.8.0.*, but conda is ignoring the .* and treating it as 1.8.0\n",
      "WARNING conda.models.version:get_matcher(540): Using .* with relational operator is superfluous and deprecated and will be removed in a future version of conda. Your spec was 1.6.0.*, but conda is ignoring the .* and treating it as 1.6.0\n",
      "WARNING conda.models.version:get_matcher(540): Using .* with relational operator is superfluous and deprecated and will be removed in a future version of conda. Your spec was 1.9.0.*, but conda is ignoring the .* and treating it as 1.9.0\n",
      "done\n",
      "Solving environment: done\n",
      "\n",
      "\n",
      "==> WARNING: A newer version of conda exists. <==\n",
      "  current version: 4.10.3\n",
      "  latest version: 25.7.0\n",
      "\n",
      "Please update conda by running\n",
      "\n",
      "    $ conda update -n base -c defaults conda\n",
      "\n",
      "\n",
      "\n",
      "## Package Plan ##\n",
      "\n",
      "  environment location: /opt/conda\n",
      "\n",
      "  added / updated specs:\n",
      "    - faiss-gpu\n",
      "\n",
      "\n",
      "The following packages will be downloaded:\n",
      "\n",
      "    package                    |            build\n",
      "    ---------------------------|-----------------\n",
      "    ca-certificates-2025.8.3   |       hbd8a1cb_0         151 KB  conda-forge\n",
      "    certifi-2024.8.30          |     pyhd8ed1ab_0         160 KB  conda-forge\n",
      "    conda-4.12.0               |   py37h89c1867_0         1.0 MB  conda-forge\n",
      "    faiss-1.7.1                |py37cuda111h7f21d35_1_cuda         2.0 MB  conda-forge\n",
      "    faiss-gpu-1.7.1            |       h788eb59_1          15 KB  conda-forge\n",
      "    libblas-3.9.0              |   26_linux64_mkl          16 KB  conda-forge\n",
      "    libfaiss-1.7.1             |cuda111hf54f04a_1_cuda        80.2 MB  conda-forge\n",
      "    libfaiss-avx2-1.7.1        |cuda111h1234567_1_cuda        80.3 MB  conda-forge\n",
      "    liblapack-3.9.0            |   26_linux64_mkl          16 KB  conda-forge\n",
      "    openssl-1.1.1w             |       h7f8727e_0         3.7 MB\n",
      "    python_abi-3.7             |          2_cp37m           4 KB  conda-forge\n",
      "    ------------------------------------------------------------\n",
      "                                           Total:       167.6 MB\n",
      "\n",
      "The following NEW packages will be INSTALLED:\n",
      "\n",
      "  faiss              conda-forge/linux-64::faiss-1.7.1-py37cuda111h7f21d35_1_cuda\n",
      "  faiss-gpu          conda-forge/linux-64::faiss-gpu-1.7.1-h788eb59_1\n",
      "  libblas            conda-forge/linux-64::libblas-3.9.0-26_linux64_mkl\n",
      "  libfaiss           conda-forge/linux-64::libfaiss-1.7.1-cuda111hf54f04a_1_cuda\n",
      "  libfaiss-avx2      conda-forge/linux-64::libfaiss-avx2-1.7.1-cuda111h1234567_1_cuda\n",
      "  liblapack          conda-forge/linux-64::liblapack-3.9.0-26_linux64_mkl\n",
      "  python_abi         conda-forge/linux-64::python_abi-3.7-2_cp37m\n",
      "\n",
      "The following packages will be UPDATED:\n",
      "\n",
      "  ca-certificates    pkgs/main/linux-64::ca-certificates-2~ --> conda-forge/noarch::ca-certificates-2025.8.3-hbd8a1cb_0\n",
      "  certifi            pkgs/main/linux-64::certifi-2021.10.8~ --> conda-forge/noarch::certifi-2024.8.30-pyhd8ed1ab_0\n",
      "  conda              pkgs/main::conda-4.10.3-py37h06a4308_0 --> conda-forge::conda-4.12.0-py37h89c1867_0\n",
      "  openssl                                 1.1.1l-h7f8727e_0 --> 1.1.1w-h7f8727e_0\n",
      "\n",
      "\n",
      "\n",
      "Downloading and Extracting Packages\n",
      "faiss-1.7.1          | 2.0 MB    | ##################################### | 100% \n",
      "python_abi-3.7       | 4 KB      | ##################################### | 100% \n",
      "faiss-gpu-1.7.1      | 15 KB     | ##################################### | 100% \n",
      "conda-4.12.0         | 1.0 MB    | ##################################### | 100% \n",
      "openssl-1.1.1w       | 3.7 MB    | ##################################### | 100% \n",
      "libfaiss-1.7.1       | 80.2 MB   | ##################################### | 100% \n",
      "certifi-2024.8.30    | 160 KB    | ##################################### | 100% \n",
      "ca-certificates-2025 | 151 KB    | ##################################### | 100% \n",
      "liblapack-3.9.0      | 16 KB     | ##################################### | 100% \n",
      "libblas-3.9.0        | 16 KB     | ##################################### | 100% \n",
      "libfaiss-avx2-1.7.1  | 80.3 MB   | ##################################### | 100% \n",
      "Preparing transaction: done\n",
      "Verifying transaction: done\n",
      "Executing transaction: done\n",
      "Hit:1 http://archive.ubuntu.com/ubuntu bionic InRelease\n",
      "Get:2 http://archive.ubuntu.com/ubuntu bionic-updates InRelease [102 kB]       \n",
      "Get:3 http://security.ubuntu.com/ubuntu bionic-security InRelease [102 kB]     \n",
      "Get:4 http://security.ubuntu.com/ubuntu bionic-security/main amd64 Packages [3373 kB]\n",
      "Get:5 http://archive.ubuntu.com/ubuntu bionic-backports InRelease [102 kB]\n",
      "Get:6 http://archive.ubuntu.com/ubuntu bionic-updates/universe amd64 Packages [2411 kB]\n",
      "Get:7 http://security.ubuntu.com/ubuntu bionic-security/restricted amd64 Packages [1688 kB]\n",
      "Get:8 http://security.ubuntu.com/ubuntu bionic-security/multiverse amd64 Packages [23.8 kB]\n",
      "Get:9 http://security.ubuntu.com/ubuntu bionic-security/universe amd64 Packages [1637 kB]\n",
      "Get:10 http://archive.ubuntu.com/ubuntu bionic-updates/multiverse amd64 Packages [30.8 kB]\n",
      "Get:11 http://archive.ubuntu.com/ubuntu bionic-updates/restricted amd64 Packages [1728 kB]\n",
      "Get:12 http://archive.ubuntu.com/ubuntu bionic-updates/main amd64 Packages [3786 kB]\n",
      "Get:13 http://archive.ubuntu.com/ubuntu bionic-backports/universe amd64 Packages [20.6 kB]\n",
      "Get:14 http://archive.ubuntu.com/ubuntu bionic-backports/main amd64 Packages [64.0 kB]\n",
      "Fetched 15.1 MB in 2s (6240 kB/s)                           \n",
      "Reading package lists... Done\n",
      "Reading package lists... Done\n",
      "Building dependency tree       \n",
      "Reading state information... Done\n",
      "The following additional packages will be installed:\n",
      "  gcc-7-base libatlas3-base libgfortran4 libquadmath0\n",
      "Suggested packages:\n",
      "  libatlas-doc liblapack-doc\n",
      "The following NEW packages will be installed:\n",
      "  gcc-7-base libatlas-base-dev libatlas3-base libgfortran4 libquadmath0\n",
      "0 upgraded, 5 newly installed, 0 to remove and 83 not upgraded.\n",
      "Need to get 8397 kB of archives.\n",
      "After this operation, 49.3 MB of additional disk space will be used.\n",
      "Get:1 http://archive.ubuntu.com/ubuntu bionic-updates/main amd64 gcc-7-base amd64 7.5.0-3ubuntu1~18.04 [18.3 kB]\n",
      "Get:2 http://archive.ubuntu.com/ubuntu bionic-updates/main amd64 libquadmath0 amd64 8.4.0-1ubuntu1~18.04 [134 kB]\n",
      "Get:3 http://archive.ubuntu.com/ubuntu bionic-updates/main amd64 libgfortran4 amd64 7.5.0-3ubuntu1~18.04 [492 kB]\n",
      "Get:4 http://archive.ubuntu.com/ubuntu bionic/universe amd64 libatlas3-base amd64 3.10.3-5 [3732 kB]\n",
      "Get:5 http://archive.ubuntu.com/ubuntu bionic/universe amd64 libatlas-base-dev amd64 3.10.3-5 [4022 kB]\n",
      "Fetched 8397 kB in 2s (3863 kB/s)           \n",
      "debconf: delaying package configuration, since apt-utils is not installed\n",
      "Selecting previously unselected package gcc-7-base:amd64.\n",
      "(Reading database ... 11934 files and directories currently installed.)\n",
      "Preparing to unpack .../gcc-7-base_7.5.0-3ubuntu1~18.04_amd64.deb ...\n",
      "Unpacking gcc-7-base:amd64 (7.5.0-3ubuntu1~18.04) ...\n",
      "Selecting previously unselected package libquadmath0:amd64.\n",
      "Preparing to unpack .../libquadmath0_8.4.0-1ubuntu1~18.04_amd64.deb ...\n",
      "Unpacking libquadmath0:amd64 (8.4.0-1ubuntu1~18.04) ...\n",
      "Selecting previously unselected package libgfortran4:amd64.\n",
      "Preparing to unpack .../libgfortran4_7.5.0-3ubuntu1~18.04_amd64.deb ...\n",
      "Unpacking libgfortran4:amd64 (7.5.0-3ubuntu1~18.04) ...\n",
      "Selecting previously unselected package libatlas3-base:amd64.\n",
      "Preparing to unpack .../libatlas3-base_3.10.3-5_amd64.deb ...\n",
      "Unpacking libatlas3-base:amd64 (3.10.3-5) ...\n",
      "Selecting previously unselected package libatlas-base-dev:amd64.\n",
      "Preparing to unpack .../libatlas-base-dev_3.10.3-5_amd64.deb ...\n",
      "Unpacking libatlas-base-dev:amd64 (3.10.3-5) ...\n",
      "Setting up libquadmath0:amd64 (8.4.0-1ubuntu1~18.04) ...\n",
      "Setting up gcc-7-base:amd64 (7.5.0-3ubuntu1~18.04) ...\n",
      "Setting up libgfortran4:amd64 (7.5.0-3ubuntu1~18.04) ...\n",
      "Setting up libatlas3-base:amd64 (3.10.3-5) ...\n",
      "update-alternatives: using /usr/lib/x86_64-linux-gnu/atlas/libblas.so.3 to provide /usr/lib/x86_64-linux-gnu/libblas.so.3 (libblas.so.3-x86_64-linux-gnu) in auto mode\n",
      "update-alternatives: using /usr/lib/x86_64-linux-gnu/atlas/liblapack.so.3 to provide /usr/lib/x86_64-linux-gnu/liblapack.so.3 (liblapack.so.3-x86_64-linux-gnu) in auto mode\n",
      "Setting up libatlas-base-dev:amd64 (3.10.3-5) ...\n",
      "update-alternatives: using /usr/lib/x86_64-linux-gnu/atlas/libblas.so to provide /usr/lib/x86_64-linux-gnu/libblas.so (libblas.so-x86_64-linux-gnu) in auto mode\n",
      "update-alternatives: using /usr/lib/x86_64-linux-gnu/atlas/liblapack.so to provide /usr/lib/x86_64-linux-gnu/liblapack.so (liblapack.so-x86_64-linux-gnu) in auto mode\n",
      "Processing triggers for libc-bin (2.27-3ubuntu1.4) ...\n"
     ]
    }
   ],
   "source": [
    "!conda install -y -c conda-forge faiss-gpu\n",
    "!apt-get -y update\n",
    "!apt-get -y install libatlas-base-dev"
   ]
  },
  {
   "cell_type": "markdown",
   "id": "ea6af1a5-1aef-4743-bfa6-7392ed97dbe7",
   "metadata": {},
   "source": [
    "## Load Data"
   ]
  },
  {
   "cell_type": "code",
   "execution_count": 2,
   "id": "e26dddbf",
   "metadata": {
    "tags": []
   },
   "outputs": [],
   "source": [
    "import pandas as pd\n",
    "import numpy as np\n",
    "import matplotlib.pyplot as plt\n",
    "\n",
    "from sklearn.random_projection import GaussianRandomProjection\n",
    "\n",
    "from tqdm import tqdm\n",
    "\n",
    "import faiss"
   ]
  },
  {
   "cell_type": "code",
   "execution_count": 3,
   "id": "89c2cffa",
   "metadata": {
    "tags": []
   },
   "outputs": [
    {
     "data": {
      "text/html": [
       "<div>\n",
       "<style scoped>\n",
       "    .dataframe tbody tr th:only-of-type {\n",
       "        vertical-align: middle;\n",
       "    }\n",
       "\n",
       "    .dataframe tbody tr th {\n",
       "        vertical-align: top;\n",
       "    }\n",
       "\n",
       "    .dataframe thead th {\n",
       "        text-align: right;\n",
       "    }\n",
       "</style>\n",
       "<table border=\"1\" class=\"dataframe\">\n",
       "  <thead>\n",
       "    <tr style=\"text-align: right;\">\n",
       "      <th></th>\n",
       "      <th>prompt_id</th>\n",
       "      <th>prompt</th>\n",
       "      <th>story</th>\n",
       "      <th>hidden_state_file</th>\n",
       "      <th>len_generated_story</th>\n",
       "      <th>len_new_story</th>\n",
       "    </tr>\n",
       "  </thead>\n",
       "  <tbody>\n",
       "    <tr>\n",
       "      <th>0</th>\n",
       "      <td>1</td>\n",
       "      <td>Once upon a time there was a dragon</td>\n",
       "      <td>Once upon a time there was a dragon named Blaz...</td>\n",
       "      <td>./hidden_states/prompt_1.npz</td>\n",
       "      <td>270</td>\n",
       "      <td>271</td>\n",
       "    </tr>\n",
       "    <tr>\n",
       "      <th>1</th>\n",
       "      <td>1</td>\n",
       "      <td>Once upon a time there was a dragon</td>\n",
       "      <td>Once upon a time there was a dragon named Spar...</td>\n",
       "      <td>./hidden_states/prompt_1.npz</td>\n",
       "      <td>349</td>\n",
       "      <td>350</td>\n",
       "    </tr>\n",
       "    <tr>\n",
       "      <th>2</th>\n",
       "      <td>1</td>\n",
       "      <td>Once upon a time there was a dragon</td>\n",
       "      <td>Once upon a time there was a dragon named Scor...</td>\n",
       "      <td>./hidden_states/prompt_1.npz</td>\n",
       "      <td>278</td>\n",
       "      <td>278</td>\n",
       "    </tr>\n",
       "    <tr>\n",
       "      <th>3</th>\n",
       "      <td>1</td>\n",
       "      <td>Once upon a time there was a dragon</td>\n",
       "      <td>Once upon a time there was a dragon. The drago...</td>\n",
       "      <td>./hidden_states/prompt_1.npz</td>\n",
       "      <td>117</td>\n",
       "      <td>118</td>\n",
       "    </tr>\n",
       "    <tr>\n",
       "      <th>4</th>\n",
       "      <td>1</td>\n",
       "      <td>Once upon a time there was a dragon</td>\n",
       "      <td>Once upon a time there was a dragon. The drago...</td>\n",
       "      <td>./hidden_states/prompt_1.npz</td>\n",
       "      <td>129</td>\n",
       "      <td>130</td>\n",
       "    </tr>\n",
       "    <tr>\n",
       "      <th>...</th>\n",
       "      <td>...</td>\n",
       "      <td>...</td>\n",
       "      <td>...</td>\n",
       "      <td>...</td>\n",
       "      <td>...</td>\n",
       "      <td>...</td>\n",
       "    </tr>\n",
       "    <tr>\n",
       "      <th>9995</th>\n",
       "      <td>10</td>\n",
       "      <td>Once upon a time there was a poor boy</td>\n",
       "      <td>Once upon a time there was a poor boy named Ti...</td>\n",
       "      <td>./hidden_states/prompt_10.npz</td>\n",
       "      <td>289</td>\n",
       "      <td>290</td>\n",
       "    </tr>\n",
       "    <tr>\n",
       "      <th>9996</th>\n",
       "      <td>10</td>\n",
       "      <td>Once upon a time there was a poor boy</td>\n",
       "      <td>Once upon a time there was a poor boy named Ti...</td>\n",
       "      <td>./hidden_states/prompt_10.npz</td>\n",
       "      <td>119</td>\n",
       "      <td>119</td>\n",
       "    </tr>\n",
       "    <tr>\n",
       "      <th>9997</th>\n",
       "      <td>10</td>\n",
       "      <td>Once upon a time there was a poor boy</td>\n",
       "      <td>Once upon a time there was a poor boy named Ti...</td>\n",
       "      <td>./hidden_states/prompt_10.npz</td>\n",
       "      <td>127</td>\n",
       "      <td>128</td>\n",
       "    </tr>\n",
       "    <tr>\n",
       "      <th>9998</th>\n",
       "      <td>10</td>\n",
       "      <td>Once upon a time there was a poor boy</td>\n",
       "      <td>Once upon a time there was a poor boy named Ti...</td>\n",
       "      <td>./hidden_states/prompt_10.npz</td>\n",
       "      <td>441</td>\n",
       "      <td>441</td>\n",
       "    </tr>\n",
       "    <tr>\n",
       "      <th>9999</th>\n",
       "      <td>10</td>\n",
       "      <td>Once upon a time there was a poor boy</td>\n",
       "      <td>Once upon a time there was a poor boy named Ti...</td>\n",
       "      <td>./hidden_states/prompt_10.npz</td>\n",
       "      <td>520</td>\n",
       "      <td>521</td>\n",
       "    </tr>\n",
       "  </tbody>\n",
       "</table>\n",
       "<p>10000 rows × 6 columns</p>\n",
       "</div>"
      ],
      "text/plain": [
       "      prompt_id                                 prompt  \\\n",
       "0             1    Once upon a time there was a dragon   \n",
       "1             1    Once upon a time there was a dragon   \n",
       "2             1    Once upon a time there was a dragon   \n",
       "3             1    Once upon a time there was a dragon   \n",
       "4             1    Once upon a time there was a dragon   \n",
       "...         ...                                    ...   \n",
       "9995         10  Once upon a time there was a poor boy   \n",
       "9996         10  Once upon a time there was a poor boy   \n",
       "9997         10  Once upon a time there was a poor boy   \n",
       "9998         10  Once upon a time there was a poor boy   \n",
       "9999         10  Once upon a time there was a poor boy   \n",
       "\n",
       "                                                  story  \\\n",
       "0     Once upon a time there was a dragon named Blaz...   \n",
       "1     Once upon a time there was a dragon named Spar...   \n",
       "2     Once upon a time there was a dragon named Scor...   \n",
       "3     Once upon a time there was a dragon. The drago...   \n",
       "4     Once upon a time there was a dragon. The drago...   \n",
       "...                                                 ...   \n",
       "9995  Once upon a time there was a poor boy named Ti...   \n",
       "9996  Once upon a time there was a poor boy named Ti...   \n",
       "9997  Once upon a time there was a poor boy named Ti...   \n",
       "9998  Once upon a time there was a poor boy named Ti...   \n",
       "9999  Once upon a time there was a poor boy named Ti...   \n",
       "\n",
       "                  hidden_state_file  len_generated_story  len_new_story  \n",
       "0      ./hidden_states/prompt_1.npz                  270            271  \n",
       "1      ./hidden_states/prompt_1.npz                  349            350  \n",
       "2      ./hidden_states/prompt_1.npz                  278            278  \n",
       "3      ./hidden_states/prompt_1.npz                  117            118  \n",
       "4      ./hidden_states/prompt_1.npz                  129            130  \n",
       "...                             ...                  ...            ...  \n",
       "9995  ./hidden_states/prompt_10.npz                  289            290  \n",
       "9996  ./hidden_states/prompt_10.npz                  119            119  \n",
       "9997  ./hidden_states/prompt_10.npz                  127            128  \n",
       "9998  ./hidden_states/prompt_10.npz                  441            441  \n",
       "9999  ./hidden_states/prompt_10.npz                  520            521  \n",
       "\n",
       "[10000 rows x 6 columns]"
      ]
     },
     "execution_count": 3,
     "metadata": {},
     "output_type": "execute_result"
    }
   ],
   "source": [
    "df = pd.read_csv(\"../story_dataset.csv\")\n",
    "df"
   ]
  },
  {
   "cell_type": "code",
   "execution_count": 4,
   "id": "c081cc09",
   "metadata": {
    "tags": []
   },
   "outputs": [
    {
     "data": {
      "text/plain": [
       "522"
      ]
     },
     "execution_count": 4,
     "metadata": {},
     "output_type": "execute_result"
    }
   ],
   "source": [
    "max_story_len = max(df[\"len_generated_story\"])\n",
    "max_story_len"
   ]
  },
  {
   "cell_type": "code",
   "execution_count": 5,
   "id": "212c067a",
   "metadata": {
    "scrolled": true,
    "tags": []
   },
   "outputs": [
    {
     "name": "stderr",
     "output_type": "stream",
     "text": [
      "100%|███████████████████████████████████████████████████████████████████████████████| 1000/1000 [01:22<00:00, 12.10it/s]\n",
      "100%|███████████████████████████████████████████████████████████████████████████████| 1000/1000 [01:19<00:00, 12.64it/s]\n",
      "100%|███████████████████████████████████████████████████████████████████████████████| 1000/1000 [01:21<00:00, 12.23it/s]\n",
      "100%|███████████████████████████████████████████████████████████████████████████████| 1000/1000 [01:18<00:00, 12.73it/s]\n",
      "100%|███████████████████████████████████████████████████████████████████████████████| 1000/1000 [01:26<00:00, 11.52it/s]\n",
      "100%|███████████████████████████████████████████████████████████████████████████████| 1000/1000 [01:16<00:00, 13.10it/s]\n",
      "100%|███████████████████████████████████████████████████████████████████████████████| 1000/1000 [01:22<00:00, 12.13it/s]\n",
      "100%|███████████████████████████████████████████████████████████████████████████████| 1000/1000 [01:17<00:00, 12.95it/s]\n",
      "100%|███████████████████████████████████████████████████████████████████████████████| 1000/1000 [01:20<00:00, 12.38it/s]\n",
      "100%|███████████████████████████████████████████████████████████████████████████████| 1000/1000 [01:33<00:00, 10.71it/s]\n"
     ]
    }
   ],
   "source": [
    "hidden_states_by_layer = {}\n",
    "NUM_PROMPTS = 10\n",
    "\n",
    "for prompt_id in range(1, NUM_PROMPTS + 1):\n",
    "    with np.load(f'../hidden_states/prompt_{prompt_id}.npz') as loaded_data:\n",
    "        for i in tqdm(range(1000)):\n",
    "            curr_hidden_states = loaded_data[f\"arr_{i}\"][0]\n",
    "#             print(curr_hidden_states.shape)\n",
    "            for layer in range(3, 4):\n",
    "                padded_arr = np.zeros((max_story_len, 512))\n",
    "                padded_arr_len = len(curr_hidden_states[layer][0])\n",
    "                \n",
    "                padded_arr[:padded_arr_len] = curr_hidden_states[layer][0]\n",
    "                \n",
    "                padded_arr = padded_arr.flatten().astype('float32') #FAISS expects data in type float32 instead of float64 - saves memory too!\n",
    "#                 print(padded_arr.shape)\n",
    "                \n",
    "                if(f\"layer_{layer}\" in hidden_states_by_layer):\n",
    "                    hidden_states_by_layer[f\"layer_{layer}\"].append(padded_arr)\n",
    "                else:\n",
    "                    hidden_states_by_layer[f\"layer_{layer}\"] = [padded_arr]"
   ]
  },
  {
   "cell_type": "code",
   "execution_count": 6,
   "id": "ad23eb70",
   "metadata": {
    "tags": []
   },
   "outputs": [
    {
     "data": {
      "text/plain": [
       "(10000, 267264)"
      ]
     },
     "execution_count": 6,
     "metadata": {},
     "output_type": "execute_result"
    }
   ],
   "source": [
    "layer_hs_array = np.array(hidden_states_by_layer[\"layer_3\"])\n",
    "layer_hs_array.shape"
   ]
  },
  {
   "cell_type": "markdown",
   "id": "e44eecd8-9f29-457b-8f65-d8eae3b84eb8",
   "metadata": {},
   "source": [
    "## Layer 3 Clustering"
   ]
  },
  {
   "cell_type": "code",
   "execution_count": 7,
   "id": "49cf7b1b",
   "metadata": {
    "tags": []
   },
   "outputs": [],
   "source": [
    "# Use original vectors for clustering - uncomment next line and comment out last two lines\n",
    "\n",
    "dim_reduced_vecs = layer_hs_array\n",
    "\n",
    "# random_projector = GaussianRandomProjection(random_state = 42)\n",
    "# dim_reduced_vecs = random_projector.fit_transform(layer_hs_array).astype('float32')"
   ]
  },
  {
   "cell_type": "code",
   "execution_count": 8,
   "id": "b9257701",
   "metadata": {
    "tags": []
   },
   "outputs": [
    {
     "data": {
      "text/plain": [
       "(10000, 267264)"
      ]
     },
     "execution_count": 8,
     "metadata": {},
     "output_type": "execute_result"
    }
   ],
   "source": [
    "dim_reduced_vecs = np.array([v / np.linalg.norm(v) for v in dim_reduced_vecs])\n",
    "dim_reduced_vecs.shape"
   ]
  },
  {
   "cell_type": "code",
   "execution_count": 9,
   "id": "22e1c2a5-03fa-43fd-90d4-609a0d949829",
   "metadata": {
    "tags": []
   },
   "outputs": [
    {
     "data": {
      "text/plain": [
       "array([ 1,  1,  1, ..., 10, 10, 10])"
      ]
     },
     "execution_count": 9,
     "metadata": {},
     "output_type": "execute_result"
    }
   ],
   "source": [
    "prompt_ids = df[\"prompt_id\"]\n",
    "prompt_ids = prompt_ids.to_numpy()\n",
    "prompt_ids"
   ]
  },
  {
   "cell_type": "code",
   "execution_count": 10,
   "id": "bd963a3c-0ad1-416a-9fc6-a13bf2422fcd",
   "metadata": {},
   "outputs": [],
   "source": [
    "X_train = np.zeros((int(0.8 * dim_reduced_vecs.shape[0]), dim_reduced_vecs.shape[1]), dtype = np.float32)\n",
    "y_train = np.zeros(int(0.8 * dim_reduced_vecs.shape[0]))\n",
    "\n",
    "X_test = np.zeros((int(0.2 * dim_reduced_vecs.shape[0]), dim_reduced_vecs.shape[1]), dtype = np.float32)\n",
    "y_test = np.zeros(int(0.2 * dim_reduced_vecs.shape[0]))"
   ]
  },
  {
   "cell_type": "code",
   "execution_count": 11,
   "id": "6b84c6a1-29cc-4096-9eb1-420301a7065f",
   "metadata": {},
   "outputs": [],
   "source": [
    "for i in range(10):\n",
    "    X_train[i * 800 : (i + 1) * 800] = dim_reduced_vecs[i * 1000 : (i * 1000) + 800]\n",
    "    y_train[i * 800 : (i + 1) * 800] = prompt_ids[i * 1000 : (i * 1000) + 800]\n",
    "    \n",
    "    X_test[i * 200 : (i + 1) * 200] = dim_reduced_vecs[(i * 1000) + 800 : (i + 1) * 1000]\n",
    "    y_test[i * 200 : (i + 1) * 200] = prompt_ids[(i * 1000) + 800 : (i + 1) * 1000]"
   ]
  },
  {
   "cell_type": "code",
   "execution_count": 12,
   "id": "e7c2f695-573c-4abe-ab7b-eaa4a1661cd2",
   "metadata": {},
   "outputs": [
    {
     "name": "stdout",
     "output_type": "stream",
     "text": [
      "(8000, 267264)\n",
      "(8000,)\n",
      "(2000, 267264)\n",
      "(2000,)\n"
     ]
    }
   ],
   "source": [
    "print(X_train.shape)\n",
    "print(y_train.shape)\n",
    "print(X_test.shape)\n",
    "print(y_test.shape)"
   ]
  },
  {
   "cell_type": "code",
   "execution_count": 13,
   "id": "8aebf88b-1d51-48d2-945c-311b5fc70963",
   "metadata": {},
   "outputs": [
    {
     "name": "stdout",
     "output_type": "stream",
     "text": [
      "Sampling a subset of 4000 / 8000 for training\n",
      "Clustering 4000 points in 267264D to 5 clusters, redo 10 times, 20 iterations\n",
      "  Preprocessing in 3.65 s\n",
      "Outer iteration 0 / 10\n",
      "  Iteration 19 (11.23 s, search 7.53 s): objective=1942.63 imbalance=1.094 nsplit=0       \n",
      "Objective improved: keep new clusters\n",
      "Outer iteration 1 / 10\n",
      "  Iteration 19 (22.45 s, search 15.05 s): objective=1942.8 imbalance=1.120 nsplit=0        \n",
      "Objective improved: keep new clusters\n",
      "Outer iteration 2 / 10\n",
      "  Iteration 19 (33.75 s, search 22.60 s): objective=1936.9 imbalance=1.035 nsplit=0        \n",
      "Outer iteration 3 / 10\n",
      "  Iteration 19 (44.97 s, search 30.12 s): objective=1937.2 imbalance=1.092 nsplit=0        \n",
      "Outer iteration 4 / 10\n",
      "  Iteration 19 (56.18 s, search 37.63 s): objective=1941.68 imbalance=1.087 nsplit=0       \n",
      "Outer iteration 5 / 10\n",
      "  Iteration 19 (68.12 s, search 45.40 s): objective=1936.08 imbalance=1.109 nsplit=0       \n",
      "Outer iteration 6 / 10\n",
      "  Iteration 19 (79.80 s, search 53.18 s): objective=1927.18 imbalance=1.542 nsplit=0       \n",
      "Outer iteration 7 / 10\n",
      "  Iteration 19 (91.12 s, search 60.77 s): objective=1935.42 imbalance=1.350 nsplit=0       \n",
      "Outer iteration 8 / 10\n",
      "  Iteration 19 (102.38 s, search 68.31 s): objective=1929.8 imbalance=1.247 nsplit=0        \n",
      "Outer iteration 9 / 10\n",
      "  Iteration 19 (113.60 s, search 75.84 s): objective=1934.21 imbalance=1.445 nsplit=0       \n",
      "Sampling a subset of 4800 / 8000 for training\n",
      "Clustering 4800 points in 267264D to 6 clusters, redo 10 times, 20 iterations\n",
      "  Preprocessing in 6.23 s\n",
      "Outer iteration 0 / 10\n",
      "  Iteration 19 (13.65 s, search 9.12 s): objective=2324.68 imbalance=1.325 nsplit=0       \n",
      "Objective improved: keep new clusters\n",
      "Outer iteration 1 / 10\n",
      "  Iteration 19 (27.19 s, search 18.19 s): objective=2327.33 imbalance=1.019 nsplit=0       \n",
      "Objective improved: keep new clusters\n",
      "Outer iteration 2 / 10\n",
      "  Iteration 19 (41.97 s, search 27.87 s): objective=2336.51 imbalance=1.128 nsplit=0       \n",
      "Objective improved: keep new clusters\n",
      "Outer iteration 3 / 10\n",
      "  Iteration 19 (55.49 s, search 36.93 s): objective=2336.81 imbalance=1.126 nsplit=0       \n",
      "Objective improved: keep new clusters\n",
      "Outer iteration 4 / 10\n",
      "  Iteration 19 (68.98 s, search 45.98 s): objective=2334.93 imbalance=1.131 nsplit=0       \n",
      "Outer iteration 5 / 10\n",
      "  Iteration 19 (82.49 s, search 55.04 s): objective=2332.89 imbalance=1.111 nsplit=0       \n",
      "Outer iteration 6 / 10\n",
      "  Iteration 19 (95.98 s, search 64.09 s): objective=2334.41 imbalance=1.127 nsplit=0       \n",
      "Outer iteration 7 / 10\n",
      "  Iteration 19 (109.47 s, search 73.13 s): objective=2326.61 imbalance=1.080 nsplit=0       \n",
      "Outer iteration 8 / 10\n",
      "  Iteration 19 (122.99 s, search 82.19 s): objective=2323.68 imbalance=1.710 nsplit=0       \n",
      "Outer iteration 9 / 10\n",
      "  Iteration 19 (136.48 s, search 91.23 s): objective=2333.2 imbalance=1.071 nsplit=0        \n",
      "Sampling a subset of 5600 / 8000 for training\n",
      "Clustering 5600 points in 267264D to 7 clusters, redo 10 times, 20 iterations\n",
      "  Preprocessing in 6.71 s\n",
      "Outer iteration 0 / 10\n",
      "  Iteration 19 (15.86 s, search 10.59 s): objective=2734.34 imbalance=1.192 nsplit=0       \n",
      "Objective improved: keep new clusters\n",
      "Outer iteration 1 / 10\n",
      "  Iteration 19 (31.98 s, search 21.21 s): objective=2726.54 imbalance=1.173 nsplit=0       \n",
      "Outer iteration 2 / 10\n",
      "  Iteration 19 (48.79 s, search 32.43 s): objective=2732.12 imbalance=1.216 nsplit=0       \n",
      "Outer iteration 3 / 10\n",
      "  Iteration 19 (64.46 s, search 42.92 s): objective=2727.61 imbalance=1.108 nsplit=0       \n",
      "Outer iteration 4 / 10\n",
      "  Iteration 19 (80.16 s, search 53.46 s): objective=2722.64 imbalance=1.706 nsplit=0       \n",
      "Outer iteration 5 / 10\n",
      "  Iteration 19 (95.82 s, search 63.97 s): objective=2729.24 imbalance=1.165 nsplit=0       \n",
      "Outer iteration 6 / 10\n",
      "  Iteration 19 (111.52 s, search 74.48 s): objective=2734.39 imbalance=1.040 nsplit=0       \n",
      "Objective improved: keep new clusters\n",
      "Outer iteration 7 / 10\n",
      "  Iteration 19 (127.19 s, search 84.99 s): objective=2733.73 imbalance=1.129 nsplit=0       \n",
      "Outer iteration 8 / 10\n",
      "  Iteration 19 (142.90 s, search 95.52 s): objective=2731.5 imbalance=1.066 nsplit=0        \n",
      "Outer iteration 9 / 10\n",
      "  Iteration 19 (158.57 s, search 106.01 s): objective=2736.49 imbalance=1.045 nsplit=0       \n",
      "Objective improved: keep new clusters\n",
      "Sampling a subset of 6400 / 8000 for training\n",
      "Clustering 6400 points in 267264D to 8 clusters, redo 10 times, 20 iterations\n",
      "  Preprocessing in 7.08 s\n",
      "Outer iteration 0 / 10\n",
      "  Iteration 19 (18.19 s, search 12.12 s): objective=3127.6 imbalance=1.140 nsplit=0        \n",
      "Objective improved: keep new clusters\n",
      "Outer iteration 1 / 10\n",
      "  Iteration 19 (37.86 s, search 25.02 s): objective=3120.48 imbalance=1.275 nsplit=0       \n",
      "Outer iteration 2 / 10\n",
      "  Iteration 19 (56.02 s, search 37.16 s): objective=3106.59 imbalance=1.803 nsplit=0       \n",
      "Outer iteration 3 / 10\n",
      "  Iteration 19 (74.08 s, search 49.18 s): objective=3088.34 imbalance=2.335 nsplit=0       \n",
      "Outer iteration 4 / 10\n",
      "  Iteration 19 (92.04 s, search 61.20 s): objective=3130.46 imbalance=1.035 nsplit=0       \n",
      "Objective improved: keep new clusters\n",
      "Outer iteration 5 / 10\n",
      "  Iteration 19 (110.04 s, search 73.21 s): objective=3112.63 imbalance=1.089 nsplit=0       \n",
      "Outer iteration 6 / 10\n",
      "  Iteration 19 (128.05 s, search 85.24 s): objective=3127.44 imbalance=1.227 nsplit=0       \n",
      "Outer iteration 7 / 10\n",
      "  Iteration 19 (146.02 s, search 97.25 s): objective=3118.56 imbalance=1.424 nsplit=0       \n",
      "Outer iteration 8 / 10\n",
      "  Iteration 19 (164.04 s, search 109.29 s): objective=3123.26 imbalance=1.190 nsplit=0       \n",
      "Outer iteration 9 / 10\n",
      "  Iteration 19 (182.08 s, search 121.33 s): objective=3129.87 imbalance=1.090 nsplit=0       \n",
      "Sampling a subset of 7200 / 8000 for training\n",
      "Clustering 7200 points in 267264D to 9 clusters, redo 10 times, 20 iterations\n",
      "  Preprocessing in 7.55 s\n",
      "Outer iteration 0 / 10\n",
      "  Iteration 19 (20.49 s, search 13.63 s): objective=3521.26 imbalance=1.334 nsplit=0       \n",
      "Objective improved: keep new clusters\n",
      "Outer iteration 1 / 10\n",
      "  Iteration 19 (42.76 s, search 28.24 s): objective=3535.28 imbalance=1.117 nsplit=0       \n",
      "Objective improved: keep new clusters\n",
      "Outer iteration 2 / 10\n",
      "  Iteration 19 (62.99 s, search 41.76 s): objective=3529.57 imbalance=1.087 nsplit=0       \n",
      "Outer iteration 3 / 10\n",
      "  Iteration 19 (83.25 s, search 55.26 s): objective=3524.76 imbalance=1.452 nsplit=0       \n",
      "Outer iteration 4 / 10\n",
      "  Iteration 19 (104.25 s, search 69.04 s): objective=3524.07 imbalance=1.283 nsplit=0       \n",
      "Outer iteration 5 / 10\n",
      "  Iteration 19 (127.28 s, search 84.11 s): objective=3534.6 imbalance=1.224 nsplit=0        \n",
      "Outer iteration 6 / 10\n",
      "  Iteration 19 (148.04 s, search 97.98 s): objective=3531.35 imbalance=1.353 nsplit=0       \n",
      "Outer iteration 7 / 10\n",
      "  Iteration 19 (168.33 s, search 111.52 s): objective=3533.16 imbalance=1.121 nsplit=0       \n",
      "Outer iteration 8 / 10\n",
      "  Iteration 19 (188.53 s, search 125.05 s): objective=3532.16 imbalance=1.090 nsplit=0       \n",
      "Outer iteration 9 / 10\n",
      "  Iteration 19 (208.80 s, search 138.56 s): objective=3534.11 imbalance=1.160 nsplit=0       \n",
      "Clustering 8000 points in 267264D to 10 clusters, redo 10 times, 20 iterations\n",
      "  Preprocessing in 3.76 s\n",
      "Outer iteration 0 / 10\n",
      "  Iteration 19 (24.56 s, search 16.10 s): objective=3909.97 imbalance=1.825 nsplit=0       \n",
      "Objective improved: keep new clusters\n",
      "Outer iteration 1 / 10\n",
      "  Iteration 19 (49.25 s, search 32.35 s): objective=3926.33 imbalance=1.137 nsplit=0       \n",
      "Objective improved: keep new clusters\n",
      "Outer iteration 2 / 10\n",
      "  Iteration 19 (72.30 s, search 47.74 s): objective=3910.93 imbalance=1.594 nsplit=0       \n",
      "Outer iteration 3 / 10\n",
      "  Iteration 19 (94.89 s, search 62.82 s): objective=3921.5 imbalance=1.144 nsplit=0        \n",
      "Outer iteration 4 / 10\n",
      "  Iteration 19 (117.42 s, search 77.88 s): objective=3902.38 imbalance=2.157 nsplit=0       \n",
      "Outer iteration 5 / 10\n",
      "  Iteration 19 (139.99 s, search 92.92 s): objective=3936.1 imbalance=1.168 nsplit=0        \n",
      "Objective improved: keep new clusters\n",
      "Outer iteration 6 / 10\n",
      "  Iteration 19 (162.53 s, search 107.96 s): objective=3930.24 imbalance=1.176 nsplit=0       \n",
      "Outer iteration 7 / 10\n",
      "  Iteration 19 (185.08 s, search 123.02 s): objective=3942 imbalance=1.115 nsplit=0          \n",
      "Objective improved: keep new clusters\n",
      "Outer iteration 8 / 10\n",
      "  Iteration 19 (207.69 s, search 138.08 s): objective=3930.82 imbalance=1.287 nsplit=0       \n",
      "Outer iteration 9 / 10\n",
      "  Iteration 19 (230.22 s, search 153.14 s): objective=3933.38 imbalance=1.047 nsplit=0       \n",
      "Clustering 8000 points in 267264D to 11 clusters, redo 10 times, 20 iterations\n",
      "  Preprocessing in 1.13 s\n",
      "Outer iteration 0 / 10\n",
      "  Iteration 19 (24.03 s, search 15.70 s): objective=3913.7 imbalance=1.661 nsplit=0        \n",
      "Objective improved: keep new clusters\n",
      "Outer iteration 1 / 10\n",
      "  Iteration 19 (48.81 s, search 32.00 s): objective=3939.5 imbalance=1.195 nsplit=0        \n",
      "Objective improved: keep new clusters\n",
      "Outer iteration 2 / 10\n",
      "  Iteration 19 (72.26 s, search 47.59 s): objective=3924.22 imbalance=1.362 nsplit=0       \n",
      "Outer iteration 3 / 10\n",
      "  Iteration 19 (94.75 s, search 62.65 s): objective=3934.46 imbalance=1.345 nsplit=0       \n",
      "Outer iteration 4 / 10\n",
      "  Iteration 19 (117.28 s, search 77.71 s): objective=3924.84 imbalance=1.436 nsplit=0       \n",
      "Outer iteration 5 / 10\n",
      "  Iteration 19 (139.80 s, search 92.75 s): objective=3941.07 imbalance=1.209 nsplit=0       \n",
      "Objective improved: keep new clusters\n",
      "Outer iteration 6 / 10\n",
      "  Iteration 19 (162.30 s, search 107.81 s): objective=3933.05 imbalance=1.229 nsplit=0       \n",
      "Outer iteration 7 / 10\n",
      "  Iteration 19 (184.83 s, search 122.89 s): objective=3943.12 imbalance=1.223 nsplit=0       \n",
      "Objective improved: keep new clusters\n",
      "Outer iteration 8 / 10\n",
      "  Iteration 19 (207.41 s, search 137.98 s): objective=3939.5 imbalance=1.270 nsplit=0        \n",
      "Outer iteration 9 / 10\n",
      "  Iteration 19 (229.86 s, search 153.02 s): objective=3942.85 imbalance=1.054 nsplit=0       \n",
      "Clustering 8000 points in 267264D to 12 clusters, redo 10 times, 20 iterations\n",
      "  Preprocessing in 1.12 s\n",
      "Outer iteration 0 / 10\n",
      "  Iteration 19 (24.17 s, search 15.83 s): objective=3917.9 imbalance=1.826 nsplit=0        \n",
      "Objective improved: keep new clusters\n",
      "Outer iteration 1 / 10\n",
      "  Iteration 19 (48.94 s, search 32.09 s): objective=3947.35 imbalance=1.178 nsplit=0       \n",
      "Objective improved: keep new clusters\n",
      "Outer iteration 2 / 10\n",
      "  Iteration 19 (72.29 s, search 47.71 s): objective=3930.85 imbalance=1.481 nsplit=0       \n",
      "Outer iteration 3 / 10\n",
      "  Iteration 19 (94.81 s, search 62.77 s): objective=3942.78 imbalance=1.363 nsplit=0       \n",
      "Outer iteration 4 / 10\n",
      "  Iteration 19 (117.34 s, search 77.82 s): objective=3936.56 imbalance=1.426 nsplit=0       \n",
      "Outer iteration 5 / 10\n",
      "  Iteration 19 (139.90 s, search 92.89 s): objective=3934.57 imbalance=1.407 nsplit=0       \n",
      "Outer iteration 6 / 10\n",
      "  Iteration 19 (162.41 s, search 107.95 s): objective=3947.12 imbalance=1.197 nsplit=0       \n",
      "Outer iteration 7 / 10\n",
      "  Iteration 19 (184.98 s, search 123.05 s): objective=3938.21 imbalance=1.352 nsplit=0       \n",
      "Outer iteration 8 / 10\n",
      "  Iteration 19 (207.58 s, search 138.16 s): objective=3946.66 imbalance=1.217 nsplit=0       \n",
      "Outer iteration 9 / 10\n",
      "  Iteration 19 (230.08 s, search 153.20 s): objective=3950.96 imbalance=1.079 nsplit=0       \n",
      "Objective improved: keep new clusters\n",
      "Clustering 8000 points in 267264D to 13 clusters, redo 10 times, 20 iterations\n",
      "  Preprocessing in 1.12 s\n",
      "Outer iteration 0 / 10\n",
      "  Iteration 19 (24.22 s, search 15.90 s): objective=3928.02 imbalance=1.586 nsplit=0       \n",
      "Objective improved: keep new clusters\n",
      "Outer iteration 1 / 10\n",
      "  Iteration 19 (49.06 s, search 32.25 s): objective=3951.46 imbalance=1.270 nsplit=0       \n",
      "Objective improved: keep new clusters\n",
      "Outer iteration 2 / 10\n",
      "  Iteration 19 (72.43 s, search 47.86 s): objective=3939.32 imbalance=1.525 nsplit=0       \n",
      "Outer iteration 3 / 10\n",
      "  Iteration 19 (94.97 s, search 62.93 s): objective=3943.55 imbalance=1.473 nsplit=0       \n",
      "Outer iteration 4 / 10\n",
      "  Iteration 19 (117.53 s, search 78.00 s): objective=3938.96 imbalance=1.332 nsplit=0       \n",
      "Outer iteration 5 / 10\n",
      "  Iteration 19 (140.13 s, search 93.09 s): objective=3942.31 imbalance=1.443 nsplit=0       \n",
      "Outer iteration 6 / 10\n",
      "  Iteration 19 (162.66 s, search 108.17 s): objective=3945.08 imbalance=1.238 nsplit=0       \n",
      "Outer iteration 7 / 10\n",
      "  Iteration 19 (185.26 s, search 123.26 s): objective=3941.57 imbalance=1.384 nsplit=0       \n",
      "Outer iteration 8 / 10\n",
      "  Iteration 19 (207.84 s, search 138.35 s): objective=3952.55 imbalance=1.249 nsplit=0       \n",
      "Objective improved: keep new clusters\n",
      "Outer iteration 9 / 10\n",
      "  Iteration 19 (230.37 s, search 153.43 s): objective=3952.94 imbalance=1.146 nsplit=0       \n",
      "Objective improved: keep new clusters\n",
      "Clustering 8000 points in 267264D to 14 clusters, redo 10 times, 20 iterations\n",
      "  Preprocessing in 1.12 s\n",
      "Outer iteration 0 / 10\n",
      "  Iteration 19 (24.57 s, search 16.05 s): objective=3929.14 imbalance=1.704 nsplit=0       \n",
      "Objective improved: keep new clusters\n",
      "Outer iteration 1 / 10\n",
      "  Iteration 19 (49.27 s, search 32.19 s): objective=3951.61 imbalance=1.385 nsplit=0       \n",
      "Objective improved: keep new clusters\n",
      "Outer iteration 2 / 10\n",
      "  Iteration 19 (72.44 s, search 47.68 s): objective=3940.33 imbalance=1.629 nsplit=0       \n",
      "Outer iteration 3 / 10\n",
      "  Iteration 19 (95.01 s, search 62.78 s): objective=3951.3 imbalance=1.356 nsplit=0        \n",
      "Outer iteration 4 / 10\n",
      "  Iteration 19 (117.62 s, search 77.87 s): objective=3947.81 imbalance=1.352 nsplit=0       \n",
      "Outer iteration 5 / 10\n",
      "  Iteration 19 (140.21 s, search 92.97 s): objective=3944.9 imbalance=1.705 nsplit=0        \n",
      "Outer iteration 6 / 10\n",
      "  Iteration 19 (162.74 s, search 108.01 s): objective=3957.61 imbalance=1.195 nsplit=0       \n",
      "Objective improved: keep new clusters\n",
      "Outer iteration 7 / 10\n",
      "  Iteration 19 (185.31 s, search 123.08 s): objective=3942.53 imbalance=1.477 nsplit=0       \n",
      "Outer iteration 8 / 10\n",
      "  Iteration 19 (207.90 s, search 138.18 s): objective=3963.76 imbalance=1.184 nsplit=0       \n",
      "Objective improved: keep new clusters\n",
      "Outer iteration 9 / 10\n",
      "  Iteration 19 (230.44 s, search 153.23 s): objective=3958.44 imbalance=1.166 nsplit=0       \n",
      "Clustering 8000 points in 267264D to 15 clusters, redo 10 times, 20 iterations\n",
      "  Preprocessing in 1.13 s\n",
      "Outer iteration 0 / 10\n",
      "  Iteration 19 (24.60 s, search 16.08 s): objective=3940.06 imbalance=1.617 nsplit=0       \n",
      "Objective improved: keep new clusters\n",
      "Outer iteration 1 / 10\n",
      "  Iteration 19 (49.50 s, search 32.37 s): objective=3953.38 imbalance=1.476 nsplit=0       \n",
      "Objective improved: keep new clusters\n",
      "Outer iteration 2 / 10\n",
      "  Iteration 19 (72.50 s, search 47.78 s): objective=3947.32 imbalance=1.552 nsplit=0       \n",
      "Outer iteration 3 / 10\n",
      "  Iteration 19 (95.05 s, search 62.85 s): objective=3957.72 imbalance=1.287 nsplit=0       \n",
      "Objective improved: keep new clusters\n",
      "Outer iteration 4 / 10\n",
      "  Iteration 19 (117.64 s, search 77.93 s): objective=3947.57 imbalance=1.448 nsplit=0       \n",
      "Outer iteration 5 / 10\n",
      "  Iteration 19 (142.55 s, search 94.31 s): objective=3945.88 imbalance=1.811 nsplit=0       \n",
      "Outer iteration 6 / 10\n",
      "  Iteration 19 (167.44 s, search 110.63 s): objective=3969.04 imbalance=1.192 nsplit=0       \n",
      "Objective improved: keep new clusters\n",
      "Outer iteration 7 / 10\n",
      "  Iteration 19 (190.08 s, search 125.77 s): objective=3942.88 imbalance=1.723 nsplit=0       \n",
      "Outer iteration 8 / 10\n",
      "  Iteration 19 (212.69 s, search 140.88 s): objective=3962.66 imbalance=1.213 nsplit=0       \n",
      "Outer iteration 9 / 10\n",
      "  Iteration 19 (235.32 s, search 155.98 s): objective=3962.15 imbalance=1.172 nsplit=0       \r"
     ]
    },
    {
     "data": {
      "text/plain": [
       "[<matplotlib.lines.Line2D at 0x746946a48790>]"
      ]
     },
     "execution_count": 13,
     "metadata": {},
     "output_type": "execute_result"
    },
    {
     "data": {
      "image/png": "[encoded data removed]",
      "text/plain": [
       "<Figure size 432x288 with 1 Axes>"
      ]
     },
     "metadata": {
      "needs_background": "light"
     },
     "output_type": "display_data"
    }
   ],
   "source": [
    "# Elbow Plot\n",
    "niter = 20\n",
    "verbose = True\n",
    "dim = X_train.shape[1]\n",
    "\n",
    "k_vals = [k for k in range(5, 16)]\n",
    "wccs = []\n",
    "for k in k_vals:\n",
    "    kmeans = faiss.Kmeans(dim, k, niter = niter, verbose = verbose, gpu = True, nredo = 10, spherical = True, max_points_per_centroid = 800)\n",
    "    kmeans.train(X_train)\n",
    "    wccs.append(kmeans.obj[-1])\n",
    "\n",
    "plt.plot(k_vals, wccs)"
   ]
  },
  {
   "cell_type": "code",
   "execution_count": 14,
   "id": "289102b9",
   "metadata": {
    "scrolled": true,
    "tags": []
   },
   "outputs": [
    {
     "name": "stdout",
     "output_type": "stream",
     "text": [
      "\n",
      "Clustering 8000 points in 267264D to 10 clusters, redo 10 times, 20 iterations\n",
      "  Preprocessing in 1.13 s\n",
      "Outer iteration 0 / 10\n",
      "  Iteration 19 (24.22 s, search 15.83 s): objective=3909.97 imbalance=1.825 nsplit=0       \n",
      "Objective improved: keep new clusters\n",
      "Outer iteration 1 / 10\n",
      "  Iteration 19 (49.22 s, search 32.24 s): objective=3926.33 imbalance=1.137 nsplit=0       \n",
      "Objective improved: keep new clusters\n",
      "Outer iteration 2 / 10\n",
      "  Iteration 19 (72.51 s, search 47.77 s): objective=3910.93 imbalance=1.594 nsplit=0       \n",
      "Outer iteration 3 / 10\n",
      "  Iteration 19 (95.08 s, search 62.87 s): objective=3921.5 imbalance=1.144 nsplit=0        \n",
      "Outer iteration 4 / 10\n",
      "  Iteration 19 (117.69 s, search 77.94 s): objective=3902.38 imbalance=2.157 nsplit=0       \n",
      "Outer iteration 5 / 10\n",
      "  Iteration 19 (140.34 s, search 93.09 s): objective=3936.1 imbalance=1.168 nsplit=0        \n",
      "Objective improved: keep new clusters\n",
      "Outer iteration 6 / 10\n",
      "  Iteration 19 (162.96 s, search 108.20 s): objective=3930.24 imbalance=1.176 nsplit=0       \n",
      "Outer iteration 7 / 10\n",
      "  Iteration 19 (185.52 s, search 123.25 s): objective=3942 imbalance=1.115 nsplit=0          \n",
      "Objective improved: keep new clusters\n",
      "Outer iteration 8 / 10\n",
      "  Iteration 19 (208.14 s, search 138.36 s): objective=3930.82 imbalance=1.287 nsplit=0       \n",
      "Outer iteration 9 / 10\n",
      "  Iteration 19 (230.80 s, search 153.51 s): objective=3933.38 imbalance=1.047 nsplit=0       \r"
     ]
    },
    {
     "data": {
      "text/plain": [
       "3941.995849609375"
      ]
     },
     "execution_count": 14,
     "metadata": {},
     "output_type": "execute_result"
    }
   ],
   "source": [
    "# K-means Clustering\n",
    "\n",
    "# ncentroids = NUM_PROMPTS\n",
    "ncentroids = 10 # Elbow point - based on objective (sum of cosine similarities)\n",
    "niter = 20\n",
    "verbose = True\n",
    "dim = X_train.shape[1]\n",
    "kmeans = faiss.Kmeans(dim, ncentroids, niter = niter, verbose = verbose, gpu = True, nredo = 10, spherical = True, max_points_per_centroid = 800)\n",
    "kmeans.train(X_train)"
   ]
  },
  {
   "cell_type": "code",
   "execution_count": 15,
   "id": "19cf0f0a",
   "metadata": {
    "tags": []
   },
   "outputs": [
    {
     "data": {
      "text/plain": [
       "array([[ 3.9564660e-03,  1.3734432e-03,  1.0179476e-02, ...,\n",
       "        -9.9493843e-07,  1.3232846e-06,  3.4375346e-06],\n",
       "       [ 4.4843750e-03,  1.5567022e-03,  1.1537718e-02, ...,\n",
       "         0.0000000e+00,  0.0000000e+00,  0.0000000e+00],\n",
       "       [ 3.8073631e-03,  1.3216824e-03,  9.7958539e-03, ...,\n",
       "        -2.3013863e-06, -5.9755757e-07, -2.0793714e-06],\n",
       "       ...,\n",
       "       [ 4.0952186e-03,  1.4216126e-03,  1.0536477e-02, ...,\n",
       "         0.0000000e+00,  0.0000000e+00,  0.0000000e+00],\n",
       "       [ 3.8270249e-03,  1.3285097e-03,  9.8464461e-03, ...,\n",
       "        -3.6758247e-05,  1.4072597e-06,  2.4572581e-05],\n",
       "       [ 4.3779956e-03,  1.5197742e-03,  1.1264019e-02, ...,\n",
       "         0.0000000e+00,  0.0000000e+00,  0.0000000e+00]], dtype=float32)"
      ]
     },
     "execution_count": 15,
     "metadata": {},
     "output_type": "execute_result"
    }
   ],
   "source": [
    "kmeans.centroids #cluster centers"
   ]
  },
  {
   "cell_type": "code",
   "execution_count": 16,
   "id": "61e726e9",
   "metadata": {
    "tags": []
   },
   "outputs": [
    {
     "name": "stdout",
     "output_type": "stream",
     "text": [
      "1.0000328\n",
      "1.0000116\n",
      "1.0000265\n",
      "1.0000083\n",
      "1.0000234\n",
      "1.0000138\n",
      "1.0000188\n",
      "1.0000561\n",
      "1.000029\n",
      "1.0000787\n"
     ]
    }
   ],
   "source": [
    "for centroid in kmeans.centroids:\n",
    "    print(np.linalg.norm(centroid))"
   ]
  },
  {
   "cell_type": "code",
   "execution_count": 17,
   "id": "e5e1fa18",
   "metadata": {
    "tags": []
   },
   "outputs": [
    {
     "data": {
      "text/plain": [
       "array([2543.39648438, 3777.36035156, 3844.76489258, 3873.64624023,\n",
       "       3886.29931641, 3893.71142578, 3897.71606445, 3899.32666016,\n",
       "       3900.16796875, 3901.00854492, 3902.31518555, 3903.97680664,\n",
       "       3906.01855469, 3907.69970703, 3908.87353516, 3909.52783203,\n",
       "       3909.85229492, 3909.93481445, 3909.95703125, 3909.96826172,\n",
       "       2595.61938477, 3795.13989258, 3829.18408203, 3857.1953125 ,\n",
       "       3882.04174805, 3904.94238281, 3915.52734375, 3919.96557617,\n",
       "       3921.98706055, 3923.15625   , 3924.20703125, 3925.01367188,\n",
       "       3925.51464844, 3925.7824707 , 3925.97485352, 3926.09423828,\n",
       "       3926.17822266, 3926.24121094, 3926.29931641, 3926.33496094,\n",
       "       2488.80200195, 3779.22412109, 3822.20141602, 3857.33642578,\n",
       "       3871.45703125, 3879.59570312, 3888.95800781, 3899.68945312,\n",
       "       3905.14306641, 3907.77294922, 3908.91625977, 3909.42480469,\n",
       "       3909.78833008, 3910.02368164, 3910.24560547, 3910.50683594,\n",
       "       3910.64013672, 3910.77124023, 3910.85717773, 3910.93310547,\n",
       "       2417.57177734, 3809.36645508, 3873.02758789, 3897.47387695,\n",
       "       3908.20068359, 3913.27636719, 3916.0144043 , 3917.49462891,\n",
       "       3918.29833984, 3918.85253906, 3919.29760742, 3919.59570312,\n",
       "       3919.88818359, 3920.1027832 , 3920.36694336, 3920.63549805,\n",
       "       3920.8762207 , 3921.09472656, 3921.3046875 , 3921.49682617,\n",
       "       2166.21972656, 3801.22802734, 3858.74829102, 3877.61938477,\n",
       "       3886.73339844, 3893.19604492, 3897.04711914, 3898.61791992,\n",
       "       3899.42382812, 3899.98193359, 3900.43457031, 3900.78857422,\n",
       "       3901.19970703, 3901.57324219, 3901.81665039, 3902.02270508,\n",
       "       3902.1574707 , 3902.27636719, 3902.32641602, 3902.37695312,\n",
       "       2511.73632812, 3766.98217773, 3827.6965332 , 3869.09521484,\n",
       "       3889.90136719, 3904.90527344, 3916.57006836, 3923.07983398,\n",
       "       3927.31201172, 3929.7746582 , 3931.19970703, 3932.125     ,\n",
       "       3932.70458984, 3933.18286133, 3933.75292969, 3934.21923828,\n",
       "       3934.67333984, 3935.06738281, 3935.54663086, 3936.10327148,\n",
       "       2477.73217773, 3795.5480957 , 3867.93652344, 3902.33935547,\n",
       "       3915.90063477, 3921.69311523, 3924.4453125 , 3925.90869141,\n",
       "       3926.85058594, 3927.5612793 , 3928.05786133, 3928.41699219,\n",
       "       3928.69824219, 3928.90917969, 3929.11743164, 3929.36547852,\n",
       "       3929.58105469, 3929.73779297, 3929.95214844, 3930.24047852,\n",
       "       2547.84716797, 3773.92724609, 3806.90429688, 3858.96411133,\n",
       "       3889.2512207 , 3911.40698242, 3925.47314453, 3933.74487305,\n",
       "       3937.49731445, 3939.30078125, 3940.31762695, 3940.94311523,\n",
       "       3941.36303711, 3941.6887207 , 3941.84545898, 3941.92675781,\n",
       "       3941.96459961, 3941.9909668 , 3941.99609375, 3941.99584961])"
      ]
     },
     "execution_count": 17,
     "metadata": {},
     "output_type": "execute_result"
    }
   ],
   "source": [
    "kmeans.obj #inertia at each iteration"
   ]
  },
  {
   "cell_type": "code",
   "execution_count": 18,
   "id": "ed2c340d",
   "metadata": {
    "tags": []
   },
   "outputs": [],
   "source": [
    "cos_similarities = X_train @ kmeans.centroids.T\n",
    "classifications_train = np.argmax(cos_similarities, axis=1)"
   ]
  },
  {
   "cell_type": "code",
   "execution_count": 19,
   "id": "90aae79f",
   "metadata": {
    "tags": []
   },
   "outputs": [
    {
     "data": {
      "text/plain": [
       "7    1107\n",
       "0    1086\n",
       "1    1015\n",
       "5     972\n",
       "3     956\n",
       "4     942\n",
       "2     601\n",
       "9     524\n",
       "8     446\n",
       "6     351\n",
       "dtype: int64"
      ]
     },
     "execution_count": 19,
     "metadata": {},
     "output_type": "execute_result"
    }
   ],
   "source": [
    "pd.Series(classifications_train).value_counts()"
   ]
  },
  {
   "cell_type": "code",
   "execution_count": 20,
   "id": "fc34c419-5d92-4dc6-8db4-9dc84b83a8d4",
   "metadata": {
    "tags": []
   },
   "outputs": [
    {
     "data": {
      "text/plain": [
       "[5, 1, 9, 5, 6, 6, 10, 6, 10, 3]"
      ]
     },
     "execution_count": 20,
     "metadata": {},
     "output_type": "execute_result"
    }
   ],
   "source": [
    "# Get most common label for each point classified to a centroid (same centroid)\n",
    "centroid_labels = [np.where(classifications_train == i)[0] for i in range(ncentroids)]\n",
    "max_label_per_centroid = [int(pd.Series(y_train[centroid_labels[i]]).value_counts().idxmax()) for i in range(ncentroids)]\n",
    "max_label_per_centroid"
   ]
  },
  {
   "cell_type": "code",
   "execution_count": 21,
   "id": "20e159a9-ef63-4a0e-8e94-52e041a5c416",
   "metadata": {
    "tags": []
   },
   "outputs": [],
   "source": [
    "centroid_to_label = {idx : max_label_per_centroid[idx] for idx in range(len(max_label_per_centroid))}"
   ]
  },
  {
   "cell_type": "code",
   "execution_count": 22,
   "id": "45760bd2-820d-462e-a8ef-8d054ed5dde4",
   "metadata": {
    "tags": []
   },
   "outputs": [
    {
     "data": {
      "text/plain": [
       "{0: 5, 1: 1, 2: 9, 3: 5, 4: 6, 5: 6, 6: 10, 7: 6, 8: 10, 9: 3}"
      ]
     },
     "execution_count": 22,
     "metadata": {},
     "output_type": "execute_result"
    }
   ],
   "source": [
    "centroid_to_label"
   ]
  },
  {
   "cell_type": "code",
   "execution_count": 23,
   "id": "b9cf2ac5-ce04-4efe-9828-041723e1f453",
   "metadata": {
    "tags": []
   },
   "outputs": [
    {
     "data": {
      "text/plain": [
       "array([ 5,  9,  9, ..., 10, 10, 10])"
      ]
     },
     "execution_count": 23,
     "metadata": {},
     "output_type": "execute_result"
    }
   ],
   "source": [
    "vectorized_map = np.vectorize(centroid_to_label.get)\n",
    "classifications_to_label = vectorized_map(classifications_train)\n",
    "\n",
    "classifications_to_label"
   ]
  },
  {
   "cell_type": "code",
   "execution_count": 24,
   "id": "c793f2dc-74de-4e3a-b0a8-3839b1be8dd9",
   "metadata": {
    "tags": []
   },
   "outputs": [
    {
     "name": "stdout",
     "output_type": "stream",
     "text": [
      "Prompt 1 Accuracy:  0.2975\n",
      "Prompt 2 Accuracy:  0.0\n",
      "Prompt 3 Accuracy:  0.6475\n",
      "Prompt 4 Accuracy:  0.0\n",
      "Prompt 5 Accuracy:  0.925\n",
      "Prompt 6 Accuracy:  0.7725\n",
      "Prompt 7 Accuracy:  0.0\n",
      "Prompt 8 Accuracy:  0.0\n",
      "Prompt 9 Accuracy:  0.235\n",
      "Prompt 10 Accuracy:  0.975\n"
     ]
    }
   ],
   "source": [
    "for i in range(10):\n",
    "    print(f\"Prompt {i + 1} Accuracy: \", np.mean(classifications_to_label[i * 800:(i + 1) * 800] == (i + 1)))"
   ]
  },
  {
   "cell_type": "code",
   "execution_count": 25,
   "id": "ac9d3497-d991-455d-a121-1a4c234314b0",
   "metadata": {
    "tags": []
   },
   "outputs": [
    {
     "name": "stdout",
     "output_type": "stream",
     "text": [
      "Overall Accuracy:  0.38525\n"
     ]
    }
   ],
   "source": [
    "print(f\"Overall Accuracy: \", np.mean(classifications_to_label == y_train))"
   ]
  },
  {
   "cell_type": "markdown",
   "id": "b8d32ef1-a624-4d32-abcb-8daacad47cdc",
   "metadata": {},
   "source": [
    "## Perform Inference on Test Set & Collect Test Accuracy"
   ]
  },
  {
   "cell_type": "code",
   "execution_count": 26,
   "id": "2431abbc-b684-4c06-8fd6-06c771a1c4fa",
   "metadata": {},
   "outputs": [],
   "source": [
    "cos_similarities = X_test @ kmeans.centroids.T\n",
    "classifications_test = np.argmax(cos_similarities, axis=1)"
   ]
  },
  {
   "cell_type": "code",
   "execution_count": 27,
   "id": "d9a7dd1c-884b-4bef-b538-6c0a65a6f7e4",
   "metadata": {},
   "outputs": [
    {
     "data": {
      "text/plain": [
       "1    271\n",
       "7    266\n",
       "0    257\n",
       "3    245\n",
       "4    236\n",
       "5    229\n",
       "2    158\n",
       "9    135\n",
       "8    120\n",
       "6     83\n",
       "dtype: int64"
      ]
     },
     "execution_count": 27,
     "metadata": {},
     "output_type": "execute_result"
    }
   ],
   "source": [
    "pd.Series(classifications_test).value_counts()"
   ]
  },
  {
   "cell_type": "code",
   "execution_count": 28,
   "id": "6fa74238-a2b3-4277-bcd6-88ab9d5caf4f",
   "metadata": {},
   "outputs": [
    {
     "data": {
      "text/plain": [
       "array([ 1,  9,  5, ..., 10, 10, 10])"
      ]
     },
     "execution_count": 28,
     "metadata": {},
     "output_type": "execute_result"
    }
   ],
   "source": [
    "classifications_to_label_test = vectorized_map(classifications_test)\n",
    "\n",
    "classifications_to_label_test"
   ]
  },
  {
   "cell_type": "code",
   "execution_count": 29,
   "id": "799e3a99-6659-44b7-becd-4d0825fd1957",
   "metadata": {},
   "outputs": [
    {
     "name": "stdout",
     "output_type": "stream",
     "text": [
      "Prompt 1 Accuracy:  0.31\n",
      "Prompt 2 Accuracy:  0.0\n",
      "Prompt 3 Accuracy:  0.665\n",
      "Prompt 4 Accuracy:  0.0\n",
      "Prompt 5 Accuracy:  0.935\n",
      "Prompt 6 Accuracy:  0.785\n",
      "Prompt 7 Accuracy:  0.0\n",
      "Prompt 8 Accuracy:  0.0\n",
      "Prompt 9 Accuracy:  0.28\n",
      "Prompt 10 Accuracy:  0.99\n"
     ]
    }
   ],
   "source": [
    "for i in range(10):\n",
    "    print(f\"Prompt {i + 1} Accuracy: \", np.mean(classifications_to_label_test[i * 200:(i + 1) * 200] == (i + 1)))"
   ]
  },
  {
   "cell_type": "code",
   "execution_count": 30,
   "id": "4f97cfa0-27da-4897-8e65-681b75ad51d7",
   "metadata": {},
   "outputs": [
    {
     "name": "stdout",
     "output_type": "stream",
     "text": [
      "Overall Accuracy:  0.3965\n"
     ]
    }
   ],
   "source": [
    "print(f\"Overall Accuracy: \", np.mean(classifications_to_label_test == y_test))"
   ]
  },
  {
   "cell_type": "markdown",
   "id": "ee076424-49c5-4245-a3a3-56fba51465ea",
   "metadata": {},
   "source": [
    "## Confusion Matrix of Results"
   ]
  },
  {
   "cell_type": "code",
   "execution_count": 31,
   "id": "b9175267-2fef-4f02-930e-c263ec396f91",
   "metadata": {
    "tags": []
   },
   "outputs": [],
   "source": [
    "from sklearn.metrics import confusion_matrix, ConfusionMatrixDisplay\n",
    "import matplotlib.pyplot as plt"
   ]
  },
  {
   "cell_type": "code",
   "execution_count": 32,
   "id": "3c2c3ac7-26e3-42d5-860a-918d735776c1",
   "metadata": {
    "tags": []
   },
   "outputs": [
    {
     "data": {
      "image/png": "[encoded data removed]",
      "text/plain": [
       "<Figure size 432x288 with 2 Axes>"
      ]
     },
     "metadata": {
      "needs_background": "light"
     },
     "output_type": "display_data"
    }
   ],
   "source": [
    "cm = confusion_matrix(y_train, classifications_to_label)\n",
    "disp = ConfusionMatrixDisplay(confusion_matrix=cm, display_labels=[f\"{i}\" for i in range(1, 11)])\n",
    "\n",
    "disp.plot()\n",
    "plt.title('Confusion Matrix for Train Set')\n",
    "plt.show()"
   ]
  },
  {
   "cell_type": "code",
   "execution_count": 33,
   "id": "03a45427-f767-4838-968e-c341eca03746",
   "metadata": {
    "tags": []
   },
   "outputs": [
    {
     "data": {
      "image/png": "[encoded data removed]",
      "text/plain": [
       "<Figure size 432x288 with 2 Axes>"
      ]
     },
     "metadata": {
      "needs_background": "light"
     },
     "output_type": "display_data"
    }
   ],
   "source": [
    "cm = confusion_matrix(y_test, classifications_to_label_test)\n",
    "disp = ConfusionMatrixDisplay(confusion_matrix=cm, display_labels=[f\"{i}\" for i in range(1, 11)])\n",
    "\n",
    "disp.plot()\n",
    "plt.title('Confusion Matrix for Test Set')\n",
    "plt.show()"
   ]
  },
  {
   "cell_type": "code",
   "execution_count": null,
   "id": "1322b9ab-2b94-4d00-95cf-1b3741b9f482",
   "metadata": {},
   "outputs": [],
   "source": []
  },
  {
   "cell_type": "code",
   "execution_count": null,
   "id": "de826fc3-e67f-45cb-bb74-15dfcbd3d18d",
   "metadata": {},
   "outputs": [],
   "source": []
  }
 ],
 "metadata": {
  "kernelspec": {
   "display_name": "Python 3 (ipykernel)",
   "language": "python",
   "name": "python3"
  },
  "language_info": {
   "codemirror_mode": {
    "name": "ipython",
    "version": 3
   },
   "file_extension": ".py",
   "mimetype": "text/x-python",
   "name": "python",
   "nbconvert_exporter": "python",
   "pygments_lexer": "ipython3",
   "version": "3.7.11"
  }
 },
 "nbformat": 4,
 "nbformat_minor": 5
}
