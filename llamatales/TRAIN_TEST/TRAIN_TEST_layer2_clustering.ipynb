{
 "cells": [
  {
   "cell_type": "markdown",
   "id": "64c867a4-b1c3-426b-b086-de071a726ebf",
   "metadata": {},
   "source": [
    "## Install Packages"
   ]
  },
  {
   "cell_type": "code",
   "execution_count": 1,
   "id": "80849741",
   "metadata": {
    "tags": []
   },
   "outputs": [
    {
     "name": "stdout",
     "output_type": "stream",
     "text": [
      "Collecting package metadata (current_repodata.json): \\ WARNING conda.models.version:get_matcher(541): Using .* with relational operator is superfluous and deprecated and will be removed in a future version of conda. Your spec was 1.7.1.*, but conda is ignoring the .* and treating it as 1.7.1\n",
      "done\n",
      "Solving environment: done\n",
      "\n",
      "\n",
      "==> WARNING: A newer version of conda exists. <==\n",
      "  current version: 4.14.0\n",
      "  latest version: 25.7.0\n",
      "\n",
      "Please update conda by running\n",
      "\n",
      "    $ conda update -n base -c conda-forge conda\n",
      "\n",
      "\n",
      "\n",
      "# All requested packages already installed.\n",
      "\n",
      "Retrieving notices: ...working... done\n",
      "Hit:1 http://archive.ubuntu.com/ubuntu bionic InRelease\n",
      "Get:2 http://security.ubuntu.com/ubuntu bionic-security InRelease [102 kB]\n",
      "Get:3 http://archive.ubuntu.com/ubuntu bionic-updates InRelease [102 kB]      \n",
      "Get:4 http://archive.ubuntu.com/ubuntu bionic-backports InRelease [102 kB]     \n",
      "Fetched 305 kB in 1s (340 kB/s)                            \n",
      "Reading package lists... Done\n",
      "Reading package lists... Done\n",
      "Building dependency tree       \n",
      "Reading state information... Done\n",
      "libatlas-base-dev is already the newest version (3.10.3-5).\n",
      "0 upgraded, 0 newly installed, 0 to remove and 83 not upgraded.\n"
     ]
    }
   ],
   "source": [
    "!conda install -y -c conda-forge faiss-gpu\n",
    "!apt-get -y update\n",
    "!apt-get -y install libatlas-base-dev"
   ]
  },
  {
   "cell_type": "markdown",
   "id": "ea6af1a5-1aef-4743-bfa6-7392ed97dbe7",
   "metadata": {},
   "source": [
    "## Load Data"
   ]
  },
  {
   "cell_type": "code",
   "execution_count": 2,
   "id": "e26dddbf",
   "metadata": {
    "tags": []
   },
   "outputs": [],
   "source": [
    "import pandas as pd\n",
    "import numpy as np\n",
    "import matplotlib.pyplot as plt\n",
    "\n",
    "from sklearn.random_projection import GaussianRandomProjection\n",
    "\n",
    "from tqdm import tqdm\n",
    "\n",
    "import faiss"
   ]
  },
  {
   "cell_type": "code",
   "execution_count": 3,
   "id": "89c2cffa",
   "metadata": {
    "tags": []
   },
   "outputs": [
    {
     "data": {
      "text/html": [
       "<div>\n",
       "<style scoped>\n",
       "    .dataframe tbody tr th:only-of-type {\n",
       "        vertical-align: middle;\n",
       "    }\n",
       "\n",
       "    .dataframe tbody tr th {\n",
       "        vertical-align: top;\n",
       "    }\n",
       "\n",
       "    .dataframe thead th {\n",
       "        text-align: right;\n",
       "    }\n",
       "</style>\n",
       "<table border=\"1\" class=\"dataframe\">\n",
       "  <thead>\n",
       "    <tr style=\"text-align: right;\">\n",
       "      <th></th>\n",
       "      <th>prompt_id</th>\n",
       "      <th>prompt</th>\n",
       "      <th>story</th>\n",
       "      <th>hidden_state_file</th>\n",
       "      <th>len_generated_story</th>\n",
       "      <th>len_new_story</th>\n",
       "    </tr>\n",
       "  </thead>\n",
       "  <tbody>\n",
       "    <tr>\n",
       "      <th>0</th>\n",
       "      <td>1</td>\n",
       "      <td>Once upon a time there was a dragon</td>\n",
       "      <td>Once upon a time there was a dragon named Blaz...</td>\n",
       "      <td>./hidden_states/prompt_1.npz</td>\n",
       "      <td>270</td>\n",
       "      <td>271</td>\n",
       "    </tr>\n",
       "    <tr>\n",
       "      <th>1</th>\n",
       "      <td>1</td>\n",
       "      <td>Once upon a time there was a dragon</td>\n",
       "      <td>Once upon a time there was a dragon named Spar...</td>\n",
       "      <td>./hidden_states/prompt_1.npz</td>\n",
       "      <td>349</td>\n",
       "      <td>350</td>\n",
       "    </tr>\n",
       "    <tr>\n",
       "      <th>2</th>\n",
       "      <td>1</td>\n",
       "      <td>Once upon a time there was a dragon</td>\n",
       "      <td>Once upon a time there was a dragon named Scor...</td>\n",
       "      <td>./hidden_states/prompt_1.npz</td>\n",
       "      <td>278</td>\n",
       "      <td>278</td>\n",
       "    </tr>\n",
       "    <tr>\n",
       "      <th>3</th>\n",
       "      <td>1</td>\n",
       "      <td>Once upon a time there was a dragon</td>\n",
       "      <td>Once upon a time there was a dragon. The drago...</td>\n",
       "      <td>./hidden_states/prompt_1.npz</td>\n",
       "      <td>117</td>\n",
       "      <td>118</td>\n",
       "    </tr>\n",
       "    <tr>\n",
       "      <th>4</th>\n",
       "      <td>1</td>\n",
       "      <td>Once upon a time there was a dragon</td>\n",
       "      <td>Once upon a time there was a dragon. The drago...</td>\n",
       "      <td>./hidden_states/prompt_1.npz</td>\n",
       "      <td>129</td>\n",
       "      <td>130</td>\n",
       "    </tr>\n",
       "    <tr>\n",
       "      <th>...</th>\n",
       "      <td>...</td>\n",
       "      <td>...</td>\n",
       "      <td>...</td>\n",
       "      <td>...</td>\n",
       "      <td>...</td>\n",
       "      <td>...</td>\n",
       "    </tr>\n",
       "    <tr>\n",
       "      <th>9995</th>\n",
       "      <td>10</td>\n",
       "      <td>Once upon a time there was a poor boy</td>\n",
       "      <td>Once upon a time there was a poor boy named Ti...</td>\n",
       "      <td>./hidden_states/prompt_10.npz</td>\n",
       "      <td>289</td>\n",
       "      <td>290</td>\n",
       "    </tr>\n",
       "    <tr>\n",
       "      <th>9996</th>\n",
       "      <td>10</td>\n",
       "      <td>Once upon a time there was a poor boy</td>\n",
       "      <td>Once upon a time there was a poor boy named Ti...</td>\n",
       "      <td>./hidden_states/prompt_10.npz</td>\n",
       "      <td>119</td>\n",
       "      <td>119</td>\n",
       "    </tr>\n",
       "    <tr>\n",
       "      <th>9997</th>\n",
       "      <td>10</td>\n",
       "      <td>Once upon a time there was a poor boy</td>\n",
       "      <td>Once upon a time there was a poor boy named Ti...</td>\n",
       "      <td>./hidden_states/prompt_10.npz</td>\n",
       "      <td>127</td>\n",
       "      <td>128</td>\n",
       "    </tr>\n",
       "    <tr>\n",
       "      <th>9998</th>\n",
       "      <td>10</td>\n",
       "      <td>Once upon a time there was a poor boy</td>\n",
       "      <td>Once upon a time there was a poor boy named Ti...</td>\n",
       "      <td>./hidden_states/prompt_10.npz</td>\n",
       "      <td>441</td>\n",
       "      <td>441</td>\n",
       "    </tr>\n",
       "    <tr>\n",
       "      <th>9999</th>\n",
       "      <td>10</td>\n",
       "      <td>Once upon a time there was a poor boy</td>\n",
       "      <td>Once upon a time there was a poor boy named Ti...</td>\n",
       "      <td>./hidden_states/prompt_10.npz</td>\n",
       "      <td>520</td>\n",
       "      <td>521</td>\n",
       "    </tr>\n",
       "  </tbody>\n",
       "</table>\n",
       "<p>10000 rows × 6 columns</p>\n",
       "</div>"
      ],
      "text/plain": [
       "      prompt_id                                 prompt  \\\n",
       "0             1    Once upon a time there was a dragon   \n",
       "1             1    Once upon a time there was a dragon   \n",
       "2             1    Once upon a time there was a dragon   \n",
       "3             1    Once upon a time there was a dragon   \n",
       "4             1    Once upon a time there was a dragon   \n",
       "...         ...                                    ...   \n",
       "9995         10  Once upon a time there was a poor boy   \n",
       "9996         10  Once upon a time there was a poor boy   \n",
       "9997         10  Once upon a time there was a poor boy   \n",
       "9998         10  Once upon a time there was a poor boy   \n",
       "9999         10  Once upon a time there was a poor boy   \n",
       "\n",
       "                                                  story  \\\n",
       "0     Once upon a time there was a dragon named Blaz...   \n",
       "1     Once upon a time there was a dragon named Spar...   \n",
       "2     Once upon a time there was a dragon named Scor...   \n",
       "3     Once upon a time there was a dragon. The drago...   \n",
       "4     Once upon a time there was a dragon. The drago...   \n",
       "...                                                 ...   \n",
       "9995  Once upon a time there was a poor boy named Ti...   \n",
       "9996  Once upon a time there was a poor boy named Ti...   \n",
       "9997  Once upon a time there was a poor boy named Ti...   \n",
       "9998  Once upon a time there was a poor boy named Ti...   \n",
       "9999  Once upon a time there was a poor boy named Ti...   \n",
       "\n",
       "                  hidden_state_file  len_generated_story  len_new_story  \n",
       "0      ./hidden_states/prompt_1.npz                  270            271  \n",
       "1      ./hidden_states/prompt_1.npz                  349            350  \n",
       "2      ./hidden_states/prompt_1.npz                  278            278  \n",
       "3      ./hidden_states/prompt_1.npz                  117            118  \n",
       "4      ./hidden_states/prompt_1.npz                  129            130  \n",
       "...                             ...                  ...            ...  \n",
       "9995  ./hidden_states/prompt_10.npz                  289            290  \n",
       "9996  ./hidden_states/prompt_10.npz                  119            119  \n",
       "9997  ./hidden_states/prompt_10.npz                  127            128  \n",
       "9998  ./hidden_states/prompt_10.npz                  441            441  \n",
       "9999  ./hidden_states/prompt_10.npz                  520            521  \n",
       "\n",
       "[10000 rows x 6 columns]"
      ]
     },
     "execution_count": 3,
     "metadata": {},
     "output_type": "execute_result"
    }
   ],
   "source": [
    "df = pd.read_csv(\"../story_dataset.csv\")\n",
    "df"
   ]
  },
  {
   "cell_type": "code",
   "execution_count": 4,
   "id": "c081cc09",
   "metadata": {
    "tags": []
   },
   "outputs": [
    {
     "data": {
      "text/plain": [
       "522"
      ]
     },
     "execution_count": 4,
     "metadata": {},
     "output_type": "execute_result"
    }
   ],
   "source": [
    "max_story_len = max(df[\"len_generated_story\"])\n",
    "max_story_len"
   ]
  },
  {
   "cell_type": "code",
   "execution_count": 5,
   "id": "212c067a",
   "metadata": {
    "scrolled": true,
    "tags": []
   },
   "outputs": [
    {
     "name": "stderr",
     "output_type": "stream",
     "text": [
      "100%|███████████████████████████████████████████████████████████████████████████████| 1000/1000 [04:31<00:00,  3.68it/s]\n",
      "100%|███████████████████████████████████████████████████████████████████████████████| 1000/1000 [04:05<00:00,  4.07it/s]\n",
      "100%|███████████████████████████████████████████████████████████████████████████████| 1000/1000 [03:44<00:00,  4.46it/s]\n",
      "100%|███████████████████████████████████████████████████████████████████████████████| 1000/1000 [04:14<00:00,  3.92it/s]\n",
      "100%|███████████████████████████████████████████████████████████████████████████████| 1000/1000 [04:13<00:00,  3.94it/s]\n",
      "100%|███████████████████████████████████████████████████████████████████████████████| 1000/1000 [04:04<00:00,  4.09it/s]\n",
      "100%|███████████████████████████████████████████████████████████████████████████████| 1000/1000 [04:06<00:00,  4.06it/s]\n",
      "100%|███████████████████████████████████████████████████████████████████████████████| 1000/1000 [03:20<00:00,  4.99it/s]\n",
      "100%|███████████████████████████████████████████████████████████████████████████████| 1000/1000 [04:12<00:00,  3.96it/s]\n",
      "100%|███████████████████████████████████████████████████████████████████████████████| 1000/1000 [04:38<00:00,  3.58it/s]\n"
     ]
    }
   ],
   "source": [
    "hidden_states_by_layer = {}\n",
    "NUM_PROMPTS = 10\n",
    "\n",
    "for prompt_id in range(1, NUM_PROMPTS + 1):\n",
    "    with np.load(f'../hidden_states/prompt_{prompt_id}.npz') as loaded_data:\n",
    "        for i in tqdm(range(1000)):\n",
    "            curr_hidden_states = loaded_data[f\"arr_{i}\"][0]\n",
    "#             print(curr_hidden_states.shape)\n",
    "            for layer in range(2, 3):\n",
    "                padded_arr = np.zeros((max_story_len, 512))\n",
    "                padded_arr_len = len(curr_hidden_states[layer][0])\n",
    "                \n",
    "                padded_arr[:padded_arr_len] = curr_hidden_states[layer][0]\n",
    "                \n",
    "                padded_arr = padded_arr.flatten().astype('float32') #FAISS expects data in type float32 instead of float64 - saves memory too!\n",
    "#                 print(padded_arr.shape)\n",
    "                \n",
    "                if(f\"layer_{layer}\" in hidden_states_by_layer):\n",
    "                    hidden_states_by_layer[f\"layer_{layer}\"].append(padded_arr)\n",
    "                else:\n",
    "                    hidden_states_by_layer[f\"layer_{layer}\"] = [padded_arr]"
   ]
  },
  {
   "cell_type": "code",
   "execution_count": 6,
   "id": "ad23eb70",
   "metadata": {
    "tags": []
   },
   "outputs": [
    {
     "data": {
      "text/plain": [
       "(10000, 267264)"
      ]
     },
     "execution_count": 6,
     "metadata": {},
     "output_type": "execute_result"
    }
   ],
   "source": [
    "layer_hs_array = np.array(hidden_states_by_layer[\"layer_2\"])\n",
    "layer_hs_array.shape"
   ]
  },
  {
   "cell_type": "markdown",
   "id": "e44eecd8-9f29-457b-8f65-d8eae3b84eb8",
   "metadata": {},
   "source": [
    "## Layer 2 Clustering"
   ]
  },
  {
   "cell_type": "code",
   "execution_count": 7,
   "id": "49cf7b1b",
   "metadata": {
    "tags": []
   },
   "outputs": [],
   "source": [
    "# Use original vectors for clustering - uncomment next line and comment out last two lines\n",
    "\n",
    "dim_reduced_vecs = layer_hs_array\n",
    "\n",
    "# random_projector = GaussianRandomProjection(random_state = 42)\n",
    "# dim_reduced_vecs = random_projector.fit_transform(layer_hs_array).astype('float32')"
   ]
  },
  {
   "cell_type": "code",
   "execution_count": 8,
   "id": "b9257701",
   "metadata": {
    "tags": []
   },
   "outputs": [
    {
     "data": {
      "text/plain": [
       "(10000, 267264)"
      ]
     },
     "execution_count": 8,
     "metadata": {},
     "output_type": "execute_result"
    }
   ],
   "source": [
    "dim_reduced_vecs = np.array([v / np.linalg.norm(v) for v in dim_reduced_vecs])\n",
    "dim_reduced_vecs.shape"
   ]
  },
  {
   "cell_type": "code",
   "execution_count": 9,
   "id": "22e1c2a5-03fa-43fd-90d4-609a0d949829",
   "metadata": {
    "tags": []
   },
   "outputs": [
    {
     "data": {
      "text/plain": [
       "array([ 1,  1,  1, ..., 10, 10, 10])"
      ]
     },
     "execution_count": 9,
     "metadata": {},
     "output_type": "execute_result"
    }
   ],
   "source": [
    "prompt_ids = df[\"prompt_id\"]\n",
    "prompt_ids = prompt_ids.to_numpy()\n",
    "prompt_ids"
   ]
  },
  {
   "cell_type": "code",
   "execution_count": 10,
   "id": "bd963a3c-0ad1-416a-9fc6-a13bf2422fcd",
   "metadata": {},
   "outputs": [],
   "source": [
    "X_train = np.zeros((int(0.8 * dim_reduced_vecs.shape[0]), dim_reduced_vecs.shape[1]), dtype = np.float32)\n",
    "y_train = np.zeros(int(0.8 * dim_reduced_vecs.shape[0]))\n",
    "\n",
    "X_test = np.zeros((int(0.2 * dim_reduced_vecs.shape[0]), dim_reduced_vecs.shape[1]), dtype = np.float32)\n",
    "y_test = np.zeros(int(0.2 * dim_reduced_vecs.shape[0]))"
   ]
  },
  {
   "cell_type": "code",
   "execution_count": 11,
   "id": "6b84c6a1-29cc-4096-9eb1-420301a7065f",
   "metadata": {},
   "outputs": [],
   "source": [
    "for i in range(10):\n",
    "    X_train[i * 800 : (i + 1) * 800] = dim_reduced_vecs[i * 1000 : (i * 1000) + 800]\n",
    "    y_train[i * 800 : (i + 1) * 800] = prompt_ids[i * 1000 : (i * 1000) + 800]\n",
    "    \n",
    "    X_test[i * 200 : (i + 1) * 200] = dim_reduced_vecs[(i * 1000) + 800 : (i + 1) * 1000]\n",
    "    y_test[i * 200 : (i + 1) * 200] = prompt_ids[(i * 1000) + 800 : (i + 1) * 1000]"
   ]
  },
  {
   "cell_type": "code",
   "execution_count": 12,
   "id": "e7c2f695-573c-4abe-ab7b-eaa4a1661cd2",
   "metadata": {},
   "outputs": [
    {
     "name": "stdout",
     "output_type": "stream",
     "text": [
      "(8000, 267264)\n",
      "(8000,)\n",
      "(2000, 267264)\n",
      "(2000,)\n"
     ]
    }
   ],
   "source": [
    "print(X_train.shape)\n",
    "print(y_train.shape)\n",
    "print(X_test.shape)\n",
    "print(y_test.shape)"
   ]
  },
  {
   "cell_type": "code",
   "execution_count": 13,
   "id": "8aebf88b-1d51-48d2-945c-311b5fc70963",
   "metadata": {},
   "outputs": [
    {
     "name": "stdout",
     "output_type": "stream",
     "text": [
      "Sampling a subset of 4000 / 8000 for training\n",
      "Clustering 4000 points in 267264D to 5 clusters, redo 10 times, 20 iterations\n",
      "  Preprocessing in 3.89 s\n",
      "Outer iteration 0 / 10\n",
      "  Iteration 19 (10.97 s, search 7.31 s): objective=1933.05 imbalance=1.090 nsplit=0       \n",
      "Objective improved: keep new clusters\n",
      "Outer iteration 1 / 10\n",
      "  Iteration 19 (21.92 s, search 14.59 s): objective=1933.02 imbalance=1.118 nsplit=0       \n",
      "Outer iteration 2 / 10\n",
      "  Iteration 19 (32.89 s, search 21.88 s): objective=1926.5 imbalance=1.033 nsplit=0        \n",
      "Outer iteration 3 / 10\n",
      "  Iteration 19 (43.85 s, search 29.18 s): objective=1932.21 imbalance=1.122 nsplit=0       \n",
      "Outer iteration 4 / 10\n",
      "  Iteration 19 (54.82 s, search 36.48 s): objective=1927.68 imbalance=1.262 nsplit=0       \n",
      "Outer iteration 5 / 10\n",
      "  Iteration 19 (65.79 s, search 43.79 s): objective=1923.89 imbalance=1.093 nsplit=0       \n",
      "Outer iteration 6 / 10\n",
      "  Iteration 19 (76.76 s, search 51.08 s): objective=1933.16 imbalance=1.127 nsplit=0       \n",
      "Objective improved: keep new clusters\n",
      "Outer iteration 7 / 10\n",
      "  Iteration 19 (87.72 s, search 58.38 s): objective=1924.92 imbalance=1.339 nsplit=0       \n",
      "Outer iteration 8 / 10\n",
      "  Iteration 19 (98.72 s, search 65.69 s): objective=1924.74 imbalance=1.058 nsplit=0       \n",
      "Outer iteration 9 / 10\n",
      "  Iteration 19 (109.68 s, search 73.00 s): objective=1931.24 imbalance=1.095 nsplit=0       \n",
      "Sampling a subset of 4800 / 8000 for training\n",
      "Clustering 4800 points in 267264D to 6 clusters, redo 10 times, 20 iterations\n",
      "  Preprocessing in 3.45 s\n",
      "Outer iteration 0 / 10\n",
      "  Iteration 19 (13.21 s, search 8.81 s): objective=2314.6 imbalance=1.302 nsplit=0        \n",
      "Objective improved: keep new clusters\n",
      "Outer iteration 1 / 10\n",
      "  Iteration 19 (26.40 s, search 17.61 s): objective=2323.88 imbalance=1.123 nsplit=0       \n",
      "Objective improved: keep new clusters\n",
      "Outer iteration 2 / 10\n",
      "  Iteration 19 (39.60 s, search 26.41 s): objective=2324.33 imbalance=1.125 nsplit=0       \n",
      "Objective improved: keep new clusters\n",
      "Outer iteration 3 / 10\n",
      "  Iteration 19 (52.80 s, search 35.21 s): objective=2325.01 imbalance=1.126 nsplit=0       \n",
      "Objective improved: keep new clusters\n",
      "Outer iteration 4 / 10\n",
      "  Iteration 19 (65.99 s, search 44.01 s): objective=2322.84 imbalance=1.122 nsplit=0       \n",
      "Outer iteration 5 / 10\n",
      "  Iteration 19 (79.19 s, search 52.82 s): objective=2322.02 imbalance=1.176 nsplit=0       \n",
      "Outer iteration 6 / 10\n",
      "  Iteration 19 (92.39 s, search 61.62 s): objective=2311.91 imbalance=1.033 nsplit=0       \n",
      "Outer iteration 7 / 10\n",
      "  Iteration 19 (105.60 s, search 70.43 s): objective=2314.49 imbalance=1.015 nsplit=0       \n",
      "Outer iteration 8 / 10\n",
      "  Iteration 19 (118.80 s, search 79.23 s): objective=2322.19 imbalance=1.178 nsplit=0       \n",
      "Outer iteration 9 / 10\n",
      "  Iteration 19 (132.00 s, search 88.03 s): objective=2323.59 imbalance=1.114 nsplit=0       \n",
      "Sampling a subset of 5600 / 8000 for training\n",
      "Clustering 5600 points in 267264D to 7 clusters, redo 10 times, 20 iterations\n",
      "  Preprocessing in 3.80 s\n",
      "Outer iteration 0 / 10\n",
      "  Iteration 19 (15.37 s, search 10.24 s): objective=2719.58 imbalance=1.199 nsplit=0       \n",
      "Objective improved: keep new clusters\n",
      "Outer iteration 1 / 10\n",
      "  Iteration 19 (30.76 s, search 20.50 s): objective=2720.03 imbalance=1.051 nsplit=0       \n",
      "Objective improved: keep new clusters\n",
      "Outer iteration 2 / 10\n",
      "  Iteration 19 (46.15 s, search 30.77 s): objective=2718.76 imbalance=1.067 nsplit=0       \n",
      "Outer iteration 3 / 10\n",
      "  Iteration 19 (61.52 s, search 41.02 s): objective=2713.75 imbalance=1.118 nsplit=0       \n",
      "Outer iteration 4 / 10\n",
      "  Iteration 19 (76.87 s, search 51.27 s): objective=2719.88 imbalance=1.208 nsplit=0       \n",
      "Outer iteration 5 / 10\n",
      "  Iteration 19 (92.27 s, search 61.52 s): objective=2716.97 imbalance=1.112 nsplit=0       \n",
      "Outer iteration 6 / 10\n",
      "  Iteration 19 (107.62 s, search 71.75 s): objective=2720.74 imbalance=1.035 nsplit=0       \n",
      "Objective improved: keep new clusters\n",
      "Outer iteration 7 / 10\n",
      "  Iteration 19 (122.99 s, search 82.01 s): objective=2709.34 imbalance=1.050 nsplit=0       \n",
      "Outer iteration 8 / 10\n",
      "  Iteration 19 (138.35 s, search 92.24 s): objective=2722.14 imbalance=1.036 nsplit=0       \n",
      "Objective improved: keep new clusters\n",
      "Outer iteration 9 / 10\n",
      "  Iteration 19 (153.71 s, search 102.49 s): objective=2720.76 imbalance=1.038 nsplit=0       \n",
      "Sampling a subset of 6400 / 8000 for training\n",
      "Clustering 6400 points in 267264D to 8 clusters, redo 10 times, 20 iterations\n",
      "  Preprocessing in 4.17 s\n",
      "Outer iteration 0 / 10\n",
      "  Iteration 19 (17.54 s, search 11.72 s): objective=3114 imbalance=1.134 nsplit=0          \n",
      "Objective improved: keep new clusters\n",
      "Outer iteration 1 / 10\n",
      "  Iteration 19 (35.09 s, search 23.45 s): objective=3114.63 imbalance=1.166 nsplit=0       \n",
      "Objective improved: keep new clusters\n",
      "Outer iteration 2 / 10\n",
      "  Iteration 19 (52.61 s, search 35.16 s): objective=3090.16 imbalance=1.790 nsplit=0       \n",
      "Outer iteration 3 / 10\n",
      "  Iteration 19 (70.18 s, search 46.90 s): objective=3101.99 imbalance=1.297 nsplit=0       \n",
      "Outer iteration 4 / 10\n",
      "  Iteration 19 (87.76 s, search 58.65 s): objective=3114.08 imbalance=1.032 nsplit=0       \n",
      "Outer iteration 5 / 10\n",
      "  Iteration 19 (105.33 s, search 70.39 s): objective=3100.28 imbalance=1.102 nsplit=0       \n",
      "Outer iteration 6 / 10\n",
      "  Iteration 19 (122.88 s, search 82.12 s): objective=3112.84 imbalance=1.131 nsplit=0       \n",
      "Outer iteration 7 / 10\n",
      "  Iteration 19 (140.46 s, search 93.86 s): objective=3109.4 imbalance=1.281 nsplit=0        \n",
      "Outer iteration 8 / 10\n",
      "  Iteration 19 (158.03 s, search 105.61 s): objective=3111.19 imbalance=1.055 nsplit=0       \n",
      "Outer iteration 9 / 10\n",
      "  Iteration 19 (175.59 s, search 117.33 s): objective=3112.65 imbalance=1.303 nsplit=0       \n",
      "Sampling a subset of 7200 / 8000 for training\n",
      "Clustering 7200 points in 267264D to 9 clusters, redo 10 times, 20 iterations\n",
      "  Preprocessing in 4.51 s\n",
      "Outer iteration 0 / 10\n",
      "  Iteration 19 (19.75 s, search 13.20 s): objective=3517.25 imbalance=1.043 nsplit=0       \n",
      "Objective improved: keep new clusters\n",
      "Outer iteration 1 / 10\n",
      "  Iteration 19 (39.48 s, search 26.37 s): objective=3517.27 imbalance=1.107 nsplit=0       \n",
      "Objective improved: keep new clusters\n",
      "Outer iteration 2 / 10\n",
      "  Iteration 19 (59.23 s, search 39.55 s): objective=3510.27 imbalance=1.049 nsplit=0       \n",
      "Outer iteration 3 / 10\n",
      "  Iteration 19 (78.98 s, search 52.74 s): objective=3516.98 imbalance=1.123 nsplit=0       \n",
      "Outer iteration 4 / 10\n",
      "  Iteration 19 (98.72 s, search 65.93 s): objective=3517.98 imbalance=1.101 nsplit=0       \n",
      "Objective improved: keep new clusters\n",
      "Outer iteration 5 / 10\n",
      "  Iteration 19 (118.47 s, search 79.13 s): objective=3519.35 imbalance=1.208 nsplit=0       \n",
      "Objective improved: keep new clusters\n",
      "Outer iteration 6 / 10\n",
      "  Iteration 19 (138.23 s, search 92.31 s): objective=3515.52 imbalance=1.378 nsplit=0       \n",
      "Outer iteration 7 / 10\n",
      "  Iteration 19 (157.98 s, search 105.49 s): objective=3510.65 imbalance=1.300 nsplit=0       \n",
      "Outer iteration 8 / 10\n",
      "  Iteration 19 (177.69 s, search 118.65 s): objective=3513.81 imbalance=1.082 nsplit=0       \n",
      "Outer iteration 9 / 10\n",
      "  Iteration 19 (197.43 s, search 131.83 s): objective=3516.93 imbalance=1.069 nsplit=0       \n",
      "Clustering 8000 points in 267264D to 10 clusters, redo 10 times, 20 iterations\n",
      "  Preprocessing in 1.12 s\n",
      "Outer iteration 0 / 10\n",
      "  Iteration 19 (22.05 s, search 14.69 s): objective=3904.32 imbalance=1.399 nsplit=0       \n",
      "Objective improved: keep new clusters\n",
      "Outer iteration 1 / 10\n",
      "  Iteration 19 (44.09 s, search 29.40 s): objective=3909.43 imbalance=1.155 nsplit=0       \n",
      "Objective improved: keep new clusters\n",
      "Outer iteration 2 / 10\n",
      "  Iteration 19 (66.10 s, search 44.08 s): objective=3910.24 imbalance=1.239 nsplit=0       \n",
      "Objective improved: keep new clusters\n",
      "Outer iteration 3 / 10\n",
      "  Iteration 19 (88.15 s, search 58.78 s): objective=3914.18 imbalance=1.074 nsplit=0       \n",
      "Objective improved: keep new clusters\n",
      "Outer iteration 4 / 10\n",
      "  Iteration 19 (110.21 s, search 73.49 s): objective=3884.97 imbalance=2.140 nsplit=0       \n",
      "Outer iteration 5 / 10\n",
      "  Iteration 19 (132.24 s, search 88.18 s): objective=3917.73 imbalance=1.120 nsplit=0       \n",
      "Objective improved: keep new clusters\n",
      "Outer iteration 6 / 10\n",
      "  Iteration 19 (154.25 s, search 102.87 s): objective=3910.89 imbalance=1.257 nsplit=0       \n",
      "Outer iteration 7 / 10\n",
      "  Iteration 19 (176.29 s, search 117.56 s): objective=3921.58 imbalance=1.112 nsplit=0       \n",
      "Objective improved: keep new clusters\n",
      "Outer iteration 8 / 10\n",
      "  Iteration 19 (198.30 s, search 132.24 s): objective=3909.9 imbalance=1.100 nsplit=0        \n",
      "Outer iteration 9 / 10\n",
      "  Iteration 19 (220.31 s, search 146.92 s): objective=3915.46 imbalance=1.054 nsplit=0       \n",
      "Clustering 8000 points in 267264D to 11 clusters, redo 10 times, 20 iterations\n",
      "  Preprocessing in 1.12 s\n",
      "Outer iteration 0 / 10\n",
      "  Iteration 19 (22.05 s, search 14.70 s): objective=3912.95 imbalance=1.342 nsplit=0       \n",
      "Objective improved: keep new clusters\n",
      "Outer iteration 1 / 10\n",
      "  Iteration 19 (44.06 s, search 29.37 s): objective=3921.47 imbalance=1.220 nsplit=0       \n",
      "Objective improved: keep new clusters\n",
      "Outer iteration 2 / 10\n",
      "  Iteration 19 (66.11 s, search 44.08 s): objective=3919.15 imbalance=1.168 nsplit=0       \n",
      "Outer iteration 3 / 10\n",
      "  Iteration 19 (88.16 s, search 58.78 s): objective=3928.45 imbalance=1.107 nsplit=0       \n",
      "Objective improved: keep new clusters\n",
      "Outer iteration 4 / 10\n",
      "  Iteration 19 (110.20 s, search 73.46 s): objective=3908.29 imbalance=1.438 nsplit=0       \n",
      "Outer iteration 5 / 10\n",
      "  Iteration 19 (132.25 s, search 88.17 s): objective=3918.19 imbalance=1.151 nsplit=0       \n",
      "Outer iteration 6 / 10\n",
      "  Iteration 19 (154.29 s, search 102.87 s): objective=3918.91 imbalance=1.176 nsplit=0       \n",
      "Outer iteration 7 / 10\n",
      "  Iteration 19 (176.32 s, search 117.57 s): objective=3923.83 imbalance=1.034 nsplit=0       \n",
      "Outer iteration 8 / 10\n",
      "  Iteration 19 (198.38 s, search 132.29 s): objective=3923.62 imbalance=1.187 nsplit=0       \n",
      "Outer iteration 9 / 10\n",
      "  Iteration 19 (220.41 s, search 146.98 s): objective=3924.78 imbalance=1.058 nsplit=0       \n",
      "Clustering 8000 points in 267264D to 12 clusters, redo 10 times, 20 iterations\n",
      "  Preprocessing in 1.12 s\n",
      "Outer iteration 0 / 10\n",
      "  Iteration 19 (22.13 s, search 14.73 s): objective=3923.81 imbalance=1.312 nsplit=0       \n",
      "Objective improved: keep new clusters\n",
      "Outer iteration 1 / 10\n",
      "  Iteration 19 (44.27 s, search 29.47 s): objective=3926.66 imbalance=1.175 nsplit=0       \n",
      "Objective improved: keep new clusters\n",
      "Outer iteration 2 / 10\n",
      "  Iteration 19 (66.41 s, search 44.21 s): objective=3922.33 imbalance=1.157 nsplit=0       \n",
      "Outer iteration 3 / 10\n",
      "  Iteration 19 (88.58 s, search 58.95 s): objective=3935.44 imbalance=1.137 nsplit=0       \n",
      "Objective improved: keep new clusters\n",
      "Outer iteration 4 / 10\n",
      "  Iteration 19 (110.74 s, search 73.70 s): objective=3919.12 imbalance=1.408 nsplit=0       \n",
      "Outer iteration 5 / 10\n",
      "  Iteration 19 (132.89 s, search 88.44 s): objective=3929.77 imbalance=1.104 nsplit=0       \n",
      "Outer iteration 6 / 10\n",
      "  Iteration 19 (155.01 s, search 103.17 s): objective=3926.93 imbalance=1.142 nsplit=0       \n",
      "Outer iteration 7 / 10\n",
      "  Iteration 19 (177.17 s, search 117.91 s): objective=3927.32 imbalance=1.259 nsplit=0       \n",
      "Outer iteration 8 / 10\n",
      "  Iteration 19 (199.30 s, search 132.65 s): objective=3929.91 imbalance=1.199 nsplit=0       \n",
      "Outer iteration 9 / 10\n",
      "  Iteration 19 (221.47 s, search 147.41 s): objective=3929.22 imbalance=1.071 nsplit=0       \n",
      "Clustering 8000 points in 267264D to 13 clusters, redo 10 times, 20 iterations\n",
      "  Preprocessing in 1.12 s\n",
      "Outer iteration 0 / 10\n",
      "  Iteration 19 (22.14 s, search 14.73 s): objective=3929.98 imbalance=1.286 nsplit=0       \n",
      "Objective improved: keep new clusters\n",
      "Outer iteration 1 / 10\n",
      "  Iteration 19 (44.30 s, search 29.46 s): objective=3934.74 imbalance=1.190 nsplit=0       \n",
      "Objective improved: keep new clusters\n",
      "Outer iteration 2 / 10\n",
      "  Iteration 19 (66.44 s, search 44.20 s): objective=3931.06 imbalance=1.208 nsplit=0       \n",
      "Outer iteration 3 / 10\n",
      "  Iteration 19 (88.58 s, search 58.92 s): objective=3936.92 imbalance=1.232 nsplit=0       \n",
      "Objective improved: keep new clusters\n",
      "Outer iteration 4 / 10\n",
      "  Iteration 19 (110.75 s, search 73.67 s): objective=3927.31 imbalance=1.271 nsplit=0       \n",
      "Outer iteration 5 / 10\n",
      "  Iteration 19 (132.91 s, search 88.39 s): objective=3941.02 imbalance=1.143 nsplit=0       \n",
      "Objective improved: keep new clusters\n",
      "Outer iteration 6 / 10\n",
      "  Iteration 19 (155.08 s, search 103.16 s): objective=3930.82 imbalance=1.139 nsplit=0       \n",
      "Outer iteration 7 / 10\n",
      "  Iteration 19 (177.23 s, search 117.91 s): objective=3927.65 imbalance=1.198 nsplit=0       \n",
      "Outer iteration 8 / 10\n",
      "  Iteration 19 (199.42 s, search 132.65 s): objective=3932.23 imbalance=1.188 nsplit=0       \n",
      "Outer iteration 9 / 10\n",
      "  Iteration 19 (221.58 s, search 147.40 s): objective=3936.18 imbalance=1.119 nsplit=0       \n",
      "Clustering 8000 points in 267264D to 14 clusters, redo 10 times, 20 iterations\n",
      "  Preprocessing in 1.12 s\n",
      "Outer iteration 0 / 10\n",
      "  Iteration 19 (22.17 s, search 14.75 s): objective=3931.45 imbalance=1.387 nsplit=0       \n",
      "Objective improved: keep new clusters\n",
      "Outer iteration 1 / 10\n",
      "  Iteration 19 (44.32 s, search 29.48 s): objective=3941.79 imbalance=1.197 nsplit=0       \n",
      "Objective improved: keep new clusters\n",
      "Outer iteration 2 / 10\n",
      "  Iteration 19 (66.48 s, search 44.22 s): objective=3934.87 imbalance=1.216 nsplit=0       \n",
      "Outer iteration 3 / 10\n",
      "  Iteration 19 (88.66 s, search 58.97 s): objective=3931.32 imbalance=1.271 nsplit=0       \n",
      "Outer iteration 4 / 10\n",
      "  Iteration 19 (110.84 s, search 73.72 s): objective=3929.75 imbalance=1.333 nsplit=0       \n",
      "Outer iteration 5 / 10\n",
      "  Iteration 19 (133.01 s, search 88.46 s): objective=3932.75 imbalance=1.420 nsplit=0       \n",
      "Outer iteration 6 / 10\n",
      "  Iteration 19 (155.20 s, search 103.22 s): objective=3940.73 imbalance=1.119 nsplit=0       \n",
      "Outer iteration 7 / 10\n",
      "  Iteration 19 (177.39 s, search 117.96 s): objective=3938.47 imbalance=1.263 nsplit=0       \n",
      "Outer iteration 8 / 10\n",
      "  Iteration 19 (199.57 s, search 132.70 s): objective=3937.37 imbalance=1.189 nsplit=0       \n",
      "Outer iteration 9 / 10\n",
      "  Iteration 19 (221.75 s, search 147.45 s): objective=3939.36 imbalance=1.127 nsplit=0       \n",
      "Clustering 8000 points in 267264D to 15 clusters, redo 10 times, 20 iterations\n",
      "  Preprocessing in 1.12 s\n",
      "Outer iteration 0 / 10\n",
      "  Iteration 19 (22.18 s, search 14.75 s): objective=3937.43 imbalance=1.403 nsplit=0       \n",
      "Objective improved: keep new clusters\n",
      "Outer iteration 1 / 10\n",
      "  Iteration 19 (44.37 s, search 29.49 s): objective=3943.48 imbalance=1.217 nsplit=0       \n",
      "Objective improved: keep new clusters\n",
      "Outer iteration 2 / 10\n",
      "  Iteration 19 (66.56 s, search 44.25 s): objective=3936.68 imbalance=1.293 nsplit=0       \n",
      "Outer iteration 3 / 10\n",
      "  Iteration 19 (88.75 s, search 59.00 s): objective=3935.66 imbalance=1.261 nsplit=0       \n",
      "Outer iteration 4 / 10\n",
      "  Iteration 19 (110.97 s, search 73.75 s): objective=3930.72 imbalance=1.390 nsplit=0       \n",
      "Outer iteration 5 / 10\n",
      "  Iteration 19 (133.17 s, search 88.51 s): objective=3936.57 imbalance=1.549 nsplit=0       \n",
      "Outer iteration 6 / 10\n",
      "  Iteration 19 (155.36 s, search 103.26 s): objective=3945.27 imbalance=1.117 nsplit=0       \n",
      "Objective improved: keep new clusters\n",
      "Outer iteration 7 / 10\n",
      "  Iteration 19 (177.55 s, search 118.00 s): objective=3935.39 imbalance=1.370 nsplit=0       \n",
      "Outer iteration 8 / 10\n",
      "  Iteration 19 (199.77 s, search 132.76 s): objective=3940.94 imbalance=1.161 nsplit=0       \n",
      "Outer iteration 9 / 10\n",
      "  Iteration 19 (221.97 s, search 147.52 s): objective=3942.58 imbalance=1.163 nsplit=0       \r"
     ]
    },
    {
     "data": {
      "text/plain": [
       "[<matplotlib.lines.Line2D at 0x7fb4f6677290>]"
      ]
     },
     "execution_count": 13,
     "metadata": {},
     "output_type": "execute_result"
    },
    {
     "data": {
      "image/png": "[encoded data removed]",
      "text/plain": [
       "<Figure size 432x288 with 1 Axes>"
      ]
     },
     "metadata": {
      "needs_background": "light"
     },
     "output_type": "display_data"
    }
   ],
   "source": [
    "# Elbow Plot\n",
    "niter = 20\n",
    "verbose = True\n",
    "dim = X_train.shape[1]\n",
    "\n",
    "k_vals = [k for k in range(5, 16)]\n",
    "wccs = []\n",
    "for k in k_vals:\n",
    "    kmeans = faiss.Kmeans(dim, k, niter = niter, verbose = verbose, gpu = True, nredo = 10, spherical = True, max_points_per_centroid = 800)\n",
    "    kmeans.train(X_train)\n",
    "    wccs.append(kmeans.obj[-1])\n",
    "\n",
    "plt.plot(k_vals, wccs)"
   ]
  },
  {
   "cell_type": "code",
   "execution_count": 14,
   "id": "289102b9",
   "metadata": {
    "scrolled": true,
    "tags": []
   },
   "outputs": [
    {
     "name": "stdout",
     "output_type": "stream",
     "text": [
      "\n",
      "Clustering 8000 points in 267264D to 10 clusters, redo 10 times, 20 iterations\n",
      "  Preprocessing in 1.12 s\n",
      "Outer iteration 0 / 10\n",
      "  Iteration 19 (22.03 s, search 14.70 s): objective=3904.32 imbalance=1.399 nsplit=0       \n",
      "Objective improved: keep new clusters\n",
      "Outer iteration 1 / 10\n",
      "  Iteration 19 (44.12 s, search 29.42 s): objective=3909.43 imbalance=1.155 nsplit=0       \n",
      "Objective improved: keep new clusters\n",
      "Outer iteration 2 / 10\n",
      "  Iteration 19 (66.20 s, search 44.16 s): objective=3910.24 imbalance=1.239 nsplit=0       \n",
      "Objective improved: keep new clusters\n",
      "Outer iteration 3 / 10\n",
      "  Iteration 19 (88.28 s, search 58.89 s): objective=3914.18 imbalance=1.074 nsplit=0       \n",
      "Objective improved: keep new clusters\n",
      "Outer iteration 4 / 10\n",
      "  Iteration 19 (110.39 s, search 73.63 s): objective=3884.97 imbalance=2.140 nsplit=0       \n",
      "Outer iteration 5 / 10\n",
      "  Iteration 19 (132.43 s, search 88.33 s): objective=3917.73 imbalance=1.120 nsplit=0       \n",
      "Objective improved: keep new clusters\n",
      "Outer iteration 6 / 10\n",
      "  Iteration 19 (154.48 s, search 103.05 s): objective=3910.89 imbalance=1.257 nsplit=0       \n",
      "Outer iteration 7 / 10\n",
      "  Iteration 19 (176.55 s, search 117.77 s): objective=3921.58 imbalance=1.112 nsplit=0       \n",
      "Objective improved: keep new clusters\n",
      "Outer iteration 8 / 10\n",
      "  Iteration 19 (198.79 s, search 132.58 s): objective=3909.9 imbalance=1.100 nsplit=0        \n",
      "Outer iteration 9 / 10\n",
      "  Iteration 19 (221.21 s, search 147.52 s): objective=3915.46 imbalance=1.054 nsplit=0       \r"
     ]
    },
    {
     "data": {
      "text/plain": [
       "3921.579345703125"
      ]
     },
     "execution_count": 14,
     "metadata": {},
     "output_type": "execute_result"
    }
   ],
   "source": [
    "# K-means Clustering\n",
    "\n",
    "# ncentroids = NUM_PROMPTS\n",
    "ncentroids = 10 # Elbow point - based on objective (sum of cosine similarities)\n",
    "niter = 20\n",
    "verbose = True\n",
    "dim = X_train.shape[1]\n",
    "kmeans = faiss.Kmeans(dim, ncentroids, niter = niter, verbose = verbose, gpu = True, nredo = 10, spherical = True, max_points_per_centroid = 800)\n",
    "kmeans.train(X_train)"
   ]
  },
  {
   "cell_type": "code",
   "execution_count": 15,
   "id": "19cf0f0a",
   "metadata": {
    "tags": []
   },
   "outputs": [
    {
     "data": {
      "text/plain": [
       "array([[ 5.4099518e-03,  2.9054026e-03,  1.3524321e-02, ...,\n",
       "         2.6181377e-07, -6.1106107e-08,  4.3653772e-06],\n",
       "       [ 6.1436254e-03,  3.2994193e-03,  1.5358436e-02, ...,\n",
       "         0.0000000e+00,  0.0000000e+00,  0.0000000e+00],\n",
       "       [ 5.2049314e-03,  2.7952981e-03,  1.3011818e-02, ...,\n",
       "         2.5200737e-08, -1.5889553e-06, -1.8946595e-06],\n",
       "       ...,\n",
       "       [ 5.5959127e-03,  3.0052708e-03,  1.3989202e-02, ...,\n",
       "         0.0000000e+00,  0.0000000e+00,  0.0000000e+00],\n",
       "       [ 5.2332487e-03,  2.8104987e-03,  1.3082581e-02, ...,\n",
       "        -8.3596831e-07,  1.1503711e-05,  3.6611855e-05],\n",
       "       [ 6.1052456e-03,  3.2788084e-03,  1.5262492e-02, ...,\n",
       "         0.0000000e+00,  0.0000000e+00,  0.0000000e+00]], dtype=float32)"
      ]
     },
     "execution_count": 15,
     "metadata": {},
     "output_type": "execute_result"
    }
   ],
   "source": [
    "kmeans.centroids #cluster centers"
   ]
  },
  {
   "cell_type": "code",
   "execution_count": 16,
   "id": "61e726e9",
   "metadata": {
    "tags": []
   },
   "outputs": [
    {
     "name": "stdout",
     "output_type": "stream",
     "text": [
      "1.0000451\n",
      "1.0000119\n",
      "1.0000347\n",
      "1.0000099\n",
      "1.0000281\n",
      "1.0000126\n",
      "1.0000145\n",
      "1.0000482\n",
      "1.0000352\n",
      "1.0000373\n"
     ]
    }
   ],
   "source": [
    "for centroid in kmeans.centroids:\n",
    "    print(np.linalg.norm(centroid))"
   ]
  },
  {
   "cell_type": "code",
   "execution_count": 17,
   "id": "e5e1fa18",
   "metadata": {
    "tags": []
   },
   "outputs": [
    {
     "data": {
      "text/plain": [
       "array([2521.53613281, 3765.8984375 , 3836.37353516, 3861.5012207 ,\n",
       "       3875.42431641, 3885.79907227, 3894.38183594, 3899.83398438,\n",
       "       3902.55688477, 3903.68212891, 3904.03857422, 3904.17016602,\n",
       "       3904.25048828, 3904.27368164, 3904.29199219, 3904.30200195,\n",
       "       3904.31005859, 3904.30810547, 3904.31054688, 3904.31567383,\n",
       "       2583.67700195, 3772.03125   , 3807.9375    , 3848.27783203,\n",
       "       3873.06982422, 3890.10644531, 3897.203125  , 3901.01269531,\n",
       "       3903.54492188, 3904.77050781, 3905.44360352, 3905.89648438,\n",
       "       3906.25512695, 3906.77490234, 3907.38964844, 3908.09399414,\n",
       "       3908.61474609, 3908.97265625, 3909.23754883, 3909.43286133,\n",
       "       2479.12231445, 3759.81933594, 3809.27734375, 3843.45483398,\n",
       "       3860.03198242, 3873.20776367, 3888.01391602, 3895.33813477,\n",
       "       3898.70019531, 3900.89770508, 3902.46630859, 3903.66064453,\n",
       "       3904.90332031, 3906.42504883, 3907.79760742, 3908.70019531,\n",
       "       3909.20947266, 3909.63916016, 3909.94897461, 3910.24487305,\n",
       "       2409.14575195, 3790.86767578, 3856.28442383, 3879.30297852,\n",
       "       3889.35791016, 3894.91333008, 3898.33984375, 3901.25634766,\n",
       "       3904.8215332 , 3908.51855469, 3910.56616211, 3911.71923828,\n",
       "       3912.22167969, 3912.49682617, 3912.72021484, 3912.91625977,\n",
       "       3913.20239258, 3913.43359375, 3913.7121582 , 3914.18115234,\n",
       "       2162.37744141, 3779.9230957 , 3837.31152344, 3856.55639648,\n",
       "       3865.6027832 , 3871.84887695, 3875.80419922, 3877.62011719,\n",
       "       3878.98217773, 3880.06054688, 3880.95776367, 3881.92895508,\n",
       "       3882.79760742, 3883.38256836, 3883.81689453, 3884.18066406,\n",
       "       3884.43994141, 3884.65991211, 3884.84375   , 3884.97241211,\n",
       "       2486.9621582 , 3754.44726562, 3822.73730469, 3862.14379883,\n",
       "       3879.73217773, 3888.97900391, 3893.73168945, 3897.0090332 ,\n",
       "       3901.58813477, 3907.01416016, 3910.83422852, 3912.97070312,\n",
       "       3914.30249023, 3915.20800781, 3915.97949219, 3916.58789062,\n",
       "       3917.04394531, 3917.35229492, 3917.58081055, 3917.72558594,\n",
       "       2465.13989258, 3780.08862305, 3849.71362305, 3881.62963867,\n",
       "       3893.5859375 , 3898.7253418 , 3902.56518555, 3905.46191406,\n",
       "       3907.47192383, 3908.81030273, 3909.48095703, 3909.81835938,\n",
       "       3910.12988281, 3910.31787109, 3910.44775391, 3910.56323242,\n",
       "       3910.671875  , 3910.75585938, 3910.82080078, 3910.88623047,\n",
       "       2537.47241211, 3753.31274414, 3804.91943359, 3852.14916992,\n",
       "       3875.5012207 , 3885.97827148, 3893.90942383, 3903.2109375 ,\n",
       "       3912.39160156, 3918.72338867, 3920.33398438, 3920.82299805,\n",
       "       3921.15869141, 3921.37963867, 3921.46264648, 3921.51953125,\n",
       "       3921.56347656, 3921.58227539, 3921.57617188, 3921.5793457 ])"
      ]
     },
     "execution_count": 17,
     "metadata": {},
     "output_type": "execute_result"
    }
   ],
   "source": [
    "kmeans.obj #inertia at each iteration"
   ]
  },
  {
   "cell_type": "code",
   "execution_count": 18,
   "id": "ed2c340d",
   "metadata": {
    "tags": []
   },
   "outputs": [],
   "source": [
    "cos_similarities = X_train @ kmeans.centroids.T\n",
    "classifications_train = np.argmax(cos_similarities, axis=1)"
   ]
  },
  {
   "cell_type": "code",
   "execution_count": 19,
   "id": "90aae79f",
   "metadata": {
    "tags": []
   },
   "outputs": [
    {
     "data": {
      "text/plain": [
       "0    1065\n",
       "4    1060\n",
       "7    1058\n",
       "3    1004\n",
       "1     979\n",
       "5     889\n",
       "2     623\n",
       "9     505\n",
       "8     460\n",
       "6     357\n",
       "dtype: int64"
      ]
     },
     "execution_count": 19,
     "metadata": {},
     "output_type": "execute_result"
    }
   ],
   "source": [
    "pd.Series(classifications_train).value_counts()"
   ]
  },
  {
   "cell_type": "code",
   "execution_count": 20,
   "id": "fc34c419-5d92-4dc6-8db4-9dc84b83a8d4",
   "metadata": {
    "tags": []
   },
   "outputs": [
    {
     "data": {
      "text/plain": [
       "[5, 1, 9, 5, 2, 6, 10, 6, 10, 3]"
      ]
     },
     "execution_count": 20,
     "metadata": {},
     "output_type": "execute_result"
    }
   ],
   "source": [
    "# Get most common label for each point classified to a centroid (same centroid)\n",
    "centroid_labels = [np.where(classifications_train == i)[0] for i in range(ncentroids)]\n",
    "max_label_per_centroid = [int(pd.Series(y_train[centroid_labels[i]]).value_counts().idxmax()) for i in range(ncentroids)]\n",
    "max_label_per_centroid"
   ]
  },
  {
   "cell_type": "code",
   "execution_count": 21,
   "id": "20e159a9-ef63-4a0e-8e94-52e041a5c416",
   "metadata": {
    "tags": []
   },
   "outputs": [],
   "source": [
    "centroid_to_label = {idx : max_label_per_centroid[idx] for idx in range(len(max_label_per_centroid))}"
   ]
  },
  {
   "cell_type": "code",
   "execution_count": 22,
   "id": "45760bd2-820d-462e-a8ef-8d054ed5dde4",
   "metadata": {
    "tags": []
   },
   "outputs": [
    {
     "data": {
      "text/plain": [
       "{0: 5, 1: 1, 2: 9, 3: 5, 4: 2, 5: 6, 6: 10, 7: 6, 8: 10, 9: 3}"
      ]
     },
     "execution_count": 22,
     "metadata": {},
     "output_type": "execute_result"
    }
   ],
   "source": [
    "centroid_to_label"
   ]
  },
  {
   "cell_type": "code",
   "execution_count": 23,
   "id": "b9cf2ac5-ce04-4efe-9828-041723e1f453",
   "metadata": {
    "tags": []
   },
   "outputs": [
    {
     "data": {
      "text/plain": [
       "array([ 5,  9,  9, ..., 10, 10, 10])"
      ]
     },
     "execution_count": 23,
     "metadata": {},
     "output_type": "execute_result"
    }
   ],
   "source": [
    "vectorized_map = np.vectorize(centroid_to_label.get)\n",
    "classifications_to_label = vectorized_map(classifications_train)\n",
    "\n",
    "classifications_to_label"
   ]
  },
  {
   "cell_type": "code",
   "execution_count": 24,
   "id": "c793f2dc-74de-4e3a-b0a8-3839b1be8dd9",
   "metadata": {
    "tags": []
   },
   "outputs": [
    {
     "name": "stdout",
     "output_type": "stream",
     "text": [
      "Prompt 1 Accuracy:  0.28\n",
      "Prompt 2 Accuracy:  0.265\n",
      "Prompt 3 Accuracy:  0.52125\n",
      "Prompt 4 Accuracy:  0.0\n",
      "Prompt 5 Accuracy:  0.90375\n",
      "Prompt 6 Accuracy:  0.49625\n",
      "Prompt 7 Accuracy:  0.0\n",
      "Prompt 8 Accuracy:  0.0\n",
      "Prompt 9 Accuracy:  0.24\n",
      "Prompt 10 Accuracy:  0.98\n"
     ]
    }
   ],
   "source": [
    "for i in range(10):\n",
    "    print(f\"Prompt {i + 1} Accuracy: \", np.mean(classifications_to_label[i * 800:(i + 1) * 800] == (i + 1)))"
   ]
  },
  {
   "cell_type": "code",
   "execution_count": 25,
   "id": "ac9d3497-d991-455d-a121-1a4c234314b0",
   "metadata": {
    "tags": []
   },
   "outputs": [
    {
     "name": "stdout",
     "output_type": "stream",
     "text": [
      "Overall Accuracy:  0.368625\n"
     ]
    }
   ],
   "source": [
    "print(f\"Overall Accuracy: \", np.mean(classifications_to_label == y_train))"
   ]
  },
  {
   "cell_type": "markdown",
   "id": "b8d32ef1-a624-4d32-abcb-8daacad47cdc",
   "metadata": {},
   "source": [
    "## Perform Inference on Test Set & Collect Test Accuracy"
   ]
  },
  {
   "cell_type": "code",
   "execution_count": 26,
   "id": "2431abbc-b684-4c06-8fd6-06c771a1c4fa",
   "metadata": {},
   "outputs": [],
   "source": [
    "cos_similarities = X_test @ kmeans.centroids.T\n",
    "classifications_test = np.argmax(cos_similarities, axis=1)"
   ]
  },
  {
   "cell_type": "code",
   "execution_count": 27,
   "id": "d9a7dd1c-884b-4bef-b538-6c0a65a6f7e4",
   "metadata": {},
   "outputs": [
    {
     "data": {
      "text/plain": [
       "1    266\n",
       "7    262\n",
       "0    259\n",
       "3    255\n",
       "4    252\n",
       "5    216\n",
       "2    169\n",
       "8    120\n",
       "9    118\n",
       "6     83\n",
       "dtype: int64"
      ]
     },
     "execution_count": 27,
     "metadata": {},
     "output_type": "execute_result"
    }
   ],
   "source": [
    "pd.Series(classifications_test).value_counts()"
   ]
  },
  {
   "cell_type": "code",
   "execution_count": 28,
   "id": "6fa74238-a2b3-4277-bcd6-88ab9d5caf4f",
   "metadata": {},
   "outputs": [
    {
     "data": {
      "text/plain": [
       "array([ 1,  9,  5, ..., 10, 10, 10])"
      ]
     },
     "execution_count": 28,
     "metadata": {},
     "output_type": "execute_result"
    }
   ],
   "source": [
    "classifications_to_label_test = vectorized_map(classifications_test)\n",
    "\n",
    "classifications_to_label_test"
   ]
  },
  {
   "cell_type": "code",
   "execution_count": 29,
   "id": "799e3a99-6659-44b7-becd-4d0825fd1957",
   "metadata": {},
   "outputs": [
    {
     "name": "stdout",
     "output_type": "stream",
     "text": [
      "Prompt 1 Accuracy:  0.305\n",
      "Prompt 2 Accuracy:  0.205\n",
      "Prompt 3 Accuracy:  0.53\n",
      "Prompt 4 Accuracy:  0.0\n",
      "Prompt 5 Accuracy:  0.92\n",
      "Prompt 6 Accuracy:  0.495\n",
      "Prompt 7 Accuracy:  0.0\n",
      "Prompt 8 Accuracy:  0.0\n",
      "Prompt 9 Accuracy:  0.29\n",
      "Prompt 10 Accuracy:  0.99\n"
     ]
    }
   ],
   "source": [
    "for i in range(10):\n",
    "    print(f\"Prompt {i + 1} Accuracy: \", np.mean(classifications_to_label_test[i * 200:(i + 1) * 200] == (i + 1)))"
   ]
  },
  {
   "cell_type": "code",
   "execution_count": 30,
   "id": "4f97cfa0-27da-4897-8e65-681b75ad51d7",
   "metadata": {},
   "outputs": [
    {
     "name": "stdout",
     "output_type": "stream",
     "text": [
      "Overall Accuracy:  0.3735\n"
     ]
    }
   ],
   "source": [
    "print(f\"Overall Accuracy: \", np.mean(classifications_to_label_test == y_test))"
   ]
  },
  {
   "cell_type": "markdown",
   "id": "ee076424-49c5-4245-a3a3-56fba51465ea",
   "metadata": {},
   "source": [
    "## Confusion Matrix of Results"
   ]
  },
  {
   "cell_type": "code",
   "execution_count": 31,
   "id": "b9175267-2fef-4f02-930e-c263ec396f91",
   "metadata": {
    "tags": []
   },
   "outputs": [],
   "source": [
    "from sklearn.metrics import confusion_matrix, ConfusionMatrixDisplay\n",
    "import matplotlib.pyplot as plt"
   ]
  },
  {
   "cell_type": "code",
   "execution_count": 32,
   "id": "3c2c3ac7-26e3-42d5-860a-918d735776c1",
   "metadata": {
    "tags": []
   },
   "outputs": [
    {
     "data": {
      "image/png": "[encoded data removed]",
      "text/plain": [
       "<Figure size 432x288 with 2 Axes>"
      ]
     },
     "metadata": {
      "needs_background": "light"
     },
     "output_type": "display_data"
    }
   ],
   "source": [
    "cm = confusion_matrix(y_train, classifications_to_label)\n",
    "disp = ConfusionMatrixDisplay(confusion_matrix=cm, display_labels=[f\"{i}\" for i in range(1, 11)])\n",
    "\n",
    "disp.plot()\n",
    "plt.title('Confusion Matrix for Train Set')\n",
    "plt.show()"
   ]
  },
  {
   "cell_type": "code",
   "execution_count": 33,
   "id": "03a45427-f767-4838-968e-c341eca03746",
   "metadata": {
    "tags": []
   },
   "outputs": [
    {
     "data": {
      "image/png": "[encoded data removed]",
      "text/plain": [
       "<Figure size 432x288 with 2 Axes>"
      ]
     },
     "metadata": {
      "needs_background": "light"
     },
     "output_type": "display_data"
    }
   ],
   "source": [
    "cm = confusion_matrix(y_test, classifications_to_label_test)\n",
    "disp = ConfusionMatrixDisplay(confusion_matrix=cm, display_labels=[f\"{i}\" for i in range(1, 11)])\n",
    "\n",
    "disp.plot()\n",
    "plt.title('Confusion Matrix for Test Set')\n",
    "plt.show()"
   ]
  },
  {
   "cell_type": "code",
   "execution_count": null,
   "id": "1322b9ab-2b94-4d00-95cf-1b3741b9f482",
   "metadata": {},
   "outputs": [],
   "source": []
  },
  {
   "cell_type": "code",
   "execution_count": null,
   "id": "de826fc3-e67f-45cb-bb74-15dfcbd3d18d",
   "metadata": {},
   "outputs": [],
   "source": []
  }
 ],
 "metadata": {
  "kernelspec": {
   "display_name": "Python 3 (ipykernel)",
   "language": "python",
   "name": "python3"
  },
  "language_info": {
   "codemirror_mode": {
    "name": "ipython",
    "version": 3
   },
   "file_extension": ".py",
   "mimetype": "text/x-python",
   "name": "python",
   "nbconvert_exporter": "python",
   "pygments_lexer": "ipython3",
   "version": "3.7.11"
  }
 },
 "nbformat": 4,
 "nbformat_minor": 5
}
