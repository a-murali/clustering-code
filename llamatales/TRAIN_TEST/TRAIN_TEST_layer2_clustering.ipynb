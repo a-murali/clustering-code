{
 "cells": [
  {
   "cell_type": "markdown",
   "id": "64c867a4-b1c3-426b-b086-de071a726ebf",
   "metadata": {},
   "source": [
    "## Install Packages"
   ]
  },
  {
   "cell_type": "code",
   "execution_count": 1,
   "id": "80849741",
   "metadata": {
    "tags": []
   },
   "outputs": [
    {
     "name": "stdout",
     "output_type": "stream",
     "text": [
      "Collecting package metadata (current_repodata.json): / WARNING conda.models.version:get_matcher(540): Using .* with relational operator is superfluous and deprecated and will be removed in a future version of conda. Your spec was 1.7.1.*, but conda is ignoring the .* and treating it as 1.7.1\n",
      "done\n",
      "Solving environment: failed with initial frozen solve. Retrying with flexible solve.\n",
      "Solving environment: failed with repodata from current_repodata.json, will retry with next repodata source.\n",
      "Collecting package metadata (repodata.json): / WARNING conda.models.version:get_matcher(540): Using .* with relational operator is superfluous and deprecated and will be removed in a future version of conda. Your spec was 1.8.0.*, but conda is ignoring the .* and treating it as 1.8.0\n",
      "WARNING conda.models.version:get_matcher(540): Using .* with relational operator is superfluous and deprecated and will be removed in a future version of conda. Your spec was 1.6.0.*, but conda is ignoring the .* and treating it as 1.6.0\n",
      "WARNING conda.models.version:get_matcher(540): Using .* with relational operator is superfluous and deprecated and will be removed in a future version of conda. Your spec was 1.9.0.*, but conda is ignoring the .* and treating it as 1.9.0\n",
      "done\n",
      "Solving environment: done\n",
      "\n",
      "\n",
      "==> WARNING: A newer version of conda exists. <==\n",
      "  current version: 4.10.3\n",
      "  latest version: 25.7.0\n",
      "\n",
      "Please update conda by running\n",
      "\n",
      "    $ conda update -n base -c defaults conda\n",
      "\n",
      "\n",
      "\n",
      "## Package Plan ##\n",
      "\n",
      "  environment location: /opt/conda\n",
      "\n",
      "  added / updated specs:\n",
      "    - faiss-gpu\n",
      "\n",
      "\n",
      "The following packages will be downloaded:\n",
      "\n",
      "    package                    |            build\n",
      "    ---------------------------|-----------------\n",
      "    ca-certificates-2025.8.3   |       hbd8a1cb_0         151 KB  conda-forge\n",
      "    certifi-2024.8.30          |     pyhd8ed1ab_0         160 KB  conda-forge\n",
      "    conda-4.12.0               |   py37h89c1867_0         1.0 MB  conda-forge\n",
      "    faiss-1.7.1                |py37cuda111h7f21d35_1_cuda         2.0 MB  conda-forge\n",
      "    faiss-gpu-1.7.1            |       h788eb59_1          15 KB  conda-forge\n",
      "    libblas-3.9.0              |   26_linux64_mkl          16 KB  conda-forge\n",
      "    libfaiss-1.7.1             |cuda111hf54f04a_1_cuda        80.2 MB  conda-forge\n",
      "    libfaiss-avx2-1.7.1        |cuda111h1234567_1_cuda        80.3 MB  conda-forge\n",
      "    liblapack-3.9.0            |   26_linux64_mkl          16 KB  conda-forge\n",
      "    openssl-1.1.1w             |       h7f8727e_0         3.7 MB\n",
      "    python_abi-3.7             |          2_cp37m           4 KB  conda-forge\n",
      "    ------------------------------------------------------------\n",
      "                                           Total:       167.6 MB\n",
      "\n",
      "The following NEW packages will be INSTALLED:\n",
      "\n",
      "  faiss              conda-forge/linux-64::faiss-1.7.1-py37cuda111h7f21d35_1_cuda\n",
      "  faiss-gpu          conda-forge/linux-64::faiss-gpu-1.7.1-h788eb59_1\n",
      "  libblas            conda-forge/linux-64::libblas-3.9.0-26_linux64_mkl\n",
      "  libfaiss           conda-forge/linux-64::libfaiss-1.7.1-cuda111hf54f04a_1_cuda\n",
      "  libfaiss-avx2      conda-forge/linux-64::libfaiss-avx2-1.7.1-cuda111h1234567_1_cuda\n",
      "  liblapack          conda-forge/linux-64::liblapack-3.9.0-26_linux64_mkl\n",
      "  python_abi         conda-forge/linux-64::python_abi-3.7-2_cp37m\n",
      "\n",
      "The following packages will be UPDATED:\n",
      "\n",
      "  ca-certificates    pkgs/main/linux-64::ca-certificates-2~ --> conda-forge/noarch::ca-certificates-2025.8.3-hbd8a1cb_0\n",
      "  certifi            pkgs/main/linux-64::certifi-2021.10.8~ --> conda-forge/noarch::certifi-2024.8.30-pyhd8ed1ab_0\n",
      "  conda              pkgs/main::conda-4.10.3-py37h06a4308_0 --> conda-forge::conda-4.12.0-py37h89c1867_0\n",
      "  openssl                                 1.1.1l-h7f8727e_0 --> 1.1.1w-h7f8727e_0\n",
      "\n",
      "\n",
      "\n",
      "Downloading and Extracting Packages\n",
      "libfaiss-1.7.1       | 80.2 MB   | ##################################### | 100% \n",
      "openssl-1.1.1w       | 3.7 MB    | ##################################### | 100% \n",
      "liblapack-3.9.0      | 16 KB     | ##################################### | 100% \n",
      "ca-certificates-2025 | 151 KB    | ##################################### | 100% \n",
      "certifi-2024.8.30    | 160 KB    | ##################################### | 100% \n",
      "libfaiss-avx2-1.7.1  | 80.3 MB   | ##################################### | 100% \n",
      "python_abi-3.7       | 4 KB      | ##################################### | 100% \n",
      "conda-4.12.0         | 1.0 MB    | ##################################### | 100% \n",
      "faiss-1.7.1          | 2.0 MB    | ##################################### | 100% \n",
      "faiss-gpu-1.7.1      | 15 KB     | ##################################### | 100% \n",
      "libblas-3.9.0        | 16 KB     | ##################################### | 100% \n",
      "Preparing transaction: done\n",
      "Verifying transaction: done\n",
      "Executing transaction: done\n",
      "Get:1 http://security.ubuntu.com/ubuntu bionic-security InRelease [102 kB]\n",
      "Hit:2 http://archive.ubuntu.com/ubuntu bionic InRelease                        \n",
      "Get:3 http://archive.ubuntu.com/ubuntu bionic-updates InRelease [102 kB]       \n",
      "Get:4 http://security.ubuntu.com/ubuntu bionic-security/main amd64 Packages [3373 kB]\n",
      "Get:5 http://archive.ubuntu.com/ubuntu bionic-backports InRelease [102 kB]     \n",
      "Get:6 http://security.ubuntu.com/ubuntu bionic-security/multiverse amd64 Packages [23.8 kB]\n",
      "Get:7 http://security.ubuntu.com/ubuntu bionic-security/restricted amd64 Packages [1688 kB]\n",
      "Get:8 http://security.ubuntu.com/ubuntu bionic-security/universe amd64 Packages [1637 kB]\n",
      "Get:9 http://archive.ubuntu.com/ubuntu bionic-updates/multiverse amd64 Packages [30.8 kB]\n",
      "Get:10 http://archive.ubuntu.com/ubuntu bionic-updates/main amd64 Packages [3786 kB]\n",
      "Get:11 http://archive.ubuntu.com/ubuntu bionic-updates/restricted amd64 Packages [1728 kB]\n",
      "Get:12 http://archive.ubuntu.com/ubuntu bionic-updates/universe amd64 Packages [2411 kB]\n",
      "Get:13 http://archive.ubuntu.com/ubuntu bionic-backports/universe amd64 Packages [20.6 kB]\n",
      "Get:14 http://archive.ubuntu.com/ubuntu bionic-backports/main amd64 Packages [64.0 kB]\n",
      "Fetched 15.1 MB in 3s (5474 kB/s)                            \n",
      "Reading package lists... Done\n",
      "Reading package lists... Done\n",
      "Building dependency tree       \n",
      "Reading state information... Done\n",
      "The following additional packages will be installed:\n",
      "  gcc-7-base libatlas3-base libgfortran4 libquadmath0\n",
      "Suggested packages:\n",
      "  libatlas-doc liblapack-doc\n",
      "The following NEW packages will be installed:\n",
      "  gcc-7-base libatlas-base-dev libatlas3-base libgfortran4 libquadmath0\n",
      "0 upgraded, 5 newly installed, 0 to remove and 83 not upgraded.\n",
      "Need to get 8397 kB of archives.\n",
      "After this operation, 49.3 MB of additional disk space will be used.\n",
      "Get:1 http://archive.ubuntu.com/ubuntu bionic-updates/main amd64 gcc-7-base amd64 7.5.0-3ubuntu1~18.04 [18.3 kB]\n",
      "Get:2 http://archive.ubuntu.com/ubuntu bionic-updates/main amd64 libquadmath0 amd64 8.4.0-1ubuntu1~18.04 [134 kB]\n",
      "Get:3 http://archive.ubuntu.com/ubuntu bionic-updates/main amd64 libgfortran4 amd64 7.5.0-3ubuntu1~18.04 [492 kB]\n",
      "Get:4 http://archive.ubuntu.com/ubuntu bionic/universe amd64 libatlas3-base amd64 3.10.3-5 [3732 kB]\n",
      "Get:5 http://archive.ubuntu.com/ubuntu bionic/universe amd64 libatlas-base-dev amd64 3.10.3-5 [4022 kB]\n",
      "Fetched 8397 kB in 1s (6144 kB/s)           \n",
      "debconf: delaying package configuration, since apt-utils is not installed\n",
      "Selecting previously unselected package gcc-7-base:amd64.\n",
      "(Reading database ... 11934 files and directories currently installed.)\n",
      "Preparing to unpack .../gcc-7-base_7.5.0-3ubuntu1~18.04_amd64.deb ...\n",
      "Unpacking gcc-7-base:amd64 (7.5.0-3ubuntu1~18.04) ...\n",
      "Selecting previously unselected package libquadmath0:amd64.\n",
      "Preparing to unpack .../libquadmath0_8.4.0-1ubuntu1~18.04_amd64.deb ...\n",
      "Unpacking libquadmath0:amd64 (8.4.0-1ubuntu1~18.04) ...\n",
      "Selecting previously unselected package libgfortran4:amd64.\n",
      "Preparing to unpack .../libgfortran4_7.5.0-3ubuntu1~18.04_amd64.deb ...\n",
      "Unpacking libgfortran4:amd64 (7.5.0-3ubuntu1~18.04) ...\n",
      "Selecting previously unselected package libatlas3-base:amd64.\n",
      "Preparing to unpack .../libatlas3-base_3.10.3-5_amd64.deb ...\n",
      "Unpacking libatlas3-base:amd64 (3.10.3-5) ...\n",
      "Selecting previously unselected package libatlas-base-dev:amd64.\n",
      "Preparing to unpack .../libatlas-base-dev_3.10.3-5_amd64.deb ...\n",
      "Unpacking libatlas-base-dev:amd64 (3.10.3-5) ...\n",
      "Setting up libquadmath0:amd64 (8.4.0-1ubuntu1~18.04) ...\n",
      "Setting up gcc-7-base:amd64 (7.5.0-3ubuntu1~18.04) ...\n",
      "Setting up libgfortran4:amd64 (7.5.0-3ubuntu1~18.04) ...\n",
      "Setting up libatlas3-base:amd64 (3.10.3-5) ...\n",
      "update-alternatives: using /usr/lib/x86_64-linux-gnu/atlas/libblas.so.3 to provide /usr/lib/x86_64-linux-gnu/libblas.so.3 (libblas.so.3-x86_64-linux-gnu) in auto mode\n",
      "update-alternatives: using /usr/lib/x86_64-linux-gnu/atlas/liblapack.so.3 to provide /usr/lib/x86_64-linux-gnu/liblapack.so.3 (liblapack.so.3-x86_64-linux-gnu) in auto mode\n",
      "Setting up libatlas-base-dev:amd64 (3.10.3-5) ...\n",
      "update-alternatives: using /usr/lib/x86_64-linux-gnu/atlas/libblas.so to provide /usr/lib/x86_64-linux-gnu/libblas.so (libblas.so-x86_64-linux-gnu) in auto mode\n",
      "update-alternatives: using /usr/lib/x86_64-linux-gnu/atlas/liblapack.so to provide /usr/lib/x86_64-linux-gnu/liblapack.so (liblapack.so-x86_64-linux-gnu) in auto mode\n",
      "Processing triggers for libc-bin (2.27-3ubuntu1.4) ...\n"
     ]
    }
   ],
   "source": [
    "!conda install -y -c conda-forge faiss-gpu\n",
    "!apt-get -y update\n",
    "!apt-get -y install libatlas-base-dev"
   ]
  },
  {
   "cell_type": "markdown",
   "id": "ea6af1a5-1aef-4743-bfa6-7392ed97dbe7",
   "metadata": {},
   "source": [
    "## Load Data"
   ]
  },
  {
   "cell_type": "code",
   "execution_count": 2,
   "id": "e26dddbf",
   "metadata": {
    "tags": []
   },
   "outputs": [],
   "source": [
    "import pandas as pd\n",
    "import numpy as np\n",
    "import matplotlib.pyplot as plt\n",
    "\n",
    "from sklearn.random_projection import GaussianRandomProjection\n",
    "\n",
    "from tqdm import tqdm\n",
    "\n",
    "import faiss"
   ]
  },
  {
   "cell_type": "code",
   "execution_count": 3,
   "id": "89c2cffa",
   "metadata": {
    "tags": []
   },
   "outputs": [
    {
     "data": {
      "text/html": [
       "<div>\n",
       "<style scoped>\n",
       "    .dataframe tbody tr th:only-of-type {\n",
       "        vertical-align: middle;\n",
       "    }\n",
       "\n",
       "    .dataframe tbody tr th {\n",
       "        vertical-align: top;\n",
       "    }\n",
       "\n",
       "    .dataframe thead th {\n",
       "        text-align: right;\n",
       "    }\n",
       "</style>\n",
       "<table border=\"1\" class=\"dataframe\">\n",
       "  <thead>\n",
       "    <tr style=\"text-align: right;\">\n",
       "      <th></th>\n",
       "      <th>prompt_id</th>\n",
       "      <th>prompt</th>\n",
       "      <th>story</th>\n",
       "      <th>hidden_state_file</th>\n",
       "      <th>len_generated_story</th>\n",
       "      <th>len_new_story</th>\n",
       "    </tr>\n",
       "  </thead>\n",
       "  <tbody>\n",
       "    <tr>\n",
       "      <th>0</th>\n",
       "      <td>1</td>\n",
       "      <td>Once upon a time there was a dragon</td>\n",
       "      <td>Once upon a time there was a dragon named Blaz...</td>\n",
       "      <td>./hidden_states/prompt_1.npz</td>\n",
       "      <td>270</td>\n",
       "      <td>271</td>\n",
       "    </tr>\n",
       "    <tr>\n",
       "      <th>1</th>\n",
       "      <td>1</td>\n",
       "      <td>Once upon a time there was a dragon</td>\n",
       "      <td>Once upon a time there was a dragon named Spar...</td>\n",
       "      <td>./hidden_states/prompt_1.npz</td>\n",
       "      <td>349</td>\n",
       "      <td>350</td>\n",
       "    </tr>\n",
       "    <tr>\n",
       "      <th>2</th>\n",
       "      <td>1</td>\n",
       "      <td>Once upon a time there was a dragon</td>\n",
       "      <td>Once upon a time there was a dragon named Scor...</td>\n",
       "      <td>./hidden_states/prompt_1.npz</td>\n",
       "      <td>278</td>\n",
       "      <td>278</td>\n",
       "    </tr>\n",
       "    <tr>\n",
       "      <th>3</th>\n",
       "      <td>1</td>\n",
       "      <td>Once upon a time there was a dragon</td>\n",
       "      <td>Once upon a time there was a dragon. The drago...</td>\n",
       "      <td>./hidden_states/prompt_1.npz</td>\n",
       "      <td>117</td>\n",
       "      <td>118</td>\n",
       "    </tr>\n",
       "    <tr>\n",
       "      <th>4</th>\n",
       "      <td>1</td>\n",
       "      <td>Once upon a time there was a dragon</td>\n",
       "      <td>Once upon a time there was a dragon. The drago...</td>\n",
       "      <td>./hidden_states/prompt_1.npz</td>\n",
       "      <td>129</td>\n",
       "      <td>130</td>\n",
       "    </tr>\n",
       "    <tr>\n",
       "      <th>...</th>\n",
       "      <td>...</td>\n",
       "      <td>...</td>\n",
       "      <td>...</td>\n",
       "      <td>...</td>\n",
       "      <td>...</td>\n",
       "      <td>...</td>\n",
       "    </tr>\n",
       "    <tr>\n",
       "      <th>9995</th>\n",
       "      <td>10</td>\n",
       "      <td>Once upon a time there was a poor boy</td>\n",
       "      <td>Once upon a time there was a poor boy named Ti...</td>\n",
       "      <td>./hidden_states/prompt_10.npz</td>\n",
       "      <td>289</td>\n",
       "      <td>290</td>\n",
       "    </tr>\n",
       "    <tr>\n",
       "      <th>9996</th>\n",
       "      <td>10</td>\n",
       "      <td>Once upon a time there was a poor boy</td>\n",
       "      <td>Once upon a time there was a poor boy named Ti...</td>\n",
       "      <td>./hidden_states/prompt_10.npz</td>\n",
       "      <td>119</td>\n",
       "      <td>119</td>\n",
       "    </tr>\n",
       "    <tr>\n",
       "      <th>9997</th>\n",
       "      <td>10</td>\n",
       "      <td>Once upon a time there was a poor boy</td>\n",
       "      <td>Once upon a time there was a poor boy named Ti...</td>\n",
       "      <td>./hidden_states/prompt_10.npz</td>\n",
       "      <td>127</td>\n",
       "      <td>128</td>\n",
       "    </tr>\n",
       "    <tr>\n",
       "      <th>9998</th>\n",
       "      <td>10</td>\n",
       "      <td>Once upon a time there was a poor boy</td>\n",
       "      <td>Once upon a time there was a poor boy named Ti...</td>\n",
       "      <td>./hidden_states/prompt_10.npz</td>\n",
       "      <td>441</td>\n",
       "      <td>441</td>\n",
       "    </tr>\n",
       "    <tr>\n",
       "      <th>9999</th>\n",
       "      <td>10</td>\n",
       "      <td>Once upon a time there was a poor boy</td>\n",
       "      <td>Once upon a time there was a poor boy named Ti...</td>\n",
       "      <td>./hidden_states/prompt_10.npz</td>\n",
       "      <td>520</td>\n",
       "      <td>521</td>\n",
       "    </tr>\n",
       "  </tbody>\n",
       "</table>\n",
       "<p>10000 rows × 6 columns</p>\n",
       "</div>"
      ],
      "text/plain": [
       "      prompt_id                                 prompt  \\\n",
       "0             1    Once upon a time there was a dragon   \n",
       "1             1    Once upon a time there was a dragon   \n",
       "2             1    Once upon a time there was a dragon   \n",
       "3             1    Once upon a time there was a dragon   \n",
       "4             1    Once upon a time there was a dragon   \n",
       "...         ...                                    ...   \n",
       "9995         10  Once upon a time there was a poor boy   \n",
       "9996         10  Once upon a time there was a poor boy   \n",
       "9997         10  Once upon a time there was a poor boy   \n",
       "9998         10  Once upon a time there was a poor boy   \n",
       "9999         10  Once upon a time there was a poor boy   \n",
       "\n",
       "                                                  story  \\\n",
       "0     Once upon a time there was a dragon named Blaz...   \n",
       "1     Once upon a time there was a dragon named Spar...   \n",
       "2     Once upon a time there was a dragon named Scor...   \n",
       "3     Once upon a time there was a dragon. The drago...   \n",
       "4     Once upon a time there was a dragon. The drago...   \n",
       "...                                                 ...   \n",
       "9995  Once upon a time there was a poor boy named Ti...   \n",
       "9996  Once upon a time there was a poor boy named Ti...   \n",
       "9997  Once upon a time there was a poor boy named Ti...   \n",
       "9998  Once upon a time there was a poor boy named Ti...   \n",
       "9999  Once upon a time there was a poor boy named Ti...   \n",
       "\n",
       "                  hidden_state_file  len_generated_story  len_new_story  \n",
       "0      ./hidden_states/prompt_1.npz                  270            271  \n",
       "1      ./hidden_states/prompt_1.npz                  349            350  \n",
       "2      ./hidden_states/prompt_1.npz                  278            278  \n",
       "3      ./hidden_states/prompt_1.npz                  117            118  \n",
       "4      ./hidden_states/prompt_1.npz                  129            130  \n",
       "...                             ...                  ...            ...  \n",
       "9995  ./hidden_states/prompt_10.npz                  289            290  \n",
       "9996  ./hidden_states/prompt_10.npz                  119            119  \n",
       "9997  ./hidden_states/prompt_10.npz                  127            128  \n",
       "9998  ./hidden_states/prompt_10.npz                  441            441  \n",
       "9999  ./hidden_states/prompt_10.npz                  520            521  \n",
       "\n",
       "[10000 rows x 6 columns]"
      ]
     },
     "execution_count": 3,
     "metadata": {},
     "output_type": "execute_result"
    }
   ],
   "source": [
    "df = pd.read_csv(\"../story_dataset.csv\")\n",
    "df"
   ]
  },
  {
   "cell_type": "code",
   "execution_count": 4,
   "id": "c081cc09",
   "metadata": {
    "tags": []
   },
   "outputs": [
    {
     "data": {
      "text/plain": [
       "522"
      ]
     },
     "execution_count": 4,
     "metadata": {},
     "output_type": "execute_result"
    }
   ],
   "source": [
    "max_story_len = max(df[\"len_generated_story\"])\n",
    "max_story_len"
   ]
  },
  {
   "cell_type": "code",
   "execution_count": 5,
   "id": "212c067a",
   "metadata": {
    "scrolled": true,
    "tags": []
   },
   "outputs": [
    {
     "name": "stderr",
     "output_type": "stream",
     "text": [
      "100%|███████████████████████████████████████████████████████████████████████████████| 1000/1000 [01:14<00:00, 13.39it/s]\n",
      "100%|███████████████████████████████████████████████████████████████████████████████| 1000/1000 [01:05<00:00, 15.17it/s]\n",
      "100%|███████████████████████████████████████████████████████████████████████████████| 1000/1000 [00:58<00:00, 17.09it/s]\n",
      "100%|███████████████████████████████████████████████████████████████████████████████| 1000/1000 [01:10<00:00, 14.18it/s]\n",
      "100%|███████████████████████████████████████████████████████████████████████████████| 1000/1000 [01:22<00:00, 12.08it/s]\n",
      "100%|███████████████████████████████████████████████████████████████████████████████| 1000/1000 [01:21<00:00, 12.27it/s]\n",
      "100%|███████████████████████████████████████████████████████████████████████████████| 1000/1000 [01:28<00:00, 11.35it/s]\n",
      "100%|███████████████████████████████████████████████████████████████████████████████| 1000/1000 [01:25<00:00, 11.75it/s]\n",
      "100%|███████████████████████████████████████████████████████████████████████████████| 1000/1000 [01:18<00:00, 12.80it/s]\n",
      "100%|███████████████████████████████████████████████████████████████████████████████| 1000/1000 [01:30<00:00, 11.04it/s]\n"
     ]
    }
   ],
   "source": [
    "hidden_states_by_layer = {}\n",
    "NUM_PROMPTS = 10\n",
    "\n",
    "for prompt_id in range(1, NUM_PROMPTS + 1):\n",
    "    with np.load(f'../hidden_states/prompt_{prompt_id}.npz') as loaded_data:\n",
    "        for i in tqdm(range(1000)):\n",
    "            curr_hidden_states = loaded_data[f\"arr_{i}\"][0]\n",
    "#             print(curr_hidden_states.shape)\n",
    "            for layer in range(2, 3):\n",
    "                padded_arr = np.zeros((max_story_len, 512))\n",
    "                padded_arr_len = len(curr_hidden_states[layer][0])\n",
    "                \n",
    "                padded_arr[:padded_arr_len] = curr_hidden_states[layer][0]\n",
    "                \n",
    "                padded_arr = padded_arr.flatten().astype('float32') #FAISS expects data in type float32 instead of float64 - saves memory too!\n",
    "#                 print(padded_arr.shape)\n",
    "                \n",
    "                if(f\"layer_{layer}\" in hidden_states_by_layer):\n",
    "                    hidden_states_by_layer[f\"layer_{layer}\"].append(padded_arr)\n",
    "                else:\n",
    "                    hidden_states_by_layer[f\"layer_{layer}\"] = [padded_arr]"
   ]
  },
  {
   "cell_type": "code",
   "execution_count": 6,
   "id": "ad23eb70",
   "metadata": {
    "tags": []
   },
   "outputs": [
    {
     "data": {
      "text/plain": [
       "(10000, 267264)"
      ]
     },
     "execution_count": 6,
     "metadata": {},
     "output_type": "execute_result"
    }
   ],
   "source": [
    "layer_hs_array = np.array(hidden_states_by_layer[\"layer_2\"])\n",
    "layer_hs_array.shape"
   ]
  },
  {
   "cell_type": "markdown",
   "id": "e44eecd8-9f29-457b-8f65-d8eae3b84eb8",
   "metadata": {},
   "source": [
    "## Layer 2 Clustering"
   ]
  },
  {
   "cell_type": "code",
   "execution_count": 7,
   "id": "49cf7b1b",
   "metadata": {
    "tags": []
   },
   "outputs": [],
   "source": [
    "# Use original vectors for clustering - uncomment next line and comment out last two lines\n",
    "\n",
    "# dim_reduced_vecs = layer_hs_array\n",
    "\n",
    "random_projector = GaussianRandomProjection(random_state = 42)\n",
    "dim_reduced_vecs = random_projector.fit_transform(layer_hs_array).astype('float32')"
   ]
  },
  {
   "cell_type": "code",
   "execution_count": 8,
   "id": "b9257701",
   "metadata": {
    "tags": []
   },
   "outputs": [
    {
     "data": {
      "text/plain": [
       "(10000, 7894)"
      ]
     },
     "execution_count": 8,
     "metadata": {},
     "output_type": "execute_result"
    }
   ],
   "source": [
    "dim_reduced_vecs = np.array([v / np.linalg.norm(v) for v in dim_reduced_vecs])\n",
    "dim_reduced_vecs.shape"
   ]
  },
  {
   "cell_type": "code",
   "execution_count": 9,
   "id": "22e1c2a5-03fa-43fd-90d4-609a0d949829",
   "metadata": {
    "tags": []
   },
   "outputs": [
    {
     "data": {
      "text/plain": [
       "array([ 1,  1,  1, ..., 10, 10, 10])"
      ]
     },
     "execution_count": 9,
     "metadata": {},
     "output_type": "execute_result"
    }
   ],
   "source": [
    "prompt_ids = df[\"prompt_id\"]\n",
    "prompt_ids = prompt_ids.to_numpy()\n",
    "prompt_ids"
   ]
  },
  {
   "cell_type": "code",
   "execution_count": 10,
   "id": "bd963a3c-0ad1-416a-9fc6-a13bf2422fcd",
   "metadata": {},
   "outputs": [],
   "source": [
    "X_train = np.zeros((int(0.8 * dim_reduced_vecs.shape[0]), dim_reduced_vecs.shape[1]), dtype = np.float32)\n",
    "y_train = np.zeros(int(0.8 * dim_reduced_vecs.shape[0]))\n",
    "\n",
    "X_test = np.zeros((int(0.2 * dim_reduced_vecs.shape[0]), dim_reduced_vecs.shape[1]), dtype = np.float32)\n",
    "y_test = np.zeros(int(0.2 * dim_reduced_vecs.shape[0]))"
   ]
  },
  {
   "cell_type": "code",
   "execution_count": 11,
   "id": "6b84c6a1-29cc-4096-9eb1-420301a7065f",
   "metadata": {},
   "outputs": [],
   "source": [
    "for i in range(10):\n",
    "    X_train[i * 800 : (i + 1) * 800] = dim_reduced_vecs[i * 1000 : (i * 1000) + 800]\n",
    "    y_train[i * 800 : (i + 1) * 800] = prompt_ids[i * 1000 : (i * 1000) + 800]\n",
    "    \n",
    "    X_test[i * 200 : (i + 1) * 200] = dim_reduced_vecs[(i * 1000) + 800 : (i + 1) * 1000]\n",
    "    y_test[i * 200 : (i + 1) * 200] = prompt_ids[(i * 1000) + 800 : (i + 1) * 1000]"
   ]
  },
  {
   "cell_type": "code",
   "execution_count": 12,
   "id": "e7c2f695-573c-4abe-ab7b-eaa4a1661cd2",
   "metadata": {},
   "outputs": [
    {
     "name": "stdout",
     "output_type": "stream",
     "text": [
      "(8000, 7894)\n",
      "(8000,)\n",
      "(2000, 7894)\n",
      "(2000,)\n"
     ]
    }
   ],
   "source": [
    "print(X_train.shape)\n",
    "print(y_train.shape)\n",
    "print(X_test.shape)\n",
    "print(y_test.shape)"
   ]
  },
  {
   "cell_type": "code",
   "execution_count": 13,
   "id": "8aebf88b-1d51-48d2-945c-311b5fc70963",
   "metadata": {},
   "outputs": [
    {
     "name": "stdout",
     "output_type": "stream",
     "text": [
      "Sampling a subset of 4000 / 8000 for training\n",
      "Clustering 4000 points in 7894D to 5 clusters, redo 10 times, 20 iterations\n",
      "  Preprocessing in 0.11 s\n",
      "Outer iteration 0 / 10\n",
      "  Iteration 19 (0.55 s, search 0.29 s): objective=1945.33 imbalance=1.086 nsplit=0       \n",
      "Objective improved: keep new clusters\n",
      "Outer iteration 1 / 10\n",
      "  Iteration 19 (1.08 s, search 0.57 s): objective=1947.2 imbalance=1.094 nsplit=0        \n",
      "Objective improved: keep new clusters\n",
      "Outer iteration 2 / 10\n",
      "  Iteration 19 (1.61 s, search 0.84 s): objective=1937.55 imbalance=1.062 nsplit=0       \n",
      "Outer iteration 3 / 10\n",
      "  Iteration 19 (2.14 s, search 1.11 s): objective=1942.02 imbalance=1.081 nsplit=0       \n",
      "Outer iteration 4 / 10\n",
      "  Iteration 19 (2.67 s, search 1.38 s): objective=1939.55 imbalance=1.109 nsplit=0       \n",
      "Outer iteration 5 / 10\n",
      "  Iteration 19 (3.20 s, search 1.65 s): objective=1939.07 imbalance=1.065 nsplit=0       \n",
      "Outer iteration 6 / 10\n",
      "  Iteration 19 (3.72 s, search 1.92 s): objective=1934.02 imbalance=1.349 nsplit=0       \n",
      "Outer iteration 7 / 10\n",
      "  Iteration 19 (4.24 s, search 2.19 s): objective=1938.84 imbalance=1.340 nsplit=0       \n",
      "Outer iteration 8 / 10\n",
      "  Iteration 19 (4.77 s, search 2.46 s): objective=1939.08 imbalance=1.035 nsplit=0       \n",
      "Outer iteration 9 / 10\n",
      "  Iteration 19 (5.29 s, search 2.73 s): objective=1944.67 imbalance=1.102 nsplit=0       \n",
      "Sampling a subset of 4800 / 8000 for training\n",
      "Clustering 4800 points in 7894D to 6 clusters, redo 10 times, 20 iterations\n",
      "  Preprocessing in 0.12 s\n",
      "Outer iteration 0 / 10\n",
      "  Iteration 19 (0.63 s, search 0.33 s): objective=2335.7 imbalance=1.130 nsplit=0        \n",
      "Objective improved: keep new clusters\n",
      "Outer iteration 1 / 10\n",
      "  Iteration 19 (1.27 s, search 0.66 s): objective=2338.64 imbalance=1.126 nsplit=0       \n",
      "Objective improved: keep new clusters\n",
      "Outer iteration 2 / 10\n",
      "  Iteration 19 (1.92 s, search 1.00 s): objective=2340.81 imbalance=1.125 nsplit=0       \n",
      "Objective improved: keep new clusters\n",
      "Outer iteration 3 / 10\n",
      "  Iteration 19 (2.56 s, search 1.33 s): objective=2340.91 imbalance=1.124 nsplit=0       \n",
      "Objective improved: keep new clusters\n",
      "Outer iteration 4 / 10\n",
      "  Iteration 19 (3.20 s, search 1.67 s): objective=2339.04 imbalance=1.120 nsplit=0       \n",
      "Outer iteration 5 / 10\n",
      "  Iteration 19 (3.85 s, search 2.00 s): objective=2338.72 imbalance=1.109 nsplit=0       \n",
      "Outer iteration 6 / 10\n",
      "  Iteration 19 (4.49 s, search 2.33 s): objective=2328.56 imbalance=1.060 nsplit=0       \n",
      "Outer iteration 7 / 10\n",
      "  Iteration 19 (5.13 s, search 2.66 s): objective=2330.46 imbalance=1.037 nsplit=0       \n",
      "Outer iteration 8 / 10\n",
      "  Iteration 19 (5.76 s, search 2.99 s): objective=2329.57 imbalance=1.724 nsplit=0       \n",
      "Outer iteration 9 / 10\n",
      "  Iteration 19 (6.40 s, search 3.32 s): objective=2340.43 imbalance=1.116 nsplit=0       \n",
      "Sampling a subset of 5600 / 8000 for training\n",
      "Clustering 5600 points in 7894D to 7 clusters, redo 10 times, 20 iterations\n",
      "  Preprocessing in 0.14 s\n",
      "Outer iteration 0 / 10\n",
      "  Iteration 19 (0.75 s, search 0.39 s): objective=2738.2 imbalance=1.196 nsplit=0        \n",
      "Objective improved: keep new clusters\n",
      "Outer iteration 1 / 10\n",
      "  Iteration 19 (1.50 s, search 0.77 s): objective=2739.52 imbalance=1.037 nsplit=0       \n",
      "Objective improved: keep new clusters\n",
      "Outer iteration 2 / 10\n",
      "  Iteration 19 (2.24 s, search 1.16 s): objective=2738.13 imbalance=1.144 nsplit=0       \n",
      "Outer iteration 3 / 10\n",
      "  Iteration 19 (2.99 s, search 1.54 s): objective=2734.77 imbalance=1.114 nsplit=0       \n",
      "Outer iteration 4 / 10\n",
      "  Iteration 19 (3.73 s, search 1.92 s): objective=2738.38 imbalance=1.219 nsplit=0       \n",
      "Outer iteration 5 / 10\n",
      "  Iteration 19 (4.48 s, search 2.31 s): objective=2734.83 imbalance=1.108 nsplit=0       \n",
      "Outer iteration 6 / 10\n",
      "  Iteration 19 (5.23 s, search 2.70 s): objective=2740.39 imbalance=1.033 nsplit=0       \n",
      "Objective improved: keep new clusters\n",
      "Outer iteration 7 / 10\n",
      "  Iteration 19 (5.98 s, search 3.08 s): objective=2733.11 imbalance=1.183 nsplit=0       \n",
      "Outer iteration 8 / 10\n",
      "  Iteration 19 (6.73 s, search 3.46 s): objective=2741.3 imbalance=1.041 nsplit=0        \n",
      "Objective improved: keep new clusters\n",
      "Outer iteration 9 / 10\n",
      "  Iteration 19 (7.48 s, search 3.85 s): objective=2740.72 imbalance=1.037 nsplit=0       \n",
      "Sampling a subset of 6400 / 8000 for training\n",
      "Clustering 6400 points in 7894D to 8 clusters, redo 10 times, 20 iterations\n",
      "  Preprocessing in 0.15 s\n",
      "Outer iteration 0 / 10\n",
      "  Iteration 19 (0.85 s, search 0.43 s): objective=3135.68 imbalance=1.132 nsplit=0       \n",
      "Objective improved: keep new clusters\n",
      "Outer iteration 1 / 10\n",
      "  Iteration 19 (1.72 s, search 0.86 s): objective=3137.37 imbalance=1.139 nsplit=0       \n",
      "Objective improved: keep new clusters\n",
      "Outer iteration 2 / 10\n",
      "  Iteration 19 (2.56 s, search 1.29 s): objective=3110.57 imbalance=1.790 nsplit=0       \n",
      "Outer iteration 3 / 10\n",
      "  Iteration 19 (3.41 s, search 1.73 s): objective=3106.15 imbalance=1.405 nsplit=0       \n",
      "Outer iteration 4 / 10\n",
      "  Iteration 19 (4.28 s, search 2.16 s): objective=3134.65 imbalance=1.026 nsplit=0       \n",
      "Outer iteration 5 / 10\n",
      "  Iteration 19 (5.14 s, search 2.59 s): objective=3132.92 imbalance=1.089 nsplit=0       \n",
      "Outer iteration 6 / 10\n",
      "  Iteration 19 (6.00 s, search 3.02 s): objective=3136.15 imbalance=1.149 nsplit=0       \n",
      "Outer iteration 7 / 10\n",
      "  Iteration 19 (6.85 s, search 3.45 s): objective=3130.8 imbalance=1.253 nsplit=0        \n",
      "Outer iteration 8 / 10\n",
      "  Iteration 19 (7.74 s, search 3.89 s): objective=3134.41 imbalance=1.045 nsplit=0       \n",
      "Outer iteration 9 / 10\n",
      "  Iteration 19 (8.67 s, search 4.37 s): objective=3136.53 imbalance=1.091 nsplit=0       \n",
      "Sampling a subset of 7200 / 8000 for training\n",
      "Clustering 7200 points in 7894D to 9 clusters, redo 10 times, 20 iterations\n",
      "  Preprocessing in 0.18 s\n",
      "Outer iteration 0 / 10\n",
      "  Iteration 19 (0.97 s, search 0.50 s): objective=3540.38 imbalance=1.074 nsplit=0       \n",
      "Objective improved: keep new clusters\n",
      "Outer iteration 1 / 10\n",
      "  Iteration 19 (1.93 s, search 0.99 s): objective=3541.93 imbalance=1.106 nsplit=0       \n",
      "Objective improved: keep new clusters\n",
      "Outer iteration 2 / 10\n",
      "  Iteration 19 (2.90 s, search 1.49 s): objective=3535.34 imbalance=1.091 nsplit=0       \n",
      "Outer iteration 3 / 10\n",
      "  Iteration 19 (3.87 s, search 1.98 s): objective=3543.6 imbalance=1.190 nsplit=0        \n",
      "Objective improved: keep new clusters\n",
      "Outer iteration 4 / 10\n",
      "  Iteration 19 (4.83 s, search 2.48 s): objective=3542.47 imbalance=1.100 nsplit=0       \n",
      "Outer iteration 5 / 10\n",
      "  Iteration 19 (5.80 s, search 2.97 s): objective=3543.81 imbalance=1.167 nsplit=0       \n",
      "Objective improved: keep new clusters\n",
      "Outer iteration 6 / 10\n",
      "  Iteration 19 (6.77 s, search 3.46 s): objective=3544.77 imbalance=1.163 nsplit=0       \n",
      "Objective improved: keep new clusters\n",
      "Outer iteration 7 / 10\n",
      "  Iteration 19 (7.73 s, search 3.96 s): objective=3541.42 imbalance=1.110 nsplit=0       \n",
      "Outer iteration 8 / 10\n",
      "  Iteration 19 (8.71 s, search 4.46 s): objective=3535.99 imbalance=1.070 nsplit=0       \n",
      "Outer iteration 9 / 10\n",
      "  Iteration 19 (9.68 s, search 4.95 s): objective=3539.5 imbalance=1.109 nsplit=0        \n",
      "Clustering 8000 points in 7894D to 10 clusters, redo 10 times, 20 iterations\n",
      "  Preprocessing in 0.04 s\n",
      "Outer iteration 0 / 10\n",
      "  Iteration 19 (1.06 s, search 0.55 s): objective=3930.7 imbalance=1.397 nsplit=0        \n",
      "Objective improved: keep new clusters\n",
      "Outer iteration 1 / 10\n",
      "  Iteration 19 (2.13 s, search 1.09 s): objective=3945.03 imbalance=1.126 nsplit=0       \n",
      "Objective improved: keep new clusters\n",
      "Outer iteration 2 / 10\n",
      "  Iteration 19 (3.19 s, search 1.62 s): objective=3937.62 imbalance=1.232 nsplit=0       \n",
      "Outer iteration 3 / 10\n",
      "  Iteration 19 (4.26 s, search 2.17 s): objective=3940.69 imbalance=1.076 nsplit=0       \n",
      "Outer iteration 4 / 10\n",
      "  Iteration 19 (5.31 s, search 2.70 s): objective=3910.49 imbalance=2.139 nsplit=0       \n",
      "Outer iteration 5 / 10\n",
      "  Iteration 19 (6.38 s, search 3.24 s): objective=3940.53 imbalance=1.123 nsplit=0       \n",
      "Outer iteration 6 / 10\n",
      "  Iteration 19 (7.45 s, search 3.78 s): objective=3934.35 imbalance=1.238 nsplit=0       \n",
      "Outer iteration 7 / 10\n",
      "  Iteration 19 (8.51 s, search 4.32 s): objective=3943.59 imbalance=1.048 nsplit=0       \n",
      "Outer iteration 8 / 10\n",
      "  Iteration 19 (9.58 s, search 4.86 s): objective=3940.23 imbalance=1.112 nsplit=0       \n",
      "Outer iteration 9 / 10\n",
      "  Iteration 19 (10.65 s, search 5.40 s): objective=3942.6 imbalance=1.048 nsplit=0        \n",
      "Clustering 8000 points in 7894D to 11 clusters, redo 10 times, 20 iterations\n",
      "  Preprocessing in 0.04 s\n",
      "Outer iteration 0 / 10\n",
      "  Iteration 19 (1.05 s, search 0.54 s): objective=3939.25 imbalance=1.338 nsplit=0       \n",
      "Objective improved: keep new clusters\n",
      "Outer iteration 1 / 10\n",
      "  Iteration 19 (2.12 s, search 1.08 s): objective=3946.28 imbalance=1.231 nsplit=0       \n",
      "Objective improved: keep new clusters\n",
      "Outer iteration 2 / 10\n",
      "  Iteration 19 (3.19 s, search 1.62 s): objective=3944.3 imbalance=1.165 nsplit=0        \n",
      "Outer iteration 3 / 10\n",
      "  Iteration 19 (4.26 s, search 2.16 s): objective=3953.05 imbalance=1.109 nsplit=0       \n",
      "Objective improved: keep new clusters\n",
      "Outer iteration 4 / 10\n",
      "  Iteration 19 (5.32 s, search 2.70 s): objective=3933.39 imbalance=1.401 nsplit=0       \n",
      "Outer iteration 5 / 10\n",
      "  Iteration 19 (6.39 s, search 3.24 s): objective=3948.66 imbalance=1.144 nsplit=0       \n",
      "Outer iteration 6 / 10\n",
      "  Iteration 19 (7.45 s, search 3.78 s): objective=3942.05 imbalance=1.167 nsplit=0       \n",
      "Outer iteration 7 / 10\n",
      "  Iteration 19 (8.52 s, search 4.32 s): objective=3947.74 imbalance=1.078 nsplit=0       \n",
      "Outer iteration 8 / 10\n",
      "  Iteration 19 (9.59 s, search 4.86 s): objective=3948.21 imbalance=1.237 nsplit=0       \n",
      "Outer iteration 9 / 10\n",
      "  Iteration 19 (10.67 s, search 5.40 s): objective=3951.99 imbalance=1.061 nsplit=0       \n",
      "Clustering 8000 points in 7894D to 12 clusters, redo 10 times, 20 iterations\n",
      "  Preprocessing in 0.04 s\n",
      "Outer iteration 0 / 10\n",
      "  Iteration 19 (1.11 s, search 0.56 s): objective=3948.99 imbalance=1.316 nsplit=0       \n",
      "Objective improved: keep new clusters\n",
      "Outer iteration 1 / 10\n",
      "  Iteration 19 (2.19 s, search 1.11 s): objective=3953.04 imbalance=1.217 nsplit=0       \n",
      "Objective improved: keep new clusters\n",
      "Outer iteration 2 / 10\n",
      "  Iteration 19 (3.26 s, search 1.65 s): objective=3948.22 imbalance=1.165 nsplit=0       \n",
      "Outer iteration 3 / 10\n",
      "  Iteration 19 (4.35 s, search 2.19 s): objective=3960.97 imbalance=1.113 nsplit=0       \n",
      "Objective improved: keep new clusters\n",
      "Outer iteration 4 / 10\n",
      "  Iteration 19 (5.41 s, search 2.73 s): objective=3938.31 imbalance=1.502 nsplit=0       \n",
      "Outer iteration 5 / 10\n",
      "  Iteration 19 (6.49 s, search 3.27 s): objective=3947.22 imbalance=1.110 nsplit=0       \n",
      "Outer iteration 6 / 10\n",
      "  Iteration 19 (7.58 s, search 3.82 s): objective=3951.43 imbalance=1.120 nsplit=0       \n",
      "Outer iteration 7 / 10\n",
      "  Iteration 19 (8.65 s, search 4.36 s): objective=3959.86 imbalance=1.230 nsplit=0       \n",
      "Outer iteration 8 / 10\n",
      "  Iteration 19 (9.73 s, search 4.90 s): objective=3949.05 imbalance=1.154 nsplit=0       \n",
      "Outer iteration 9 / 10\n",
      "  Iteration 19 (10.81 s, search 5.44 s): objective=3956.15 imbalance=1.068 nsplit=0       \n",
      "Clustering 8000 points in 7894D to 13 clusters, redo 10 times, 20 iterations\n",
      "  Preprocessing in 0.04 s\n",
      "Outer iteration 0 / 10\n",
      "  Iteration 19 (1.06 s, search 0.54 s): objective=3956.39 imbalance=1.298 nsplit=0       \n",
      "Objective improved: keep new clusters\n",
      "Outer iteration 1 / 10\n",
      "  Iteration 19 (2.14 s, search 1.08 s): objective=3957.94 imbalance=1.294 nsplit=0       \n",
      "Objective improved: keep new clusters\n",
      "Outer iteration 2 / 10\n",
      "  Iteration 19 (3.22 s, search 1.62 s): objective=3957.19 imbalance=1.144 nsplit=0       \n",
      "Outer iteration 3 / 10\n",
      "  Iteration 19 (4.29 s, search 2.16 s): objective=3962.21 imbalance=1.203 nsplit=0       \n",
      "Objective improved: keep new clusters\n",
      "Outer iteration 4 / 10\n",
      "  Iteration 19 (5.37 s, search 2.70 s): objective=3947.28 imbalance=1.264 nsplit=0       \n",
      "Outer iteration 5 / 10\n",
      "  Iteration 19 (6.45 s, search 3.24 s): objective=3966.83 imbalance=1.068 nsplit=0       \n",
      "Objective improved: keep new clusters\n",
      "Outer iteration 6 / 10\n",
      "  Iteration 19 (7.53 s, search 3.78 s): objective=3955.43 imbalance=1.105 nsplit=0       \n",
      "Outer iteration 7 / 10\n",
      "  Iteration 19 (8.60 s, search 4.32 s): objective=3965 imbalance=1.205 nsplit=0          \n",
      "Outer iteration 8 / 10\n",
      "  Iteration 19 (9.68 s, search 4.86 s): objective=3958.56 imbalance=1.153 nsplit=0       \n",
      "Outer iteration 9 / 10\n",
      "  Iteration 19 (10.76 s, search 5.40 s): objective=3962.75 imbalance=1.117 nsplit=0       \n",
      "Clustering 8000 points in 7894D to 14 clusters, redo 10 times, 20 iterations\n",
      "  Preprocessing in 0.04 s\n",
      "Outer iteration 0 / 10\n",
      "  Iteration 19 (1.07 s, search 0.54 s): objective=3957.8 imbalance=1.391 nsplit=0        \n",
      "Objective improved: keep new clusters\n",
      "Outer iteration 1 / 10\n",
      "  Iteration 19 (2.15 s, search 1.08 s): objective=3964.25 imbalance=1.298 nsplit=0       \n",
      "Objective improved: keep new clusters\n",
      "Outer iteration 2 / 10\n",
      "  Iteration 19 (3.23 s, search 1.62 s): objective=3963.74 imbalance=1.169 nsplit=0       \n",
      "Outer iteration 3 / 10\n",
      "  Iteration 19 (4.35 s, search 2.18 s): objective=3958.47 imbalance=1.210 nsplit=0       \n",
      "Outer iteration 4 / 10\n",
      "  Iteration 19 (5.46 s, search 2.74 s): objective=3954.74 imbalance=1.319 nsplit=0       \n",
      "Outer iteration 5 / 10\n",
      "  Iteration 19 (6.58 s, search 3.30 s): objective=3967.98 imbalance=1.146 nsplit=0       \n",
      "Objective improved: keep new clusters\n",
      "Outer iteration 6 / 10\n",
      "  Iteration 19 (7.67 s, search 3.84 s): objective=3963.21 imbalance=1.140 nsplit=0       \n",
      "Outer iteration 7 / 10\n",
      "  Iteration 19 (8.82 s, search 4.41 s): objective=3961.86 imbalance=1.172 nsplit=0       \n",
      "Outer iteration 8 / 10\n",
      "  Iteration 19 (9.94 s, search 4.97 s): objective=3965.14 imbalance=1.142 nsplit=0       \n",
      "Outer iteration 9 / 10\n",
      "  Iteration 19 (11.04 s, search 5.52 s): objective=3969.34 imbalance=1.115 nsplit=0       \n",
      "Objective improved: keep new clusters\n",
      "Clustering 8000 points in 7894D to 15 clusters, redo 10 times, 20 iterations\n",
      "  Preprocessing in 0.04 s\n",
      "Outer iteration 0 / 10\n",
      "  Iteration 19 (1.08 s, search 0.54 s): objective=3960.46 imbalance=1.366 nsplit=0       \n",
      "Objective improved: keep new clusters\n",
      "Outer iteration 1 / 10\n",
      "  Iteration 19 (2.15 s, search 1.08 s): objective=3975.4 imbalance=1.268 nsplit=0        \n",
      "Objective improved: keep new clusters\n",
      "Outer iteration 2 / 10\n",
      "  Iteration 19 (3.24 s, search 1.62 s): objective=3971.25 imbalance=1.126 nsplit=0       \n",
      "Outer iteration 3 / 10\n",
      "  Iteration 19 (4.33 s, search 2.17 s): objective=3965.21 imbalance=1.182 nsplit=0       \n",
      "Outer iteration 4 / 10\n",
      "  Iteration 19 (5.42 s, search 2.71 s): objective=3956.28 imbalance=1.375 nsplit=0       \n",
      "Outer iteration 5 / 10\n",
      "  Iteration 19 (6.50 s, search 3.25 s): objective=3969.39 imbalance=1.225 nsplit=0       \n",
      "Outer iteration 6 / 10\n",
      "  Iteration 19 (7.59 s, search 3.79 s): objective=3967.6 imbalance=1.134 nsplit=0        \n",
      "Outer iteration 7 / 10\n",
      "  Iteration 19 (8.66 s, search 4.33 s): objective=3969.79 imbalance=1.209 nsplit=0       \n",
      "Outer iteration 8 / 10\n",
      "  Iteration 19 (9.82 s, search 4.91 s): objective=3968.28 imbalance=1.147 nsplit=0       \n",
      "Outer iteration 9 / 10\n",
      "  Iteration 19 (10.91 s, search 5.45 s): objective=3973.41 imbalance=1.144 nsplit=0       \r"
     ]
    },
    {
     "data": {
      "text/plain": [
       "[<matplotlib.lines.Line2D at 0x74ed4b9ca690>]"
      ]
     },
     "execution_count": 13,
     "metadata": {},
     "output_type": "execute_result"
    },
    {
     "data": {
      "image/png": "[encoded data removed]",
      "text/plain": [
       "<Figure size 432x288 with 1 Axes>"
      ]
     },
     "metadata": {
      "needs_background": "light"
     },
     "output_type": "display_data"
    }
   ],
   "source": [
    "# Elbow Plot\n",
    "niter = 20\n",
    "verbose = True\n",
    "dim = X_train.shape[1]\n",
    "\n",
    "k_vals = [k for k in range(5, 16)]\n",
    "wccs = []\n",
    "for k in k_vals:\n",
    "    kmeans = faiss.Kmeans(dim, k, niter = niter, verbose = verbose, gpu = True, nredo = 10, spherical = True, max_points_per_centroid = 800)\n",
    "    kmeans.train(X_train)\n",
    "    wccs.append(kmeans.obj[-1])\n",
    "\n",
    "plt.plot(k_vals, wccs)"
   ]
  },
  {
   "cell_type": "code",
   "execution_count": 14,
   "id": "289102b9",
   "metadata": {
    "scrolled": true,
    "tags": []
   },
   "outputs": [
    {
     "name": "stdout",
     "output_type": "stream",
     "text": [
      "\n",
      "Clustering 8000 points in 7894D to 10 clusters, redo 10 times, 20 iterations\n",
      "  Preprocessing in 0.04 s\n",
      "Outer iteration 0 / 10\n",
      "  Iteration 19 (1.05 s, search 0.54 s): objective=3930.7 imbalance=1.397 nsplit=0        \n",
      "Objective improved: keep new clusters\n",
      "Outer iteration 1 / 10\n",
      "  Iteration 19 (2.11 s, search 1.08 s): objective=3945.03 imbalance=1.126 nsplit=0       \n",
      "Objective improved: keep new clusters\n",
      "Outer iteration 2 / 10\n",
      "  Iteration 19 (3.18 s, search 1.62 s): objective=3937.62 imbalance=1.232 nsplit=0       \n",
      "Outer iteration 3 / 10\n",
      "  Iteration 19 (4.29 s, search 2.18 s): objective=3940.69 imbalance=1.076 nsplit=0       \n",
      "Outer iteration 4 / 10\n",
      "  Iteration 19 (5.34 s, search 2.72 s): objective=3910.49 imbalance=2.139 nsplit=0       \n",
      "Outer iteration 5 / 10\n",
      "  Iteration 19 (6.40 s, search 3.26 s): objective=3940.53 imbalance=1.123 nsplit=0       \n",
      "Outer iteration 6 / 10\n",
      "  Iteration 19 (7.51 s, search 3.82 s): objective=3934.35 imbalance=1.238 nsplit=0       \n",
      "Outer iteration 7 / 10\n",
      "  Iteration 19 (8.65 s, search 4.39 s): objective=3943.59 imbalance=1.048 nsplit=0       \n",
      "Outer iteration 8 / 10\n",
      "  Iteration 19 (9.72 s, search 4.94 s): objective=3940.23 imbalance=1.112 nsplit=0       \n",
      "Outer iteration 9 / 10\n",
      "  Iteration 19 (10.89 s, search 5.53 s): objective=3942.6 imbalance=1.048 nsplit=0        \r"
     ]
    },
    {
     "data": {
      "text/plain": [
       "3945.030029296875"
      ]
     },
     "execution_count": 14,
     "metadata": {},
     "output_type": "execute_result"
    }
   ],
   "source": [
    "# K-means Clustering\n",
    "\n",
    "# ncentroids = NUM_PROMPTS\n",
    "ncentroids = 10 # Elbow point - based on objective (sum of cosine similarities)\n",
    "niter = 20\n",
    "verbose = True\n",
    "dim = X_train.shape[1]\n",
    "kmeans = faiss.Kmeans(dim, ncentroids, niter = niter, verbose = verbose, gpu = True, nredo = 10, spherical = True, max_points_per_centroid = 800)\n",
    "kmeans.train(X_train)"
   ]
  },
  {
   "cell_type": "code",
   "execution_count": 15,
   "id": "19cf0f0a",
   "metadata": {
    "tags": []
   },
   "outputs": [
    {
     "data": {
      "text/plain": [
       "array([[ 0.01464519, -0.00500439,  0.0128459 , ...,  0.00271273,\n",
       "         0.00783452,  0.01466251],\n",
       "       [ 0.0137897 , -0.00525204,  0.01200565, ...,  0.00086048,\n",
       "         0.01674183,  0.01908222],\n",
       "       [ 0.01390902, -0.01164836,  0.00910922, ...,  0.00025399,\n",
       "         0.00583742,  0.01501025],\n",
       "       ...,\n",
       "       [ 0.01538714, -0.00596671,  0.01069167, ...,  0.00279974,\n",
       "         0.00719184,  0.01611486],\n",
       "       [ 0.02141245, -0.00144417,  0.01189291, ...,  0.00110883,\n",
       "         0.00919046,  0.01356508],\n",
       "       [ 0.01705309, -0.00494285,  0.01493528, ...,  0.00070973,\n",
       "         0.01198907,  0.01388743]], dtype=float32)"
      ]
     },
     "execution_count": 15,
     "metadata": {},
     "output_type": "execute_result"
    }
   ],
   "source": [
    "kmeans.centroids #cluster centers"
   ]
  },
  {
   "cell_type": "code",
   "execution_count": 16,
   "id": "61e726e9",
   "metadata": {
    "tags": []
   },
   "outputs": [
    {
     "name": "stdout",
     "output_type": "stream",
     "text": [
      "1.0000004\n",
      "0.9999999\n",
      "1.0000001\n",
      "1.0\n",
      "0.9999999\n",
      "1.0000001\n",
      "1.0000004\n",
      "0.9999998\n",
      "1.0000001\n",
      "0.9999998\n"
     ]
    }
   ],
   "source": [
    "for centroid in kmeans.centroids:\n",
    "    print(np.linalg.norm(centroid))"
   ]
  },
  {
   "cell_type": "code",
   "execution_count": 17,
   "id": "e5e1fa18",
   "metadata": {
    "tags": []
   },
   "outputs": [
    {
     "data": {
      "text/plain": [
       "array([2552.8425293 , 3794.54516602, 3865.08105469, 3893.27807617,\n",
       "       3905.28393555, 3912.73510742, 3918.56445312, 3922.12548828,\n",
       "       3925.03466797, 3927.36914062, 3928.98925781, 3929.8112793 ,\n",
       "       3930.31567383, 3930.53149414, 3930.61914062, 3930.67114258,\n",
       "       3930.68896484, 3930.69042969, 3930.69018555, 3930.69555664,\n",
       "       2626.09985352, 3800.81103516, 3833.27563477, 3866.17236328,\n",
       "       3896.05834961, 3914.74414062, 3924.86572266, 3931.75390625,\n",
       "       3936.69042969, 3939.82495117, 3941.47875977, 3942.42822266,\n",
       "       3943.07397461, 3943.53759766, 3943.80932617, 3944.11108398,\n",
       "       3944.43505859, 3944.71801758, 3944.91381836, 3945.0300293 ])"
      ]
     },
     "execution_count": 17,
     "metadata": {},
     "output_type": "execute_result"
    }
   ],
   "source": [
    "kmeans.obj #inertia at each iteration"
   ]
  },
  {
   "cell_type": "code",
   "execution_count": 18,
   "id": "ed2c340d",
   "metadata": {
    "tags": []
   },
   "outputs": [],
   "source": [
    "cos_similarities = X_train @ kmeans.centroids.T\n",
    "classifications_train = np.argmax(cos_similarities, axis=1)"
   ]
  },
  {
   "cell_type": "code",
   "execution_count": 19,
   "id": "90aae79f",
   "metadata": {
    "tags": []
   },
   "outputs": [
    {
     "data": {
      "text/plain": [
       "5    1212\n",
       "4    1188\n",
       "0    1071\n",
       "1     955\n",
       "6     786\n",
       "3     715\n",
       "2     649\n",
       "7     613\n",
       "8     459\n",
       "9     352\n",
       "dtype: int64"
      ]
     },
     "execution_count": 19,
     "metadata": {},
     "output_type": "execute_result"
    }
   ],
   "source": [
    "pd.Series(classifications_train).value_counts()"
   ]
  },
  {
   "cell_type": "code",
   "execution_count": 20,
   "id": "fc34c419-5d92-4dc6-8db4-9dc84b83a8d4",
   "metadata": {
    "tags": []
   },
   "outputs": [
    {
     "data": {
      "text/plain": [
       "[2, 6, 3, 4, 5, 1, 5, 9, 10, 10]"
      ]
     },
     "execution_count": 20,
     "metadata": {},
     "output_type": "execute_result"
    }
   ],
   "source": [
    "# Get most common label for each point classified to a centroid (same centroid)\n",
    "centroid_labels = [np.where(classifications_train == i)[0] for i in range(ncentroids)]\n",
    "max_label_per_centroid = [int(pd.Series(y_train[centroid_labels[i]]).value_counts().idxmax()) for i in range(ncentroids)]\n",
    "max_label_per_centroid"
   ]
  },
  {
   "cell_type": "code",
   "execution_count": 21,
   "id": "20e159a9-ef63-4a0e-8e94-52e041a5c416",
   "metadata": {
    "tags": []
   },
   "outputs": [],
   "source": [
    "centroid_to_label = {idx : max_label_per_centroid[idx] for idx in range(len(max_label_per_centroid))}"
   ]
  },
  {
   "cell_type": "code",
   "execution_count": 22,
   "id": "45760bd2-820d-462e-a8ef-8d054ed5dde4",
   "metadata": {
    "tags": []
   },
   "outputs": [
    {
     "data": {
      "text/plain": [
       "{0: 2, 1: 6, 2: 3, 3: 4, 4: 5, 5: 1, 6: 5, 7: 9, 8: 10, 9: 10}"
      ]
     },
     "execution_count": 22,
     "metadata": {},
     "output_type": "execute_result"
    }
   ],
   "source": [
    "centroid_to_label"
   ]
  },
  {
   "cell_type": "code",
   "execution_count": 23,
   "id": "b9cf2ac5-ce04-4efe-9828-041723e1f453",
   "metadata": {
    "tags": []
   },
   "outputs": [
    {
     "data": {
      "text/plain": [
       "array([ 4,  9,  9, ..., 10, 10, 10])"
      ]
     },
     "execution_count": 23,
     "metadata": {},
     "output_type": "execute_result"
    }
   ],
   "source": [
    "vectorized_map = np.vectorize(centroid_to_label.get)\n",
    "classifications_to_label = vectorized_map(classifications_train)\n",
    "\n",
    "classifications_to_label"
   ]
  },
  {
   "cell_type": "code",
   "execution_count": 24,
   "id": "c793f2dc-74de-4e3a-b0a8-3839b1be8dd9",
   "metadata": {
    "tags": []
   },
   "outputs": [
    {
     "name": "stdout",
     "output_type": "stream",
     "text": [
      "Prompt 1 Accuracy:  0.29\n",
      "Prompt 2 Accuracy:  0.27\n",
      "Prompt 3 Accuracy:  0.16125\n",
      "Prompt 4 Accuracy:  0.18625\n",
      "Prompt 5 Accuracy:  0.75375\n",
      "Prompt 6 Accuracy:  0.28125\n",
      "Prompt 7 Accuracy:  0.0\n",
      "Prompt 8 Accuracy:  0.0\n",
      "Prompt 9 Accuracy:  0.24375\n",
      "Prompt 10 Accuracy:  0.98\n"
     ]
    }
   ],
   "source": [
    "for i in range(10):\n",
    "    print(f\"Prompt {i + 1} Accuracy: \", np.mean(classifications_to_label[i * 800:(i + 1) * 800] == (i + 1)))"
   ]
  },
  {
   "cell_type": "code",
   "execution_count": 25,
   "id": "ac9d3497-d991-455d-a121-1a4c234314b0",
   "metadata": {
    "tags": []
   },
   "outputs": [
    {
     "name": "stdout",
     "output_type": "stream",
     "text": [
      "Overall Accuracy:  0.316625\n"
     ]
    }
   ],
   "source": [
    "print(f\"Overall Accuracy: \", np.mean(classifications_to_label == y_train))"
   ]
  },
  {
   "cell_type": "markdown",
   "id": "b8d32ef1-a624-4d32-abcb-8daacad47cdc",
   "metadata": {},
   "source": [
    "## Perform Inference on Test Set & Collect Test Accuracy"
   ]
  },
  {
   "cell_type": "code",
   "execution_count": 26,
   "id": "2431abbc-b684-4c06-8fd6-06c771a1c4fa",
   "metadata": {},
   "outputs": [],
   "source": [
    "cos_similarities = X_test @ kmeans.centroids.T\n",
    "classifications_test = np.argmax(cos_similarities, axis=1)"
   ]
  },
  {
   "cell_type": "code",
   "execution_count": 27,
   "id": "d9a7dd1c-884b-4bef-b538-6c0a65a6f7e4",
   "metadata": {},
   "outputs": [
    {
     "data": {
      "text/plain": [
       "5    318\n",
       "4    296\n",
       "0    245\n",
       "1    225\n",
       "6    203\n",
       "3    177\n",
       "2    169\n",
       "7    164\n",
       "8    119\n",
       "9     84\n",
       "dtype: int64"
      ]
     },
     "execution_count": 27,
     "metadata": {},
     "output_type": "execute_result"
    }
   ],
   "source": [
    "pd.Series(classifications_test).value_counts()"
   ]
  },
  {
   "cell_type": "code",
   "execution_count": 28,
   "id": "6fa74238-a2b3-4277-bcd6-88ab9d5caf4f",
   "metadata": {},
   "outputs": [
    {
     "data": {
      "text/plain": [
       "array([ 1,  9,  5, ..., 10, 10, 10])"
      ]
     },
     "execution_count": 28,
     "metadata": {},
     "output_type": "execute_result"
    }
   ],
   "source": [
    "classifications_to_label_test = vectorized_map(classifications_test)\n",
    "\n",
    "classifications_to_label_test"
   ]
  },
  {
   "cell_type": "code",
   "execution_count": 29,
   "id": "799e3a99-6659-44b7-becd-4d0825fd1957",
   "metadata": {},
   "outputs": [
    {
     "name": "stdout",
     "output_type": "stream",
     "text": [
      "Prompt 1 Accuracy:  0.31\n",
      "Prompt 2 Accuracy:  0.215\n",
      "Prompt 3 Accuracy:  0.225\n",
      "Prompt 4 Accuracy:  0.185\n",
      "Prompt 5 Accuracy:  0.81\n",
      "Prompt 6 Accuracy:  0.25\n",
      "Prompt 7 Accuracy:  0.0\n",
      "Prompt 8 Accuracy:  0.0\n",
      "Prompt 9 Accuracy:  0.3\n",
      "Prompt 10 Accuracy:  0.985\n"
     ]
    }
   ],
   "source": [
    "for i in range(10):\n",
    "    print(f\"Prompt {i + 1} Accuracy: \", np.mean(classifications_to_label_test[i * 200:(i + 1) * 200] == (i + 1)))"
   ]
  },
  {
   "cell_type": "code",
   "execution_count": 30,
   "id": "4f97cfa0-27da-4897-8e65-681b75ad51d7",
   "metadata": {},
   "outputs": [
    {
     "name": "stdout",
     "output_type": "stream",
     "text": [
      "Overall Accuracy:  0.328\n"
     ]
    }
   ],
   "source": [
    "print(f\"Overall Accuracy: \", np.mean(classifications_to_label_test == y_test))"
   ]
  },
  {
   "cell_type": "markdown",
   "id": "ee076424-49c5-4245-a3a3-56fba51465ea",
   "metadata": {},
   "source": [
    "## Confusion Matrix of Results"
   ]
  },
  {
   "cell_type": "code",
   "execution_count": 31,
   "id": "b9175267-2fef-4f02-930e-c263ec396f91",
   "metadata": {
    "tags": []
   },
   "outputs": [],
   "source": [
    "from sklearn.metrics import confusion_matrix, ConfusionMatrixDisplay\n",
    "import matplotlib.pyplot as plt"
   ]
  },
  {
   "cell_type": "code",
   "execution_count": 32,
   "id": "3c2c3ac7-26e3-42d5-860a-918d735776c1",
   "metadata": {
    "tags": []
   },
   "outputs": [
    {
     "data": {
      "image/png": "[encoded data removed]",
      "text/plain": [
       "<Figure size 432x288 with 2 Axes>"
      ]
     },
     "metadata": {
      "needs_background": "light"
     },
     "output_type": "display_data"
    }
   ],
   "source": [
    "cm = confusion_matrix(y_train, classifications_to_label)\n",
    "disp = ConfusionMatrixDisplay(confusion_matrix=cm, display_labels=[f\"{i}\" for i in range(1, 11)])\n",
    "\n",
    "disp.plot()\n",
    "plt.title('Confusion Matrix for Train Set')\n",
    "plt.show()"
   ]
  },
  {
   "cell_type": "code",
   "execution_count": 33,
   "id": "03a45427-f767-4838-968e-c341eca03746",
   "metadata": {
    "tags": []
   },
   "outputs": [
    {
     "data": {
      "image/png": "[encoded data removed]",
      "text/plain": [
       "<Figure size 432x288 with 2 Axes>"
      ]
     },
     "metadata": {
      "needs_background": "light"
     },
     "output_type": "display_data"
    }
   ],
   "source": [
    "cm = confusion_matrix(y_test, classifications_to_label_test)\n",
    "disp = ConfusionMatrixDisplay(confusion_matrix=cm, display_labels=[f\"{i}\" for i in range(1, 11)])\n",
    "\n",
    "disp.plot()\n",
    "plt.title('Confusion Matrix for Test Set')\n",
    "plt.show()"
   ]
  },
  {
   "cell_type": "code",
   "execution_count": null,
   "id": "1322b9ab-2b94-4d00-95cf-1b3741b9f482",
   "metadata": {},
   "outputs": [],
   "source": []
  },
  {
   "cell_type": "code",
   "execution_count": null,
   "id": "de826fc3-e67f-45cb-bb74-15dfcbd3d18d",
   "metadata": {},
   "outputs": [],
   "source": []
  }
 ],
 "metadata": {
  "kernelspec": {
   "display_name": "Python 3 (ipykernel)",
   "language": "python",
   "name": "python3"
  },
  "language_info": {
   "codemirror_mode": {
    "name": "ipython",
    "version": 3
   },
   "file_extension": ".py",
   "mimetype": "text/x-python",
   "name": "python",
   "nbconvert_exporter": "python",
   "pygments_lexer": "ipython3",
   "version": "3.7.11"
  }
 },
 "nbformat": 4,
 "nbformat_minor": 5
}
