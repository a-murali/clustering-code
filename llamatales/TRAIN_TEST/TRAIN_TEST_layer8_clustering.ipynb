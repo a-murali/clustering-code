{
 "cells": [
  {
   "cell_type": "markdown",
   "id": "64c867a4-b1c3-426b-b086-de071a726ebf",
   "metadata": {},
   "source": [
    "## Install Packages"
   ]
  },
  {
   "cell_type": "code",
   "execution_count": 1,
   "id": "80849741",
   "metadata": {
    "tags": []
   },
   "outputs": [
    {
     "name": "stdout",
     "output_type": "stream",
     "text": [
      "Collecting package metadata (current_repodata.json): - WARNING conda.models.version:get_matcher(540): Using .* with relational operator is superfluous and deprecated and will be removed in a future version of conda. Your spec was 1.7.1.*, but conda is ignoring the .* and treating it as 1.7.1\n",
      "done\n",
      "Solving environment: failed with initial frozen solve. Retrying with flexible solve.\n",
      "Solving environment: failed with repodata from current_repodata.json, will retry with next repodata source.\n",
      "Collecting package metadata (repodata.json): | WARNING conda.models.version:get_matcher(540): Using .* with relational operator is superfluous and deprecated and will be removed in a future version of conda. Your spec was 1.9.0.*, but conda is ignoring the .* and treating it as 1.9.0\n",
      "WARNING conda.models.version:get_matcher(540): Using .* with relational operator is superfluous and deprecated and will be removed in a future version of conda. Your spec was 1.8.0.*, but conda is ignoring the .* and treating it as 1.8.0\n",
      "WARNING conda.models.version:get_matcher(540): Using .* with relational operator is superfluous and deprecated and will be removed in a future version of conda. Your spec was 1.6.0.*, but conda is ignoring the .* and treating it as 1.6.0\n",
      "done\n",
      "Solving environment: done\n",
      "\n",
      "\n",
      "==> WARNING: A newer version of conda exists. <==\n",
      "  current version: 4.10.3\n",
      "  latest version: 25.7.0\n",
      "\n",
      "Please update conda by running\n",
      "\n",
      "    $ conda update -n base -c defaults conda\n",
      "\n",
      "\n",
      "\n",
      "## Package Plan ##\n",
      "\n",
      "  environment location: /opt/conda\n",
      "\n",
      "  added / updated specs:\n",
      "    - faiss-gpu\n",
      "\n",
      "\n",
      "The following packages will be downloaded:\n",
      "\n",
      "    package                    |            build\n",
      "    ---------------------------|-----------------\n",
      "    ca-certificates-2025.8.3   |       hbd8a1cb_0         151 KB  conda-forge\n",
      "    certifi-2024.8.30          |     pyhd8ed1ab_0         160 KB  conda-forge\n",
      "    conda-4.12.0               |   py37h89c1867_0         1.0 MB  conda-forge\n",
      "    faiss-1.7.1                |py37cuda111h7f21d35_1_cuda         2.0 MB  conda-forge\n",
      "    faiss-gpu-1.7.1            |       h788eb59_1          15 KB  conda-forge\n",
      "    libblas-3.9.0              |   26_linux64_mkl          16 KB  conda-forge\n",
      "    libfaiss-1.7.1             |cuda111hf54f04a_1_cuda        80.2 MB  conda-forge\n",
      "    libfaiss-avx2-1.7.1        |cuda111h1234567_1_cuda        80.3 MB  conda-forge\n",
      "    liblapack-3.9.0            |   26_linux64_mkl          16 KB  conda-forge\n",
      "    openssl-1.1.1w             |       h7f8727e_0         3.7 MB\n",
      "    python_abi-3.7             |          2_cp37m           4 KB  conda-forge\n",
      "    ------------------------------------------------------------\n",
      "                                           Total:       167.6 MB\n",
      "\n",
      "The following NEW packages will be INSTALLED:\n",
      "\n",
      "  faiss              conda-forge/linux-64::faiss-1.7.1-py37cuda111h7f21d35_1_cuda\n",
      "  faiss-gpu          conda-forge/linux-64::faiss-gpu-1.7.1-h788eb59_1\n",
      "  libblas            conda-forge/linux-64::libblas-3.9.0-26_linux64_mkl\n",
      "  libfaiss           conda-forge/linux-64::libfaiss-1.7.1-cuda111hf54f04a_1_cuda\n",
      "  libfaiss-avx2      conda-forge/linux-64::libfaiss-avx2-1.7.1-cuda111h1234567_1_cuda\n",
      "  liblapack          conda-forge/linux-64::liblapack-3.9.0-26_linux64_mkl\n",
      "  python_abi         conda-forge/linux-64::python_abi-3.7-2_cp37m\n",
      "\n",
      "The following packages will be UPDATED:\n",
      "\n",
      "  ca-certificates    pkgs/main/linux-64::ca-certificates-2~ --> conda-forge/noarch::ca-certificates-2025.8.3-hbd8a1cb_0\n",
      "  certifi            pkgs/main/linux-64::certifi-2021.10.8~ --> conda-forge/noarch::certifi-2024.8.30-pyhd8ed1ab_0\n",
      "  conda              pkgs/main::conda-4.10.3-py37h06a4308_0 --> conda-forge::conda-4.12.0-py37h89c1867_0\n",
      "  openssl                                 1.1.1l-h7f8727e_0 --> 1.1.1w-h7f8727e_0\n",
      "\n",
      "\n",
      "\n",
      "Downloading and Extracting Packages\n",
      "ca-certificates-2025 | 151 KB    | ##################################### | 100% \n",
      "libfaiss-1.7.1       | 80.2 MB   | ##################################### | 100% \n",
      "libfaiss-avx2-1.7.1  | 80.3 MB   | ##################################### | 100% \n",
      "liblapack-3.9.0      | 16 KB     | ##################################### | 100% \n",
      "conda-4.12.0         | 1.0 MB    | ##################################### | 100% \n",
      "openssl-1.1.1w       | 3.7 MB    | ##################################### | 100% \n",
      "faiss-gpu-1.7.1      | 15 KB     | ##################################### | 100% \n",
      "faiss-1.7.1          | 2.0 MB    | ##################################### | 100% \n",
      "certifi-2024.8.30    | 160 KB    | ##################################### | 100% \n",
      "python_abi-3.7       | 4 KB      | ##################################### | 100% \n",
      "libblas-3.9.0        | 16 KB     | ##################################### | 100% \n",
      "Preparing transaction: done\n",
      "Verifying transaction: done\n",
      "Executing transaction: done\n",
      "Hit:1 http://archive.ubuntu.com/ubuntu bionic InRelease    \n",
      "Get:2 http://archive.ubuntu.com/ubuntu bionic-updates InRelease [102 kB]\n",
      "Get:3 http://archive.ubuntu.com/ubuntu bionic-backports InRelease [102 kB]     \n",
      "Get:4 http://security.ubuntu.com/ubuntu bionic-security InRelease [102 kB]     \n",
      "Get:5 http://archive.ubuntu.com/ubuntu bionic-updates/restricted amd64 Packages [1728 kB]\n",
      "Get:6 http://security.ubuntu.com/ubuntu bionic-security/universe amd64 Packages [1637 kB]\n",
      "Get:7 http://security.ubuntu.com/ubuntu bionic-security/multiverse amd64 Packages [23.8 kB]\n",
      "Get:8 http://security.ubuntu.com/ubuntu bionic-security/main amd64 Packages [3373 kB]\n",
      "Get:9 http://security.ubuntu.com/ubuntu bionic-security/restricted amd64 Packages [1688 kB]\n",
      "Get:10 http://archive.ubuntu.com/ubuntu bionic-updates/universe amd64 Packages [2411 kB]\n",
      "Get:11 http://archive.ubuntu.com/ubuntu bionic-updates/multiverse amd64 Packages [30.8 kB]\n",
      "Get:12 http://archive.ubuntu.com/ubuntu bionic-updates/main amd64 Packages [3786 kB]\n",
      "Get:13 http://archive.ubuntu.com/ubuntu bionic-backports/universe amd64 Packages [20.6 kB]\n",
      "Get:14 http://archive.ubuntu.com/ubuntu bionic-backports/main amd64 Packages [64.0 kB]\n",
      "Fetched 15.1 MB in 4s (3666 kB/s)\n",
      "Reading package lists... Done\n",
      "Reading package lists... Done\n",
      "Building dependency tree       \n",
      "Reading state information... Done\n",
      "The following additional packages will be installed:\n",
      "  gcc-7-base libatlas3-base libgfortran4 libquadmath0\n",
      "Suggested packages:\n",
      "  libatlas-doc liblapack-doc\n",
      "The following NEW packages will be installed:\n",
      "  gcc-7-base libatlas-base-dev libatlas3-base libgfortran4 libquadmath0\n",
      "0 upgraded, 5 newly installed, 0 to remove and 83 not upgraded.\n",
      "Need to get 8397 kB of archives.\n",
      "After this operation, 49.3 MB of additional disk space will be used.\n",
      "Get:1 http://archive.ubuntu.com/ubuntu bionic-updates/main amd64 gcc-7-base amd64 7.5.0-3ubuntu1~18.04 [18.3 kB]\n",
      "Get:2 http://archive.ubuntu.com/ubuntu bionic-updates/main amd64 libquadmath0 amd64 8.4.0-1ubuntu1~18.04 [134 kB]\n",
      "Get:3 http://archive.ubuntu.com/ubuntu bionic-updates/main amd64 libgfortran4 amd64 7.5.0-3ubuntu1~18.04 [492 kB]\n",
      "Get:4 http://archive.ubuntu.com/ubuntu bionic/universe amd64 libatlas3-base amd64 3.10.3-5 [3732 kB]\n",
      "Get:5 http://archive.ubuntu.com/ubuntu bionic/universe amd64 libatlas-base-dev amd64 3.10.3-5 [4022 kB]\n",
      "Fetched 8397 kB in 3s (3099 kB/s)           \n",
      "debconf: delaying package configuration, since apt-utils is not installed\n",
      "Selecting previously unselected package gcc-7-base:amd64.\n",
      "(Reading database ... 11934 files and directories currently installed.)\n",
      "Preparing to unpack .../gcc-7-base_7.5.0-3ubuntu1~18.04_amd64.deb ...\n",
      "Unpacking gcc-7-base:amd64 (7.5.0-3ubuntu1~18.04) ...\n",
      "Selecting previously unselected package libquadmath0:amd64.\n",
      "Preparing to unpack .../libquadmath0_8.4.0-1ubuntu1~18.04_amd64.deb ...\n",
      "Unpacking libquadmath0:amd64 (8.4.0-1ubuntu1~18.04) ...\n",
      "Selecting previously unselected package libgfortran4:amd64.\n",
      "Preparing to unpack .../libgfortran4_7.5.0-3ubuntu1~18.04_amd64.deb ...\n",
      "Unpacking libgfortran4:amd64 (7.5.0-3ubuntu1~18.04) ...\n",
      "Selecting previously unselected package libatlas3-base:amd64.\n",
      "Preparing to unpack .../libatlas3-base_3.10.3-5_amd64.deb ...\n",
      "Unpacking libatlas3-base:amd64 (3.10.3-5) ...\n",
      "Selecting previously unselected package libatlas-base-dev:amd64.\n",
      "Preparing to unpack .../libatlas-base-dev_3.10.3-5_amd64.deb ...\n",
      "Unpacking libatlas-base-dev:amd64 (3.10.3-5) ...\n",
      "Setting up libquadmath0:amd64 (8.4.0-1ubuntu1~18.04) ...\n",
      "Setting up gcc-7-base:amd64 (7.5.0-3ubuntu1~18.04) ...\n",
      "Setting up libgfortran4:amd64 (7.5.0-3ubuntu1~18.04) ...\n",
      "Setting up libatlas3-base:amd64 (3.10.3-5) ...\n",
      "update-alternatives: using /usr/lib/x86_64-linux-gnu/atlas/libblas.so.3 to provide /usr/lib/x86_64-linux-gnu/libblas.so.3 (libblas.so.3-x86_64-linux-gnu) in auto mode\n",
      "update-alternatives: using /usr/lib/x86_64-linux-gnu/atlas/liblapack.so.3 to provide /usr/lib/x86_64-linux-gnu/liblapack.so.3 (liblapack.so.3-x86_64-linux-gnu) in auto mode\n",
      "Setting up libatlas-base-dev:amd64 (3.10.3-5) ...\n",
      "update-alternatives: using /usr/lib/x86_64-linux-gnu/atlas/libblas.so to provide /usr/lib/x86_64-linux-gnu/libblas.so (libblas.so-x86_64-linux-gnu) in auto mode\n",
      "update-alternatives: using /usr/lib/x86_64-linux-gnu/atlas/liblapack.so to provide /usr/lib/x86_64-linux-gnu/liblapack.so (liblapack.so-x86_64-linux-gnu) in auto mode\n",
      "Processing triggers for libc-bin (2.27-3ubuntu1.4) ...\n"
     ]
    }
   ],
   "source": [
    "!conda install -y -c conda-forge faiss-gpu\n",
    "!apt-get -y update\n",
    "!apt-get -y install libatlas-base-dev"
   ]
  },
  {
   "cell_type": "markdown",
   "id": "ea6af1a5-1aef-4743-bfa6-7392ed97dbe7",
   "metadata": {},
   "source": [
    "## Load Data"
   ]
  },
  {
   "cell_type": "code",
   "execution_count": 2,
   "id": "e26dddbf",
   "metadata": {
    "tags": []
   },
   "outputs": [],
   "source": [
    "import pandas as pd\n",
    "import numpy as np\n",
    "import matplotlib.pyplot as plt\n",
    "\n",
    "from sklearn.random_projection import GaussianRandomProjection\n",
    "\n",
    "from tqdm import tqdm\n",
    "\n",
    "import faiss"
   ]
  },
  {
   "cell_type": "code",
   "execution_count": 3,
   "id": "89c2cffa",
   "metadata": {
    "tags": []
   },
   "outputs": [
    {
     "data": {
      "text/html": [
       "<div>\n",
       "<style scoped>\n",
       "    .dataframe tbody tr th:only-of-type {\n",
       "        vertical-align: middle;\n",
       "    }\n",
       "\n",
       "    .dataframe tbody tr th {\n",
       "        vertical-align: top;\n",
       "    }\n",
       "\n",
       "    .dataframe thead th {\n",
       "        text-align: right;\n",
       "    }\n",
       "</style>\n",
       "<table border=\"1\" class=\"dataframe\">\n",
       "  <thead>\n",
       "    <tr style=\"text-align: right;\">\n",
       "      <th></th>\n",
       "      <th>prompt_id</th>\n",
       "      <th>prompt</th>\n",
       "      <th>story</th>\n",
       "      <th>hidden_state_file</th>\n",
       "      <th>len_generated_story</th>\n",
       "      <th>len_new_story</th>\n",
       "    </tr>\n",
       "  </thead>\n",
       "  <tbody>\n",
       "    <tr>\n",
       "      <th>0</th>\n",
       "      <td>1</td>\n",
       "      <td>Once upon a time there was a dragon</td>\n",
       "      <td>Once upon a time there was a dragon named Blaz...</td>\n",
       "      <td>./hidden_states/prompt_1.npz</td>\n",
       "      <td>270</td>\n",
       "      <td>271</td>\n",
       "    </tr>\n",
       "    <tr>\n",
       "      <th>1</th>\n",
       "      <td>1</td>\n",
       "      <td>Once upon a time there was a dragon</td>\n",
       "      <td>Once upon a time there was a dragon named Spar...</td>\n",
       "      <td>./hidden_states/prompt_1.npz</td>\n",
       "      <td>349</td>\n",
       "      <td>350</td>\n",
       "    </tr>\n",
       "    <tr>\n",
       "      <th>2</th>\n",
       "      <td>1</td>\n",
       "      <td>Once upon a time there was a dragon</td>\n",
       "      <td>Once upon a time there was a dragon named Scor...</td>\n",
       "      <td>./hidden_states/prompt_1.npz</td>\n",
       "      <td>278</td>\n",
       "      <td>278</td>\n",
       "    </tr>\n",
       "    <tr>\n",
       "      <th>3</th>\n",
       "      <td>1</td>\n",
       "      <td>Once upon a time there was a dragon</td>\n",
       "      <td>Once upon a time there was a dragon. The drago...</td>\n",
       "      <td>./hidden_states/prompt_1.npz</td>\n",
       "      <td>117</td>\n",
       "      <td>118</td>\n",
       "    </tr>\n",
       "    <tr>\n",
       "      <th>4</th>\n",
       "      <td>1</td>\n",
       "      <td>Once upon a time there was a dragon</td>\n",
       "      <td>Once upon a time there was a dragon. The drago...</td>\n",
       "      <td>./hidden_states/prompt_1.npz</td>\n",
       "      <td>129</td>\n",
       "      <td>130</td>\n",
       "    </tr>\n",
       "    <tr>\n",
       "      <th>...</th>\n",
       "      <td>...</td>\n",
       "      <td>...</td>\n",
       "      <td>...</td>\n",
       "      <td>...</td>\n",
       "      <td>...</td>\n",
       "      <td>...</td>\n",
       "    </tr>\n",
       "    <tr>\n",
       "      <th>9995</th>\n",
       "      <td>10</td>\n",
       "      <td>Once upon a time there was a poor boy</td>\n",
       "      <td>Once upon a time there was a poor boy named Ti...</td>\n",
       "      <td>./hidden_states/prompt_10.npz</td>\n",
       "      <td>289</td>\n",
       "      <td>290</td>\n",
       "    </tr>\n",
       "    <tr>\n",
       "      <th>9996</th>\n",
       "      <td>10</td>\n",
       "      <td>Once upon a time there was a poor boy</td>\n",
       "      <td>Once upon a time there was a poor boy named Ti...</td>\n",
       "      <td>./hidden_states/prompt_10.npz</td>\n",
       "      <td>119</td>\n",
       "      <td>119</td>\n",
       "    </tr>\n",
       "    <tr>\n",
       "      <th>9997</th>\n",
       "      <td>10</td>\n",
       "      <td>Once upon a time there was a poor boy</td>\n",
       "      <td>Once upon a time there was a poor boy named Ti...</td>\n",
       "      <td>./hidden_states/prompt_10.npz</td>\n",
       "      <td>127</td>\n",
       "      <td>128</td>\n",
       "    </tr>\n",
       "    <tr>\n",
       "      <th>9998</th>\n",
       "      <td>10</td>\n",
       "      <td>Once upon a time there was a poor boy</td>\n",
       "      <td>Once upon a time there was a poor boy named Ti...</td>\n",
       "      <td>./hidden_states/prompt_10.npz</td>\n",
       "      <td>441</td>\n",
       "      <td>441</td>\n",
       "    </tr>\n",
       "    <tr>\n",
       "      <th>9999</th>\n",
       "      <td>10</td>\n",
       "      <td>Once upon a time there was a poor boy</td>\n",
       "      <td>Once upon a time there was a poor boy named Ti...</td>\n",
       "      <td>./hidden_states/prompt_10.npz</td>\n",
       "      <td>520</td>\n",
       "      <td>521</td>\n",
       "    </tr>\n",
       "  </tbody>\n",
       "</table>\n",
       "<p>10000 rows × 6 columns</p>\n",
       "</div>"
      ],
      "text/plain": [
       "      prompt_id                                 prompt  \\\n",
       "0             1    Once upon a time there was a dragon   \n",
       "1             1    Once upon a time there was a dragon   \n",
       "2             1    Once upon a time there was a dragon   \n",
       "3             1    Once upon a time there was a dragon   \n",
       "4             1    Once upon a time there was a dragon   \n",
       "...         ...                                    ...   \n",
       "9995         10  Once upon a time there was a poor boy   \n",
       "9996         10  Once upon a time there was a poor boy   \n",
       "9997         10  Once upon a time there was a poor boy   \n",
       "9998         10  Once upon a time there was a poor boy   \n",
       "9999         10  Once upon a time there was a poor boy   \n",
       "\n",
       "                                                  story  \\\n",
       "0     Once upon a time there was a dragon named Blaz...   \n",
       "1     Once upon a time there was a dragon named Spar...   \n",
       "2     Once upon a time there was a dragon named Scor...   \n",
       "3     Once upon a time there was a dragon. The drago...   \n",
       "4     Once upon a time there was a dragon. The drago...   \n",
       "...                                                 ...   \n",
       "9995  Once upon a time there was a poor boy named Ti...   \n",
       "9996  Once upon a time there was a poor boy named Ti...   \n",
       "9997  Once upon a time there was a poor boy named Ti...   \n",
       "9998  Once upon a time there was a poor boy named Ti...   \n",
       "9999  Once upon a time there was a poor boy named Ti...   \n",
       "\n",
       "                  hidden_state_file  len_generated_story  len_new_story  \n",
       "0      ./hidden_states/prompt_1.npz                  270            271  \n",
       "1      ./hidden_states/prompt_1.npz                  349            350  \n",
       "2      ./hidden_states/prompt_1.npz                  278            278  \n",
       "3      ./hidden_states/prompt_1.npz                  117            118  \n",
       "4      ./hidden_states/prompt_1.npz                  129            130  \n",
       "...                             ...                  ...            ...  \n",
       "9995  ./hidden_states/prompt_10.npz                  289            290  \n",
       "9996  ./hidden_states/prompt_10.npz                  119            119  \n",
       "9997  ./hidden_states/prompt_10.npz                  127            128  \n",
       "9998  ./hidden_states/prompt_10.npz                  441            441  \n",
       "9999  ./hidden_states/prompt_10.npz                  520            521  \n",
       "\n",
       "[10000 rows x 6 columns]"
      ]
     },
     "execution_count": 3,
     "metadata": {},
     "output_type": "execute_result"
    }
   ],
   "source": [
    "df = pd.read_csv(\"../story_dataset.csv\")\n",
    "df"
   ]
  },
  {
   "cell_type": "code",
   "execution_count": 4,
   "id": "c081cc09",
   "metadata": {
    "tags": []
   },
   "outputs": [
    {
     "data": {
      "text/plain": [
       "522"
      ]
     },
     "execution_count": 4,
     "metadata": {},
     "output_type": "execute_result"
    }
   ],
   "source": [
    "max_story_len = max(df[\"len_generated_story\"])\n",
    "max_story_len"
   ]
  },
  {
   "cell_type": "code",
   "execution_count": 5,
   "id": "212c067a",
   "metadata": {
    "scrolled": true,
    "tags": []
   },
   "outputs": [
    {
     "name": "stderr",
     "output_type": "stream",
     "text": [
      "100%|███████████████████████████████████████████████████████████████████████████████| 1000/1000 [04:16<00:00,  3.89it/s]\n",
      "100%|███████████████████████████████████████████████████████████████████████████████| 1000/1000 [03:49<00:00,  4.35it/s]\n",
      "100%|███████████████████████████████████████████████████████████████████████████████| 1000/1000 [03:21<00:00,  4.97it/s]\n",
      "100%|███████████████████████████████████████████████████████████████████████████████| 1000/1000 [04:23<00:00,  3.79it/s]\n",
      "100%|███████████████████████████████████████████████████████████████████████████████| 1000/1000 [04:13<00:00,  3.94it/s]\n",
      "100%|███████████████████████████████████████████████████████████████████████████████| 1000/1000 [04:26<00:00,  3.75it/s]\n",
      "100%|███████████████████████████████████████████████████████████████████████████████| 1000/1000 [03:58<00:00,  4.19it/s]\n",
      "100%|███████████████████████████████████████████████████████████████████████████████| 1000/1000 [03:53<00:00,  4.28it/s]\n",
      "100%|███████████████████████████████████████████████████████████████████████████████| 1000/1000 [04:03<00:00,  4.11it/s]\n",
      "100%|███████████████████████████████████████████████████████████████████████████████| 1000/1000 [04:29<00:00,  3.70it/s]\n"
     ]
    }
   ],
   "source": [
    "hidden_states_by_layer = {}\n",
    "NUM_PROMPTS = 10\n",
    "\n",
    "for prompt_id in range(1, NUM_PROMPTS + 1):\n",
    "    with np.load(f'../hidden_states/prompt_{prompt_id}.npz') as loaded_data:\n",
    "        for i in tqdm(range(1000)):\n",
    "            curr_hidden_states = loaded_data[f\"arr_{i}\"][0]\n",
    "#             print(curr_hidden_states.shape)\n",
    "            for layer in range(8, 9):\n",
    "                padded_arr = np.zeros((max_story_len, 512))\n",
    "                padded_arr_len = len(curr_hidden_states[layer][0])\n",
    "                \n",
    "                padded_arr[:padded_arr_len] = curr_hidden_states[layer][0]\n",
    "                \n",
    "                padded_arr = padded_arr.flatten().astype('float32') #FAISS expects data in type float32 instead of float64 - saves memory too!\n",
    "#                 print(padded_arr.shape)\n",
    "                \n",
    "                if(f\"layer_{layer}\" in hidden_states_by_layer):\n",
    "                    hidden_states_by_layer[f\"layer_{layer}\"].append(padded_arr)\n",
    "                else:\n",
    "                    hidden_states_by_layer[f\"layer_{layer}\"] = [padded_arr]"
   ]
  },
  {
   "cell_type": "code",
   "execution_count": 6,
   "id": "ad23eb70",
   "metadata": {
    "tags": []
   },
   "outputs": [
    {
     "data": {
      "text/plain": [
       "(10000, 267264)"
      ]
     },
     "execution_count": 6,
     "metadata": {},
     "output_type": "execute_result"
    }
   ],
   "source": [
    "layer_hs_array = np.array(hidden_states_by_layer[\"layer_8\"])\n",
    "layer_hs_array.shape"
   ]
  },
  {
   "cell_type": "markdown",
   "id": "e44eecd8-9f29-457b-8f65-d8eae3b84eb8",
   "metadata": {
    "tags": []
   },
   "source": [
    "## Layer 8 Clustering"
   ]
  },
  {
   "cell_type": "code",
   "execution_count": 7,
   "id": "49cf7b1b",
   "metadata": {
    "tags": []
   },
   "outputs": [],
   "source": [
    "# Use original vectors for clustering - uncomment next line and comment out last two lines\n",
    "\n",
    "dim_reduced_vecs = layer_hs_array\n",
    "\n",
    "# random_projector = GaussianRandomProjection(random_state = 42)\n",
    "# dim_reduced_vecs = random_projector.fit_transform(layer_hs_array).astype('float32')"
   ]
  },
  {
   "cell_type": "code",
   "execution_count": 8,
   "id": "b9257701",
   "metadata": {
    "tags": []
   },
   "outputs": [
    {
     "data": {
      "text/plain": [
       "(10000, 267264)"
      ]
     },
     "execution_count": 8,
     "metadata": {},
     "output_type": "execute_result"
    }
   ],
   "source": [
    "dim_reduced_vecs = np.array([v / np.linalg.norm(v) for v in dim_reduced_vecs])\n",
    "dim_reduced_vecs.shape"
   ]
  },
  {
   "cell_type": "code",
   "execution_count": 9,
   "id": "22e1c2a5-03fa-43fd-90d4-609a0d949829",
   "metadata": {
    "tags": []
   },
   "outputs": [
    {
     "data": {
      "text/plain": [
       "array([ 1,  1,  1, ..., 10, 10, 10])"
      ]
     },
     "execution_count": 9,
     "metadata": {},
     "output_type": "execute_result"
    }
   ],
   "source": [
    "prompt_ids = df[\"prompt_id\"]\n",
    "prompt_ids = prompt_ids.to_numpy()\n",
    "prompt_ids"
   ]
  },
  {
   "cell_type": "code",
   "execution_count": 10,
   "id": "bd963a3c-0ad1-416a-9fc6-a13bf2422fcd",
   "metadata": {},
   "outputs": [],
   "source": [
    "X_train = np.zeros((int(0.8 * dim_reduced_vecs.shape[0]), dim_reduced_vecs.shape[1]), dtype = np.float32)\n",
    "y_train = np.zeros(int(0.8 * dim_reduced_vecs.shape[0]))\n",
    "\n",
    "X_test = np.zeros((int(0.2 * dim_reduced_vecs.shape[0]), dim_reduced_vecs.shape[1]), dtype = np.float32)\n",
    "y_test = np.zeros(int(0.2 * dim_reduced_vecs.shape[0]))"
   ]
  },
  {
   "cell_type": "code",
   "execution_count": 11,
   "id": "6b84c6a1-29cc-4096-9eb1-420301a7065f",
   "metadata": {},
   "outputs": [],
   "source": [
    "for i in range(10):\n",
    "    X_train[i * 800 : (i + 1) * 800] = dim_reduced_vecs[i * 1000 : (i * 1000) + 800]\n",
    "    y_train[i * 800 : (i + 1) * 800] = prompt_ids[i * 1000 : (i * 1000) + 800]\n",
    "    \n",
    "    X_test[i * 200 : (i + 1) * 200] = dim_reduced_vecs[(i * 1000) + 800 : (i + 1) * 1000]\n",
    "    y_test[i * 200 : (i + 1) * 200] = prompt_ids[(i * 1000) + 800 : (i + 1) * 1000]"
   ]
  },
  {
   "cell_type": "code",
   "execution_count": 12,
   "id": "e7c2f695-573c-4abe-ab7b-eaa4a1661cd2",
   "metadata": {},
   "outputs": [
    {
     "name": "stdout",
     "output_type": "stream",
     "text": [
      "(8000, 267264)\n",
      "(8000,)\n",
      "(2000, 267264)\n",
      "(2000,)\n"
     ]
    }
   ],
   "source": [
    "print(X_train.shape)\n",
    "print(y_train.shape)\n",
    "print(X_test.shape)\n",
    "print(y_test.shape)"
   ]
  },
  {
   "cell_type": "code",
   "execution_count": 13,
   "id": "8aebf88b-1d51-48d2-945c-311b5fc70963",
   "metadata": {},
   "outputs": [
    {
     "name": "stdout",
     "output_type": "stream",
     "text": [
      "Sampling a subset of 4000 / 8000 for training\n",
      "Clustering 4000 points in 267264D to 5 clusters, redo 10 times, 20 iterations\n",
      "  Preprocessing in 4.07 s\n",
      "Outer iteration 0 / 10\n",
      "  Iteration 19 (11.13 s, search 7.44 s): objective=2415.93 imbalance=1.040 nsplit=0       \n",
      "Objective improved: keep new clusters\n",
      "Outer iteration 1 / 10\n",
      "  Iteration 19 (22.28 s, search 14.90 s): objective=2408.92 imbalance=1.223 nsplit=0       \n",
      "Outer iteration 2 / 10\n",
      "  Iteration 19 (33.37 s, search 22.32 s): objective=2416 imbalance=1.043 nsplit=0         \n",
      "Objective improved: keep new clusters\n",
      "Outer iteration 3 / 10\n",
      "  Iteration 19 (44.48 s, search 29.77 s): objective=2410.3 imbalance=1.128 nsplit=0        \n",
      "Outer iteration 4 / 10\n",
      "  Iteration 19 (55.58 s, search 37.23 s): objective=2402.64 imbalance=1.483 nsplit=0       \n",
      "Outer iteration 5 / 10\n",
      "  Iteration 19 (66.69 s, search 44.67 s): objective=2357.24 imbalance=1.693 nsplit=0       \n",
      "Outer iteration 6 / 10\n",
      "  Iteration 19 (77.80 s, search 52.12 s): objective=2409.11 imbalance=1.128 nsplit=0       \n",
      "Outer iteration 7 / 10\n",
      "  Iteration 19 (88.96 s, search 59.57 s): objective=2401.55 imbalance=1.488 nsplit=0       \n",
      "Outer iteration 8 / 10\n",
      "  Iteration 19 (100.04 s, search 66.99 s): objective=2416 imbalance=1.042 nsplit=0         \n",
      "Outer iteration 9 / 10\n",
      "  Iteration 19 (111.26 s, search 74.45 s): objective=2411.89 imbalance=1.208 nsplit=0       \n",
      "Sampling a subset of 4800 / 8000 for training\n",
      "Clustering 4800 points in 267264D to 6 clusters, redo 10 times, 20 iterations\n",
      "  Preprocessing in 4.04 s\n",
      "Outer iteration 0 / 10\n",
      "  Iteration 19 (13.31 s, search 8.92 s): objective=2903.35 imbalance=1.313 nsplit=0       \n",
      "Objective improved: keep new clusters\n",
      "Outer iteration 1 / 10\n",
      "  Iteration 19 (26.65 s, search 17.86 s): objective=2902.62 imbalance=1.276 nsplit=0       \n",
      "Outer iteration 2 / 10\n",
      "  Iteration 19 (39.98 s, search 26.79 s): objective=2899.37 imbalance=1.243 nsplit=0       \n",
      "Outer iteration 3 / 10\n",
      "  Iteration 19 (53.26 s, search 35.71 s): objective=2902.25 imbalance=1.273 nsplit=0       \n",
      "Outer iteration 4 / 10\n",
      "  Iteration 19 (66.57 s, search 44.64 s): objective=2898.99 imbalance=1.242 nsplit=0       \n",
      "Outer iteration 5 / 10\n",
      "  Iteration 19 (79.89 s, search 53.56 s): objective=2911.57 imbalance=1.117 nsplit=0       \n",
      "Objective improved: keep new clusters\n",
      "Outer iteration 6 / 10\n",
      "  Iteration 19 (93.20 s, search 62.48 s): objective=2908.36 imbalance=1.042 nsplit=0       \n",
      "Outer iteration 7 / 10\n",
      "  Iteration 19 (106.49 s, search 71.40 s): objective=2907.77 imbalance=1.056 nsplit=0       \n",
      "Outer iteration 8 / 10\n",
      "  Iteration 19 (119.84 s, search 80.32 s): objective=2902.88 imbalance=1.285 nsplit=0       \n",
      "Outer iteration 9 / 10\n",
      "  Iteration 19 (133.15 s, search 89.26 s): objective=2835.86 imbalance=2.055 nsplit=0       \n",
      "Sampling a subset of 5600 / 8000 for training\n",
      "Clustering 5600 points in 267264D to 7 clusters, redo 10 times, 20 iterations\n",
      "  Preprocessing in 4.48 s\n",
      "Outer iteration 0 / 10\n",
      "  Iteration 19 (15.55 s, search 10.41 s): objective=3405.84 imbalance=1.119 nsplit=0       \n",
      "Objective improved: keep new clusters\n",
      "Outer iteration 1 / 10\n",
      "  Iteration 19 (31.12 s, search 20.83 s): objective=3396.32 imbalance=1.167 nsplit=0       \n",
      "Outer iteration 2 / 10\n",
      "  Iteration 19 (46.82 s, search 31.30 s): objective=3389.2 imbalance=1.284 nsplit=0        \n",
      "Outer iteration 3 / 10\n",
      "  Iteration 19 (62.33 s, search 41.70 s): objective=3392.88 imbalance=1.301 nsplit=0       \n",
      "Outer iteration 4 / 10\n",
      "  Iteration 19 (77.88 s, search 52.09 s): objective=3393.16 imbalance=1.414 nsplit=0       \n",
      "Outer iteration 5 / 10\n",
      "  Iteration 19 (93.46 s, search 62.49 s): objective=3377.27 imbalance=1.600 nsplit=0       \n",
      "Outer iteration 6 / 10\n",
      "  Iteration 19 (109.02 s, search 72.90 s): objective=3400.72 imbalance=1.058 nsplit=0       \n",
      "Outer iteration 7 / 10\n",
      "  Iteration 19 (124.60 s, search 83.32 s): objective=3398.71 imbalance=1.089 nsplit=0       \n",
      "Outer iteration 8 / 10\n",
      "  Iteration 19 (140.11 s, search 93.72 s): objective=3397.99 imbalance=1.169 nsplit=0       \n",
      "Outer iteration 9 / 10\n",
      "  Iteration 19 (155.69 s, search 104.15 s): objective=3402.98 imbalance=1.129 nsplit=0       \n",
      "Sampling a subset of 6400 / 8000 for training\n",
      "Clustering 6400 points in 267264D to 8 clusters, redo 10 times, 20 iterations\n",
      "  Preprocessing in 4.95 s\n",
      "Outer iteration 0 / 10\n",
      "  Iteration 19 (17.83 s, search 11.91 s): objective=3892.85 imbalance=1.293 nsplit=0       \n",
      "Objective improved: keep new clusters\n",
      "Outer iteration 1 / 10\n",
      "  Iteration 19 (35.65 s, search 23.79 s): objective=3894.77 imbalance=1.073 nsplit=0       \n",
      "Objective improved: keep new clusters\n",
      "Outer iteration 2 / 10\n",
      "  Iteration 19 (53.45 s, search 35.69 s): objective=3862.84 imbalance=2.028 nsplit=0       \n",
      "Outer iteration 3 / 10\n",
      "  Iteration 19 (71.28 s, search 47.60 s): objective=3900.4 imbalance=1.152 nsplit=0        \n",
      "Objective improved: keep new clusters\n",
      "Outer iteration 4 / 10\n",
      "  Iteration 19 (89.08 s, search 59.48 s): objective=3898.73 imbalance=1.096 nsplit=0       \n",
      "Outer iteration 5 / 10\n",
      "  Iteration 19 (106.89 s, search 71.39 s): objective=3893.88 imbalance=1.086 nsplit=0       \n",
      "Outer iteration 6 / 10\n",
      "  Iteration 19 (124.75 s, search 83.30 s): objective=3899.23 imbalance=1.094 nsplit=0       \n",
      "Outer iteration 7 / 10\n",
      "  Iteration 19 (142.55 s, search 95.19 s): objective=3891.84 imbalance=1.287 nsplit=0       \n",
      "Outer iteration 8 / 10\n",
      "  Iteration 19 (160.40 s, search 107.12 s): objective=3894.39 imbalance=1.143 nsplit=0       \n",
      "Outer iteration 9 / 10\n",
      "  Iteration 19 (178.23 s, search 119.02 s): objective=3800.26 imbalance=2.615 nsplit=0       \n",
      "Sampling a subset of 7200 / 8000 for training\n",
      "Clustering 7200 points in 267264D to 9 clusters, redo 10 times, 20 iterations\n",
      "  Preprocessing in 5.36 s\n",
      "Outer iteration 0 / 10\n",
      "  Iteration 19 (20.14 s, search 13.41 s): objective=4392.21 imbalance=1.140 nsplit=0       \n",
      "Objective improved: keep new clusters\n",
      "Outer iteration 1 / 10\n",
      "  Iteration 19 (40.25 s, search 26.78 s): objective=4383.88 imbalance=1.227 nsplit=0       \n",
      "Outer iteration 2 / 10\n",
      "  Iteration 19 (60.31 s, search 40.15 s): objective=4382.82 imbalance=1.126 nsplit=0       \n",
      "Outer iteration 3 / 10\n",
      "  Iteration 19 (80.37 s, search 53.51 s): objective=4395.87 imbalance=1.131 nsplit=0       \n",
      "Objective improved: keep new clusters\n",
      "Outer iteration 4 / 10\n",
      "  Iteration 19 (100.51 s, search 66.89 s): objective=4394.31 imbalance=1.124 nsplit=0       \n",
      "Outer iteration 5 / 10\n",
      "  Iteration 19 (120.59 s, search 80.25 s): objective=4395.92 imbalance=1.118 nsplit=0       \n",
      "Objective improved: keep new clusters\n",
      "Outer iteration 6 / 10\n",
      "  Iteration 19 (140.68 s, search 93.66 s): objective=4394 imbalance=1.240 nsplit=0          \n",
      "Outer iteration 7 / 10\n",
      "  Iteration 19 (160.74 s, search 107.03 s): objective=4377.54 imbalance=1.501 nsplit=0       \n",
      "Outer iteration 8 / 10\n",
      "  Iteration 19 (180.82 s, search 120.43 s): objective=4377.8 imbalance=1.245 nsplit=0        \n",
      "Outer iteration 9 / 10\n",
      "  Iteration 19 (200.97 s, search 133.84 s): objective=4378.86 imbalance=1.697 nsplit=0       \n",
      "Clustering 8000 points in 267264D to 10 clusters, redo 10 times, 20 iterations\n",
      "  Preprocessing in 1.27 s\n",
      "Outer iteration 0 / 10\n",
      "  Iteration 19 (22.31 s, search 14.87 s): objective=4871.46 imbalance=1.286 nsplit=0       \n",
      "Objective improved: keep new clusters\n",
      "Outer iteration 1 / 10\n",
      "  Iteration 19 (44.69 s, search 29.77 s): objective=4890.16 imbalance=1.310 nsplit=0       \n",
      "Objective improved: keep new clusters\n",
      "Outer iteration 2 / 10\n",
      "  Iteration 19 (66.99 s, search 44.66 s): objective=4896.94 imbalance=1.204 nsplit=0       \n",
      "Objective improved: keep new clusters\n",
      "Outer iteration 3 / 10\n",
      "  Iteration 19 (89.31 s, search 59.57 s): objective=4887.28 imbalance=1.208 nsplit=0       \n",
      "Outer iteration 4 / 10\n",
      "  Iteration 19 (111.59 s, search 74.45 s): objective=4824.3 imbalance=2.521 nsplit=0        \n",
      "Outer iteration 5 / 10\n",
      "  Iteration 19 (133.93 s, search 89.34 s): objective=4874.2 imbalance=1.199 nsplit=0        \n",
      "Outer iteration 6 / 10\n",
      "  Iteration 19 (156.23 s, search 104.25 s): objective=4887.06 imbalance=1.176 nsplit=0       \n",
      "Outer iteration 7 / 10\n",
      "  Iteration 19 (178.49 s, search 119.13 s): objective=4886.54 imbalance=1.229 nsplit=0       \n",
      "Outer iteration 8 / 10\n",
      "  Iteration 19 (200.80 s, search 134.00 s): objective=4873.78 imbalance=1.226 nsplit=0       \n",
      "Outer iteration 9 / 10\n",
      "  Iteration 19 (223.09 s, search 148.88 s): objective=4879.38 imbalance=1.186 nsplit=0       \n",
      "Clustering 8000 points in 267264D to 11 clusters, redo 10 times, 20 iterations\n",
      "  Preprocessing in 1.27 s\n",
      "Outer iteration 0 / 10\n",
      "  Iteration 19 (22.60 s, search 14.88 s): objective=4877.07 imbalance=1.329 nsplit=0       \n",
      "Objective improved: keep new clusters\n",
      "Outer iteration 1 / 10\n",
      "  Iteration 19 (45.25 s, search 29.77 s): objective=4901.05 imbalance=1.239 nsplit=0       \n",
      "Objective improved: keep new clusters\n",
      "Outer iteration 2 / 10\n",
      "  Iteration 19 (67.91 s, search 44.69 s): objective=4906.45 imbalance=1.102 nsplit=0       \n",
      "Objective improved: keep new clusters\n",
      "Outer iteration 3 / 10\n",
      "  Iteration 19 (90.76 s, search 59.71 s): objective=4891.56 imbalance=1.225 nsplit=0       \n",
      "Outer iteration 4 / 10\n",
      "  Iteration 19 (113.40 s, search 74.59 s): objective=4861.23 imbalance=1.622 nsplit=0       \n",
      "Outer iteration 5 / 10\n",
      "  Iteration 19 (136.06 s, search 89.49 s): objective=4876.25 imbalance=1.290 nsplit=0       \n",
      "Outer iteration 6 / 10\n",
      "  Iteration 19 (158.66 s, search 104.37 s): objective=4897.14 imbalance=1.126 nsplit=0       \n",
      "Outer iteration 7 / 10\n",
      "  Iteration 19 (181.31 s, search 119.29 s): objective=4897.44 imbalance=1.150 nsplit=0       \n",
      "Outer iteration 8 / 10\n",
      "  Iteration 19 (203.96 s, search 134.17 s): objective=4877.68 imbalance=1.325 nsplit=0       \n",
      "Outer iteration 9 / 10\n",
      "  Iteration 19 (226.64 s, search 149.08 s): objective=4899.05 imbalance=1.192 nsplit=0       \n",
      "Clustering 8000 points in 267264D to 12 clusters, redo 10 times, 20 iterations\n",
      "  Preprocessing in 1.26 s\n",
      "Outer iteration 0 / 10\n",
      "  Iteration 19 (22.63 s, search 14.90 s): objective=4894.24 imbalance=1.261 nsplit=0       \n",
      "Objective improved: keep new clusters\n",
      "Outer iteration 1 / 10\n",
      "  Iteration 19 (45.37 s, search 29.81 s): objective=4906.55 imbalance=1.284 nsplit=0       \n",
      "Objective improved: keep new clusters\n",
      "Outer iteration 2 / 10\n",
      "  Iteration 19 (68.01 s, search 44.72 s): objective=4911.25 imbalance=1.184 nsplit=0       \n",
      "Objective improved: keep new clusters\n",
      "Outer iteration 3 / 10\n",
      "  Iteration 19 (90.71 s, search 59.64 s): objective=4900.01 imbalance=1.285 nsplit=0       \n",
      "Outer iteration 4 / 10\n",
      "  Iteration 19 (113.49 s, search 74.55 s): objective=4863.25 imbalance=1.760 nsplit=0       \n",
      "Outer iteration 5 / 10\n",
      "  Iteration 19 (136.19 s, search 89.43 s): objective=4884.07 imbalance=1.177 nsplit=0       \n",
      "Outer iteration 6 / 10\n",
      "  Iteration 19 (158.86 s, search 104.33 s): objective=4900.2 imbalance=1.153 nsplit=0        \n",
      "Outer iteration 7 / 10\n",
      "  Iteration 19 (181.62 s, search 119.25 s): objective=4903.31 imbalance=1.139 nsplit=0       \n",
      "Outer iteration 8 / 10\n",
      "  Iteration 19 (204.33 s, search 134.14 s): objective=4885.97 imbalance=1.304 nsplit=0       \n",
      "Outer iteration 9 / 10\n",
      "  Iteration 19 (226.99 s, search 149.04 s): objective=4905.12 imbalance=1.187 nsplit=0       \n",
      "Clustering 8000 points in 267264D to 13 clusters, redo 10 times, 20 iterations\n",
      "  Preprocessing in 1.27 s\n",
      "Outer iteration 0 / 10\n",
      "  Iteration 19 (22.69 s, search 14.90 s): objective=4898.56 imbalance=1.323 nsplit=0       \n",
      "Objective improved: keep new clusters\n",
      "Outer iteration 1 / 10\n",
      "  Iteration 19 (45.43 s, search 29.78 s): objective=4905.64 imbalance=1.354 nsplit=0       \n",
      "Objective improved: keep new clusters\n",
      "Outer iteration 2 / 10\n",
      "  Iteration 19 (68.15 s, search 44.67 s): objective=4915.59 imbalance=1.206 nsplit=0       \n",
      "Objective improved: keep new clusters\n",
      "Outer iteration 3 / 10\n",
      "  Iteration 19 (90.91 s, search 59.56 s): objective=4903.67 imbalance=1.256 nsplit=0       \n",
      "Outer iteration 4 / 10\n",
      "  Iteration 19 (113.70 s, search 74.45 s): objective=4876.68 imbalance=1.414 nsplit=0       \n",
      "Outer iteration 5 / 10\n",
      "  Iteration 19 (136.54 s, search 89.36 s): objective=4893.59 imbalance=1.155 nsplit=0       \n",
      "Outer iteration 6 / 10\n",
      "  Iteration 19 (159.33 s, search 104.30 s): objective=4902.47 imbalance=1.207 nsplit=0       \n",
      "Outer iteration 7 / 10\n",
      "  Iteration 19 (182.19 s, search 119.23 s): objective=4906.93 imbalance=1.181 nsplit=0       \n",
      "Outer iteration 8 / 10\n",
      "  Iteration 19 (204.99 s, search 134.16 s): objective=4890.41 imbalance=1.337 nsplit=0       \n",
      "Outer iteration 9 / 10\n",
      "  Iteration 19 (227.74 s, search 149.06 s): objective=4906.9 imbalance=1.257 nsplit=0        \n",
      "Clustering 8000 points in 267264D to 14 clusters, redo 10 times, 20 iterations\n",
      "  Preprocessing in 1.27 s\n",
      "Outer iteration 0 / 10\n",
      "  Iteration 19 (22.76 s, search 14.89 s): objective=4899.98 imbalance=1.406 nsplit=0       \n",
      "Objective improved: keep new clusters\n",
      "Outer iteration 1 / 10\n",
      "  Iteration 19 (45.61 s, search 29.79 s): objective=4912.19 imbalance=1.277 nsplit=0       \n",
      "Objective improved: keep new clusters\n",
      "Outer iteration 2 / 10\n",
      "  Iteration 19 (68.43 s, search 44.70 s): objective=4921.57 imbalance=1.168 nsplit=0       \n",
      "Objective improved: keep new clusters\n",
      "Outer iteration 3 / 10\n",
      "  Iteration 19 (91.19 s, search 59.58 s): objective=4908.88 imbalance=1.281 nsplit=0       \n",
      "Outer iteration 4 / 10\n",
      "  Iteration 19 (114.01 s, search 74.46 s): objective=4881.64 imbalance=1.458 nsplit=0       \n",
      "Outer iteration 5 / 10\n",
      "  Iteration 19 (136.78 s, search 89.36 s): objective=4906.72 imbalance=1.143 nsplit=0       \n",
      "Outer iteration 6 / 10\n",
      "  Iteration 19 (159.50 s, search 104.23 s): objective=4909.13 imbalance=1.148 nsplit=0       \n",
      "Outer iteration 7 / 10\n",
      "  Iteration 19 (182.23 s, search 119.10 s): objective=4912.13 imbalance=1.222 nsplit=0       \n",
      "Outer iteration 8 / 10\n",
      "  Iteration 19 (204.91 s, search 133.91 s): objective=4892.28 imbalance=1.389 nsplit=0       \n",
      "Outer iteration 9 / 10\n",
      "  Iteration 19 (227.54 s, search 148.73 s): objective=4910.64 imbalance=1.330 nsplit=0       \n",
      "Clustering 8000 points in 267264D to 15 clusters, redo 10 times, 20 iterations\n",
      "  Preprocessing in 1.27 s\n",
      "Outer iteration 0 / 10\n",
      "  Iteration 19 (22.62 s, search 14.81 s): objective=4902.46 imbalance=1.449 nsplit=0       \n",
      "Objective improved: keep new clusters\n",
      "Outer iteration 1 / 10\n",
      "  Iteration 19 (45.42 s, search 29.64 s): objective=4914.59 imbalance=1.283 nsplit=0       \n",
      "Objective improved: keep new clusters\n",
      "Outer iteration 2 / 10\n",
      "  Iteration 19 (68.09 s, search 44.45 s): objective=4924.44 imbalance=1.241 nsplit=0       \n",
      "Objective improved: keep new clusters\n",
      "Outer iteration 3 / 10\n",
      "  Iteration 19 (90.79 s, search 59.28 s): objective=4918.37 imbalance=1.185 nsplit=0       \n",
      "Outer iteration 4 / 10\n",
      "  Iteration 19 (113.55 s, search 74.09 s): objective=4885.23 imbalance=1.527 nsplit=0       \n",
      "Outer iteration 5 / 10\n",
      "  Iteration 19 (136.60 s, search 89.11 s): objective=4907.27 imbalance=1.218 nsplit=0       \n",
      "Outer iteration 6 / 10\n",
      "  Iteration 19 (159.67 s, search 104.13 s): objective=4914.94 imbalance=1.121 nsplit=0       \n",
      "Outer iteration 7 / 10\n",
      "  Iteration 19 (182.66 s, search 119.12 s): objective=4921.88 imbalance=1.203 nsplit=0       \n",
      "Outer iteration 8 / 10\n",
      "  Iteration 19 (205.72 s, search 134.10 s): objective=4895.5 imbalance=1.371 nsplit=0        \n",
      "Outer iteration 9 / 10\n",
      "  Iteration 19 (228.58 s, search 149.05 s): objective=4911.3 imbalance=1.415 nsplit=0        \r"
     ]
    },
    {
     "data": {
      "text/plain": [
       "[<matplotlib.lines.Line2D at 0x7669656ca350>]"
      ]
     },
     "execution_count": 13,
     "metadata": {},
     "output_type": "execute_result"
    },
    {
     "data": {
      "image/png": "[encoded data removed]",
      "text/plain": [
       "<Figure size 432x288 with 1 Axes>"
      ]
     },
     "metadata": {
      "needs_background": "light"
     },
     "output_type": "display_data"
    }
   ],
   "source": [
    "# Elbow Plot\n",
    "niter = 20\n",
    "verbose = True\n",
    "dim = X_train.shape[1]\n",
    "\n",
    "k_vals = [k for k in range(5, 16)]\n",
    "wccs = []\n",
    "for k in k_vals:\n",
    "    kmeans = faiss.Kmeans(dim, k, niter = niter, verbose = verbose, gpu = True, nredo = 10, spherical = True, max_points_per_centroid = 800)\n",
    "    kmeans.train(X_train)\n",
    "    wccs.append(kmeans.obj[-1])\n",
    "\n",
    "plt.plot(k_vals, wccs)"
   ]
  },
  {
   "cell_type": "code",
   "execution_count": 14,
   "id": "289102b9",
   "metadata": {
    "scrolled": true,
    "tags": []
   },
   "outputs": [
    {
     "name": "stdout",
     "output_type": "stream",
     "text": [
      "\n",
      "Clustering 8000 points in 267264D to 10 clusters, redo 10 times, 20 iterations\n",
      "  Preprocessing in 1.30 s\n",
      "Outer iteration 0 / 10\n",
      "  Iteration 19 (22.42 s, search 14.95 s): objective=4871.46 imbalance=1.286 nsplit=0       \n",
      "Objective improved: keep new clusters\n",
      "Outer iteration 1 / 10\n",
      "  Iteration 19 (45.03 s, search 29.95 s): objective=4890.16 imbalance=1.310 nsplit=0       \n",
      "Objective improved: keep new clusters\n",
      "Outer iteration 2 / 10\n",
      "  Iteration 19 (67.55 s, search 44.93 s): objective=4896.94 imbalance=1.204 nsplit=0       \n",
      "Objective improved: keep new clusters\n",
      "Outer iteration 3 / 10\n",
      "  Iteration 19 (90.00 s, search 59.87 s): objective=4887.28 imbalance=1.208 nsplit=0       \n",
      "Outer iteration 4 / 10\n",
      "  Iteration 19 (112.45 s, search 74.83 s): objective=4824.3 imbalance=2.521 nsplit=0        \n",
      "Outer iteration 5 / 10\n",
      "  Iteration 19 (135.04 s, search 89.84 s): objective=4874.2 imbalance=1.199 nsplit=0        \n",
      "Outer iteration 6 / 10\n",
      "  Iteration 19 (157.46 s, search 104.78 s): objective=4887.06 imbalance=1.176 nsplit=0       \n",
      "Outer iteration 7 / 10\n",
      "  Iteration 19 (180.00 s, search 119.81 s): objective=4886.54 imbalance=1.229 nsplit=0       \n",
      "Outer iteration 8 / 10\n",
      "  Iteration 19 (202.73 s, search 134.85 s): objective=4873.78 imbalance=1.226 nsplit=0       \n",
      "Outer iteration 9 / 10\n",
      "  Iteration 19 (225.21 s, search 149.85 s): objective=4879.38 imbalance=1.186 nsplit=0       \r"
     ]
    },
    {
     "data": {
      "text/plain": [
       "4896.9404296875"
      ]
     },
     "execution_count": 14,
     "metadata": {},
     "output_type": "execute_result"
    }
   ],
   "source": [
    "# K-means Clustering\n",
    "\n",
    "# ncentroids = NUM_PROMPTS\n",
    "ncentroids = 10 # Elbow point - based on objective (sum of cosine similarities)\n",
    "niter = 20\n",
    "verbose = True\n",
    "dim = X_train.shape[1]\n",
    "kmeans = faiss.Kmeans(dim, ncentroids, niter = niter, verbose = verbose, gpu = True, nredo = 10, spherical = True, max_points_per_centroid = 800)\n",
    "kmeans.train(X_train)"
   ]
  },
  {
   "cell_type": "code",
   "execution_count": 15,
   "id": "19cf0f0a",
   "metadata": {
    "tags": []
   },
   "outputs": [
    {
     "data": {
      "text/plain": [
       "array([[-1.3076481e-02,  8.9642098e-03,  8.6435732e-03, ...,\n",
       "         0.0000000e+00,  0.0000000e+00,  0.0000000e+00],\n",
       "       [-5.4904572e-03,  3.7638329e-03,  3.6292048e-03, ...,\n",
       "        -2.1075395e-05,  2.8485474e-05, -2.8997210e-05],\n",
       "       [-1.2782276e-02,  8.7625254e-03,  8.4490944e-03, ...,\n",
       "         0.0000000e+00,  0.0000000e+00,  0.0000000e+00],\n",
       "       ...,\n",
       "       [-6.4624161e-03,  4.4301180e-03,  4.2716572e-03, ...,\n",
       "         0.0000000e+00,  0.0000000e+00,  0.0000000e+00],\n",
       "       [-1.2288719e-02,  8.4242290e-03,  8.1228642e-03, ...,\n",
       "         0.0000000e+00,  0.0000000e+00,  0.0000000e+00],\n",
       "       [-1.3217018e-02,  9.0605393e-03,  8.7364754e-03, ...,\n",
       "         0.0000000e+00,  0.0000000e+00,  0.0000000e+00]], dtype=float32)"
      ]
     },
     "execution_count": 15,
     "metadata": {},
     "output_type": "execute_result"
    }
   ],
   "source": [
    "kmeans.centroids #cluster centers"
   ]
  },
  {
   "cell_type": "code",
   "execution_count": 16,
   "id": "61e726e9",
   "metadata": {
    "tags": []
   },
   "outputs": [
    {
     "name": "stdout",
     "output_type": "stream",
     "text": [
      "1.0000025\n",
      "1.0000035\n",
      "1.000002\n",
      "1.0000005\n",
      "1.0000056\n",
      "1.0000013\n",
      "1.000006\n",
      "1.0000044\n",
      "1.0000012\n",
      "1.0000004\n"
     ]
    }
   ],
   "source": [
    "for centroid in kmeans.centroids:\n",
    "    print(np.linalg.norm(centroid))"
   ]
  },
  {
   "cell_type": "code",
   "execution_count": 17,
   "id": "e5e1fa18",
   "metadata": {
    "tags": []
   },
   "outputs": [
    {
     "data": {
      "text/plain": [
       "array([2996.50341797, 4837.18701172, 4853.25341797, 4858.29589844,\n",
       "       4863.05810547, 4868.06152344, 4870.02734375, 4870.83154297,\n",
       "       4871.15185547, 4871.29052734, 4871.35644531, 4871.38867188,\n",
       "       4871.42871094, 4871.4296875 , 4871.44677734, 4871.46044922,\n",
       "       4871.45703125, 4871.45703125, 4871.45703125, 4871.45703125,\n",
       "       3022.89575195, 4847.16845703, 4862.88134766, 4870.30078125,\n",
       "       4875.40771484, 4878.96728516, 4881.70605469, 4883.04443359,\n",
       "       4883.47607422, 4883.65966797, 4883.82177734, 4884.05566406,\n",
       "       4884.32714844, 4884.71728516, 4885.24560547, 4886.56347656,\n",
       "       4887.92724609, 4888.56933594, 4889.60253906, 4890.15576172,\n",
       "       3042.34594727, 4870.86572266, 4887.35595703, 4890.54736328,\n",
       "       4892.05761719, 4893.05371094, 4893.75488281, 4894.82763672,\n",
       "       4896.34716797, 4896.73730469, 4896.80322266, 4896.859375  ,\n",
       "       4896.88916016, 4896.91210938, 4896.93798828, 4896.9375    ,\n",
       "       4896.94287109, 4896.94335938, 4896.94140625, 4896.94042969])"
      ]
     },
     "execution_count": 17,
     "metadata": {},
     "output_type": "execute_result"
    }
   ],
   "source": [
    "kmeans.obj #inertia at each iteration"
   ]
  },
  {
   "cell_type": "code",
   "execution_count": 18,
   "id": "ed2c340d",
   "metadata": {
    "tags": []
   },
   "outputs": [],
   "source": [
    "cos_similarities = X_train @ kmeans.centroids.T\n",
    "classifications_train = np.argmax(cos_similarities, axis=1)"
   ]
  },
  {
   "cell_type": "code",
   "execution_count": 19,
   "id": "90aae79f",
   "metadata": {
    "tags": []
   },
   "outputs": [
    {
     "data": {
      "text/plain": [
       "6    1568\n",
       "4    1128\n",
       "8    1026\n",
       "1     911\n",
       "9     878\n",
       "7     693\n",
       "3     582\n",
       "5     469\n",
       "0     434\n",
       "2     311\n",
       "dtype: int64"
      ]
     },
     "execution_count": 19,
     "metadata": {},
     "output_type": "execute_result"
    }
   ],
   "source": [
    "pd.Series(classifications_train).value_counts()"
   ]
  },
  {
   "cell_type": "code",
   "execution_count": 20,
   "id": "fc34c419-5d92-4dc6-8db4-9dc84b83a8d4",
   "metadata": {
    "tags": []
   },
   "outputs": [
    {
     "data": {
      "text/plain": [
       "[3, 10, 10, 8, 1, 5, 9, 2, 7, 6]"
      ]
     },
     "execution_count": 20,
     "metadata": {},
     "output_type": "execute_result"
    }
   ],
   "source": [
    "# Get most common label for each point classified to a centroid (same centroid)\n",
    "centroid_labels = [np.where(classifications_train == i)[0] for i in range(ncentroids)]\n",
    "max_label_per_centroid = [int(pd.Series(y_train[centroid_labels[i]]).value_counts().idxmax()) for i in range(ncentroids)]\n",
    "max_label_per_centroid"
   ]
  },
  {
   "cell_type": "code",
   "execution_count": 21,
   "id": "20e159a9-ef63-4a0e-8e94-52e041a5c416",
   "metadata": {
    "tags": []
   },
   "outputs": [],
   "source": [
    "centroid_to_label = {idx : max_label_per_centroid[idx] for idx in range(len(max_label_per_centroid))}"
   ]
  },
  {
   "cell_type": "code",
   "execution_count": 22,
   "id": "45760bd2-820d-462e-a8ef-8d054ed5dde4",
   "metadata": {
    "tags": []
   },
   "outputs": [
    {
     "data": {
      "text/plain": [
       "{0: 3, 1: 10, 2: 10, 3: 8, 4: 1, 5: 5, 6: 9, 7: 2, 8: 7, 9: 6}"
      ]
     },
     "execution_count": 22,
     "metadata": {},
     "output_type": "execute_result"
    }
   ],
   "source": [
    "centroid_to_label"
   ]
  },
  {
   "cell_type": "code",
   "execution_count": 23,
   "id": "b9cf2ac5-ce04-4efe-9828-041723e1f453",
   "metadata": {
    "tags": []
   },
   "outputs": [
    {
     "data": {
      "text/plain": [
       "array([ 9,  2,  9, ...,  9, 10,  1])"
      ]
     },
     "execution_count": 23,
     "metadata": {},
     "output_type": "execute_result"
    }
   ],
   "source": [
    "vectorized_map = np.vectorize(centroid_to_label.get)\n",
    "classifications_to_label = vectorized_map(classifications_train)\n",
    "\n",
    "classifications_to_label"
   ]
  },
  {
   "cell_type": "code",
   "execution_count": 24,
   "id": "c793f2dc-74de-4e3a-b0a8-3839b1be8dd9",
   "metadata": {
    "tags": []
   },
   "outputs": [
    {
     "name": "stdout",
     "output_type": "stream",
     "text": [
      "Prompt 1 Accuracy:  0.1675\n",
      "Prompt 2 Accuracy:  0.11\n",
      "Prompt 3 Accuracy:  0.5425\n",
      "Prompt 4 Accuracy:  0.0\n",
      "Prompt 5 Accuracy:  0.405\n",
      "Prompt 6 Accuracy:  0.17375\n",
      "Prompt 7 Accuracy:  0.21875\n",
      "Prompt 8 Accuracy:  0.125\n",
      "Prompt 9 Accuracy:  0.22\n",
      "Prompt 10 Accuracy:  0.5525\n"
     ]
    }
   ],
   "source": [
    "for i in range(10):\n",
    "    print(f\"Prompt {i + 1} Accuracy: \", np.mean(classifications_to_label[i * 800:(i + 1) * 800] == (i + 1)))"
   ]
  },
  {
   "cell_type": "code",
   "execution_count": 25,
   "id": "ac9d3497-d991-455d-a121-1a4c234314b0",
   "metadata": {
    "tags": []
   },
   "outputs": [
    {
     "name": "stdout",
     "output_type": "stream",
     "text": [
      "Overall Accuracy:  0.2515\n"
     ]
    }
   ],
   "source": [
    "print(f\"Overall Accuracy: \", np.mean(classifications_to_label == y_train))"
   ]
  },
  {
   "cell_type": "markdown",
   "id": "b8d32ef1-a624-4d32-abcb-8daacad47cdc",
   "metadata": {},
   "source": [
    "## Perform Inference on Test Set & Collect Test Accuracy"
   ]
  },
  {
   "cell_type": "code",
   "execution_count": 26,
   "id": "2431abbc-b684-4c06-8fd6-06c771a1c4fa",
   "metadata": {},
   "outputs": [],
   "source": [
    "cos_similarities = X_test @ kmeans.centroids.T\n",
    "classifications_test = np.argmax(cos_similarities, axis=1)"
   ]
  },
  {
   "cell_type": "code",
   "execution_count": 27,
   "id": "d9a7dd1c-884b-4bef-b538-6c0a65a6f7e4",
   "metadata": {},
   "outputs": [
    {
     "data": {
      "text/plain": [
       "6    411\n",
       "8    283\n",
       "4    280\n",
       "9    208\n",
       "1    203\n",
       "7    185\n",
       "3    136\n",
       "5    117\n",
       "0    103\n",
       "2     74\n",
       "dtype: int64"
      ]
     },
     "execution_count": 27,
     "metadata": {},
     "output_type": "execute_result"
    }
   ],
   "source": [
    "pd.Series(classifications_test).value_counts()"
   ]
  },
  {
   "cell_type": "code",
   "execution_count": 28,
   "id": "6fa74238-a2b3-4277-bcd6-88ab9d5caf4f",
   "metadata": {},
   "outputs": [
    {
     "data": {
      "text/plain": [
       "array([ 8,  2,  9, ..., 10,  1, 10])"
      ]
     },
     "execution_count": 28,
     "metadata": {},
     "output_type": "execute_result"
    }
   ],
   "source": [
    "classifications_to_label_test = vectorized_map(classifications_test)\n",
    "\n",
    "classifications_to_label_test"
   ]
  },
  {
   "cell_type": "code",
   "execution_count": 29,
   "id": "799e3a99-6659-44b7-becd-4d0825fd1957",
   "metadata": {},
   "outputs": [
    {
     "name": "stdout",
     "output_type": "stream",
     "text": [
      "Prompt 1 Accuracy:  0.095\n",
      "Prompt 2 Accuracy:  0.065\n",
      "Prompt 3 Accuracy:  0.515\n",
      "Prompt 4 Accuracy:  0.0\n",
      "Prompt 5 Accuracy:  0.435\n",
      "Prompt 6 Accuracy:  0.19\n",
      "Prompt 7 Accuracy:  0.23\n",
      "Prompt 8 Accuracy:  0.11\n",
      "Prompt 9 Accuracy:  0.24\n",
      "Prompt 10 Accuracy:  0.505\n"
     ]
    }
   ],
   "source": [
    "for i in range(10):\n",
    "    print(f\"Prompt {i + 1} Accuracy: \", np.mean(classifications_to_label_test[i * 200:(i + 1) * 200] == (i + 1)))"
   ]
  },
  {
   "cell_type": "code",
   "execution_count": 30,
   "id": "4f97cfa0-27da-4897-8e65-681b75ad51d7",
   "metadata": {},
   "outputs": [
    {
     "name": "stdout",
     "output_type": "stream",
     "text": [
      "Overall Accuracy:  0.2385\n"
     ]
    }
   ],
   "source": [
    "print(f\"Overall Accuracy: \", np.mean(classifications_to_label_test == y_test))"
   ]
  },
  {
   "cell_type": "markdown",
   "id": "ee076424-49c5-4245-a3a3-56fba51465ea",
   "metadata": {},
   "source": [
    "## Confusion Matrix of Results"
   ]
  },
  {
   "cell_type": "code",
   "execution_count": 31,
   "id": "b9175267-2fef-4f02-930e-c263ec396f91",
   "metadata": {
    "tags": []
   },
   "outputs": [],
   "source": [
    "from sklearn.metrics import confusion_matrix, ConfusionMatrixDisplay\n",
    "import matplotlib.pyplot as plt"
   ]
  },
  {
   "cell_type": "code",
   "execution_count": 32,
   "id": "3c2c3ac7-26e3-42d5-860a-918d735776c1",
   "metadata": {
    "tags": []
   },
   "outputs": [
    {
     "data": {
      "image/png": "[encoded data removed]",
      "text/plain": [
       "<Figure size 432x288 with 2 Axes>"
      ]
     },
     "metadata": {
      "needs_background": "light"
     },
     "output_type": "display_data"
    }
   ],
   "source": [
    "cm = confusion_matrix(y_train, classifications_to_label)\n",
    "disp = ConfusionMatrixDisplay(confusion_matrix=cm, display_labels=[f\"{i}\" for i in range(1, 11)])\n",
    "\n",
    "disp.plot()\n",
    "plt.title('Confusion Matrix for Train Set')\n",
    "plt.show()"
   ]
  },
  {
   "cell_type": "code",
   "execution_count": 33,
   "id": "03a45427-f767-4838-968e-c341eca03746",
   "metadata": {
    "tags": []
   },
   "outputs": [
    {
     "data": {
      "image/png": "[encoded data removed]",
      "text/plain": [
       "<Figure size 432x288 with 2 Axes>"
      ]
     },
     "metadata": {
      "needs_background": "light"
     },
     "output_type": "display_data"
    }
   ],
   "source": [
    "cm = confusion_matrix(y_test, classifications_to_label_test)\n",
    "disp = ConfusionMatrixDisplay(confusion_matrix=cm, display_labels=[f\"{i}\" for i in range(1, 11)])\n",
    "\n",
    "disp.plot()\n",
    "plt.title('Confusion Matrix for Test Set')\n",
    "plt.show()"
   ]
  },
  {
   "cell_type": "code",
   "execution_count": null,
   "id": "1322b9ab-2b94-4d00-95cf-1b3741b9f482",
   "metadata": {},
   "outputs": [],
   "source": []
  },
  {
   "cell_type": "code",
   "execution_count": null,
   "id": "de826fc3-e67f-45cb-bb74-15dfcbd3d18d",
   "metadata": {},
   "outputs": [],
   "source": []
  }
 ],
 "metadata": {
  "kernelspec": {
   "display_name": "Python 3 (ipykernel)",
   "language": "python",
   "name": "python3"
  },
  "language_info": {
   "codemirror_mode": {
    "name": "ipython",
    "version": 3
   },
   "file_extension": ".py",
   "mimetype": "text/x-python",
   "name": "python",
   "nbconvert_exporter": "python",
   "pygments_lexer": "ipython3",
   "version": "3.7.11"
  }
 },
 "nbformat": 4,
 "nbformat_minor": 5
}
