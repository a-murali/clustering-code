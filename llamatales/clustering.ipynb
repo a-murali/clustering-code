{
 "cells": [
  {
   "cell_type": "code",
   "execution_count": 1,
   "id": "80849741",
   "metadata": {},
   "outputs": [
    {
     "name": "stdout",
     "output_type": "stream",
     "text": [
      "Collecting package metadata (current_repodata.json): | WARNING conda.models.version:get_matcher(538): Using .* with relational operator is superfluous and deprecated and will be removed in a future version of conda. Your spec was 1.7.1.*, but conda is ignoring the .* and treating it as 1.7.1\n",
      "done\n",
      "Solving environment: done\n",
      "\n",
      "## Package Plan ##\n",
      "\n",
      "  environment location: /opt/conda\n",
      "\n",
      "  added / updated specs:\n",
      "    - faiss-gpu\n",
      "\n",
      "\n",
      "The following packages will be downloaded:\n",
      "\n",
      "    package                    |            build\n",
      "    ---------------------------|-----------------\n",
      "    conda-4.14.0               |   py37h89c1867_0        1010 KB  conda-forge\n",
      "    toolz-0.12.1               |     pyhd8ed1ab_0          51 KB  conda-forge\n",
      "    ------------------------------------------------------------\n",
      "                                           Total:         1.0 MB\n",
      "\n",
      "The following NEW packages will be INSTALLED:\n",
      "\n",
      "  toolz              conda-forge/noarch::toolz-0.12.1-pyhd8ed1ab_0\n",
      "\n",
      "The following packages will be UPDATED:\n",
      "\n",
      "  conda                               4.12.0-py37h89c1867_0 --> 4.14.0-py37h89c1867_0\n",
      "\n",
      "\n",
      "\n",
      "Downloading and Extracting Packages\n",
      "conda-4.14.0         | 1010 KB   | ##################################### | 100% \n",
      "toolz-0.12.1         | 51 KB     | ##################################### | 100% \n",
      "Preparing transaction: done\n",
      "Verifying transaction: done\n",
      "Executing transaction: done\n",
      "Hit:1 http://archive.ubuntu.com/ubuntu bionic InRelease                  \n",
      "Get:2 http://archive.ubuntu.com/ubuntu bionic-updates InRelease [102 kB] \n",
      "Get:3 http://security.ubuntu.com/ubuntu bionic-security InRelease [102 kB]     \n",
      "Get:4 http://archive.ubuntu.com/ubuntu bionic-backports InRelease [102 kB]     \n",
      "Fetched 305 kB in 1s (216 kB/s)                                                \n",
      "Reading package lists... Done\n",
      "Reading package lists... Done\n",
      "Building dependency tree       \n",
      "Reading state information... Done\n",
      "libatlas-base-dev is already the newest version (3.10.3-5).\n",
      "0 upgraded, 0 newly installed, 0 to remove and 83 not upgraded.\n"
     ]
    }
   ],
   "source": [
    "!conda install -y -c conda-forge faiss-gpu\n",
    "!apt-get -y update\n",
    "!apt-get -y install libatlas-base-dev"
   ]
  },
  {
   "cell_type": "code",
   "execution_count": 2,
   "id": "e26dddbf",
   "metadata": {},
   "outputs": [],
   "source": [
    "import pandas as pd\n",
    "import numpy as np\n",
    "import matplotlib.pyplot as plt\n",
    "\n",
    "from sklearn.random_projection import GaussianRandomProjection\n",
    "\n",
    "from tqdm import tqdm\n",
    "\n",
    "import faiss"
   ]
  },
  {
   "cell_type": "code",
   "execution_count": 3,
   "id": "89c2cffa",
   "metadata": {},
   "outputs": [
    {
     "data": {
      "text/html": [
       "<div>\n",
       "<style scoped>\n",
       "    .dataframe tbody tr th:only-of-type {\n",
       "        vertical-align: middle;\n",
       "    }\n",
       "\n",
       "    .dataframe tbody tr th {\n",
       "        vertical-align: top;\n",
       "    }\n",
       "\n",
       "    .dataframe thead th {\n",
       "        text-align: right;\n",
       "    }\n",
       "</style>\n",
       "<table border=\"1\" class=\"dataframe\">\n",
       "  <thead>\n",
       "    <tr style=\"text-align: right;\">\n",
       "      <th></th>\n",
       "      <th>prompt_id</th>\n",
       "      <th>prompt</th>\n",
       "      <th>story</th>\n",
       "      <th>hidden_state_file</th>\n",
       "      <th>len_generated_story</th>\n",
       "      <th>len_new_story</th>\n",
       "    </tr>\n",
       "  </thead>\n",
       "  <tbody>\n",
       "    <tr>\n",
       "      <th>0</th>\n",
       "      <td>1</td>\n",
       "      <td>Once upon a time there was a dragon</td>\n",
       "      <td>Once upon a time there was a dragon named Blaz...</td>\n",
       "      <td>./hidden_states/prompt_1.npz</td>\n",
       "      <td>270</td>\n",
       "      <td>271</td>\n",
       "    </tr>\n",
       "    <tr>\n",
       "      <th>1</th>\n",
       "      <td>1</td>\n",
       "      <td>Once upon a time there was a dragon</td>\n",
       "      <td>Once upon a time there was a dragon named Spar...</td>\n",
       "      <td>./hidden_states/prompt_1.npz</td>\n",
       "      <td>349</td>\n",
       "      <td>350</td>\n",
       "    </tr>\n",
       "    <tr>\n",
       "      <th>2</th>\n",
       "      <td>1</td>\n",
       "      <td>Once upon a time there was a dragon</td>\n",
       "      <td>Once upon a time there was a dragon named Scor...</td>\n",
       "      <td>./hidden_states/prompt_1.npz</td>\n",
       "      <td>278</td>\n",
       "      <td>278</td>\n",
       "    </tr>\n",
       "    <tr>\n",
       "      <th>3</th>\n",
       "      <td>1</td>\n",
       "      <td>Once upon a time there was a dragon</td>\n",
       "      <td>Once upon a time there was a dragon. The drago...</td>\n",
       "      <td>./hidden_states/prompt_1.npz</td>\n",
       "      <td>117</td>\n",
       "      <td>118</td>\n",
       "    </tr>\n",
       "    <tr>\n",
       "      <th>4</th>\n",
       "      <td>1</td>\n",
       "      <td>Once upon a time there was a dragon</td>\n",
       "      <td>Once upon a time there was a dragon. The drago...</td>\n",
       "      <td>./hidden_states/prompt_1.npz</td>\n",
       "      <td>129</td>\n",
       "      <td>130</td>\n",
       "    </tr>\n",
       "    <tr>\n",
       "      <th>...</th>\n",
       "      <td>...</td>\n",
       "      <td>...</td>\n",
       "      <td>...</td>\n",
       "      <td>...</td>\n",
       "      <td>...</td>\n",
       "      <td>...</td>\n",
       "    </tr>\n",
       "    <tr>\n",
       "      <th>9995</th>\n",
       "      <td>10</td>\n",
       "      <td>Once upon a time there was a poor boy</td>\n",
       "      <td>Once upon a time there was a poor boy named Ti...</td>\n",
       "      <td>./hidden_states/prompt_10.npz</td>\n",
       "      <td>289</td>\n",
       "      <td>290</td>\n",
       "    </tr>\n",
       "    <tr>\n",
       "      <th>9996</th>\n",
       "      <td>10</td>\n",
       "      <td>Once upon a time there was a poor boy</td>\n",
       "      <td>Once upon a time there was a poor boy named Ti...</td>\n",
       "      <td>./hidden_states/prompt_10.npz</td>\n",
       "      <td>119</td>\n",
       "      <td>119</td>\n",
       "    </tr>\n",
       "    <tr>\n",
       "      <th>9997</th>\n",
       "      <td>10</td>\n",
       "      <td>Once upon a time there was a poor boy</td>\n",
       "      <td>Once upon a time there was a poor boy named Ti...</td>\n",
       "      <td>./hidden_states/prompt_10.npz</td>\n",
       "      <td>127</td>\n",
       "      <td>128</td>\n",
       "    </tr>\n",
       "    <tr>\n",
       "      <th>9998</th>\n",
       "      <td>10</td>\n",
       "      <td>Once upon a time there was a poor boy</td>\n",
       "      <td>Once upon a time there was a poor boy named Ti...</td>\n",
       "      <td>./hidden_states/prompt_10.npz</td>\n",
       "      <td>441</td>\n",
       "      <td>441</td>\n",
       "    </tr>\n",
       "    <tr>\n",
       "      <th>9999</th>\n",
       "      <td>10</td>\n",
       "      <td>Once upon a time there was a poor boy</td>\n",
       "      <td>Once upon a time there was a poor boy named Ti...</td>\n",
       "      <td>./hidden_states/prompt_10.npz</td>\n",
       "      <td>520</td>\n",
       "      <td>521</td>\n",
       "    </tr>\n",
       "  </tbody>\n",
       "</table>\n",
       "<p>10000 rows × 6 columns</p>\n",
       "</div>"
      ],
      "text/plain": [
       "      prompt_id                                 prompt  \\\n",
       "0             1    Once upon a time there was a dragon   \n",
       "1             1    Once upon a time there was a dragon   \n",
       "2             1    Once upon a time there was a dragon   \n",
       "3             1    Once upon a time there was a dragon   \n",
       "4             1    Once upon a time there was a dragon   \n",
       "...         ...                                    ...   \n",
       "9995         10  Once upon a time there was a poor boy   \n",
       "9996         10  Once upon a time there was a poor boy   \n",
       "9997         10  Once upon a time there was a poor boy   \n",
       "9998         10  Once upon a time there was a poor boy   \n",
       "9999         10  Once upon a time there was a poor boy   \n",
       "\n",
       "                                                  story  \\\n",
       "0     Once upon a time there was a dragon named Blaz...   \n",
       "1     Once upon a time there was a dragon named Spar...   \n",
       "2     Once upon a time there was a dragon named Scor...   \n",
       "3     Once upon a time there was a dragon. The drago...   \n",
       "4     Once upon a time there was a dragon. The drago...   \n",
       "...                                                 ...   \n",
       "9995  Once upon a time there was a poor boy named Ti...   \n",
       "9996  Once upon a time there was a poor boy named Ti...   \n",
       "9997  Once upon a time there was a poor boy named Ti...   \n",
       "9998  Once upon a time there was a poor boy named Ti...   \n",
       "9999  Once upon a time there was a poor boy named Ti...   \n",
       "\n",
       "                  hidden_state_file  len_generated_story  len_new_story  \n",
       "0      ./hidden_states/prompt_1.npz                  270            271  \n",
       "1      ./hidden_states/prompt_1.npz                  349            350  \n",
       "2      ./hidden_states/prompt_1.npz                  278            278  \n",
       "3      ./hidden_states/prompt_1.npz                  117            118  \n",
       "4      ./hidden_states/prompt_1.npz                  129            130  \n",
       "...                             ...                  ...            ...  \n",
       "9995  ./hidden_states/prompt_10.npz                  289            290  \n",
       "9996  ./hidden_states/prompt_10.npz                  119            119  \n",
       "9997  ./hidden_states/prompt_10.npz                  127            128  \n",
       "9998  ./hidden_states/prompt_10.npz                  441            441  \n",
       "9999  ./hidden_states/prompt_10.npz                  520            521  \n",
       "\n",
       "[10000 rows x 6 columns]"
      ]
     },
     "execution_count": 3,
     "metadata": {},
     "output_type": "execute_result"
    }
   ],
   "source": [
    "df = pd.read_csv(\"story_dataset.csv\")\n",
    "df"
   ]
  },
  {
   "cell_type": "code",
   "execution_count": 6,
   "id": "c081cc09",
   "metadata": {},
   "outputs": [
    {
     "data": {
      "text/plain": [
       "522"
      ]
     },
     "execution_count": 6,
     "metadata": {},
     "output_type": "execute_result"
    }
   ],
   "source": [
    "max_story_len = max(df[\"len_generated_story\"])\n",
    "max_story_len"
   ]
  },
  {
   "cell_type": "code",
   "execution_count": 7,
   "id": "212c067a",
   "metadata": {
    "scrolled": true
   },
   "outputs": [
    {
     "name": "stderr",
     "output_type": "stream",
     "text": [
      "100%|████████████████████████████████████████████████████████████████████████████████████████████████████████████████████████████████████████████████| 1000/1000 [00:23<00:00, 42.93it/s]\n",
      "100%|████████████████████████████████████████████████████████████████████████████████████████████████████████████████████████████████████████████████| 1000/1000 [00:21<00:00, 45.65it/s]\n",
      "100%|████████████████████████████████████████████████████████████████████████████████████████████████████████████████████████████████████████████████| 1000/1000 [01:04<00:00, 15.57it/s]\n",
      "100%|████████████████████████████████████████████████████████████████████████████████████████████████████████████████████████████████████████████████| 1000/1000 [01:01<00:00, 16.16it/s]\n",
      "100%|████████████████████████████████████████████████████████████████████████████████████████████████████████████████████████████████████████████████| 1000/1000 [01:00<00:00, 16.60it/s]\n",
      "100%|████████████████████████████████████████████████████████████████████████████████████████████████████████████████████████████████████████████████| 1000/1000 [00:58<00:00, 17.10it/s]\n",
      "100%|████████████████████████████████████████████████████████████████████████████████████████████████████████████████████████████████████████████████| 1000/1000 [00:58<00:00, 17.15it/s]\n",
      "100%|████████████████████████████████████████████████████████████████████████████████████████████████████████████████████████████████████████████████| 1000/1000 [00:59<00:00, 16.68it/s]\n",
      "100%|████████████████████████████████████████████████████████████████████████████████████████████████████████████████████████████████████████████████| 1000/1000 [01:02<00:00, 16.05it/s]\n",
      "100%|████████████████████████████████████████████████████████████████████████████████████████████████████████████████████████████████████████████████| 1000/1000 [01:06<00:00, 14.99it/s]\n"
     ]
    }
   ],
   "source": [
    "hidden_states_by_layer = {}\n",
    "NUM_PROMPTS = 10\n",
    "\n",
    "# for prompt_id in range(1, 11):\n",
    "for prompt_id in range(1, NUM_PROMPTS + 1):\n",
    "    with np.load(f'./hidden_states/prompt_{prompt_id}.npz') as loaded_data:\n",
    "        for i in tqdm(range(1000)):\n",
    "            curr_hidden_states = loaded_data[f\"arr_{i}\"][0]\n",
    "#             print(curr_hidden_states.shape)\n",
    "            for layer in range(1):\n",
    "                padded_arr = np.zeros((max_story_len, 512))\n",
    "                padded_arr_len = len(curr_hidden_states[layer][0])\n",
    "                \n",
    "                padded_arr[:padded_arr_len] = curr_hidden_states[layer][0]\n",
    "                \n",
    "                padded_arr = padded_arr.flatten().astype('float32') #FAISS expects data in type float32 instead of float64 - saves memory too!\n",
    "#                 print(padded_arr.shape)\n",
    "                \n",
    "                if(f\"layer_{layer}\" in hidden_states_by_layer):\n",
    "                    hidden_states_by_layer[f\"layer_{layer}\"].append(padded_arr)\n",
    "                else:\n",
    "                    hidden_states_by_layer[f\"layer_{layer}\"] = [padded_arr]"
   ]
  },
  {
   "cell_type": "code",
   "execution_count": 10,
   "id": "ad23eb70",
   "metadata": {},
   "outputs": [
    {
     "data": {
      "text/plain": [
       "(10000, 267264)"
      ]
     },
     "execution_count": 10,
     "metadata": {},
     "output_type": "execute_result"
    }
   ],
   "source": [
    "layer_hs_array = np.array(hidden_states_by_layer[\"layer_0\"])\n",
    "layer_hs_array.shape"
   ]
  },
  {
   "cell_type": "code",
   "execution_count": 28,
   "id": "fe3c2fd3",
   "metadata": {},
   "outputs": [],
   "source": [
    "# Use original vectors for clustering - uncomment this cell and comment out next cell\n",
    "# dim_reduced_vecs = np.array(hidden_states_by_layer[\"layer_0\"])"
   ]
  },
  {
   "cell_type": "code",
   "execution_count": 57,
   "id": "49cf7b1b",
   "metadata": {},
   "outputs": [],
   "source": [
    "# Layer 0 clustering\n",
    "\n",
    "random_projector = GaussianRandomProjection(random_state = 42)\n",
    "dim_reduced_vecs = random_projector.fit_transform(layer_hs_array).astype('float32')"
   ]
  },
  {
   "cell_type": "code",
   "execution_count": 59,
   "id": "b9257701",
   "metadata": {},
   "outputs": [
    {
     "data": {
      "text/plain": [
       "(10000, 7894)"
      ]
     },
     "execution_count": 59,
     "metadata": {},
     "output_type": "execute_result"
    }
   ],
   "source": [
    "dim_reduced_vecs = np.array([v / np.linalg.norm(v) for v in dim_reduced_vecs])\n",
    "dim_reduced_vecs.shape"
   ]
  },
  {
   "cell_type": "code",
   "execution_count": 60,
   "id": "289102b9",
   "metadata": {
    "scrolled": true
   },
   "outputs": [
    {
     "name": "stdout",
     "output_type": "stream",
     "text": [
      "\n",
      "Sampling a subset of 2560 / 10000 for training\n",
      "Clustering 2560 points in 7894D to 10 clusters, redo 1 times, 100 iterations\n",
      "  Preprocessing in 0.08 s\n",
      "  Iteration 99 (0.81 s, search 0.43 s): objective=754.796 imbalance=1.178 nsplit=0       \r"
     ]
    },
    {
     "data": {
      "text/plain": [
       "754.7957763671875"
      ]
     },
     "execution_count": 60,
     "metadata": {},
     "output_type": "execute_result"
    }
   ],
   "source": [
    "# K-means Clustering\n",
    "\n",
    "ncentroids = NUM_PROMPTS\n",
    "niter = 100\n",
    "verbose = True\n",
    "dim = dim_reduced_vecs.shape[1]\n",
    "kmeans = faiss.Kmeans(dim, ncentroids, niter=niter, verbose=verbose, gpu=True, spherical = True)\n",
    "kmeans.train(dim_reduced_vecs)"
   ]
  },
  {
   "cell_type": "code",
   "execution_count": 61,
   "id": "19cf0f0a",
   "metadata": {},
   "outputs": [
    {
     "data": {
      "text/plain": [
       "array([[ 0.0153456 ,  0.00904646,  0.00191673, ...,  0.00585843,\n",
       "        -0.01694074, -0.01097484],\n",
       "       [ 0.02382143,  0.00869313,  0.00826571, ..., -0.00691274,\n",
       "        -0.00911196, -0.00840147],\n",
       "       [ 0.02215165,  0.00660776,  0.00428421, ..., -0.01263674,\n",
       "        -0.00932354, -0.01416455],\n",
       "       ...,\n",
       "       [ 0.00592884,  0.01377043,  0.00696063, ..., -0.01714636,\n",
       "        -0.01298237, -0.00092342],\n",
       "       [ 0.00784142,  0.00629826, -0.00648828, ..., -0.0150449 ,\n",
       "        -0.00577383,  0.00220145],\n",
       "       [-0.0031441 ,  0.01533546, -0.00366792, ..., -0.01044317,\n",
       "        -0.01152603, -0.01013506]], dtype=float32)"
      ]
     },
     "execution_count": 61,
     "metadata": {},
     "output_type": "execute_result"
    }
   ],
   "source": [
    "kmeans.centroids #cluster centers"
   ]
  },
  {
   "cell_type": "code",
   "execution_count": 62,
   "id": "e5e1fa18",
   "metadata": {},
   "outputs": [
    {
     "data": {
      "text/plain": [
       "array([276.28485107, 715.73626709, 738.60107422, 744.5791626 ,\n",
       "       746.39337158, 748.50982666, 750.86102295, 752.63299561,\n",
       "       753.18481445, 753.40441895, 753.60491943, 753.89709473,\n",
       "       754.50030518, 754.69390869, 754.76245117, 754.78479004,\n",
       "       754.79577637, 754.79577637, 754.79577637, 754.79577637,\n",
       "       754.79577637, 754.79577637, 754.79577637, 754.79577637,\n",
       "       754.79577637, 754.79577637, 754.79577637, 754.79577637,\n",
       "       754.79577637, 754.79577637, 754.79577637, 754.79577637,\n",
       "       754.79577637, 754.79577637, 754.79577637, 754.79577637,\n",
       "       754.79577637, 754.79577637, 754.79577637, 754.79577637,\n",
       "       754.79577637, 754.79577637, 754.79577637, 754.79577637,\n",
       "       754.79577637, 754.79577637, 754.79577637, 754.79577637,\n",
       "       754.79577637, 754.79577637, 754.79577637, 754.79577637,\n",
       "       754.79577637, 754.79577637, 754.79577637, 754.79577637,\n",
       "       754.79577637, 754.79577637, 754.79577637, 754.79577637,\n",
       "       754.79577637, 754.79577637, 754.79577637, 754.79577637,\n",
       "       754.79577637, 754.79577637, 754.79577637, 754.79577637,\n",
       "       754.79577637, 754.79577637, 754.79577637, 754.79577637,\n",
       "       754.79577637, 754.79577637, 754.79577637, 754.79577637,\n",
       "       754.79577637, 754.79577637, 754.79577637, 754.79577637,\n",
       "       754.79577637, 754.79577637, 754.79577637, 754.79577637,\n",
       "       754.79577637, 754.79577637, 754.79577637, 754.79577637,\n",
       "       754.79577637, 754.79577637, 754.79577637, 754.79577637,\n",
       "       754.79577637, 754.79577637, 754.79577637, 754.79577637,\n",
       "       754.79577637, 754.79577637, 754.79577637, 754.79577637])"
      ]
     },
     "execution_count": 62,
     "metadata": {},
     "output_type": "execute_result"
    }
   ],
   "source": [
    "kmeans.obj #inertia at each iteration"
   ]
  },
  {
   "cell_type": "code",
   "execution_count": 63,
   "id": "1e37d3db",
   "metadata": {},
   "outputs": [
    {
     "data": {
      "text/plain": [
       "9    2140\n",
       "1    1548\n",
       "2    1244\n",
       "4     903\n",
       "3     886\n",
       "6     860\n",
       "5     855\n",
       "0     817\n",
       "7     659\n",
       "8      88\n",
       "dtype: int64"
      ]
     },
     "execution_count": 63,
     "metadata": {},
     "output_type": "execute_result"
    }
   ],
   "source": [
    "pd.Series(kmeans.index.search(dim_reduced_vecs.astype(np.float32), 1)[1].flatten()).value_counts()"
   ]
  },
  {
   "cell_type": "code",
   "execution_count": 64,
   "id": "72046299",
   "metadata": {},
   "outputs": [
    {
     "data": {
      "text/plain": [
       "1    8738\n",
       "0    1262\n",
       "dtype: int64"
      ]
     },
     "execution_count": 64,
     "metadata": {},
     "output_type": "execute_result"
    }
   ],
   "source": [
    "classifications = []\n",
    "for dim_red_vec in dim_reduced_vecs:\n",
    "    dist_from_first_centroid = np.linalg.norm((dim_red_vec - kmeans.centroids[0]))\n",
    "    dist_from_second_centroid = np.linalg.norm((dim_red_vec - kmeans.centroids[1]))\n",
    "    classification = 0 if dist_from_first_centroid < dist_from_second_centroid else 1\n",
    "    \n",
    "    classifications.append(classification)\n",
    "    \n",
    "pd.Series(classifications).value_counts()"
   ]
  },
  {
   "cell_type": "code",
   "execution_count": 36,
   "id": "1c20618e",
   "metadata": {},
   "outputs": [
    {
     "data": {
      "text/plain": [
       "0.526"
      ]
     },
     "execution_count": 36,
     "metadata": {},
     "output_type": "execute_result"
    }
   ],
   "source": [
    "np.mean(classifications[:1000])"
   ]
  },
  {
   "cell_type": "code",
   "execution_count": 37,
   "id": "7ea6e602",
   "metadata": {},
   "outputs": [
    {
     "data": {
      "text/plain": [
       "0.495"
      ]
     },
     "execution_count": 37,
     "metadata": {},
     "output_type": "execute_result"
    }
   ],
   "source": [
    "np.mean(classifications[1000:])"
   ]
  },
  {
   "cell_type": "code",
   "execution_count": 40,
   "id": "f05a7515",
   "metadata": {},
   "outputs": [
    {
     "data": {
      "text/plain": [
       "0.526"
      ]
     },
     "execution_count": 40,
     "metadata": {},
     "output_type": "execute_result"
    }
   ],
   "source": [
    "np.mean([i == 1 for i in classifications[:1000]])"
   ]
  },
  {
   "cell_type": "code",
   "execution_count": 41,
   "id": "ea8a3912",
   "metadata": {},
   "outputs": [
    {
     "data": {
      "text/plain": [
       "0.505"
      ]
     },
     "execution_count": 41,
     "metadata": {},
     "output_type": "execute_result"
    }
   ],
   "source": [
    "np.mean([i == 0 for i in classifications[1000:]])"
   ]
  },
  {
   "cell_type": "code",
   "execution_count": 66,
   "id": "bd47ca24",
   "metadata": {},
   "outputs": [],
   "source": [
    "normalized_vecs = [v / np.linalg.norm(v) for v in dim_reduced_vecs]"
   ]
  },
  {
   "cell_type": "code",
   "execution_count": 67,
   "id": "ed2c340d",
   "metadata": {},
   "outputs": [],
   "source": [
    "cos_similarities = normalized_vecs @ kmeans.centroids.T\n",
    "assignments = np.argmax(cos_similarities, axis=1)"
   ]
  },
  {
   "cell_type": "code",
   "execution_count": 68,
   "id": "90aae79f",
   "metadata": {},
   "outputs": [
    {
     "data": {
      "text/plain": [
       "9    2140\n",
       "1    1548\n",
       "2    1244\n",
       "4     903\n",
       "3     886\n",
       "6     860\n",
       "5     855\n",
       "0     817\n",
       "7     659\n",
       "8      88\n",
       "dtype: int64"
      ]
     },
     "execution_count": 68,
     "metadata": {},
     "output_type": "execute_result"
    }
   ],
   "source": [
    "pd.Series(assignments).value_counts()"
   ]
  },
  {
   "cell_type": "code",
   "execution_count": 69,
   "id": "61e726e9",
   "metadata": {},
   "outputs": [
    {
     "name": "stdout",
     "output_type": "stream",
     "text": [
      "1.0000001\n",
      "1.0000001\n",
      "0.9999999\n",
      "1.0000004\n",
      "1.0000005\n",
      "0.99999976\n",
      "1.0\n",
      "1.0\n",
      "1.0000001\n",
      "1.0000001\n"
     ]
    }
   ],
   "source": [
    "for centroid in kmeans.centroids:\n",
    "    print(np.linalg.norm(centroid))"
   ]
  },
  {
   "cell_type": "code",
   "execution_count": null,
   "id": "1758e82c",
   "metadata": {},
   "outputs": [],
   "source": []
  }
 ],
 "metadata": {
  "kernelspec": {
   "display_name": "Python 3 (ipykernel)",
   "language": "python",
   "name": "python3"
  },
  "language_info": {
   "codemirror_mode": {
    "name": "ipython",
    "version": 3
   },
   "file_extension": ".py",
   "mimetype": "text/x-python",
   "name": "python",
   "nbconvert_exporter": "python",
   "pygments_lexer": "ipython3",
   "version": "3.7.11"
  }
 },
 "nbformat": 4,
 "nbformat_minor": 5
}
