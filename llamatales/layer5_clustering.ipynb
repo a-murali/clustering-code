{
 "cells": [
  {
   "cell_type": "markdown",
   "id": "64c867a4-b1c3-426b-b086-de071a726ebf",
   "metadata": {},
   "source": [
    "## Install Packages"
   ]
  },
  {
   "cell_type": "code",
   "execution_count": 1,
   "id": "80849741",
   "metadata": {},
   "outputs": [
    {
     "name": "stdout",
     "output_type": "stream",
     "text": [
      "Collecting package metadata (current_repodata.json): / WARNING conda.models.version:get_matcher(540): Using .* with relational operator is superfluous and deprecated and will be removed in a future version of conda. Your spec was 1.7.1.*, but conda is ignoring the .* and treating it as 1.7.1\n",
      "done\n",
      "Solving environment: failed with initial frozen solve. Retrying with flexible solve.\n",
      "Solving environment: failed with repodata from current_repodata.json, will retry with next repodata source.\n",
      "Collecting package metadata (repodata.json): / WARNING conda.models.version:get_matcher(540): Using .* with relational operator is superfluous and deprecated and will be removed in a future version of conda. Your spec was 1.9.0.*, but conda is ignoring the .* and treating it as 1.9.0\n",
      "WARNING conda.models.version:get_matcher(540): Using .* with relational operator is superfluous and deprecated and will be removed in a future version of conda. Your spec was 1.8.0.*, but conda is ignoring the .* and treating it as 1.8.0\n",
      "WARNING conda.models.version:get_matcher(540): Using .* with relational operator is superfluous and deprecated and will be removed in a future version of conda. Your spec was 1.6.0.*, but conda is ignoring the .* and treating it as 1.6.0\n",
      "done\n",
      "Solving environment: done\n",
      "\n",
      "\n",
      "==> WARNING: A newer version of conda exists. <==\n",
      "  current version: 4.10.3\n",
      "  latest version: 25.7.0\n",
      "\n",
      "Please update conda by running\n",
      "\n",
      "    $ conda update -n base -c defaults conda\n",
      "\n",
      "\n",
      "\n",
      "## Package Plan ##\n",
      "\n",
      "  environment location: /opt/conda\n",
      "\n",
      "  added / updated specs:\n",
      "    - faiss-gpu\n",
      "\n",
      "\n",
      "The following packages will be downloaded:\n",
      "\n",
      "    package                    |            build\n",
      "    ---------------------------|-----------------\n",
      "    ca-certificates-2025.8.3   |       hbd8a1cb_0         151 KB  conda-forge\n",
      "    certifi-2024.8.30          |     pyhd8ed1ab_0         160 KB  conda-forge\n",
      "    conda-4.12.0               |   py37h89c1867_0         1.0 MB  conda-forge\n",
      "    faiss-1.7.1                |py37cuda111h7f21d35_1_cuda         2.0 MB  conda-forge\n",
      "    faiss-gpu-1.7.1            |       h788eb59_1          15 KB  conda-forge\n",
      "    libblas-3.9.0              |   26_linux64_mkl          16 KB  conda-forge\n",
      "    libfaiss-1.7.1             |cuda111hf54f04a_1_cuda        80.2 MB  conda-forge\n",
      "    libfaiss-avx2-1.7.1        |cuda111h1234567_1_cuda        80.3 MB  conda-forge\n",
      "    liblapack-3.9.0            |   26_linux64_mkl          16 KB  conda-forge\n",
      "    openssl-1.1.1w             |       h7f8727e_0         3.7 MB\n",
      "    python_abi-3.7             |          2_cp37m           4 KB  conda-forge\n",
      "    ------------------------------------------------------------\n",
      "                                           Total:       167.6 MB\n",
      "\n",
      "The following NEW packages will be INSTALLED:\n",
      "\n",
      "  faiss              conda-forge/linux-64::faiss-1.7.1-py37cuda111h7f21d35_1_cuda\n",
      "  faiss-gpu          conda-forge/linux-64::faiss-gpu-1.7.1-h788eb59_1\n",
      "  libblas            conda-forge/linux-64::libblas-3.9.0-26_linux64_mkl\n",
      "  libfaiss           conda-forge/linux-64::libfaiss-1.7.1-cuda111hf54f04a_1_cuda\n",
      "  libfaiss-avx2      conda-forge/linux-64::libfaiss-avx2-1.7.1-cuda111h1234567_1_cuda\n",
      "  liblapack          conda-forge/linux-64::liblapack-3.9.0-26_linux64_mkl\n",
      "  python_abi         conda-forge/linux-64::python_abi-3.7-2_cp37m\n",
      "\n",
      "The following packages will be UPDATED:\n",
      "\n",
      "  ca-certificates    pkgs/main/linux-64::ca-certificates-2~ --> conda-forge/noarch::ca-certificates-2025.8.3-hbd8a1cb_0\n",
      "  certifi            pkgs/main/linux-64::certifi-2021.10.8~ --> conda-forge/noarch::certifi-2024.8.30-pyhd8ed1ab_0\n",
      "  conda              pkgs/main::conda-4.10.3-py37h06a4308_0 --> conda-forge::conda-4.12.0-py37h89c1867_0\n",
      "  openssl                                 1.1.1l-h7f8727e_0 --> 1.1.1w-h7f8727e_0\n",
      "\n",
      "\n",
      "\n",
      "Downloading and Extracting Packages\n",
      "faiss-1.7.1          | 2.0 MB    | ##################################### | 100% \n",
      "python_abi-3.7       | 4 KB      | ##################################### | 100% \n",
      "openssl-1.1.1w       | 3.7 MB    | ##################################### | 100% \n",
      "faiss-gpu-1.7.1      | 15 KB     | ##################################### | 100% \n",
      "libfaiss-avx2-1.7.1  | 80.3 MB   | ##################################### | 100% \n",
      "libfaiss-1.7.1       | 80.2 MB   | ##################################### | 100% \n",
      "libblas-3.9.0        | 16 KB     | ##################################### | 100% \n",
      "certifi-2024.8.30    | 160 KB    | ##################################### | 100% \n",
      "conda-4.12.0         | 1.0 MB    | ##################################### | 100% \n",
      "liblapack-3.9.0      | 16 KB     | ##################################### | 100% \n",
      "ca-certificates-2025 | 151 KB    | ##################################### | 100% \n",
      "Preparing transaction: done\n",
      "Verifying transaction: done\n",
      "Executing transaction: done\n",
      "Get:1 http://security.ubuntu.com/ubuntu bionic-security InRelease [102 kB]\n",
      "Hit:2 http://archive.ubuntu.com/ubuntu bionic InRelease               \n",
      "Get:3 http://archive.ubuntu.com/ubuntu bionic-updates InRelease [102 kB]       \n",
      "Get:4 http://security.ubuntu.com/ubuntu bionic-security/multiverse amd64 Packages [23.8 kB]\n",
      "Get:5 http://archive.ubuntu.com/ubuntu bionic-backports InRelease [102 kB]     \n",
      "Get:6 http://security.ubuntu.com/ubuntu bionic-security/main amd64 Packages [3373 kB]\n",
      "Get:7 http://archive.ubuntu.com/ubuntu bionic-updates/restricted amd64 Packages [1728 kB]\n",
      "Get:8 http://archive.ubuntu.com/ubuntu bionic-updates/main amd64 Packages [3786 kB]\n",
      "Get:9 http://archive.ubuntu.com/ubuntu bionic-updates/multiverse amd64 Packages [30.8 kB]\n",
      "Get:10 http://archive.ubuntu.com/ubuntu bionic-updates/universe amd64 Packages [2411 kB]\n",
      "Get:11 http://archive.ubuntu.com/ubuntu bionic-backports/main amd64 Packages [64.0 kB]\n",
      "Get:12 http://archive.ubuntu.com/ubuntu bionic-backports/universe amd64 Packages [20.6 kB]\n",
      "Get:13 http://security.ubuntu.com/ubuntu bionic-security/restricted amd64 Packages [1688 kB]\n",
      "Get:14 http://security.ubuntu.com/ubuntu bionic-security/universe amd64 Packages [1637 kB]\n",
      "Fetched 15.1 MB in 3s (5945 kB/s)                           \n",
      "Reading package lists... Done\n",
      "Reading package lists... Done\n",
      "Building dependency tree       \n",
      "Reading state information... Done\n",
      "The following additional packages will be installed:\n",
      "  gcc-7-base libatlas3-base libgfortran4 libquadmath0\n",
      "Suggested packages:\n",
      "  libatlas-doc liblapack-doc\n",
      "The following NEW packages will be installed:\n",
      "  gcc-7-base libatlas-base-dev libatlas3-base libgfortran4 libquadmath0\n",
      "0 upgraded, 5 newly installed, 0 to remove and 83 not upgraded.\n",
      "Need to get 8397 kB of archives.\n",
      "After this operation, 49.3 MB of additional disk space will be used.\n",
      "Get:1 http://archive.ubuntu.com/ubuntu bionic-updates/main amd64 gcc-7-base amd64 7.5.0-3ubuntu1~18.04 [18.3 kB]\n",
      "Get:2 http://archive.ubuntu.com/ubuntu bionic-updates/main amd64 libquadmath0 amd64 8.4.0-1ubuntu1~18.04 [134 kB]\n",
      "Get:3 http://archive.ubuntu.com/ubuntu bionic-updates/main amd64 libgfortran4 amd64 7.5.0-3ubuntu1~18.04 [492 kB]\n",
      "Get:4 http://archive.ubuntu.com/ubuntu bionic/universe amd64 libatlas3-base amd64 3.10.3-5 [3732 kB]\n",
      "Get:5 http://archive.ubuntu.com/ubuntu bionic/universe amd64 libatlas-base-dev amd64 3.10.3-5 [4022 kB]\n",
      "Fetched 8397 kB in 2s (4150 kB/s)           \n",
      "debconf: delaying package configuration, since apt-utils is not installed\n",
      "Selecting previously unselected package gcc-7-base:amd64.\n",
      "(Reading database ... 11934 files and directories currently installed.)\n",
      "Preparing to unpack .../gcc-7-base_7.5.0-3ubuntu1~18.04_amd64.deb ...\n",
      "Unpacking gcc-7-base:amd64 (7.5.0-3ubuntu1~18.04) ...\n",
      "Selecting previously unselected package libquadmath0:amd64.\n",
      "Preparing to unpack .../libquadmath0_8.4.0-1ubuntu1~18.04_amd64.deb ...\n",
      "Unpacking libquadmath0:amd64 (8.4.0-1ubuntu1~18.04) ...\n",
      "Selecting previously unselected package libgfortran4:amd64.\n",
      "Preparing to unpack .../libgfortran4_7.5.0-3ubuntu1~18.04_amd64.deb ...\n",
      "Unpacking libgfortran4:amd64 (7.5.0-3ubuntu1~18.04) ...\n",
      "Selecting previously unselected package libatlas3-base:amd64.\n",
      "Preparing to unpack .../libatlas3-base_3.10.3-5_amd64.deb ...\n",
      "Unpacking libatlas3-base:amd64 (3.10.3-5) ...\n",
      "Selecting previously unselected package libatlas-base-dev:amd64.\n",
      "Preparing to unpack .../libatlas-base-dev_3.10.3-5_amd64.deb ...\n",
      "Unpacking libatlas-base-dev:amd64 (3.10.3-5) ...\n",
      "Setting up libquadmath0:amd64 (8.4.0-1ubuntu1~18.04) ...\n",
      "Setting up gcc-7-base:amd64 (7.5.0-3ubuntu1~18.04) ...\n",
      "Setting up libgfortran4:amd64 (7.5.0-3ubuntu1~18.04) ...\n",
      "Setting up libatlas3-base:amd64 (3.10.3-5) ...\n",
      "update-alternatives: using /usr/lib/x86_64-linux-gnu/atlas/libblas.so.3 to provide /usr/lib/x86_64-linux-gnu/libblas.so.3 (libblas.so.3-x86_64-linux-gnu) in auto mode\n",
      "update-alternatives: using /usr/lib/x86_64-linux-gnu/atlas/liblapack.so.3 to provide /usr/lib/x86_64-linux-gnu/liblapack.so.3 (liblapack.so.3-x86_64-linux-gnu) in auto mode\n",
      "Setting up libatlas-base-dev:amd64 (3.10.3-5) ...\n",
      "update-alternatives: using /usr/lib/x86_64-linux-gnu/atlas/libblas.so to provide /usr/lib/x86_64-linux-gnu/libblas.so (libblas.so-x86_64-linux-gnu) in auto mode\n",
      "update-alternatives: using /usr/lib/x86_64-linux-gnu/atlas/liblapack.so to provide /usr/lib/x86_64-linux-gnu/liblapack.so (liblapack.so-x86_64-linux-gnu) in auto mode\n",
      "Processing triggers for libc-bin (2.27-3ubuntu1.4) ...\n"
     ]
    }
   ],
   "source": [
    "!conda install -y -c conda-forge faiss-gpu\n",
    "!apt-get -y update\n",
    "!apt-get -y install libatlas-base-dev"
   ]
  },
  {
   "cell_type": "markdown",
   "id": "ea6af1a5-1aef-4743-bfa6-7392ed97dbe7",
   "metadata": {},
   "source": [
    "## Load Data"
   ]
  },
  {
   "cell_type": "code",
   "execution_count": 2,
   "id": "e26dddbf",
   "metadata": {},
   "outputs": [],
   "source": [
    "import pandas as pd\n",
    "import numpy as np\n",
    "import matplotlib.pyplot as plt\n",
    "\n",
    "from sklearn.random_projection import GaussianRandomProjection\n",
    "\n",
    "from tqdm import tqdm\n",
    "\n",
    "import faiss"
   ]
  },
  {
   "cell_type": "code",
   "execution_count": 3,
   "id": "89c2cffa",
   "metadata": {},
   "outputs": [
    {
     "data": {
      "text/html": [
       "<div>\n",
       "<style scoped>\n",
       "    .dataframe tbody tr th:only-of-type {\n",
       "        vertical-align: middle;\n",
       "    }\n",
       "\n",
       "    .dataframe tbody tr th {\n",
       "        vertical-align: top;\n",
       "    }\n",
       "\n",
       "    .dataframe thead th {\n",
       "        text-align: right;\n",
       "    }\n",
       "</style>\n",
       "<table border=\"1\" class=\"dataframe\">\n",
       "  <thead>\n",
       "    <tr style=\"text-align: right;\">\n",
       "      <th></th>\n",
       "      <th>prompt_id</th>\n",
       "      <th>prompt</th>\n",
       "      <th>story</th>\n",
       "      <th>hidden_state_file</th>\n",
       "      <th>len_generated_story</th>\n",
       "      <th>len_new_story</th>\n",
       "    </tr>\n",
       "  </thead>\n",
       "  <tbody>\n",
       "    <tr>\n",
       "      <th>0</th>\n",
       "      <td>1</td>\n",
       "      <td>Once upon a time there was a dragon</td>\n",
       "      <td>Once upon a time there was a dragon named Blaz...</td>\n",
       "      <td>./hidden_states/prompt_1.npz</td>\n",
       "      <td>270</td>\n",
       "      <td>271</td>\n",
       "    </tr>\n",
       "    <tr>\n",
       "      <th>1</th>\n",
       "      <td>1</td>\n",
       "      <td>Once upon a time there was a dragon</td>\n",
       "      <td>Once upon a time there was a dragon named Spar...</td>\n",
       "      <td>./hidden_states/prompt_1.npz</td>\n",
       "      <td>349</td>\n",
       "      <td>350</td>\n",
       "    </tr>\n",
       "    <tr>\n",
       "      <th>2</th>\n",
       "      <td>1</td>\n",
       "      <td>Once upon a time there was a dragon</td>\n",
       "      <td>Once upon a time there was a dragon named Scor...</td>\n",
       "      <td>./hidden_states/prompt_1.npz</td>\n",
       "      <td>278</td>\n",
       "      <td>278</td>\n",
       "    </tr>\n",
       "    <tr>\n",
       "      <th>3</th>\n",
       "      <td>1</td>\n",
       "      <td>Once upon a time there was a dragon</td>\n",
       "      <td>Once upon a time there was a dragon. The drago...</td>\n",
       "      <td>./hidden_states/prompt_1.npz</td>\n",
       "      <td>117</td>\n",
       "      <td>118</td>\n",
       "    </tr>\n",
       "    <tr>\n",
       "      <th>4</th>\n",
       "      <td>1</td>\n",
       "      <td>Once upon a time there was a dragon</td>\n",
       "      <td>Once upon a time there was a dragon. The drago...</td>\n",
       "      <td>./hidden_states/prompt_1.npz</td>\n",
       "      <td>129</td>\n",
       "      <td>130</td>\n",
       "    </tr>\n",
       "    <tr>\n",
       "      <th>...</th>\n",
       "      <td>...</td>\n",
       "      <td>...</td>\n",
       "      <td>...</td>\n",
       "      <td>...</td>\n",
       "      <td>...</td>\n",
       "      <td>...</td>\n",
       "    </tr>\n",
       "    <tr>\n",
       "      <th>9995</th>\n",
       "      <td>10</td>\n",
       "      <td>Once upon a time there was a poor boy</td>\n",
       "      <td>Once upon a time there was a poor boy named Ti...</td>\n",
       "      <td>./hidden_states/prompt_10.npz</td>\n",
       "      <td>289</td>\n",
       "      <td>290</td>\n",
       "    </tr>\n",
       "    <tr>\n",
       "      <th>9996</th>\n",
       "      <td>10</td>\n",
       "      <td>Once upon a time there was a poor boy</td>\n",
       "      <td>Once upon a time there was a poor boy named Ti...</td>\n",
       "      <td>./hidden_states/prompt_10.npz</td>\n",
       "      <td>119</td>\n",
       "      <td>119</td>\n",
       "    </tr>\n",
       "    <tr>\n",
       "      <th>9997</th>\n",
       "      <td>10</td>\n",
       "      <td>Once upon a time there was a poor boy</td>\n",
       "      <td>Once upon a time there was a poor boy named Ti...</td>\n",
       "      <td>./hidden_states/prompt_10.npz</td>\n",
       "      <td>127</td>\n",
       "      <td>128</td>\n",
       "    </tr>\n",
       "    <tr>\n",
       "      <th>9998</th>\n",
       "      <td>10</td>\n",
       "      <td>Once upon a time there was a poor boy</td>\n",
       "      <td>Once upon a time there was a poor boy named Ti...</td>\n",
       "      <td>./hidden_states/prompt_10.npz</td>\n",
       "      <td>441</td>\n",
       "      <td>441</td>\n",
       "    </tr>\n",
       "    <tr>\n",
       "      <th>9999</th>\n",
       "      <td>10</td>\n",
       "      <td>Once upon a time there was a poor boy</td>\n",
       "      <td>Once upon a time there was a poor boy named Ti...</td>\n",
       "      <td>./hidden_states/prompt_10.npz</td>\n",
       "      <td>520</td>\n",
       "      <td>521</td>\n",
       "    </tr>\n",
       "  </tbody>\n",
       "</table>\n",
       "<p>10000 rows × 6 columns</p>\n",
       "</div>"
      ],
      "text/plain": [
       "      prompt_id                                 prompt  \\\n",
       "0             1    Once upon a time there was a dragon   \n",
       "1             1    Once upon a time there was a dragon   \n",
       "2             1    Once upon a time there was a dragon   \n",
       "3             1    Once upon a time there was a dragon   \n",
       "4             1    Once upon a time there was a dragon   \n",
       "...         ...                                    ...   \n",
       "9995         10  Once upon a time there was a poor boy   \n",
       "9996         10  Once upon a time there was a poor boy   \n",
       "9997         10  Once upon a time there was a poor boy   \n",
       "9998         10  Once upon a time there was a poor boy   \n",
       "9999         10  Once upon a time there was a poor boy   \n",
       "\n",
       "                                                  story  \\\n",
       "0     Once upon a time there was a dragon named Blaz...   \n",
       "1     Once upon a time there was a dragon named Spar...   \n",
       "2     Once upon a time there was a dragon named Scor...   \n",
       "3     Once upon a time there was a dragon. The drago...   \n",
       "4     Once upon a time there was a dragon. The drago...   \n",
       "...                                                 ...   \n",
       "9995  Once upon a time there was a poor boy named Ti...   \n",
       "9996  Once upon a time there was a poor boy named Ti...   \n",
       "9997  Once upon a time there was a poor boy named Ti...   \n",
       "9998  Once upon a time there was a poor boy named Ti...   \n",
       "9999  Once upon a time there was a poor boy named Ti...   \n",
       "\n",
       "                  hidden_state_file  len_generated_story  len_new_story  \n",
       "0      ./hidden_states/prompt_1.npz                  270            271  \n",
       "1      ./hidden_states/prompt_1.npz                  349            350  \n",
       "2      ./hidden_states/prompt_1.npz                  278            278  \n",
       "3      ./hidden_states/prompt_1.npz                  117            118  \n",
       "4      ./hidden_states/prompt_1.npz                  129            130  \n",
       "...                             ...                  ...            ...  \n",
       "9995  ./hidden_states/prompt_10.npz                  289            290  \n",
       "9996  ./hidden_states/prompt_10.npz                  119            119  \n",
       "9997  ./hidden_states/prompt_10.npz                  127            128  \n",
       "9998  ./hidden_states/prompt_10.npz                  441            441  \n",
       "9999  ./hidden_states/prompt_10.npz                  520            521  \n",
       "\n",
       "[10000 rows x 6 columns]"
      ]
     },
     "execution_count": 3,
     "metadata": {},
     "output_type": "execute_result"
    }
   ],
   "source": [
    "df = pd.read_csv(\"story_dataset.csv\")\n",
    "df"
   ]
  },
  {
   "cell_type": "code",
   "execution_count": 4,
   "id": "c081cc09",
   "metadata": {},
   "outputs": [
    {
     "data": {
      "text/plain": [
       "522"
      ]
     },
     "execution_count": 4,
     "metadata": {},
     "output_type": "execute_result"
    }
   ],
   "source": [
    "max_story_len = max(df[\"len_generated_story\"])\n",
    "max_story_len"
   ]
  },
  {
   "cell_type": "code",
   "execution_count": 5,
   "id": "212c067a",
   "metadata": {
    "scrolled": true
   },
   "outputs": [
    {
     "name": "stderr",
     "output_type": "stream",
     "text": [
      "100%|███████████████████████████████████████████████████████████████████████████████| 1000/1000 [01:25<00:00, 11.64it/s]\n",
      "100%|███████████████████████████████████████████████████████████████████████████████| 1000/1000 [01:15<00:00, 13.28it/s]\n",
      "100%|███████████████████████████████████████████████████████████████████████████████| 1000/1000 [01:08<00:00, 14.63it/s]\n",
      "100%|███████████████████████████████████████████████████████████████████████████████| 1000/1000 [01:14<00:00, 13.38it/s]\n",
      "100%|███████████████████████████████████████████████████████████████████████████████| 1000/1000 [01:12<00:00, 13.78it/s]\n",
      "100%|███████████████████████████████████████████████████████████████████████████████| 1000/1000 [01:15<00:00, 13.24it/s]\n",
      "100%|███████████████████████████████████████████████████████████████████████████████| 1000/1000 [01:14<00:00, 13.50it/s]\n",
      "100%|███████████████████████████████████████████████████████████████████████████████| 1000/1000 [01:08<00:00, 14.50it/s]\n",
      "100%|███████████████████████████████████████████████████████████████████████████████| 1000/1000 [01:18<00:00, 12.67it/s]\n",
      "100%|███████████████████████████████████████████████████████████████████████████████| 1000/1000 [01:16<00:00, 13.01it/s]\n"
     ]
    }
   ],
   "source": [
    "hidden_states_by_layer = {}\n",
    "NUM_PROMPTS = 10\n",
    "\n",
    "for prompt_id in range(1, NUM_PROMPTS + 1):\n",
    "    with np.load(f'./hidden_states/prompt_{prompt_id}.npz') as loaded_data:\n",
    "        for i in tqdm(range(1000)):\n",
    "            curr_hidden_states = loaded_data[f\"arr_{i}\"][0]\n",
    "#             print(curr_hidden_states.shape)\n",
    "            for layer in range(5, 6):\n",
    "                padded_arr = np.zeros((max_story_len, 512))\n",
    "                padded_arr_len = len(curr_hidden_states[layer][0])\n",
    "                \n",
    "                padded_arr[:padded_arr_len] = curr_hidden_states[layer][0]\n",
    "                \n",
    "                padded_arr = padded_arr.flatten().astype('float32') #FAISS expects data in type float32 instead of float64 - saves memory too!\n",
    "#                 print(padded_arr.shape)\n",
    "                \n",
    "                if(f\"layer_{layer}\" in hidden_states_by_layer):\n",
    "                    hidden_states_by_layer[f\"layer_{layer}\"].append(padded_arr)\n",
    "                else:\n",
    "                    hidden_states_by_layer[f\"layer_{layer}\"] = [padded_arr]"
   ]
  },
  {
   "cell_type": "code",
   "execution_count": 6,
   "id": "ad23eb70",
   "metadata": {},
   "outputs": [
    {
     "data": {
      "text/plain": [
       "(10000, 267264)"
      ]
     },
     "execution_count": 6,
     "metadata": {},
     "output_type": "execute_result"
    }
   ],
   "source": [
    "layer_hs_array = np.array(hidden_states_by_layer[\"layer_5\"])\n",
    "layer_hs_array.shape"
   ]
  },
  {
   "cell_type": "markdown",
   "id": "e44eecd8-9f29-457b-8f65-d8eae3b84eb8",
   "metadata": {},
   "source": [
    "## Layer 5 Clustering"
   ]
  },
  {
   "cell_type": "code",
   "execution_count": 7,
   "id": "49cf7b1b",
   "metadata": {},
   "outputs": [],
   "source": [
    "# Use original vectors for clustering - uncomment next line and comment out last two lines\n",
    "\n",
    "# dim_reduced_vecs = layer_hs_array\n",
    "\n",
    "random_projector = GaussianRandomProjection(random_state = 42)\n",
    "dim_reduced_vecs = random_projector.fit_transform(layer_hs_array).astype('float32')"
   ]
  },
  {
   "cell_type": "code",
   "execution_count": 8,
   "id": "b9257701",
   "metadata": {},
   "outputs": [
    {
     "data": {
      "text/plain": [
       "(10000, 7894)"
      ]
     },
     "execution_count": 8,
     "metadata": {},
     "output_type": "execute_result"
    }
   ],
   "source": [
    "dim_reduced_vecs = np.array([v / np.linalg.norm(v) for v in dim_reduced_vecs])\n",
    "dim_reduced_vecs.shape"
   ]
  },
  {
   "cell_type": "code",
   "execution_count": 9,
   "id": "289102b9",
   "metadata": {
    "scrolled": true
   },
   "outputs": [
    {
     "name": "stdout",
     "output_type": "stream",
     "text": [
      "Clustering 10000 points in 7894D to 10 clusters, redo 10 times, 20 iterations\n",
      "  Preprocessing in 0.04 s\n",
      "Outer iteration 0 / 10\n",
      "  Iteration 19 (0.84 s, search 0.58 s): objective=5425.93 imbalance=1.613 nsplit=0       \n",
      "Objective improved: keep new clusters\n",
      "Outer iteration 1 / 10\n",
      "  Iteration 19 (1.69 s, search 1.16 s): objective=5432.01 imbalance=2.115 nsplit=0       \n",
      "Objective improved: keep new clusters\n",
      "Outer iteration 2 / 10\n",
      "  Iteration 19 (2.54 s, search 1.74 s): objective=5448.12 imbalance=1.334 nsplit=0       \n",
      "Objective improved: keep new clusters\n",
      "Outer iteration 3 / 10\n",
      "  Iteration 19 (3.38 s, search 2.31 s): objective=5442.44 imbalance=1.288 nsplit=0       \n",
      "Outer iteration 4 / 10\n",
      "  Iteration 19 (4.23 s, search 2.89 s): objective=5438.22 imbalance=1.187 nsplit=0       \n",
      "Outer iteration 5 / 10\n",
      "  Iteration 19 (5.08 s, search 3.47 s): objective=5434.79 imbalance=1.577 nsplit=0       \n",
      "Outer iteration 6 / 10\n",
      "  Iteration 19 (5.93 s, search 4.06 s): objective=5425.1 imbalance=1.655 nsplit=0        \n",
      "Outer iteration 7 / 10\n",
      "  Iteration 19 (6.78 s, search 4.63 s): objective=5436.98 imbalance=1.649 nsplit=0       \n",
      "Outer iteration 8 / 10\n",
      "  Iteration 19 (7.62 s, search 5.21 s): objective=5446.29 imbalance=1.323 nsplit=0       \n",
      "Outer iteration 9 / 10\n",
      "  Iteration 19 (8.47 s, search 5.78 s): objective=5455.92 imbalance=1.318 nsplit=0       \r"
     ]
    },
    {
     "data": {
      "text/plain": [
       "5455.923828125"
      ]
     },
     "execution_count": 9,
     "metadata": {},
     "output_type": "execute_result"
    }
   ],
   "source": [
    "# K-means Clustering\n",
    "\n",
    "ncentroids = NUM_PROMPTS\n",
    "niter = 20\n",
    "verbose = True\n",
    "dim = dim_reduced_vecs.shape[1]\n",
    "kmeans = faiss.Kmeans(dim, ncentroids, niter = niter, verbose = verbose, gpu = True, nredo = 10, spherical = True, max_points_per_centroid = 1000)\n",
    "kmeans.train(dim_reduced_vecs)"
   ]
  },
  {
   "cell_type": "code",
   "execution_count": 10,
   "id": "19cf0f0a",
   "metadata": {},
   "outputs": [
    {
     "data": {
      "text/plain": [
       "array([[ 0.0072792 , -0.01527321,  0.00621297, ..., -0.01300611,\n",
       "         0.00983786,  0.0020636 ],\n",
       "       [ 0.00692313, -0.01829372,  0.01082267, ..., -0.00569263,\n",
       "         0.00908529,  0.00967556],\n",
       "       [ 0.01100189, -0.01232994,  0.00653843, ..., -0.00977939,\n",
       "         0.00474763,  0.00390089],\n",
       "       ...,\n",
       "       [ 0.00940989, -0.01930307,  0.00886085, ..., -0.01090563,\n",
       "         0.00713332,  0.00276421],\n",
       "       [ 0.00265495, -0.01216395,  0.01212723, ..., -0.00677637,\n",
       "         0.00801237, -0.00356999],\n",
       "       [ 0.00792372, -0.01597789,  0.01099395, ..., -0.00616443,\n",
       "         0.00649714,  0.00765719]], dtype=float32)"
      ]
     },
     "execution_count": 10,
     "metadata": {},
     "output_type": "execute_result"
    }
   ],
   "source": [
    "kmeans.centroids #cluster centers"
   ]
  },
  {
   "cell_type": "code",
   "execution_count": 11,
   "id": "61e726e9",
   "metadata": {},
   "outputs": [
    {
     "name": "stdout",
     "output_type": "stream",
     "text": [
      "0.9999998\n",
      "0.99999994\n",
      "0.99999976\n",
      "1.0\n",
      "0.99999994\n",
      "0.99999994\n",
      "0.99999964\n",
      "0.9999999\n",
      "1.0\n",
      "1.0000005\n"
     ]
    }
   ],
   "source": [
    "for centroid in kmeans.centroids:\n",
    "    print(np.linalg.norm(centroid))"
   ]
  },
  {
   "cell_type": "code",
   "execution_count": 12,
   "id": "e5e1fa18",
   "metadata": {},
   "outputs": [
    {
     "data": {
      "text/plain": [
       "array([3467.33520508, 5262.19628906, 5370.63134766, 5409.11425781,\n",
       "       5416.80126953, 5419.55810547, 5421.05859375, 5422.08935547,\n",
       "       5422.83642578, 5423.35205078, 5423.86083984, 5424.14990234,\n",
       "       5424.35253906, 5424.55957031, 5424.75146484, 5424.99951172,\n",
       "       5425.27783203, 5425.53613281, 5425.71972656, 5425.93261719,\n",
       "       3626.39868164, 5246.43798828, 5341.88916016, 5392.92724609,\n",
       "       5411.24072266, 5416.234375  , 5419.27636719, 5423.18408203,\n",
       "       5427.38476562, 5429.58154297, 5430.69238281, 5431.31933594,\n",
       "       5431.54541016, 5431.65136719, 5431.73193359, 5431.82666016,\n",
       "       5431.88427734, 5431.93994141, 5431.99023438, 5432.00830078,\n",
       "       3417.40161133, 5269.80761719, 5376.26904297, 5409.54541016,\n",
       "       5422.02783203, 5430.91210938, 5436.97802734, 5439.3046875 ,\n",
       "       5440.41455078, 5441.25292969, 5441.89111328, 5442.44238281,\n",
       "       5443.10302734, 5443.91845703, 5445.03271484, 5445.68603516,\n",
       "       5446.07617188, 5446.54736328, 5447.43164062, 5448.12060547,\n",
       "       3545.75415039, 5262.98193359, 5374.58544922, 5415.84179688,\n",
       "       5426.35498047, 5433.        , 5437.25292969, 5440.21923828,\n",
       "       5441.22216797, 5441.6796875 , 5441.87402344, 5442.00683594,\n",
       "       5442.06884766, 5442.17382812, 5442.25146484, 5442.28271484,\n",
       "       5442.31494141, 5442.359375  , 5442.40087891, 5442.44335938,\n",
       "       3375.03149414, 5294.52783203, 5379.84179688, 5405.82666016,\n",
       "       5422.77978516, 5430.59277344, 5433.37207031, 5434.54150391,\n",
       "       5435.26269531, 5435.79980469, 5436.21679688, 5436.58056641,\n",
       "       5436.94824219, 5437.24072266, 5437.49121094, 5437.76904297,\n",
       "       5437.98974609, 5438.11962891, 5438.17041016, 5438.21777344,\n",
       "       3572.8828125 , 5247.81689453, 5341.20556641, 5372.515625  ,\n",
       "       5395.90771484, 5406.49316406, 5412.49023438, 5417.47949219,\n",
       "       5421.19824219, 5423.06542969, 5424.23681641, 5425.43554688,\n",
       "       5426.92871094, 5428.75537109, 5430.10449219, 5431.38232422,\n",
       "       5432.69580078, 5433.75585938, 5434.36865234, 5434.79003906,\n",
       "       3752.4777832 , 5225.77685547, 5338.65527344, 5395.89208984,\n",
       "       5407.66259766, 5411.69726562, 5414.48339844, 5416.53076172,\n",
       "       5418.70751953, 5421.49707031, 5423.37841797, 5424.06396484,\n",
       "       5424.35839844, 5424.5703125 , 5424.71191406, 5424.83300781,\n",
       "       5424.89013672, 5424.96972656, 5425.04101562, 5425.10351562,\n",
       "       3812.09985352, 5229.08837891, 5328.61230469, 5398.31054688,\n",
       "       5416.88476562, 5424.45898438, 5429.29296875, 5432.45214844,\n",
       "       5434.01269531, 5434.45166016, 5434.72021484, 5434.89257812,\n",
       "       5435.02050781, 5435.17919922, 5435.30322266, 5435.49755859,\n",
       "       5435.82666016, 5436.32324219, 5436.79785156, 5436.97705078,\n",
       "       3550.13598633, 5251.80761719, 5360.30126953, 5394.17675781,\n",
       "       5417.41845703, 5425.93310547, 5429.51074219, 5432.96582031,\n",
       "       5435.55566406, 5437.68310547, 5439.953125  , 5442.54199219,\n",
       "       5444.73144531, 5445.44287109, 5445.69433594, 5445.8515625 ,\n",
       "       5445.98730469, 5446.15527344, 5446.25732422, 5446.29199219,\n",
       "       3387.41479492, 5290.8984375 , 5375.08203125, 5406.59814453,\n",
       "       5424.52587891, 5438.15234375, 5445.27099609, 5448.12646484,\n",
       "       5449.60302734, 5450.37353516, 5450.75292969, 5451.02832031,\n",
       "       5451.24902344, 5451.52050781, 5451.92919922, 5452.68603516,\n",
       "       5453.90429688, 5455.06152344, 5455.703125  , 5455.92382812])"
      ]
     },
     "execution_count": 12,
     "metadata": {},
     "output_type": "execute_result"
    }
   ],
   "source": [
    "kmeans.obj #inertia at each iteration"
   ]
  },
  {
   "cell_type": "code",
   "execution_count": 13,
   "id": "bd47ca24",
   "metadata": {},
   "outputs": [],
   "source": [
    "normalized_vecs = [v / np.linalg.norm(v) for v in dim_reduced_vecs]"
   ]
  },
  {
   "cell_type": "code",
   "execution_count": 14,
   "id": "ed2c340d",
   "metadata": {},
   "outputs": [],
   "source": [
    "cos_similarities = normalized_vecs @ kmeans.centroids.T\n",
    "classifications = np.argmax(cos_similarities, axis=1)"
   ]
  },
  {
   "cell_type": "code",
   "execution_count": 15,
   "id": "90aae79f",
   "metadata": {},
   "outputs": [
    {
     "data": {
      "text/plain": [
       "1    2219\n",
       "6    1590\n",
       "7    1552\n",
       "4    1070\n",
       "3     916\n",
       "0     735\n",
       "2     547\n",
       "5     539\n",
       "9     416\n",
       "8     416\n",
       "dtype: int64"
      ]
     },
     "execution_count": 15,
     "metadata": {},
     "output_type": "execute_result"
    }
   ],
   "source": [
    "pd.Series(classifications).value_counts()"
   ]
  },
  {
   "cell_type": "code",
   "execution_count": 16,
   "id": "1e37d3db",
   "metadata": {},
   "outputs": [
    {
     "data": {
      "text/plain": [
       "1    2219\n",
       "6    1590\n",
       "7    1552\n",
       "4    1070\n",
       "3     916\n",
       "0     735\n",
       "2     547\n",
       "5     539\n",
       "9     416\n",
       "8     416\n",
       "dtype: int64"
      ]
     },
     "execution_count": 16,
     "metadata": {},
     "output_type": "execute_result"
    }
   ],
   "source": [
    "pd.Series(kmeans.index.search(dim_reduced_vecs.astype(np.float32), 1)[1].flatten()).value_counts()"
   ]
  },
  {
   "cell_type": "code",
   "execution_count": 17,
   "id": "9e43e643-e215-449e-8d85-10f2625b7abb",
   "metadata": {
    "tags": []
   },
   "outputs": [
    {
     "data": {
      "text/plain": [
       "array([ 1,  1,  1, ..., 10, 10, 10])"
      ]
     },
     "execution_count": 17,
     "metadata": {},
     "output_type": "execute_result"
    }
   ],
   "source": [
    "prompt_ids = df[\"prompt_id\"]\n",
    "prompt_ids = prompt_ids.to_numpy()\n",
    "prompt_ids"
   ]
  },
  {
   "cell_type": "code",
   "execution_count": 18,
   "id": "381111fd-58d3-4ac3-b79f-fbdf87c51abc",
   "metadata": {
    "tags": []
   },
   "outputs": [
    {
     "data": {
      "text/plain": [
       "[1, 6, 3, 1, 4, 1, 1, 4, 1, 2]"
      ]
     },
     "execution_count": 18,
     "metadata": {},
     "output_type": "execute_result"
    }
   ],
   "source": [
    "# Get most common centroid for each 1000 points (same label)\n",
    "max_centroid_per_label = [pd.Series(classifications[i * 1000:(i + 1) * 1000]).value_counts().idxmax() for i in range(10)]\n",
    "max_centroid_per_label"
   ]
  },
  {
   "cell_type": "code",
   "execution_count": 19,
   "id": "46fc4339-65a6-42e9-a022-9a98acd18ea0",
   "metadata": {
    "tags": []
   },
   "outputs": [
    {
     "data": {
      "text/plain": [
       "[5, 6, 10, 3, 5, 9, 7, 6, 3, 10]"
      ]
     },
     "execution_count": 19,
     "metadata": {},
     "output_type": "execute_result"
    }
   ],
   "source": [
    "# Get most common label for each point classified to a centroid (same centroid)\n",
    "centroid_labels = [np.where(classifications == i)[0] for i in range(10)]\n",
    "max_label_per_centroid = [pd.Series(prompt_ids[centroid_labels[i]]).value_counts().idxmax() for i in range(10)]\n",
    "max_label_per_centroid"
   ]
  },
  {
   "cell_type": "code",
   "execution_count": 20,
   "id": "3a9d2c11-3223-41ab-9c39-418686e2db9f",
   "metadata": {
    "tags": []
   },
   "outputs": [],
   "source": [
    "max_centroids = [centroid for centroid in max_centroid_per_label for _ in range(1000)]\n",
    "\n",
    "max_labels = [label for label in max_label_per_centroid for _ in range(1000)]"
   ]
  },
  {
   "cell_type": "code",
   "execution_count": 21,
   "id": "2d630b05-f24e-4bbe-836e-de6d1bed32c4",
   "metadata": {
    "tags": []
   },
   "outputs": [
    {
     "data": {
      "text/plain": [
       "array([1, 1, 1, ..., 2, 2, 2])"
      ]
     },
     "execution_count": 21,
     "metadata": {},
     "output_type": "execute_result"
    }
   ],
   "source": [
    "np.array(max_centroids)"
   ]
  },
  {
   "cell_type": "code",
   "execution_count": 22,
   "id": "ce4636b0-a081-417c-8de5-70edc6131603",
   "metadata": {
    "tags": []
   },
   "outputs": [
    {
     "data": {
      "text/plain": [
       "array([ 5,  5,  5, ..., 10, 10, 10])"
      ]
     },
     "execution_count": 22,
     "metadata": {},
     "output_type": "execute_result"
    }
   ],
   "source": [
    "np.array(max_labels)"
   ]
  },
  {
   "cell_type": "code",
   "execution_count": 23,
   "id": "3c2cf8f3-f5ef-4c40-882f-c3b32f5338d0",
   "metadata": {
    "tags": []
   },
   "outputs": [],
   "source": [
    "label_to_centroid = {idx + 1 : max_centroid_per_label[idx] for idx in range(len(max_centroid_per_label))}\n",
    "\n",
    "centroid_to_label = {idx : max_label_per_centroid[idx] for idx in range(len(max_label_per_centroid))}"
   ]
  },
  {
   "cell_type": "code",
   "execution_count": 24,
   "id": "a7878fbe-e490-4a8f-8f9b-1b77dda94994",
   "metadata": {
    "tags": []
   },
   "outputs": [
    {
     "data": {
      "text/plain": [
       "{1: 1, 2: 6, 3: 3, 4: 1, 5: 4, 6: 1, 7: 1, 8: 4, 9: 1, 10: 2}"
      ]
     },
     "execution_count": 24,
     "metadata": {},
     "output_type": "execute_result"
    }
   ],
   "source": [
    "label_to_centroid"
   ]
  },
  {
   "cell_type": "code",
   "execution_count": 25,
   "id": "9776b43e-3174-4758-9407-b8bfc7077f4f",
   "metadata": {
    "tags": []
   },
   "outputs": [
    {
     "data": {
      "text/plain": [
       "{0: 5, 1: 6, 2: 10, 3: 3, 4: 5, 5: 9, 6: 7, 7: 6, 8: 3, 9: 10}"
      ]
     },
     "execution_count": 25,
     "metadata": {},
     "output_type": "execute_result"
    }
   ],
   "source": [
    "centroid_to_label"
   ]
  },
  {
   "cell_type": "code",
   "execution_count": 26,
   "id": "5c558730-15c1-48d5-af85-bbaf607c7fd1",
   "metadata": {
    "tags": []
   },
   "outputs": [
    {
     "data": {
      "text/plain": [
       "array([ 6,  6,  9, ..., 10, 10, 10])"
      ]
     },
     "execution_count": 26,
     "metadata": {},
     "output_type": "execute_result"
    }
   ],
   "source": [
    "vectorized_map = np.vectorize(centroid_to_label.get)\n",
    "classifications_to_label = vectorized_map(classifications)\n",
    "\n",
    "classifications_to_label"
   ]
  },
  {
   "cell_type": "code",
   "execution_count": 27,
   "id": "7c36b385-13bc-4dcb-b6a2-0f9a8ebbad3e",
   "metadata": {
    "tags": []
   },
   "outputs": [
    {
     "name": "stdout",
     "output_type": "stream",
     "text": [
      "Prompt 1 Accuracy:  0.0\n",
      "Prompt 2 Accuracy:  0.0\n",
      "Prompt 3 Accuracy:  0.961\n",
      "Prompt 4 Accuracy:  0.0\n",
      "Prompt 5 Accuracy:  0.771\n",
      "Prompt 6 Accuracy:  0.649\n",
      "Prompt 7 Accuracy:  0.317\n",
      "Prompt 8 Accuracy:  0.0\n",
      "Prompt 9 Accuracy:  0.228\n",
      "Prompt 10 Accuracy:  0.956\n"
     ]
    }
   ],
   "source": [
    "for i in range(10):\n",
    "    print(f\"Prompt {i + 1} Accuracy: \", np.mean(classifications_to_label[i * 1000:(i + 1) * 1000] == (i + 1)))"
   ]
  },
  {
   "cell_type": "code",
   "execution_count": 28,
   "id": "28aaa609-f11c-439a-89cb-0a4de95048d5",
   "metadata": {
    "tags": []
   },
   "outputs": [
    {
     "name": "stdout",
     "output_type": "stream",
     "text": [
      "Overall Accuracy:  0.3882\n"
     ]
    }
   ],
   "source": [
    "print(f\"Overall Accuracy: \", np.mean(classifications_to_label == prompt_ids))"
   ]
  }
 ],
 "metadata": {
  "kernelspec": {
   "display_name": "Python 3 (ipykernel)",
   "language": "python",
   "name": "python3"
  },
  "language_info": {
   "codemirror_mode": {
    "name": "ipython",
    "version": 3
   },
   "file_extension": ".py",
   "mimetype": "text/x-python",
   "name": "python",
   "nbconvert_exporter": "python",
   "pygments_lexer": "ipython3",
   "version": "3.7.11"
  }
 },
 "nbformat": 4,
 "nbformat_minor": 5
}
