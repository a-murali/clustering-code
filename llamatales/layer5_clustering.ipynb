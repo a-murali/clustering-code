{
 "cells": [
  {
   "cell_type": "markdown",
   "id": "64c867a4-b1c3-426b-b086-de071a726ebf",
   "metadata": {},
   "source": [
    "## Install Packages"
   ]
  },
  {
   "cell_type": "code",
   "execution_count": 1,
   "id": "80849741",
   "metadata": {},
   "outputs": [
    {
     "name": "stdout",
     "output_type": "stream",
     "text": [
      "Collecting package metadata (current_repodata.json): | WARNING conda.models.version:get_matcher(538): Using .* with relational operator is superfluous and deprecated and will be removed in a future version of conda. Your spec was 1.7.1.*, but conda is ignoring the .* and treating it as 1.7.1\n",
      "done\n",
      "Solving environment: done\n",
      "\n",
      "## Package Plan ##\n",
      "\n",
      "  environment location: /opt/conda\n",
      "\n",
      "  added / updated specs:\n",
      "    - faiss-gpu\n",
      "\n",
      "\n",
      "The following packages will be downloaded:\n",
      "\n",
      "    package                    |            build\n",
      "    ---------------------------|-----------------\n",
      "    conda-4.14.0               |   py37h89c1867_0        1010 KB  conda-forge\n",
      "    toolz-0.12.1               |     pyhd8ed1ab_0          51 KB  conda-forge\n",
      "    ------------------------------------------------------------\n",
      "                                           Total:         1.0 MB\n",
      "\n",
      "The following NEW packages will be INSTALLED:\n",
      "\n",
      "  toolz              conda-forge/noarch::toolz-0.12.1-pyhd8ed1ab_0\n",
      "\n",
      "The following packages will be UPDATED:\n",
      "\n",
      "  conda                               4.12.0-py37h89c1867_0 --> 4.14.0-py37h89c1867_0\n",
      "\n",
      "\n",
      "\n",
      "Downloading and Extracting Packages\n",
      "conda-4.14.0         | 1010 KB   | ##################################### | 100% \n",
      "toolz-0.12.1         | 51 KB     | ##################################### | 100% \n",
      "Preparing transaction: done\n",
      "Verifying transaction: done\n",
      "Executing transaction: done\n",
      "Hit:1 http://security.ubuntu.com/ubuntu bionic-security InRelease\n",
      "Hit:2 http://archive.ubuntu.com/ubuntu bionic InRelease        \n",
      "Hit:3 http://archive.ubuntu.com/ubuntu bionic-updates InRelease\n",
      "Hit:4 http://archive.ubuntu.com/ubuntu bionic-backports InRelease\n",
      "Reading package lists... Done\n",
      "Reading package lists... Done\n",
      "Building dependency tree       \n",
      "Reading state information... Done\n",
      "libatlas-base-dev is already the newest version (3.10.3-5).\n",
      "0 upgraded, 0 newly installed, 0 to remove and 83 not upgraded.\n"
     ]
    }
   ],
   "source": [
    "!conda install -y -c conda-forge faiss-gpu\n",
    "!apt-get -y update\n",
    "!apt-get -y install libatlas-base-dev"
   ]
  },
  {
   "cell_type": "markdown",
   "id": "ea6af1a5-1aef-4743-bfa6-7392ed97dbe7",
   "metadata": {},
   "source": [
    "## Load Data"
   ]
  },
  {
   "cell_type": "code",
   "execution_count": 2,
   "id": "e26dddbf",
   "metadata": {},
   "outputs": [],
   "source": [
    "import pandas as pd\n",
    "import numpy as np\n",
    "import matplotlib.pyplot as plt\n",
    "\n",
    "from sklearn.random_projection import GaussianRandomProjection\n",
    "\n",
    "from tqdm import tqdm\n",
    "\n",
    "import faiss"
   ]
  },
  {
   "cell_type": "code",
   "execution_count": 3,
   "id": "89c2cffa",
   "metadata": {},
   "outputs": [
    {
     "data": {
      "text/html": [
       "<div>\n",
       "<style scoped>\n",
       "    .dataframe tbody tr th:only-of-type {\n",
       "        vertical-align: middle;\n",
       "    }\n",
       "\n",
       "    .dataframe tbody tr th {\n",
       "        vertical-align: top;\n",
       "    }\n",
       "\n",
       "    .dataframe thead th {\n",
       "        text-align: right;\n",
       "    }\n",
       "</style>\n",
       "<table border=\"1\" class=\"dataframe\">\n",
       "  <thead>\n",
       "    <tr style=\"text-align: right;\">\n",
       "      <th></th>\n",
       "      <th>prompt_id</th>\n",
       "      <th>prompt</th>\n",
       "      <th>story</th>\n",
       "      <th>hidden_state_file</th>\n",
       "      <th>len_generated_story</th>\n",
       "      <th>len_new_story</th>\n",
       "    </tr>\n",
       "  </thead>\n",
       "  <tbody>\n",
       "    <tr>\n",
       "      <th>0</th>\n",
       "      <td>1</td>\n",
       "      <td>Once upon a time there was a dragon</td>\n",
       "      <td>Once upon a time there was a dragon named Blaz...</td>\n",
       "      <td>./hidden_states/prompt_1.npz</td>\n",
       "      <td>270</td>\n",
       "      <td>271</td>\n",
       "    </tr>\n",
       "    <tr>\n",
       "      <th>1</th>\n",
       "      <td>1</td>\n",
       "      <td>Once upon a time there was a dragon</td>\n",
       "      <td>Once upon a time there was a dragon named Spar...</td>\n",
       "      <td>./hidden_states/prompt_1.npz</td>\n",
       "      <td>349</td>\n",
       "      <td>350</td>\n",
       "    </tr>\n",
       "    <tr>\n",
       "      <th>2</th>\n",
       "      <td>1</td>\n",
       "      <td>Once upon a time there was a dragon</td>\n",
       "      <td>Once upon a time there was a dragon named Scor...</td>\n",
       "      <td>./hidden_states/prompt_1.npz</td>\n",
       "      <td>278</td>\n",
       "      <td>278</td>\n",
       "    </tr>\n",
       "    <tr>\n",
       "      <th>3</th>\n",
       "      <td>1</td>\n",
       "      <td>Once upon a time there was a dragon</td>\n",
       "      <td>Once upon a time there was a dragon. The drago...</td>\n",
       "      <td>./hidden_states/prompt_1.npz</td>\n",
       "      <td>117</td>\n",
       "      <td>118</td>\n",
       "    </tr>\n",
       "    <tr>\n",
       "      <th>4</th>\n",
       "      <td>1</td>\n",
       "      <td>Once upon a time there was a dragon</td>\n",
       "      <td>Once upon a time there was a dragon. The drago...</td>\n",
       "      <td>./hidden_states/prompt_1.npz</td>\n",
       "      <td>129</td>\n",
       "      <td>130</td>\n",
       "    </tr>\n",
       "    <tr>\n",
       "      <th>...</th>\n",
       "      <td>...</td>\n",
       "      <td>...</td>\n",
       "      <td>...</td>\n",
       "      <td>...</td>\n",
       "      <td>...</td>\n",
       "      <td>...</td>\n",
       "    </tr>\n",
       "    <tr>\n",
       "      <th>9995</th>\n",
       "      <td>10</td>\n",
       "      <td>Once upon a time there was a poor boy</td>\n",
       "      <td>Once upon a time there was a poor boy named Ti...</td>\n",
       "      <td>./hidden_states/prompt_10.npz</td>\n",
       "      <td>289</td>\n",
       "      <td>290</td>\n",
       "    </tr>\n",
       "    <tr>\n",
       "      <th>9996</th>\n",
       "      <td>10</td>\n",
       "      <td>Once upon a time there was a poor boy</td>\n",
       "      <td>Once upon a time there was a poor boy named Ti...</td>\n",
       "      <td>./hidden_states/prompt_10.npz</td>\n",
       "      <td>119</td>\n",
       "      <td>119</td>\n",
       "    </tr>\n",
       "    <tr>\n",
       "      <th>9997</th>\n",
       "      <td>10</td>\n",
       "      <td>Once upon a time there was a poor boy</td>\n",
       "      <td>Once upon a time there was a poor boy named Ti...</td>\n",
       "      <td>./hidden_states/prompt_10.npz</td>\n",
       "      <td>127</td>\n",
       "      <td>128</td>\n",
       "    </tr>\n",
       "    <tr>\n",
       "      <th>9998</th>\n",
       "      <td>10</td>\n",
       "      <td>Once upon a time there was a poor boy</td>\n",
       "      <td>Once upon a time there was a poor boy named Ti...</td>\n",
       "      <td>./hidden_states/prompt_10.npz</td>\n",
       "      <td>441</td>\n",
       "      <td>441</td>\n",
       "    </tr>\n",
       "    <tr>\n",
       "      <th>9999</th>\n",
       "      <td>10</td>\n",
       "      <td>Once upon a time there was a poor boy</td>\n",
       "      <td>Once upon a time there was a poor boy named Ti...</td>\n",
       "      <td>./hidden_states/prompt_10.npz</td>\n",
       "      <td>520</td>\n",
       "      <td>521</td>\n",
       "    </tr>\n",
       "  </tbody>\n",
       "</table>\n",
       "<p>10000 rows × 6 columns</p>\n",
       "</div>"
      ],
      "text/plain": [
       "      prompt_id                                 prompt  \\\n",
       "0             1    Once upon a time there was a dragon   \n",
       "1             1    Once upon a time there was a dragon   \n",
       "2             1    Once upon a time there was a dragon   \n",
       "3             1    Once upon a time there was a dragon   \n",
       "4             1    Once upon a time there was a dragon   \n",
       "...         ...                                    ...   \n",
       "9995         10  Once upon a time there was a poor boy   \n",
       "9996         10  Once upon a time there was a poor boy   \n",
       "9997         10  Once upon a time there was a poor boy   \n",
       "9998         10  Once upon a time there was a poor boy   \n",
       "9999         10  Once upon a time there was a poor boy   \n",
       "\n",
       "                                                  story  \\\n",
       "0     Once upon a time there was a dragon named Blaz...   \n",
       "1     Once upon a time there was a dragon named Spar...   \n",
       "2     Once upon a time there was a dragon named Scor...   \n",
       "3     Once upon a time there was a dragon. The drago...   \n",
       "4     Once upon a time there was a dragon. The drago...   \n",
       "...                                                 ...   \n",
       "9995  Once upon a time there was a poor boy named Ti...   \n",
       "9996  Once upon a time there was a poor boy named Ti...   \n",
       "9997  Once upon a time there was a poor boy named Ti...   \n",
       "9998  Once upon a time there was a poor boy named Ti...   \n",
       "9999  Once upon a time there was a poor boy named Ti...   \n",
       "\n",
       "                  hidden_state_file  len_generated_story  len_new_story  \n",
       "0      ./hidden_states/prompt_1.npz                  270            271  \n",
       "1      ./hidden_states/prompt_1.npz                  349            350  \n",
       "2      ./hidden_states/prompt_1.npz                  278            278  \n",
       "3      ./hidden_states/prompt_1.npz                  117            118  \n",
       "4      ./hidden_states/prompt_1.npz                  129            130  \n",
       "...                             ...                  ...            ...  \n",
       "9995  ./hidden_states/prompt_10.npz                  289            290  \n",
       "9996  ./hidden_states/prompt_10.npz                  119            119  \n",
       "9997  ./hidden_states/prompt_10.npz                  127            128  \n",
       "9998  ./hidden_states/prompt_10.npz                  441            441  \n",
       "9999  ./hidden_states/prompt_10.npz                  520            521  \n",
       "\n",
       "[10000 rows x 6 columns]"
      ]
     },
     "execution_count": 3,
     "metadata": {},
     "output_type": "execute_result"
    }
   ],
   "source": [
    "df = pd.read_csv(\"story_dataset.csv\")\n",
    "df"
   ]
  },
  {
   "cell_type": "code",
   "execution_count": 4,
   "id": "c081cc09",
   "metadata": {},
   "outputs": [
    {
     "data": {
      "text/plain": [
       "522"
      ]
     },
     "execution_count": 4,
     "metadata": {},
     "output_type": "execute_result"
    }
   ],
   "source": [
    "max_story_len = max(df[\"len_generated_story\"])\n",
    "max_story_len"
   ]
  },
  {
   "cell_type": "code",
   "execution_count": 5,
   "id": "212c067a",
   "metadata": {
    "scrolled": true
   },
   "outputs": [
    {
     "name": "stderr",
     "output_type": "stream",
     "text": [
      "100%|███████████████████████████████████████████████████████████████████████████████| 1000/1000 [03:58<00:00,  4.19it/s]\n",
      "100%|███████████████████████████████████████████████████████████████████████████████| 1000/1000 [03:33<00:00,  4.67it/s]\n",
      "100%|███████████████████████████████████████████████████████████████████████████████| 1000/1000 [03:06<00:00,  5.37it/s]\n",
      "100%|███████████████████████████████████████████████████████████████████████████████| 1000/1000 [03:41<00:00,  4.52it/s]\n",
      "100%|███████████████████████████████████████████████████████████████████████████████| 1000/1000 [03:45<00:00,  4.43it/s]\n",
      "100%|███████████████████████████████████████████████████████████████████████████████| 1000/1000 [03:41<00:00,  4.51it/s]\n",
      "100%|███████████████████████████████████████████████████████████████████████████████| 1000/1000 [03:45<00:00,  4.44it/s]\n",
      "100%|███████████████████████████████████████████████████████████████████████████████| 1000/1000 [03:40<00:00,  4.54it/s]\n",
      "100%|███████████████████████████████████████████████████████████████████████████████| 1000/1000 [03:47<00:00,  4.39it/s]\n",
      "100%|███████████████████████████████████████████████████████████████████████████████| 1000/1000 [03:34<00:00,  4.66it/s]\n"
     ]
    }
   ],
   "source": [
    "hidden_states_by_layer = {}\n",
    "NUM_PROMPTS = 10\n",
    "\n",
    "for prompt_id in range(1, NUM_PROMPTS + 1):\n",
    "    with np.load(f'./hidden_states/prompt_{prompt_id}.npz') as loaded_data:\n",
    "        for i in tqdm(range(1000)):\n",
    "            curr_hidden_states = loaded_data[f\"arr_{i}\"][0]\n",
    "#             print(curr_hidden_states.shape)\n",
    "            for layer in range(5, 6):\n",
    "                padded_arr = np.zeros((max_story_len, 512))\n",
    "                padded_arr_len = len(curr_hidden_states[layer][0])\n",
    "                \n",
    "                padded_arr[:padded_arr_len] = curr_hidden_states[layer][0]\n",
    "                \n",
    "                padded_arr = padded_arr.flatten().astype('float32') #FAISS expects data in type float32 instead of float64 - saves memory too!\n",
    "#                 print(padded_arr.shape)\n",
    "                \n",
    "                if(f\"layer_{layer}\" in hidden_states_by_layer):\n",
    "                    hidden_states_by_layer[f\"layer_{layer}\"].append(padded_arr)\n",
    "                else:\n",
    "                    hidden_states_by_layer[f\"layer_{layer}\"] = [padded_arr]"
   ]
  },
  {
   "cell_type": "code",
   "execution_count": 6,
   "id": "ad23eb70",
   "metadata": {},
   "outputs": [
    {
     "data": {
      "text/plain": [
       "(10000, 267264)"
      ]
     },
     "execution_count": 6,
     "metadata": {},
     "output_type": "execute_result"
    }
   ],
   "source": [
    "layer_hs_array = np.array(hidden_states_by_layer[\"layer_5\"])\n",
    "layer_hs_array.shape"
   ]
  },
  {
   "cell_type": "markdown",
   "id": "e44eecd8-9f29-457b-8f65-d8eae3b84eb8",
   "metadata": {},
   "source": [
    "## Layer 5 Clustering"
   ]
  },
  {
   "cell_type": "code",
   "execution_count": 7,
   "id": "49cf7b1b",
   "metadata": {},
   "outputs": [],
   "source": [
    "# Use original vectors for clustering - uncomment next line and comment out last two lines\n",
    "\n",
    "dim_reduced_vecs = layer_hs_array\n",
    "\n",
    "# random_projector = GaussianRandomProjection(random_state = 42)\n",
    "# dim_reduced_vecs = random_projector.fit_transform(layer_hs_array).astype('float32')"
   ]
  },
  {
   "cell_type": "code",
   "execution_count": 8,
   "id": "b9257701",
   "metadata": {},
   "outputs": [
    {
     "data": {
      "text/plain": [
       "(10000, 267264)"
      ]
     },
     "execution_count": 8,
     "metadata": {},
     "output_type": "execute_result"
    }
   ],
   "source": [
    "dim_reduced_vecs = np.array([v / np.linalg.norm(v) for v in dim_reduced_vecs])\n",
    "dim_reduced_vecs.shape"
   ]
  },
  {
   "cell_type": "code",
   "execution_count": 9,
   "id": "289102b9",
   "metadata": {
    "scrolled": true
   },
   "outputs": [
    {
     "name": "stdout",
     "output_type": "stream",
     "text": [
      "Clustering 10000 points in 267264D to 10 clusters, redo 10 times, 20 iterations\n",
      "  Preprocessing in 1.65 s\n",
      "Outer iteration 0 / 10\n",
      "  Iteration 19 (27.43 s, search 18.68 s): objective=5399.29 imbalance=1.664 nsplit=0       \n",
      "Objective improved: keep new clusters\n",
      "Outer iteration 1 / 10\n",
      "  Iteration 19 (54.80 s, search 37.41 s): objective=5374.6 imbalance=2.084 nsplit=0        \n",
      "Outer iteration 2 / 10\n",
      "  Iteration 19 (82.39 s, search 56.12 s): objective=5404.21 imbalance=1.386 nsplit=0       \n",
      "Objective improved: keep new clusters\n",
      "Outer iteration 3 / 10\n",
      "  Iteration 19 (109.79 s, search 74.78 s): objective=5392.6 imbalance=1.473 nsplit=0        \n",
      "Outer iteration 4 / 10\n",
      "  Iteration 19 (137.50 s, search 93.54 s): objective=5399.66 imbalance=1.208 nsplit=0       \n",
      "Outer iteration 5 / 10\n",
      "  Iteration 19 (164.84 s, search 112.25 s): objective=5388.75 imbalance=1.970 nsplit=0       \n",
      "Outer iteration 6 / 10\n",
      "  Iteration 19 (192.24 s, search 130.98 s): objective=5378.77 imbalance=1.700 nsplit=0       \n",
      "Outer iteration 7 / 10\n",
      "  Iteration 19 (219.53 s, search 149.69 s): objective=5397.69 imbalance=1.714 nsplit=0       \n",
      "Outer iteration 8 / 10\n",
      "  Iteration 19 (246.98 s, search 168.35 s): objective=5392.51 imbalance=1.405 nsplit=0       \n",
      "Outer iteration 9 / 10\n",
      "  Iteration 19 (274.60 s, search 187.10 s): objective=5416.08 imbalance=1.291 nsplit=0       \r"
     ]
    },
    {
     "data": {
      "text/plain": [
       "5416.0771484375"
      ]
     },
     "execution_count": 9,
     "metadata": {},
     "output_type": "execute_result"
    }
   ],
   "source": [
    "# K-means Clustering\n",
    "\n",
    "ncentroids = NUM_PROMPTS\n",
    "niter = 20\n",
    "verbose = True\n",
    "dim = dim_reduced_vecs.shape[1]\n",
    "kmeans = faiss.Kmeans(dim, ncentroids, niter = niter, verbose = verbose, gpu = True, nredo = 10, spherical = True, max_points_per_centroid = 1000)\n",
    "kmeans.train(dim_reduced_vecs)"
   ]
  },
  {
   "cell_type": "code",
   "execution_count": 10,
   "id": "19cf0f0a",
   "metadata": {},
   "outputs": [
    {
     "data": {
      "text/plain": [
       "array([[-1.78076401e-02,  2.24871077e-02,  9.42376908e-03, ...,\n",
       "         2.03777859e-06,  5.02010425e-06, -4.69501038e-06],\n",
       "       [-2.16561258e-02,  2.73468532e-02,  1.14603452e-02, ...,\n",
       "         0.00000000e+00,  0.00000000e+00,  0.00000000e+00],\n",
       "       [-1.80298742e-02,  2.27677412e-02,  9.54137836e-03, ...,\n",
       "        -1.94792356e-05,  1.09488265e-05, -1.06546153e-07],\n",
       "       ...,\n",
       "       [-1.93852279e-02,  2.44792942e-02,  1.02586402e-02, ...,\n",
       "         0.00000000e+00,  0.00000000e+00,  0.00000000e+00],\n",
       "       [-1.85471121e-02,  2.34209225e-02,  9.81509965e-03, ...,\n",
       "         1.79142967e-06,  4.27059831e-06,  7.51854441e-06],\n",
       "       [-2.10353602e-02,  2.65629925e-02,  1.11318575e-02, ...,\n",
       "         0.00000000e+00,  0.00000000e+00,  0.00000000e+00]], dtype=float32)"
      ]
     },
     "execution_count": 10,
     "metadata": {},
     "output_type": "execute_result"
    }
   ],
   "source": [
    "kmeans.centroids #cluster centers"
   ]
  },
  {
   "cell_type": "code",
   "execution_count": 11,
   "id": "61e726e9",
   "metadata": {},
   "outputs": [
    {
     "name": "stdout",
     "output_type": "stream",
     "text": [
      "1.0000219\n",
      "1.0000107\n",
      "1.0000224\n",
      "1.000012\n",
      "1.0000097\n",
      "1.0000207\n",
      "1.0000223\n",
      "1.0000184\n",
      "1.0000298\n",
      "1.0000105\n"
     ]
    }
   ],
   "source": [
    "for centroid in kmeans.centroids:\n",
    "    print(np.linalg.norm(centroid))"
   ]
  },
  {
   "cell_type": "code",
   "execution_count": 12,
   "id": "e5e1fa18",
   "metadata": {},
   "outputs": [
    {
     "data": {
      "text/plain": [
       "array([3429.27539062, 5219.87646484, 5332.78710938, 5366.20361328,\n",
       "       5379.78515625, 5390.65087891, 5394.82714844, 5396.09375   ,\n",
       "       5396.59765625, 5396.90087891, 5397.08251953, 5397.26416016,\n",
       "       5397.4765625 , 5397.82373047, 5398.48046875, 5399.08447266,\n",
       "       5399.25585938, 5399.26708984, 5399.28808594, 5399.29296875,\n",
       "       3567.99487305, 5203.7265625 , 5273.83398438, 5339.9296875 ,\n",
       "       5350.80664062, 5354.62548828, 5357.17285156, 5358.46289062,\n",
       "       5359.23632812, 5360.12744141, 5362.37890625, 5368.21337891,\n",
       "       5373.265625  , 5374.22119141, 5374.43798828, 5374.51318359,\n",
       "       5374.56396484, 5374.58544922, 5374.60888672, 5374.60302734,\n",
       "       3350.9074707 , 5218.41650391, 5325.09472656, 5358.69873047,\n",
       "       5371.93847656, 5381.55224609, 5386.67480469, 5389.39941406,\n",
       "       5391.35791016, 5392.84179688, 5394.26074219, 5395.74511719,\n",
       "       5398.01757812, 5400.640625  , 5401.56201172, 5402.95117188,\n",
       "       5404.04003906, 5404.12207031, 5404.16503906, 5404.20947266,\n",
       "       3499.18139648, 5209.80078125, 5318.61230469, 5349.77587891,\n",
       "       5365.47021484, 5379.50146484, 5386.21875   , 5388.56835938,\n",
       "       5389.86816406, 5390.63623047, 5391.06982422, 5391.37744141,\n",
       "       5391.57910156, 5391.7421875 , 5391.82910156, 5391.94482422,\n",
       "       5392.05810547, 5392.22167969, 5392.41259766, 5392.60302734,\n",
       "       3315.25244141, 5251.78857422, 5346.01806641, 5370.2421875 ,\n",
       "       5381.30175781, 5387.22412109, 5390.44433594, 5393.13183594,\n",
       "       5395.7890625 , 5396.88867188, 5397.50585938, 5397.99121094,\n",
       "       5398.33203125, 5398.58935547, 5398.80615234, 5398.95068359,\n",
       "       5399.06445312, 5399.15087891, 5399.31591797, 5399.65625   ,\n",
       "       3528.66650391, 5201.25634766, 5295.62207031, 5343.18017578,\n",
       "       5360.68261719, 5367.23925781, 5371.43164062, 5374.31982422,\n",
       "       5376.49707031, 5379.06005859, 5382.02832031, 5383.91796875,\n",
       "       5385.93945312, 5387.54638672, 5387.95556641, 5388.29785156,\n",
       "       5388.54003906, 5388.65966797, 5388.71875   , 5388.75390625,\n",
       "       3709.58691406, 5169.45947266, 5234.73144531, 5325.52783203,\n",
       "       5350.11132812, 5361.90283203, 5368.00878906, 5370.53515625,\n",
       "       5371.84277344, 5373.47363281, 5374.66845703, 5375.30664062,\n",
       "       5375.95410156, 5376.41796875, 5376.76953125, 5377.19287109,\n",
       "       5377.61083984, 5378.01953125, 5378.3828125 , 5378.765625  ,\n",
       "       3736.29858398, 5185.47802734, 5287.41210938, 5364.51074219,\n",
       "       5379.51855469, 5385.14599609, 5386.81738281, 5387.73583984,\n",
       "       5389.26220703, 5391.14257812, 5392.02099609, 5392.53076172,\n",
       "       5392.93701172, 5393.39404297, 5393.87646484, 5394.57617188,\n",
       "       5395.74365234, 5396.88623047, 5397.44824219, 5397.68798828,\n",
       "       3510.05957031, 5196.51757812, 5300.67138672, 5352.27636719,\n",
       "       5379.74951172, 5385.41992188, 5387.17578125, 5388.22851562,\n",
       "       5388.98486328, 5389.50048828, 5389.82421875, 5390.1171875 ,\n",
       "       5390.35400391, 5390.65185547, 5391.07714844, 5391.54003906,\n",
       "       5391.97265625, 5392.22314453, 5392.39892578, 5392.51171875,\n",
       "       3308.91577148, 5253.03564453, 5341.08300781, 5372.76171875,\n",
       "       5386.64404297, 5393.26318359, 5395.95800781, 5397.61523438,\n",
       "       5401.49951172, 5407.81884766, 5410.640625  , 5411.46337891,\n",
       "       5411.90576172, 5412.23681641, 5412.47851562, 5412.69775391,\n",
       "       5412.95800781, 5413.41943359, 5414.57080078, 5416.07714844])"
      ]
     },
     "execution_count": 12,
     "metadata": {},
     "output_type": "execute_result"
    }
   ],
   "source": [
    "kmeans.obj #inertia at each iteration"
   ]
  },
  {
   "cell_type": "code",
   "execution_count": 13,
   "id": "bd47ca24",
   "metadata": {},
   "outputs": [],
   "source": [
    "normalized_vecs = [v / np.linalg.norm(v) for v in dim_reduced_vecs]"
   ]
  },
  {
   "cell_type": "code",
   "execution_count": 14,
   "id": "ed2c340d",
   "metadata": {},
   "outputs": [],
   "source": [
    "cos_similarities = normalized_vecs @ kmeans.centroids.T\n",
    "classifications = np.argmax(cos_similarities, axis=1)"
   ]
  },
  {
   "cell_type": "code",
   "execution_count": 15,
   "id": "90aae79f",
   "metadata": {},
   "outputs": [
    {
     "data": {
      "text/plain": [
       "1    2102\n",
       "7    1677\n",
       "6    1455\n",
       "4    1067\n",
       "3    1036\n",
       "0     755\n",
       "2     545\n",
       "5     517\n",
       "8     430\n",
       "9     416\n",
       "dtype: int64"
      ]
     },
     "execution_count": 15,
     "metadata": {},
     "output_type": "execute_result"
    }
   ],
   "source": [
    "pd.Series(classifications).value_counts()"
   ]
  },
  {
   "cell_type": "code",
   "execution_count": 16,
   "id": "1e37d3db",
   "metadata": {},
   "outputs": [
    {
     "data": {
      "text/plain": [
       "1    2102\n",
       "7    1677\n",
       "6    1455\n",
       "4    1067\n",
       "3    1036\n",
       "0     755\n",
       "2     545\n",
       "5     517\n",
       "8     430\n",
       "9     416\n",
       "dtype: int64"
      ]
     },
     "execution_count": 16,
     "metadata": {},
     "output_type": "execute_result"
    }
   ],
   "source": [
    "pd.Series(kmeans.index.search(dim_reduced_vecs.astype(np.float32), 1)[1].flatten()).value_counts()"
   ]
  },
  {
   "cell_type": "code",
   "execution_count": 17,
   "id": "9e43e643-e215-449e-8d85-10f2625b7abb",
   "metadata": {
    "tags": []
   },
   "outputs": [
    {
     "data": {
      "text/plain": [
       "array([ 1,  1,  1, ..., 10, 10, 10])"
      ]
     },
     "execution_count": 17,
     "metadata": {},
     "output_type": "execute_result"
    }
   ],
   "source": [
    "prompt_ids = df[\"prompt_id\"]\n",
    "prompt_ids = prompt_ids.to_numpy()\n",
    "prompt_ids"
   ]
  },
  {
   "cell_type": "code",
   "execution_count": 18,
   "id": "381111fd-58d3-4ac3-b79f-fbdf87c51abc",
   "metadata": {
    "tags": []
   },
   "outputs": [
    {
     "data": {
      "text/plain": [
       "[1, 6, 3, 1, 4, 1, 1, 4, 1, 2]"
      ]
     },
     "execution_count": 18,
     "metadata": {},
     "output_type": "execute_result"
    }
   ],
   "source": [
    "# Get most common centroid for each 1000 points (same label)\n",
    "max_centroid_per_label = [pd.Series(classifications[i * 1000:(i + 1) * 1000]).value_counts().idxmax() for i in range(10)]\n",
    "max_centroid_per_label"
   ]
  },
  {
   "cell_type": "code",
   "execution_count": 19,
   "id": "46fc4339-65a6-42e9-a022-9a98acd18ea0",
   "metadata": {
    "tags": []
   },
   "outputs": [
    {
     "data": {
      "text/plain": [
       "[5, 4, 10, 3, 5, 9, 6, 6, 3, 10]"
      ]
     },
     "execution_count": 19,
     "metadata": {},
     "output_type": "execute_result"
    }
   ],
   "source": [
    "# Get most common label for each point classified to a centroid (same centroid)\n",
    "centroid_labels = [np.where(classifications == i)[0] for i in range(10)]\n",
    "max_label_per_centroid = [pd.Series(prompt_ids[centroid_labels[i]]).value_counts().idxmax() for i in range(10)]\n",
    "max_label_per_centroid"
   ]
  },
  {
   "cell_type": "code",
   "execution_count": 20,
   "id": "3a9d2c11-3223-41ab-9c39-418686e2db9f",
   "metadata": {
    "tags": []
   },
   "outputs": [],
   "source": [
    "max_centroids = [centroid for centroid in max_centroid_per_label for _ in range(1000)]\n",
    "\n",
    "max_labels = [label for label in max_label_per_centroid for _ in range(1000)]"
   ]
  },
  {
   "cell_type": "code",
   "execution_count": 21,
   "id": "2d630b05-f24e-4bbe-836e-de6d1bed32c4",
   "metadata": {
    "tags": []
   },
   "outputs": [
    {
     "data": {
      "text/plain": [
       "array([1, 1, 1, ..., 2, 2, 2])"
      ]
     },
     "execution_count": 21,
     "metadata": {},
     "output_type": "execute_result"
    }
   ],
   "source": [
    "np.array(max_centroids)"
   ]
  },
  {
   "cell_type": "code",
   "execution_count": 22,
   "id": "ce4636b0-a081-417c-8de5-70edc6131603",
   "metadata": {
    "tags": []
   },
   "outputs": [
    {
     "data": {
      "text/plain": [
       "array([ 5,  5,  5, ..., 10, 10, 10])"
      ]
     },
     "execution_count": 22,
     "metadata": {},
     "output_type": "execute_result"
    }
   ],
   "source": [
    "np.array(max_labels)"
   ]
  },
  {
   "cell_type": "code",
   "execution_count": 23,
   "id": "3c2cf8f3-f5ef-4c40-882f-c3b32f5338d0",
   "metadata": {
    "tags": []
   },
   "outputs": [],
   "source": [
    "label_to_centroid = {idx + 1 : max_centroid_per_label[idx] for idx in range(len(max_centroid_per_label))}\n",
    "\n",
    "centroid_to_label = {idx : max_label_per_centroid[idx] for idx in range(len(max_label_per_centroid))}"
   ]
  },
  {
   "cell_type": "code",
   "execution_count": 24,
   "id": "a7878fbe-e490-4a8f-8f9b-1b77dda94994",
   "metadata": {
    "tags": []
   },
   "outputs": [
    {
     "data": {
      "text/plain": [
       "{1: 1, 2: 6, 3: 3, 4: 1, 5: 4, 6: 1, 7: 1, 8: 4, 9: 1, 10: 2}"
      ]
     },
     "execution_count": 24,
     "metadata": {},
     "output_type": "execute_result"
    }
   ],
   "source": [
    "label_to_centroid"
   ]
  },
  {
   "cell_type": "code",
   "execution_count": 25,
   "id": "9776b43e-3174-4758-9407-b8bfc7077f4f",
   "metadata": {
    "tags": []
   },
   "outputs": [
    {
     "data": {
      "text/plain": [
       "{0: 5, 1: 4, 2: 10, 3: 3, 4: 5, 5: 9, 6: 6, 7: 6, 8: 3, 9: 10}"
      ]
     },
     "execution_count": 25,
     "metadata": {},
     "output_type": "execute_result"
    }
   ],
   "source": [
    "centroid_to_label"
   ]
  },
  {
   "cell_type": "code",
   "execution_count": 26,
   "id": "5c558730-15c1-48d5-af85-bbaf607c7fd1",
   "metadata": {
    "tags": []
   },
   "outputs": [
    {
     "data": {
      "text/plain": [
       "array([ 6,  9,  6, ..., 10, 10, 10])"
      ]
     },
     "execution_count": 26,
     "metadata": {},
     "output_type": "execute_result"
    }
   ],
   "source": [
    "vectorized_map = np.vectorize(centroid_to_label.get)\n",
    "classifications_to_label = vectorized_map(classifications)\n",
    "\n",
    "classifications_to_label"
   ]
  },
  {
   "cell_type": "code",
   "execution_count": 27,
   "id": "7c36b385-13bc-4dcb-b6a2-0f9a8ebbad3e",
   "metadata": {
    "tags": []
   },
   "outputs": [
    {
     "name": "stdout",
     "output_type": "stream",
     "text": [
      "Prompt 1 Accuracy:  0.0\n",
      "Prompt 2 Accuracy:  0.0\n",
      "Prompt 3 Accuracy:  0.965\n",
      "Prompt 4 Accuracy:  0.403\n",
      "Prompt 5 Accuracy:  0.764\n",
      "Prompt 6 Accuracy:  0.511\n",
      "Prompt 7 Accuracy:  0.0\n",
      "Prompt 8 Accuracy:  0.0\n",
      "Prompt 9 Accuracy:  0.182\n",
      "Prompt 10 Accuracy:  0.955\n"
     ]
    }
   ],
   "source": [
    "for i in range(10):\n",
    "    print(f\"Prompt {i + 1} Accuracy: \", np.mean(classifications_to_label[i * 1000:(i + 1) * 1000] == (i + 1)))"
   ]
  },
  {
   "cell_type": "code",
   "execution_count": 28,
   "id": "28aaa609-f11c-439a-89cb-0a4de95048d5",
   "metadata": {
    "tags": []
   },
   "outputs": [
    {
     "name": "stdout",
     "output_type": "stream",
     "text": [
      "Overall Accuracy:  0.378\n"
     ]
    }
   ],
   "source": [
    "print(f\"Overall Accuracy: \", np.mean(classifications_to_label == prompt_ids))"
   ]
  },
  {
   "cell_type": "code",
   "execution_count": 29,
   "id": "def79994-1a4d-4e84-bc9f-20fb4bbd02ad",
   "metadata": {
    "tags": []
   },
   "outputs": [
    {
     "name": "stdout",
     "output_type": "stream",
     "text": [
      "Prompt 1 Accuracy:  0.211\n",
      "Prompt 2 Accuracy:  0.249\n",
      "Prompt 3 Accuracy:  0.546\n",
      "Prompt 4 Accuracy:  0.403\n",
      "Prompt 5 Accuracy:  0.424\n",
      "Prompt 6 Accuracy:  0.402\n",
      "Prompt 7 Accuracy:  0.402\n",
      "Prompt 8 Accuracy:  0.212\n",
      "Prompt 9 Accuracy:  0.31\n",
      "Prompt 10 Accuracy:  0.545\n"
     ]
    }
   ],
   "source": [
    "for i in range(10):\n",
    "    print(f\"Prompt {i + 1} Accuracy: \", np.mean(classifications[i * 1000:(i + 1) * 1000] == max_centroids[i * 1000:(i + 1)*1000]))"
   ]
  },
  {
   "cell_type": "code",
   "execution_count": 30,
   "id": "373d779c-a690-4e0d-8360-59c93b9feb63",
   "metadata": {
    "tags": []
   },
   "outputs": [
    {
     "name": "stdout",
     "output_type": "stream",
     "text": [
      "Overall Accuracy:  0.3704\n"
     ]
    }
   ],
   "source": [
    "print(f\"Overall Accuracy: \", np.mean(classifications == max_centroids))"
   ]
  },
  {
   "cell_type": "markdown",
   "id": "00f55bc3-bfc9-4b3d-bf85-3307981bb685",
   "metadata": {},
   "source": [
    "## Measure Conversion Accuracy"
   ]
  },
  {
   "cell_type": "code",
   "execution_count": 31,
   "id": "52cdbcf1-a72b-4704-89ab-a743878426dc",
   "metadata": {
    "tags": []
   },
   "outputs": [],
   "source": [
    "label_to_centroid_vectorized_map = np.vectorize(label_to_centroid.get)\n",
    "centroid_to_label_vectorized_map = np.vectorize(centroid_to_label.get)\n",
    "prompt_ids_to_centroids = label_to_centroid_vectorized_map(prompt_ids)\n",
    "max_centroids_to_labels = centroid_to_label_vectorized_map(max_centroids)"
   ]
  },
  {
   "cell_type": "code",
   "execution_count": 32,
   "id": "6a4ea1ae-a69a-40fd-aedd-c81dee7ca2d0",
   "metadata": {
    "tags": []
   },
   "outputs": [
    {
     "data": {
      "text/plain": [
       "1.0"
      ]
     },
     "execution_count": 32,
     "metadata": {},
     "output_type": "execute_result"
    }
   ],
   "source": [
    "np.mean(max_centroids == prompt_ids_to_centroids) #100% - max_centroids is the prompt ids converted to the max centroid corresponding to each label"
   ]
  },
  {
   "cell_type": "code",
   "execution_count": 33,
   "id": "af379b52-56c8-4a2a-bf49-fc3d697468fa",
   "metadata": {
    "tags": []
   },
   "outputs": [
    {
     "data": {
      "text/plain": [
       "0.4"
      ]
     },
     "execution_count": 33,
     "metadata": {},
     "output_type": "execute_result"
    }
   ],
   "source": [
    "np.mean(max_centroids_to_labels == prompt_ids) #<100%"
   ]
  }
 ],
 "metadata": {
  "kernelspec": {
   "display_name": "Python 3 (ipykernel)",
   "language": "python",
   "name": "python3"
  },
  "language_info": {
   "codemirror_mode": {
    "name": "ipython",
    "version": 3
   },
   "file_extension": ".py",
   "mimetype": "text/x-python",
   "name": "python",
   "nbconvert_exporter": "python",
   "pygments_lexer": "ipython3",
   "version": "3.7.11"
  }
 },
 "nbformat": 4,
 "nbformat_minor": 5
}
