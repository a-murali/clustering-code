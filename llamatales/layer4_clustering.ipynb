{
 "cells": [
  {
   "cell_type": "markdown",
   "id": "64c867a4-b1c3-426b-b086-de071a726ebf",
   "metadata": {},
   "source": [
    "## Install Packages"
   ]
  },
  {
   "cell_type": "code",
   "execution_count": 1,
   "id": "80849741",
   "metadata": {},
   "outputs": [
    {
     "name": "stdout",
     "output_type": "stream",
     "text": [
      "Collecting package metadata (current_repodata.json): | WARNING conda.models.version:get_matcher(538): Using .* with relational operator is superfluous and deprecated and will be removed in a future version of conda. Your spec was 1.7.1.*, but conda is ignoring the .* and treating it as 1.7.1\n",
      "done\n",
      "Solving environment: done\n",
      "\n",
      "## Package Plan ##\n",
      "\n",
      "  environment location: /opt/conda\n",
      "\n",
      "  added / updated specs:\n",
      "    - faiss-gpu\n",
      "\n",
      "\n",
      "The following packages will be downloaded:\n",
      "\n",
      "    package                    |            build\n",
      "    ---------------------------|-----------------\n",
      "    conda-4.14.0               |   py37h89c1867_0        1010 KB  conda-forge\n",
      "    toolz-0.12.1               |     pyhd8ed1ab_0          51 KB  conda-forge\n",
      "    ------------------------------------------------------------\n",
      "                                           Total:         1.0 MB\n",
      "\n",
      "The following NEW packages will be INSTALLED:\n",
      "\n",
      "  toolz              conda-forge/noarch::toolz-0.12.1-pyhd8ed1ab_0\n",
      "\n",
      "The following packages will be UPDATED:\n",
      "\n",
      "  conda                               4.12.0-py37h89c1867_0 --> 4.14.0-py37h89c1867_0\n",
      "\n",
      "\n",
      "\n",
      "Downloading and Extracting Packages\n",
      "toolz-0.12.1         | 51 KB     | ##################################### | 100% \n",
      "conda-4.14.0         | 1010 KB   | ##################################### | 100% \n",
      "Preparing transaction: done\n",
      "Verifying transaction: done\n",
      "Executing transaction: done\n",
      "Hit:1 http://security.ubuntu.com/ubuntu bionic-security InRelease\n",
      "Hit:2 http://archive.ubuntu.com/ubuntu bionic InRelease                        \n",
      "Hit:3 http://archive.ubuntu.com/ubuntu bionic-updates InRelease                \n",
      "Hit:4 http://archive.ubuntu.com/ubuntu bionic-backports InRelease\n",
      "Reading package lists... Done                     \n",
      "Reading package lists... Done\n",
      "Building dependency tree       \n",
      "Reading state information... Done\n",
      "libatlas-base-dev is already the newest version (3.10.3-5).\n",
      "0 upgraded, 0 newly installed, 0 to remove and 83 not upgraded.\n"
     ]
    }
   ],
   "source": [
    "!conda install -y -c conda-forge faiss-gpu\n",
    "!apt-get -y update\n",
    "!apt-get -y install libatlas-base-dev"
   ]
  },
  {
   "cell_type": "markdown",
   "id": "ea6af1a5-1aef-4743-bfa6-7392ed97dbe7",
   "metadata": {},
   "source": [
    "## Load Data"
   ]
  },
  {
   "cell_type": "code",
   "execution_count": 2,
   "id": "e26dddbf",
   "metadata": {},
   "outputs": [],
   "source": [
    "import pandas as pd\n",
    "import numpy as np\n",
    "import matplotlib.pyplot as plt\n",
    "\n",
    "from sklearn.random_projection import GaussianRandomProjection\n",
    "\n",
    "from tqdm import tqdm\n",
    "\n",
    "import faiss"
   ]
  },
  {
   "cell_type": "code",
   "execution_count": 3,
   "id": "89c2cffa",
   "metadata": {},
   "outputs": [
    {
     "data": {
      "text/html": [
       "<div>\n",
       "<style scoped>\n",
       "    .dataframe tbody tr th:only-of-type {\n",
       "        vertical-align: middle;\n",
       "    }\n",
       "\n",
       "    .dataframe tbody tr th {\n",
       "        vertical-align: top;\n",
       "    }\n",
       "\n",
       "    .dataframe thead th {\n",
       "        text-align: right;\n",
       "    }\n",
       "</style>\n",
       "<table border=\"1\" class=\"dataframe\">\n",
       "  <thead>\n",
       "    <tr style=\"text-align: right;\">\n",
       "      <th></th>\n",
       "      <th>prompt_id</th>\n",
       "      <th>prompt</th>\n",
       "      <th>story</th>\n",
       "      <th>hidden_state_file</th>\n",
       "      <th>len_generated_story</th>\n",
       "      <th>len_new_story</th>\n",
       "    </tr>\n",
       "  </thead>\n",
       "  <tbody>\n",
       "    <tr>\n",
       "      <th>0</th>\n",
       "      <td>1</td>\n",
       "      <td>Once upon a time there was a dragon</td>\n",
       "      <td>Once upon a time there was a dragon named Blaz...</td>\n",
       "      <td>./hidden_states/prompt_1.npz</td>\n",
       "      <td>270</td>\n",
       "      <td>271</td>\n",
       "    </tr>\n",
       "    <tr>\n",
       "      <th>1</th>\n",
       "      <td>1</td>\n",
       "      <td>Once upon a time there was a dragon</td>\n",
       "      <td>Once upon a time there was a dragon named Spar...</td>\n",
       "      <td>./hidden_states/prompt_1.npz</td>\n",
       "      <td>349</td>\n",
       "      <td>350</td>\n",
       "    </tr>\n",
       "    <tr>\n",
       "      <th>2</th>\n",
       "      <td>1</td>\n",
       "      <td>Once upon a time there was a dragon</td>\n",
       "      <td>Once upon a time there was a dragon named Scor...</td>\n",
       "      <td>./hidden_states/prompt_1.npz</td>\n",
       "      <td>278</td>\n",
       "      <td>278</td>\n",
       "    </tr>\n",
       "    <tr>\n",
       "      <th>3</th>\n",
       "      <td>1</td>\n",
       "      <td>Once upon a time there was a dragon</td>\n",
       "      <td>Once upon a time there was a dragon. The drago...</td>\n",
       "      <td>./hidden_states/prompt_1.npz</td>\n",
       "      <td>117</td>\n",
       "      <td>118</td>\n",
       "    </tr>\n",
       "    <tr>\n",
       "      <th>4</th>\n",
       "      <td>1</td>\n",
       "      <td>Once upon a time there was a dragon</td>\n",
       "      <td>Once upon a time there was a dragon. The drago...</td>\n",
       "      <td>./hidden_states/prompt_1.npz</td>\n",
       "      <td>129</td>\n",
       "      <td>130</td>\n",
       "    </tr>\n",
       "    <tr>\n",
       "      <th>...</th>\n",
       "      <td>...</td>\n",
       "      <td>...</td>\n",
       "      <td>...</td>\n",
       "      <td>...</td>\n",
       "      <td>...</td>\n",
       "      <td>...</td>\n",
       "    </tr>\n",
       "    <tr>\n",
       "      <th>9995</th>\n",
       "      <td>10</td>\n",
       "      <td>Once upon a time there was a poor boy</td>\n",
       "      <td>Once upon a time there was a poor boy named Ti...</td>\n",
       "      <td>./hidden_states/prompt_10.npz</td>\n",
       "      <td>289</td>\n",
       "      <td>290</td>\n",
       "    </tr>\n",
       "    <tr>\n",
       "      <th>9996</th>\n",
       "      <td>10</td>\n",
       "      <td>Once upon a time there was a poor boy</td>\n",
       "      <td>Once upon a time there was a poor boy named Ti...</td>\n",
       "      <td>./hidden_states/prompt_10.npz</td>\n",
       "      <td>119</td>\n",
       "      <td>119</td>\n",
       "    </tr>\n",
       "    <tr>\n",
       "      <th>9997</th>\n",
       "      <td>10</td>\n",
       "      <td>Once upon a time there was a poor boy</td>\n",
       "      <td>Once upon a time there was a poor boy named Ti...</td>\n",
       "      <td>./hidden_states/prompt_10.npz</td>\n",
       "      <td>127</td>\n",
       "      <td>128</td>\n",
       "    </tr>\n",
       "    <tr>\n",
       "      <th>9998</th>\n",
       "      <td>10</td>\n",
       "      <td>Once upon a time there was a poor boy</td>\n",
       "      <td>Once upon a time there was a poor boy named Ti...</td>\n",
       "      <td>./hidden_states/prompt_10.npz</td>\n",
       "      <td>441</td>\n",
       "      <td>441</td>\n",
       "    </tr>\n",
       "    <tr>\n",
       "      <th>9999</th>\n",
       "      <td>10</td>\n",
       "      <td>Once upon a time there was a poor boy</td>\n",
       "      <td>Once upon a time there was a poor boy named Ti...</td>\n",
       "      <td>./hidden_states/prompt_10.npz</td>\n",
       "      <td>520</td>\n",
       "      <td>521</td>\n",
       "    </tr>\n",
       "  </tbody>\n",
       "</table>\n",
       "<p>10000 rows × 6 columns</p>\n",
       "</div>"
      ],
      "text/plain": [
       "      prompt_id                                 prompt  \\\n",
       "0             1    Once upon a time there was a dragon   \n",
       "1             1    Once upon a time there was a dragon   \n",
       "2             1    Once upon a time there was a dragon   \n",
       "3             1    Once upon a time there was a dragon   \n",
       "4             1    Once upon a time there was a dragon   \n",
       "...         ...                                    ...   \n",
       "9995         10  Once upon a time there was a poor boy   \n",
       "9996         10  Once upon a time there was a poor boy   \n",
       "9997         10  Once upon a time there was a poor boy   \n",
       "9998         10  Once upon a time there was a poor boy   \n",
       "9999         10  Once upon a time there was a poor boy   \n",
       "\n",
       "                                                  story  \\\n",
       "0     Once upon a time there was a dragon named Blaz...   \n",
       "1     Once upon a time there was a dragon named Spar...   \n",
       "2     Once upon a time there was a dragon named Scor...   \n",
       "3     Once upon a time there was a dragon. The drago...   \n",
       "4     Once upon a time there was a dragon. The drago...   \n",
       "...                                                 ...   \n",
       "9995  Once upon a time there was a poor boy named Ti...   \n",
       "9996  Once upon a time there was a poor boy named Ti...   \n",
       "9997  Once upon a time there was a poor boy named Ti...   \n",
       "9998  Once upon a time there was a poor boy named Ti...   \n",
       "9999  Once upon a time there was a poor boy named Ti...   \n",
       "\n",
       "                  hidden_state_file  len_generated_story  len_new_story  \n",
       "0      ./hidden_states/prompt_1.npz                  270            271  \n",
       "1      ./hidden_states/prompt_1.npz                  349            350  \n",
       "2      ./hidden_states/prompt_1.npz                  278            278  \n",
       "3      ./hidden_states/prompt_1.npz                  117            118  \n",
       "4      ./hidden_states/prompt_1.npz                  129            130  \n",
       "...                             ...                  ...            ...  \n",
       "9995  ./hidden_states/prompt_10.npz                  289            290  \n",
       "9996  ./hidden_states/prompt_10.npz                  119            119  \n",
       "9997  ./hidden_states/prompt_10.npz                  127            128  \n",
       "9998  ./hidden_states/prompt_10.npz                  441            441  \n",
       "9999  ./hidden_states/prompt_10.npz                  520            521  \n",
       "\n",
       "[10000 rows x 6 columns]"
      ]
     },
     "execution_count": 3,
     "metadata": {},
     "output_type": "execute_result"
    }
   ],
   "source": [
    "df = pd.read_csv(\"story_dataset.csv\")\n",
    "df"
   ]
  },
  {
   "cell_type": "code",
   "execution_count": 4,
   "id": "c081cc09",
   "metadata": {},
   "outputs": [
    {
     "data": {
      "text/plain": [
       "522"
      ]
     },
     "execution_count": 4,
     "metadata": {},
     "output_type": "execute_result"
    }
   ],
   "source": [
    "max_story_len = max(df[\"len_generated_story\"])\n",
    "max_story_len"
   ]
  },
  {
   "cell_type": "code",
   "execution_count": 5,
   "id": "212c067a",
   "metadata": {
    "scrolled": true
   },
   "outputs": [
    {
     "name": "stderr",
     "output_type": "stream",
     "text": [
      "100%|████████████████████████████████████████████████████████████████████████████████████████████████████████████████████████████████████████████████| 1000/1000 [05:29<00:00,  3.04it/s]\n",
      "100%|████████████████████████████████████████████████████████████████████████████████████████████████████████████████████████████████████████████████| 1000/1000 [05:21<00:00,  3.11it/s]\n",
      "100%|████████████████████████████████████████████████████████████████████████████████████████████████████████████████████████████████████████████████| 1000/1000 [04:11<00:00,  3.97it/s]\n",
      "100%|████████████████████████████████████████████████████████████████████████████████████████████████████████████████████████████████████████████████| 1000/1000 [04:58<00:00,  3.35it/s]\n",
      "100%|████████████████████████████████████████████████████████████████████████████████████████████████████████████████████████████████████████████████| 1000/1000 [04:53<00:00,  3.41it/s]\n",
      "100%|████████████████████████████████████████████████████████████████████████████████████████████████████████████████████████████████████████████████| 1000/1000 [04:48<00:00,  3.47it/s]\n",
      "100%|████████████████████████████████████████████████████████████████████████████████████████████████████████████████████████████████████████████████| 1000/1000 [04:41<00:00,  3.56it/s]\n",
      "100%|████████████████████████████████████████████████████████████████████████████████████████████████████████████████████████████████████████████████| 1000/1000 [04:47<00:00,  3.48it/s]\n",
      "100%|████████████████████████████████████████████████████████████████████████████████████████████████████████████████████████████████████████████████| 1000/1000 [03:25<00:00,  4.86it/s]\n",
      "100%|████████████████████████████████████████████████████████████████████████████████████████████████████████████████████████████████████████████████| 1000/1000 [00:23<00:00, 42.83it/s]\n"
     ]
    }
   ],
   "source": [
    "hidden_states_by_layer = {}\n",
    "NUM_PROMPTS = 10\n",
    "\n",
    "for prompt_id in range(1, NUM_PROMPTS + 1):\n",
    "    with np.load(f'./hidden_states/prompt_{prompt_id}.npz') as loaded_data:\n",
    "        for i in tqdm(range(1000)):\n",
    "            curr_hidden_states = loaded_data[f\"arr_{i}\"][0]\n",
    "#             print(curr_hidden_states.shape)\n",
    "            for layer in range(4, 5):\n",
    "                padded_arr = np.zeros((max_story_len, 512))\n",
    "                padded_arr_len = len(curr_hidden_states[layer][0])\n",
    "                \n",
    "                padded_arr[:padded_arr_len] = curr_hidden_states[layer][0]\n",
    "                \n",
    "                padded_arr = padded_arr.flatten().astype('float32') #FAISS expects data in type float32 instead of float64 - saves memory too!\n",
    "#                 print(padded_arr.shape)\n",
    "                \n",
    "                if(f\"layer_{layer}\" in hidden_states_by_layer):\n",
    "                    hidden_states_by_layer[f\"layer_{layer}\"].append(padded_arr)\n",
    "                else:\n",
    "                    hidden_states_by_layer[f\"layer_{layer}\"] = [padded_arr]"
   ]
  },
  {
   "cell_type": "code",
   "execution_count": 6,
   "id": "ad23eb70",
   "metadata": {},
   "outputs": [
    {
     "data": {
      "text/plain": [
       "(10000, 267264)"
      ]
     },
     "execution_count": 6,
     "metadata": {},
     "output_type": "execute_result"
    }
   ],
   "source": [
    "layer_hs_array = np.array(hidden_states_by_layer[\"layer_4\"])\n",
    "layer_hs_array.shape"
   ]
  },
  {
   "cell_type": "markdown",
   "id": "e44eecd8-9f29-457b-8f65-d8eae3b84eb8",
   "metadata": {},
   "source": [
    "## Layer 4 Clustering"
   ]
  },
  {
   "cell_type": "code",
   "execution_count": 7,
   "id": "49cf7b1b",
   "metadata": {},
   "outputs": [],
   "source": [
    "# Use original vectors for clustering - uncomment next line and comment out last two lines\n",
    "\n",
    "# dim_reduced_vecs = layer_hs_array\n",
    "\n",
    "random_projector = GaussianRandomProjection(random_state = 42)\n",
    "dim_reduced_vecs = random_projector.fit_transform(layer_hs_array).astype('float32')"
   ]
  },
  {
   "cell_type": "code",
   "execution_count": 8,
   "id": "b9257701",
   "metadata": {},
   "outputs": [
    {
     "data": {
      "text/plain": [
       "(10000, 7894)"
      ]
     },
     "execution_count": 8,
     "metadata": {},
     "output_type": "execute_result"
    }
   ],
   "source": [
    "dim_reduced_vecs = np.array([v / np.linalg.norm(v) for v in dim_reduced_vecs])\n",
    "dim_reduced_vecs.shape"
   ]
  },
  {
   "cell_type": "code",
   "execution_count": 9,
   "id": "289102b9",
   "metadata": {
    "scrolled": true
   },
   "outputs": [
    {
     "name": "stdout",
     "output_type": "stream",
     "text": [
      "Clustering 10000 points in 7894D to 10 clusters, redo 10 times, 20 iterations\n",
      "  Preprocessing in 0.04 s\n",
      "Outer iteration 0 / 10\n",
      "  Iteration 19 (0.77 s, search 0.54 s): objective=4866.65 imbalance=1.316 nsplit=0       \n",
      "Objective improved: keep new clusters\n",
      "Outer iteration 1 / 10\n",
      "  Iteration 19 (1.53 s, search 1.07 s): objective=4876.48 imbalance=1.133 nsplit=0       \n",
      "Objective improved: keep new clusters\n",
      "Outer iteration 2 / 10\n",
      "  Iteration 19 (2.30 s, search 1.61 s): objective=4878.12 imbalance=1.140 nsplit=0       \n",
      "Objective improved: keep new clusters\n",
      "Outer iteration 3 / 10\n",
      "  Iteration 19 (3.07 s, search 2.15 s): objective=4861.69 imbalance=1.060 nsplit=0       \n",
      "Outer iteration 4 / 10\n",
      "  Iteration 19 (3.84 s, search 2.69 s): objective=4860.95 imbalance=1.096 nsplit=0       \n",
      "Outer iteration 5 / 10\n",
      "  Iteration 19 (4.61 s, search 3.23 s): objective=4870.01 imbalance=1.141 nsplit=0       \n",
      "Outer iteration 6 / 10\n",
      "  Iteration 19 (5.37 s, search 3.77 s): objective=4850.31 imbalance=1.546 nsplit=0       \n",
      "Outer iteration 7 / 10\n",
      "  Iteration 19 (6.14 s, search 4.31 s): objective=4863.04 imbalance=1.199 nsplit=0       \n",
      "Outer iteration 8 / 10\n",
      "  Iteration 19 (6.91 s, search 4.84 s): objective=4862.35 imbalance=1.123 nsplit=0       \n",
      "Outer iteration 9 / 10\n",
      "  Iteration 19 (7.67 s, search 5.38 s): objective=4867.24 imbalance=1.151 nsplit=0       \r"
     ]
    },
    {
     "data": {
      "text/plain": [
       "4878.115234375"
      ]
     },
     "execution_count": 9,
     "metadata": {},
     "output_type": "execute_result"
    }
   ],
   "source": [
    "# K-means Clustering\n",
    "\n",
    "ncentroids = NUM_PROMPTS\n",
    "niter = 20\n",
    "verbose = True\n",
    "dim = dim_reduced_vecs.shape[1]\n",
    "kmeans = faiss.Kmeans(dim, ncentroids, niter = niter, verbose = verbose, gpu = True, nredo = 10, spherical = True, max_points_per_centroid = 1000)\n",
    "kmeans.train(dim_reduced_vecs)"
   ]
  },
  {
   "cell_type": "code",
   "execution_count": 10,
   "id": "19cf0f0a",
   "metadata": {},
   "outputs": [
    {
     "data": {
      "text/plain": [
       "array([[ 0.01702208, -0.01215687,  0.01227838, ..., -0.01178698,\n",
       "         0.00448606,  0.00421717],\n",
       "       [ 0.01664986, -0.00477508,  0.01191848, ..., -0.01003913,\n",
       "         0.00400551,  0.0020383 ],\n",
       "       [ 0.01001574, -0.00994997,  0.01187276, ..., -0.00653664,\n",
       "         0.00602305,  0.01195088],\n",
       "       ...,\n",
       "       [ 0.01090497, -0.009727  ,  0.01221477, ..., -0.01464461,\n",
       "         0.00740312, -0.0004668 ],\n",
       "       [ 0.0158527 , -0.00545237,  0.0142204 , ..., -0.00379057,\n",
       "         0.00624877,  0.0129192 ],\n",
       "       [ 0.01427492, -0.00400123,  0.01382805, ..., -0.00471401,\n",
       "         0.00441769,  0.00662025]], dtype=float32)"
      ]
     },
     "execution_count": 10,
     "metadata": {},
     "output_type": "execute_result"
    }
   ],
   "source": [
    "kmeans.centroids #cluster centers"
   ]
  },
  {
   "cell_type": "code",
   "execution_count": 11,
   "id": "61e726e9",
   "metadata": {},
   "outputs": [
    {
     "name": "stdout",
     "output_type": "stream",
     "text": [
      "1.0000001\n",
      "0.9999998\n",
      "1.0\n",
      "1.0000001\n",
      "1.0000001\n",
      "1.0000004\n",
      "1.0000005\n",
      "1.0000001\n",
      "0.9999998\n",
      "0.9999998\n"
     ]
    }
   ],
   "source": [
    "for centroid in kmeans.centroids:\n",
    "    print(np.linalg.norm(centroid))"
   ]
  },
  {
   "cell_type": "code",
   "execution_count": 12,
   "id": "e5e1fa18",
   "metadata": {},
   "outputs": [
    {
     "data": {
      "text/plain": [
       "array([2906.19750977, 4693.49658203, 4774.64208984, 4809.57470703,\n",
       "       4822.40576172, 4828.45019531, 4832.28466797, 4834.97949219,\n",
       "       4836.82910156, 4838.59375   , 4841.92333984, 4845.87597656,\n",
       "       4849.95898438, 4855.76464844, 4862.03564453, 4864.10888672,\n",
       "       4865.06152344, 4865.70068359, 4866.22802734, 4866.64746094,\n",
       "       3063.81420898, 4671.39453125, 4762.78564453, 4822.44921875,\n",
       "       4841.07226562, 4848.03417969, 4851.97949219, 4855.19042969,\n",
       "       4857.89892578, 4860.75244141, 4863.51074219, 4865.75976562,\n",
       "       4868.62988281, 4871.20410156, 4873.828125  , 4874.99755859,\n",
       "       4875.44091797, 4875.77539062, 4876.078125  , 4876.484375  ,\n",
       "       2860.95166016, 4692.15429688, 4788.91015625, 4818.21386719,\n",
       "       4835.78369141, 4850.89306641, 4860.00976562, 4866.22998047,\n",
       "       4869.26660156, 4871.32128906, 4872.52978516, 4873.05810547,\n",
       "       4873.48876953, 4873.90771484, 4874.47607422, 4875.31347656,\n",
       "       4876.35107422, 4877.46679688, 4878.04296875, 4878.11523438])"
      ]
     },
     "execution_count": 12,
     "metadata": {},
     "output_type": "execute_result"
    }
   ],
   "source": [
    "kmeans.obj #inertia at each iteration"
   ]
  },
  {
   "cell_type": "code",
   "execution_count": 13,
   "id": "1e37d3db",
   "metadata": {},
   "outputs": [
    {
     "data": {
      "text/plain": [
       "4    1666\n",
       "2    1296\n",
       "8    1251\n",
       "0    1217\n",
       "3    1127\n",
       "5     980\n",
       "7     942\n",
       "1     573\n",
       "6     528\n",
       "9     420\n",
       "dtype: int64"
      ]
     },
     "execution_count": 13,
     "metadata": {},
     "output_type": "execute_result"
    }
   ],
   "source": [
    "pd.Series(kmeans.index.search(dim_reduced_vecs.astype(np.float32), 1)[1].flatten()).value_counts()"
   ]
  },
  {
   "cell_type": "code",
   "execution_count": 14,
   "id": "bd47ca24",
   "metadata": {},
   "outputs": [],
   "source": [
    "normalized_vecs = [v / np.linalg.norm(v) for v in dim_reduced_vecs]"
   ]
  },
  {
   "cell_type": "code",
   "execution_count": 15,
   "id": "ed2c340d",
   "metadata": {},
   "outputs": [],
   "source": [
    "cos_similarities = normalized_vecs @ kmeans.centroids.T\n",
    "classifications = np.argmax(cos_similarities, axis=1)"
   ]
  },
  {
   "cell_type": "code",
   "execution_count": 16,
   "id": "90aae79f",
   "metadata": {},
   "outputs": [
    {
     "data": {
      "text/plain": [
       "4    1666\n",
       "2    1296\n",
       "8    1251\n",
       "0    1217\n",
       "3    1127\n",
       "5     980\n",
       "7     942\n",
       "1     573\n",
       "6     528\n",
       "9     420\n",
       "dtype: int64"
      ]
     },
     "execution_count": 16,
     "metadata": {},
     "output_type": "execute_result"
    }
   ],
   "source": [
    "pd.Series(classifications).value_counts()"
   ]
  },
  {
   "cell_type": "code",
   "execution_count": null,
   "id": "1758e82c",
   "metadata": {},
   "outputs": [],
   "source": []
  }
 ],
 "metadata": {
  "kernelspec": {
   "display_name": "Python 3 (ipykernel)",
   "language": "python",
   "name": "python3"
  },
  "language_info": {
   "codemirror_mode": {
    "name": "ipython",
    "version": 3
   },
   "file_extension": ".py",
   "mimetype": "text/x-python",
   "name": "python",
   "nbconvert_exporter": "python",
   "pygments_lexer": "ipython3",
   "version": "3.7.11"
  }
 },
 "nbformat": 4,
 "nbformat_minor": 5
}
