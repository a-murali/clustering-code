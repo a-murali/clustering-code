{
 "cells": [
  {
   "cell_type": "markdown",
   "id": "64c867a4-b1c3-426b-b086-de071a726ebf",
   "metadata": {},
   "source": [
    "## Install Packages"
   ]
  },
  {
   "cell_type": "code",
   "execution_count": 1,
   "id": "80849741",
   "metadata": {
    "tags": []
   },
   "outputs": [
    {
     "name": "stdout",
     "output_type": "stream",
     "text": [
      "Collecting package metadata (current_repodata.json): \\ WARNING conda.models.version:get_matcher(541): Using .* with relational operator is superfluous and deprecated and will be removed in a future version of conda. Your spec was 1.7.1.*, but conda is ignoring the .* and treating it as 1.7.1\n",
      "done\n",
      "Solving environment: done\n",
      "\n",
      "\n",
      "==> WARNING: A newer version of conda exists. <==\n",
      "  current version: 4.14.0\n",
      "  latest version: 25.7.0\n",
      "\n",
      "Please update conda by running\n",
      "\n",
      "    $ conda update -n base -c conda-forge conda\n",
      "\n",
      "\n",
      "\n",
      "# All requested packages already installed.\n",
      "\n",
      "Retrieving notices: ...working... done\n",
      "Hit:1 http://archive.ubuntu.com/ubuntu bionic InRelease                      \n",
      "Hit:2 http://archive.ubuntu.com/ubuntu bionic-updates InRelease              \n",
      "Hit:3 http://security.ubuntu.com/ubuntu bionic-security InRelease       \n",
      "Hit:4 http://archive.ubuntu.com/ubuntu bionic-backports InRelease       \n",
      "Reading package lists... Done                     \n",
      "Reading package lists... Done\n",
      "Building dependency tree       \n",
      "Reading state information... Done\n",
      "libatlas-base-dev is already the newest version (3.10.3-5).\n",
      "0 upgraded, 0 newly installed, 0 to remove and 83 not upgraded.\n"
     ]
    }
   ],
   "source": [
    "!conda install -y -c conda-forge faiss-gpu\n",
    "!apt-get -y update\n",
    "!apt-get -y install libatlas-base-dev"
   ]
  },
  {
   "cell_type": "markdown",
   "id": "ea6af1a5-1aef-4743-bfa6-7392ed97dbe7",
   "metadata": {},
   "source": [
    "## Load Data"
   ]
  },
  {
   "cell_type": "code",
   "execution_count": 2,
   "id": "e26dddbf",
   "metadata": {
    "tags": []
   },
   "outputs": [],
   "source": [
    "import pandas as pd\n",
    "import numpy as np\n",
    "import matplotlib.pyplot as plt\n",
    "\n",
    "from sklearn.random_projection import GaussianRandomProjection\n",
    "\n",
    "from tqdm import tqdm\n",
    "\n",
    "import faiss"
   ]
  },
  {
   "cell_type": "code",
   "execution_count": 3,
   "id": "89c2cffa",
   "metadata": {
    "tags": []
   },
   "outputs": [
    {
     "data": {
      "text/html": [
       "<div>\n",
       "<style scoped>\n",
       "    .dataframe tbody tr th:only-of-type {\n",
       "        vertical-align: middle;\n",
       "    }\n",
       "\n",
       "    .dataframe tbody tr th {\n",
       "        vertical-align: top;\n",
       "    }\n",
       "\n",
       "    .dataframe thead th {\n",
       "        text-align: right;\n",
       "    }\n",
       "</style>\n",
       "<table border=\"1\" class=\"dataframe\">\n",
       "  <thead>\n",
       "    <tr style=\"text-align: right;\">\n",
       "      <th></th>\n",
       "      <th>prompt_id</th>\n",
       "      <th>prompt</th>\n",
       "      <th>story</th>\n",
       "      <th>hidden_state_file</th>\n",
       "      <th>len_generated_story</th>\n",
       "      <th>len_new_story</th>\n",
       "    </tr>\n",
       "  </thead>\n",
       "  <tbody>\n",
       "    <tr>\n",
       "      <th>0</th>\n",
       "      <td>1</td>\n",
       "      <td>Once upon a time there was a dragon</td>\n",
       "      <td>Once upon a time there was a dragon named Blaz...</td>\n",
       "      <td>./hidden_states/prompt_1.npz</td>\n",
       "      <td>270</td>\n",
       "      <td>271</td>\n",
       "    </tr>\n",
       "    <tr>\n",
       "      <th>1</th>\n",
       "      <td>1</td>\n",
       "      <td>Once upon a time there was a dragon</td>\n",
       "      <td>Once upon a time there was a dragon named Spar...</td>\n",
       "      <td>./hidden_states/prompt_1.npz</td>\n",
       "      <td>349</td>\n",
       "      <td>350</td>\n",
       "    </tr>\n",
       "    <tr>\n",
       "      <th>2</th>\n",
       "      <td>1</td>\n",
       "      <td>Once upon a time there was a dragon</td>\n",
       "      <td>Once upon a time there was a dragon named Scor...</td>\n",
       "      <td>./hidden_states/prompt_1.npz</td>\n",
       "      <td>278</td>\n",
       "      <td>278</td>\n",
       "    </tr>\n",
       "    <tr>\n",
       "      <th>3</th>\n",
       "      <td>1</td>\n",
       "      <td>Once upon a time there was a dragon</td>\n",
       "      <td>Once upon a time there was a dragon. The drago...</td>\n",
       "      <td>./hidden_states/prompt_1.npz</td>\n",
       "      <td>117</td>\n",
       "      <td>118</td>\n",
       "    </tr>\n",
       "    <tr>\n",
       "      <th>4</th>\n",
       "      <td>1</td>\n",
       "      <td>Once upon a time there was a dragon</td>\n",
       "      <td>Once upon a time there was a dragon. The drago...</td>\n",
       "      <td>./hidden_states/prompt_1.npz</td>\n",
       "      <td>129</td>\n",
       "      <td>130</td>\n",
       "    </tr>\n",
       "    <tr>\n",
       "      <th>...</th>\n",
       "      <td>...</td>\n",
       "      <td>...</td>\n",
       "      <td>...</td>\n",
       "      <td>...</td>\n",
       "      <td>...</td>\n",
       "      <td>...</td>\n",
       "    </tr>\n",
       "    <tr>\n",
       "      <th>9995</th>\n",
       "      <td>10</td>\n",
       "      <td>Once upon a time there was a poor boy</td>\n",
       "      <td>Once upon a time there was a poor boy named Ti...</td>\n",
       "      <td>./hidden_states/prompt_10.npz</td>\n",
       "      <td>289</td>\n",
       "      <td>290</td>\n",
       "    </tr>\n",
       "    <tr>\n",
       "      <th>9996</th>\n",
       "      <td>10</td>\n",
       "      <td>Once upon a time there was a poor boy</td>\n",
       "      <td>Once upon a time there was a poor boy named Ti...</td>\n",
       "      <td>./hidden_states/prompt_10.npz</td>\n",
       "      <td>119</td>\n",
       "      <td>119</td>\n",
       "    </tr>\n",
       "    <tr>\n",
       "      <th>9997</th>\n",
       "      <td>10</td>\n",
       "      <td>Once upon a time there was a poor boy</td>\n",
       "      <td>Once upon a time there was a poor boy named Ti...</td>\n",
       "      <td>./hidden_states/prompt_10.npz</td>\n",
       "      <td>127</td>\n",
       "      <td>128</td>\n",
       "    </tr>\n",
       "    <tr>\n",
       "      <th>9998</th>\n",
       "      <td>10</td>\n",
       "      <td>Once upon a time there was a poor boy</td>\n",
       "      <td>Once upon a time there was a poor boy named Ti...</td>\n",
       "      <td>./hidden_states/prompt_10.npz</td>\n",
       "      <td>441</td>\n",
       "      <td>441</td>\n",
       "    </tr>\n",
       "    <tr>\n",
       "      <th>9999</th>\n",
       "      <td>10</td>\n",
       "      <td>Once upon a time there was a poor boy</td>\n",
       "      <td>Once upon a time there was a poor boy named Ti...</td>\n",
       "      <td>./hidden_states/prompt_10.npz</td>\n",
       "      <td>520</td>\n",
       "      <td>521</td>\n",
       "    </tr>\n",
       "  </tbody>\n",
       "</table>\n",
       "<p>10000 rows × 6 columns</p>\n",
       "</div>"
      ],
      "text/plain": [
       "      prompt_id                                 prompt  \\\n",
       "0             1    Once upon a time there was a dragon   \n",
       "1             1    Once upon a time there was a dragon   \n",
       "2             1    Once upon a time there was a dragon   \n",
       "3             1    Once upon a time there was a dragon   \n",
       "4             1    Once upon a time there was a dragon   \n",
       "...         ...                                    ...   \n",
       "9995         10  Once upon a time there was a poor boy   \n",
       "9996         10  Once upon a time there was a poor boy   \n",
       "9997         10  Once upon a time there was a poor boy   \n",
       "9998         10  Once upon a time there was a poor boy   \n",
       "9999         10  Once upon a time there was a poor boy   \n",
       "\n",
       "                                                  story  \\\n",
       "0     Once upon a time there was a dragon named Blaz...   \n",
       "1     Once upon a time there was a dragon named Spar...   \n",
       "2     Once upon a time there was a dragon named Scor...   \n",
       "3     Once upon a time there was a dragon. The drago...   \n",
       "4     Once upon a time there was a dragon. The drago...   \n",
       "...                                                 ...   \n",
       "9995  Once upon a time there was a poor boy named Ti...   \n",
       "9996  Once upon a time there was a poor boy named Ti...   \n",
       "9997  Once upon a time there was a poor boy named Ti...   \n",
       "9998  Once upon a time there was a poor boy named Ti...   \n",
       "9999  Once upon a time there was a poor boy named Ti...   \n",
       "\n",
       "                  hidden_state_file  len_generated_story  len_new_story  \n",
       "0      ./hidden_states/prompt_1.npz                  270            271  \n",
       "1      ./hidden_states/prompt_1.npz                  349            350  \n",
       "2      ./hidden_states/prompt_1.npz                  278            278  \n",
       "3      ./hidden_states/prompt_1.npz                  117            118  \n",
       "4      ./hidden_states/prompt_1.npz                  129            130  \n",
       "...                             ...                  ...            ...  \n",
       "9995  ./hidden_states/prompt_10.npz                  289            290  \n",
       "9996  ./hidden_states/prompt_10.npz                  119            119  \n",
       "9997  ./hidden_states/prompt_10.npz                  127            128  \n",
       "9998  ./hidden_states/prompt_10.npz                  441            441  \n",
       "9999  ./hidden_states/prompt_10.npz                  520            521  \n",
       "\n",
       "[10000 rows x 6 columns]"
      ]
     },
     "execution_count": 3,
     "metadata": {},
     "output_type": "execute_result"
    }
   ],
   "source": [
    "df = pd.read_csv(\"story_dataset.csv\")\n",
    "df"
   ]
  },
  {
   "cell_type": "code",
   "execution_count": 4,
   "id": "c081cc09",
   "metadata": {
    "tags": []
   },
   "outputs": [
    {
     "data": {
      "text/plain": [
       "522"
      ]
     },
     "execution_count": 4,
     "metadata": {},
     "output_type": "execute_result"
    }
   ],
   "source": [
    "max_story_len = max(df[\"len_generated_story\"])\n",
    "max_story_len"
   ]
  },
  {
   "cell_type": "code",
   "execution_count": 5,
   "id": "212c067a",
   "metadata": {
    "scrolled": true,
    "tags": []
   },
   "outputs": [
    {
     "name": "stderr",
     "output_type": "stream",
     "text": [
      "100%|███████████████████████████████████████████████████████████████████████████████| 1000/1000 [01:31<00:00, 10.92it/s]\n",
      "100%|███████████████████████████████████████████████████████████████████████████████| 1000/1000 [01:33<00:00, 10.70it/s]\n",
      "100%|███████████████████████████████████████████████████████████████████████████████| 1000/1000 [00:52<00:00, 19.20it/s]\n",
      "100%|███████████████████████████████████████████████████████████████████████████████| 1000/1000 [01:23<00:00, 12.02it/s]\n",
      "100%|███████████████████████████████████████████████████████████████████████████████| 1000/1000 [02:02<00:00,  8.13it/s]\n",
      "100%|███████████████████████████████████████████████████████████████████████████████| 1000/1000 [01:59<00:00,  8.35it/s]\n",
      "100%|███████████████████████████████████████████████████████████████████████████████| 1000/1000 [01:54<00:00,  8.73it/s]\n",
      "100%|███████████████████████████████████████████████████████████████████████████████| 1000/1000 [02:00<00:00,  8.33it/s]\n",
      "100%|███████████████████████████████████████████████████████████████████████████████| 1000/1000 [01:56<00:00,  8.55it/s]\n",
      "100%|███████████████████████████████████████████████████████████████████████████████| 1000/1000 [01:39<00:00, 10.05it/s]\n"
     ]
    }
   ],
   "source": [
    "hidden_states_by_layer = {}\n",
    "NUM_PROMPTS = 10\n",
    "\n",
    "for prompt_id in range(1, NUM_PROMPTS + 1):\n",
    "    with np.load(f'./hidden_states/prompt_{prompt_id}.npz') as loaded_data:\n",
    "        for i in tqdm(range(1000)):\n",
    "            curr_hidden_states = loaded_data[f\"arr_{i}\"][0]\n",
    "#             print(curr_hidden_states.shape)\n",
    "            for layer in range(1):\n",
    "                padded_arr = np.zeros((max_story_len, 512))\n",
    "                padded_arr_len = len(curr_hidden_states[layer][0])\n",
    "                \n",
    "                padded_arr[:padded_arr_len] = curr_hidden_states[layer][0]\n",
    "                \n",
    "                padded_arr = padded_arr.flatten().astype('float32') #FAISS expects data in type float32 instead of float64 - saves memory too!\n",
    "#                 print(padded_arr.shape)\n",
    "                \n",
    "                if(f\"layer_{layer}\" in hidden_states_by_layer):\n",
    "                    hidden_states_by_layer[f\"layer_{layer}\"].append(padded_arr)\n",
    "                else:\n",
    "                    hidden_states_by_layer[f\"layer_{layer}\"] = [padded_arr]"
   ]
  },
  {
   "cell_type": "code",
   "execution_count": 6,
   "id": "ad23eb70",
   "metadata": {
    "tags": []
   },
   "outputs": [
    {
     "data": {
      "text/plain": [
       "(10000, 267264)"
      ]
     },
     "execution_count": 6,
     "metadata": {},
     "output_type": "execute_result"
    }
   ],
   "source": [
    "layer_hs_array = np.array(hidden_states_by_layer[\"layer_0\"])\n",
    "layer_hs_array.shape"
   ]
  },
  {
   "cell_type": "markdown",
   "id": "e44eecd8-9f29-457b-8f65-d8eae3b84eb8",
   "metadata": {},
   "source": [
    "## Layer 0 Clustering"
   ]
  },
  {
   "cell_type": "code",
   "execution_count": 7,
   "id": "49cf7b1b",
   "metadata": {
    "tags": []
   },
   "outputs": [],
   "source": [
    "# Use original vectors for clustering - uncomment next line and comment out last two lines\n",
    "\n",
    "dim_reduced_vecs = layer_hs_array\n",
    "\n",
    "# random_projector = GaussianRandomProjection(random_state = 42)\n",
    "# dim_reduced_vecs = random_projector.fit_transform(layer_hs_array).astype('float32')"
   ]
  },
  {
   "cell_type": "code",
   "execution_count": 8,
   "id": "b9257701",
   "metadata": {
    "tags": []
   },
   "outputs": [
    {
     "data": {
      "text/plain": [
       "(10000, 267264)"
      ]
     },
     "execution_count": 8,
     "metadata": {},
     "output_type": "execute_result"
    }
   ],
   "source": [
    "dim_reduced_vecs = np.array([v / np.linalg.norm(v) for v in dim_reduced_vecs])\n",
    "dim_reduced_vecs.shape"
   ]
  },
  {
   "cell_type": "code",
   "execution_count": 9,
   "id": "289102b9",
   "metadata": {
    "scrolled": true,
    "tags": []
   },
   "outputs": [
    {
     "name": "stdout",
     "output_type": "stream",
     "text": [
      "Clustering 10000 points in 267264D to 10 clusters, redo 10 times, 20 iterations\n",
      "  Preprocessing in 3.25 s\n",
      "Outer iteration 0 / 10\n",
      "  Iteration 19 (55.09 s, search 36.54 s): objective=2965.37 imbalance=1.207 nsplit=0       \n",
      "Objective improved: keep new clusters\n",
      "Outer iteration 1 / 10\n",
      "  Iteration 19 (111.38 s, search 74.20 s): objective=2989.07 imbalance=1.347 nsplit=0       \n",
      "Objective improved: keep new clusters\n",
      "Outer iteration 2 / 10\n",
      "  Iteration 19 (165.98 s, search 110.92 s): objective=2945.85 imbalance=1.556 nsplit=0       \n",
      "Outer iteration 3 / 10\n",
      "  Iteration 19 (222.57 s, search 148.72 s): objective=2975.02 imbalance=1.214 nsplit=0       \n",
      "Outer iteration 4 / 10\n",
      "  Iteration 19 (276.64 s, search 184.98 s): objective=2929.77 imbalance=1.363 nsplit=0       \n",
      "Outer iteration 5 / 10\n",
      "  Iteration 19 (333.27 s, search 222.38 s): objective=2987.59 imbalance=1.169 nsplit=0       \n",
      "Outer iteration 6 / 10\n",
      "  Iteration 19 (388.30 s, search 259.17 s): objective=2956.03 imbalance=1.115 nsplit=0       \n",
      "Outer iteration 7 / 10\n",
      "  Iteration 19 (444.11 s, search 296.52 s): objective=2981.42 imbalance=1.455 nsplit=0       \n",
      "Outer iteration 8 / 10\n",
      "  Iteration 19 (499.45 s, search 333.56 s): objective=2934.43 imbalance=1.293 nsplit=0       \n",
      "Outer iteration 9 / 10\n",
      "  Iteration 19 (555.25 s, search 370.53 s): objective=2978.34 imbalance=1.375 nsplit=0       \r"
     ]
    },
    {
     "data": {
      "text/plain": [
       "2989.072021484375"
      ]
     },
     "execution_count": 9,
     "metadata": {},
     "output_type": "execute_result"
    }
   ],
   "source": [
    "# K-means Clustering\n",
    "\n",
    "ncentroids = NUM_PROMPTS\n",
    "niter = 20\n",
    "verbose = True\n",
    "dim = dim_reduced_vecs.shape[1]\n",
    "kmeans = faiss.Kmeans(dim, ncentroids, niter = niter, verbose = verbose, gpu = True, nredo = 10, spherical = True, max_points_per_centroid = 1000)\n",
    "kmeans.train(dim_reduced_vecs)"
   ]
  },
  {
   "cell_type": "code",
   "execution_count": 10,
   "id": "19cf0f0a",
   "metadata": {
    "tags": []
   },
   "outputs": [
    {
     "data": {
      "text/plain": [
       "array([[-8.49578716e-03, -5.35234623e-03,  1.66376019e-04, ...,\n",
       "         0.00000000e+00,  0.00000000e+00,  0.00000000e+00],\n",
       "       [-6.32371288e-03, -3.98394046e-03,  1.23839360e-04, ...,\n",
       "        -5.04619777e-07, -3.79645871e-06,  3.50442338e-06],\n",
       "       [-8.90896935e-03, -5.61264716e-03,  1.74467175e-04, ...,\n",
       "         0.00000000e+00,  0.00000000e+00,  0.00000000e+00],\n",
       "       ...,\n",
       "       [-7.57020479e-03, -4.76923026e-03,  1.48249834e-04, ...,\n",
       "         1.11156169e-05, -2.62718277e-05, -9.82280744e-06],\n",
       "       [-9.27523803e-03, -5.84339630e-03,  1.81640004e-04, ...,\n",
       "         0.00000000e+00,  0.00000000e+00,  0.00000000e+00],\n",
       "       [-6.06259378e-03, -3.81943560e-03,  1.18725766e-04, ...,\n",
       "         0.00000000e+00,  0.00000000e+00,  0.00000000e+00]], dtype=float32)"
      ]
     },
     "execution_count": 10,
     "metadata": {},
     "output_type": "execute_result"
    }
   ],
   "source": [
    "kmeans.centroids #cluster centers"
   ]
  },
  {
   "cell_type": "code",
   "execution_count": 11,
   "id": "61e726e9",
   "metadata": {
    "tags": []
   },
   "outputs": [
    {
     "name": "stdout",
     "output_type": "stream",
     "text": [
      "1.0000052\n",
      "1.0000137\n",
      "1.0000044\n",
      "1.0000288\n",
      "1.0000038\n",
      "1.0000069\n",
      "1.000015\n",
      "1.000034\n",
      "1.0000038\n",
      "1.0000228\n"
     ]
    }
   ],
   "source": [
    "for centroid in kmeans.centroids:\n",
    "    print(np.linalg.norm(centroid))"
   ]
  },
  {
   "cell_type": "code",
   "execution_count": 12,
   "id": "e5e1fa18",
   "metadata": {
    "tags": []
   },
   "outputs": [
    {
     "data": {
      "text/plain": [
       "array([ 991.94604492, 2805.61914062, 2925.296875  , 2949.68701172,\n",
       "       2956.21899414, 2960.59155273, 2962.2800293 , 2963.14135742,\n",
       "       2963.78417969, 2964.26879883, 2964.62915039, 2964.90551758,\n",
       "       2965.11474609, 2965.27392578, 2965.34008789, 2965.36376953,\n",
       "       2965.37207031, 2965.37207031, 2965.37207031, 2965.37207031,\n",
       "       1024.02978516, 2823.59838867, 2905.96118164, 2940.24389648,\n",
       "       2965.79174805, 2981.31152344, 2984.4855957 , 2985.8112793 ,\n",
       "       2986.20996094, 2986.48461914, 2986.63842773, 2986.80615234,\n",
       "       2987.07519531, 2987.6652832 , 2988.2878418 , 2988.5144043 ,\n",
       "       2988.64331055, 2988.74365234, 2988.88964844, 2989.07202148])"
      ]
     },
     "execution_count": 12,
     "metadata": {},
     "output_type": "execute_result"
    }
   ],
   "source": [
    "kmeans.obj #inertia at each iteration"
   ]
  },
  {
   "cell_type": "code",
   "execution_count": 13,
   "id": "bd47ca24",
   "metadata": {
    "tags": []
   },
   "outputs": [],
   "source": [
    "normalized_vecs = [v / np.linalg.norm(v) for v in dim_reduced_vecs]"
   ]
  },
  {
   "cell_type": "code",
   "execution_count": 14,
   "id": "ed2c340d",
   "metadata": {
    "tags": []
   },
   "outputs": [],
   "source": [
    "cos_similarities = normalized_vecs @ kmeans.centroids.T\n",
    "classifications = np.argmax(cos_similarities, axis=1)"
   ]
  },
  {
   "cell_type": "code",
   "execution_count": 15,
   "id": "90aae79f",
   "metadata": {
    "tags": []
   },
   "outputs": [
    {
     "data": {
      "text/plain": [
       "1    2378\n",
       "4    1550\n",
       "6    1448\n",
       "2    1019\n",
       "7     965\n",
       "8     650\n",
       "0     555\n",
       "9     551\n",
       "3     445\n",
       "5     439\n",
       "dtype: int64"
      ]
     },
     "execution_count": 15,
     "metadata": {},
     "output_type": "execute_result"
    }
   ],
   "source": [
    "pd.Series(classifications).value_counts()"
   ]
  },
  {
   "cell_type": "code",
   "execution_count": 16,
   "id": "1e37d3db",
   "metadata": {
    "tags": []
   },
   "outputs": [
    {
     "data": {
      "text/plain": [
       "1    2378\n",
       "4    1550\n",
       "6    1448\n",
       "2    1019\n",
       "7     965\n",
       "8     650\n",
       "0     555\n",
       "9     551\n",
       "3     445\n",
       "5     439\n",
       "dtype: int64"
      ]
     },
     "execution_count": 16,
     "metadata": {},
     "output_type": "execute_result"
    }
   ],
   "source": [
    "pd.Series(kmeans.index.search(dim_reduced_vecs.astype(np.float32), 1)[1].flatten()).value_counts()"
   ]
  },
  {
   "cell_type": "code",
   "execution_count": 17,
   "id": "22e1c2a5-03fa-43fd-90d4-609a0d949829",
   "metadata": {
    "tags": []
   },
   "outputs": [
    {
     "data": {
      "text/plain": [
       "array([ 1,  1,  1, ..., 10, 10, 10])"
      ]
     },
     "execution_count": 17,
     "metadata": {},
     "output_type": "execute_result"
    }
   ],
   "source": [
    "prompt_ids = df[\"prompt_id\"]\n",
    "prompt_ids = prompt_ids.to_numpy()\n",
    "prompt_ids"
   ]
  },
  {
   "cell_type": "code",
   "execution_count": 18,
   "id": "5a193f06-0914-464f-a718-949569676d3f",
   "metadata": {
    "tags": []
   },
   "outputs": [
    {
     "data": {
      "text/plain": [
       "[1, 4, 0, 1, 9, 4, 4, 1, 1, 7]"
      ]
     },
     "execution_count": 18,
     "metadata": {},
     "output_type": "execute_result"
    }
   ],
   "source": [
    "# Get most common centroid for each 1000 points (same label)\n",
    "max_centroid_per_label = [pd.Series(classifications[i * 1000:(i + 1) * 1000]).value_counts().idxmax() for i in range(10)]\n",
    "max_centroid_per_label"
   ]
  },
  {
   "cell_type": "code",
   "execution_count": 19,
   "id": "fc34c419-5d92-4dc6-8db4-9dc84b83a8d4",
   "metadata": {
    "tags": []
   },
   "outputs": [
    {
     "data": {
      "text/plain": [
       "[3, 1, 5, 3, 6, 4, 9, 10, 8, 5]"
      ]
     },
     "execution_count": 19,
     "metadata": {},
     "output_type": "execute_result"
    }
   ],
   "source": [
    "# Get most common label for each point classified to a centroid (same centroid)\n",
    "centroid_labels = [np.where(classifications == i)[0] for i in range(10)]\n",
    "max_label_per_centroid = [pd.Series(prompt_ids[centroid_labels[i]]).value_counts().idxmax() for i in range(10)]\n",
    "max_label_per_centroid"
   ]
  },
  {
   "cell_type": "code",
   "execution_count": 20,
   "id": "e3896395-fbd9-47c4-8e38-b38d4eb7150b",
   "metadata": {
    "tags": []
   },
   "outputs": [],
   "source": [
    "max_centroids = [centroid for centroid in max_centroid_per_label for _ in range(1000)]\n",
    "\n",
    "# max_labels = [label for label in max_label_per_centroid for _ in range(1000)] #DOESN'T MAKE SENSE - INDICES ARE CENTROIDS, NOT LABELS - DOESN'T MATCH DATA"
   ]
  },
  {
   "cell_type": "code",
   "execution_count": 21,
   "id": "ed9c66f7-2ea3-4123-ae4d-878d38fe23c4",
   "metadata": {
    "tags": []
   },
   "outputs": [
    {
     "data": {
      "text/plain": [
       "array([1, 1, 1, ..., 7, 7, 7])"
      ]
     },
     "execution_count": 21,
     "metadata": {},
     "output_type": "execute_result"
    }
   ],
   "source": [
    "np.array(max_centroids)"
   ]
  },
  {
   "cell_type": "code",
   "execution_count": 22,
   "id": "20e159a9-ef63-4a0e-8e94-52e041a5c416",
   "metadata": {
    "tags": []
   },
   "outputs": [],
   "source": [
    "label_to_centroid = {idx + 1 : max_centroid_per_label[idx] for idx in range(len(max_centroid_per_label))}\n",
    "\n",
    "centroid_to_label = {idx : max_label_per_centroid[idx] for idx in range(len(max_label_per_centroid))}"
   ]
  },
  {
   "cell_type": "code",
   "execution_count": 23,
   "id": "e48e8724-7eaa-4c74-ac81-162b7806837c",
   "metadata": {
    "tags": []
   },
   "outputs": [
    {
     "data": {
      "text/plain": [
       "{1: 1, 2: 4, 3: 0, 4: 1, 5: 9, 6: 4, 7: 4, 8: 1, 9: 1, 10: 7}"
      ]
     },
     "execution_count": 23,
     "metadata": {},
     "output_type": "execute_result"
    }
   ],
   "source": [
    "label_to_centroid"
   ]
  },
  {
   "cell_type": "code",
   "execution_count": 24,
   "id": "45760bd2-820d-462e-a8ef-8d054ed5dde4",
   "metadata": {
    "tags": []
   },
   "outputs": [
    {
     "data": {
      "text/plain": [
       "{0: 3, 1: 1, 2: 5, 3: 3, 4: 6, 5: 4, 6: 9, 7: 10, 8: 8, 9: 5}"
      ]
     },
     "execution_count": 24,
     "metadata": {},
     "output_type": "execute_result"
    }
   ],
   "source": [
    "centroid_to_label"
   ]
  },
  {
   "cell_type": "code",
   "execution_count": 25,
   "id": "c42d024e-220a-45f0-a163-6ff214db9da8",
   "metadata": {},
   "outputs": [],
   "source": [
    "centroid_to_label_2 = {v: k for k, v in label_to_centroid.items()}"
   ]
  },
  {
   "cell_type": "code",
   "execution_count": 26,
   "id": "0c50d62c-0b99-46d2-a1b1-a660d10c4b29",
   "metadata": {},
   "outputs": [],
   "source": [
    "for k, v in enumerate(centroid_to_label):\n",
    "    if(label_to_centroid.get(v) == k):\n",
    "        centroid_to_label_2[k] = v\n",
    "    \n",
    "    if(v not in centroid_to_label_2):\n",
    "        centroid_to_label_2[k] = centroid_to_label[k]"
   ]
  },
  {
   "cell_type": "code",
   "execution_count": 40,
   "id": "755b3ebc-4fd2-4cb9-8357-0b74ffa78c38",
   "metadata": {
    "tags": []
   },
   "outputs": [
    {
     "data": {
      "text/plain": [
       "{1: 1, 4: 7, 0: 3, 9: 5, 7: 10, 2: 5, 3: 3, 5: 4, 6: 9, 8: 8}"
      ]
     },
     "execution_count": 40,
     "metadata": {},
     "output_type": "execute_result"
    }
   ],
   "source": [
    "centroid_to_label_2"
   ]
  },
  {
   "cell_type": "code",
   "execution_count": 27,
   "id": "0d248bc8-2765-4b12-b03a-79a58f54afea",
   "metadata": {},
   "outputs": [
    {
     "name": "stdout",
     "output_type": "stream",
     "text": [
      "3    555\n",
      "dtype: int64\n",
      "3    445\n",
      "dtype: int64\n"
     ]
    }
   ],
   "source": [
    "print(pd.Series(prompt_ids[centroid_labels[0]]).value_counts())\n",
    "\n",
    "print(pd.Series(prompt_ids[centroid_labels[3]]).value_counts())"
   ]
  },
  {
   "cell_type": "code",
   "execution_count": 28,
   "id": "7cbce3a8-1211-44ea-941b-aec3c4dda416",
   "metadata": {
    "tags": []
   },
   "outputs": [
    {
     "name": "stdout",
     "output_type": "stream",
     "text": [
      "5    435\n",
      "8    227\n",
      "1    185\n",
      "9    166\n",
      "4      5\n",
      "2      1\n",
      "dtype: int64\n",
      "5    531\n",
      "8     15\n",
      "9      5\n",
      "dtype: int64\n"
     ]
    }
   ],
   "source": [
    "print(pd.Series(prompt_ids[centroid_labels[2]]).value_counts())\n",
    "\n",
    "print(pd.Series(prompt_ids[centroid_labels[9]]).value_counts())"
   ]
  },
  {
   "cell_type": "code",
   "execution_count": 29,
   "id": "b9cf2ac5-ce04-4efe-9828-041723e1f453",
   "metadata": {
    "tags": []
   },
   "outputs": [
    {
     "data": {
      "text/plain": [
       "array([ 9,  9,  9, ..., 10, 10, 10])"
      ]
     },
     "execution_count": 29,
     "metadata": {},
     "output_type": "execute_result"
    }
   ],
   "source": [
    "vectorized_map = np.vectorize(centroid_to_label.get)\n",
    "classifications_to_label = vectorized_map(classifications)\n",
    "\n",
    "classifications_to_label"
   ]
  },
  {
   "cell_type": "code",
   "execution_count": 30,
   "id": "9c5eeccc-5766-4b94-ac34-6d82ef61f0f0",
   "metadata": {},
   "outputs": [
    {
     "data": {
      "text/plain": [
       "array([ 9,  9,  9, ..., 10, 10, 10])"
      ]
     },
     "execution_count": 30,
     "metadata": {},
     "output_type": "execute_result"
    }
   ],
   "source": [
    "vectorized_map = np.vectorize(centroid_to_label_2.get)\n",
    "classifications_to_label_2 = vectorized_map(classifications)\n",
    "\n",
    "classifications_to_label_2"
   ]
  },
  {
   "cell_type": "code",
   "execution_count": 31,
   "id": "c793f2dc-74de-4e3a-b0a8-3839b1be8dd9",
   "metadata": {
    "tags": []
   },
   "outputs": [
    {
     "name": "stdout",
     "output_type": "stream",
     "text": [
      "Prompt 1 Accuracy:  0.371\n",
      "Prompt 2 Accuracy:  0.0\n",
      "Prompt 3 Accuracy:  1.0\n",
      "Prompt 4 Accuracy:  0.172\n",
      "Prompt 5 Accuracy:  0.966\n",
      "Prompt 6 Accuracy:  0.413\n",
      "Prompt 7 Accuracy:  0.0\n",
      "Prompt 8 Accuracy:  0.267\n",
      "Prompt 9 Accuracy:  0.229\n",
      "Prompt 10 Accuracy:  0.965\n"
     ]
    }
   ],
   "source": [
    "for i in range(10):\n",
    "    print(f\"Prompt {i + 1} Accuracy: \", np.mean(classifications_to_label[i * 1000:(i + 1) * 1000] == (i + 1)))"
   ]
  },
  {
   "cell_type": "code",
   "execution_count": 32,
   "id": "ac9d3497-d991-455d-a121-1a4c234314b0",
   "metadata": {
    "tags": []
   },
   "outputs": [
    {
     "name": "stdout",
     "output_type": "stream",
     "text": [
      "Overall Accuracy:  0.4383\n"
     ]
    }
   ],
   "source": [
    "print(f\"Overall Accuracy: \", np.mean(classifications_to_label == prompt_ids))"
   ]
  },
  {
   "cell_type": "code",
   "execution_count": 33,
   "id": "699f77ba-0987-4a71-864d-d2ea1c6b4bf7",
   "metadata": {
    "tags": []
   },
   "outputs": [
    {
     "name": "stdout",
     "output_type": "stream",
     "text": [
      "Prompt 1 Accuracy:  0.371\n",
      "Prompt 2 Accuracy:  0.379\n",
      "Prompt 3 Accuracy:  0.555\n",
      "Prompt 4 Accuracy:  0.359\n",
      "Prompt 5 Accuracy:  0.531\n",
      "Prompt 6 Accuracy:  0.413\n",
      "Prompt 7 Accuracy:  0.399\n",
      "Prompt 8 Accuracy:  0.293\n",
      "Prompt 9 Accuracy:  0.327\n",
      "Prompt 10 Accuracy:  0.965\n"
     ]
    }
   ],
   "source": [
    "for i in range(10):\n",
    "    print(f\"Prompt {i + 1} Accuracy: \", np.mean(classifications[i * 1000:(i + 1) * 1000] == max_centroids[i * 1000:(i + 1)*1000]))"
   ]
  },
  {
   "cell_type": "code",
   "execution_count": 34,
   "id": "ab197f9c-fb70-4373-b2d3-71b75e347e74",
   "metadata": {
    "tags": []
   },
   "outputs": [
    {
     "name": "stdout",
     "output_type": "stream",
     "text": [
      "Overall Accuracy:  0.4592\n"
     ]
    }
   ],
   "source": [
    "print(f\"Overall Accuracy: \", np.mean(classifications == max_centroids))"
   ]
  },
  {
   "cell_type": "code",
   "execution_count": 35,
   "id": "22761c40-0786-4b93-83ac-5d99d3635e9f",
   "metadata": {},
   "outputs": [
    {
     "name": "stdout",
     "output_type": "stream",
     "text": [
      "Prompt 1 Accuracy:  0.371\n",
      "Prompt 2 Accuracy:  0.0\n",
      "Prompt 3 Accuracy:  1.0\n",
      "Prompt 4 Accuracy:  0.172\n",
      "Prompt 5 Accuracy:  0.966\n",
      "Prompt 6 Accuracy:  0.0\n",
      "Prompt 7 Accuracy:  0.399\n",
      "Prompt 8 Accuracy:  0.267\n",
      "Prompt 9 Accuracy:  0.229\n",
      "Prompt 10 Accuracy:  0.965\n"
     ]
    }
   ],
   "source": [
    "for i in range(10):\n",
    "    print(f\"Prompt {i + 1} Accuracy: \", np.mean(classifications_to_label_2[i * 1000:(i + 1) * 1000] == (i + 1)))"
   ]
  },
  {
   "cell_type": "code",
   "execution_count": 36,
   "id": "4a532096-90c6-4dfc-8e69-ec6465e545f1",
   "metadata": {},
   "outputs": [
    {
     "name": "stdout",
     "output_type": "stream",
     "text": [
      "Overall Accuracy:  0.4369\n"
     ]
    }
   ],
   "source": [
    "print(f\"Overall Accuracy: \", np.mean(classifications_to_label_2 == prompt_ids))"
   ]
  },
  {
   "cell_type": "markdown",
   "id": "320a7484-a468-4101-b671-8d883f5ac267",
   "metadata": {},
   "source": [
    "## Measure Conversion Accuracy"
   ]
  },
  {
   "cell_type": "code",
   "execution_count": 37,
   "id": "395ab77d-f64c-493e-ba5f-6dc657715920",
   "metadata": {
    "tags": []
   },
   "outputs": [],
   "source": [
    "label_to_centroid_vectorized_map = np.vectorize(label_to_centroid.get)\n",
    "centroid_to_label_vectorized_map = np.vectorize(centroid_to_label.get)\n",
    "prompt_ids_to_centroids = label_to_centroid_vectorized_map(prompt_ids)\n",
    "max_centroids_to_labels = centroid_to_label_vectorized_map(max_centroids)"
   ]
  },
  {
   "cell_type": "code",
   "execution_count": 38,
   "id": "46b915e3-0210-438b-a5c0-c53fcea2cdf6",
   "metadata": {
    "tags": []
   },
   "outputs": [
    {
     "data": {
      "text/plain": [
       "1.0"
      ]
     },
     "execution_count": 38,
     "metadata": {},
     "output_type": "execute_result"
    }
   ],
   "source": [
    "np.mean(max_centroids == prompt_ids_to_centroids) #100% - max_centroids is the prompt ids converted to the max centroid corresponding to each label"
   ]
  },
  {
   "cell_type": "code",
   "execution_count": 39,
   "id": "0135a280-5589-4c64-a3e3-f094a75ddeee",
   "metadata": {
    "tags": []
   },
   "outputs": [
    {
     "data": {
      "text/plain": [
       "0.5"
      ]
     },
     "execution_count": 39,
     "metadata": {},
     "output_type": "execute_result"
    }
   ],
   "source": [
    "np.mean(max_centroids_to_labels == prompt_ids) #<100% - 7/10 label to centroid / centroid to label mappings coincide"
   ]
  }
 ],
 "metadata": {
  "kernelspec": {
   "display_name": "Python 3 (ipykernel)",
   "language": "python",
   "name": "python3"
  },
  "language_info": {
   "codemirror_mode": {
    "name": "ipython",
    "version": 3
   },
   "file_extension": ".py",
   "mimetype": "text/x-python",
   "name": "python",
   "nbconvert_exporter": "python",
   "pygments_lexer": "ipython3",
   "version": "3.7.11"
  }
 },
 "nbformat": 4,
 "nbformat_minor": 5
}
