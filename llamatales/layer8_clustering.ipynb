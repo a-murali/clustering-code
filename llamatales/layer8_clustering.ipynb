{
 "cells": [
  {
   "cell_type": "markdown",
   "id": "64c867a4-b1c3-426b-b086-de071a726ebf",
   "metadata": {},
   "source": [
    "## Install Packages"
   ]
  },
  {
   "cell_type": "code",
   "execution_count": 1,
   "id": "80849741",
   "metadata": {},
   "outputs": [
    {
     "name": "stdout",
     "output_type": "stream",
     "text": [
      "Collecting package metadata (current_repodata.json): - WARNING conda.models.version:get_matcher(540): Using .* with relational operator is superfluous and deprecated and will be removed in a future version of conda. Your spec was 1.7.1.*, but conda is ignoring the .* and treating it as 1.7.1\n",
      "done\n",
      "Solving environment: failed with initial frozen solve. Retrying with flexible solve.\n",
      "Solving environment: failed with repodata from current_repodata.json, will retry with next repodata source.\n",
      "Collecting package metadata (repodata.json): \\ WARNING conda.models.version:get_matcher(540): Using .* with relational operator is superfluous and deprecated and will be removed in a future version of conda. Your spec was 1.8.0.*, but conda is ignoring the .* and treating it as 1.8.0\n",
      "WARNING conda.models.version:get_matcher(540): Using .* with relational operator is superfluous and deprecated and will be removed in a future version of conda. Your spec was 1.6.0.*, but conda is ignoring the .* and treating it as 1.6.0\n",
      "WARNING conda.models.version:get_matcher(540): Using .* with relational operator is superfluous and deprecated and will be removed in a future version of conda. Your spec was 1.9.0.*, but conda is ignoring the .* and treating it as 1.9.0\n",
      "done\n",
      "Solving environment: done\n",
      "\n",
      "\n",
      "==> WARNING: A newer version of conda exists. <==\n",
      "  current version: 4.10.3\n",
      "  latest version: 25.7.0\n",
      "\n",
      "Please update conda by running\n",
      "\n",
      "    $ conda update -n base -c defaults conda\n",
      "\n",
      "\n",
      "\n",
      "## Package Plan ##\n",
      "\n",
      "  environment location: /opt/conda\n",
      "\n",
      "  added / updated specs:\n",
      "    - faiss-gpu\n",
      "\n",
      "\n",
      "The following packages will be downloaded:\n",
      "\n",
      "    package                    |            build\n",
      "    ---------------------------|-----------------\n",
      "    ca-certificates-2025.8.3   |       hbd8a1cb_0         151 KB  conda-forge\n",
      "    certifi-2024.8.30          |     pyhd8ed1ab_0         160 KB  conda-forge\n",
      "    conda-4.12.0               |   py37h89c1867_0         1.0 MB  conda-forge\n",
      "    faiss-1.7.1                |py37cuda111h7f21d35_1_cuda         2.0 MB  conda-forge\n",
      "    faiss-gpu-1.7.1            |       h788eb59_1          15 KB  conda-forge\n",
      "    libblas-3.9.0              |   26_linux64_mkl          16 KB  conda-forge\n",
      "    libfaiss-1.7.1             |cuda111hf54f04a_1_cuda        80.2 MB  conda-forge\n",
      "    libfaiss-avx2-1.7.1        |cuda111h1234567_1_cuda        80.3 MB  conda-forge\n",
      "    liblapack-3.9.0            |   26_linux64_mkl          16 KB  conda-forge\n",
      "    openssl-1.1.1w             |       h7f8727e_0         3.7 MB\n",
      "    python_abi-3.7             |          2_cp37m           4 KB  conda-forge\n",
      "    ------------------------------------------------------------\n",
      "                                           Total:       167.6 MB\n",
      "\n",
      "The following NEW packages will be INSTALLED:\n",
      "\n",
      "  faiss              conda-forge/linux-64::faiss-1.7.1-py37cuda111h7f21d35_1_cuda\n",
      "  faiss-gpu          conda-forge/linux-64::faiss-gpu-1.7.1-h788eb59_1\n",
      "  libblas            conda-forge/linux-64::libblas-3.9.0-26_linux64_mkl\n",
      "  libfaiss           conda-forge/linux-64::libfaiss-1.7.1-cuda111hf54f04a_1_cuda\n",
      "  libfaiss-avx2      conda-forge/linux-64::libfaiss-avx2-1.7.1-cuda111h1234567_1_cuda\n",
      "  liblapack          conda-forge/linux-64::liblapack-3.9.0-26_linux64_mkl\n",
      "  python_abi         conda-forge/linux-64::python_abi-3.7-2_cp37m\n",
      "\n",
      "The following packages will be UPDATED:\n",
      "\n",
      "  ca-certificates    pkgs/main/linux-64::ca-certificates-2~ --> conda-forge/noarch::ca-certificates-2025.8.3-hbd8a1cb_0\n",
      "  certifi            pkgs/main/linux-64::certifi-2021.10.8~ --> conda-forge/noarch::certifi-2024.8.30-pyhd8ed1ab_0\n",
      "  conda              pkgs/main::conda-4.10.3-py37h06a4308_0 --> conda-forge::conda-4.12.0-py37h89c1867_0\n",
      "  openssl                                 1.1.1l-h7f8727e_0 --> 1.1.1w-h7f8727e_0\n",
      "\n",
      "\n",
      "\n",
      "Downloading and Extracting Packages\n",
      "libfaiss-avx2-1.7.1  | 80.3 MB   | ##################################### | 100% \n",
      "certifi-2024.8.30    | 160 KB    | ##################################### | 100% \n",
      "liblapack-3.9.0      | 16 KB     | ##################################### | 100% \n",
      "faiss-1.7.1          | 2.0 MB    | ##################################### | 100% \n",
      "faiss-gpu-1.7.1      | 15 KB     | ##################################### | 100% \n",
      "openssl-1.1.1w       | 3.7 MB    | ##################################### | 100% \n",
      "python_abi-3.7       | 4 KB      | ##################################### | 100% \n",
      "libblas-3.9.0        | 16 KB     | ##################################### | 100% \n",
      "libfaiss-1.7.1       | 80.2 MB   | ##################################### | 100% \n",
      "ca-certificates-2025 | 151 KB    | ##################################### | 100% \n",
      "conda-4.12.0         | 1.0 MB    | ##################################### | 100% \n",
      "Preparing transaction: done\n",
      "Verifying transaction: done\n",
      "Executing transaction: done\n",
      "Hit:1 http://archive.ubuntu.com/ubuntu bionic InRelease     \n",
      "Get:2 http://security.ubuntu.com/ubuntu bionic-security InRelease [102 kB]\n",
      "Get:3 http://archive.ubuntu.com/ubuntu bionic-updates InRelease [102 kB]      \n",
      "Get:4 http://security.ubuntu.com/ubuntu bionic-security/multiverse amd64 Packages [23.8 kB]\n",
      "Get:5 http://security.ubuntu.com/ubuntu bionic-security/main amd64 Packages [3373 kB]\n",
      "Get:6 http://archive.ubuntu.com/ubuntu bionic-backports InRelease [102 kB]     \n",
      "Get:7 http://security.ubuntu.com/ubuntu bionic-security/universe amd64 Packages [1637 kB]\n",
      "Get:8 http://security.ubuntu.com/ubuntu bionic-security/restricted amd64 Packages [1688 kB]\n",
      "Get:9 http://archive.ubuntu.com/ubuntu bionic-updates/restricted amd64 Packages [1728 kB]\n",
      "Get:10 http://archive.ubuntu.com/ubuntu bionic-updates/universe amd64 Packages [2411 kB]\n",
      "Get:11 http://archive.ubuntu.com/ubuntu bionic-updates/multiverse amd64 Packages [30.8 kB]\n",
      "Get:12 http://archive.ubuntu.com/ubuntu bionic-updates/main amd64 Packages [3786 kB]\n",
      "Get:13 http://archive.ubuntu.com/ubuntu bionic-backports/main amd64 Packages [64.0 kB]\n",
      "Get:14 http://archive.ubuntu.com/ubuntu bionic-backports/universe amd64 Packages [20.6 kB]\n",
      "Fetched 15.1 MB in 2s (6039 kB/s)                       \n",
      "Reading package lists... Done\n",
      "Reading package lists... Done\n",
      "Building dependency tree       \n",
      "Reading state information... Done\n",
      "The following additional packages will be installed:\n",
      "  gcc-7-base libatlas3-base libgfortran4 libquadmath0\n",
      "Suggested packages:\n",
      "  libatlas-doc liblapack-doc\n",
      "The following NEW packages will be installed:\n",
      "  gcc-7-base libatlas-base-dev libatlas3-base libgfortran4 libquadmath0\n",
      "0 upgraded, 5 newly installed, 0 to remove and 83 not upgraded.\n",
      "Need to get 8397 kB of archives.\n",
      "After this operation, 49.3 MB of additional disk space will be used.\n",
      "Get:1 http://archive.ubuntu.com/ubuntu bionic-updates/main amd64 gcc-7-base amd64 7.5.0-3ubuntu1~18.04 [18.3 kB]\n",
      "Get:2 http://archive.ubuntu.com/ubuntu bionic-updates/main amd64 libquadmath0 amd64 8.4.0-1ubuntu1~18.04 [134 kB]\n",
      "Get:3 http://archive.ubuntu.com/ubuntu bionic-updates/main amd64 libgfortran4 amd64 7.5.0-3ubuntu1~18.04 [492 kB]\n",
      "Get:4 http://archive.ubuntu.com/ubuntu bionic/universe amd64 libatlas3-base amd64 3.10.3-5 [3732 kB]\n",
      "Get:5 http://archive.ubuntu.com/ubuntu bionic/universe amd64 libatlas-base-dev amd64 3.10.3-5 [4022 kB]\n",
      "Fetched 8397 kB in 2s (3833 kB/s)          \n",
      "debconf: delaying package configuration, since apt-utils is not installed\n",
      "Selecting previously unselected package gcc-7-base:amd64.\n",
      "(Reading database ... 11934 files and directories currently installed.)\n",
      "Preparing to unpack .../gcc-7-base_7.5.0-3ubuntu1~18.04_amd64.deb ...\n",
      "Unpacking gcc-7-base:amd64 (7.5.0-3ubuntu1~18.04) ...\n",
      "Selecting previously unselected package libquadmath0:amd64.\n",
      "Preparing to unpack .../libquadmath0_8.4.0-1ubuntu1~18.04_amd64.deb ...\n",
      "Unpacking libquadmath0:amd64 (8.4.0-1ubuntu1~18.04) ...\n",
      "Selecting previously unselected package libgfortran4:amd64.\n",
      "Preparing to unpack .../libgfortran4_7.5.0-3ubuntu1~18.04_amd64.deb ...\n",
      "Unpacking libgfortran4:amd64 (7.5.0-3ubuntu1~18.04) ...\n",
      "Selecting previously unselected package libatlas3-base:amd64.\n",
      "Preparing to unpack .../libatlas3-base_3.10.3-5_amd64.deb ...\n",
      "Unpacking libatlas3-base:amd64 (3.10.3-5) ...\n",
      "Selecting previously unselected package libatlas-base-dev:amd64.\n",
      "Preparing to unpack .../libatlas-base-dev_3.10.3-5_amd64.deb ...\n",
      "Unpacking libatlas-base-dev:amd64 (3.10.3-5) ...\n",
      "Setting up libquadmath0:amd64 (8.4.0-1ubuntu1~18.04) ...\n",
      "Setting up gcc-7-base:amd64 (7.5.0-3ubuntu1~18.04) ...\n",
      "Setting up libgfortran4:amd64 (7.5.0-3ubuntu1~18.04) ...\n",
      "Setting up libatlas3-base:amd64 (3.10.3-5) ...\n",
      "update-alternatives: using /usr/lib/x86_64-linux-gnu/atlas/libblas.so.3 to provide /usr/lib/x86_64-linux-gnu/libblas.so.3 (libblas.so.3-x86_64-linux-gnu) in auto mode\n",
      "update-alternatives: using /usr/lib/x86_64-linux-gnu/atlas/liblapack.so.3 to provide /usr/lib/x86_64-linux-gnu/liblapack.so.3 (liblapack.so.3-x86_64-linux-gnu) in auto mode\n",
      "Setting up libatlas-base-dev:amd64 (3.10.3-5) ...\n",
      "update-alternatives: using /usr/lib/x86_64-linux-gnu/atlas/libblas.so to provide /usr/lib/x86_64-linux-gnu/libblas.so (libblas.so-x86_64-linux-gnu) in auto mode\n",
      "update-alternatives: using /usr/lib/x86_64-linux-gnu/atlas/liblapack.so to provide /usr/lib/x86_64-linux-gnu/liblapack.so (liblapack.so-x86_64-linux-gnu) in auto mode\n",
      "Processing triggers for libc-bin (2.27-3ubuntu1.4) ...\n"
     ]
    }
   ],
   "source": [
    "!conda install -y -c conda-forge faiss-gpu\n",
    "!apt-get -y update\n",
    "!apt-get -y install libatlas-base-dev"
   ]
  },
  {
   "cell_type": "markdown",
   "id": "ea6af1a5-1aef-4743-bfa6-7392ed97dbe7",
   "metadata": {},
   "source": [
    "## Load Data"
   ]
  },
  {
   "cell_type": "code",
   "execution_count": 2,
   "id": "e26dddbf",
   "metadata": {},
   "outputs": [],
   "source": [
    "import pandas as pd\n",
    "import numpy as np\n",
    "import matplotlib.pyplot as plt\n",
    "\n",
    "from sklearn.random_projection import GaussianRandomProjection\n",
    "\n",
    "from tqdm import tqdm\n",
    "\n",
    "import faiss"
   ]
  },
  {
   "cell_type": "code",
   "execution_count": 3,
   "id": "89c2cffa",
   "metadata": {},
   "outputs": [
    {
     "data": {
      "text/html": [
       "<div>\n",
       "<style scoped>\n",
       "    .dataframe tbody tr th:only-of-type {\n",
       "        vertical-align: middle;\n",
       "    }\n",
       "\n",
       "    .dataframe tbody tr th {\n",
       "        vertical-align: top;\n",
       "    }\n",
       "\n",
       "    .dataframe thead th {\n",
       "        text-align: right;\n",
       "    }\n",
       "</style>\n",
       "<table border=\"1\" class=\"dataframe\">\n",
       "  <thead>\n",
       "    <tr style=\"text-align: right;\">\n",
       "      <th></th>\n",
       "      <th>prompt_id</th>\n",
       "      <th>prompt</th>\n",
       "      <th>story</th>\n",
       "      <th>hidden_state_file</th>\n",
       "      <th>len_generated_story</th>\n",
       "      <th>len_new_story</th>\n",
       "    </tr>\n",
       "  </thead>\n",
       "  <tbody>\n",
       "    <tr>\n",
       "      <th>0</th>\n",
       "      <td>1</td>\n",
       "      <td>Once upon a time there was a dragon</td>\n",
       "      <td>Once upon a time there was a dragon named Blaz...</td>\n",
       "      <td>./hidden_states/prompt_1.npz</td>\n",
       "      <td>270</td>\n",
       "      <td>271</td>\n",
       "    </tr>\n",
       "    <tr>\n",
       "      <th>1</th>\n",
       "      <td>1</td>\n",
       "      <td>Once upon a time there was a dragon</td>\n",
       "      <td>Once upon a time there was a dragon named Spar...</td>\n",
       "      <td>./hidden_states/prompt_1.npz</td>\n",
       "      <td>349</td>\n",
       "      <td>350</td>\n",
       "    </tr>\n",
       "    <tr>\n",
       "      <th>2</th>\n",
       "      <td>1</td>\n",
       "      <td>Once upon a time there was a dragon</td>\n",
       "      <td>Once upon a time there was a dragon named Scor...</td>\n",
       "      <td>./hidden_states/prompt_1.npz</td>\n",
       "      <td>278</td>\n",
       "      <td>278</td>\n",
       "    </tr>\n",
       "    <tr>\n",
       "      <th>3</th>\n",
       "      <td>1</td>\n",
       "      <td>Once upon a time there was a dragon</td>\n",
       "      <td>Once upon a time there was a dragon. The drago...</td>\n",
       "      <td>./hidden_states/prompt_1.npz</td>\n",
       "      <td>117</td>\n",
       "      <td>118</td>\n",
       "    </tr>\n",
       "    <tr>\n",
       "      <th>4</th>\n",
       "      <td>1</td>\n",
       "      <td>Once upon a time there was a dragon</td>\n",
       "      <td>Once upon a time there was a dragon. The drago...</td>\n",
       "      <td>./hidden_states/prompt_1.npz</td>\n",
       "      <td>129</td>\n",
       "      <td>130</td>\n",
       "    </tr>\n",
       "    <tr>\n",
       "      <th>...</th>\n",
       "      <td>...</td>\n",
       "      <td>...</td>\n",
       "      <td>...</td>\n",
       "      <td>...</td>\n",
       "      <td>...</td>\n",
       "      <td>...</td>\n",
       "    </tr>\n",
       "    <tr>\n",
       "      <th>9995</th>\n",
       "      <td>10</td>\n",
       "      <td>Once upon a time there was a poor boy</td>\n",
       "      <td>Once upon a time there was a poor boy named Ti...</td>\n",
       "      <td>./hidden_states/prompt_10.npz</td>\n",
       "      <td>289</td>\n",
       "      <td>290</td>\n",
       "    </tr>\n",
       "    <tr>\n",
       "      <th>9996</th>\n",
       "      <td>10</td>\n",
       "      <td>Once upon a time there was a poor boy</td>\n",
       "      <td>Once upon a time there was a poor boy named Ti...</td>\n",
       "      <td>./hidden_states/prompt_10.npz</td>\n",
       "      <td>119</td>\n",
       "      <td>119</td>\n",
       "    </tr>\n",
       "    <tr>\n",
       "      <th>9997</th>\n",
       "      <td>10</td>\n",
       "      <td>Once upon a time there was a poor boy</td>\n",
       "      <td>Once upon a time there was a poor boy named Ti...</td>\n",
       "      <td>./hidden_states/prompt_10.npz</td>\n",
       "      <td>127</td>\n",
       "      <td>128</td>\n",
       "    </tr>\n",
       "    <tr>\n",
       "      <th>9998</th>\n",
       "      <td>10</td>\n",
       "      <td>Once upon a time there was a poor boy</td>\n",
       "      <td>Once upon a time there was a poor boy named Ti...</td>\n",
       "      <td>./hidden_states/prompt_10.npz</td>\n",
       "      <td>441</td>\n",
       "      <td>441</td>\n",
       "    </tr>\n",
       "    <tr>\n",
       "      <th>9999</th>\n",
       "      <td>10</td>\n",
       "      <td>Once upon a time there was a poor boy</td>\n",
       "      <td>Once upon a time there was a poor boy named Ti...</td>\n",
       "      <td>./hidden_states/prompt_10.npz</td>\n",
       "      <td>520</td>\n",
       "      <td>521</td>\n",
       "    </tr>\n",
       "  </tbody>\n",
       "</table>\n",
       "<p>10000 rows × 6 columns</p>\n",
       "</div>"
      ],
      "text/plain": [
       "      prompt_id                                 prompt  \\\n",
       "0             1    Once upon a time there was a dragon   \n",
       "1             1    Once upon a time there was a dragon   \n",
       "2             1    Once upon a time there was a dragon   \n",
       "3             1    Once upon a time there was a dragon   \n",
       "4             1    Once upon a time there was a dragon   \n",
       "...         ...                                    ...   \n",
       "9995         10  Once upon a time there was a poor boy   \n",
       "9996         10  Once upon a time there was a poor boy   \n",
       "9997         10  Once upon a time there was a poor boy   \n",
       "9998         10  Once upon a time there was a poor boy   \n",
       "9999         10  Once upon a time there was a poor boy   \n",
       "\n",
       "                                                  story  \\\n",
       "0     Once upon a time there was a dragon named Blaz...   \n",
       "1     Once upon a time there was a dragon named Spar...   \n",
       "2     Once upon a time there was a dragon named Scor...   \n",
       "3     Once upon a time there was a dragon. The drago...   \n",
       "4     Once upon a time there was a dragon. The drago...   \n",
       "...                                                 ...   \n",
       "9995  Once upon a time there was a poor boy named Ti...   \n",
       "9996  Once upon a time there was a poor boy named Ti...   \n",
       "9997  Once upon a time there was a poor boy named Ti...   \n",
       "9998  Once upon a time there was a poor boy named Ti...   \n",
       "9999  Once upon a time there was a poor boy named Ti...   \n",
       "\n",
       "                  hidden_state_file  len_generated_story  len_new_story  \n",
       "0      ./hidden_states/prompt_1.npz                  270            271  \n",
       "1      ./hidden_states/prompt_1.npz                  349            350  \n",
       "2      ./hidden_states/prompt_1.npz                  278            278  \n",
       "3      ./hidden_states/prompt_1.npz                  117            118  \n",
       "4      ./hidden_states/prompt_1.npz                  129            130  \n",
       "...                             ...                  ...            ...  \n",
       "9995  ./hidden_states/prompt_10.npz                  289            290  \n",
       "9996  ./hidden_states/prompt_10.npz                  119            119  \n",
       "9997  ./hidden_states/prompt_10.npz                  127            128  \n",
       "9998  ./hidden_states/prompt_10.npz                  441            441  \n",
       "9999  ./hidden_states/prompt_10.npz                  520            521  \n",
       "\n",
       "[10000 rows x 6 columns]"
      ]
     },
     "execution_count": 3,
     "metadata": {},
     "output_type": "execute_result"
    }
   ],
   "source": [
    "df = pd.read_csv(\"story_dataset.csv\")\n",
    "df"
   ]
  },
  {
   "cell_type": "code",
   "execution_count": 4,
   "id": "c081cc09",
   "metadata": {},
   "outputs": [
    {
     "data": {
      "text/plain": [
       "522"
      ]
     },
     "execution_count": 4,
     "metadata": {},
     "output_type": "execute_result"
    }
   ],
   "source": [
    "max_story_len = max(df[\"len_generated_story\"])\n",
    "max_story_len"
   ]
  },
  {
   "cell_type": "code",
   "execution_count": 5,
   "id": "212c067a",
   "metadata": {
    "scrolled": true
   },
   "outputs": [
    {
     "name": "stderr",
     "output_type": "stream",
     "text": [
      "100%|███████████████████████████████████████████████████████████████████████████████| 1000/1000 [01:11<00:00, 14.06it/s]\n",
      "100%|███████████████████████████████████████████████████████████████████████████████| 1000/1000 [01:03<00:00, 15.74it/s]\n",
      "100%|███████████████████████████████████████████████████████████████████████████████| 1000/1000 [01:07<00:00, 14.82it/s]\n",
      "100%|███████████████████████████████████████████████████████████████████████████████| 1000/1000 [01:10<00:00, 14.28it/s]\n",
      "100%|███████████████████████████████████████████████████████████████████████████████| 1000/1000 [01:05<00:00, 15.20it/s]\n",
      "100%|███████████████████████████████████████████████████████████████████████████████| 1000/1000 [01:07<00:00, 14.74it/s]\n",
      "100%|███████████████████████████████████████████████████████████████████████████████| 1000/1000 [01:08<00:00, 14.62it/s]\n",
      "100%|███████████████████████████████████████████████████████████████████████████████| 1000/1000 [01:10<00:00, 14.17it/s]\n",
      "100%|███████████████████████████████████████████████████████████████████████████████| 1000/1000 [01:10<00:00, 14.27it/s]\n",
      "100%|███████████████████████████████████████████████████████████████████████████████| 1000/1000 [01:14<00:00, 13.42it/s]\n"
     ]
    }
   ],
   "source": [
    "hidden_states_by_layer = {}\n",
    "NUM_PROMPTS = 10\n",
    "\n",
    "for prompt_id in range(1, NUM_PROMPTS + 1):\n",
    "    with np.load(f'./hidden_states/prompt_{prompt_id}.npz') as loaded_data:\n",
    "        for i in tqdm(range(1000)):\n",
    "            curr_hidden_states = loaded_data[f\"arr_{i}\"][0]\n",
    "#             print(curr_hidden_states.shape)\n",
    "            for layer in range(8, 9):\n",
    "                padded_arr = np.zeros((max_story_len, 512))\n",
    "                padded_arr_len = len(curr_hidden_states[layer][0])\n",
    "                \n",
    "                padded_arr[:padded_arr_len] = curr_hidden_states[layer][0]\n",
    "                \n",
    "                padded_arr = padded_arr.flatten().astype('float32') #FAISS expects data in type float32 instead of float64 - saves memory too!\n",
    "#                 print(padded_arr.shape)\n",
    "                \n",
    "                if(f\"layer_{layer}\" in hidden_states_by_layer):\n",
    "                    hidden_states_by_layer[f\"layer_{layer}\"].append(padded_arr)\n",
    "                else:\n",
    "                    hidden_states_by_layer[f\"layer_{layer}\"] = [padded_arr]"
   ]
  },
  {
   "cell_type": "code",
   "execution_count": 6,
   "id": "ad23eb70",
   "metadata": {},
   "outputs": [
    {
     "data": {
      "text/plain": [
       "(10000, 267264)"
      ]
     },
     "execution_count": 6,
     "metadata": {},
     "output_type": "execute_result"
    }
   ],
   "source": [
    "layer_hs_array = np.array(hidden_states_by_layer[\"layer_8\"])\n",
    "layer_hs_array.shape"
   ]
  },
  {
   "cell_type": "markdown",
   "id": "e44eecd8-9f29-457b-8f65-d8eae3b84eb8",
   "metadata": {},
   "source": [
    "## Layer 8 Clustering"
   ]
  },
  {
   "cell_type": "code",
   "execution_count": 7,
   "id": "49cf7b1b",
   "metadata": {},
   "outputs": [],
   "source": [
    "# Use original vectors for clustering - uncomment next line and comment out last two lines\n",
    "\n",
    "dim_reduced_vecs = layer_hs_array\n",
    "\n",
    "# random_projector = GaussianRandomProjection(random_state = 42)\n",
    "# dim_reduced_vecs = random_projector.fit_transform(layer_hs_array).astype('float32')"
   ]
  },
  {
   "cell_type": "code",
   "execution_count": 8,
   "id": "b9257701",
   "metadata": {},
   "outputs": [
    {
     "data": {
      "text/plain": [
       "(10000, 267264)"
      ]
     },
     "execution_count": 8,
     "metadata": {},
     "output_type": "execute_result"
    }
   ],
   "source": [
    "dim_reduced_vecs = np.array([v / np.linalg.norm(v) for v in dim_reduced_vecs])\n",
    "dim_reduced_vecs.shape"
   ]
  },
  {
   "cell_type": "code",
   "execution_count": 9,
   "id": "289102b9",
   "metadata": {
    "scrolled": true
   },
   "outputs": [
    {
     "name": "stdout",
     "output_type": "stream",
     "text": [
      "Clustering 10000 points in 267264D to 10 clusters, redo 10 times, 20 iterations\n",
      "  Preprocessing in 1.39 s\n",
      "Outer iteration 0 / 10\n",
      "  Iteration 19 (24.81 s, search 17.27 s): objective=6107.47 imbalance=1.270 nsplit=0       \n",
      "Objective improved: keep new clusters\n",
      "Outer iteration 1 / 10\n",
      "  Iteration 19 (49.77 s, search 34.61 s): objective=6111.56 imbalance=1.332 nsplit=0       \n",
      "Objective improved: keep new clusters\n",
      "Outer iteration 2 / 10\n",
      "  Iteration 19 (74.51 s, search 51.86 s): objective=6116.87 imbalance=1.076 nsplit=0       \n",
      "Objective improved: keep new clusters\n",
      "Outer iteration 3 / 10\n",
      "  Iteration 19 (99.26 s, search 69.09 s): objective=6107.59 imbalance=1.088 nsplit=0       \n",
      "Outer iteration 4 / 10\n",
      "  Iteration 19 (124.05 s, search 86.36 s): objective=6089.73 imbalance=1.266 nsplit=0       \n",
      "Outer iteration 5 / 10\n",
      "  Iteration 19 (148.88 s, search 103.62 s): objective=6112.45 imbalance=1.342 nsplit=0       \n",
      "Outer iteration 6 / 10\n",
      "  Iteration 19 (173.61 s, search 120.85 s): objective=6114.1 imbalance=1.074 nsplit=0        \n",
      "Outer iteration 7 / 10\n",
      "  Iteration 19 (198.39 s, search 138.09 s): objective=6091.58 imbalance=1.615 nsplit=0       \n",
      "Outer iteration 8 / 10\n",
      "  Iteration 19 (223.07 s, search 155.30 s): objective=6112.17 imbalance=1.162 nsplit=0       \n",
      "Outer iteration 9 / 10\n",
      "  Iteration 19 (247.79 s, search 172.51 s): objective=6101.74 imbalance=1.094 nsplit=0       \r"
     ]
    },
    {
     "data": {
      "text/plain": [
       "6116.8671875"
      ]
     },
     "execution_count": 9,
     "metadata": {},
     "output_type": "execute_result"
    }
   ],
   "source": [
    "# K-means Clustering\n",
    "\n",
    "ncentroids = NUM_PROMPTS\n",
    "niter = 20\n",
    "verbose = True\n",
    "dim = dim_reduced_vecs.shape[1]\n",
    "kmeans = faiss.Kmeans(dim, ncentroids, niter = niter, verbose = verbose, gpu = True, nredo = 10, spherical = True, max_points_per_centroid = 1000)\n",
    "kmeans.train(dim_reduced_vecs)"
   ]
  },
  {
   "cell_type": "code",
   "execution_count": 10,
   "id": "19cf0f0a",
   "metadata": {},
   "outputs": [
    {
     "data": {
      "text/plain": [
       "array([[-0.00737656,  0.00505679,  0.00487592, ...,  0.        ,\n",
       "         0.        ,  0.        ],\n",
       "       [-0.0058931 ,  0.00403986,  0.00389536, ...,  0.        ,\n",
       "         0.        ,  0.        ],\n",
       "       [-0.01273242,  0.00872835,  0.00841614, ...,  0.        ,\n",
       "         0.        ,  0.        ],\n",
       "       ...,\n",
       "       [-0.00787451,  0.00539815,  0.00520507, ...,  0.        ,\n",
       "         0.        ,  0.        ],\n",
       "       [-0.01324614,  0.00908052,  0.00875573, ...,  0.        ,\n",
       "         0.        ,  0.        ],\n",
       "       [-0.01498067,  0.01026957,  0.00990223, ...,  0.        ,\n",
       "         0.        ,  0.        ]], dtype=float32)"
      ]
     },
     "execution_count": 10,
     "metadata": {},
     "output_type": "execute_result"
    }
   ],
   "source": [
    "kmeans.centroids #cluster centers"
   ]
  },
  {
   "cell_type": "code",
   "execution_count": 11,
   "id": "61e726e9",
   "metadata": {},
   "outputs": [
    {
     "name": "stdout",
     "output_type": "stream",
     "text": [
      "1.0000044\n",
      "1.0000037\n",
      "1.0000021\n",
      "1.0000017\n",
      "1.0000023\n",
      "1.0000038\n",
      "0.99999976\n",
      "1.0000025\n",
      "1.0000002\n",
      "1.0000007\n"
     ]
    }
   ],
   "source": [
    "for centroid in kmeans.centroids:\n",
    "    print(np.linalg.norm(centroid))"
   ]
  },
  {
   "cell_type": "code",
   "execution_count": 12,
   "id": "e5e1fa18",
   "metadata": {},
   "outputs": [
    {
     "data": {
      "text/plain": [
       "array([3715.14306641, 6035.81054688, 6084.15673828, 6091.27246094,\n",
       "       6093.28271484, 6094.45019531, 6095.44482422, 6096.41210938,\n",
       "       6097.36035156, 6098.12939453, 6098.70849609, 6099.16308594,\n",
       "       6100.125     , 6101.02587891, 6101.51220703, 6102.29345703,\n",
       "       6105.02294922, 6107.20361328, 6107.46582031, 6107.46972656,\n",
       "       3663.89575195, 5994.92919922, 6089.37841797, 6105.73828125,\n",
       "       6107.72802734, 6108.88574219, 6109.56494141, 6110.21191406,\n",
       "       6110.66162109, 6110.83789062, 6110.93701172, 6111.00927734,\n",
       "       6111.06640625, 6111.1484375 , 6111.29833984, 6111.41796875,\n",
       "       6111.50195312, 6111.54541016, 6111.54833984, 6111.56005859,\n",
       "       3765.10595703, 6062.36572266, 6097.43408203, 6105.92675781,\n",
       "       6109.00683594, 6110.4375    , 6111.25244141, 6111.92138672,\n",
       "       6112.92236328, 6113.73583984, 6114.18603516, 6114.41699219,\n",
       "       6114.56982422, 6114.69482422, 6114.78271484, 6114.95898438,\n",
       "       6115.59960938, 6116.73583984, 6116.84960938, 6116.8671875 ])"
      ]
     },
     "execution_count": 12,
     "metadata": {},
     "output_type": "execute_result"
    }
   ],
   "source": [
    "kmeans.obj #inertia at each iteration"
   ]
  },
  {
   "cell_type": "code",
   "execution_count": 13,
   "id": "bd47ca24",
   "metadata": {},
   "outputs": [],
   "source": [
    "normalized_vecs = [v / np.linalg.norm(v) for v in dim_reduced_vecs]"
   ]
  },
  {
   "cell_type": "code",
   "execution_count": 14,
   "id": "ed2c340d",
   "metadata": {},
   "outputs": [],
   "source": [
    "cos_similarities = normalized_vecs @ kmeans.centroids.T\n",
    "classifications = np.argmax(cos_similarities, axis=1)"
   ]
  },
  {
   "cell_type": "code",
   "execution_count": 15,
   "id": "90aae79f",
   "metadata": {},
   "outputs": [
    {
     "data": {
      "text/plain": [
       "6    1389\n",
       "8    1320\n",
       "1    1200\n",
       "7    1146\n",
       "4    1073\n",
       "5    1056\n",
       "0     904\n",
       "9     775\n",
       "2     607\n",
       "3     530\n",
       "dtype: int64"
      ]
     },
     "execution_count": 15,
     "metadata": {},
     "output_type": "execute_result"
    }
   ],
   "source": [
    "pd.Series(classifications).value_counts()"
   ]
  },
  {
   "cell_type": "code",
   "execution_count": 16,
   "id": "1e37d3db",
   "metadata": {},
   "outputs": [
    {
     "data": {
      "text/plain": [
       "6    1389\n",
       "8    1320\n",
       "1    1200\n",
       "7    1146\n",
       "4    1073\n",
       "5    1056\n",
       "0     904\n",
       "9     775\n",
       "2     607\n",
       "3     530\n",
       "dtype: int64"
      ]
     },
     "execution_count": 16,
     "metadata": {},
     "output_type": "execute_result"
    }
   ],
   "source": [
    "pd.Series(kmeans.index.search(dim_reduced_vecs.astype(np.float32), 1)[1].flatten()).value_counts()"
   ]
  },
  {
   "cell_type": "code",
   "execution_count": 17,
   "id": "46ed5642-4bb6-4a13-b65e-f99a35199c63",
   "metadata": {
    "tags": []
   },
   "outputs": [
    {
     "data": {
      "text/plain": [
       "array([ 1,  1,  1, ..., 10, 10, 10])"
      ]
     },
     "execution_count": 17,
     "metadata": {},
     "output_type": "execute_result"
    }
   ],
   "source": [
    "prompt_ids = df[\"prompt_id\"]\n",
    "prompt_ids = prompt_ids.to_numpy()\n",
    "prompt_ids"
   ]
  },
  {
   "cell_type": "code",
   "execution_count": 18,
   "id": "a6eff2cc-1316-432e-b68c-b6a6ce1b8c1a",
   "metadata": {
    "tags": []
   },
   "outputs": [
    {
     "data": {
      "text/plain": [
       "[6, 6, 3, 8, 2, 8, 6, 2, 6, 8]"
      ]
     },
     "execution_count": 18,
     "metadata": {},
     "output_type": "execute_result"
    }
   ],
   "source": [
    "# Get most common centroid for each 1000 points (same label)\n",
    "max_centroid_per_label = [pd.Series(classifications[i * 1000:(i + 1) * 1000]).value_counts().idxmax() for i in range(10)]\n",
    "max_centroid_per_label"
   ]
  },
  {
   "cell_type": "code",
   "execution_count": 19,
   "id": "8fa930ff-8897-4ec9-97ca-b74d8d909226",
   "metadata": {
    "tags": []
   },
   "outputs": [
    {
     "data": {
      "text/plain": [
       "[3, 10, 5, 3, 2, 10, 2, 6, 4, 8]"
      ]
     },
     "execution_count": 19,
     "metadata": {},
     "output_type": "execute_result"
    }
   ],
   "source": [
    "# Get most common label for each point classified to a centroid (same centroid)\n",
    "centroid_labels = [np.where(classifications == i)[0] for i in range(10)]\n",
    "max_label_per_centroid = [pd.Series(prompt_ids[centroid_labels[i]]).value_counts().idxmax() for i in range(10)]\n",
    "max_label_per_centroid"
   ]
  },
  {
   "cell_type": "code",
   "execution_count": 20,
   "id": "3b7f4628-42af-443a-ad6c-85539e092bfd",
   "metadata": {
    "tags": []
   },
   "outputs": [],
   "source": [
    "max_centroids = [centroid for centroid in max_centroid_per_label for _ in range(1000)]\n",
    "\n",
    "max_labels = [label for label in max_label_per_centroid for _ in range(1000)]"
   ]
  },
  {
   "cell_type": "code",
   "execution_count": 21,
   "id": "99d81b73-06c4-49e6-b09d-64f5976b3cbb",
   "metadata": {
    "tags": []
   },
   "outputs": [
    {
     "data": {
      "text/plain": [
       "array([6, 6, 6, ..., 8, 8, 8])"
      ]
     },
     "execution_count": 21,
     "metadata": {},
     "output_type": "execute_result"
    }
   ],
   "source": [
    "np.array(max_centroids)"
   ]
  },
  {
   "cell_type": "code",
   "execution_count": 22,
   "id": "353d8c15-8df3-435e-b589-bd6678713cf0",
   "metadata": {
    "tags": []
   },
   "outputs": [
    {
     "data": {
      "text/plain": [
       "array([3, 3, 3, ..., 8, 8, 8])"
      ]
     },
     "execution_count": 22,
     "metadata": {},
     "output_type": "execute_result"
    }
   ],
   "source": [
    "np.array(max_labels)"
   ]
  },
  {
   "cell_type": "code",
   "execution_count": 23,
   "id": "d67383a3-9346-47b5-9ae2-bc704be0c598",
   "metadata": {
    "tags": []
   },
   "outputs": [],
   "source": [
    "label_to_centroid = {idx + 1 : max_centroid_per_label[idx] for idx in range(len(max_centroid_per_label))}\n",
    "\n",
    "centroid_to_label = {idx : max_label_per_centroid[idx] for idx in range(len(max_label_per_centroid))}"
   ]
  },
  {
   "cell_type": "code",
   "execution_count": 24,
   "id": "3119c120-58f7-4ff2-89d2-29a504cb7e60",
   "metadata": {
    "tags": []
   },
   "outputs": [
    {
     "data": {
      "text/plain": [
       "{1: 6, 2: 6, 3: 3, 4: 8, 5: 2, 6: 8, 7: 6, 8: 2, 9: 6, 10: 8}"
      ]
     },
     "execution_count": 24,
     "metadata": {},
     "output_type": "execute_result"
    }
   ],
   "source": [
    "label_to_centroid"
   ]
  },
  {
   "cell_type": "code",
   "execution_count": 25,
   "id": "1b21f32a-6964-48f2-ad61-9d6377a60b22",
   "metadata": {
    "tags": []
   },
   "outputs": [
    {
     "data": {
      "text/plain": [
       "{0: 3, 1: 10, 2: 5, 3: 3, 4: 2, 5: 10, 6: 2, 7: 6, 8: 4, 9: 8}"
      ]
     },
     "execution_count": 25,
     "metadata": {},
     "output_type": "execute_result"
    }
   ],
   "source": [
    "centroid_to_label"
   ]
  },
  {
   "cell_type": "code",
   "execution_count": 26,
   "id": "91e13f74-9e59-41e6-8c5a-6490f79d8643",
   "metadata": {
    "tags": []
   },
   "outputs": [
    {
     "data": {
      "text/plain": [
       "array([ 6,  3,  6, ...,  2, 10, 10])"
      ]
     },
     "execution_count": 26,
     "metadata": {},
     "output_type": "execute_result"
    }
   ],
   "source": [
    "vectorized_map = np.vectorize(centroid_to_label.get)\n",
    "classifications_to_label = vectorized_map(classifications)\n",
    "\n",
    "classifications_to_label"
   ]
  },
  {
   "cell_type": "code",
   "execution_count": 27,
   "id": "7752de7a-5f86-4377-b4e9-2d3967e2437c",
   "metadata": {
    "tags": []
   },
   "outputs": [
    {
     "name": "stdout",
     "output_type": "stream",
     "text": [
      "Prompt 1 Accuracy:  0.0\n",
      "Prompt 2 Accuracy:  0.344\n",
      "Prompt 3 Accuracy:  0.634\n",
      "Prompt 4 Accuracy:  0.191\n",
      "Prompt 5 Accuracy:  0.401\n",
      "Prompt 6 Accuracy:  0.129\n",
      "Prompt 7 Accuracy:  0.0\n",
      "Prompt 8 Accuracy:  0.118\n",
      "Prompt 9 Accuracy:  0.0\n",
      "Prompt 10 Accuracy:  0.296\n"
     ]
    }
   ],
   "source": [
    "for i in range(10):\n",
    "    print(f\"Prompt {i + 1} Accuracy: \", np.mean(classifications_to_label[i * 1000:(i + 1) * 1000] == (i + 1)))"
   ]
  },
  {
   "cell_type": "code",
   "execution_count": 28,
   "id": "66ebf1da-f558-4424-892c-b036061dfc94",
   "metadata": {
    "tags": []
   },
   "outputs": [
    {
     "name": "stdout",
     "output_type": "stream",
     "text": [
      "Overall Accuracy:  0.2113\n"
     ]
    }
   ],
   "source": [
    "print(f\"Overall Accuracy: \", np.mean(classifications_to_label == prompt_ids))"
   ]
  }
 ],
 "metadata": {
  "kernelspec": {
   "display_name": "Python 3 (ipykernel)",
   "language": "python",
   "name": "python3"
  },
  "language_info": {
   "codemirror_mode": {
    "name": "ipython",
    "version": 3
   },
   "file_extension": ".py",
   "mimetype": "text/x-python",
   "name": "python",
   "nbconvert_exporter": "python",
   "pygments_lexer": "ipython3",
   "version": "3.7.11"
  }
 },
 "nbformat": 4,
 "nbformat_minor": 5
}
