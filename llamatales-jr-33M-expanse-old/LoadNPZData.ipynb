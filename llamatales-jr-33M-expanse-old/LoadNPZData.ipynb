{
 "cells": [
  {
   "cell_type": "code",
   "execution_count": 1,
   "metadata": {},
   "outputs": [],
   "source": [
    "import pandas as pd\n",
    "import numpy as np"
   ]
  },
  {
   "cell_type": "code",
   "execution_count": 3,
   "metadata": {},
   "outputs": [
    {
     "data": {
      "text/html": [
       "<div>\n",
       "<style scoped>\n",
       "    .dataframe tbody tr th:only-of-type {\n",
       "        vertical-align: middle;\n",
       "    }\n",
       "\n",
       "    .dataframe tbody tr th {\n",
       "        vertical-align: top;\n",
       "    }\n",
       "\n",
       "    .dataframe thead th {\n",
       "        text-align: right;\n",
       "    }\n",
       "</style>\n",
       "<table border=\"1\" class=\"dataframe\">\n",
       "  <thead>\n",
       "    <tr style=\"text-align: right;\">\n",
       "      <th></th>\n",
       "      <th>prompt</th>\n",
       "      <th>story</th>\n",
       "      <th>hidden_states</th>\n",
       "      <th>output_token_prompt_id</th>\n",
       "    </tr>\n",
       "  </thead>\n",
       "  <tbody>\n",
       "    <tr>\n",
       "      <td>0</td>\n",
       "      <td>Once upon a time there was a dragon</td>\n",
       "      <td>Once upon a time there was a dragon named Blaz...</td>\n",
       "      <td>[[[[[ 0.0195776  -0.01203049 -0.00329265 ... -...</td>\n",
       "      <td>[1, 1, 1, 1, 1, 1, 1, 1, 1, 1, 1, 1, 1, 1, 1, ...</td>\n",
       "    </tr>\n",
       "    <tr>\n",
       "      <td>1</td>\n",
       "      <td>Once upon a time there was a princess</td>\n",
       "      <td>Once upon a time there was a princess named Li...</td>\n",
       "      <td>[[[[[ 0.00907895 -0.00382373  0.01176977 ...  ...</td>\n",
       "      <td>[2, 2, 2, 2, 2, 2, 2, 2, 2, 2, 2, 2, 2, 2, 2, ...</td>\n",
       "    </tr>\n",
       "    <tr>\n",
       "      <td>2</td>\n",
       "      <td>Once upon a time there were two children</td>\n",
       "      <td>Once upon a time there were two children, Timm...</td>\n",
       "      <td>[[[[[-0.00745996  0.00875824  0.01923985 ... -...</td>\n",
       "      <td>[3, 3, 3, 3, 3, 3, 3, 3, 3, 3, 3, 3, 3, 3, 3, ...</td>\n",
       "    </tr>\n",
       "    <tr>\n",
       "      <td>3</td>\n",
       "      <td>Once upon a time there was a prince</td>\n",
       "      <td>Once upon a time there was a prince. He loved ...</td>\n",
       "      <td>[[[[[ 0.00607951  0.0001194   0.02001009 ...  ...</td>\n",
       "      <td>[4, 4, 4, 4, 4, 4, 4, 4, 4, 4, 4, 4, 4, 4, 4, ...</td>\n",
       "    </tr>\n",
       "    <tr>\n",
       "      <td>4</td>\n",
       "      <td>Once upon a time there was a frog</td>\n",
       "      <td>Once upon a time there was a frog named Freddy...</td>\n",
       "      <td>[[[[[ 0.03122119 -0.02896403  0.01921979 ...  ...</td>\n",
       "      <td>[5, 5, 5, 5, 5, 5, 5, 5, 5, 5, 5, 5, 5, 5, 5, ...</td>\n",
       "    </tr>\n",
       "    <tr>\n",
       "      <td>5</td>\n",
       "      <td>Once upon a time there was a king</td>\n",
       "      <td>Once upon a time there was a king. He had a be...</td>\n",
       "      <td>[[[[[ 0.02018633  0.01695217 -0.03850058 ...  ...</td>\n",
       "      <td>[6, 6, 6, 6, 6, 6, 6, 6, 6, 6, 6, 6, 6, 6, 6, ...</td>\n",
       "    </tr>\n",
       "    <tr>\n",
       "      <td>6</td>\n",
       "      <td>Once upon a time there was a queen</td>\n",
       "      <td>Once upon a time there was a queen. She had a ...</td>\n",
       "      <td>[[[[[ 2.3329405e-03  1.3176170e-02 -4.1504437e...</td>\n",
       "      <td>[7, 7, 7, 7, 7, 7, 7, 7, 7, 7, 7, 7, 7, 7, 7, ...</td>\n",
       "    </tr>\n",
       "    <tr>\n",
       "      <td>7</td>\n",
       "      <td>Once upon a time there was a wolf</td>\n",
       "      <td>Once upon a time there was a wolf. His name wa...</td>\n",
       "      <td>[[[[[-0.01738906 -0.00566883  0.05661942 ...  ...</td>\n",
       "      <td>[8, 8, 8, 8, 8, 8, 8, 8, 8, 8, 8, 8, 8, 8, 8, ...</td>\n",
       "    </tr>\n",
       "    <tr>\n",
       "      <td>8</td>\n",
       "      <td>Once upon a time there was a genie</td>\n",
       "      <td>Once upon a time there was a genie named Max. ...</td>\n",
       "      <td>[[[[[ 0.01858641  0.0276458  -0.00036269 ... -...</td>\n",
       "      <td>[9, 9, 9, 9, 9, 9, 9, 9, 9, 9, 9, 9, 9, 9, 9, ...</td>\n",
       "    </tr>\n",
       "    <tr>\n",
       "      <td>9</td>\n",
       "      <td>Once upon a time there was a poor boy</td>\n",
       "      <td>Once upon a time there was a poor boy. His nam...</td>\n",
       "      <td>[[[[[ 0.00343257  0.00517342 -0.00547469 ... -...</td>\n",
       "      <td>[10, 10, 10, 10, 10, 10, 10, 10, 10, 10, 10, 1...</td>\n",
       "    </tr>\n",
       "  </tbody>\n",
       "</table>\n",
       "</div>"
      ],
      "text/plain": [
       "                                     prompt  \\\n",
       "0       Once upon a time there was a dragon   \n",
       "1     Once upon a time there was a princess   \n",
       "2  Once upon a time there were two children   \n",
       "3       Once upon a time there was a prince   \n",
       "4         Once upon a time there was a frog   \n",
       "5         Once upon a time there was a king   \n",
       "6        Once upon a time there was a queen   \n",
       "7         Once upon a time there was a wolf   \n",
       "8        Once upon a time there was a genie   \n",
       "9     Once upon a time there was a poor boy   \n",
       "\n",
       "                                               story  \\\n",
       "0  Once upon a time there was a dragon named Blaz...   \n",
       "1  Once upon a time there was a princess named Li...   \n",
       "2  Once upon a time there were two children, Timm...   \n",
       "3  Once upon a time there was a prince. He loved ...   \n",
       "4  Once upon a time there was a frog named Freddy...   \n",
       "5  Once upon a time there was a king. He had a be...   \n",
       "6  Once upon a time there was a queen. She had a ...   \n",
       "7  Once upon a time there was a wolf. His name wa...   \n",
       "8  Once upon a time there was a genie named Max. ...   \n",
       "9  Once upon a time there was a poor boy. His nam...   \n",
       "\n",
       "                                       hidden_states  \\\n",
       "0  [[[[[ 0.0195776  -0.01203049 -0.00329265 ... -...   \n",
       "1  [[[[[ 0.00907895 -0.00382373  0.01176977 ...  ...   \n",
       "2  [[[[[-0.00745996  0.00875824  0.01923985 ... -...   \n",
       "3  [[[[[ 0.00607951  0.0001194   0.02001009 ...  ...   \n",
       "4  [[[[[ 0.03122119 -0.02896403  0.01921979 ...  ...   \n",
       "5  [[[[[ 0.02018633  0.01695217 -0.03850058 ...  ...   \n",
       "6  [[[[[ 2.3329405e-03  1.3176170e-02 -4.1504437e...   \n",
       "7  [[[[[-0.01738906 -0.00566883  0.05661942 ...  ...   \n",
       "8  [[[[[ 0.01858641  0.0276458  -0.00036269 ... -...   \n",
       "9  [[[[[ 0.00343257  0.00517342 -0.00547469 ... -...   \n",
       "\n",
       "                              output_token_prompt_id  \n",
       "0  [1, 1, 1, 1, 1, 1, 1, 1, 1, 1, 1, 1, 1, 1, 1, ...  \n",
       "1  [2, 2, 2, 2, 2, 2, 2, 2, 2, 2, 2, 2, 2, 2, 2, ...  \n",
       "2  [3, 3, 3, 3, 3, 3, 3, 3, 3, 3, 3, 3, 3, 3, 3, ...  \n",
       "3  [4, 4, 4, 4, 4, 4, 4, 4, 4, 4, 4, 4, 4, 4, 4, ...  \n",
       "4  [5, 5, 5, 5, 5, 5, 5, 5, 5, 5, 5, 5, 5, 5, 5, ...  \n",
       "5  [6, 6, 6, 6, 6, 6, 6, 6, 6, 6, 6, 6, 6, 6, 6, ...  \n",
       "6  [7, 7, 7, 7, 7, 7, 7, 7, 7, 7, 7, 7, 7, 7, 7, ...  \n",
       "7  [8, 8, 8, 8, 8, 8, 8, 8, 8, 8, 8, 8, 8, 8, 8, ...  \n",
       "8  [9, 9, 9, 9, 9, 9, 9, 9, 9, 9, 9, 9, 9, 9, 9, ...  \n",
       "9  [10, 10, 10, 10, 10, 10, 10, 10, 10, 10, 10, 1...  "
      ]
     },
     "execution_count": 3,
     "metadata": {},
     "output_type": "execute_result"
    }
   ],
   "source": [
    "loaded_data = np.load('story_dataset_10.npz', allow_pickle = True)\n",
    "np_array = loaded_data['array']\n",
    "\n",
    "df = pd.DataFrame(np_array, columns = [\"prompt\", \"story\", \"hidden_states\", \"output_token_prompt_id\"])\n",
    "df"
   ]
  },
  {
   "cell_type": "code",
   "execution_count": 4,
   "metadata": {},
   "outputs": [
    {
     "data": {
      "text/plain": [
       "'Once upon a time there was a dragon named Blaze. Blaze was a friendly dragon. He lived in a big castle on a sunny hill. Blaze loved to play outside. He was very good at climbing trees.\\n\\nOne day, Blaze saw a tall pole in the garden. It was the tallest pole anyone had ever seen! Blaze thought it would be fun to climb up it. He wanted to reach the highest point of the pole. As he was trying, he said to himself, \"I will get to the pole quickly!\" But his friend, a bird named Sam, said, \"Wait, Blaze. Be careful! That pole is very high and very steep.\"\\n\\nBlaze did not listen to Sam. He kept climbing up the pole. He climbed and climbed until he was almost at the top. When he got there, he was very happy and said, \"I did it!\" But then, Blaze lost his footing and fell from the pole. He was very hurt.\\n\\nBert was very sad. He said, \"Why didn\\'t you listen to my warning, Blaze?\" Blaze said, \"Because I wanted to be the bravest dragon and climb that tall pole.\" The people who lived nearby saw Blaze crying and they said, \"Oh no! A big dragon is hurt!\" They took Blaze to the hospital and made him feel better.'"
      ]
     },
     "execution_count": 4,
     "metadata": {},
     "output_type": "execute_result"
    }
   ],
   "source": [
    "df.iloc[0]['story']"
   ]
  },
  {
   "cell_type": "code",
   "execution_count": null,
   "metadata": {},
   "outputs": [],
   "source": [
    "df.iloc[0]['hidden_states']"
   ]
  },
  {
   "cell_type": "code",
   "execution_count": null,
   "metadata": {},
   "outputs": [],
   "source": []
  }
 ],
 "metadata": {
  "kernelspec": {
   "display_name": "Python 3",
   "language": "python",
   "name": "python3"
  },
  "language_info": {
   "codemirror_mode": {
    "name": "ipython",
    "version": 3
   },
   "file_extension": ".py",
   "mimetype": "text/x-python",
   "name": "python",
   "nbconvert_exporter": "python",
   "pygments_lexer": "ipython3",
   "version": "3.7.4"
  }
 },
 "nbformat": 4,
 "nbformat_minor": 2
}
